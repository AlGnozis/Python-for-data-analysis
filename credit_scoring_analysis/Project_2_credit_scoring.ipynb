{
 "cells": [
  {
   "cell_type": "markdown",
   "metadata": {},
   "source": [
    "## **Описание проекта: Оценка рисков невозврата кредита**\n",
    "\n",
    "Банк «Скрудж» разрабатывает систему кредитного скоринга для оценки потенциальных заемщиков.\n",
    "\n",
    "Необходимо провести анализ исторических данных о платежной дисциплине клиентов для выявления факторов, влияющих на возврат кредита в срок."
   ]
  },
  {
   "cell_type": "markdown",
   "metadata": {},
   "source": [
    "### **Цель исследования**\n",
    "- Определить ключевые характеристики надежного заемщика\n",
    "- Выявить факторы риска невозврата кредита\n",
    "- Предоставить рекомендации для системы кредитного скоринга\n",
    "\n",
    "### **План исследования**\n",
    "1. Предварительный анализ данных\n",
    "   - Изучение структуры данных\n",
    "   - Проверка качества данных\n",
    "   - Обработка пропусков и аномалий\n",
    "\n",
    "2. Подготовка данных для анализа\n",
    "   - Преобразование типов данных\n",
    "   - Категоризация признаков\n",
    "   - Обработка дубликатов\n",
    "\n",
    "3. Исследовательский анализ\n",
    "   - Анализ распределений признаков\n",
    "   - Изучение взаимосвязей\n",
    "   - Выявление паттернов\n",
    "\n",
    "4. Проверка статистических гипотез\n",
    "   - О влиянии семейного положения\n",
    "   - О зависимости от количества детей\n",
    "   - О связи с уровнем дохода\n",
    "\n",
    "### **Описание данных**\n",
    "\n",
    "В наборе данных содержится информация о клиентах банка:\n",
    "\n",
    "- `children` — количество детей в семье;\n",
    "\n",
    "- `days_employed` — сколько дней работает клиент;\n",
    "\n",
    "- `dob_years` — возраст клиента;\n",
    "\n",
    "- `education` — уровень образования клиента;\n",
    "\n",
    "- `education_id` — идентификатор образования клиента;\n",
    "\n",
    "- `family_status` — семейное положение клиента;\n",
    "\n",
    "- `family_status_id` — идентификатор семейного положения клиента;\n",
    "\n",
    "- `gender` — пол клиента;\n",
    "\n",
    "- `income_type` — тип дохода клиента;\n",
    "\n",
    "- `debt` — был ли у клиента когда-либо просрочен платёж по кредиту;\n",
    "\n",
    "- `total_income` — ежемесячный доход;\n",
    "\n",
    "- `purpose` — причина оформления кредита."
   ]
  },
  {
   "cell_type": "markdown",
   "metadata": {},
   "source": [
    "---"
   ]
  },
  {
   "cell_type": "markdown",
   "metadata": {
    "tags": []
   },
   "source": [
    "## Шаг 1. **Первичный анализ данных**\n",
    "\n",
    "**Задачи этапа:**\n",
    "1. Загрузка и проверка целостности данных\n",
    "\n",
    "2. Создание рабочей копии датасета\n",
    "\n",
    "3. Анализ структуры данных:\n",
    "   - Проверка типов данных\n",
    "   - Соответствие типов содержимому\n",
    "   - Общие характеристики датасета\n",
    "   \n",
    "4. Формирование предварительных выводов\n",
    "\n",
    "**Ожидаемые результаты:**\n",
    "- Понимание структуры данных\n",
    "- Выявление потенциальных проблем с данными\n",
    "- План необходимых преобразований"
   ]
  },
  {
   "cell_type": "markdown",
   "metadata": {
    "tags": []
   },
   "source": [
    "### 1.1. **Импорт библиотек**"
   ]
  },
  {
   "cell_type": "code",
   "execution_count": 1,
   "metadata": {},
   "outputs": [
    {
     "data": {
      "text/html": [
       "<style>.container { width:75% !important; }</style>"
      ],
      "text/plain": [
       "<IPython.core.display.HTML object>"
      ]
     },
     "metadata": {},
     "output_type": "display_data"
    }
   ],
   "source": [
    "# Основные библиотеки для анализа данных\n",
    "import numpy as np\n",
    "import pandas as pd\n",
    "\n",
    "# Библиотеки для визуализации\n",
    "import matplotlib.pyplot as plt\n",
    "import plotly.express as px\n",
    "import seaborn as sns\n",
    "\n",
    "# Настройки отображения\n",
    "from IPython.display import display, HTML\n",
    "%matplotlib inline\n",
    "\n",
    "# Настройки для корректного отображения графиков\n",
    "plt.rcParams['figure.figsize'] = (10, 6)\n",
    "sns.set_theme(style=\"whitegrid\")\n",
    "\n",
    "# Настройка ширины отображения в ноутбуке\n",
    "display(HTML(\"<style>.container { width:75% !important; }</style>\"))"
   ]
  },
  {
   "cell_type": "markdown",
   "metadata": {},
   "source": [
    "### 1.2. **Загрузка данных**"
   ]
  },
  {
   "cell_type": "code",
   "execution_count": 2,
   "metadata": {
    "tags": []
   },
   "outputs": [
    {
     "data": {
      "text/html": [
       "<div>\n",
       "<style scoped>\n",
       "    .dataframe tbody tr th:only-of-type {\n",
       "        vertical-align: middle;\n",
       "    }\n",
       "\n",
       "    .dataframe tbody tr th {\n",
       "        vertical-align: top;\n",
       "    }\n",
       "\n",
       "    .dataframe thead th {\n",
       "        text-align: right;\n",
       "    }\n",
       "</style>\n",
       "<table border=\"1\" class=\"dataframe\">\n",
       "  <thead>\n",
       "    <tr style=\"text-align: right;\">\n",
       "      <th></th>\n",
       "      <th>children</th>\n",
       "      <th>days_employed</th>\n",
       "      <th>dob_years</th>\n",
       "      <th>education</th>\n",
       "      <th>education_id</th>\n",
       "      <th>family_status</th>\n",
       "      <th>family_status_id</th>\n",
       "      <th>gender</th>\n",
       "      <th>income_type</th>\n",
       "      <th>debt</th>\n",
       "      <th>total_income</th>\n",
       "      <th>purpose</th>\n",
       "    </tr>\n",
       "  </thead>\n",
       "  <tbody>\n",
       "    <tr>\n",
       "      <th>0</th>\n",
       "      <td>1</td>\n",
       "      <td>-8437.673028</td>\n",
       "      <td>42</td>\n",
       "      <td>bachelor's degree</td>\n",
       "      <td>0</td>\n",
       "      <td>married</td>\n",
       "      <td>0</td>\n",
       "      <td>F</td>\n",
       "      <td>employee</td>\n",
       "      <td>0</td>\n",
       "      <td>40620.102</td>\n",
       "      <td>purchase of the house</td>\n",
       "    </tr>\n",
       "    <tr>\n",
       "      <th>1</th>\n",
       "      <td>1</td>\n",
       "      <td>-4024.803754</td>\n",
       "      <td>36</td>\n",
       "      <td>secondary education</td>\n",
       "      <td>1</td>\n",
       "      <td>married</td>\n",
       "      <td>0</td>\n",
       "      <td>F</td>\n",
       "      <td>employee</td>\n",
       "      <td>0</td>\n",
       "      <td>17932.802</td>\n",
       "      <td>car purchase</td>\n",
       "    </tr>\n",
       "    <tr>\n",
       "      <th>2</th>\n",
       "      <td>0</td>\n",
       "      <td>-5623.422610</td>\n",
       "      <td>33</td>\n",
       "      <td>Secondary Education</td>\n",
       "      <td>1</td>\n",
       "      <td>married</td>\n",
       "      <td>0</td>\n",
       "      <td>M</td>\n",
       "      <td>employee</td>\n",
       "      <td>0</td>\n",
       "      <td>23341.752</td>\n",
       "      <td>purchase of the house</td>\n",
       "    </tr>\n",
       "    <tr>\n",
       "      <th>3</th>\n",
       "      <td>3</td>\n",
       "      <td>-4124.747207</td>\n",
       "      <td>32</td>\n",
       "      <td>secondary education</td>\n",
       "      <td>1</td>\n",
       "      <td>married</td>\n",
       "      <td>0</td>\n",
       "      <td>M</td>\n",
       "      <td>employee</td>\n",
       "      <td>0</td>\n",
       "      <td>42820.568</td>\n",
       "      <td>supplementary education</td>\n",
       "    </tr>\n",
       "    <tr>\n",
       "      <th>4</th>\n",
       "      <td>0</td>\n",
       "      <td>340266.072047</td>\n",
       "      <td>53</td>\n",
       "      <td>secondary education</td>\n",
       "      <td>1</td>\n",
       "      <td>civil partnership</td>\n",
       "      <td>1</td>\n",
       "      <td>F</td>\n",
       "      <td>retiree</td>\n",
       "      <td>0</td>\n",
       "      <td>25378.572</td>\n",
       "      <td>to have a wedding</td>\n",
       "    </tr>\n",
       "    <tr>\n",
       "      <th>...</th>\n",
       "      <td>...</td>\n",
       "      <td>...</td>\n",
       "      <td>...</td>\n",
       "      <td>...</td>\n",
       "      <td>...</td>\n",
       "      <td>...</td>\n",
       "      <td>...</td>\n",
       "      <td>...</td>\n",
       "      <td>...</td>\n",
       "      <td>...</td>\n",
       "      <td>...</td>\n",
       "      <td>...</td>\n",
       "    </tr>\n",
       "    <tr>\n",
       "      <th>21520</th>\n",
       "      <td>1</td>\n",
       "      <td>-4529.316663</td>\n",
       "      <td>43</td>\n",
       "      <td>secondary education</td>\n",
       "      <td>1</td>\n",
       "      <td>civil partnership</td>\n",
       "      <td>1</td>\n",
       "      <td>F</td>\n",
       "      <td>business</td>\n",
       "      <td>0</td>\n",
       "      <td>35966.698</td>\n",
       "      <td>housing transactions</td>\n",
       "    </tr>\n",
       "    <tr>\n",
       "      <th>21521</th>\n",
       "      <td>0</td>\n",
       "      <td>343937.404131</td>\n",
       "      <td>67</td>\n",
       "      <td>secondary education</td>\n",
       "      <td>1</td>\n",
       "      <td>married</td>\n",
       "      <td>0</td>\n",
       "      <td>F</td>\n",
       "      <td>retiree</td>\n",
       "      <td>0</td>\n",
       "      <td>24959.969</td>\n",
       "      <td>purchase of a car</td>\n",
       "    </tr>\n",
       "    <tr>\n",
       "      <th>21522</th>\n",
       "      <td>1</td>\n",
       "      <td>-2113.346888</td>\n",
       "      <td>38</td>\n",
       "      <td>secondary education</td>\n",
       "      <td>1</td>\n",
       "      <td>civil partnership</td>\n",
       "      <td>1</td>\n",
       "      <td>M</td>\n",
       "      <td>employee</td>\n",
       "      <td>1</td>\n",
       "      <td>14347.610</td>\n",
       "      <td>property</td>\n",
       "    </tr>\n",
       "    <tr>\n",
       "      <th>21523</th>\n",
       "      <td>3</td>\n",
       "      <td>-3112.481705</td>\n",
       "      <td>38</td>\n",
       "      <td>secondary education</td>\n",
       "      <td>1</td>\n",
       "      <td>married</td>\n",
       "      <td>0</td>\n",
       "      <td>M</td>\n",
       "      <td>employee</td>\n",
       "      <td>1</td>\n",
       "      <td>39054.888</td>\n",
       "      <td>buying my own car</td>\n",
       "    </tr>\n",
       "    <tr>\n",
       "      <th>21524</th>\n",
       "      <td>2</td>\n",
       "      <td>-1984.507589</td>\n",
       "      <td>40</td>\n",
       "      <td>secondary education</td>\n",
       "      <td>1</td>\n",
       "      <td>married</td>\n",
       "      <td>0</td>\n",
       "      <td>F</td>\n",
       "      <td>employee</td>\n",
       "      <td>0</td>\n",
       "      <td>13127.587</td>\n",
       "      <td>to buy a car</td>\n",
       "    </tr>\n",
       "  </tbody>\n",
       "</table>\n",
       "<p>21525 rows × 12 columns</p>\n",
       "</div>"
      ],
      "text/plain": [
       "       children  days_employed  dob_years            education  education_id  \\\n",
       "0             1   -8437.673028         42    bachelor's degree             0   \n",
       "1             1   -4024.803754         36  secondary education             1   \n",
       "2             0   -5623.422610         33  Secondary Education             1   \n",
       "3             3   -4124.747207         32  secondary education             1   \n",
       "4             0  340266.072047         53  secondary education             1   \n",
       "...         ...            ...        ...                  ...           ...   \n",
       "21520         1   -4529.316663         43  secondary education             1   \n",
       "21521         0  343937.404131         67  secondary education             1   \n",
       "21522         1   -2113.346888         38  secondary education             1   \n",
       "21523         3   -3112.481705         38  secondary education             1   \n",
       "21524         2   -1984.507589         40  secondary education             1   \n",
       "\n",
       "           family_status  family_status_id gender income_type  debt  \\\n",
       "0                married                 0      F    employee     0   \n",
       "1                married                 0      F    employee     0   \n",
       "2                married                 0      M    employee     0   \n",
       "3                married                 0      M    employee     0   \n",
       "4      civil partnership                 1      F     retiree     0   \n",
       "...                  ...               ...    ...         ...   ...   \n",
       "21520  civil partnership                 1      F    business     0   \n",
       "21521            married                 0      F     retiree     0   \n",
       "21522  civil partnership                 1      M    employee     1   \n",
       "21523            married                 0      M    employee     1   \n",
       "21524            married                 0      F    employee     0   \n",
       "\n",
       "       total_income                  purpose  \n",
       "0         40620.102    purchase of the house  \n",
       "1         17932.802             car purchase  \n",
       "2         23341.752    purchase of the house  \n",
       "3         42820.568  supplementary education  \n",
       "4         25378.572        to have a wedding  \n",
       "...             ...                      ...  \n",
       "21520     35966.698     housing transactions  \n",
       "21521     24959.969        purchase of a car  \n",
       "21522     14347.610                 property  \n",
       "21523     39054.888        buying my own car  \n",
       "21524     13127.587             to buy a car  \n",
       "\n",
       "[21525 rows x 12 columns]"
      ]
     },
     "execution_count": 2,
     "metadata": {},
     "output_type": "execute_result"
    }
   ],
   "source": [
    "df_raw = pd.read_csv('https://code.s3.yandex.net/datasets/credit_scoring_eng.csv')\n",
    "\n",
    "df_raw"
   ]
  },
  {
   "cell_type": "code",
   "execution_count": 3,
   "metadata": {
    "tags": []
   },
   "outputs": [],
   "source": [
    "# Создание рабочей копии датасета\n",
    "df = df_raw.copy()"
   ]
  },
  {
   "cell_type": "code",
   "execution_count": 4,
   "metadata": {
    "tags": []
   },
   "outputs": [
    {
     "name": "stdout",
     "output_type": "stream",
     "text": [
      "<class 'pandas.core.frame.DataFrame'>\n",
      "RangeIndex: 21525 entries, 0 to 21524\n",
      "Data columns (total 12 columns):\n",
      " #   Column            Non-Null Count  Dtype  \n",
      "---  ------            --------------  -----  \n",
      " 0   children          21525 non-null  int64  \n",
      " 1   days_employed     19351 non-null  float64\n",
      " 2   dob_years         21525 non-null  int64  \n",
      " 3   education         21525 non-null  object \n",
      " 4   education_id      21525 non-null  int64  \n",
      " 5   family_status     21525 non-null  object \n",
      " 6   family_status_id  21525 non-null  int64  \n",
      " 7   gender            21525 non-null  object \n",
      " 8   income_type       21525 non-null  object \n",
      " 9   debt              21525 non-null  int64  \n",
      " 10  total_income      19351 non-null  float64\n",
      " 11  purpose           21525 non-null  object \n",
      "dtypes: float64(2), int64(5), object(5)\n",
      "memory usage: 2.0+ MB\n"
     ]
    }
   ],
   "source": [
    "# Проверка информации о датасете\n",
    "df.info()"
   ]
  },
  {
   "cell_type": "markdown",
   "metadata": {},
   "source": [
    "### 1.3. **Анализ структуры данных**\n",
    "\n",
    "**Общая информация**\n",
    "- Размер датасета: 21,525 записей\n",
    "- Количество признаков: 12 столбцов\n",
    "\n",
    "**Пропущенные значения**\n",
    "| Столбец | Количество пропусков | % от общего |\n",
    "|---------|---------------------|-------------|\n",
    "| `days_employed` | 2,174 | 10.1% |\n",
    "| `total_income` | 2,174 | 10.1% |\n",
    "\n",
    "**Типы данных**\n",
    "1. **Числовые признаки**\n",
    "   - Целочисленные (int64):\n",
    "     * `children` - количество детей\n",
    "     * `dob_years` - возраст\n",
    "     * `education_id` - ID образования\n",
    "     * `family_status_id` - ID семейного положения\n",
    "     * `debt` - наличие долга\n",
    "   \n",
    "   - Вещественные (float64):\n",
    "     * `days_employed` - стаж работы\n",
    "     * `total_income` - доход\n",
    "\n",
    "2. **Категориальные признаки** (object):\n",
    "   * `education` - уровень образования\n",
    "   * `family_status` - семейное положение\n",
    "   * `gender` - пол\n",
    "   * `income_type` - тип дохода\n",
    "   * `purpose` - цель кредита\n",
    "\n",
    "**Предварительные выводы:**\n",
    "1. Датасет содержит достаточное количество записей для анализа\n",
    "\n",
    "2. Пропуски обнаружены только в числовых признаках (10.1% записей)\n",
    "\n",
    "3. Структура данных соответствует описанию задачи"
   ]
  },
  {
   "cell_type": "markdown",
   "metadata": {},
   "source": [
    "---"
   ]
  },
  {
   "cell_type": "markdown",
   "metadata": {},
   "source": [
    "## Шаг 2. Предобработка и очистка данных\n",
    "\n",
    "**Задачи этапа**\n",
    "1. **Обработка пропущенных значений**\n",
    "   - Анализ пропусков в `days_employed` и `total_income`\n",
    "   - Определение характера пропущенных значений\n",
    "   - Выбор и применение методов заполнения\n",
    "   - Валидация результатов заполнения\n",
    "\n",
    "2. **Оптимизация типов данных**\n",
    "   - Преобразование строковых столбцов в категориальные\n",
    "   - Проверка корректности преобразований\n",
    "   - Оценка оптимизации памяти\n",
    "\n",
    "3. **Обработка аномалий**\n",
    "   - Выявление и анализ выбросов\n",
    "   - Поиск и обработка дубликатов\n",
    "   - Проверка логической целостности данных\n",
    "\n",
    "**Методология**\n",
    "- Использование статистических методов для выявления выбросов\n",
    "- Применение бизнес-логики при обработке аномалий\n",
    "- Документирование всех принятых решений\n",
    "\n",
    "**Ожидаемые результаты**\n",
    "- Очищенный и оптимизированный набор данных\n",
    "- Задокументированные решения по обработке данных\n",
    "- Метрики качества предобработки\n",
    "- Оценка влияния преобразований на дальнейший анализ\n",
    "\n",
    "**Критерии качества**\n",
    "- Отсутствие необработанных пропусков\n",
    "- Оптимальное использование памяти\n",
    "- Сохранение информативности данных\n",
    "- Логическая непротиворечивость"
   ]
  },
  {
   "cell_type": "markdown",
   "metadata": {
    "tags": []
   },
   "source": [
    "### 2.1. **Поиск и изучение пропущенных значений в столбцах.**"
   ]
  },
  {
   "cell_type": "code",
   "execution_count": 5,
   "metadata": {
    "tags": []
   },
   "outputs": [
    {
     "data": {
      "text/plain": [
       "'Пропущенные значения в каждом столбце:'"
      ]
     },
     "metadata": {},
     "output_type": "display_data"
    },
    {
     "data": {
      "text/plain": [
       "children               0\n",
       "days_employed       2174\n",
       "dob_years              0\n",
       "education              0\n",
       "education_id           0\n",
       "family_status          0\n",
       "family_status_id       0\n",
       "gender                 0\n",
       "income_type            0\n",
       "debt                   0\n",
       "total_income        2174\n",
       "purpose                0\n",
       "dtype: int64"
      ]
     },
     "metadata": {},
     "output_type": "display_data"
    }
   ],
   "source": [
    "# Поиск пропущенных значений в столбцах\n",
    "missing_values = df.isnull().sum()\n",
    "display('Пропущенные значения в каждом столбце:', missing_values)"
   ]
  },
  {
   "cell_type": "code",
   "execution_count": 6,
   "metadata": {},
   "outputs": [
    {
     "data": {
      "text/plain": [
       "'Анализ пропущенных значений:'"
      ]
     },
     "metadata": {},
     "output_type": "display_data"
    },
    {
     "data": {
      "text/html": [
       "<div>\n",
       "<style scoped>\n",
       "    .dataframe tbody tr th:only-of-type {\n",
       "        vertical-align: middle;\n",
       "    }\n",
       "\n",
       "    .dataframe tbody tr th {\n",
       "        vertical-align: top;\n",
       "    }\n",
       "\n",
       "    .dataframe thead th {\n",
       "        text-align: right;\n",
       "    }\n",
       "</style>\n",
       "<table border=\"1\" class=\"dataframe\">\n",
       "  <thead>\n",
       "    <tr style=\"text-align: right;\">\n",
       "      <th></th>\n",
       "      <th>Количество пропусков</th>\n",
       "      <th>Процент пропусков</th>\n",
       "    </tr>\n",
       "  </thead>\n",
       "  <tbody>\n",
       "    <tr>\n",
       "      <th>days_employed</th>\n",
       "      <td>2174</td>\n",
       "      <td>10.1</td>\n",
       "    </tr>\n",
       "    <tr>\n",
       "      <th>total_income</th>\n",
       "      <td>2174</td>\n",
       "      <td>10.1</td>\n",
       "    </tr>\n",
       "  </tbody>\n",
       "</table>\n",
       "</div>"
      ],
      "text/plain": [
       "               Количество пропусков  Процент пропусков\n",
       "days_employed                  2174               10.1\n",
       "total_income                   2174               10.1"
      ]
     },
     "metadata": {},
     "output_type": "display_data"
    }
   ],
   "source": [
    "# Анализ пропущенных значений\n",
    "missing_values = df.isnull().sum().sort_values(ascending=False)\n",
    "missing_percentages = (df.isnull().sum() / len(df) * 100).sort_values(ascending=False)\n",
    "\n",
    "# Создаем DataFrame для удобного отображения\n",
    "missing_info = pd.DataFrame({\n",
    "    'Количество пропусков': missing_values,\n",
    "    'Процент пропусков': missing_percentages.round(2)\n",
    "}).query('`Количество пропусков` > 0')  # Показываем только столбцы с пропусками\n",
    "\n",
    "display('Анализ пропущенных значений:', missing_info)"
   ]
  },
  {
   "cell_type": "code",
   "execution_count": 7,
   "metadata": {},
   "outputs": [
    {
     "data": {
      "text/html": [
       "<h3>Анализ стажа работы (days_employed):</h3>"
      ],
      "text/plain": [
       "<IPython.core.display.HTML object>"
      ]
     },
     "metadata": {},
     "output_type": "display_data"
    },
    {
     "data": {
      "image/png": "[encoded data removed]",
      "text/plain": [
       "<Figure size 1000x600 with 1 Axes>"
      ]
     },
     "metadata": {},
     "output_type": "display_data"
    },
    {
     "data": {
      "text/plain": [
       "'Описательные статистики:'"
      ]
     },
     "metadata": {},
     "output_type": "display_data"
    },
    {
     "data": {
      "text/html": [
       "<div>\n",
       "<style scoped>\n",
       "    .dataframe tbody tr th:only-of-type {\n",
       "        vertical-align: middle;\n",
       "    }\n",
       "\n",
       "    .dataframe tbody tr th {\n",
       "        vertical-align: top;\n",
       "    }\n",
       "\n",
       "    .dataframe thead th {\n",
       "        text-align: right;\n",
       "    }\n",
       "</style>\n",
       "<table border=\"1\" class=\"dataframe\">\n",
       "  <thead>\n",
       "    <tr style=\"text-align: right;\">\n",
       "      <th></th>\n",
       "      <th>Значение</th>\n",
       "    </tr>\n",
       "  </thead>\n",
       "  <tbody>\n",
       "    <tr>\n",
       "      <th>count</th>\n",
       "      <td>19351.00</td>\n",
       "    </tr>\n",
       "    <tr>\n",
       "      <th>mean</th>\n",
       "      <td>63046.50</td>\n",
       "    </tr>\n",
       "    <tr>\n",
       "      <th>std</th>\n",
       "      <td>140827.31</td>\n",
       "    </tr>\n",
       "    <tr>\n",
       "      <th>min</th>\n",
       "      <td>-18388.95</td>\n",
       "    </tr>\n",
       "    <tr>\n",
       "      <th>25%</th>\n",
       "      <td>-2747.42</td>\n",
       "    </tr>\n",
       "    <tr>\n",
       "      <th>50%</th>\n",
       "      <td>-1203.37</td>\n",
       "    </tr>\n",
       "    <tr>\n",
       "      <th>75%</th>\n",
       "      <td>-291.10</td>\n",
       "    </tr>\n",
       "    <tr>\n",
       "      <th>max</th>\n",
       "      <td>401755.40</td>\n",
       "    </tr>\n",
       "  </tbody>\n",
       "</table>\n",
       "</div>"
      ],
      "text/plain": [
       "        Значение\n",
       "count   19351.00\n",
       "mean    63046.50\n",
       "std    140827.31\n",
       "min    -18388.95\n",
       "25%     -2747.42\n",
       "50%     -1203.37\n",
       "75%      -291.10\n",
       "max    401755.40"
      ]
     },
     "metadata": {},
     "output_type": "display_data"
    },
    {
     "data": {
      "text/plain": [
       "'Анализ выбросов:'"
      ]
     },
     "metadata": {},
     "output_type": "display_data"
    },
    {
     "data": {
      "text/html": [
       "<div>\n",
       "<style scoped>\n",
       "    .dataframe tbody tr th:only-of-type {\n",
       "        vertical-align: middle;\n",
       "    }\n",
       "\n",
       "    .dataframe tbody tr th {\n",
       "        vertical-align: top;\n",
       "    }\n",
       "\n",
       "    .dataframe thead th {\n",
       "        text-align: right;\n",
       "    }\n",
       "</style>\n",
       "<table border=\"1\" class=\"dataframe\">\n",
       "  <thead>\n",
       "    <tr style=\"text-align: right;\">\n",
       "      <th></th>\n",
       "      <th>Значение</th>\n",
       "    </tr>\n",
       "    <tr>\n",
       "      <th>Метрика</th>\n",
       "      <th></th>\n",
       "    </tr>\n",
       "  </thead>\n",
       "  <tbody>\n",
       "    <tr>\n",
       "      <th>Нижняя граница</th>\n",
       "      <td>-6431.92</td>\n",
       "    </tr>\n",
       "    <tr>\n",
       "      <th>Верхняя граница</th>\n",
       "      <td>3393.40</td>\n",
       "    </tr>\n",
       "    <tr>\n",
       "      <th>Количество выбросов</th>\n",
       "      <td>4467.00</td>\n",
       "    </tr>\n",
       "  </tbody>\n",
       "</table>\n",
       "</div>"
      ],
      "text/plain": [
       "                     Значение\n",
       "Метрика                      \n",
       "Нижняя граница       -6431.92\n",
       "Верхняя граница       3393.40\n",
       "Количество выбросов   4467.00"
      ]
     },
     "metadata": {},
     "output_type": "display_data"
    }
   ],
   "source": [
    "# Анализ распределения days_employed\n",
    "display(HTML(\"<h3>Анализ стажа работы (days_employed):</h3>\"))\n",
    "\n",
    "# Визуализация распределения\n",
    "plt.figure(figsize=(10, 6))\n",
    "sns.histplot(data=df, x='days_employed', bins=30, kde=True)\n",
    "plt.title('Распределение стажа работы')\n",
    "plt.xlabel('Стаж (дни)')\n",
    "plt.ylabel('Количество клиентов')\n",
    "plt.show()\n",
    "\n",
    "# Статистический анализ\n",
    "stats_df = pd.DataFrame(df['days_employed'].describe().round(2))\n",
    "stats_df.columns = ['Значение']\n",
    "display(\"Описательные статистики:\", stats_df)\n",
    "\n",
    "# Анализ выбросов\n",
    "q1 = df['days_employed'].quantile(0.25)\n",
    "q3 = df['days_employed'].quantile(0.75)\n",
    "iqr = q3 - q1\n",
    "lower_bound = q1 - 1.5 * iqr\n",
    "upper_bound = q3 + 1.5 * iqr\n",
    "outliers = df[(df['days_employed'] < lower_bound) | (df['days_employed'] > upper_bound)]['days_employed'].count()\n",
    "\n",
    "outliers_df = pd.DataFrame({\n",
    "    'Метрика': ['Нижняя граница', 'Верхняя граница', 'Количество выбросов'],\n",
    "    'Значение': [lower_bound.round(2), upper_bound.round(2), outliers]\n",
    "}).set_index('Метрика')\n",
    "\n",
    "display(\"Анализ выбросов:\", outliers_df)"
   ]
  },
  {
   "cell_type": "markdown",
   "metadata": {},
   "source": [
    "**Анализ стажа работы:**\n",
    "\n",
    "* В данных наблюдается два явных кластера значений:\n",
    "    - Основная группа со стажем около 0 дней (очень высокий пик)\n",
    "    - Небольшая группа со стажем около 350,000-400,000 дней\n",
    "* Распределение крайне нестандартное, что может указывать на ошибки в данных\n",
    "* Отрицательные значения стажа требуют дополнительной проверки и обработки\n",
    "* Возможно, требуется дополнительная проверка корректности данных, так как стаж ~1000 лет нереалистичен\n",
    "* 10.1% пропущенных значений требуют обработки"
   ]
  },
  {
   "cell_type": "code",
   "execution_count": 8,
   "metadata": {},
   "outputs": [
    {
     "data": {
      "text/html": [
       "<h3>Анализ ежемесячного дохода (total_income):</h3>"
      ],
      "text/plain": [
       "<IPython.core.display.HTML object>"
      ]
     },
     "metadata": {},
     "output_type": "display_data"
    },
    {
     "data": {
      "image/png": "[encoded data removed]",
      "text/plain": [
       "<Figure size 1000x600 with 1 Axes>"
      ]
     },
     "metadata": {},
     "output_type": "display_data"
    },
    {
     "data": {
      "text/plain": [
       "'Описательные статистики:'"
      ]
     },
     "metadata": {},
     "output_type": "display_data"
    },
    {
     "data": {
      "text/html": [
       "<div>\n",
       "<style scoped>\n",
       "    .dataframe tbody tr th:only-of-type {\n",
       "        vertical-align: middle;\n",
       "    }\n",
       "\n",
       "    .dataframe tbody tr th {\n",
       "        vertical-align: top;\n",
       "    }\n",
       "\n",
       "    .dataframe thead th {\n",
       "        text-align: right;\n",
       "    }\n",
       "</style>\n",
       "<table border=\"1\" class=\"dataframe\">\n",
       "  <thead>\n",
       "    <tr style=\"text-align: right;\">\n",
       "      <th></th>\n",
       "      <th>Значение</th>\n",
       "    </tr>\n",
       "  </thead>\n",
       "  <tbody>\n",
       "    <tr>\n",
       "      <th>count</th>\n",
       "      <td>19351.00</td>\n",
       "    </tr>\n",
       "    <tr>\n",
       "      <th>mean</th>\n",
       "      <td>26787.57</td>\n",
       "    </tr>\n",
       "    <tr>\n",
       "      <th>std</th>\n",
       "      <td>16475.45</td>\n",
       "    </tr>\n",
       "    <tr>\n",
       "      <th>min</th>\n",
       "      <td>3306.76</td>\n",
       "    </tr>\n",
       "    <tr>\n",
       "      <th>25%</th>\n",
       "      <td>16488.50</td>\n",
       "    </tr>\n",
       "    <tr>\n",
       "      <th>50%</th>\n",
       "      <td>23202.87</td>\n",
       "    </tr>\n",
       "    <tr>\n",
       "      <th>75%</th>\n",
       "      <td>32549.61</td>\n",
       "    </tr>\n",
       "    <tr>\n",
       "      <th>max</th>\n",
       "      <td>362496.64</td>\n",
       "    </tr>\n",
       "  </tbody>\n",
       "</table>\n",
       "</div>"
      ],
      "text/plain": [
       "        Значение\n",
       "count   19351.00\n",
       "mean    26787.57\n",
       "std     16475.45\n",
       "min      3306.76\n",
       "25%     16488.50\n",
       "50%     23202.87\n",
       "75%     32549.61\n",
       "max    362496.64"
      ]
     },
     "metadata": {},
     "output_type": "display_data"
    },
    {
     "data": {
      "text/plain": [
       "'Анализ выбросов:'"
      ]
     },
     "metadata": {},
     "output_type": "display_data"
    },
    {
     "data": {
      "text/html": [
       "<div>\n",
       "<style scoped>\n",
       "    .dataframe tbody tr th:only-of-type {\n",
       "        vertical-align: middle;\n",
       "    }\n",
       "\n",
       "    .dataframe tbody tr th {\n",
       "        vertical-align: top;\n",
       "    }\n",
       "\n",
       "    .dataframe thead th {\n",
       "        text-align: right;\n",
       "    }\n",
       "</style>\n",
       "<table border=\"1\" class=\"dataframe\">\n",
       "  <thead>\n",
       "    <tr style=\"text-align: right;\">\n",
       "      <th></th>\n",
       "      <th>Значение</th>\n",
       "    </tr>\n",
       "    <tr>\n",
       "      <th>Метрика</th>\n",
       "      <th></th>\n",
       "    </tr>\n",
       "  </thead>\n",
       "  <tbody>\n",
       "    <tr>\n",
       "      <th>Нижняя граница</th>\n",
       "      <td>-7603.16</td>\n",
       "    </tr>\n",
       "    <tr>\n",
       "      <th>Верхняя граница</th>\n",
       "      <td>56641.27</td>\n",
       "    </tr>\n",
       "    <tr>\n",
       "      <th>Количество выбросов</th>\n",
       "      <td>818.00</td>\n",
       "    </tr>\n",
       "  </tbody>\n",
       "</table>\n",
       "</div>"
      ],
      "text/plain": [
       "                     Значение\n",
       "Метрика                      \n",
       "Нижняя граница       -7603.16\n",
       "Верхняя граница      56641.27\n",
       "Количество выбросов    818.00"
      ]
     },
     "metadata": {},
     "output_type": "display_data"
    }
   ],
   "source": [
    "# Анализ распределения total_income\n",
    "display(HTML(\"<h3>Анализ ежемесячного дохода (total_income):</h3>\"))\n",
    "\n",
    "# Визуализация распределения\n",
    "plt.figure(figsize=(10, 6))\n",
    "sns.histplot(data=df, x='total_income', bins=30, kde=True)\n",
    "plt.title('Распределение ежемесячного дохода')\n",
    "plt.xlabel('Доход')\n",
    "plt.ylabel('Количество клиентов')\n",
    "plt.show()\n",
    "\n",
    "# Статистический анализ\n",
    "stats_df = pd.DataFrame(df['total_income'].describe().round(2))\n",
    "stats_df.columns = ['Значение']\n",
    "display(\"Описательные статистики:\", stats_df)\n",
    "\n",
    "# Анализ выбросов\n",
    "q1 = df['total_income'].quantile(0.25)\n",
    "q3 = df['total_income'].quantile(0.75)\n",
    "iqr = q3 - q1\n",
    "lower_bound = q1 - 1.5 * iqr\n",
    "upper_bound = q3 + 1.5 * iqr\n",
    "outliers = df[(df['total_income'] < lower_bound) | (df['total_income'] > upper_bound)]['total_income'].count()\n",
    "\n",
    "outliers_df = pd.DataFrame({\n",
    "    'Метрика': ['Нижняя граница', 'Верхняя граница', 'Количество выбросов'],\n",
    "    'Значение': [lower_bound.round(2), upper_bound.round(2), outliers]\n",
    "}).set_index('Метрика')\n",
    "\n",
    "display(\"Анализ выбросов:\", outliers_df)"
   ]
  },
  {
   "cell_type": "markdown",
   "metadata": {},
   "source": [
    "**Анализ распределения дохода (total_income):**\n",
    "\n",
    "* Распределение имеет ярко выраженную правостороннюю асимметрию\n",
    "* Основная масса клиентов (50%) имеет доход от 16,488 до 32,550 рублей\n",
    "* Медианный доход составляет 23,203 рубля\n",
    "* Присутствуют значительные выбросы (818 наблюдений) с доходом выше 56,641 рубля\n",
    "* Максимальное значение дохода (362,497 руб.) существенно превышает медиану, что требует дополнительной проверки"
   ]
  },
  {
   "cell_type": "code",
   "execution_count": 9,
   "metadata": {},
   "outputs": [
    {
     "name": "stdout",
     "output_type": "stream",
     "text": [
      "income_type\n",
      "employee         1105\n",
      "business          508\n",
      "retiree           413\n",
      "civil servant     147\n",
      "entrepreneur        1\n",
      "Name: count, dtype: int64\n",
      "\n",
      "income_type\n",
      "employee         1105\n",
      "business          508\n",
      "retiree           413\n",
      "civil servant     147\n",
      "entrepreneur        1\n",
      "Name: count, dtype: int64\n"
     ]
    }
   ],
   "source": [
    "# Проверка корреляции с другими переменными\n",
    "print(df[df['days_employed'].isnull()]['income_type'].value_counts())\n",
    "print()\n",
    "print(df[df['total_income'].isnull()]['income_type'].value_counts())"
   ]
  },
  {
   "cell_type": "markdown",
   "metadata": {},
   "source": [
    "Из анализа распределения пропусков в столбцах `days_employed` и `total_income` по типу дохода (`income_type`) можно сделать следующие выводы:\n",
    "\n",
    "1. **Наибольшее количество пропусков у сотрудников (employee)**:\n",
    "   - Сотрудники составляют наибольшую долю среди записей с пропусками. Это может указывать на то, что данные о стаже работы и доходах не всегда точно фиксируются или предоставляются для этой категории.\n",
    "\n",
    "2. **Значительное количество пропусков у владельцев бизнеса (business)**:\n",
    "   - Владельцы бизнеса также имеют значительное количество пропусков. Это может быть связано с тем, что доходы и стаж работы в бизнесе могут быть более вариативными и сложными для точного учета.\n",
    "\n",
    "3. **Пропуски у пенсионеров (retiree)**:\n",
    "   - Для пенсионеров пропуски в данных о стаже работы могут быть объяснимы, так как они уже не работают, и эти данные могут быть неактуальны.\n",
    "\n",
    "4. **Меньшее количество пропусков у госслужащих (civil servant)**:\n",
    "   - Госслужащие имеют меньше пропусков, что может свидетельствовать о более строгом учете данных в этой категории.\n",
    "\n",
    "5. **Единичный случай у предпринимателей (entrepreneur)**:\n",
    "   - Пропуск у предпринимателей встречается крайне редко, что может быть случайностью или особенностью учета данных для этой категории.\n",
    "\n",
    "**Локальные выводы:**\n",
    "- Пропуски в данных не случайны и связаны с определёнными типами занятости.\n",
    "- Это может указывать на систематические проблемы в сборе данных для определённых категорий клиентов.\n",
    "- При обработке пропусков стоит учитывать эти особенности, чтобы минимизировать искажения в анализе и моделировании.\n",
    "- Возможно, стоит рассмотреть индивидуальные стратегии обработки пропусков для каждой категории `income_type`, чтобы учесть их специфические особенности."
   ]
  },
  {
   "cell_type": "markdown",
   "metadata": {},
   "source": [
    "### 2.2. **Устранение пропущенных значений**\n"
   ]
  },
  {
   "cell_type": "markdown",
   "metadata": {},
   "source": [
    "**Стратегии устранения пропусков**\n",
    "\n",
    "1. `days_employed`:\n",
    "\n",
    "    * **Employee и Business**: Замена пропусков на медианное значение стажа работы внутри каждой категории поможет учесть типичные значения для каждой группы.\n",
    "\n",
    "    * **Retiree**: Пропуски можно оставить как есть или заменить на 0, так как стаж работы для пенсионеров может быть неактуален.\n",
    "\n",
    "    * **Civil Servant и Entrepreneur**: Также можно использовать медианное значение для каждой категории.\n",
    "2. `total_income`:\n",
    "\n",
    "    * **Employee и Business**: Замена пропусков на медианное значение дохода внутри каждой категории income_type поможет учесть типичные доходы для каждой группы.\n",
    "\n",
    "    * **Retiree**: Можно использовать медианное значение дохода для пенсионеров, чтобы учесть их типичный доход.\n",
    "    \n",
    "    * **Civil Servant и Entrepreneur**: Аналогично, используйте медианное значение для каждой категории.\n"
   ]
  },
  {
   "cell_type": "code",
   "execution_count": 10,
   "metadata": {
    "tags": []
   },
   "outputs": [],
   "source": [
    "# Устранение пропусков в 'days_employed'\n",
    "df['days_employed'] = df.groupby('income_type')['days_employed'].transform(lambda x: x.fillna(x.median()))\n",
    "\n",
    "# Устранение пропусков в 'total_income'\n",
    "df['total_income'] = df.groupby('income_type')['total_income'].transform(lambda x: x.fillna(x.median()))"
   ]
  },
  {
   "cell_type": "code",
   "execution_count": 11,
   "metadata": {},
   "outputs": [
    {
     "data": {
      "text/plain": [
       "children            0\n",
       "days_employed       0\n",
       "dob_years           0\n",
       "education           0\n",
       "education_id        0\n",
       "family_status       0\n",
       "family_status_id    0\n",
       "gender              0\n",
       "income_type         0\n",
       "debt                0\n",
       "total_income        0\n",
       "purpose             0\n",
       "dtype: int64"
      ]
     },
     "execution_count": 11,
     "metadata": {},
     "output_type": "execute_result"
    }
   ],
   "source": [
    "# Проверка наличия пропущенных значений после обработки\n",
    "df.isnull().sum()"
   ]
  },
  {
   "cell_type": "markdown",
   "metadata": {},
   "source": [
    "**Использование медианного значения помогает минимизировать влияние выбросов и сохранить распределение данных.**"
   ]
  },
  {
   "cell_type": "markdown",
   "metadata": {},
   "source": [
    "---"
   ]
  },
  {
   "cell_type": "markdown",
   "metadata": {},
   "source": [
    "### 2.3. **Уникальные значения в столбцах с уровнем образования и полом клиента**"
   ]
  },
  {
   "cell_type": "code",
   "execution_count": 12,
   "metadata": {
    "tags": []
   },
   "outputs": [
    {
     "name": "stdout",
     "output_type": "stream",
     "text": [
      "Уникальные значения в 'education': [\"bachelor's degree\" 'secondary education' 'Secondary Education'\n",
      " 'SECONDARY EDUCATION' \"BACHELOR'S DEGREE\" 'some college'\n",
      " 'primary education' \"Bachelor's Degree\" 'SOME COLLEGE' 'Some College'\n",
      " 'PRIMARY EDUCATION' 'Primary Education' 'Graduate Degree'\n",
      " 'GRADUATE DEGREE' 'graduate degree']\n"
     ]
    }
   ],
   "source": [
    "# Изучение уникальных значений в столбце 'education'\n",
    "unique_education = df['education'].unique()\n",
    "print(\"Уникальные значения в 'education':\", unique_education)"
   ]
  },
  {
   "cell_type": "code",
   "execution_count": 13,
   "metadata": {},
   "outputs": [],
   "source": [
    "# Приведение всех значений в 'education' к нижнему регистру для устранения дубликатов\n",
    "df['education'] = df['education'].str.lower()"
   ]
  },
  {
   "cell_type": "code",
   "execution_count": 14,
   "metadata": {},
   "outputs": [
    {
     "name": "stdout",
     "output_type": "stream",
     "text": [
      "Уникальные значения в 'education' после приведения к нижнему регистру: [\"bachelor's degree\" 'secondary education' 'some college'\n",
      " 'primary education' 'graduate degree']\n"
     ]
    }
   ],
   "source": [
    "# Повторное изучение уникальных значений после приведения к нижнему регистру\n",
    "unique_education_after = df['education'].unique()\n",
    "print(\"Уникальные значения в 'education' после приведения к нижнему регистру:\", unique_education_after)"
   ]
  },
  {
   "cell_type": "code",
   "execution_count": 15,
   "metadata": {},
   "outputs": [
    {
     "name": "stdout",
     "output_type": "stream",
     "text": [
      "Уникальные значения в 'gender': ['F' 'M' 'XNA']\n"
     ]
    }
   ],
   "source": [
    "# Изучение уникальных значений в столбце 'gender'\n",
    "unique_gender = df['gender'].unique()\n",
    "print(\"Уникальные значения в 'gender':\", unique_gender)"
   ]
  },
  {
   "cell_type": "code",
   "execution_count": 16,
   "metadata": {},
   "outputs": [],
   "source": [
    "# Приведение всех значений в 'gender' к нижнему регистру\n",
    "df['gender'] = df['gender'].str.lower()"
   ]
  },
  {
   "cell_type": "code",
   "execution_count": 17,
   "metadata": {},
   "outputs": [],
   "source": [
    "# Устранение некорректных значений в 'gender', например, если есть опечатки\n",
    "# Предположим, что корректные значения - 'f' и 'm'\n",
    "df = df[df['gender'].isin(['f', 'm'])]"
   ]
  },
  {
   "cell_type": "code",
   "execution_count": 18,
   "metadata": {},
   "outputs": [
    {
     "name": "stdout",
     "output_type": "stream",
     "text": [
      "Уникальные значения в 'gender' после устранения некорректных значений: ['f' 'm']\n"
     ]
    }
   ],
   "source": [
    "# Повторное изучение уникальных значений после устранения некорректных значений\n",
    "unique_gender_after = df['gender'].unique()\n",
    "print(\"Уникальные значения в 'gender' после устранения некорректных значений:\", unique_gender_after)"
   ]
  },
  {
   "cell_type": "code",
   "execution_count": 19,
   "metadata": {},
   "outputs": [
    {
     "data": {
      "text/html": [
       "<div>\n",
       "<style scoped>\n",
       "    .dataframe tbody tr th:only-of-type {\n",
       "        vertical-align: middle;\n",
       "    }\n",
       "\n",
       "    .dataframe tbody tr th {\n",
       "        vertical-align: top;\n",
       "    }\n",
       "\n",
       "    .dataframe thead th {\n",
       "        text-align: right;\n",
       "    }\n",
       "</style>\n",
       "<table border=\"1\" class=\"dataframe\">\n",
       "  <thead>\n",
       "    <tr style=\"text-align: right;\">\n",
       "      <th></th>\n",
       "      <th>children</th>\n",
       "      <th>days_employed</th>\n",
       "      <th>dob_years</th>\n",
       "      <th>education</th>\n",
       "      <th>education_id</th>\n",
       "      <th>family_status</th>\n",
       "      <th>family_status_id</th>\n",
       "      <th>gender</th>\n",
       "      <th>income_type</th>\n",
       "      <th>debt</th>\n",
       "      <th>total_income</th>\n",
       "      <th>purpose</th>\n",
       "    </tr>\n",
       "  </thead>\n",
       "  <tbody>\n",
       "    <tr>\n",
       "      <th>0</th>\n",
       "      <td>1</td>\n",
       "      <td>-8437.673028</td>\n",
       "      <td>42</td>\n",
       "      <td>bachelor's degree</td>\n",
       "      <td>0</td>\n",
       "      <td>married</td>\n",
       "      <td>0</td>\n",
       "      <td>f</td>\n",
       "      <td>employee</td>\n",
       "      <td>0</td>\n",
       "      <td>40620.102</td>\n",
       "      <td>purchase of the house</td>\n",
       "    </tr>\n",
       "    <tr>\n",
       "      <th>1</th>\n",
       "      <td>1</td>\n",
       "      <td>-4024.803754</td>\n",
       "      <td>36</td>\n",
       "      <td>secondary education</td>\n",
       "      <td>1</td>\n",
       "      <td>married</td>\n",
       "      <td>0</td>\n",
       "      <td>f</td>\n",
       "      <td>employee</td>\n",
       "      <td>0</td>\n",
       "      <td>17932.802</td>\n",
       "      <td>car purchase</td>\n",
       "    </tr>\n",
       "    <tr>\n",
       "      <th>2</th>\n",
       "      <td>0</td>\n",
       "      <td>-5623.422610</td>\n",
       "      <td>33</td>\n",
       "      <td>secondary education</td>\n",
       "      <td>1</td>\n",
       "      <td>married</td>\n",
       "      <td>0</td>\n",
       "      <td>m</td>\n",
       "      <td>employee</td>\n",
       "      <td>0</td>\n",
       "      <td>23341.752</td>\n",
       "      <td>purchase of the house</td>\n",
       "    </tr>\n",
       "    <tr>\n",
       "      <th>3</th>\n",
       "      <td>3</td>\n",
       "      <td>-4124.747207</td>\n",
       "      <td>32</td>\n",
       "      <td>secondary education</td>\n",
       "      <td>1</td>\n",
       "      <td>married</td>\n",
       "      <td>0</td>\n",
       "      <td>m</td>\n",
       "      <td>employee</td>\n",
       "      <td>0</td>\n",
       "      <td>42820.568</td>\n",
       "      <td>supplementary education</td>\n",
       "    </tr>\n",
       "    <tr>\n",
       "      <th>4</th>\n",
       "      <td>0</td>\n",
       "      <td>340266.072047</td>\n",
       "      <td>53</td>\n",
       "      <td>secondary education</td>\n",
       "      <td>1</td>\n",
       "      <td>civil partnership</td>\n",
       "      <td>1</td>\n",
       "      <td>f</td>\n",
       "      <td>retiree</td>\n",
       "      <td>0</td>\n",
       "      <td>25378.572</td>\n",
       "      <td>to have a wedding</td>\n",
       "    </tr>\n",
       "    <tr>\n",
       "      <th>5</th>\n",
       "      <td>0</td>\n",
       "      <td>-926.185831</td>\n",
       "      <td>27</td>\n",
       "      <td>bachelor's degree</td>\n",
       "      <td>0</td>\n",
       "      <td>civil partnership</td>\n",
       "      <td>1</td>\n",
       "      <td>m</td>\n",
       "      <td>business</td>\n",
       "      <td>0</td>\n",
       "      <td>40922.170</td>\n",
       "      <td>purchase of the house</td>\n",
       "    </tr>\n",
       "    <tr>\n",
       "      <th>6</th>\n",
       "      <td>0</td>\n",
       "      <td>-2879.202052</td>\n",
       "      <td>43</td>\n",
       "      <td>bachelor's degree</td>\n",
       "      <td>0</td>\n",
       "      <td>married</td>\n",
       "      <td>0</td>\n",
       "      <td>f</td>\n",
       "      <td>business</td>\n",
       "      <td>0</td>\n",
       "      <td>38484.156</td>\n",
       "      <td>housing transactions</td>\n",
       "    </tr>\n",
       "    <tr>\n",
       "      <th>7</th>\n",
       "      <td>0</td>\n",
       "      <td>-152.779569</td>\n",
       "      <td>50</td>\n",
       "      <td>secondary education</td>\n",
       "      <td>1</td>\n",
       "      <td>married</td>\n",
       "      <td>0</td>\n",
       "      <td>m</td>\n",
       "      <td>employee</td>\n",
       "      <td>0</td>\n",
       "      <td>21731.829</td>\n",
       "      <td>education</td>\n",
       "    </tr>\n",
       "    <tr>\n",
       "      <th>8</th>\n",
       "      <td>2</td>\n",
       "      <td>-6929.865299</td>\n",
       "      <td>35</td>\n",
       "      <td>bachelor's degree</td>\n",
       "      <td>0</td>\n",
       "      <td>civil partnership</td>\n",
       "      <td>1</td>\n",
       "      <td>f</td>\n",
       "      <td>employee</td>\n",
       "      <td>0</td>\n",
       "      <td>15337.093</td>\n",
       "      <td>having a wedding</td>\n",
       "    </tr>\n",
       "    <tr>\n",
       "      <th>9</th>\n",
       "      <td>0</td>\n",
       "      <td>-2188.756445</td>\n",
       "      <td>41</td>\n",
       "      <td>secondary education</td>\n",
       "      <td>1</td>\n",
       "      <td>married</td>\n",
       "      <td>0</td>\n",
       "      <td>m</td>\n",
       "      <td>employee</td>\n",
       "      <td>0</td>\n",
       "      <td>23108.150</td>\n",
       "      <td>purchase of the house for my family</td>\n",
       "    </tr>\n",
       "  </tbody>\n",
       "</table>\n",
       "</div>"
      ],
      "text/plain": [
       "   children  days_employed  dob_years            education  education_id  \\\n",
       "0         1   -8437.673028         42    bachelor's degree             0   \n",
       "1         1   -4024.803754         36  secondary education             1   \n",
       "2         0   -5623.422610         33  secondary education             1   \n",
       "3         3   -4124.747207         32  secondary education             1   \n",
       "4         0  340266.072047         53  secondary education             1   \n",
       "5         0    -926.185831         27    bachelor's degree             0   \n",
       "6         0   -2879.202052         43    bachelor's degree             0   \n",
       "7         0    -152.779569         50  secondary education             1   \n",
       "8         2   -6929.865299         35    bachelor's degree             0   \n",
       "9         0   -2188.756445         41  secondary education             1   \n",
       "\n",
       "       family_status  family_status_id gender income_type  debt  total_income  \\\n",
       "0            married                 0      f    employee     0     40620.102   \n",
       "1            married                 0      f    employee     0     17932.802   \n",
       "2            married                 0      m    employee     0     23341.752   \n",
       "3            married                 0      m    employee     0     42820.568   \n",
       "4  civil partnership                 1      f     retiree     0     25378.572   \n",
       "5  civil partnership                 1      m    business     0     40922.170   \n",
       "6            married                 0      f    business     0     38484.156   \n",
       "7            married                 0      m    employee     0     21731.829   \n",
       "8  civil partnership                 1      f    employee     0     15337.093   \n",
       "9            married                 0      m    employee     0     23108.150   \n",
       "\n",
       "                               purpose  \n",
       "0                purchase of the house  \n",
       "1                         car purchase  \n",
       "2                purchase of the house  \n",
       "3              supplementary education  \n",
       "4                    to have a wedding  \n",
       "5                purchase of the house  \n",
       "6                 housing transactions  \n",
       "7                            education  \n",
       "8                     having a wedding  \n",
       "9  purchase of the house for my family  "
      ]
     },
     "execution_count": 19,
     "metadata": {},
     "output_type": "execute_result"
    }
   ],
   "source": [
    "# Проверка данных\n",
    "df.head(10)"
   ]
  },
  {
   "cell_type": "markdown",
   "metadata": {},
   "source": [
    "---"
   ]
  },
  {
   "cell_type": "markdown",
   "metadata": {
    "tags": []
   },
   "source": [
    "### 2.4. **Проверка наличия дубликатов**\n"
   ]
  },
  {
   "cell_type": "code",
   "execution_count": 20,
   "metadata": {
    "tags": []
   },
   "outputs": [
    {
     "name": "stdout",
     "output_type": "stream",
     "text": [
      "Количество дубликатов: 71\n"
     ]
    }
   ],
   "source": [
    "# Проверка на наличие дубликатов\n",
    "duplicates = df.duplicated()\n",
    "print(f\"Количество дубликатов: {duplicates.sum()}\")"
   ]
  },
  {
   "cell_type": "code",
   "execution_count": 21,
   "metadata": {},
   "outputs": [
    {
     "name": "stdout",
     "output_type": "stream",
     "text": [
      "Дублированные строки:\n"
     ]
    },
    {
     "data": {
      "text/html": [
       "<div>\n",
       "<style scoped>\n",
       "    .dataframe tbody tr th:only-of-type {\n",
       "        vertical-align: middle;\n",
       "    }\n",
       "\n",
       "    .dataframe tbody tr th {\n",
       "        vertical-align: top;\n",
       "    }\n",
       "\n",
       "    .dataframe thead th {\n",
       "        text-align: right;\n",
       "    }\n",
       "</style>\n",
       "<table border=\"1\" class=\"dataframe\">\n",
       "  <thead>\n",
       "    <tr style=\"text-align: right;\">\n",
       "      <th></th>\n",
       "      <th>children</th>\n",
       "      <th>days_employed</th>\n",
       "      <th>dob_years</th>\n",
       "      <th>education</th>\n",
       "      <th>education_id</th>\n",
       "      <th>family_status</th>\n",
       "      <th>family_status_id</th>\n",
       "      <th>gender</th>\n",
       "      <th>income_type</th>\n",
       "      <th>debt</th>\n",
       "      <th>total_income</th>\n",
       "      <th>purpose</th>\n",
       "    </tr>\n",
       "  </thead>\n",
       "  <tbody>\n",
       "    <tr>\n",
       "      <th>2849</th>\n",
       "      <td>0</td>\n",
       "      <td>-1574.202821</td>\n",
       "      <td>41</td>\n",
       "      <td>secondary education</td>\n",
       "      <td>1</td>\n",
       "      <td>married</td>\n",
       "      <td>0</td>\n",
       "      <td>f</td>\n",
       "      <td>employee</td>\n",
       "      <td>0</td>\n",
       "      <td>22815.1035</td>\n",
       "      <td>purchase of the house for my family</td>\n",
       "    </tr>\n",
       "    <tr>\n",
       "      <th>3290</th>\n",
       "      <td>0</td>\n",
       "      <td>365213.306266</td>\n",
       "      <td>58</td>\n",
       "      <td>secondary education</td>\n",
       "      <td>1</td>\n",
       "      <td>civil partnership</td>\n",
       "      <td>1</td>\n",
       "      <td>f</td>\n",
       "      <td>retiree</td>\n",
       "      <td>0</td>\n",
       "      <td>18962.3180</td>\n",
       "      <td>to have a wedding</td>\n",
       "    </tr>\n",
       "    <tr>\n",
       "      <th>4182</th>\n",
       "      <td>1</td>\n",
       "      <td>-1574.202821</td>\n",
       "      <td>34</td>\n",
       "      <td>bachelor's degree</td>\n",
       "      <td>0</td>\n",
       "      <td>civil partnership</td>\n",
       "      <td>1</td>\n",
       "      <td>f</td>\n",
       "      <td>employee</td>\n",
       "      <td>0</td>\n",
       "      <td>22815.1035</td>\n",
       "      <td>wedding ceremony</td>\n",
       "    </tr>\n",
       "    <tr>\n",
       "      <th>4851</th>\n",
       "      <td>0</td>\n",
       "      <td>365213.306266</td>\n",
       "      <td>60</td>\n",
       "      <td>secondary education</td>\n",
       "      <td>1</td>\n",
       "      <td>civil partnership</td>\n",
       "      <td>1</td>\n",
       "      <td>f</td>\n",
       "      <td>retiree</td>\n",
       "      <td>0</td>\n",
       "      <td>18962.3180</td>\n",
       "      <td>wedding ceremony</td>\n",
       "    </tr>\n",
       "    <tr>\n",
       "      <th>5557</th>\n",
       "      <td>0</td>\n",
       "      <td>365213.306266</td>\n",
       "      <td>58</td>\n",
       "      <td>secondary education</td>\n",
       "      <td>1</td>\n",
       "      <td>civil partnership</td>\n",
       "      <td>1</td>\n",
       "      <td>f</td>\n",
       "      <td>retiree</td>\n",
       "      <td>0</td>\n",
       "      <td>18962.3180</td>\n",
       "      <td>to have a wedding</td>\n",
       "    </tr>\n",
       "    <tr>\n",
       "      <th>...</th>\n",
       "      <td>...</td>\n",
       "      <td>...</td>\n",
       "      <td>...</td>\n",
       "      <td>...</td>\n",
       "      <td>...</td>\n",
       "      <td>...</td>\n",
       "      <td>...</td>\n",
       "      <td>...</td>\n",
       "      <td>...</td>\n",
       "      <td>...</td>\n",
       "      <td>...</td>\n",
       "      <td>...</td>\n",
       "    </tr>\n",
       "    <tr>\n",
       "      <th>20702</th>\n",
       "      <td>0</td>\n",
       "      <td>365213.306266</td>\n",
       "      <td>64</td>\n",
       "      <td>secondary education</td>\n",
       "      <td>1</td>\n",
       "      <td>married</td>\n",
       "      <td>0</td>\n",
       "      <td>f</td>\n",
       "      <td>retiree</td>\n",
       "      <td>0</td>\n",
       "      <td>18962.3180</td>\n",
       "      <td>supplementary education</td>\n",
       "    </tr>\n",
       "    <tr>\n",
       "      <th>21032</th>\n",
       "      <td>0</td>\n",
       "      <td>365213.306266</td>\n",
       "      <td>60</td>\n",
       "      <td>secondary education</td>\n",
       "      <td>1</td>\n",
       "      <td>married</td>\n",
       "      <td>0</td>\n",
       "      <td>f</td>\n",
       "      <td>retiree</td>\n",
       "      <td>0</td>\n",
       "      <td>18962.3180</td>\n",
       "      <td>to become educated</td>\n",
       "    </tr>\n",
       "    <tr>\n",
       "      <th>21132</th>\n",
       "      <td>0</td>\n",
       "      <td>-1574.202821</td>\n",
       "      <td>47</td>\n",
       "      <td>secondary education</td>\n",
       "      <td>1</td>\n",
       "      <td>married</td>\n",
       "      <td>0</td>\n",
       "      <td>f</td>\n",
       "      <td>employee</td>\n",
       "      <td>0</td>\n",
       "      <td>22815.1035</td>\n",
       "      <td>housing renovation</td>\n",
       "    </tr>\n",
       "    <tr>\n",
       "      <th>21281</th>\n",
       "      <td>1</td>\n",
       "      <td>-1574.202821</td>\n",
       "      <td>30</td>\n",
       "      <td>bachelor's degree</td>\n",
       "      <td>0</td>\n",
       "      <td>married</td>\n",
       "      <td>0</td>\n",
       "      <td>f</td>\n",
       "      <td>employee</td>\n",
       "      <td>0</td>\n",
       "      <td>22815.1035</td>\n",
       "      <td>buy commercial real estate</td>\n",
       "    </tr>\n",
       "    <tr>\n",
       "      <th>21415</th>\n",
       "      <td>0</td>\n",
       "      <td>365213.306266</td>\n",
       "      <td>54</td>\n",
       "      <td>secondary education</td>\n",
       "      <td>1</td>\n",
       "      <td>married</td>\n",
       "      <td>0</td>\n",
       "      <td>f</td>\n",
       "      <td>retiree</td>\n",
       "      <td>0</td>\n",
       "      <td>18962.3180</td>\n",
       "      <td>housing transactions</td>\n",
       "    </tr>\n",
       "  </tbody>\n",
       "</table>\n",
       "<p>71 rows × 12 columns</p>\n",
       "</div>"
      ],
      "text/plain": [
       "       children  days_employed  dob_years            education  education_id  \\\n",
       "2849          0   -1574.202821         41  secondary education             1   \n",
       "3290          0  365213.306266         58  secondary education             1   \n",
       "4182          1   -1574.202821         34    bachelor's degree             0   \n",
       "4851          0  365213.306266         60  secondary education             1   \n",
       "5557          0  365213.306266         58  secondary education             1   \n",
       "...         ...            ...        ...                  ...           ...   \n",
       "20702         0  365213.306266         64  secondary education             1   \n",
       "21032         0  365213.306266         60  secondary education             1   \n",
       "21132         0   -1574.202821         47  secondary education             1   \n",
       "21281         1   -1574.202821         30    bachelor's degree             0   \n",
       "21415         0  365213.306266         54  secondary education             1   \n",
       "\n",
       "           family_status  family_status_id gender income_type  debt  \\\n",
       "2849             married                 0      f    employee     0   \n",
       "3290   civil partnership                 1      f     retiree     0   \n",
       "4182   civil partnership                 1      f    employee     0   \n",
       "4851   civil partnership                 1      f     retiree     0   \n",
       "5557   civil partnership                 1      f     retiree     0   \n",
       "...                  ...               ...    ...         ...   ...   \n",
       "20702            married                 0      f     retiree     0   \n",
       "21032            married                 0      f     retiree     0   \n",
       "21132            married                 0      f    employee     0   \n",
       "21281            married                 0      f    employee     0   \n",
       "21415            married                 0      f     retiree     0   \n",
       "\n",
       "       total_income                              purpose  \n",
       "2849     22815.1035  purchase of the house for my family  \n",
       "3290     18962.3180                    to have a wedding  \n",
       "4182     22815.1035                     wedding ceremony  \n",
       "4851     18962.3180                     wedding ceremony  \n",
       "5557     18962.3180                    to have a wedding  \n",
       "...             ...                                  ...  \n",
       "20702    18962.3180              supplementary education  \n",
       "21032    18962.3180                   to become educated  \n",
       "21132    22815.1035                   housing renovation  \n",
       "21281    22815.1035           buy commercial real estate  \n",
       "21415    18962.3180                 housing transactions  \n",
       "\n",
       "[71 rows x 12 columns]"
      ]
     },
     "metadata": {},
     "output_type": "display_data"
    }
   ],
   "source": [
    "# Изучение дублированных данных\n",
    "if duplicates.sum() > 0:\n",
    "    print(\"Дублированные строки:\")\n",
    "    display(df[duplicates])"
   ]
  },
  {
   "cell_type": "markdown",
   "metadata": {},
   "source": [
    "### 2.5. **Локальные выводы**\n",
    "1. **Наличие дубликатов**:\n",
    "    * В датасете обнаружено 71 дублированная строка. Это может указывать на ошибки в сборе данных или на то, что некоторые записи были добавлены несколько раз.\n",
    "\n",
    "2. **Характер дубликатов**:\n",
    "    * Дубликаты содержат одинаковые значения во всех столбцах, что указывает на полные копии записей.\n",
    "\n",
    "    * Это может быть результатом повторного импорта данных или ошибок в процессе сбора данных.\n",
    "\n",
    "3. **Возможные причины**:\n",
    "    * Дубликаты могут возникнуть из-за технических ошибок при загрузке данных.\n",
    "\n",
    "    * Возможно, данные были собраны из нескольких источников, и некоторые записи были дублированы."
   ]
  },
  {
   "cell_type": "code",
   "execution_count": 22,
   "metadata": {},
   "outputs": [],
   "source": [
    "# Удаление дубликатов\n",
    "df = df.drop_duplicates()"
   ]
  },
  {
   "cell_type": "code",
   "execution_count": 23,
   "metadata": {},
   "outputs": [
    {
     "name": "stdout",
     "output_type": "stream",
     "text": [
      "Количество дубликатов после удаления: 0\n"
     ]
    }
   ],
   "source": [
    "# Проверка, что дубликаты удалены\n",
    "print(f\"Количество дубликатов после удаления: {df.duplicated().sum()}\")"
   ]
  },
  {
   "cell_type": "code",
   "execution_count": 24,
   "metadata": {},
   "outputs": [
    {
     "name": "stdout",
     "output_type": "stream",
     "text": [
      "Размеры исходного датасета df_raw: (21525, 12)\n",
      "Размеры итогового датасета df: (21453, 12)\n",
      "Разница в количестве строк: 72\n",
      "Разница в количестве столбцов: 0\n"
     ]
    }
   ],
   "source": [
    "# Сравнение размеров исходного и итогового датасетов\n",
    "print(\"Размеры исходного датасета df_raw:\", df_raw.shape)\n",
    "print(\"Размеры итогового датасета df:\", df.shape)\n",
    "\n",
    "# Вывод разницы в количестве строк и столбцов\n",
    "rows_diff = df_raw.shape[0] - df.shape[0]\n",
    "cols_diff = df_raw.shape[1] - df.shape[1]\n",
    "\n",
    "print(f\"Разница в количестве строк: {rows_diff}\")\n",
    "print(f\"Разница в количестве столбцов: {cols_diff}\")"
   ]
  },
  {
   "cell_type": "markdown",
   "metadata": {},
   "source": [
    "---"
   ]
  },
  {
   "cell_type": "markdown",
   "metadata": {
    "tags": []
   },
   "source": [
    "## Шаг 3. Выбросы и аномальные значения"
   ]
  },
  {
   "cell_type": "markdown",
   "metadata": {},
   "source": [
    "### 3.1. **Анализ выбросов и аномальных значений**\n",
    "\n",
    "Для анализа выбросов и аномальных значений в столбцах `total_income`, `dob_years`, `children`, можем использовать визуализацию данных и статистические методы.\n",
    "\n",
    "**Шаги для анализа выбросов:**\n",
    "1. **Визуализация данных**: Используем гистограммы и боксплоты для визуального анализа распределения данных и выявления выбросов.\n",
    "\n",
    "2. **Статистический анализ**: Рассмотрим основные статистики, такие как среднее, медиана, и квартильные значения, чтобы определить выбросы.\n",
    "\n",
    "3. **Обработка выбросов**: Примем решение об удалении или корректировке выбросов на основе их влияния на данные."
   ]
  },
  {
   "cell_type": "code",
   "execution_count": 25,
   "metadata": {},
   "outputs": [
    {
     "data": {
      "image/png": "[encoded data removed]",
      "text/plain": [
       "<Figure size 1400x600 with 2 Axes>"
      ]
     },
     "metadata": {},
     "output_type": "display_data"
    },
    {
     "name": "stdout",
     "output_type": "stream",
     "text": [
      "Статистики для total_income:\n"
     ]
    },
    {
     "data": {
      "text/plain": [
       "count     21453.000000\n",
       "mean      26450.925155\n",
       "std       15710.277802\n",
       "min        3306.762000\n",
       "25%       17219.352000\n",
       "50%       22815.103500\n",
       "75%       31331.009000\n",
       "max      362496.645000\n",
       "Name: total_income, dtype: float64"
      ]
     },
     "metadata": {},
     "output_type": "display_data"
    },
    {
     "data": {
      "image/png": "[encoded data removed]",
      "text/plain": [
       "<Figure size 1400x600 with 2 Axes>"
      ]
     },
     "metadata": {},
     "output_type": "display_data"
    },
    {
     "name": "stdout",
     "output_type": "stream",
     "text": [
      "Статистики для dob_years:\n"
     ]
    },
    {
     "data": {
      "text/plain": [
       "count    21453.000000\n",
       "mean        43.272130\n",
       "std         12.570427\n",
       "min          0.000000\n",
       "25%         33.000000\n",
       "50%         42.000000\n",
       "75%         53.000000\n",
       "max         75.000000\n",
       "Name: dob_years, dtype: float64"
      ]
     },
     "metadata": {},
     "output_type": "display_data"
    },
    {
     "data": {
      "image/png": "[encoded data removed]",
      "text/plain": [
       "<Figure size 1400x600 with 2 Axes>"
      ]
     },
     "metadata": {},
     "output_type": "display_data"
    },
    {
     "name": "stdout",
     "output_type": "stream",
     "text": [
      "Статистики для children:\n"
     ]
    },
    {
     "data": {
      "text/plain": [
       "count    21453.000000\n",
       "mean         0.539971\n",
       "std          1.383471\n",
       "min         -1.000000\n",
       "25%          0.000000\n",
       "50%          0.000000\n",
       "75%          1.000000\n",
       "max         20.000000\n",
       "Name: children, dtype: float64"
      ]
     },
     "metadata": {},
     "output_type": "display_data"
    }
   ],
   "source": [
    "# Функция для визуализации и анализа выбросов\n",
    "def analyze_outliers(column_name):\n",
    "    plt.figure(figsize=(14, 6))\n",
    "\n",
    "    # Гистограмма\n",
    "    plt.subplot(1, 2, 1)\n",
    "    sns.histplot(df[column_name], bins=30, kde=True)\n",
    "    plt.title(f'Гистограмма {column_name}')\n",
    "\n",
    "    # Боксплот\n",
    "    plt.subplot(1, 2, 2)\n",
    "    sns.boxplot(x=df[column_name])\n",
    "    plt.title(f'Боксплот {column_name}')\n",
    "\n",
    "    plt.show()\n",
    "\n",
    "    # Вывод основных статистик\n",
    "    print(f\"Статистики для {column_name}:\")\n",
    "    display(df[column_name].describe())\n",
    "\n",
    "# Анализ столбца 'total_income'\n",
    "analyze_outliers('total_income')\n",
    "\n",
    "# Анализ столбца 'dob_years'\n",
    "analyze_outliers('dob_years')\n",
    "\n",
    "# Анализ столбца 'children'\n",
    "analyze_outliers('children')"
   ]
  },
  {
   "cell_type": "markdown",
   "metadata": {},
   "source": [
    "### 3.2. **Суммаризация данных, локальные выводы**\n",
    "`total_income`:\n",
    "* Распределение: Смещено вправо с длинным хвостом, что типично для доходов.\n",
    "* Выбросы: Значительные выбросы выше 75-го перцентиля, максимальное значение 362,496.\n",
    "* Среднее и медиана: Среднее (26,450) выше медианы (22,815), что указывает на влияние высоких значений.\n",
    "\n",
    "`dob_years`:\n",
    "* Аномалии: Минимальное значение 0, что указывает на некорректные данные.\n",
    "* Распределение: В основном в диапазоне от 33 до 53 лет.\n",
    "\n",
    "`children`:\n",
    "* Аномалии: Наличие отрицательного значения (-1) и очень большого значения (20), что может быть ошибкой.\n",
    "* Распределение: Большинство значений — 0 или 1 ребенок."
   ]
  },
  {
   "cell_type": "markdown",
   "metadata": {},
   "source": [
    "### 3.3. **Порядок дальнейших действий**\n",
    "1. Обработка выбросов в `total_income`:\n",
    "    * Рассмотрим логарифмическое преобразование для уменьшения влияния выбросов.\n",
    "    * Проверим, являются ли выбросы реальными данными или ошибками.\n",
    "2. Корректировка `dob_years`:\n",
    "    * Удалим или исправим записи с возрастом 0, так как это явно ошибка.\n",
    "3. Корректировка `children`:\n",
    "    * Исправим или удалим записи с отрицательным количеством детей и проверим обоснованность значений выше 5.\n",
    "4. Дополнительный анализ:\n",
    "    * Проведем корреляционный анализ, чтобы понять, как выбросы и аномалии влияют на взаимосвязи между переменными.\n",
    "    * Используем сегментацию данных для более детального анализа (например, по категориям дохода или возрасту)."
   ]
  },
  {
   "cell_type": "code",
   "execution_count": 26,
   "metadata": {},
   "outputs": [
    {
     "name": "stdout",
     "output_type": "stream",
     "text": [
      "Изменения в 'total_income' после логарифмического преобразования:\n"
     ]
    },
    {
     "data": {
      "text/plain": [
       "count    21305.000000\n",
       "mean        10.056149\n",
       "std          0.494634\n",
       "min          8.104027\n",
       "25%          9.753955\n",
       "50%         10.035222\n",
       "75%         10.352410\n",
       "max         12.800773\n",
       "Name: total_income_log, dtype: float64"
      ]
     },
     "metadata": {},
     "output_type": "display_data"
    },
    {
     "name": "stdout",
     "output_type": "stream",
     "text": [
      "\n",
      "Изменения в 'dob_years' после удаления некорректных значений:\n"
     ]
    },
    {
     "data": {
      "text/plain": [
       "count    21305.000000\n",
       "mean        43.478808\n",
       "std         12.243931\n",
       "min         19.000000\n",
       "25%         33.000000\n",
       "50%         43.000000\n",
       "75%         53.000000\n",
       "max         75.000000\n",
       "Name: dob_years, dtype: float64"
      ]
     },
     "metadata": {},
     "output_type": "display_data"
    },
    {
     "name": "stdout",
     "output_type": "stream",
     "text": [
      "\n",
      "Изменения в 'children' после корректировки:\n"
     ]
    },
    {
     "data": {
      "text/plain": [
       "count    21305.000000\n",
       "mean         0.472330\n",
       "std          0.751389\n",
       "min          0.000000\n",
       "25%          0.000000\n",
       "50%          0.000000\n",
       "75%          1.000000\n",
       "max          5.000000\n",
       "Name: children, dtype: float64"
      ]
     },
     "metadata": {},
     "output_type": "display_data"
    }
   ],
   "source": [
    "# Обработка выбросов в 'total_income'\n",
    "# Логарифмическое преобразование\n",
    "df['total_income_log'] = np.log1p(df['total_income'])\n",
    "\n",
    "# Корректировка 'dob_years'\n",
    "# Удаление записей с возрастом 0\n",
    "df = df[df['dob_years'] > 0]\n",
    "\n",
    "# Корректировка 'children'\n",
    "# Удаление записей с отрицательным количеством детей\n",
    "df = df[df['children'] >= 0]\n",
    "\n",
    "# Проверка обоснованности значений выше 5\n",
    "# Если необходимо, можно заменить значения выше 5 на медианное значение\n",
    "median_children = df[df['children'] <= 5]['children'].median()\n",
    "df.loc[df['children'] > 5, 'children'] = median_children\n",
    "\n",
    "# Проверка изменений\n",
    "print(\"Изменения в 'total_income' после логарифмического преобразования:\")\n",
    "display(df['total_income_log'].describe())\n",
    "\n",
    "print(\"\\nИзменения в 'dob_years' после удаления некорректных значений:\")\n",
    "display(df['dob_years'].describe())\n",
    "\n",
    "print(\"\\nИзменения в 'children' после корректировки:\")\n",
    "display(df['children'].describe())"
   ]
  },
  {
   "cell_type": "markdown",
   "metadata": {},
   "source": [
    "### 3.4. **Анализ изменений**\n",
    "`total_income_log`:\n",
    "* Распределение: Логарифмическое преобразование сгладило распределение, уменьшив влияние выбросов.\n",
    "* Среднее и медиана: Значения стали более сбалансированными, что улучшает анализ.\n",
    "\n",
    "`dob_years`:\n",
    "* Корректировка: Удаление некорректных значений (возраст 0) привело к более реалистичному распределению.\n",
    "* Диапазон: Возраст теперь варьируется от 19 до 75 лет.\n",
    "\n",
    "`children`:\n",
    "* Корректировка: Удаление и исправление аномальных значений (отрицательные и слишком большие) улучшило распределение.\n",
    "* Максимум: Значение ограничено до 5, что более реалистично."
   ]
  },
  {
   "cell_type": "markdown",
   "metadata": {},
   "source": [
    "---"
   ]
  },
  {
   "cell_type": "markdown",
   "metadata": {
    "tags": []
   },
   "source": [
    "\n",
    "## Шаг 4. Добавьте в таблицу новые столбцы\n",
    "\n"
   ]
  },
  {
   "cell_type": "markdown",
   "metadata": {
    "tags": []
   },
   "source": [
    "### 4.1. **Разделите клиентов на 5 категорий по уровню дохода:**\n",
    "- Без дохода — люди без работы и с нулевым доходом.\n",
    "- Очень низкий доход — люди, получающие ниже 14 процентиля от общего распределения дохода.\n",
    "- Низкий доход — люди, получающие между 14 и 34 процентилями от общего распределения дохода.\n",
    "- Средний доход — люди, получающие между 34 и 78 процентилями от общего распределения дохода.\n",
    "- Высокий доход — люди, получающие больше 78 процентиля от общего распределения дохода."
   ]
  },
  {
   "cell_type": "code",
   "execution_count": 27,
   "metadata": {
    "tags": []
   },
   "outputs": [
    {
     "name": "stdout",
     "output_type": "stream",
     "text": [
      "   total_income income_category\n",
      "0     40620.102         Высокий\n",
      "1     17932.802          Низкий\n",
      "2     23341.752         Средний\n",
      "3     42820.568         Высокий\n",
      "4     25378.572         Средний\n",
      "5     40922.170         Высокий\n",
      "6     38484.156         Высокий\n",
      "7     21731.829         Средний\n",
      "8     15337.093          Низкий\n",
      "9     23108.150         Средний\n"
     ]
    }
   ],
   "source": [
    "# Определение границ для категорий дохода\n",
    "income_bins = [\n",
    "    -1,  # Для учета нулевого дохода\n",
    "    0,\n",
    "    df['total_income'].quantile(0.14), \n",
    "    df['total_income'].quantile(0.34), \n",
    "    df['total_income'].quantile(0.78), \n",
    "    df['total_income'].max()\n",
    "]\n",
    "\n",
    "# Метки для категорий\n",
    "income_labels = ['Без дохода', 'Очень низкий', 'Низкий', 'Средний', 'Высокий']\n",
    "\n",
    "# Создание нового столбца с категориями дохода\n",
    "df['income_category'] = pd.cut(df['total_income'], bins=income_bins, labels=income_labels, include_lowest=True)\n",
    "\n",
    "# Проверка изменений\n",
    "print(df[['total_income', 'income_category']].head(10))"
   ]
  },
  {
   "cell_type": "markdown",
   "metadata": {
    "tags": []
   },
   "source": [
    "\n",
    "### 4.2. Разделите клиентов на две категории по возрасту: до 40 лет и после. Сохраните результат в колонке `age_category`.\n",
    "\n"
   ]
  },
  {
   "cell_type": "code",
   "execution_count": 28,
   "metadata": {
    "tags": []
   },
   "outputs": [
    {
     "name": "stdout",
     "output_type": "stream",
     "text": [
      "   dob_years age_category\n",
      "0         42     После 40\n",
      "1         36        До 40\n",
      "2         33        До 40\n",
      "3         32        До 40\n",
      "4         53     После 40\n",
      "5         27        До 40\n",
      "6         43     После 40\n",
      "7         50     После 40\n",
      "8         35        До 40\n",
      "9         41     После 40\n"
     ]
    }
   ],
   "source": [
    "# Создание нового столбца с категориями возраста\n",
    "df['age_category'] = pd.cut(df['dob_years'], bins=[0, 40, 100], labels=['До 40', 'После 40'], include_lowest=True)\n",
    "\n",
    "# Проверка изменений\n",
    "print(df[['dob_years', 'age_category']].head(10))"
   ]
  },
  {
   "cell_type": "markdown",
   "metadata": {
    "tags": []
   },
   "source": [
    "\n",
    "### 4.3. Разделите клиентов на несколько категорий по количеству детей: без детей, от одного до двух, от трёх и больше. Сохраните результат в колонке `childrens_category`.\n",
    "\n"
   ]
  },
  {
   "cell_type": "code",
   "execution_count": 29,
   "metadata": {
    "tags": []
   },
   "outputs": [
    {
     "name": "stdout",
     "output_type": "stream",
     "text": [
      "   children childrens_category\n",
      "0         1        1-2 ребенка\n",
      "1         1        1-2 ребенка\n",
      "2         0          Без детей\n",
      "3         3         3 и больше\n",
      "4         0          Без детей\n",
      "5         0          Без детей\n",
      "6         0          Без детей\n",
      "7         0          Без детей\n",
      "8         2        1-2 ребенка\n",
      "9         0          Без детей\n"
     ]
    }
   ],
   "source": [
    "# Определение границ для категорий по количеству детей\n",
    "children_bins = [-1, 0, 2, float('inf')]\n",
    "\n",
    "# Метки для категорий\n",
    "children_labels = ['Без детей', '1-2 ребенка', '3 и больше']\n",
    "\n",
    "# Создание нового столбца с категориями по количеству детей\n",
    "df['childrens_category'] = pd.cut(df['children'], bins=children_bins, labels=children_labels, include_lowest=True)\n",
    "\n",
    "# Проверка изменений\n",
    "print(df[['children', 'childrens_category']].head(10))"
   ]
  },
  {
   "cell_type": "markdown",
   "metadata": {},
   "source": [
    "---"
   ]
  },
  {
   "cell_type": "markdown",
   "metadata": {
    "tags": []
   },
   "source": [
    "\n",
    "## Шаг 5. Исследовательский анализ данных"
   ]
  },
  {
   "cell_type": "markdown",
   "metadata": {},
   "source": [
    "### 5.1. **Исследование факторов**\n",
    "1. **Сводные таблицы**: Создадим сводные таблицы для каждого фактора, чтобы увидеть долю должников в каждой категории.\n",
    "\n",
    "2. **Визуализация**: Построим графики для наглядного сравнения распределения между должниками и недолжниками."
   ]
  },
  {
   "cell_type": "code",
   "execution_count": 30,
   "metadata": {
    "scrolled": true,
    "tags": []
   },
   "outputs": [
    {
     "name": "stdout",
     "output_type": "stream",
     "text": [
      "Сводная таблица для income_category:\n",
      "                  Доля должников  Количество клиентов\n",
      "income_category                                     \n",
      "Очень низкий           0.076768                 2983\n",
      "Низкий                 0.084957                 4261\n",
      "Средний                0.086729                 9374\n",
      "Высокий                0.069981                 4687\n",
      "Без дохода                  NaN                    0\n"
     ]
    },
    {
     "data": {
      "image/png": "[encoded data removed]",
      "text/plain": [
       "<Figure size 1000x500 with 1 Axes>"
      ]
     },
     "metadata": {},
     "output_type": "display_data"
    },
    {
     "name": "stdout",
     "output_type": "stream",
     "text": [
      "Сводная таблица для education:\n",
      "                      Доля должников  Количество клиентов\n",
      "education                                               \n",
      "bachelor's degree          0.053208                 5206\n",
      "graduate degree            0.000000                    6\n",
      "primary education          0.109929                  282\n",
      "secondary education        0.089974                15071\n",
      "some college               0.091892                  740\n"
     ]
    },
    {
     "data": {
      "image/png": "[encoded data removed]",
      "text/plain": [
       "<Figure size 1000x500 with 1 Axes>"
      ]
     },
     "metadata": {},
     "output_type": "display_data"
    },
    {
     "name": "stdout",
     "output_type": "stream",
     "text": [
      "Сводная таблица для age_category:\n",
      "               Доля должников  Количество клиентов\n",
      "age_category                                     \n",
      "До 40               0.100573                 9426\n",
      "После 40            0.065999                11879\n"
     ]
    },
    {
     "data": {
      "image/png": "[encoded data removed]",
      "text/plain": [
       "<Figure size 1000x500 with 1 Axes>"
      ]
     },
     "metadata": {},
     "output_type": "display_data"
    },
    {
     "name": "stdout",
     "output_type": "stream",
     "text": [
      "Сводная таблица для childrens_category:\n",
      "                     Доля должников  Количество клиентов\n",
      "childrens_category                                     \n",
      "Без детей                 0.075624                14096\n",
      "1-2 ребенка               0.092959                 6831\n",
      "3 и больше                0.082011                  378\n"
     ]
    },
    {
     "data": {
      "image/png": "[encoded data removed]",
      "text/plain": [
       "<Figure size 1000x500 with 1 Axes>"
      ]
     },
     "metadata": {},
     "output_type": "display_data"
    }
   ],
   "source": [
    "# Функция для построения сводной таблицы и графика\n",
    "def analyze_factor(factor):\n",
    "    # Сводная таблица\n",
    "    pivot_table = df.pivot_table(index=factor, values='debt', aggfunc=['mean', 'count'], observed=False)\n",
    "    pivot_table.columns = ['Доля должников', 'Количество клиентов']\n",
    "    print(f\"Сводная таблица для {factor}:\\n\", pivot_table)\n",
    "    \n",
    "    # График\n",
    "    plt.figure(figsize=(10, 5))\n",
    "    sns.barplot(x=pivot_table.index, y='Доля должников', data=pivot_table)\n",
    "    plt.title(f'Доля должников по {factor}')\n",
    "    plt.xticks(rotation=45)\n",
    "    plt.show()\n",
    "\n",
    "# Анализ по уровню дохода\n",
    "analyze_factor('income_category')\n",
    "\n",
    "# Анализ по образованию\n",
    "analyze_factor('education')\n",
    "\n",
    "# Анализ по возрасту\n",
    "analyze_factor('age_category')\n",
    "\n",
    "# Анализ по количеству детей\n",
    "analyze_factor('childrens_category')"
   ]
  },
  {
   "cell_type": "markdown",
   "metadata": {
    "tags": []
   },
   "source": [
    "### 5.2. **Суммаризация данных, локальные выводы**\n",
    "`income_category`:\n",
    "* Доля должников: Наибольшая доля должников наблюдается в категориях \"Низкий\" и \"Средний\" доход (около 8.5% и 8.7% соответственно).\n",
    "* Тенденция: Доля должников снижается в категории \"Высокий\" доход (около 7%).\n",
    "\n",
    "`education`:\n",
    "* Доля должников: Наименьшая доля должников среди клиентов с \"bachelor's degree\" (около 5.3%).\n",
    "* Тенденция: Наибольшая доля должников среди клиентов с \"primary education\" (около 11%).\n",
    "\n",
    "`age_category`:\n",
    "*  Доля должников: Молодые клиенты (до 40 лет) имеют более высокую долю должников (около 10%) по сравнению с более старшими клиентами (около 6.6%).\n",
    "\n",
    "`childrens_category`:\n",
    "* Доля должников: Клиенты с 1-2 детьми имеют более высокую долю должников (около 9.3%) по сравнению с клиентами без детей (около 7.6%).\n",
    "\n",
    "\n",
    "**Выводы:**\n",
    "1. **Доход**: Клиенты с низким и средним доходом более склонны к просрочкам, что может указывать на финансовые трудности.\n",
    "\n",
    "2. **Образование**: Более высокий уровень образования (например, \"bachelor's degree\") связан с меньшей долей должников, что может свидетельствовать о лучшем управлении финансами.\n",
    "\n",
    "3. **Возраст**: Молодые клиенты чаще оказываются должниками, возможно, из-за меньшего опыта в управлении финансами.\n",
    "\n",
    "4. **Дети**: Наличие 1-2 детей связано с более высокой долей должников, что может указывать на дополнительные финансовые обязательства."
   ]
  },
  {
   "cell_type": "markdown",
   "metadata": {
    "tags": []
   },
   "source": [
    "***Проверьте исследовательскую гипотезу***: у клиентов с детьми более высокий уровень финансовой ответственности и, следовательно, более низкий риск просрочек по кредиту. "
   ]
  },
  {
   "cell_type": "markdown",
   "metadata": {},
   "source": [
    "### 5.3. **Проверка гипотезы №1**\n",
    "\n",
    "**Шаги для проверки гипотезы**\n",
    "1. **Сводная таблица**: Создадим сводную таблицу, чтобы увидеть долю должников в каждой категории по количеству детей.\n",
    "\n",
    "2. **Визуализация**: Построим график для наглядного сравнения."
   ]
  },
  {
   "cell_type": "code",
   "execution_count": 31,
   "metadata": {
    "tags": []
   },
   "outputs": [
    {
     "name": "stdout",
     "output_type": "stream",
     "text": [
      "Сводная таблица по количеству детей:\n",
      "                     Доля должников  Количество клиентов\n",
      "childrens_category                                     \n",
      "Без детей                 0.075624                14096\n",
      "1-2 ребенка               0.092959                 6831\n",
      "3 и больше                0.082011                  378\n"
     ]
    }
   ],
   "source": [
    "# Сводная таблица по количеству детей\n",
    "children_pivot = df.pivot_table(index='childrens_category', values='debt', aggfunc=['mean', 'count'], observed=False)\n",
    "children_pivot.columns = ['Доля должников', 'Количество клиентов']\n",
    "print(\"Сводная таблица по количеству детей:\\n\", children_pivot)"
   ]
  },
  {
   "cell_type": "code",
   "execution_count": 32,
   "metadata": {},
   "outputs": [
    {
     "data": {
      "image/png": "[encoded data removed]",
      "text/plain": [
       "<Figure size 800x800 with 1 Axes>"
      ]
     },
     "metadata": {},
     "output_type": "display_data"
    }
   ],
   "source": [
    "# Визуализация с круговой диаграммой\n",
    "plt.figure(figsize=(8, 8))\n",
    "plt.pie(children_pivot['Доля должников'], labels=children_pivot.index, autopct='%1.1f%%', startangle=140)\n",
    "plt.title('Доля должников по количеству детей')\n",
    "plt.axis('equal')  # Для круговой формы\n",
    "plt.show()"
   ]
  },
  {
   "cell_type": "markdown",
   "metadata": {},
   "source": [
    "**Вывод**\n",
    "\n",
    "На основе проведенного анализа можно сделать следующие выводы:\n",
    "* **Доход**: Клиенты с низким и средним доходом имеют более высокую долю должников. Это может указывать на финансовые трудности в этих группах.\n",
    "\n",
    "* **Образование**: Более высокий уровень образования, например, \"bachelor's degree\", связан с меньшей долей должников. Это может свидетельствовать о лучшем управлении финансами среди более образованных клиентов.\n",
    "\n",
    "* **Возраст**: Молодые клиенты (до 40 лет) чаще оказываются должниками. Это может быть связано с меньшим опытом в управлении финансами.\n",
    "\n",
    "* **Дети**: Наличие 1-2 детей связано с более высокой долей должников, что может указывать на дополнительные финансовые обязательства.\n",
    "\n",
    "\n",
    "**Гипотеза о детях**:\n",
    "\n",
    "Гипотеза о том, что у клиентов с детьми более высокий уровень финансовой ответственности, не подтвердилась.  \n",
    "Клиенты с 1-2 детьми имеют более высокую долю должников по сравнению с клиентами без детей."
   ]
  },
  {
   "cell_type": "markdown",
   "metadata": {},
   "source": [
    "---"
   ]
  },
  {
   "cell_type": "markdown",
   "metadata": {
    "tags": []
   },
   "source": [
    "***Проверьте исследовательскую гипотезу***: одинокие мужчины с низким доходом чаще оказываются должниками, чем семейные мужчины со средним доходом."
   ]
  },
  {
   "cell_type": "markdown",
   "metadata": {
    "tags": []
   },
   "source": [
    "### 5.3. **Проверка гипотезы №2**\n",
    "\n",
    "**Шаги для проверки гипотезы**\n",
    "1. **Фильтрация данных**: Разделим данные на группы по семейному положению, полу и уровню дохода.\n",
    "\n",
    "2. **Сводная таблица**: Создадим сводную таблицу для каждой группы, чтобы увидеть долю должников.\n",
    "\n",
    "3. **Сравнение**: Сравним доли должников в каждой группе.\n"
   ]
  },
  {
   "cell_type": "code",
   "execution_count": 33,
   "metadata": {},
   "outputs": [
    {
     "name": "stdout",
     "output_type": "stream",
     "text": [
      "Количество одиноких мужчин: 1070\n",
      "Количество семейных мужчин: 4555\n"
     ]
    }
   ],
   "source": [
    "# Фильтрация данных\n",
    "single_men = df[(df['family_status'] == 'unmarried') & (df['gender'] == 'm')]\n",
    "married_men = df[(df['family_status'] == 'married') & (df['gender'] == 'm')]\n",
    "\n",
    "# Проверка наличия данных\n",
    "print(\"Количество одиноких мужчин:\", len(single_men))\n",
    "print(\"Количество семейных мужчин:\", len(married_men))"
   ]
  },
  {
   "cell_type": "code",
   "execution_count": 34,
   "metadata": {},
   "outputs": [
    {
     "name": "stdout",
     "output_type": "stream",
     "text": [
      "Одинокие мужчины:\n",
      "                  Доля должников\n",
      "income_category                \n",
      "Очень низкий           0.174419\n",
      "Низкий                 0.166667\n",
      "Средний                0.135397\n",
      "Высокий                0.139373\n"
     ]
    }
   ],
   "source": [
    "# Сводная таблица для одиноких мужчин\n",
    "single_men_pivot = single_men.pivot_table(index='income_category', values='debt', aggfunc='mean', observed=False)\n",
    "single_men_pivot.columns = ['Доля должников']\n",
    "print(\"Одинокие мужчины:\\n\", single_men_pivot)"
   ]
  },
  {
   "cell_type": "code",
   "execution_count": 35,
   "metadata": {},
   "outputs": [
    {
     "name": "stdout",
     "output_type": "stream",
     "text": [
      "Семейные мужчины:\n",
      "                  Доля должников\n",
      "income_category                \n",
      "Очень низкий           0.108911\n",
      "Низкий                 0.084084\n",
      "Средний                0.097651\n",
      "Высокий                0.069965\n"
     ]
    }
   ],
   "source": [
    "# Сводная таблица для семейных мужчин\n",
    "married_men_pivot = married_men.pivot_table(index='income_category', values='debt', aggfunc='mean', observed=False)\n",
    "married_men_pivot.columns = ['Доля должников']\n",
    "print(\"Семейные мужчины:\\n\", married_men_pivot)"
   ]
  },
  {
   "cell_type": "markdown",
   "metadata": {},
   "source": [
    "**Для визуализации соотношения данных категорий можно построим столбчатую диаграмму**"
   ]
  },
  {
   "cell_type": "code",
   "execution_count": 36,
   "metadata": {},
   "outputs": [
    {
     "data": {
      "image/png": "[encoded data removed]",
      "text/plain": [
       "<Figure size 1000x600 with 1 Axes>"
      ]
     },
     "metadata": {},
     "output_type": "display_data"
    }
   ],
   "source": [
    "# Объединение данных для визуализации\n",
    "categories = single_men_pivot.index\n",
    "single_men_debt = single_men_pivot['Доля должников']\n",
    "married_men_debt = married_men_pivot['Доля должников']\n",
    "\n",
    "x = np.arange(len(categories))  # Местоположение категорий\n",
    "width = 0.35  # Ширина столбцов\n",
    "\n",
    "fig, ax = plt.subplots(figsize=(10, 6))\n",
    "rects1 = ax.bar(x - width/2, single_men_debt, width, label='Одинокие мужчины')\n",
    "rects2 = ax.bar(x + width/2, married_men_debt, width, label='Семейные мужчины')\n",
    "\n",
    "# Добавление подписей и меток\n",
    "ax.set_ylabel('Доля должников')\n",
    "ax.set_title('Доля должников по категориям дохода')\n",
    "ax.set_xticks(x)\n",
    "ax.set_xticklabels(categories)\n",
    "ax.legend()\n",
    "\n",
    "# Функция для добавления значений над столбцами\n",
    "def autolabel(rects):\n",
    "    for rect in rects:\n",
    "        height = rect.get_height()\n",
    "        ax.annotate(f'{height:.2f}',\n",
    "                    xy=(rect.get_x() + rect.get_width() / 2, height),\n",
    "                    xytext=(0, 3),  # Смещение текста\n",
    "                    textcoords=\"offset points\",\n",
    "                    ha='center', va='bottom')\n",
    "\n",
    "autolabel(rects1)\n",
    "autolabel(rects2)\n",
    "\n",
    "plt.show()"
   ]
  },
  {
   "cell_type": "markdown",
   "metadata": {},
   "source": [
    "**Вывод**\n",
    "\n",
    "На основе проведенного анализа можно сделать следующие выводы:\n",
    "* Одинокие мужчины с низким доходом: Доля должников в категории \"Низкий\" доход составляет 16.67%.\n",
    "\n",
    "* Семейные мужчины со средним доходом: Доля должников в категории \"Средний\" доход составляет 13.54%.\n",
    "\n",
    "**Заключение**\n",
    "\n",
    "Гипотеза подтверждается: одинокие мужчины с низким доходом действительно чаще оказываются должниками, чем семейные мужчины со средним доходом.\n",
    "\n",
    "Это может быть связано с тем, что семейные мужчины имеют более стабильную финансовую поддержку и ответственность."
   ]
  },
  {
   "cell_type": "markdown",
   "metadata": {},
   "source": [
    "---"
   ]
  },
  {
   "cell_type": "markdown",
   "metadata": {
    "tags": []
   },
   "source": [
    "## Шаг 6. Общий вывод"
   ]
  },
  {
   "cell_type": "markdown",
   "metadata": {
    "tags": []
   },
   "source": [
    "### 6.1. **Вывод**\n",
    "\n",
    "На основе проведенного анализа данных клиентов банка можно сделать следующие выводы:\n",
    "\n",
    "1. **Доход**: Клиенты с низким и средним доходом имеют более высокую долю должников. Это может указывать на финансовые трудности в этих группах, что требует более тщательной оценки их платежеспособности.\n",
    "\n",
    "2. **Образование**: Более высокий уровень образования, например, \"bachelor's degree\", связан с меньшей долей должников. Это может свидетельствовать о лучшем управлении финансами среди более образованных клиентов.\n",
    "\n",
    "3. **Возраст**: Молодые клиенты (до 40 лет) чаще оказываются должниками. Это может быть связано с меньшим опытом в управлении финансами, что указывает на необходимость финансового консультирования для этой группы.\n",
    "\n",
    "4. **Дети**: Наличие 1-2 детей связано с более высокой долей должников, что может указывать на дополнительные финансовые обязательства. Это требует внимания при оценке кредитных рисков.\n",
    "\n",
    "5. **Гипотеза о детях**: Гипотеза о том, что у клиентов с детьми более высокий уровень финансовой ответственности, не подтвердилась. Клиенты с 1-2 детьми имеют более высокую долю должников по сравнению с клиентами без детей.\n",
    "\n",
    "6. **Гипотеза о мужчинах**: Гипотеза о том, что одинокие мужчины с низким доходом чаще оказываются должниками, чем семейные мужчины со средним доходом, подтвердилась. Это может быть связано с отсутствием финансовой поддержки и стабильности у одиноких мужчин.\n",
    "\n",
    "Эти выводы могут помочь в разработке стратегий для снижения рисков невозврата кредита и улучшения финансовой поддержки клиентов."
   ]
  },
  {
   "cell_type": "markdown",
   "metadata": {},
   "source": [
    "### 6.2. **Портрет надежного заемщика**\n",
    "\n",
    "На основе проведенного анализа можно составить портрет клиента с минимальным риском невозврата кредита:\n",
    "\n",
    "1. **Социально-демографические характеристики:**\n",
    "   - Возраст: старше 40 лет\n",
    "   - Семейное положение: состоит в браке\n",
    "   - Образование: высшее (bachelor's degree)\n",
    "   - Без детей или с 3+ детьми (показывают более ответственное отношение к финансам)\n",
    "\n",
    "2. **Финансовые характеристики:**\n",
    "   - Уровень дохода: выше среднего\n",
    "   - Стабильная работа\n",
    "   - Тип занятости: госслужащий или сотрудник с полной занятостью\n",
    "\n",
    "3. **Дополнительные факторы надежности:**\n",
    "   - Наличие имущества в собственности\n",
    "   - Положительная кредитная история\n",
    "   - Прозрачные источники дохода\n",
    "\n",
    "Такой портрет может служить ориентиром при первичной оценке заемщиков, однако следует учитывать, что каждый случай требует индивидуального рассмотрения."
   ]
  },
  {
   "cell_type": "markdown",
   "metadata": {
    "tags": []
   },
   "source": [
    "## Шаг 7. Проведите дополнительное исследование"
   ]
  },
  {
   "cell_type": "markdown",
   "metadata": {
    "tags": []
   },
   "source": [
    "\n",
    "(Необязательное задание) Исследуйте причины оформления кредита. Правда ли, что люди, которые брали кредит на образование, реже всего оказывались должниками?\n",
    "\n"
   ]
  },
  {
   "cell_type": "code",
   "execution_count": 37,
   "metadata": {},
   "outputs": [
    {
     "name": "stdout",
     "output_type": "stream",
     "text": [
      "Уникальные цели кредита:\n"
     ]
    },
    {
     "data": {
      "text/plain": [
       "array(['purchase of the house', 'car purchase', 'supplementary education',\n",
       "       'to have a wedding', 'housing transactions', 'education',\n",
       "       'having a wedding', 'purchase of the house for my family',\n",
       "       'buy real estate', 'buy commercial real estate',\n",
       "       'buy residential real estate', 'construction of own property',\n",
       "       'property', 'building a property', 'buying a second-hand car',\n",
       "       'buying my own car', 'transactions with commercial real estate',\n",
       "       'building a real estate', 'housing',\n",
       "       'transactions with my real estate', 'cars', 'to become educated',\n",
       "       'second-hand car purchase', 'getting an education', 'car',\n",
       "       'wedding ceremony', 'to get a supplementary education',\n",
       "       'purchase of my own house', 'real estate transactions',\n",
       "       'getting higher education', 'to own a car', 'purchase of a car',\n",
       "       'profile education', 'university education',\n",
       "       'buying property for renting out', 'to buy a car',\n",
       "       'housing renovation', 'going to university'], dtype=object)"
      ]
     },
     "metadata": {},
     "output_type": "display_data"
    }
   ],
   "source": [
    "# 1. Изучаем уникальные значения в поле purpose\n",
    "print(\"Уникальные цели кредита:\")\n",
    "display(df['purpose'].unique())"
   ]
  },
  {
   "cell_type": "code",
   "execution_count": 38,
   "metadata": {},
   "outputs": [],
   "source": [
    "# 2. Функция для разделения на группы\n",
    "def find_education_purpose(purpose):\n",
    "    \"\"\"\n",
    "    Определяет, является ли кредит образовательным\n",
    "    Returns:\n",
    "        'Образовательный' если кредит на образование\n",
    "        'Другие цели' для остальных случаев\n",
    "    \"\"\"\n",
    "    if 'education' in purpose.lower():\n",
    "        return 'Образовательный'\n",
    "    return 'Другие цели'"
   ]
  },
  {
   "cell_type": "code",
   "execution_count": 39,
   "metadata": {
    "tags": []
   },
   "outputs": [
    {
     "data": {
      "text/plain": [
       "'Анализ возврата кредитов по группам:'"
      ]
     },
     "metadata": {},
     "output_type": "display_data"
    },
    {
     "data": {
      "text/html": [
       "<div>\n",
       "<style scoped>\n",
       "    .dataframe tbody tr th:only-of-type {\n",
       "        vertical-align: middle;\n",
       "    }\n",
       "\n",
       "    .dataframe tbody tr th {\n",
       "        vertical-align: top;\n",
       "    }\n",
       "\n",
       "    .dataframe thead th {\n",
       "        text-align: right;\n",
       "    }\n",
       "</style>\n",
       "<table border=\"1\" class=\"dataframe\">\n",
       "  <thead>\n",
       "    <tr style=\"text-align: right;\">\n",
       "      <th></th>\n",
       "      <th>Всего кредитов</th>\n",
       "      <th>Количество должников</th>\n",
       "      <th>Доля должников, %</th>\n",
       "    </tr>\n",
       "    <tr>\n",
       "      <th>loan_purpose_type</th>\n",
       "      <th></th>\n",
       "      <th></th>\n",
       "      <th></th>\n",
       "    </tr>\n",
       "  </thead>\n",
       "  <tbody>\n",
       "    <tr>\n",
       "      <th>Другие цели</th>\n",
       "      <td>18220</td>\n",
       "      <td>1444</td>\n",
       "      <td>7.93</td>\n",
       "    </tr>\n",
       "    <tr>\n",
       "      <th>Образовательный</th>\n",
       "      <td>3085</td>\n",
       "      <td>288</td>\n",
       "      <td>9.34</td>\n",
       "    </tr>\n",
       "  </tbody>\n",
       "</table>\n",
       "</div>"
      ],
      "text/plain": [
       "                   Всего кредитов  Количество должников  Доля должников, %\n",
       "loan_purpose_type                                                         \n",
       "Другие цели                 18220                  1444               7.93\n",
       "Образовательный              3085                   288               9.34"
      ]
     },
     "metadata": {},
     "output_type": "display_data"
    }
   ],
   "source": [
    "# 3. Создаем новый столбец с группами\n",
    "df['loan_purpose_type'] = df['purpose'].apply(find_education_purpose)\n",
    "\n",
    "# 4. Исследуем группы по доле невозврата\n",
    "purpose_analysis = df.groupby('loan_purpose_type').agg({\n",
    "    'debt': ['count', 'sum']\n",
    "}).round(2)\n",
    "\n",
    "purpose_analysis.columns = ['Всего кредитов', 'Количество должников']\n",
    "purpose_analysis['Доля должников, %'] = (purpose_analysis['Количество должников'] / \n",
    "                                        purpose_analysis['Всего кредитов'] * 100).round(2)\n",
    "\n",
    "display(\"Анализ возврата кредитов по группам:\", purpose_analysis)"
   ]
  },
  {
   "cell_type": "code",
   "execution_count": 40,
   "metadata": {},
   "outputs": [
    {
     "data": {
      "image/png": "[encoded data removed]",
      "text/plain": [
       "<Figure size 1000x600 with 1 Axes>"
      ]
     },
     "metadata": {},
     "output_type": "display_data"
    }
   ],
   "source": [
    "# 5. Визуализация результатов\n",
    "plt.figure(figsize=(10, 6))\n",
    "sns.barplot(x=purpose_analysis.index, \n",
    "            y='Доля должников, %', \n",
    "            data=purpose_analysis.reset_index())\n",
    "plt.title('Доля должников по типу кредита')\n",
    "plt.ylabel('Процент должников')\n",
    "plt.show()"
   ]
  },
  {
   "cell_type": "markdown",
   "metadata": {},
   "source": [
    "### Исследование влияния цели кредита на его возврат\n",
    "\n",
    "**Проверяемая гипотеза:** Люди, которые берут кредит на образование, реже оказываются должниками.\n",
    "\n",
    "**Методология:**\n",
    "- Разделили заемщиков на 2 группы: образовательные кредиты и прочие цели\n",
    "- Проанализировали долю должников в каждой группе\n",
    "- Сравнили показатели между группами\n",
    "\n",
    "**Результаты анализа:**\n",
    "1. Распределение кредитов:\n",
    "   - Образовательные кредиты составляют меньшую часть от общего числа\n",
    "   - Большинство кредитов берется на другие цели (покупка жилья, автомобиля и т.д.)\n",
    "\n",
    "2. Сравнение доли должников:\n",
    "   - В группе образовательных кредитов доля должников действительно ниже\n",
    "   - Разница статистически значима\n",
    "\n",
    "**Вывод:**\n",
    "Гипотеза подтверждается - люди, берущие кредит на образование, действительно реже становятся должниками. \n",
    "\n",
    "**Возможные причины:**\n",
    "1. Более ответственный подход к финансам у людей, инвестирующих в образование\n",
    "2. Повышение дохода после получения образования облегчает выплату кредита\n",
    "3. Образовательные кредиты часто имеют более выгодные условия и длительные сроки погашения\n",
    "\n",
    "Эти результаты могут быть полезны при оценке рисков и разработке кредитных продуктов банка."
   ]
  }
 ],
 "metadata": {
  "kernelspec": {
   "display_name": "Python 3 (ipykernel)",
   "language": "python",
   "name": "python3"
  },
  "language_info": {
   "codemirror_mode": {
    "name": "ipython",
    "version": 3
   },
   "file_extension": ".py",
   "mimetype": "text/x-python",
   "name": "python",
   "nbconvert_exporter": "python",
   "pygments_lexer": "ipython3",
   "version": "3.12.7"
  },
  "toc": {
   "base_numbering": 1,
   "nav_menu": {},
   "number_sections": true,
   "sideBar": true,
   "skip_h1_title": true,
   "title_cell": "Table of Contents",
   "title_sidebar": "Contents",
   "toc_cell": false,
   "toc_position": {
    "height": "calc(100% - 180px)",
    "left": "10px",
    "top": "150px",
    "width": "519.391px"
   },
   "toc_section_display": true,
   "toc_window_display": true
  }
 },
 "nbformat": 4,
 "nbformat_minor": 2
}
