{
 "cells": [
  {
   "cell_type": "markdown",
   "metadata": {
    "tags": []
   },
   "source": [
    "# **Описание проекта: Исследование интернет-магазина «Подарочек»**\n",
    "\n",
    "В вашем распоряжении данные онлайн-магазина подарков. Магазин зачастую отправляет товары по почте, работает как с оптовыми, так и с розничными покупателями.\n",
    "\n",
    "Провести исследование данных, сегментации клиентов и проверку статистических гипотез."
   ]
  },
  {
   "cell_type": "markdown",
   "metadata": {},
   "source": [
    "## Цель исследования\n",
    "Провести анализ данных интернет-магазина «Подарочек» для оптимизации бизнес-процессов и повышения эффективности работы компании.\n",
    "\n",
    "В частности:\n",
    "- Изучить покупательское поведение клиентов\n",
    "- Выявить паттерны в истории заказов\n",
    "- Провести сегментацию клиентской базы\n",
    "- Разработать рекомендации по улучшению бизнес-показателей\n",
    "\n",
    "## План исследования\n",
    "1. Подготовка данных\n",
    "   - Загрузка и первичный осмотр данных\n",
    "   - Предобработка и очистка данных\n",
    "   - Обработка пропусков и дубликатов\n",
    "\n",
    "2. Исследовательский анализ\n",
    "   - Анализ основных характеристик\n",
    "   - Изучение распределений\n",
    "   - Анализ временных паттернов\n",
    "\n",
    "3. Анализ профилей клиентов\n",
    "   - Создание и анализ клиентских профилей\n",
    "   - Сравнение возвратных и невозвратных клиентов\n",
    "   - Выявление ключевых характеристик разных групп\n",
    "\n",
    "4. RFM-сегментация\n",
    "   - Расчет RFM-метрик\n",
    "   - Выделение клиентских сегментов\n",
    "   - Анализ характеристик сегментов\n",
    "\n",
    "5. Проверка статистических гипотез\n",
    "   - Анализ различий между группами клиентов\n",
    "   - Проверка географических особенностей\n",
    "   - Формулировка выводов"
   ]
  },
  {
   "cell_type": "markdown",
   "metadata": {},
   "source": [
    "## **Описание данных**\n",
    "\n",
    "В нашем распоряжении два датасета:\n",
    "\n",
    "**Основной датасет**\n",
    "\n",
    "- `entry_date` — дата записи;\n",
    "- `order_id` — идентификационный номер заказа;\n",
    "- `customer_id` — идентификационный номер клиента;\n",
    "- `quantity` — количество;\n",
    "- `price` — цена;\n",
    "- `name_clust` — автоматически присвоенная группа записи на основе названия;\n",
    "- `entry_id` — идентификационный номер записи;\n",
    "- `country_id` — идентификационный номер страны.\n",
    "\n",
    "**Текстовое описание записей**.\n",
    "\n",
    "- `entry_id` — идентификационный номер записи;\n",
    "- `entry` — запись."
   ]
  },
  {
   "cell_type": "markdown",
   "metadata": {},
   "source": [
    "---"
   ]
  },
  {
   "cell_type": "markdown",
   "metadata": {
    "tags": []
   },
   "source": [
    "\n",
    "# Шаг 1. Получение, осмотр и объединение данных"
   ]
  },
  {
   "cell_type": "markdown",
   "metadata": {},
   "source": [
    "1. Загрузите данные из csv-файлов в датафреймы.\n",
    "\n",
    "2. Изучите общую информацию о датафреймах.\n",
    "\n",
    "3. Проверьте наличие пропусков, примите решение о заполнении.\n",
    "\n",
    "4. Проверьте наличие дубликатов, примите решение об удалении.\n",
    "\n",
    "5. Рассмотрите типы данных в каждом столбце, приведите типы (если нужно).\n",
    "\n",
    "6. Проверьте соответствие идентификационных номеров.\n",
    "\n",
    "7. Объедините информацию из всех датафреймов в один."
   ]
  },
  {
   "cell_type": "markdown",
   "metadata": {
    "tags": []
   },
   "source": [
    "## 1.1. **Импорт библиотек**"
   ]
  },
  {
   "cell_type": "code",
   "execution_count": 1,
   "metadata": {},
   "outputs": [],
   "source": [
    "# основные библиотеки\n",
    "import pandas as pd\n",
    "import numpy as np\n",
    "\n",
    "# библиотеки для графиков\n",
    "import matplotlib.pyplot as plt\n",
    "import seaborn as sns\n",
    "import plotly.express as px\n",
    "import plotly.graph_objects as go\n",
    "from plotly.subplots import make_subplots\n",
    "\n",
    "# для работы с датами\n",
    "from datetime import datetime\n",
    "\n",
    "# для статистических тестов\n",
    "from scipy import stats"
   ]
  },
  {
   "cell_type": "markdown",
   "metadata": {},
   "source": [
    "---"
   ]
  },
  {
   "cell_type": "markdown",
   "metadata": {},
   "source": [
    "## 1.2. **Загрузка данных**"
   ]
  },
  {
   "cell_type": "code",
   "execution_count": 2,
   "metadata": {},
   "outputs": [
    {
     "name": "stdout",
     "output_type": "stream",
     "text": [
      "Размер основного датасета: (356940, 8)\n",
      "Размер датасета с описаниями: (2917, 2)\n"
     ]
    }
   ],
   "source": [
    "# функция для загрузки данных\n",
    "def load_data():\n",
    "    try:\n",
    "        # Пробуем загрузить из /datasets\n",
    "        gift = pd.read_csv('/datasets/gift.csv')\n",
    "        gift_entry = pd.read_csv('/datasets/gift_entry.csv', sep=';')\n",
    "    except:\n",
    "        # Если не получилось, загружаем по URL\n",
    "        gift_url = 'https://code.s3.yandex.net/datasets/gift.csv'\n",
    "        entry_url = 'https://code.s3.yandex.net/python-for-analytics/gift_entry.csv'\n",
    "        gift = pd.read_csv(gift_url)\n",
    "        gift_entry = pd.read_csv(entry_url, sep=';')\n",
    "    \n",
    "    return gift, gift_entry\n",
    "\n",
    "# Загружаем данные\n",
    "gift, gift_entry = load_data()\n",
    "\n",
    "# Проверяем загрузку\n",
    "print(\"Размер основного датасета:\", gift.shape)\n",
    "print(\"Размер датасета с описаниями:\", gift_entry.shape)"
   ]
  },
  {
   "cell_type": "code",
   "execution_count": 3,
   "metadata": {},
   "outputs": [
    {
     "data": {
      "text/html": [
       "<div>\n",
       "<style scoped>\n",
       "    .dataframe tbody tr th:only-of-type {\n",
       "        vertical-align: middle;\n",
       "    }\n",
       "\n",
       "    .dataframe tbody tr th {\n",
       "        vertical-align: top;\n",
       "    }\n",
       "\n",
       "    .dataframe thead th {\n",
       "        text-align: right;\n",
       "    }\n",
       "</style>\n",
       "<table border=\"1\" class=\"dataframe\">\n",
       "  <thead>\n",
       "    <tr style=\"text-align: right;\">\n",
       "      <th></th>\n",
       "      <th>entry_date</th>\n",
       "      <th>order_id</th>\n",
       "      <th>customer_id</th>\n",
       "      <th>quantity</th>\n",
       "      <th>price</th>\n",
       "      <th>name_clust</th>\n",
       "      <th>entry_id</th>\n",
       "      <th>country_id</th>\n",
       "    </tr>\n",
       "  </thead>\n",
       "  <tbody>\n",
       "    <tr>\n",
       "      <th>0</th>\n",
       "      <td>12/01/2018 08:26</td>\n",
       "      <td>3031</td>\n",
       "      <td>2150</td>\n",
       "      <td>6</td>\n",
       "      <td>339</td>\n",
       "      <td>740</td>\n",
       "      <td>891</td>\n",
       "      <td>28</td>\n",
       "    </tr>\n",
       "    <tr>\n",
       "      <th>1</th>\n",
       "      <td>12/01/2018 08:26</td>\n",
       "      <td>3031</td>\n",
       "      <td>2150</td>\n",
       "      <td>8</td>\n",
       "      <td>275</td>\n",
       "      <td>132</td>\n",
       "      <td>1596</td>\n",
       "      <td>28</td>\n",
       "    </tr>\n",
       "    <tr>\n",
       "      <th>2</th>\n",
       "      <td>12/01/2018 08:26</td>\n",
       "      <td>3031</td>\n",
       "      <td>2150</td>\n",
       "      <td>6</td>\n",
       "      <td>339</td>\n",
       "      <td>197</td>\n",
       "      <td>166</td>\n",
       "      <td>28</td>\n",
       "    </tr>\n",
       "    <tr>\n",
       "      <th>3</th>\n",
       "      <td>12/01/2018 08:26</td>\n",
       "      <td>3031</td>\n",
       "      <td>2150</td>\n",
       "      <td>2</td>\n",
       "      <td>765</td>\n",
       "      <td>767</td>\n",
       "      <td>1810</td>\n",
       "      <td>28</td>\n",
       "    </tr>\n",
       "    <tr>\n",
       "      <th>4</th>\n",
       "      <td>12/01/2018 08:26</td>\n",
       "      <td>3031</td>\n",
       "      <td>2150</td>\n",
       "      <td>6</td>\n",
       "      <td>425</td>\n",
       "      <td>383</td>\n",
       "      <td>2585</td>\n",
       "      <td>28</td>\n",
       "    </tr>\n",
       "  </tbody>\n",
       "</table>\n",
       "</div>"
      ],
      "text/plain": [
       "         entry_date  order_id  customer_id  quantity  price  name_clust  \\\n",
       "0  12/01/2018 08:26      3031         2150         6    339         740   \n",
       "1  12/01/2018 08:26      3031         2150         8    275         132   \n",
       "2  12/01/2018 08:26      3031         2150         6    339         197   \n",
       "3  12/01/2018 08:26      3031         2150         2    765         767   \n",
       "4  12/01/2018 08:26      3031         2150         6    425         383   \n",
       "\n",
       "   entry_id  country_id  \n",
       "0       891          28  \n",
       "1      1596          28  \n",
       "2       166          28  \n",
       "3      1810          28  \n",
       "4      2585          28  "
      ]
     },
     "execution_count": 3,
     "metadata": {},
     "output_type": "execute_result"
    }
   ],
   "source": [
    "# копирование датасета gift\n",
    "df_gift = gift.copy()\n",
    "\n",
    "# вывод первых 5 строк датасета gift\n",
    "df_gift.head()"
   ]
  },
  {
   "cell_type": "code",
   "execution_count": 4,
   "metadata": {},
   "outputs": [
    {
     "data": {
      "text/html": [
       "<div>\n",
       "<style scoped>\n",
       "    .dataframe tbody tr th:only-of-type {\n",
       "        vertical-align: middle;\n",
       "    }\n",
       "\n",
       "    .dataframe tbody tr th {\n",
       "        vertical-align: top;\n",
       "    }\n",
       "\n",
       "    .dataframe thead th {\n",
       "        text-align: right;\n",
       "    }\n",
       "</style>\n",
       "<table border=\"1\" class=\"dataframe\">\n",
       "  <thead>\n",
       "    <tr style=\"text-align: right;\">\n",
       "      <th></th>\n",
       "      <th>entry_id</th>\n",
       "      <th>entry</th>\n",
       "    </tr>\n",
       "  </thead>\n",
       "  <tbody>\n",
       "    <tr>\n",
       "      <th>0</th>\n",
       "      <td>0</td>\n",
       "      <td>NaN</td>\n",
       "    </tr>\n",
       "    <tr>\n",
       "      <th>1</th>\n",
       "      <td>1</td>\n",
       "      <td>10-цветная ручка Spaceboy</td>\n",
       "    </tr>\n",
       "    <tr>\n",
       "      <th>2</th>\n",
       "      <td>2</td>\n",
       "      <td>12 карандашей, черепа</td>\n",
       "    </tr>\n",
       "    <tr>\n",
       "      <th>3</th>\n",
       "      <td>3</td>\n",
       "      <td>12 карандашей, высокий тюбик, лесной массив</td>\n",
       "    </tr>\n",
       "    <tr>\n",
       "      <th>4</th>\n",
       "      <td>4</td>\n",
       "      <td>12 карандашей, маленький тюбик с черепом</td>\n",
       "    </tr>\n",
       "  </tbody>\n",
       "</table>\n",
       "</div>"
      ],
      "text/plain": [
       "   entry_id                                        entry\n",
       "0         0                                          NaN\n",
       "1         1                    10-цветная ручка Spaceboy\n",
       "2         2                        12 карандашей, черепа\n",
       "3         3  12 карандашей, высокий тюбик, лесной массив\n",
       "4         4     12 карандашей, маленький тюбик с черепом"
      ]
     },
     "execution_count": 4,
     "metadata": {},
     "output_type": "execute_result"
    }
   ],
   "source": [
    "# копирование датасета gift_entry\n",
    "df_gift_entry = gift_entry.copy()\n",
    "\n",
    "# вывод первых 5 строк датасета gift_entry\n",
    "df_gift_entry.head()"
   ]
  },
  {
   "cell_type": "markdown",
   "metadata": {},
   "source": [
    "---"
   ]
  },
  {
   "cell_type": "markdown",
   "metadata": {},
   "source": [
    "## 1.3. **Изучение общей информации о датафреймах**"
   ]
  },
  {
   "cell_type": "markdown",
   "metadata": {},
   "source": [
    "### 1.3.1. **Dataset `gift`**"
   ]
  },
  {
   "cell_type": "code",
   "execution_count": 5,
   "metadata": {},
   "outputs": [
    {
     "data": {
      "text/html": [
       "<div>\n",
       "<style scoped>\n",
       "    .dataframe tbody tr th:only-of-type {\n",
       "        vertical-align: middle;\n",
       "    }\n",
       "\n",
       "    .dataframe tbody tr th {\n",
       "        vertical-align: top;\n",
       "    }\n",
       "\n",
       "    .dataframe thead th {\n",
       "        text-align: right;\n",
       "    }\n",
       "</style>\n",
       "<table border=\"1\" class=\"dataframe\">\n",
       "  <thead>\n",
       "    <tr style=\"text-align: right;\">\n",
       "      <th></th>\n",
       "      <th>entry_date</th>\n",
       "      <th>order_id</th>\n",
       "      <th>customer_id</th>\n",
       "      <th>quantity</th>\n",
       "      <th>price</th>\n",
       "      <th>name_clust</th>\n",
       "      <th>entry_id</th>\n",
       "      <th>country_id</th>\n",
       "    </tr>\n",
       "  </thead>\n",
       "  <tbody>\n",
       "    <tr>\n",
       "      <th>0</th>\n",
       "      <td>12/01/2018 08:26</td>\n",
       "      <td>3031</td>\n",
       "      <td>2150</td>\n",
       "      <td>6</td>\n",
       "      <td>339</td>\n",
       "      <td>740</td>\n",
       "      <td>891</td>\n",
       "      <td>28</td>\n",
       "    </tr>\n",
       "    <tr>\n",
       "      <th>1</th>\n",
       "      <td>12/01/2018 08:26</td>\n",
       "      <td>3031</td>\n",
       "      <td>2150</td>\n",
       "      <td>8</td>\n",
       "      <td>275</td>\n",
       "      <td>132</td>\n",
       "      <td>1596</td>\n",
       "      <td>28</td>\n",
       "    </tr>\n",
       "    <tr>\n",
       "      <th>2</th>\n",
       "      <td>12/01/2018 08:26</td>\n",
       "      <td>3031</td>\n",
       "      <td>2150</td>\n",
       "      <td>6</td>\n",
       "      <td>339</td>\n",
       "      <td>197</td>\n",
       "      <td>166</td>\n",
       "      <td>28</td>\n",
       "    </tr>\n",
       "    <tr>\n",
       "      <th>3</th>\n",
       "      <td>12/01/2018 08:26</td>\n",
       "      <td>3031</td>\n",
       "      <td>2150</td>\n",
       "      <td>2</td>\n",
       "      <td>765</td>\n",
       "      <td>767</td>\n",
       "      <td>1810</td>\n",
       "      <td>28</td>\n",
       "    </tr>\n",
       "    <tr>\n",
       "      <th>4</th>\n",
       "      <td>12/01/2018 08:26</td>\n",
       "      <td>3031</td>\n",
       "      <td>2150</td>\n",
       "      <td>6</td>\n",
       "      <td>425</td>\n",
       "      <td>383</td>\n",
       "      <td>2585</td>\n",
       "      <td>28</td>\n",
       "    </tr>\n",
       "    <tr>\n",
       "      <th>...</th>\n",
       "      <td>...</td>\n",
       "      <td>...</td>\n",
       "      <td>...</td>\n",
       "      <td>...</td>\n",
       "      <td>...</td>\n",
       "      <td>...</td>\n",
       "      <td>...</td>\n",
       "      <td>...</td>\n",
       "    </tr>\n",
       "    <tr>\n",
       "      <th>356935</th>\n",
       "      <td>12/09/2019 12:50</td>\n",
       "      <td>48253</td>\n",
       "      <td>7320</td>\n",
       "      <td>12</td>\n",
       "      <td>85</td>\n",
       "      <td>556</td>\n",
       "      <td>2723</td>\n",
       "      <td>5</td>\n",
       "    </tr>\n",
       "    <tr>\n",
       "      <th>356936</th>\n",
       "      <td>12/09/2019 12:50</td>\n",
       "      <td>48253</td>\n",
       "      <td>7320</td>\n",
       "      <td>6</td>\n",
       "      <td>210</td>\n",
       "      <td>144</td>\n",
       "      <td>1246</td>\n",
       "      <td>5</td>\n",
       "    </tr>\n",
       "    <tr>\n",
       "      <th>356937</th>\n",
       "      <td>12/09/2019 12:50</td>\n",
       "      <td>48253</td>\n",
       "      <td>7320</td>\n",
       "      <td>4</td>\n",
       "      <td>415</td>\n",
       "      <td>144</td>\n",
       "      <td>1241</td>\n",
       "      <td>5</td>\n",
       "    </tr>\n",
       "    <tr>\n",
       "      <th>356938</th>\n",
       "      <td>12/09/2019 12:50</td>\n",
       "      <td>48253</td>\n",
       "      <td>7320</td>\n",
       "      <td>4</td>\n",
       "      <td>415</td>\n",
       "      <td>114</td>\n",
       "      <td>2811</td>\n",
       "      <td>5</td>\n",
       "    </tr>\n",
       "    <tr>\n",
       "      <th>356939</th>\n",
       "      <td>12/09/2019 12:50</td>\n",
       "      <td>48253</td>\n",
       "      <td>7320</td>\n",
       "      <td>3</td>\n",
       "      <td>495</td>\n",
       "      <td>785</td>\n",
       "      <td>1818</td>\n",
       "      <td>5</td>\n",
       "    </tr>\n",
       "  </tbody>\n",
       "</table>\n",
       "<p>356940 rows × 8 columns</p>\n",
       "</div>"
      ],
      "text/plain": [
       "              entry_date  order_id  customer_id  quantity  price  name_clust  \\\n",
       "0       12/01/2018 08:26      3031         2150         6    339         740   \n",
       "1       12/01/2018 08:26      3031         2150         8    275         132   \n",
       "2       12/01/2018 08:26      3031         2150         6    339         197   \n",
       "3       12/01/2018 08:26      3031         2150         2    765         767   \n",
       "4       12/01/2018 08:26      3031         2150         6    425         383   \n",
       "...                  ...       ...          ...       ...    ...         ...   \n",
       "356935  12/09/2019 12:50     48253         7320        12     85         556   \n",
       "356936  12/09/2019 12:50     48253         7320         6    210         144   \n",
       "356937  12/09/2019 12:50     48253         7320         4    415         144   \n",
       "356938  12/09/2019 12:50     48253         7320         4    415         114   \n",
       "356939  12/09/2019 12:50     48253         7320         3    495         785   \n",
       "\n",
       "        entry_id  country_id  \n",
       "0            891          28  \n",
       "1           1596          28  \n",
       "2            166          28  \n",
       "3           1810          28  \n",
       "4           2585          28  \n",
       "...          ...         ...  \n",
       "356935      2723           5  \n",
       "356936      1246           5  \n",
       "356937      1241           5  \n",
       "356938      2811           5  \n",
       "356939      1818           5  \n",
       "\n",
       "[356940 rows x 8 columns]"
      ]
     },
     "execution_count": 5,
     "metadata": {},
     "output_type": "execute_result"
    }
   ],
   "source": [
    "df_gift"
   ]
  },
  {
   "cell_type": "code",
   "execution_count": 6,
   "metadata": {},
   "outputs": [
    {
     "name": "stdout",
     "output_type": "stream",
     "text": [
      "<class 'pandas.core.frame.DataFrame'>\n",
      "RangeIndex: 356940 entries, 0 to 356939\n",
      "Data columns (total 8 columns):\n",
      " #   Column       Non-Null Count   Dtype \n",
      "---  ------       --------------   ----- \n",
      " 0   entry_date   356940 non-null  object\n",
      " 1   order_id     356940 non-null  int64 \n",
      " 2   customer_id  356940 non-null  int64 \n",
      " 3   quantity     356940 non-null  int64 \n",
      " 4   price        356940 non-null  int64 \n",
      " 5   name_clust   356940 non-null  int64 \n",
      " 6   entry_id     356940 non-null  int64 \n",
      " 7   country_id   356940 non-null  int64 \n",
      "dtypes: int64(7), object(1)\n",
      "memory usage: 21.8+ MB\n"
     ]
    }
   ],
   "source": [
    "# Изучение общей информации о датафрейме gift\n",
    "df_gift.info()"
   ]
  },
  {
   "cell_type": "markdown",
   "metadata": {},
   "source": [
    "1. **Размер датасета**:\n",
    "\n",
    "- 356,940 записей (строк)\n",
    "\n",
    "- 8 столбцов\n",
    "\n",
    "2. **Особенности данных**:\n",
    "\n",
    "- Нет пропущенных значений (все столбцы имеют 356,940 non-null записей)\n",
    "\n",
    "- Преобладают целочисленные типы данных (7 столбцов типа int64)\n",
    "\n",
    "- Только один столбец с типом object (entry_date)\n",
    "\n",
    "3. **Память**:\n",
    "\n",
    "- Датасет занимает 21.8+ MB памяти\n",
    "\n",
    "4. **Качество данных**:\n",
    "\n",
    "- Данные хорошо структурированы\n",
    "\n",
    "- Отсутствуют пропущенные значения\n",
    "\n",
    "- Типы данных соответствуют содержимому столбцов\n",
    "\n",
    "**Датасет представляет собой полную и чистую базу данных заказов, готовую для дальнейшего анализа без необходимости предварительной обработки пропущенных значений.**"
   ]
  },
  {
   "cell_type": "code",
   "execution_count": 7,
   "metadata": {},
   "outputs": [
    {
     "data": {
      "text/html": [
       "<div>\n",
       "<style scoped>\n",
       "    .dataframe tbody tr th:only-of-type {\n",
       "        vertical-align: middle;\n",
       "    }\n",
       "\n",
       "    .dataframe tbody tr th {\n",
       "        vertical-align: top;\n",
       "    }\n",
       "\n",
       "    .dataframe thead th {\n",
       "        text-align: right;\n",
       "    }\n",
       "</style>\n",
       "<table border=\"1\" class=\"dataframe\">\n",
       "  <thead>\n",
       "    <tr style=\"text-align: right;\">\n",
       "      <th></th>\n",
       "      <th>order_id</th>\n",
       "      <th>customer_id</th>\n",
       "      <th>quantity</th>\n",
       "      <th>price</th>\n",
       "      <th>name_clust</th>\n",
       "      <th>entry_id</th>\n",
       "      <th>country_id</th>\n",
       "    </tr>\n",
       "  </thead>\n",
       "  <tbody>\n",
       "    <tr>\n",
       "      <th>count</th>\n",
       "      <td>356940.000000</td>\n",
       "      <td>356940.000000</td>\n",
       "      <td>356940.000000</td>\n",
       "      <td>3.569400e+05</td>\n",
       "      <td>356940.000000</td>\n",
       "      <td>356940.000000</td>\n",
       "      <td>356940.000000</td>\n",
       "    </tr>\n",
       "    <tr>\n",
       "      <th>mean</th>\n",
       "      <td>26687.651726</td>\n",
       "      <td>3486.883389</td>\n",
       "      <td>10.149599</td>\n",
       "      <td>3.999940e+02</td>\n",
       "      <td>468.617395</td>\n",
       "      <td>1518.046442</td>\n",
       "      <td>26.751818</td>\n",
       "    </tr>\n",
       "    <tr>\n",
       "      <th>std</th>\n",
       "      <td>13381.350493</td>\n",
       "      <td>2542.878257</td>\n",
       "      <td>146.794372</td>\n",
       "      <td>5.059181e+03</td>\n",
       "      <td>259.146901</td>\n",
       "      <td>833.753264</td>\n",
       "      <td>4.978016</td>\n",
       "    </tr>\n",
       "    <tr>\n",
       "      <th>min</th>\n",
       "      <td>3031.000000</td>\n",
       "      <td>-1.000000</td>\n",
       "      <td>-9600.000000</td>\n",
       "      <td>-1.106206e+06</td>\n",
       "      <td>0.000000</td>\n",
       "      <td>0.000000</td>\n",
       "      <td>0.000000</td>\n",
       "    </tr>\n",
       "    <tr>\n",
       "      <th>25%</th>\n",
       "      <td>14834.000000</td>\n",
       "      <td>-1.000000</td>\n",
       "      <td>1.000000</td>\n",
       "      <td>1.250000e+02</td>\n",
       "      <td>242.000000</td>\n",
       "      <td>875.000000</td>\n",
       "      <td>28.000000</td>\n",
       "    </tr>\n",
       "    <tr>\n",
       "      <th>50%</th>\n",
       "      <td>27378.000000</td>\n",
       "      <td>3633.000000</td>\n",
       "      <td>3.000000</td>\n",
       "      <td>2.080000e+02</td>\n",
       "      <td>448.000000</td>\n",
       "      <td>1559.000000</td>\n",
       "      <td>28.000000</td>\n",
       "    </tr>\n",
       "    <tr>\n",
       "      <th>75%</th>\n",
       "      <td>38512.000000</td>\n",
       "      <td>5627.500000</td>\n",
       "      <td>10.000000</td>\n",
       "      <td>4.130000e+02</td>\n",
       "      <td>702.000000</td>\n",
       "      <td>2223.000000</td>\n",
       "      <td>28.000000</td>\n",
       "    </tr>\n",
       "    <tr>\n",
       "      <th>max</th>\n",
       "      <td>48253.000000</td>\n",
       "      <td>7653.000000</td>\n",
       "      <td>80995.000000</td>\n",
       "      <td>1.354133e+06</td>\n",
       "      <td>929.000000</td>\n",
       "      <td>2916.000000</td>\n",
       "      <td>29.000000</td>\n",
       "    </tr>\n",
       "  </tbody>\n",
       "</table>\n",
       "</div>"
      ],
      "text/plain": [
       "            order_id    customer_id       quantity         price  \\\n",
       "count  356940.000000  356940.000000  356940.000000  3.569400e+05   \n",
       "mean    26687.651726    3486.883389      10.149599  3.999940e+02   \n",
       "std     13381.350493    2542.878257     146.794372  5.059181e+03   \n",
       "min      3031.000000      -1.000000   -9600.000000 -1.106206e+06   \n",
       "25%     14834.000000      -1.000000       1.000000  1.250000e+02   \n",
       "50%     27378.000000    3633.000000       3.000000  2.080000e+02   \n",
       "75%     38512.000000    5627.500000      10.000000  4.130000e+02   \n",
       "max     48253.000000    7653.000000   80995.000000  1.354133e+06   \n",
       "\n",
       "          name_clust       entry_id     country_id  \n",
       "count  356940.000000  356940.000000  356940.000000  \n",
       "mean      468.617395    1518.046442      26.751818  \n",
       "std       259.146901     833.753264       4.978016  \n",
       "min         0.000000       0.000000       0.000000  \n",
       "25%       242.000000     875.000000      28.000000  \n",
       "50%       448.000000    1559.000000      28.000000  \n",
       "75%       702.000000    2223.000000      28.000000  \n",
       "max       929.000000    2916.000000      29.000000  "
      ]
     },
     "execution_count": 7,
     "metadata": {},
     "output_type": "execute_result"
    }
   ],
   "source": [
    "# описательные статистики\n",
    "df_gift.describe()"
   ]
  },
  {
   "cell_type": "markdown",
   "metadata": {},
   "source": [
    "**Анализ статистик:**\n",
    "\n",
    "1. `order_id` (номер заказа):\n",
    "\n",
    "    - Среднее значение: ~26,688\n",
    "\n",
    "    - Минимум и максимум показывают диапазон номеров заказов\n",
    "\n",
    "    - 50% заказов имеют номер ниже медианного значения\n",
    "\n",
    "2. `customer_id` (ID клиента):\n",
    "\n",
    "    - Всего ~3,487 уникальных клиентов в среднем\n",
    "\n",
    "    - Распределение клиентов показывает наличие как новых, так и постоянных покупателей\n",
    "\n",
    "3. `quantity` (количество):\n",
    "\n",
    "    - Среднее количество товаров в заказе: ~10 единиц\n",
    "\n",
    "    - Медиана меньше среднего, что указывает на наличие крупных заказов, смещающих среднее значение\n",
    "\n",
    "    - Есть заказы с очень большим количеством товаров\n",
    "\n",
    "4. `price` (цена):\n",
    "\n",
    "    - Средняя цена: ~4,000 (единица измерения не указана)\n",
    "\n",
    "    - Присутствует значительный разброс цен\n",
    "\n",
    "    - Наличие дорогих товаров влияет на среднее значение\n",
    "\n",
    "5. `name_clust` (кластер по названию):\n",
    "\n",
    "    - Диапазон кластеров от минимального до максимального значения\n",
    "\n",
    "    - Равномерное распределение по квартилям\n",
    "\n",
    "6. `entry_id` и `country_id`:\n",
    "\n",
    "    - Показывают распределение записей и стран\n",
    "\n",
    "    - Помогают понять географию продаж\n",
    "\n",
    "**Статистики указывают на разнообразие заказов, клиентов и цен в магазине, а также на наличие как розничных, так и оптовых покупок.**"
   ]
  },
  {
   "cell_type": "markdown",
   "metadata": {},
   "source": [
    "### 1.3.2. **Dataset `gift_entry`**"
   ]
  },
  {
   "cell_type": "code",
   "execution_count": 8,
   "metadata": {},
   "outputs": [
    {
     "data": {
      "text/html": [
       "<div>\n",
       "<style scoped>\n",
       "    .dataframe tbody tr th:only-of-type {\n",
       "        vertical-align: middle;\n",
       "    }\n",
       "\n",
       "    .dataframe tbody tr th {\n",
       "        vertical-align: top;\n",
       "    }\n",
       "\n",
       "    .dataframe thead th {\n",
       "        text-align: right;\n",
       "    }\n",
       "</style>\n",
       "<table border=\"1\" class=\"dataframe\">\n",
       "  <thead>\n",
       "    <tr style=\"text-align: right;\">\n",
       "      <th></th>\n",
       "      <th>entry_id</th>\n",
       "      <th>entry</th>\n",
       "    </tr>\n",
       "  </thead>\n",
       "  <tbody>\n",
       "    <tr>\n",
       "      <th>0</th>\n",
       "      <td>0</td>\n",
       "      <td>NaN</td>\n",
       "    </tr>\n",
       "    <tr>\n",
       "      <th>1</th>\n",
       "      <td>1</td>\n",
       "      <td>10-цветная ручка Spaceboy</td>\n",
       "    </tr>\n",
       "    <tr>\n",
       "      <th>2</th>\n",
       "      <td>2</td>\n",
       "      <td>12 карандашей, черепа</td>\n",
       "    </tr>\n",
       "    <tr>\n",
       "      <th>3</th>\n",
       "      <td>3</td>\n",
       "      <td>12 карандашей, высокий тюбик, лесной массив</td>\n",
       "    </tr>\n",
       "    <tr>\n",
       "      <th>4</th>\n",
       "      <td>4</td>\n",
       "      <td>12 карандашей, маленький тюбик с черепом</td>\n",
       "    </tr>\n",
       "    <tr>\n",
       "      <th>...</th>\n",
       "      <td>...</td>\n",
       "      <td>...</td>\n",
       "    </tr>\n",
       "    <tr>\n",
       "      <th>2912</th>\n",
       "      <td>2912</td>\n",
       "      <td>яйцо с подвесным украшением из слоновой кости</td>\n",
       "    </tr>\n",
       "    <tr>\n",
       "      <th>2913</th>\n",
       "      <td>2913</td>\n",
       "      <td>янтарное массивное колье из стекла+бусины</td>\n",
       "    </tr>\n",
       "    <tr>\n",
       "      <th>2914</th>\n",
       "      <td>2914</td>\n",
       "      <td>яркие голубые ленты</td>\n",
       "    </tr>\n",
       "    <tr>\n",
       "      <th>2915</th>\n",
       "      <td>2915</td>\n",
       "      <td>ящик для хранения большой, черепа</td>\n",
       "    </tr>\n",
       "    <tr>\n",
       "      <th>2916</th>\n",
       "      <td>2916</td>\n",
       "      <td>ящик для хранения маленький, черепа</td>\n",
       "    </tr>\n",
       "  </tbody>\n",
       "</table>\n",
       "<p>2917 rows × 2 columns</p>\n",
       "</div>"
      ],
      "text/plain": [
       "      entry_id                                          entry\n",
       "0            0                                            NaN\n",
       "1            1                      10-цветная ручка Spaceboy\n",
       "2            2                          12 карандашей, черепа\n",
       "3            3    12 карандашей, высокий тюбик, лесной массив\n",
       "4            4       12 карандашей, маленький тюбик с черепом\n",
       "...        ...                                            ...\n",
       "2912      2912  яйцо с подвесным украшением из слоновой кости\n",
       "2913      2913      янтарное массивное колье из стекла+бусины\n",
       "2914      2914                            яркие голубые ленты\n",
       "2915      2915              ящик для хранения большой, черепа\n",
       "2916      2916            ящик для хранения маленький, черепа\n",
       "\n",
       "[2917 rows x 2 columns]"
      ]
     },
     "execution_count": 8,
     "metadata": {},
     "output_type": "execute_result"
    }
   ],
   "source": [
    "df_gift_entry"
   ]
  },
  {
   "cell_type": "code",
   "execution_count": 9,
   "metadata": {},
   "outputs": [
    {
     "name": "stdout",
     "output_type": "stream",
     "text": [
      "<class 'pandas.core.frame.DataFrame'>\n",
      "RangeIndex: 2917 entries, 0 to 2916\n",
      "Data columns (total 2 columns):\n",
      " #   Column    Non-Null Count  Dtype \n",
      "---  ------    --------------  ----- \n",
      " 0   entry_id  2917 non-null   int64 \n",
      " 1   entry     2916 non-null   object\n",
      "dtypes: int64(1), object(1)\n",
      "memory usage: 45.7+ KB\n"
     ]
    }
   ],
   "source": [
    "# изучение общей информации о датафрейме gift_entry\n",
    "df_gift_entry.info()"
   ]
  },
  {
   "cell_type": "markdown",
   "metadata": {},
   "source": [
    "1. **Размер датасета**:\n",
    "\n",
    "    - 2,917 записей (строк)\n",
    "\n",
    "    - 2 столбца\n",
    "\n",
    "2. **Особенности данных**:\n",
    "\n",
    "    - В столбце `entry` есть как минимум одно пропущенное значение (NaN)\n",
    "\n",
    "    - `entry_id` начинается с 0 и предположительно идет последовательно до 2916\n",
    "\n",
    "3. **Назначение датасета**:\n",
    "\n",
    "    - Служит справочником для расшифровки наименований товаров\n",
    "\n",
    "    - Может использоваться для связи с основным датасетом через `entry_id`"
   ]
  },
  {
   "cell_type": "markdown",
   "metadata": {},
   "source": [
    "**Этот датасет является вспомогательным и содержит описания товаров, которые могут быть соединены с основным датасетом для получения полной информации о продажах.**"
   ]
  },
  {
   "cell_type": "code",
   "execution_count": 10,
   "metadata": {},
   "outputs": [
    {
     "data": {
      "text/html": [
       "<div>\n",
       "<style scoped>\n",
       "    .dataframe tbody tr th:only-of-type {\n",
       "        vertical-align: middle;\n",
       "    }\n",
       "\n",
       "    .dataframe tbody tr th {\n",
       "        vertical-align: top;\n",
       "    }\n",
       "\n",
       "    .dataframe thead th {\n",
       "        text-align: right;\n",
       "    }\n",
       "</style>\n",
       "<table border=\"1\" class=\"dataframe\">\n",
       "  <thead>\n",
       "    <tr style=\"text-align: right;\">\n",
       "      <th></th>\n",
       "      <th>entry_id</th>\n",
       "    </tr>\n",
       "  </thead>\n",
       "  <tbody>\n",
       "    <tr>\n",
       "      <th>count</th>\n",
       "      <td>2917.000000</td>\n",
       "    </tr>\n",
       "    <tr>\n",
       "      <th>mean</th>\n",
       "      <td>1458.000000</td>\n",
       "    </tr>\n",
       "    <tr>\n",
       "      <th>std</th>\n",
       "      <td>842.209693</td>\n",
       "    </tr>\n",
       "    <tr>\n",
       "      <th>min</th>\n",
       "      <td>0.000000</td>\n",
       "    </tr>\n",
       "    <tr>\n",
       "      <th>25%</th>\n",
       "      <td>729.000000</td>\n",
       "    </tr>\n",
       "    <tr>\n",
       "      <th>50%</th>\n",
       "      <td>1458.000000</td>\n",
       "    </tr>\n",
       "    <tr>\n",
       "      <th>75%</th>\n",
       "      <td>2187.000000</td>\n",
       "    </tr>\n",
       "    <tr>\n",
       "      <th>max</th>\n",
       "      <td>2916.000000</td>\n",
       "    </tr>\n",
       "  </tbody>\n",
       "</table>\n",
       "</div>"
      ],
      "text/plain": [
       "          entry_id\n",
       "count  2917.000000\n",
       "mean   1458.000000\n",
       "std     842.209693\n",
       "min       0.000000\n",
       "25%     729.000000\n",
       "50%    1458.000000\n",
       "75%    2187.000000\n",
       "max    2916.000000"
      ]
     },
     "execution_count": 10,
     "metadata": {},
     "output_type": "execute_result"
    }
   ],
   "source": [
    "# описательные статистики\n",
    "df_gift_entry.describe()"
   ]
  },
  {
   "cell_type": "markdown",
   "metadata": {},
   "source": [
    "**Анализ статистик:**\n",
    "\n",
    "1. **Количество записей**:\n",
    "\n",
    "    - Всего 2,917 записей в датасете\n",
    "\n",
    "2. **Распределение** `entry_id`:\n",
    "\n",
    "    - Минимальное значение: 0\n",
    "\n",
    "    - Максимальное значение: 2,916\n",
    "\n",
    "    - Среднее значение: 1,458 (что точно соответствует середине диапазона)\n",
    "\n",
    "    - Медиана: 1,458 (совпадает со средним)\n",
    "\n",
    "3. **Квартили**:\n",
    "\n",
    "    - 25% записей имеют id ≤ 729\n",
    "\n",
    "    - 50% записей имеют id ≤ 1,458\n",
    "\n",
    "    - 75% записей имеют id ≤ 2,187\n",
    "\n",
    "4. **Разброс данных**:\n",
    "\n",
    "    - Стандартное отклонение: 842.21\n",
    "\n",
    "    - Равномерное распределение значений (что ожидаемо для последовательной нумерации)"
   ]
  },
  {
   "cell_type": "markdown",
   "metadata": {},
   "source": [
    "**Совпадение среднего значения и медианы, а также равномерное распределение квартилей указывает на последовательную нумерацию записей без пропусков в идентификаторах.**"
   ]
  },
  {
   "cell_type": "markdown",
   "metadata": {},
   "source": [
    "---"
   ]
  },
  {
   "cell_type": "markdown",
   "metadata": {},
   "source": [
    "## 1.4. **Проверка на наличие пропусков и дубликатов**"
   ]
  },
  {
   "cell_type": "markdown",
   "metadata": {},
   "source": [
    "### 1.4.1. **Проверка на наличие пропусков в датасете `gift`**"
   ]
  },
  {
   "cell_type": "code",
   "execution_count": 11,
   "metadata": {},
   "outputs": [
    {
     "name": "stdout",
     "output_type": "stream",
     "text": [
      "Пропущенные значения в каждом столбце:\n"
     ]
    },
    {
     "data": {
      "text/plain": [
       "entry_date     0\n",
       "order_id       0\n",
       "customer_id    0\n",
       "quantity       0\n",
       "price          0\n",
       "name_clust     0\n",
       "entry_id       0\n",
       "country_id     0\n",
       "dtype: int64"
      ]
     },
     "metadata": {},
     "output_type": "display_data"
    }
   ],
   "source": [
    "# проверка на наличие пропусков в датасете gift\n",
    "missing_values_gift = df_gift.isnull().sum()\n",
    "print(\"Пропущенные значения в каждом столбце:\")\n",
    "display(missing_values_gift)"
   ]
  },
  {
   "cell_type": "code",
   "execution_count": 12,
   "metadata": {},
   "outputs": [
    {
     "name": "stdout",
     "output_type": "stream",
     "text": [
      "Количество дубликатов: 3573\n",
      "\n",
      "Примеры дублированных записей:\n"
     ]
    },
    {
     "data": {
      "text/html": [
       "<div>\n",
       "<style scoped>\n",
       "    .dataframe tbody tr th:only-of-type {\n",
       "        vertical-align: middle;\n",
       "    }\n",
       "\n",
       "    .dataframe tbody tr th {\n",
       "        vertical-align: top;\n",
       "    }\n",
       "\n",
       "    .dataframe thead th {\n",
       "        text-align: right;\n",
       "    }\n",
       "</style>\n",
       "<table border=\"1\" class=\"dataframe\">\n",
       "  <thead>\n",
       "    <tr style=\"text-align: right;\">\n",
       "      <th></th>\n",
       "      <th>entry_date</th>\n",
       "      <th>order_id</th>\n",
       "      <th>customer_id</th>\n",
       "      <th>quantity</th>\n",
       "      <th>price</th>\n",
       "      <th>name_clust</th>\n",
       "      <th>entry_id</th>\n",
       "      <th>country_id</th>\n",
       "    </tr>\n",
       "  </thead>\n",
       "  <tbody>\n",
       "    <tr>\n",
       "      <th>332</th>\n",
       "      <td>12/01/2018 11:45</td>\n",
       "      <td>3075</td>\n",
       "      <td>2092</td>\n",
       "      <td>1</td>\n",
       "      <td>125</td>\n",
       "      <td>140</td>\n",
       "      <td>858</td>\n",
       "      <td>28</td>\n",
       "    </tr>\n",
       "    <tr>\n",
       "      <th>346</th>\n",
       "      <td>12/01/2018 11:45</td>\n",
       "      <td>3075</td>\n",
       "      <td>2092</td>\n",
       "      <td>1</td>\n",
       "      <td>495</td>\n",
       "      <td>196</td>\n",
       "      <td>1042</td>\n",
       "      <td>28</td>\n",
       "    </tr>\n",
       "    <tr>\n",
       "      <th>358</th>\n",
       "      <td>12/01/2018 11:49</td>\n",
       "      <td>3078</td>\n",
       "      <td>2080</td>\n",
       "      <td>1</td>\n",
       "      <td>295</td>\n",
       "      <td>808</td>\n",
       "      <td>1611</td>\n",
       "      <td>28</td>\n",
       "    </tr>\n",
       "    <tr>\n",
       "      <th>371</th>\n",
       "      <td>12/01/2018 11:49</td>\n",
       "      <td>3078</td>\n",
       "      <td>2080</td>\n",
       "      <td>1</td>\n",
       "      <td>295</td>\n",
       "      <td>52</td>\n",
       "      <td>1647</td>\n",
       "      <td>28</td>\n",
       "    </tr>\n",
       "    <tr>\n",
       "      <th>376</th>\n",
       "      <td>12/01/2018 11:49</td>\n",
       "      <td>3078</td>\n",
       "      <td>2080</td>\n",
       "      <td>1</td>\n",
       "      <td>210</td>\n",
       "      <td>385</td>\n",
       "      <td>588</td>\n",
       "      <td>28</td>\n",
       "    </tr>\n",
       "  </tbody>\n",
       "</table>\n",
       "</div>"
      ],
      "text/plain": [
       "           entry_date  order_id  customer_id  quantity  price  name_clust  \\\n",
       "332  12/01/2018 11:45      3075         2092         1    125         140   \n",
       "346  12/01/2018 11:45      3075         2092         1    495         196   \n",
       "358  12/01/2018 11:49      3078         2080         1    295         808   \n",
       "371  12/01/2018 11:49      3078         2080         1    295          52   \n",
       "376  12/01/2018 11:49      3078         2080         1    210         385   \n",
       "\n",
       "     entry_id  country_id  \n",
       "332       858          28  \n",
       "346      1042          28  \n",
       "358      1611          28  \n",
       "371      1647          28  \n",
       "376       588          28  "
      ]
     },
     "metadata": {},
     "output_type": "display_data"
    }
   ],
   "source": [
    "# Просмотр дублированных строк\n",
    "duplicated_rows_gift = df_gift[df_gift.duplicated()]\n",
    "\n",
    "# Подробный анализ дубликатов\n",
    "print(\"Количество дубликатов:\", df_gift.duplicated().sum())\n",
    "print(\"\\nПримеры дублированных записей:\")\n",
    "display(duplicated_rows_gift.head())"
   ]
  },
  {
   "cell_type": "markdown",
   "metadata": {},
   "source": [
    "**Решение по обработке**:\n",
    "\n",
    "- Учитывая, что это данные о заказах, дубликаты, скорее всего, являются ошибками ввода, а не реальными повторными заказами\n",
    "\n",
    "- Удалим дубликаты, сохранив первое вхождение каждой записи"
   ]
  },
  {
   "cell_type": "code",
   "execution_count": 13,
   "metadata": {},
   "outputs": [
    {
     "name": "stdout",
     "output_type": "stream",
     "text": [
      "Размер исходного датасета: (356940, 8)\n",
      "Размер после удаления дубликатов: (353367, 8)\n",
      "Количество удаленных строк: 3573\n"
     ]
    }
   ],
   "source": [
    "# Удаление дубликатов с сохранением первой записи\n",
    "df_gift_clean = df_gift.drop_duplicates()\n",
    "\n",
    "# Проверка результата\n",
    "print(\"Размер исходного датасета:\", df_gift.shape)\n",
    "print(\"Размер после удаления дубликатов:\", df_gift_clean.shape)\n",
    "print(\"Количество удаленных строк:\", df_gift.shape[0] - df_gift_clean.shape[0])"
   ]
  },
  {
   "cell_type": "markdown",
   "metadata": {},
   "source": [
    "### 1.4.2. **Проверка на наличие пропусков в датасете `gift_entry`**"
   ]
  },
  {
   "cell_type": "code",
   "execution_count": 14,
   "metadata": {},
   "outputs": [
    {
     "name": "stdout",
     "output_type": "stream",
     "text": [
      "Пропущенные значения в каждом столбце:\n"
     ]
    },
    {
     "data": {
      "text/plain": [
       "entry_id    0\n",
       "entry       1\n",
       "dtype: int64"
      ]
     },
     "metadata": {},
     "output_type": "display_data"
    }
   ],
   "source": [
    "# Проверка на наличие пропусков в датасете gift_entry\n",
    "missing_values_gift_entry = df_gift_entry.isnull().sum()\n",
    "print(\"Пропущенные значения в каждом столбце:\")\n",
    "display(missing_values_gift_entry)"
   ]
  },
  {
   "cell_type": "markdown",
   "metadata": {},
   "source": [
    "**Решение по обработке**:\n",
    "\n",
    "- Пропущенное значение в столбце `entry` является ошибкой ввода и не может быть заполнено\n",
    "\n",
    "- Удалим строку с пропущенным значением"
   ]
  },
  {
   "cell_type": "code",
   "execution_count": 15,
   "metadata": {},
   "outputs": [
    {
     "name": "stdout",
     "output_type": "stream",
     "text": [
      "Размер исходного датасета: (2917, 2)\n",
      "Размер после удаления строки с пропущенным значением: (2916, 2)\n",
      "Количество удаленных строк: 1\n"
     ]
    }
   ],
   "source": [
    "# Удаление строки с пропущенным значением\n",
    "df_gift_entry_clean = df_gift_entry.dropna()\n",
    "\n",
    "# Проверка результата\n",
    "print(\"Размер исходного датасета:\", df_gift_entry.shape)\n",
    "print(\"Размер после удаления строки с пропущенным значением:\", df_gift_entry_clean.shape)\n",
    "print(\"Количество удаленных строк:\", df_gift_entry.shape[0] - df_gift_entry_clean.shape[0])"
   ]
  },
  {
   "cell_type": "markdown",
   "metadata": {},
   "source": [
    "### 1.4.2. Анализ датасета `gift_entry`"
   ]
  },
  {
   "cell_type": "code",
   "execution_count": 16,
   "metadata": {},
   "outputs": [],
   "source": [
    "# Создаем копию датафрейма с записями в нижнем регистре\n",
    "df_gift_entry_lower = df_gift_entry.copy()\n",
    "df_gift_entry_lower['entry'] = df_gift_entry_lower['entry'].str.lower()"
   ]
  },
  {
   "cell_type": "code",
   "execution_count": 17,
   "metadata": {},
   "outputs": [
    {
     "name": "stdout",
     "output_type": "stream",
     "text": [
      "\n",
      "Количество явных дубликатов:\n",
      "- без учета регистра: 0\n",
      "- с учетом нижнего регистра: 3\n"
     ]
    }
   ],
   "source": [
    "# Проверка на явные дубликаты (с учетом регистра)\n",
    "duplicates_original = df_gift_entry.duplicated(subset=['entry']).sum()  # проверяем только по столбцу entry\n",
    "duplicates_lower = df_gift_entry_lower.duplicated(subset=['entry']).sum()  # проверяем только по столбцу entry\n",
    "\n",
    "print(\"\\nКоличество явных дубликатов:\")\n",
    "print(f\"- без учета регистра: {duplicates_original}\")\n",
    "print(f\"- с учетом нижнего регистра: {duplicates_lower}\")"
   ]
  },
  {
   "cell_type": "code",
   "execution_count": 18,
   "metadata": {},
   "outputs": [
    {
     "name": "stdout",
     "output_type": "stream",
     "text": [
      "\n",
      "Проверка на дубликаты с учетом нижнего регистра:\n",
      "Найдено 2 описаний, которые повторяются:\n"
     ]
    },
    {
     "data": {
      "text/plain": [
       "entry\n",
       "форма для выпечки шоколадных кексов                  3\n",
       "шкатулка для безделушек марии-антуанетты, золотая    2\n",
       "Name: entry_id, dtype: int64"
      ]
     },
     "metadata": {},
     "output_type": "display_data"
    },
    {
     "name": "stdout",
     "output_type": "stream",
     "text": [
      "\n",
      "Примеры записей с повторяющимися описаниями (разный регистр):\n"
     ]
    },
    {
     "data": {
      "text/html": [
       "<div>\n",
       "<style scoped>\n",
       "    .dataframe tbody tr th:only-of-type {\n",
       "        vertical-align: middle;\n",
       "    }\n",
       "\n",
       "    .dataframe tbody tr th {\n",
       "        vertical-align: top;\n",
       "    }\n",
       "\n",
       "    .dataframe thead th {\n",
       "        text-align: right;\n",
       "    }\n",
       "</style>\n",
       "<table border=\"1\" class=\"dataframe\">\n",
       "  <thead>\n",
       "    <tr style=\"text-align: right;\">\n",
       "      <th></th>\n",
       "      <th>entry_id</th>\n",
       "      <th>entry</th>\n",
       "    </tr>\n",
       "  </thead>\n",
       "  <tbody>\n",
       "    <tr>\n",
       "      <th>757</th>\n",
       "      <td>757</td>\n",
       "      <td>ФОРМА для выпечки шоколадных кексов</td>\n",
       "    </tr>\n",
       "    <tr>\n",
       "      <th>764</th>\n",
       "      <td>764</td>\n",
       "      <td>Форма для выпечки шоколадных кексов</td>\n",
       "    </tr>\n",
       "    <tr>\n",
       "      <th>2778</th>\n",
       "      <td>2778</td>\n",
       "      <td>форма для выпечки шоколадных кексов</td>\n",
       "    </tr>\n",
       "  </tbody>\n",
       "</table>\n",
       "</div>"
      ],
      "text/plain": [
       "      entry_id                                entry\n",
       "757        757  ФОРМА для выпечки шоколадных кексов\n",
       "764        764  Форма для выпечки шоколадных кексов\n",
       "2778      2778  форма для выпечки шоколадных кексов"
      ]
     },
     "metadata": {},
     "output_type": "display_data"
    },
    {
     "data": {
      "text/html": [
       "<div>\n",
       "<style scoped>\n",
       "    .dataframe tbody tr th:only-of-type {\n",
       "        vertical-align: middle;\n",
       "    }\n",
       "\n",
       "    .dataframe tbody tr th {\n",
       "        vertical-align: top;\n",
       "    }\n",
       "\n",
       "    .dataframe thead th {\n",
       "        text-align: right;\n",
       "    }\n",
       "</style>\n",
       "<table border=\"1\" class=\"dataframe\">\n",
       "  <thead>\n",
       "    <tr style=\"text-align: right;\">\n",
       "      <th></th>\n",
       "      <th>entry_id</th>\n",
       "      <th>entry</th>\n",
       "    </tr>\n",
       "  </thead>\n",
       "  <tbody>\n",
       "    <tr>\n",
       "      <th>819</th>\n",
       "      <td>819</td>\n",
       "      <td>Шкатулка для безделушек Марии-Антуанетты, золотая</td>\n",
       "    </tr>\n",
       "    <tr>\n",
       "      <th>2869</th>\n",
       "      <td>2869</td>\n",
       "      <td>шкатулка для безделушек Марии-Антуанетты, золотая</td>\n",
       "    </tr>\n",
       "  </tbody>\n",
       "</table>\n",
       "</div>"
      ],
      "text/plain": [
       "      entry_id                                              entry\n",
       "819        819  Шкатулка для безделушек Марии-Антуанетты, золотая\n",
       "2869      2869  шкатулка для безделушек Марии-Антуанетты, золотая"
      ]
     },
     "metadata": {},
     "output_type": "display_data"
    }
   ],
   "source": [
    "# Проверка на неявные дубликаты (одинаковые описания с разными entry_id)\n",
    "entry_duplicates = df_gift_entry_lower.groupby('entry')['entry_id'].count().sort_values(ascending=False)\n",
    "entry_duplicates = entry_duplicates[entry_duplicates > 1]\n",
    "\n",
    "print(\"\\nПроверка на дубликаты с учетом нижнего регистра:\")\n",
    "if len(entry_duplicates) > 0:\n",
    "    print(f\"Найдено {len(entry_duplicates)} описаний, которые повторяются:\")\n",
    "    display(entry_duplicates.head())\n",
    "    \n",
    "    print(\"\\nПримеры записей с повторяющимися описаниями (разный регистр):\")\n",
    "    for entry in entry_duplicates.head().index:\n",
    "        original_entries = df_gift_entry[df_gift_entry['entry'].str.lower() == entry]\n",
    "        display(original_entries)\n",
    "else:\n",
    "    print(\"Дубликатов не найдено\")"
   ]
  },
  {
   "cell_type": "code",
   "execution_count": 19,
   "metadata": {},
   "outputs": [
    {
     "name": "stdout",
     "output_type": "stream",
     "text": [
      "\n",
      "Статистика очистки:\n",
      "Размер исходного датасета: 2917\n",
      "Размер после удаления дубликатов: 2914\n",
      "Количество удаленных дубликатов: 3\n",
      "\n",
      "Примеры записей после очистки:\n"
     ]
    },
    {
     "data": {
      "text/html": [
       "<div>\n",
       "<style scoped>\n",
       "    .dataframe tbody tr th:only-of-type {\n",
       "        vertical-align: middle;\n",
       "    }\n",
       "\n",
       "    .dataframe tbody tr th {\n",
       "        vertical-align: top;\n",
       "    }\n",
       "\n",
       "    .dataframe thead th {\n",
       "        text-align: right;\n",
       "    }\n",
       "</style>\n",
       "<table border=\"1\" class=\"dataframe\">\n",
       "  <thead>\n",
       "    <tr style=\"text-align: right;\">\n",
       "      <th></th>\n",
       "      <th>entry_id</th>\n",
       "      <th>entry</th>\n",
       "    </tr>\n",
       "  </thead>\n",
       "  <tbody>\n",
       "    <tr>\n",
       "      <th>0</th>\n",
       "      <td>0</td>\n",
       "      <td>NaN</td>\n",
       "    </tr>\n",
       "    <tr>\n",
       "      <th>1</th>\n",
       "      <td>1</td>\n",
       "      <td>10-цветная ручка spaceboy</td>\n",
       "    </tr>\n",
       "    <tr>\n",
       "      <th>2</th>\n",
       "      <td>2</td>\n",
       "      <td>12 карандашей, черепа</td>\n",
       "    </tr>\n",
       "    <tr>\n",
       "      <th>3</th>\n",
       "      <td>3</td>\n",
       "      <td>12 карандашей, высокий тюбик, лесной массив</td>\n",
       "    </tr>\n",
       "    <tr>\n",
       "      <th>4</th>\n",
       "      <td>4</td>\n",
       "      <td>12 карандашей, маленький тюбик с черепом</td>\n",
       "    </tr>\n",
       "  </tbody>\n",
       "</table>\n",
       "</div>"
      ],
      "text/plain": [
       "   entry_id                                        entry\n",
       "0         0                                          NaN\n",
       "1         1                    10-цветная ручка spaceboy\n",
       "2         2                        12 карандашей, черепа\n",
       "3         3  12 карандашей, высокий тюбик, лесной массив\n",
       "4         4     12 карандашей, маленький тюбик с черепом"
      ]
     },
     "metadata": {},
     "output_type": "display_data"
    }
   ],
   "source": [
    "# Создаем очищенный датасет с учетом регистра, сохраняя только уникальные записи по столбцу entry\n",
    "df_gift_entry_clean = df_gift_entry_lower.drop_duplicates(subset=['entry'])\n",
    "\n",
    "print(\"\\nСтатистика очистки:\")\n",
    "print(f\"Размер исходного датасета: {df_gift_entry.shape[0]}\")\n",
    "print(f\"Размер после удаления дубликатов: {df_gift_entry_clean.shape[0]}\")\n",
    "print(f\"Количество удаленных дубликатов: {df_gift_entry.shape[0] - df_gift_entry_clean.shape[0]}\")\n",
    "\n",
    "# Сохраняем оригинальные записи без дубликатов\n",
    "unique_entries = df_gift_entry_lower[['entry_id', 'entry']].drop_duplicates(subset=['entry'])\n",
    "print(\"\\nПримеры записей после очистки:\")\n",
    "display(unique_entries.head())"
   ]
  },
  {
   "cell_type": "markdown",
   "metadata": {},
   "source": [
    "---"
   ]
  },
  {
   "cell_type": "markdown",
   "metadata": {},
   "source": [
    "## 1.5. **Проверка и приведение типов данных в каждом столбце**"
   ]
  },
  {
   "cell_type": "code",
   "execution_count": 20,
   "metadata": {},
   "outputs": [
    {
     "name": "stdout",
     "output_type": "stream",
     "text": [
      "Текущие типы данных:\n"
     ]
    },
    {
     "data": {
      "text/plain": [
       "entry_date     object\n",
       "order_id        int64\n",
       "customer_id     int64\n",
       "quantity        int64\n",
       "price           int64\n",
       "name_clust      int64\n",
       "entry_id        int64\n",
       "country_id      int64\n",
       "dtype: object"
      ]
     },
     "execution_count": 20,
     "metadata": {},
     "output_type": "execute_result"
    }
   ],
   "source": [
    "# Текущие типы данных gift_clean\n",
    "print(\"Текущие типы данных:\")\n",
    "df_gift_clean.dtypes"
   ]
  },
  {
   "cell_type": "markdown",
   "metadata": {},
   "source": [
    "**Анализ типов данных**:\n",
    "\n",
    "1. `entry_date` (object):\n",
    "\n",
    "- **Нужно преобразовать в datetime для корректной работы с датами**\n",
    "\n",
    "2. `order_id` (int64):\n",
    "\n",
    "    - Тип подходящий, изменения не требуются\n",
    "\n",
    "    - Используется для идентификации заказов\n",
    "\n",
    "3. `customer_id` (int64):\n",
    "\n",
    "    - Тип подходящий, изменения не требуются\n",
    "\n",
    "    - Используется для идентификации клиентов\n",
    "\n",
    "4. `quantity` (int64):\n",
    "\n",
    "    - Тип подходящий, изменения не требуются\n",
    "\n",
    "    - Представляет количество товаров\n",
    "\n",
    "5. `price` (int64):\n",
    "\n",
    "    - Тип подходящий, но можно рассмотреть float64 если есть дробные значения\n",
    "\n",
    "    - Представляет цену товара\n",
    "\n",
    "6. `name_clust` (int64):\n",
    "\n",
    "    - Тип подходящий, изменения не требуются\n",
    "\n",
    "    - Представляет категорию товара\n",
    "\n",
    "7. `entry_id` (int64):\n",
    "\n",
    "    - Тип подходящий, изменения не требуются\n",
    "\n",
    "    - Используется для идентификации записей\n",
    "\n",
    "8. `country_id` (int64):\n",
    "\n",
    "    - Тип подходящий, изменения не требуются\n",
    "\n",
    "    - Используется для идентификации стран"
   ]
  },
  {
   "cell_type": "markdown",
   "metadata": {},
   "source": [
    "**Вывод:** Основное изменение требуется только для столбца `entry_date`, остальные типы данных соответствуют содержимому столбцов и не требуют преобразования."
   ]
  },
  {
   "cell_type": "code",
   "execution_count": 21,
   "metadata": {},
   "outputs": [],
   "source": [
    "# Преобразуем даты, используя .loc\n",
    "df_gift_clean.loc[:, 'entry_date'] = pd.to_datetime(df_gift_clean['entry_date'], format='%d/%m/%Y %H:%M')"
   ]
  },
  {
   "cell_type": "code",
   "execution_count": 22,
   "metadata": {},
   "outputs": [
    {
     "name": "stdout",
     "output_type": "stream",
     "text": [
      "\n",
      "Типы данных после преобразования:\n"
     ]
    },
    {
     "data": {
      "text/plain": [
       "entry_date     object\n",
       "order_id        int64\n",
       "customer_id     int64\n",
       "quantity        int64\n",
       "price           int64\n",
       "name_clust      int64\n",
       "entry_id        int64\n",
       "country_id      int64\n",
       "dtype: object"
      ]
     },
     "metadata": {},
     "output_type": "display_data"
    },
    {
     "name": "stdout",
     "output_type": "stream",
     "text": [
      "\n",
      "Пример преобразованных дат:\n"
     ]
    },
    {
     "data": {
      "text/plain": [
       "0    2018-01-12 08:26:00\n",
       "1    2018-01-12 08:26:00\n",
       "2    2018-01-12 08:26:00\n",
       "3    2018-01-12 08:26:00\n",
       "4    2018-01-12 08:26:00\n",
       "Name: entry_date, dtype: object"
      ]
     },
     "metadata": {},
     "output_type": "display_data"
    }
   ],
   "source": [
    "# Проверка преобразования типов\n",
    "print(\"\\nТипы данных после преобразования:\")\n",
    "display(df_gift_clean.dtypes)\n",
    "\n",
    "# Проверка корректности преобразования дат\n",
    "print(\"\\nПример преобразованных дат:\")\n",
    "display(df_gift_clean['entry_date'].head())"
   ]
  },
  {
   "cell_type": "code",
   "execution_count": 23,
   "metadata": {},
   "outputs": [
    {
     "name": "stdout",
     "output_type": "stream",
     "text": [
      "Текущие типы данных:\n"
     ]
    },
    {
     "data": {
      "text/plain": [
       "entry_id     int64\n",
       "entry       object\n",
       "dtype: object"
      ]
     },
     "execution_count": 23,
     "metadata": {},
     "output_type": "execute_result"
    }
   ],
   "source": [
    "# Текущие типы данных gift_entry_clean\n",
    "print(\"Текущие типы данных:\")\n",
    "df_gift_entry_clean.dtypes"
   ]
  },
  {
   "cell_type": "markdown",
   "metadata": {},
   "source": [
    "**Анализ типов данных**:\n",
    "\n",
    "1. `entry_id` (int64):\n",
    "\n",
    "    - Текущий тип правильный\n",
    "\n",
    "    - Это идентификатор записи, целочисленный тип подходит\n",
    "\n",
    "    - Изменение не требуется\n",
    "\n",
    "2. `entry` (object):\n",
    "\n",
    "    - Текущий тип правильный\n",
    "\n",
    "    - Содержит текстовые описания товаров\n",
    "\n",
    "    - Тип object подходит для строковых данных\n",
    "\n",
    "    - Изменение не требуется\n",
    "\n",
    "**Вывод:** Текущие типы данных оптимальны для их содержимого и назначения. Преобразование типов не требуется."
   ]
  },
  {
   "cell_type": "markdown",
   "metadata": {},
   "source": [
    "## 1.6 **Проверка соответствия идентификационных номеров**"
   ]
  },
  {
   "cell_type": "code",
   "execution_count": 24,
   "metadata": {},
   "outputs": [
    {
     "name": "stdout",
     "output_type": "stream",
     "text": [
      "Количество уникальных entry_id в df_gift_clean: 2917\n",
      "Количество уникальных entry_id в df_gift_entry_clean: 2914\n",
      "\n",
      "Количество entry_id из df_gift_clean, отсутствующих в df_gift_entry_clean: 3\n",
      "Количество entry_id из df_gift_entry_clean, отсутствующих в df_gift_clean: 0\n",
      "\n",
      "Примеры отсутствующих entry_id из df_gift_clean:\n",
      "[2778, 764, 2869]\n"
     ]
    }
   ],
   "source": [
    "# Проверка соответствия entry_id между датафреймами\n",
    "print(\"Количество уникальных entry_id в df_gift_clean:\", df_gift_clean['entry_id'].nunique())\n",
    "print(\"Количество уникальных entry_id в df_gift_entry_clean:\", df_gift_entry_clean['entry_id'].nunique())\n",
    "\n",
    "# Проверка на наличие entry_id из df_gift_clean в df_gift_entry_clean\n",
    "missing_entries = set(df_gift_clean['entry_id']) - set(df_gift_entry_clean['entry_id'])\n",
    "print(\"\\nКоличество entry_id из df_gift_clean, отсутствующих в df_gift_entry_clean:\", len(missing_entries))\n",
    "\n",
    "# Проверка на наличие entry_id из df_gift_entry_clean в df_gift_clean\n",
    "extra_entries = set(df_gift_entry_clean['entry_id']) - set(df_gift_clean['entry_id'])\n",
    "print(\"Количество entry_id из df_gift_entry_clean, отсутствующих в df_gift_clean:\", len(extra_entries))\n",
    "\n",
    "# Если есть несоответствия, показать примеры\n",
    "if len(missing_entries) > 0:\n",
    "    print(\"\\nПримеры отсутствующих entry_id из df_gift_clean:\")\n",
    "    print(list(missing_entries)[:5])\n",
    "\n",
    "if len(extra_entries) > 0:\n",
    "    print(\"\\nПримеры отсутствующих entry_id из df_gift_entry_clean:\")\n",
    "    print(list(extra_entries)[:5])"
   ]
  },
  {
   "cell_type": "code",
   "execution_count": 25,
   "metadata": {},
   "outputs": [
    {
     "name": "stdout",
     "output_type": "stream",
     "text": [
      "Количество уникальных entry_id в df_gift_clean после очистки: 2916\n",
      "Количество уникальных entry_id в df_gift_entry_clean: 2914\n",
      "\n",
      "Количество несоответствующих entry_id после очистки:\n",
      "Отсутствующие в df_gift_entry_clean: 3\n",
      "Отсутствующие в df_gift_clean: 1\n"
     ]
    }
   ],
   "source": [
    "# Удалим записи с entry_id = 0 из основного датасета\n",
    "df_gift_clean = df_gift_clean[df_gift_clean['entry_id'] != 0]\n",
    "\n",
    "# Проверим результат\n",
    "print(\"Количество уникальных entry_id в df_gift_clean после очистки:\", \n",
    "      df_gift_clean['entry_id'].nunique())\n",
    "print(\"Количество уникальных entry_id в df_gift_entry_clean:\", \n",
    "      df_gift_entry_clean['entry_id'].nunique())\n",
    "\n",
    "# Проверим соответствие после очистки\n",
    "missing_entries = set(df_gift_clean['entry_id']) - set(df_gift_entry_clean['entry_id'])\n",
    "extra_entries = set(df_gift_entry_clean['entry_id']) - set(df_gift_clean['entry_id'])\n",
    "\n",
    "print(\"\\nКоличество несоответствующих entry_id после очистки:\")\n",
    "print(\"Отсутствующие в df_gift_entry_clean:\", len(missing_entries))\n",
    "print(\"Отсутствующие в df_gift_clean:\", len(extra_entries))"
   ]
  },
  {
   "cell_type": "markdown",
   "metadata": {},
   "source": [
    "## 1.7 **Объединенние информации из всех датафреймов в один**"
   ]
  },
  {
   "cell_type": "code",
   "execution_count": 26,
   "metadata": {},
   "outputs": [
    {
     "name": "stdout",
     "output_type": "stream",
     "text": [
      "Размер исходного df_gift_clean: (351858, 8)\n",
      "Размер исходного df_gift_entry_clean: (2914, 2)\n",
      "Размер объединенного датафрейма: (351837, 9)\n",
      "\n",
      "Структура объединенного датафрейма:\n",
      "<class 'pandas.core.frame.DataFrame'>\n",
      "RangeIndex: 351837 entries, 0 to 351836\n",
      "Data columns (total 9 columns):\n",
      " #   Column       Non-Null Count   Dtype \n",
      "---  ------       --------------   ----- \n",
      " 0   entry_date   351837 non-null  object\n",
      " 1   order_id     351837 non-null  int64 \n",
      " 2   customer_id  351837 non-null  int64 \n",
      " 3   quantity     351837 non-null  int64 \n",
      " 4   price        351837 non-null  int64 \n",
      " 5   name_clust   351837 non-null  int64 \n",
      " 6   entry_id     351837 non-null  int64 \n",
      " 7   country_id   351837 non-null  int64 \n",
      " 8   entry        351837 non-null  object\n",
      "dtypes: int64(7), object(2)\n",
      "memory usage: 24.2+ MB\n"
     ]
    }
   ],
   "source": [
    "# Объединяем датафреймы по entry_id\n",
    "df_merged = df_gift_clean.merge(df_gift_entry_clean, \n",
    "                               on='entry_id', \n",
    "                               how='inner')\n",
    "\n",
    "# Проверяем результат объединения\n",
    "print(\"Размер исходного df_gift_clean:\", df_gift_clean.shape)\n",
    "print(\"Размер исходного df_gift_entry_clean:\", df_gift_entry_clean.shape)\n",
    "print(\"Размер объединенного датафрейма:\", df_merged.shape)\n",
    "\n",
    "# Проверяем структуру объединенного датафрейма\n",
    "print(\"\\nСтруктура объединенного датафрейма:\")\n",
    "df_merged.info()"
   ]
  },
  {
   "cell_type": "code",
   "execution_count": 27,
   "metadata": {},
   "outputs": [
    {
     "name": "stdout",
     "output_type": "stream",
     "text": [
      "\n",
      "Пример данных:\n"
     ]
    },
    {
     "data": {
      "text/html": [
       "<div>\n",
       "<style scoped>\n",
       "    .dataframe tbody tr th:only-of-type {\n",
       "        vertical-align: middle;\n",
       "    }\n",
       "\n",
       "    .dataframe tbody tr th {\n",
       "        vertical-align: top;\n",
       "    }\n",
       "\n",
       "    .dataframe thead th {\n",
       "        text-align: right;\n",
       "    }\n",
       "</style>\n",
       "<table border=\"1\" class=\"dataframe\">\n",
       "  <thead>\n",
       "    <tr style=\"text-align: right;\">\n",
       "      <th></th>\n",
       "      <th>entry_date</th>\n",
       "      <th>order_id</th>\n",
       "      <th>customer_id</th>\n",
       "      <th>quantity</th>\n",
       "      <th>price</th>\n",
       "      <th>name_clust</th>\n",
       "      <th>entry_id</th>\n",
       "      <th>country_id</th>\n",
       "      <th>entry</th>\n",
       "    </tr>\n",
       "  </thead>\n",
       "  <tbody>\n",
       "    <tr>\n",
       "      <th>0</th>\n",
       "      <td>2018-01-12 08:26:00</td>\n",
       "      <td>3031</td>\n",
       "      <td>2150</td>\n",
       "      <td>6</td>\n",
       "      <td>339</td>\n",
       "      <td>740</td>\n",
       "      <td>891</td>\n",
       "      <td>28</td>\n",
       "      <td>белый металлический фонарь</td>\n",
       "    </tr>\n",
       "    <tr>\n",
       "      <th>1</th>\n",
       "      <td>2018-01-12 08:26:00</td>\n",
       "      <td>3031</td>\n",
       "      <td>2150</td>\n",
       "      <td>8</td>\n",
       "      <td>275</td>\n",
       "      <td>132</td>\n",
       "      <td>1596</td>\n",
       "      <td>28</td>\n",
       "      <td>кремовая вешалка в форме сердечек купидона</td>\n",
       "    </tr>\n",
       "    <tr>\n",
       "      <th>2</th>\n",
       "      <td>2018-01-12 08:26:00</td>\n",
       "      <td>3031</td>\n",
       "      <td>2150</td>\n",
       "      <td>6</td>\n",
       "      <td>339</td>\n",
       "      <td>197</td>\n",
       "      <td>166</td>\n",
       "      <td>28</td>\n",
       "      <td>вязаная грелка с флагом союза</td>\n",
       "    </tr>\n",
       "    <tr>\n",
       "      <th>3</th>\n",
       "      <td>2018-01-12 08:26:00</td>\n",
       "      <td>3031</td>\n",
       "      <td>2150</td>\n",
       "      <td>2</td>\n",
       "      <td>765</td>\n",
       "      <td>767</td>\n",
       "      <td>1810</td>\n",
       "      <td>28</td>\n",
       "      <td>набор 7 скворечников для бабушек</td>\n",
       "    </tr>\n",
       "    <tr>\n",
       "      <th>4</th>\n",
       "      <td>2018-01-12 08:26:00</td>\n",
       "      <td>3031</td>\n",
       "      <td>2150</td>\n",
       "      <td>6</td>\n",
       "      <td>425</td>\n",
       "      <td>383</td>\n",
       "      <td>2585</td>\n",
       "      <td>28</td>\n",
       "      <td>стеклянный матовый держатель в форме звезды</td>\n",
       "    </tr>\n",
       "  </tbody>\n",
       "</table>\n",
       "</div>"
      ],
      "text/plain": [
       "            entry_date  order_id  customer_id  quantity  price  name_clust  \\\n",
       "0  2018-01-12 08:26:00      3031         2150         6    339         740   \n",
       "1  2018-01-12 08:26:00      3031         2150         8    275         132   \n",
       "2  2018-01-12 08:26:00      3031         2150         6    339         197   \n",
       "3  2018-01-12 08:26:00      3031         2150         2    765         767   \n",
       "4  2018-01-12 08:26:00      3031         2150         6    425         383   \n",
       "\n",
       "   entry_id  country_id                                        entry  \n",
       "0       891          28                   белый металлический фонарь  \n",
       "1      1596          28   кремовая вешалка в форме сердечек купидона  \n",
       "2       166          28                вязаная грелка с флагом союза  \n",
       "3      1810          28             набор 7 скворечников для бабушек  \n",
       "4      2585          28  стеклянный матовый держатель в форме звезды  "
      ]
     },
     "metadata": {},
     "output_type": "display_data"
    },
    {
     "name": "stdout",
     "output_type": "stream",
     "text": [
      "\n",
      "Количество уникальных entry_id в объединенном датафрейме: 2913\n"
     ]
    }
   ],
   "source": [
    "# Показываем первые несколько строк для проверки\n",
    "print(\"\\nПример данных:\")\n",
    "display(df_merged.head())\n",
    "\n",
    "# Проверяем, что все записи корректно объединились\n",
    "print(\"\\nКоличество уникальных entry_id в объединенном датафрейме:\", \n",
    "      df_merged['entry_id'].nunique())"
   ]
  },
  {
   "cell_type": "markdown",
   "metadata": {},
   "source": [
    "Использован `inner merge`:\n",
    "\n",
    "- Мы хотим получить только те записи, которые есть в обоих датафреймах\n",
    "\n",
    "- Удалили записи с entry_id = 0\n",
    "\n",
    "- Это обеспечит целостность данных\n",
    "\n",
    "В результате получили датафрейм, содержащий:\n",
    "\n",
    "- Все поля из df_gift_clean (даты, заказы, цены и т.д.)\n",
    "\n",
    "- Текстовые описания товаров из df_gift_entry_clean\n",
    "\n",
    "- Только валидные соответствия между записями\n",
    "\n",
    "**Теперь есть полный набор данных для дальнейшего анализа**."
   ]
  },
  {
   "cell_type": "markdown",
   "metadata": {
    "tags": []
   },
   "source": [
    "\n",
    "# Шаг 2. Предобработка и начало исследовательского анализа"
   ]
  },
  {
   "cell_type": "markdown",
   "metadata": {
    "tags": []
   },
   "source": [
    "1. Найдите выбросы и аномальные значения в столбцах `price` и `quantity`, рассчитайте сумму стоимости каждой товарной позиции в датасете, примите и реализуйте решение о сохранении или отбрасывании подозрительных данных.\n",
    "\n",
    "2. Изучите столбцы `order_id`, `customer_id`, `name_clust`, `entry_id` и `country_id`.\n",
    "\n",
    "3. Изучите полноту данных, анализируя время записей. Посчитайте по месяцам количество дней, в которых не было продаж. Выберите период для анализа, содержащий основную часть данных, и далее работайте только с актуальными данными."
   ]
  },
  {
   "cell_type": "markdown",
   "metadata": {
    "tags": []
   },
   "source": [
    "### 2.1. **Поиск выбросы и аномальные значения в столбцах `price` и `quantity`.**"
   ]
  },
  {
   "cell_type": "markdown",
   "metadata": {},
   "source": [
    "- Рассчитаем общую стоимость каждой позиции\n",
    "\n",
    "- Проанализируем распределение цен и количества\n",
    "\n",
    "- Визуализируем распределения через боксплоты\n",
    "\n",
    "- Найдем выбросы методом межквартильного размаха\n",
    "\n",
    "- Создадим очищенный датафрейм, удалив экстремальные выбросы"
   ]
  },
  {
   "cell_type": "code",
   "execution_count": 28,
   "metadata": {},
   "outputs": [],
   "source": [
    "# Добавляем столбец с общей стоимостью позиции\n",
    "df_merged['total_price'] = df_merged['price'] * df_merged['quantity']"
   ]
  },
  {
   "cell_type": "code",
   "execution_count": 29,
   "metadata": {},
   "outputs": [
    {
     "name": "stdout",
     "output_type": "stream",
     "text": [
      "Статистика по ценам:\n"
     ]
    },
    {
     "data": {
      "text/plain": [
       "count    3.518370e+05\n",
       "mean     4.033697e+02\n",
       "std      5.095590e+03\n",
       "min     -1.106206e+06\n",
       "25%      1.250000e+02\n",
       "50%      2.080000e+02\n",
       "75%      4.130000e+02\n",
       "max      1.354133e+06\n",
       "Name: price, dtype: float64"
      ]
     },
     "metadata": {},
     "output_type": "display_data"
    },
    {
     "name": "stdout",
     "output_type": "stream",
     "text": [
      "\n",
      "Топ-10 самых высоких цен:\n"
     ]
    },
    {
     "data": {
      "text/html": [
       "<div>\n",
       "<style scoped>\n",
       "    .dataframe tbody tr th:only-of-type {\n",
       "        vertical-align: middle;\n",
       "    }\n",
       "\n",
       "    .dataframe tbody tr th {\n",
       "        vertical-align: top;\n",
       "    }\n",
       "\n",
       "    .dataframe thead th {\n",
       "        text-align: right;\n",
       "    }\n",
       "</style>\n",
       "<table border=\"1\" class=\"dataframe\">\n",
       "  <thead>\n",
       "    <tr style=\"text-align: right;\">\n",
       "      <th></th>\n",
       "      <th>price</th>\n",
       "      <th>quantity</th>\n",
       "      <th>total_price</th>\n",
       "      <th>entry</th>\n",
       "    </tr>\n",
       "  </thead>\n",
       "  <tbody>\n",
       "    <tr>\n",
       "      <th>9448</th>\n",
       "      <td>1354133</td>\n",
       "      <td>1</td>\n",
       "      <td>1354133</td>\n",
       "      <td>комиссия амазон</td>\n",
       "    </tr>\n",
       "    <tr>\n",
       "      <th>194526</th>\n",
       "      <td>1106206</td>\n",
       "      <td>1</td>\n",
       "      <td>1106206</td>\n",
       "      <td>корректировка безнадежный долг</td>\n",
       "    </tr>\n",
       "    <tr>\n",
       "      <th>111132</th>\n",
       "      <td>814275</td>\n",
       "      <td>1</td>\n",
       "      <td>814275</td>\n",
       "      <td>почтовые расходы</td>\n",
       "    </tr>\n",
       "    <tr>\n",
       "      <th>193020</th>\n",
       "      <td>450517</td>\n",
       "      <td>1</td>\n",
       "      <td>450517</td>\n",
       "      <td>дотком, почтовые расходы</td>\n",
       "    </tr>\n",
       "    <tr>\n",
       "      <th>173639</th>\n",
       "      <td>428763</td>\n",
       "      <td>1</td>\n",
       "      <td>428763</td>\n",
       "      <td>руководство</td>\n",
       "    </tr>\n",
       "    <tr>\n",
       "      <th>273912</th>\n",
       "      <td>416106</td>\n",
       "      <td>1</td>\n",
       "      <td>416106</td>\n",
       "      <td>руководство</td>\n",
       "    </tr>\n",
       "    <tr>\n",
       "      <th>273925</th>\n",
       "      <td>416106</td>\n",
       "      <td>1</td>\n",
       "      <td>416106</td>\n",
       "      <td>руководство</td>\n",
       "    </tr>\n",
       "    <tr>\n",
       "      <th>263612</th>\n",
       "      <td>394932</td>\n",
       "      <td>1</td>\n",
       "      <td>394932</td>\n",
       "      <td>руководство</td>\n",
       "    </tr>\n",
       "    <tr>\n",
       "      <th>243309</th>\n",
       "      <td>315595</td>\n",
       "      <td>1</td>\n",
       "      <td>315595</td>\n",
       "      <td>руководство</td>\n",
       "    </tr>\n",
       "    <tr>\n",
       "      <th>226173</th>\n",
       "      <td>265395</td>\n",
       "      <td>1</td>\n",
       "      <td>265395</td>\n",
       "      <td>руководство</td>\n",
       "    </tr>\n",
       "  </tbody>\n",
       "</table>\n",
       "</div>"
      ],
      "text/plain": [
       "          price  quantity  total_price                           entry\n",
       "9448    1354133         1      1354133                 комиссия амазон\n",
       "194526  1106206         1      1106206  корректировка безнадежный долг\n",
       "111132   814275         1       814275                почтовые расходы\n",
       "193020   450517         1       450517        дотком, почтовые расходы\n",
       "173639   428763         1       428763                     руководство\n",
       "273912   416106         1       416106                     руководство\n",
       "273925   416106         1       416106                     руководство\n",
       "263612   394932         1       394932                     руководство\n",
       "243309   315595         1       315595                     руководство\n",
       "226173   265395         1       265395                     руководство"
      ]
     },
     "metadata": {},
     "output_type": "display_data"
    }
   ],
   "source": [
    "# Анализ распределения цен\n",
    "print(\"Статистика по ценам:\")\n",
    "display(df_merged['price'].describe())\n",
    "\n",
    "print(\"\\nТоп-10 самых высоких цен:\")\n",
    "display(df_merged.nlargest(10, 'price')[['price', 'quantity', 'total_price', 'entry']])"
   ]
  },
  {
   "cell_type": "code",
   "execution_count": 30,
   "metadata": {},
   "outputs": [
    {
     "name": "stdout",
     "output_type": "stream",
     "text": [
      "\n",
      "Статистика по количеству:\n"
     ]
    },
    {
     "data": {
      "text/plain": [
       "count    351837.000000\n",
       "mean         10.310837\n",
       "std         146.697589\n",
       "min       -9600.000000\n",
       "25%           1.000000\n",
       "50%           3.000000\n",
       "75%          10.000000\n",
       "max       80995.000000\n",
       "Name: quantity, dtype: float64"
      ]
     },
     "metadata": {},
     "output_type": "display_data"
    },
    {
     "name": "stdout",
     "output_type": "stream",
     "text": [
      "\n",
      "Топ-10 самых больших заказов по количеству:\n"
     ]
    },
    {
     "data": {
      "text/html": [
       "<div>\n",
       "<style scoped>\n",
       "    .dataframe tbody tr th:only-of-type {\n",
       "        vertical-align: middle;\n",
       "    }\n",
       "\n",
       "    .dataframe tbody tr th {\n",
       "        vertical-align: top;\n",
       "    }\n",
       "\n",
       "    .dataframe thead th {\n",
       "        text-align: right;\n",
       "    }\n",
       "</style>\n",
       "<table border=\"1\" class=\"dataframe\">\n",
       "  <thead>\n",
       "    <tr style=\"text-align: right;\">\n",
       "      <th></th>\n",
       "      <th>price</th>\n",
       "      <th>quantity</th>\n",
       "      <th>total_price</th>\n",
       "      <th>entry</th>\n",
       "    </tr>\n",
       "  </thead>\n",
       "  <tbody>\n",
       "    <tr>\n",
       "      <th>350805</th>\n",
       "      <td>208</td>\n",
       "      <td>80995</td>\n",
       "      <td>16846960</td>\n",
       "      <td>поделка из бумаги, маленькая птичка</td>\n",
       "    </tr>\n",
       "    <tr>\n",
       "      <th>325896</th>\n",
       "      <td>0</td>\n",
       "      <td>12540</td>\n",
       "      <td>0</td>\n",
       "      <td>дизайн 3d бумажные наклейки, в асс</td>\n",
       "    </tr>\n",
       "    <tr>\n",
       "      <th>175415</th>\n",
       "      <td>6</td>\n",
       "      <td>3186</td>\n",
       "      <td>19116</td>\n",
       "      <td>эфирный бальзам 3,5г банка в конверте</td>\n",
       "    </tr>\n",
       "    <tr>\n",
       "      <th>170892</th>\n",
       "      <td>0</td>\n",
       "      <td>3100</td>\n",
       "      <td>0</td>\n",
       "      <td>код красный</td>\n",
       "    </tr>\n",
       "    <tr>\n",
       "      <th>281376</th>\n",
       "      <td>32</td>\n",
       "      <td>3000</td>\n",
       "      <td>96000</td>\n",
       "      <td>маленькие ножницы в китайском стиле</td>\n",
       "    </tr>\n",
       "    <tr>\n",
       "      <th>20559</th>\n",
       "      <td>94</td>\n",
       "      <td>2400</td>\n",
       "      <td>225600</td>\n",
       "      <td>вырастить мухоловку или подсолнух в консервной...</td>\n",
       "    </tr>\n",
       "    <tr>\n",
       "      <th>55925</th>\n",
       "      <td>94</td>\n",
       "      <td>2400</td>\n",
       "      <td>225600</td>\n",
       "      <td>вырастить мухоловку или подсолнух в консервной...</td>\n",
       "    </tr>\n",
       "    <tr>\n",
       "      <th>58403</th>\n",
       "      <td>6</td>\n",
       "      <td>2400</td>\n",
       "      <td>14400</td>\n",
       "      <td>эфирный бальзам 3,5г банка в конверте</td>\n",
       "    </tr>\n",
       "    <tr>\n",
       "      <th>273431</th>\n",
       "      <td>208</td>\n",
       "      <td>2400</td>\n",
       "      <td>499200</td>\n",
       "      <td>ночник в форме кролика</td>\n",
       "    </tr>\n",
       "    <tr>\n",
       "      <th>79804</th>\n",
       "      <td>25</td>\n",
       "      <td>2160</td>\n",
       "      <td>54000</td>\n",
       "      <td>упаковка из 12 салфеток черепа</td>\n",
       "    </tr>\n",
       "  </tbody>\n",
       "</table>\n",
       "</div>"
      ],
      "text/plain": [
       "        price  quantity  total_price  \\\n",
       "350805    208     80995     16846960   \n",
       "325896      0     12540            0   \n",
       "175415      6      3186        19116   \n",
       "170892      0      3100            0   \n",
       "281376     32      3000        96000   \n",
       "20559      94      2400       225600   \n",
       "55925      94      2400       225600   \n",
       "58403       6      2400        14400   \n",
       "273431    208      2400       499200   \n",
       "79804      25      2160        54000   \n",
       "\n",
       "                                                    entry  \n",
       "350805                поделка из бумаги, маленькая птичка  \n",
       "325896                 дизайн 3d бумажные наклейки, в асс  \n",
       "175415              эфирный бальзам 3,5г банка в конверте  \n",
       "170892                                        код красный  \n",
       "281376                маленькие ножницы в китайском стиле  \n",
       "20559   вырастить мухоловку или подсолнух в консервной...  \n",
       "55925   вырастить мухоловку или подсолнух в консервной...  \n",
       "58403               эфирный бальзам 3,5г банка в конверте  \n",
       "273431                             ночник в форме кролика  \n",
       "79804                      упаковка из 12 салфеток черепа  "
      ]
     },
     "metadata": {},
     "output_type": "display_data"
    }
   ],
   "source": [
    "# Анализ распределения количества\n",
    "print(\"\\nСтатистика по количеству:\")\n",
    "display(df_merged['quantity'].describe())\n",
    "\n",
    "print(\"\\nТоп-10 самых больших заказов по количеству:\")\n",
    "display(df_merged.nlargest(10, 'quantity')[['price', 'quantity', 'total_price', 'entry']])"
   ]
  },
  {
   "cell_type": "code",
   "execution_count": 31,
   "metadata": {},
   "outputs": [
    {
     "data": {
      "image/png": "[encoded data removed]",
      "text/plain": [
       "<Figure size 1500x500 with 2 Axes>"
      ]
     },
     "metadata": {},
     "output_type": "display_data"
    }
   ],
   "source": [
    "# Визуализация распределения цен и количества\n",
    "fig, (ax1, ax2) = plt.subplots(1, 2, figsize=(15, 5))\n",
    "\n",
    "# Боксплот для цен\n",
    "sns.boxplot(y=df_merged['price'], ax=ax1)\n",
    "ax1.set_title('Распределение цен')\n",
    "ax1.set_ylabel('Цена')\n",
    "\n",
    "# Боксплот для количества\n",
    "sns.boxplot(y=df_merged['quantity'], ax=ax2)\n",
    "ax2.set_title('Распределение количества')\n",
    "ax2.set_ylabel('Количество')\n",
    "\n",
    "plt.tight_layout()\n",
    "plt.show()"
   ]
  },
  {
   "cell_type": "code",
   "execution_count": 32,
   "metadata": {},
   "outputs": [],
   "source": [
    "# Определение выбросов методом межквартильного размаха\n",
    "def find_outliers(df, column):\n",
    "    Q1 = df[column].quantile(0.25)\n",
    "    Q3 = df[column].quantile(0.75)\n",
    "    IQR = Q3 - Q1\n",
    "    lower_bound = Q1 - 1.5 * IQR\n",
    "    upper_bound = Q3 + 1.5 * IQR\n",
    "    outliers = df[(df[column] < lower_bound) | (df[column] > upper_bound)]\n",
    "    return outliers, lower_bound, upper_bound"
   ]
  },
  {
   "cell_type": "code",
   "execution_count": 33,
   "metadata": {},
   "outputs": [],
   "source": [
    "# Находим выбросы в ценах и количестве\n",
    "price_outliers, price_lower, price_upper = find_outliers(df_merged, 'price')\n",
    "quantity_outliers, quantity_lower, quantity_upper = find_outliers(df_merged, 'quantity')"
   ]
  },
  {
   "cell_type": "code",
   "execution_count": 34,
   "metadata": {},
   "outputs": [
    {
     "name": "stdout",
     "output_type": "stream",
     "text": [
      "\n",
      "Границы выбросов для цен:\n",
      "Нижняя граница: -307.00\n",
      "Верхняя граница: 845.00\n",
      "Количество выбросов по цене: 26861\n"
     ]
    }
   ],
   "source": [
    "print(\"\\nГраницы выбросов для цен:\")\n",
    "print(f\"Нижняя граница: {price_lower:.2f}\")\n",
    "print(f\"Верхняя граница: {price_upper:.2f}\")\n",
    "print(f\"Количество выбросов по цене: {len(price_outliers)}\")"
   ]
  },
  {
   "cell_type": "code",
   "execution_count": 35,
   "metadata": {},
   "outputs": [
    {
     "name": "stdout",
     "output_type": "stream",
     "text": [
      "\n",
      "Границы выбросов для количества:\n",
      "Нижняя граница: -12.50\n",
      "Верхняя граница: 23.50\n",
      "Количество выбросов по количеству: 38653\n"
     ]
    }
   ],
   "source": [
    "print(\"\\nГраницы выбросов для количества:\")\n",
    "print(f\"Нижняя граница: {quantity_lower:.2f}\")\n",
    "print(f\"Верхняя граница: {quantity_upper:.2f}\")\n",
    "print(f\"Количество выбросов по количеству: {len(quantity_outliers)}\")"
   ]
  },
  {
   "cell_type": "code",
   "execution_count": 36,
   "metadata": {},
   "outputs": [
    {
     "name": "stdout",
     "output_type": "stream",
     "text": [
      "\n",
      "Размер исходного датафрейма: 351837\n",
      "Размер очищенного датафрейма: 345208\n",
      "Удалено записей: 6629\n"
     ]
    }
   ],
   "source": [
    "# Создаем очищенный датафрейм без экстремальных выбросов\n",
    "# Используем более мягкие границы (например, 99-й перцентиль)\n",
    "price_99 = df_merged['price'].quantile(0.99)\n",
    "quantity_99 = df_merged['quantity'].quantile(0.99)\n",
    "\n",
    "df_merged_clean = df_merged[\n",
    "    (df_merged['price'] <= price_99) & \n",
    "    (df_merged['quantity'] <= quantity_99)\n",
    "]\n",
    "\n",
    "print(\"\\nРазмер исходного датафрейма:\", len(df_merged))\n",
    "print(\"Размер очищенного датафрейма:\", len(df_merged_clean))\n",
    "print(\"Удалено записей:\", len(df_merged) - len(df_merged_clean))"
   ]
  },
  {
   "cell_type": "markdown",
   "metadata": {},
   "source": [
    "**Вывод по анализу выбросов и аномальных значений:**\n",
    "\n",
    "1. **Анализ цен (price)**:\n",
    "\n",
    "   - Минимальная цена: 0 (требует проверки, возможно ошибка или акционные товары)\n",
    "\n",
    "   - Максимальная цена: 38970 \n",
    "\n",
    "   - Медианная цена: 425\n",
    "\n",
    "   - 75% товаров имеют цену до 850\n",
    "\n",
    "   - Наличие экстремальных выбросов в верхнем диапазоне цен\n",
    "\n",
    "2. **Анализ количества (quantity)**:\n",
    "\n",
    "   - Минимальное количество: 1\n",
    "\n",
    "   - Максимальное количество: 80995\n",
    "\n",
    "   - Медианное количество: 4\n",
    "\n",
    "   - 75% заказов содержат до 12 единиц товара\n",
    "   - Присутствуют очень крупные заказы (вероятно, оптовые)\n",
    "\n",
    "3. **Общая стоимость позиций (total_price = price * quantity)**:\n",
    "\n",
    "   - Выявлены очень крупные заказы, требующие дополнительной проверки\n",
    "\n",
    "   - Возможны ошибки ввода данных в случаях экстремально высоких значений\n",
    "\n",
    "4. **Решение по обработке данных**:\n",
    "\n",
    "   - Удалить записи с нулевой ценой как ошибочные\n",
    "\n",
    "   - Сохранить крупные оптовые заказы, так как они характерны для бизнес-модели магазина\n",
    "\n",
    "   - Использовать 99-й перцентиль как верхнюю границу для фильтрации экстремальных выбросов\n",
    "   \n",
    "   - Создать отдельный очищенный датасет для анализа розничных продаж\n",
    "\n",
    "**Такой подход позволит сохранить особенности бизнес-модели магазина (работа как с розничными, так и с оптовыми клиентами) и при этом избавиться от явно ошибочных данных.**\n"
   ]
  },
  {
   "cell_type": "code",
   "execution_count": 37,
   "metadata": {},
   "outputs": [],
   "source": [
    "# 1. Удаляем записи с нулевой ценой\n",
    "df_merged = df_merged[df_merged['price'] > 0]"
   ]
  },
  {
   "cell_type": "code",
   "execution_count": 38,
   "metadata": {},
   "outputs": [],
   "source": [
    "# 2. Рассчитываем сумму стоимости каждой позиции\n",
    "df_merged['total_price'] = df_merged['price'] * df_merged['quantity']"
   ]
  },
  {
   "cell_type": "code",
   "execution_count": 39,
   "metadata": {},
   "outputs": [],
   "source": [
    "# 3. Определяем пороговые значения для фильтрации экстремальных выбросов\n",
    "price_threshold = df_merged['price'].quantile(0.99)\n",
    "quantity_threshold = df_merged['quantity'].quantile(0.99)\n",
    "total_price_threshold = df_merged['total_price'].quantile(0.99)"
   ]
  },
  {
   "cell_type": "code",
   "execution_count": 40,
   "metadata": {},
   "outputs": [],
   "source": [
    "# 4. Создаем датафрейм для розничных продаж (без экстремальных выбросов)\n",
    "df_merged_retail = df_merged[\n",
    "    (df_merged['price'] <= price_threshold) & \n",
    "    (df_merged['quantity'] <= quantity_threshold) &\n",
    "    (df_merged['total_price'] <= total_price_threshold)\n",
    "]"
   ]
  },
  {
   "cell_type": "code",
   "execution_count": 41,
   "metadata": {},
   "outputs": [],
   "source": [
    "# 5. Создаем датафрейм для оптовых продаж\n",
    "df_merged_wholesale = df_merged[\n",
    "    (df_merged['quantity'] > quantity_threshold) |\n",
    "    (df_merged['total_price'] > total_price_threshold)\n",
    "]"
   ]
  },
  {
   "cell_type": "code",
   "execution_count": 42,
   "metadata": {},
   "outputs": [
    {
     "name": "stdout",
     "output_type": "stream",
     "text": [
      "Статистика после обработки данных:\n",
      "Исходное количество записей: 351273\n",
      "Количество розничных продаж: 343413\n",
      "Количество оптовых продаж: 5039\n",
      "Удалено записей с нулевой ценой: 0\n"
     ]
    }
   ],
   "source": [
    "# Выводим информацию о результатах обработки\n",
    "print(\"Статистика после обработки данных:\")\n",
    "print(f\"Исходное количество записей: {len(df_merged)}\")\n",
    "print(f\"Количество розничных продаж: {len(df_merged_retail)}\")\n",
    "print(f\"Количество оптовых продаж: {len(df_merged_wholesale)}\")\n",
    "print(f\"Удалено записей с нулевой ценой: {len(df_merged) - len(df_merged[df_merged['price'] > 0])}\")"
   ]
  },
  {
   "cell_type": "code",
   "execution_count": 43,
   "metadata": {},
   "outputs": [
    {
     "name": "stdout",
     "output_type": "stream",
     "text": [
      "\n",
      "Статистика розничных продаж:\n"
     ]
    },
    {
     "data": {
      "text/html": [
       "<div>\n",
       "<style scoped>\n",
       "    .dataframe tbody tr th:only-of-type {\n",
       "        vertical-align: middle;\n",
       "    }\n",
       "\n",
       "    .dataframe tbody tr th {\n",
       "        vertical-align: top;\n",
       "    }\n",
       "\n",
       "    .dataframe thead th {\n",
       "        text-align: right;\n",
       "    }\n",
       "</style>\n",
       "<table border=\"1\" class=\"dataframe\">\n",
       "  <thead>\n",
       "    <tr style=\"text-align: right;\">\n",
       "      <th></th>\n",
       "      <th>price</th>\n",
       "      <th>quantity</th>\n",
       "      <th>total_price</th>\n",
       "    </tr>\n",
       "  </thead>\n",
       "  <tbody>\n",
       "    <tr>\n",
       "      <th>count</th>\n",
       "      <td>343413.000000</td>\n",
       "      <td>343413.000000</td>\n",
       "      <td>343413.000000</td>\n",
       "    </tr>\n",
       "    <tr>\n",
       "      <th>mean</th>\n",
       "      <td>301.753946</td>\n",
       "      <td>7.854272</td>\n",
       "      <td>1406.013057</td>\n",
       "    </tr>\n",
       "    <tr>\n",
       "      <th>std</th>\n",
       "      <td>295.798506</td>\n",
       "      <td>12.170970</td>\n",
       "      <td>1955.618540</td>\n",
       "    </tr>\n",
       "    <tr>\n",
       "      <th>min</th>\n",
       "      <td>6.000000</td>\n",
       "      <td>1.000000</td>\n",
       "      <td>6.000000</td>\n",
       "    </tr>\n",
       "    <tr>\n",
       "      <th>25%</th>\n",
       "      <td>125.000000</td>\n",
       "      <td>1.000000</td>\n",
       "      <td>360.000000</td>\n",
       "    </tr>\n",
       "    <tr>\n",
       "      <th>50%</th>\n",
       "      <td>208.000000</td>\n",
       "      <td>3.000000</td>\n",
       "      <td>870.000000</td>\n",
       "    </tr>\n",
       "    <tr>\n",
       "      <th>75%</th>\n",
       "      <td>395.000000</td>\n",
       "      <td>10.000000</td>\n",
       "      <td>1660.000000</td>\n",
       "    </tr>\n",
       "    <tr>\n",
       "      <th>max</th>\n",
       "      <td>1995.000000</td>\n",
       "      <td>100.000000</td>\n",
       "      <td>18000.000000</td>\n",
       "    </tr>\n",
       "  </tbody>\n",
       "</table>\n",
       "</div>"
      ],
      "text/plain": [
       "               price       quantity    total_price\n",
       "count  343413.000000  343413.000000  343413.000000\n",
       "mean      301.753946       7.854272    1406.013057\n",
       "std       295.798506      12.170970    1955.618540\n",
       "min         6.000000       1.000000       6.000000\n",
       "25%       125.000000       1.000000     360.000000\n",
       "50%       208.000000       3.000000     870.000000\n",
       "75%       395.000000      10.000000    1660.000000\n",
       "max      1995.000000     100.000000   18000.000000"
      ]
     },
     "metadata": {},
     "output_type": "display_data"
    },
    {
     "name": "stdout",
     "output_type": "stream",
     "text": [
      "\n",
      "Статистика оптовых продаж:\n"
     ]
    },
    {
     "data": {
      "text/html": [
       "<div>\n",
       "<style scoped>\n",
       "    .dataframe tbody tr th:only-of-type {\n",
       "        vertical-align: middle;\n",
       "    }\n",
       "\n",
       "    .dataframe tbody tr th {\n",
       "        vertical-align: top;\n",
       "    }\n",
       "\n",
       "    .dataframe thead th {\n",
       "        text-align: right;\n",
       "    }\n",
       "</style>\n",
       "<table border=\"1\" class=\"dataframe\">\n",
       "  <thead>\n",
       "    <tr style=\"text-align: right;\">\n",
       "      <th></th>\n",
       "      <th>price</th>\n",
       "      <th>quantity</th>\n",
       "      <th>total_price</th>\n",
       "    </tr>\n",
       "  </thead>\n",
       "  <tbody>\n",
       "    <tr>\n",
       "      <th>count</th>\n",
       "      <td>5.039000e+03</td>\n",
       "      <td>5039.000000</td>\n",
       "      <td>5.039000e+03</td>\n",
       "    </tr>\n",
       "    <tr>\n",
       "      <th>mean</th>\n",
       "      <td>5.769860e+03</td>\n",
       "      <td>197.193292</td>\n",
       "      <td>3.752963e+04</td>\n",
       "    </tr>\n",
       "    <tr>\n",
       "      <th>std</th>\n",
       "      <td>3.572599e+04</td>\n",
       "      <td>1160.833747</td>\n",
       "      <td>2.420109e+05</td>\n",
       "    </tr>\n",
       "    <tr>\n",
       "      <th>min</th>\n",
       "      <td>6.000000e+00</td>\n",
       "      <td>1.000000</td>\n",
       "      <td>9.600000e+02</td>\n",
       "    </tr>\n",
       "    <tr>\n",
       "      <th>25%</th>\n",
       "      <td>7.200000e+01</td>\n",
       "      <td>54.000000</td>\n",
       "      <td>1.440000e+04</td>\n",
       "    </tr>\n",
       "    <tr>\n",
       "      <th>50%</th>\n",
       "      <td>1.790000e+02</td>\n",
       "      <td>144.000000</td>\n",
       "      <td>2.268000e+04</td>\n",
       "    </tr>\n",
       "    <tr>\n",
       "      <th>75%</th>\n",
       "      <td>4.950000e+02</td>\n",
       "      <td>200.000000</td>\n",
       "      <td>3.580000e+04</td>\n",
       "    </tr>\n",
       "    <tr>\n",
       "      <th>max</th>\n",
       "      <td>1.354133e+06</td>\n",
       "      <td>80995.000000</td>\n",
       "      <td>1.684696e+07</td>\n",
       "    </tr>\n",
       "  </tbody>\n",
       "</table>\n",
       "</div>"
      ],
      "text/plain": [
       "              price      quantity   total_price\n",
       "count  5.039000e+03   5039.000000  5.039000e+03\n",
       "mean   5.769860e+03    197.193292  3.752963e+04\n",
       "std    3.572599e+04   1160.833747  2.420109e+05\n",
       "min    6.000000e+00      1.000000  9.600000e+02\n",
       "25%    7.200000e+01     54.000000  1.440000e+04\n",
       "50%    1.790000e+02    144.000000  2.268000e+04\n",
       "75%    4.950000e+02    200.000000  3.580000e+04\n",
       "max    1.354133e+06  80995.000000  1.684696e+07"
      ]
     },
     "metadata": {},
     "output_type": "display_data"
    }
   ],
   "source": [
    "# Сохраняем базовые статистики для обоих сегментов\n",
    "print(\"\\nСтатистика розничных продаж:\")\n",
    "display(df_merged_retail[['price', 'quantity', 'total_price']].describe())\n",
    "\n",
    "print(\"\\nСтатистика оптовых продаж:\")\n",
    "display(df_merged_wholesale[['price', 'quantity', 'total_price']].describe())"
   ]
  },
  {
   "cell_type": "markdown",
   "metadata": {},
   "source": [
    "**Мы получили очищенные и структурированные данные для дальнейшего анализа, при этом сохранив информацию как о розничных, так и об оптовых продажах.**"
   ]
  },
  {
   "cell_type": "markdown",
   "metadata": {},
   "source": [
    "### 2.2. **Изучение столбцов `order_id`, `customer_id`, `name_clust`, `entry_id` и `country_id`.**"
   ]
  },
  {
   "cell_type": "code",
   "execution_count": 44,
   "metadata": {},
   "outputs": [
    {
     "name": "stdout",
     "output_type": "stream",
     "text": [
      "Анализ идентификаторов:\n",
      "\n",
      "Заказы (order_id):\n",
      "Всего уникальных заказов: 18854\n",
      "Среднее количество позиций в заказе: 18.63\n",
      "\n",
      "Топ-5 заказов по количеству позиций:\n"
     ]
    },
    {
     "data": {
      "text/plain": [
       "order_id\n",
       "40251    770\n",
       "47885    529\n",
       "48158    508\n",
       "25141    503\n",
       "47395    500\n",
       "Name: count, dtype: int64"
      ]
     },
     "metadata": {},
     "output_type": "display_data"
    }
   ],
   "source": [
    "# Анализ уникальных значений и базовой статистики\n",
    "print(\"Анализ идентификаторов:\\n\")\n",
    "\n",
    "# order_id\n",
    "print(\"Заказы (order_id):\")\n",
    "print(f\"Всего уникальных заказов: {df_merged['order_id'].nunique()}\")\n",
    "print(f\"Среднее количество позиций в заказе: {len(df_merged) / df_merged['order_id'].nunique():.2f}\")\n",
    "print(\"\\nТоп-5 заказов по количеству позиций:\")\n",
    "display(df_merged['order_id'].value_counts().head())"
   ]
  },
  {
   "cell_type": "code",
   "execution_count": 45,
   "metadata": {},
   "outputs": [
    {
     "name": "stdout",
     "output_type": "stream",
     "text": [
      "\n",
      "Клиенты (customer_id):\n",
      "Всего уникальных клиентов: 4248\n",
      "Среднее количество заказов на клиента: 4.44\n",
      "\n",
      "Топ-5 клиентов по количеству заказов:\n"
     ]
    },
    {
     "data": {
      "text/plain": [
       "customer_id\n",
       "-1       1329\n",
       " 7252     198\n",
       " 2159     121\n",
       " 5394      92\n",
       " 4689      91\n",
       "Name: order_id, dtype: int64"
      ]
     },
     "metadata": {},
     "output_type": "display_data"
    }
   ],
   "source": [
    "# customer_id\n",
    "print(\"\\nКлиенты (customer_id):\")\n",
    "print(f\"Всего уникальных клиентов: {df_merged['customer_id'].nunique()}\")\n",
    "print(f\"Среднее количество заказов на клиента: {df_merged['order_id'].nunique() / df_merged['customer_id'].nunique():.2f}\")\n",
    "print(\"\\nТоп-5 клиентов по количеству заказов:\")\n",
    "display(df_merged.groupby('customer_id')['order_id'].nunique().sort_values(ascending=False).head())"
   ]
  },
  {
   "cell_type": "code",
   "execution_count": 46,
   "metadata": {},
   "outputs": [
    {
     "name": "stdout",
     "output_type": "stream",
     "text": [
      "\n",
      "Категории товаров (name_clust):\n",
      "Всего категорий: 906\n",
      "\n",
      "Топ-10 самых популярных категорий:\n"
     ]
    },
    {
     "data": {
      "text/plain": [
       "name_clust\n",
       "427    6992\n",
       "415    4958\n",
       "516    4228\n",
       "852    3467\n",
       "223    3329\n",
       "898    3060\n",
       "726    2433\n",
       "872    2345\n",
       "102    2311\n",
       "87     2289\n",
       "Name: count, dtype: int64"
      ]
     },
     "metadata": {},
     "output_type": "display_data"
    }
   ],
   "source": [
    "# name_clust\n",
    "print(\"\\nКатегории товаров (name_clust):\")\n",
    "print(f\"Всего категорий: {df_merged['name_clust'].nunique()}\")\n",
    "print(\"\\nТоп-10 самых популярных категорий:\")\n",
    "display(df_merged['name_clust'].value_counts().head(10))"
   ]
  },
  {
   "cell_type": "code",
   "execution_count": 47,
   "metadata": {},
   "outputs": [
    {
     "name": "stdout",
     "output_type": "stream",
     "text": [
      "\n",
      "Страны (country_id):\n",
      "Всего стран: 30\n",
      "\n",
      "Распределение заказов по странам:\n"
     ]
    },
    {
     "data": {
      "text/html": [
       "<div>\n",
       "<style scoped>\n",
       "    .dataframe tbody tr th:only-of-type {\n",
       "        vertical-align: middle;\n",
       "    }\n",
       "\n",
       "    .dataframe tbody tr th {\n",
       "        vertical-align: top;\n",
       "    }\n",
       "\n",
       "    .dataframe thead th {\n",
       "        text-align: right;\n",
       "    }\n",
       "</style>\n",
       "<table border=\"1\" class=\"dataframe\">\n",
       "  <thead>\n",
       "    <tr style=\"text-align: right;\">\n",
       "      <th></th>\n",
       "      <th>Количество заказов</th>\n",
       "      <th>Количество клиентов</th>\n",
       "    </tr>\n",
       "    <tr>\n",
       "      <th>country_id</th>\n",
       "      <th></th>\n",
       "      <th></th>\n",
       "    </tr>\n",
       "  </thead>\n",
       "  <tbody>\n",
       "    <tr>\n",
       "      <th>28</th>\n",
       "      <td>17331</td>\n",
       "      <td>3872</td>\n",
       "    </tr>\n",
       "    <tr>\n",
       "      <th>6</th>\n",
       "      <td>455</td>\n",
       "      <td>94</td>\n",
       "    </tr>\n",
       "    <tr>\n",
       "      <th>5</th>\n",
       "      <td>389</td>\n",
       "      <td>88</td>\n",
       "    </tr>\n",
       "    <tr>\n",
       "      <th>3</th>\n",
       "      <td>98</td>\n",
       "      <td>25</td>\n",
       "    </tr>\n",
       "    <tr>\n",
       "      <th>16</th>\n",
       "      <td>91</td>\n",
       "      <td>9</td>\n",
       "    </tr>\n",
       "    <tr>\n",
       "      <th>23</th>\n",
       "      <td>89</td>\n",
       "      <td>30</td>\n",
       "    </tr>\n",
       "    <tr>\n",
       "      <th>19</th>\n",
       "      <td>57</td>\n",
       "      <td>20</td>\n",
       "    </tr>\n",
       "    <tr>\n",
       "      <th>0</th>\n",
       "      <td>55</td>\n",
       "      <td>9</td>\n",
       "    </tr>\n",
       "    <tr>\n",
       "      <th>25</th>\n",
       "      <td>54</td>\n",
       "      <td>22</td>\n",
       "    </tr>\n",
       "    <tr>\n",
       "      <th>11</th>\n",
       "      <td>38</td>\n",
       "      <td>14</td>\n",
       "    </tr>\n",
       "    <tr>\n",
       "      <th>17</th>\n",
       "      <td>36</td>\n",
       "      <td>10</td>\n",
       "    </tr>\n",
       "    <tr>\n",
       "      <th>24</th>\n",
       "      <td>33</td>\n",
       "      <td>8</td>\n",
       "    </tr>\n",
       "    <tr>\n",
       "      <th>18</th>\n",
       "      <td>19</td>\n",
       "      <td>6</td>\n",
       "    </tr>\n",
       "    <tr>\n",
       "      <th>12</th>\n",
       "      <td>18</td>\n",
       "      <td>8</td>\n",
       "    </tr>\n",
       "    <tr>\n",
       "      <th>1</th>\n",
       "      <td>17</td>\n",
       "      <td>11</td>\n",
       "    </tr>\n",
       "    <tr>\n",
       "      <th>29</th>\n",
       "      <td>13</td>\n",
       "      <td>5</td>\n",
       "    </tr>\n",
       "    <tr>\n",
       "      <th>8</th>\n",
       "      <td>11</td>\n",
       "      <td>1</td>\n",
       "    </tr>\n",
       "    <tr>\n",
       "      <th>10</th>\n",
       "      <td>7</td>\n",
       "      <td>4</td>\n",
       "    </tr>\n",
       "    <tr>\n",
       "      <th>9</th>\n",
       "      <td>7</td>\n",
       "      <td>1</td>\n",
       "    </tr>\n",
       "    <tr>\n",
       "      <th>22</th>\n",
       "      <td>7</td>\n",
       "      <td>1</td>\n",
       "    </tr>\n",
       "    <tr>\n",
       "      <th>7</th>\n",
       "      <td>5</td>\n",
       "      <td>4</td>\n",
       "    </tr>\n",
       "    <tr>\n",
       "      <th>26</th>\n",
       "      <td>5</td>\n",
       "      <td>4</td>\n",
       "    </tr>\n",
       "    <tr>\n",
       "      <th>15</th>\n",
       "      <td>5</td>\n",
       "      <td>2</td>\n",
       "    </tr>\n",
       "    <tr>\n",
       "      <th>14</th>\n",
       "      <td>4</td>\n",
       "      <td>1</td>\n",
       "    </tr>\n",
       "    <tr>\n",
       "      <th>27</th>\n",
       "      <td>3</td>\n",
       "      <td>2</td>\n",
       "    </tr>\n",
       "    <tr>\n",
       "      <th>2</th>\n",
       "      <td>3</td>\n",
       "      <td>3</td>\n",
       "    </tr>\n",
       "    <tr>\n",
       "      <th>13</th>\n",
       "      <td>1</td>\n",
       "      <td>1</td>\n",
       "    </tr>\n",
       "    <tr>\n",
       "      <th>20</th>\n",
       "      <td>1</td>\n",
       "      <td>1</td>\n",
       "    </tr>\n",
       "    <tr>\n",
       "      <th>21</th>\n",
       "      <td>1</td>\n",
       "      <td>1</td>\n",
       "    </tr>\n",
       "    <tr>\n",
       "      <th>4</th>\n",
       "      <td>1</td>\n",
       "      <td>1</td>\n",
       "    </tr>\n",
       "  </tbody>\n",
       "</table>\n",
       "</div>"
      ],
      "text/plain": [
       "            Количество заказов  Количество клиентов\n",
       "country_id                                         \n",
       "28                       17331                 3872\n",
       "6                          455                   94\n",
       "5                          389                   88\n",
       "3                           98                   25\n",
       "16                          91                    9\n",
       "23                          89                   30\n",
       "19                          57                   20\n",
       "0                           55                    9\n",
       "25                          54                   22\n",
       "11                          38                   14\n",
       "17                          36                   10\n",
       "24                          33                    8\n",
       "18                          19                    6\n",
       "12                          18                    8\n",
       "1                           17                   11\n",
       "29                          13                    5\n",
       "8                           11                    1\n",
       "10                           7                    4\n",
       "9                            7                    1\n",
       "22                           7                    1\n",
       "7                            5                    4\n",
       "26                           5                    4\n",
       "15                           5                    2\n",
       "14                           4                    1\n",
       "27                           3                    2\n",
       "2                            3                    3\n",
       "13                           1                    1\n",
       "20                           1                    1\n",
       "21                           1                    1\n",
       "4                            1                    1"
      ]
     },
     "metadata": {},
     "output_type": "display_data"
    }
   ],
   "source": [
    "# country_id\n",
    "print(\"\\nСтраны (country_id):\")\n",
    "print(f\"Всего стран: {df_merged['country_id'].nunique()}\")\n",
    "print(\"\\nРаспределение заказов по странам:\")\n",
    "country_orders = df_merged.groupby('country_id').agg({\n",
    "    'order_id': 'nunique',\n",
    "    'customer_id': 'nunique'\n",
    "}).rename(columns={\n",
    "    'order_id': 'Количество заказов',\n",
    "    'customer_id': 'Количество клиентов'\n",
    "})\n",
    "display(country_orders.sort_values('Количество заказов', ascending=False))"
   ]
  },
  {
   "cell_type": "code",
   "execution_count": 48,
   "metadata": {},
   "outputs": [
    {
     "name": "stdout",
     "output_type": "stream",
     "text": [
      "\n",
      "Анализ взаимосвязей:\n",
      "Среднее количество категорий в заказе: 15.39\n"
     ]
    }
   ],
   "source": [
    "# Анализ взаимосвязей\n",
    "print(\"\\nАнализ взаимосвязей:\")\n",
    "# Среднее количество категорий товаров в заказе\n",
    "avg_categories_per_order = df_merged.groupby('order_id')['name_clust'].nunique().mean()\n",
    "print(f\"Среднее количество категорий в заказе: {avg_categories_per_order:.2f}\")"
   ]
  },
  {
   "cell_type": "code",
   "execution_count": 49,
   "metadata": {},
   "outputs": [
    {
     "name": "stdout",
     "output_type": "stream",
     "text": [
      "\n",
      "Распределение клиентов по странам (топ-5):\n"
     ]
    },
    {
     "data": {
      "text/plain": [
       "country_id\n",
       "28    3872\n",
       "6       94\n",
       "5       88\n",
       "23      30\n",
       "3       25\n",
       "Name: customer_id, dtype: int64"
      ]
     },
     "metadata": {},
     "output_type": "display_data"
    }
   ],
   "source": [
    "# Распределение клиентов по странам\n",
    "customers_by_country = df_merged.groupby('country_id')['customer_id'].nunique()\n",
    "print(\"\\nРаспределение клиентов по странам (топ-5):\")\n",
    "display(customers_by_country.sort_values(ascending=False).head())"
   ]
  },
  {
   "cell_type": "markdown",
   "metadata": {},
   "source": [
    "#### **Детальный вывод по анализу идентификаторов:**\n",
    "\n",
    "1. **Анализ заказов (order_id)**:\n",
    "   - Всего уникальных заказов: от 3031 до 48253 (диапазон номеров)\n",
    "   - Среднее значение номера заказа: 26,688\n",
    "   - Медианное значение: 27,378\n",
    "   - Распределение равномерное (стандартное отклонение 13,381)\n",
    "\n",
    "2. **Анализ клиентов (customer_id)**:\n",
    "   - Диапазон ID клиентов: от -1 до 7653\n",
    "   - Среднее значение ID: 3,487\n",
    "   - Есть аномальные значения (customer_id = -1)\n",
    "   - Медиана: 3,633\n",
    "\n",
    "3. **Анализ категорий товаров (name_clust)**:\n",
    "   - Всего категорий: 930 (от 0 до 929)\n",
    "   - Среднее значение кластера: 469\n",
    "   - Стандартное отклонение: 259\n",
    "   - Равномерное распределение по квартилям\n",
    "\n",
    "4. **Анализ стран (country_id)**:\n",
    "   - Количество стран: 30 (от 0 до 29)\n",
    "   - Медиана и 75-й перцентиль равны 28, что указывает на концентрацию заказов в одной стране\n",
    "   - Среднее значение: 26.75\n",
    "   - Стандартное отклонение: 4.98\n",
    "\n",
    "5. **Взаимосвязи**:\n",
    "   - Большинство заказов сконцентрировано в одной стране (country_id = 28)\n",
    "   - Есть клиенты с множественными заказами\n",
    "   - Категории товаров распределены относительно равномерно"
   ]
  },
  {
   "cell_type": "markdown",
   "metadata": {},
   "source": [
    "### 2.3. **Корреляционный анализ метрик**"
   ]
  },
  {
   "cell_type": "code",
   "execution_count": 50,
   "metadata": {},
   "outputs": [],
   "source": [
    "# Создаем датафрейм с числовыми метриками для корреляционного анализа\n",
    "correlation_df = df_merged[[\n",
    "    'price',\n",
    "    'quantity',\n",
    "    'order_id',\n",
    "    'customer_id',\n",
    "    'name_clust',\n",
    "    'country_id'\n",
    "]].copy()\n",
    "\n",
    "# Добавляем расчет total_price\n",
    "correlation_df['total_price'] = correlation_df['price'] * correlation_df['quantity']"
   ]
  },
  {
   "cell_type": "code",
   "execution_count": 51,
   "metadata": {},
   "outputs": [
    {
     "data": {
      "image/png": "[encoded data removed]",
      "text/plain": [
       "<Figure size 1200x800 with 2 Axes>"
      ]
     },
     "metadata": {},
     "output_type": "display_data"
    }
   ],
   "source": [
    "# Создаем корреляционную матрицу\n",
    "correlation_matrix = correlation_df.corr()\n",
    "\n",
    "# Визуализируем корреляционную матрицу\n",
    "plt.figure(figsize=(12, 8))\n",
    "sns.heatmap(correlation_matrix, \n",
    "            annot=True, \n",
    "            cmap='coolwarm', \n",
    "            center=0,\n",
    "            fmt='.2f')\n",
    "plt.title('Корреляционная матрица основных метрик')\n",
    "plt.tight_layout()\n",
    "plt.show()"
   ]
  },
  {
   "cell_type": "code",
   "execution_count": 52,
   "metadata": {},
   "outputs": [],
   "source": [
    "# Анализируем корреляции на уровне клиентов\n",
    "customer_metrics = df_merged.groupby('customer_id').agg({\n",
    "    'order_id': 'count',\n",
    "    'price': ['mean', 'sum'],\n",
    "    'quantity': 'mean'\n",
    "}).round(2)\n",
    "\n",
    "# Переименовываем столбцы для удобства\n",
    "customer_metrics.columns = [\n",
    "    'orders_count',\n",
    "    'avg_price',\n",
    "    'total_spent',\n",
    "    'avg_quantity'\n",
    "]"
   ]
  },
  {
   "cell_type": "code",
   "execution_count": 53,
   "metadata": {},
   "outputs": [
    {
     "data": {
      "image/png": "[encoded data removed]",
      "text/plain": [
       "<Figure size 1000x600 with 2 Axes>"
      ]
     },
     "metadata": {},
     "output_type": "display_data"
    }
   ],
   "source": [
    "# Создаем корреляционную матрицу для клиентских метрик\n",
    "customer_correlation = customer_metrics.corr()\n",
    "\n",
    "plt.figure(figsize=(10, 6))\n",
    "sns.heatmap(customer_correlation,\n",
    "            annot=True,\n",
    "            cmap='coolwarm',\n",
    "            center=0,\n",
    "            fmt='.2f')\n",
    "plt.title('Корреляционная матрица клиентских метрик')\n",
    "plt.tight_layout()\n",
    "plt.show()"
   ]
  },
  {
   "cell_type": "code",
   "execution_count": 54,
   "metadata": {},
   "outputs": [
    {
     "name": "stdout",
     "output_type": "stream",
     "text": [
      "\n",
      "Ключевые выявленные взаимосвязи:\n",
      "orders_count - total_spent: 1.00\n"
     ]
    }
   ],
   "source": [
    "# Выводим ключевые корреляции\n",
    "print(\"\\nКлючевые выявленные взаимосвязи:\")\n",
    "for col1 in customer_correlation.columns:\n",
    "    for col2 in customer_correlation.columns:\n",
    "        if col1 < col2:  # избегаем дублирования\n",
    "            corr = customer_correlation.loc[col1, col2]\n",
    "            if abs(corr) > 0.3:  # выводим только значимые корреляции\n",
    "                print(f\"{col1} - {col2}: {corr:.2f}\")"
   ]
  },
  {
   "cell_type": "markdown",
   "metadata": {},
   "source": [
    "#### **Вывод по корреляционному анализу:**"
   ]
  },
  {
   "cell_type": "markdown",
   "metadata": {},
   "source": [
    "**Основные метрики:**\n",
    "\n",
    "1. Сильная положительная корреляция (0.97) между quantity и total_price\n",
    "   - Логичная связь: чем больше товаров, тем выше общая стоимость\n",
    "   - Цена единицы товара слабо влияет на общую стоимость (корреляция 0.15)\n",
    "\n",
    "2. Умеренная отрицательная корреляция (-0.36) между customer_id и country_id\n",
    "   - Может указывать на географические особенности распределения клиентской базы\n",
    "\n",
    "3. Остальные корреляции близки к нулю, что говорит о независимости большинства метрик\n",
    "\n",
    "**Клиентские метрики:**\n",
    "\n",
    "1. Очень сильная корреляция (1.00) между количеством заказов (orders_count) и общими тратами (total_spent)\n",
    "   - Показывает, что основной фактор роста выручки - частота заказов\n",
    "   - Средний чек (avg_price) практически не влияет на общие траты\n",
    "\n",
    "2. Отсутствие значимых корреляций с avg_quantity\n",
    "\n",
    "   - Размер заказа в штуках не связан с другими метриками\n",
    "   - Клиенты придерживаются стабильного размера заказа независимо от частоты покупок"
   ]
  },
  {
   "cell_type": "markdown",
   "metadata": {},
   "source": [
    "## 2.4 **Изучение полноты данных, анализируя время записей**"
   ]
  },
  {
   "cell_type": "code",
   "execution_count": 55,
   "metadata": {},
   "outputs": [
    {
     "name": "stdout",
     "output_type": "stream",
     "text": [
      "Анализ полноты данных по месяцам:\n"
     ]
    },
    {
     "data": {
      "text/html": [
       "<div>\n",
       "<style scoped>\n",
       "    .dataframe tbody tr th:only-of-type {\n",
       "        vertical-align: middle;\n",
       "    }\n",
       "\n",
       "    .dataframe tbody tr th {\n",
       "        vertical-align: top;\n",
       "    }\n",
       "\n",
       "    .dataframe thead th {\n",
       "        text-align: right;\n",
       "    }\n",
       "</style>\n",
       "<table border=\"1\" class=\"dataframe\">\n",
       "  <thead>\n",
       "    <tr style=\"text-align: right;\">\n",
       "      <th></th>\n",
       "      <th>total_days</th>\n",
       "      <th>days_with_sales</th>\n",
       "      <th>days_without_sales</th>\n",
       "      <th>number_of_orders</th>\n",
       "      <th>total_revenue</th>\n",
       "    </tr>\n",
       "    <tr>\n",
       "      <th>year_month</th>\n",
       "      <th></th>\n",
       "      <th></th>\n",
       "      <th></th>\n",
       "      <th></th>\n",
       "      <th></th>\n",
       "    </tr>\n",
       "  </thead>\n",
       "  <tbody>\n",
       "    <tr>\n",
       "      <th>2018-01</th>\n",
       "      <td>20</td>\n",
       "      <td>1</td>\n",
       "      <td>19</td>\n",
       "      <td>1975.0</td>\n",
       "      <td>844053.0</td>\n",
       "    </tr>\n",
       "    <tr>\n",
       "      <th>2018-02</th>\n",
       "      <td>28</td>\n",
       "      <td>1</td>\n",
       "      <td>27</td>\n",
       "      <td>1321.0</td>\n",
       "      <td>440132.0</td>\n",
       "    </tr>\n",
       "    <tr>\n",
       "      <th>2018-03</th>\n",
       "      <td>31</td>\n",
       "      <td>1</td>\n",
       "      <td>30</td>\n",
       "      <td>1372.0</td>\n",
       "      <td>739661.0</td>\n",
       "    </tr>\n",
       "    <tr>\n",
       "      <th>2018-04</th>\n",
       "      <td>30</td>\n",
       "      <td>0</td>\n",
       "      <td>30</td>\n",
       "      <td>NaN</td>\n",
       "      <td>NaN</td>\n",
       "    </tr>\n",
       "    <tr>\n",
       "      <th>2018-05</th>\n",
       "      <td>31</td>\n",
       "      <td>1</td>\n",
       "      <td>30</td>\n",
       "      <td>1705.0</td>\n",
       "      <td>478616.0</td>\n",
       "    </tr>\n",
       "    <tr>\n",
       "      <th>2018-06</th>\n",
       "      <td>30</td>\n",
       "      <td>1</td>\n",
       "      <td>29</td>\n",
       "      <td>2456.0</td>\n",
       "      <td>1194111.0</td>\n",
       "    </tr>\n",
       "    <tr>\n",
       "      <th>2018-07</th>\n",
       "      <td>31</td>\n",
       "      <td>1</td>\n",
       "      <td>30</td>\n",
       "      <td>1896.0</td>\n",
       "      <td>2609797.0</td>\n",
       "    </tr>\n",
       "    <tr>\n",
       "      <th>2018-08</th>\n",
       "      <td>31</td>\n",
       "      <td>1</td>\n",
       "      <td>30</td>\n",
       "      <td>1688.0</td>\n",
       "      <td>628808.0</td>\n",
       "    </tr>\n",
       "    <tr>\n",
       "      <th>2018-09</th>\n",
       "      <td>30</td>\n",
       "      <td>1</td>\n",
       "      <td>29</td>\n",
       "      <td>1762.0</td>\n",
       "      <td>994065.0</td>\n",
       "    </tr>\n",
       "    <tr>\n",
       "      <th>2018-10</th>\n",
       "      <td>31</td>\n",
       "      <td>1</td>\n",
       "      <td>30</td>\n",
       "      <td>1692.0</td>\n",
       "      <td>831314.0</td>\n",
       "    </tr>\n",
       "    <tr>\n",
       "      <th>2018-11</th>\n",
       "      <td>30</td>\n",
       "      <td>0</td>\n",
       "      <td>30</td>\n",
       "      <td>NaN</td>\n",
       "      <td>NaN</td>\n",
       "    </tr>\n",
       "    <tr>\n",
       "      <th>2018-12</th>\n",
       "      <td>31</td>\n",
       "      <td>11</td>\n",
       "      <td>20</td>\n",
       "      <td>10885.0</td>\n",
       "      <td>5367487.0</td>\n",
       "    </tr>\n",
       "    <tr>\n",
       "      <th>2019-01</th>\n",
       "      <td>31</td>\n",
       "      <td>26</td>\n",
       "      <td>5</td>\n",
       "      <td>23557.0</td>\n",
       "      <td>9123276.0</td>\n",
       "    </tr>\n",
       "    <tr>\n",
       "      <th>2019-02</th>\n",
       "      <td>28</td>\n",
       "      <td>22</td>\n",
       "      <td>6</td>\n",
       "      <td>20700.0</td>\n",
       "      <td>8112936.0</td>\n",
       "    </tr>\n",
       "    <tr>\n",
       "      <th>2019-03</th>\n",
       "      <td>31</td>\n",
       "      <td>26</td>\n",
       "      <td>5</td>\n",
       "      <td>23386.0</td>\n",
       "      <td>10451083.0</td>\n",
       "    </tr>\n",
       "    <tr>\n",
       "      <th>2019-04</th>\n",
       "      <td>30</td>\n",
       "      <td>22</td>\n",
       "      <td>8</td>\n",
       "      <td>24548.0</td>\n",
       "      <td>9740935.0</td>\n",
       "    </tr>\n",
       "    <tr>\n",
       "      <th>2019-05</th>\n",
       "      <td>31</td>\n",
       "      <td>24</td>\n",
       "      <td>7</td>\n",
       "      <td>26070.0</td>\n",
       "      <td>10823098.0</td>\n",
       "    </tr>\n",
       "    <tr>\n",
       "      <th>2019-06</th>\n",
       "      <td>30</td>\n",
       "      <td>27</td>\n",
       "      <td>3</td>\n",
       "      <td>27395.0</td>\n",
       "      <td>9475875.0</td>\n",
       "    </tr>\n",
       "    <tr>\n",
       "      <th>2019-07</th>\n",
       "      <td>31</td>\n",
       "      <td>27</td>\n",
       "      <td>4</td>\n",
       "      <td>28496.0</td>\n",
       "      <td>11181109.0</td>\n",
       "    </tr>\n",
       "    <tr>\n",
       "      <th>2019-08</th>\n",
       "      <td>31</td>\n",
       "      <td>25</td>\n",
       "      <td>6</td>\n",
       "      <td>28017.0</td>\n",
       "      <td>11202108.0</td>\n",
       "    </tr>\n",
       "    <tr>\n",
       "      <th>2019-09</th>\n",
       "      <td>30</td>\n",
       "      <td>26</td>\n",
       "      <td>4</td>\n",
       "      <td>31454.0</td>\n",
       "      <td>12057613.0</td>\n",
       "    </tr>\n",
       "    <tr>\n",
       "      <th>2019-10</th>\n",
       "      <td>31</td>\n",
       "      <td>26</td>\n",
       "      <td>5</td>\n",
       "      <td>34960.0</td>\n",
       "      <td>14920132.0</td>\n",
       "    </tr>\n",
       "    <tr>\n",
       "      <th>2019-11</th>\n",
       "      <td>30</td>\n",
       "      <td>26</td>\n",
       "      <td>4</td>\n",
       "      <td>47662.0</td>\n",
       "      <td>18823541.0</td>\n",
       "    </tr>\n",
       "    <tr>\n",
       "      <th>2019-12</th>\n",
       "      <td>10</td>\n",
       "      <td>8</td>\n",
       "      <td>2</td>\n",
       "      <td>8276.0</td>\n",
       "      <td>4093038.0</td>\n",
       "    </tr>\n",
       "  </tbody>\n",
       "</table>\n",
       "</div>"
      ],
      "text/plain": [
       "            total_days  days_with_sales  days_without_sales  number_of_orders  \\\n",
       "year_month                                                                      \n",
       "2018-01             20                1                  19            1975.0   \n",
       "2018-02             28                1                  27            1321.0   \n",
       "2018-03             31                1                  30            1372.0   \n",
       "2018-04             30                0                  30               NaN   \n",
       "2018-05             31                1                  30            1705.0   \n",
       "2018-06             30                1                  29            2456.0   \n",
       "2018-07             31                1                  30            1896.0   \n",
       "2018-08             31                1                  30            1688.0   \n",
       "2018-09             30                1                  29            1762.0   \n",
       "2018-10             31                1                  30            1692.0   \n",
       "2018-11             30                0                  30               NaN   \n",
       "2018-12             31               11                  20           10885.0   \n",
       "2019-01             31               26                   5           23557.0   \n",
       "2019-02             28               22                   6           20700.0   \n",
       "2019-03             31               26                   5           23386.0   \n",
       "2019-04             30               22                   8           24548.0   \n",
       "2019-05             31               24                   7           26070.0   \n",
       "2019-06             30               27                   3           27395.0   \n",
       "2019-07             31               27                   4           28496.0   \n",
       "2019-08             31               25                   6           28017.0   \n",
       "2019-09             30               26                   4           31454.0   \n",
       "2019-10             31               26                   5           34960.0   \n",
       "2019-11             30               26                   4           47662.0   \n",
       "2019-12             10                8                   2            8276.0   \n",
       "\n",
       "            total_revenue  \n",
       "year_month                 \n",
       "2018-01          844053.0  \n",
       "2018-02          440132.0  \n",
       "2018-03          739661.0  \n",
       "2018-04               NaN  \n",
       "2018-05          478616.0  \n",
       "2018-06         1194111.0  \n",
       "2018-07         2609797.0  \n",
       "2018-08          628808.0  \n",
       "2018-09          994065.0  \n",
       "2018-10          831314.0  \n",
       "2018-11               NaN  \n",
       "2018-12         5367487.0  \n",
       "2019-01         9123276.0  \n",
       "2019-02         8112936.0  \n",
       "2019-03        10451083.0  \n",
       "2019-04         9740935.0  \n",
       "2019-05        10823098.0  \n",
       "2019-06         9475875.0  \n",
       "2019-07        11181109.0  \n",
       "2019-08        11202108.0  \n",
       "2019-09        12057613.0  \n",
       "2019-10        14920132.0  \n",
       "2019-11        18823541.0  \n",
       "2019-12         4093038.0  "
      ]
     },
     "metadata": {},
     "output_type": "display_data"
    }
   ],
   "source": [
    "# Преобразуем entry_date в datetime формат\n",
    "df_merged['entry_date'] = pd.to_datetime(df_merged['entry_date'])\n",
    "\n",
    "# Создаем датафрейм с датами\n",
    "df_merged['date'] = df_merged['entry_date'].dt.date\n",
    "\n",
    "# Получаем все возможные даты в диапазоне\n",
    "date_range = pd.date_range(start=df_merged['entry_date'].min(),\n",
    "                          end=df_merged['entry_date'].max(),\n",
    "                          freq='D')\n",
    "\n",
    "# Получаем фактические даты продаж\n",
    "actual_dates = df_merged['date'].unique()\n",
    "\n",
    "# Анализ по месяцам\n",
    "monthly_analysis = pd.DataFrame({\n",
    "    'year_month': date_range.strftime('%Y-%m'),\n",
    "    'date': date_range.date\n",
    "}).groupby('year_month').agg(\n",
    "    total_days=('date', 'count'),\n",
    "    days_with_sales=('date', lambda x: sum(d in actual_dates for d in x)),\n",
    ")\n",
    "\n",
    "monthly_analysis['days_without_sales'] = monthly_analysis['total_days'] - monthly_analysis['days_with_sales']\n",
    "\n",
    "# Добавляем анализ объема продаж по месяцам\n",
    "monthly_sales = df_merged.groupby(df_merged['entry_date'].dt.strftime('%Y-%m')).agg({\n",
    "    'order_id': 'count',\n",
    "    'price': 'sum'\n",
    "}).rename(columns={\n",
    "    'order_id': 'number_of_orders',\n",
    "    'price': 'total_revenue'\n",
    "})\n",
    "\n",
    "# Объединяем анализы\n",
    "monthly_complete = monthly_analysis.join(monthly_sales)\n",
    "\n",
    "print(\"Анализ полноты данных по месяцам:\")\n",
    "display(monthly_complete)"
   ]
  },
  {
   "cell_type": "code",
   "execution_count": 56,
   "metadata": {},
   "outputs": [
    {
     "data": {
      "image/png": "[encoded data removed]",
      "text/plain": [
       "<Figure size 1500x600 with 1 Axes>"
      ]
     },
     "metadata": {},
     "output_type": "display_data"
    }
   ],
   "source": [
    "# Визуализация\n",
    "plt.figure(figsize=(15, 6))\n",
    "plt.bar(range(len(monthly_complete)), monthly_complete['days_without_sales'])\n",
    "plt.xticks(range(len(monthly_complete)), monthly_complete.index, rotation=45)\n",
    "plt.title('Количество дней без продаж по месяцам')\n",
    "plt.xlabel('Месяц')\n",
    "plt.ylabel('Дни без продаж')\n",
    "plt.tight_layout()\n",
    "plt.show()"
   ]
  },
  {
   "cell_type": "code",
   "execution_count": 57,
   "metadata": {},
   "outputs": [
    {
     "name": "stdout",
     "output_type": "stream",
     "text": [
      "\n",
      "Рекомендуемый период для анализа:\n",
      "С 2019-01 по 2019-12\n"
     ]
    }
   ],
   "source": [
    "# Определение основного периода для анализа\n",
    "print(\"\\nРекомендуемый период для анализа:\")\n",
    "recommended_period = monthly_complete[\n",
    "    monthly_complete['days_without_sales'] <= monthly_complete['days_without_sales'].median()\n",
    "].index\n",
    "\n",
    "print(f\"С {recommended_period[0]} по {recommended_period[-1]}\")"
   ]
  },
  {
   "cell_type": "markdown",
   "metadata": {},
   "source": [
    "1. **Анализ полноты данных**:\n",
    "\n",
    "- В 2018 году (январь-ноябрь) наблюдается очень низкая активность - почти все дни без продаж (27-30 дней в месяц)\n",
    "- Декабрь 2018 показывает рост активности (20 дней без продаж)\n",
    "- С января 2019 ситуация кардинально меняется:\n",
    "  - Количество дней без продаж снижается до 3-8 дней в месяц\n",
    "  - Значительно возрастает количество заказов (с ~1-2 тыс. до 20-34 тыс. в месяц)\n",
    "\n",
    "2. **Оптимальный период для анализа**:\n",
    "- Период с января 2019 по сентябрь 2019 (включительно):\n",
    "- Данные наиболее полные (3-8 дней без продаж)\n",
    "- Стабильное количество заказов\n",
    "- Октябрь-декабрь 2019 могут содержать неполные данные"
   ]
  },
  {
   "cell_type": "markdown",
   "metadata": {},
   "source": [
    "**Этот период (январь-сентябрь 2019) даст нам наиболее репрезентативные данные для дальнейшего анализа.**"
   ]
  },
  {
   "cell_type": "code",
   "execution_count": 58,
   "metadata": {},
   "outputs": [
    {
     "name": "stdout",
     "output_type": "stream",
     "text": [
      "\n",
      "Размер итогового датасета: 232435\n",
      "Процент сохраненных данных: 66.17%\n"
     ]
    }
   ],
   "source": [
    "# Создаем финальный датафрейм с отфильтрованными данными\n",
    "df_final = df_merged[\n",
    "    (df_merged['entry_date'] >= pd.to_datetime('2019-01-01')) &\n",
    "    (df_merged['entry_date'] <= pd.to_datetime('2019-09-30'))\n",
    "].copy()  # создаем явную копию\n",
    "\n",
    "print(\"\\nРазмер итогового датасета:\", len(df_final))\n",
    "print(\"Процент сохраненных данных: {:.2f}%\".format(\n",
    "    len(df_final) / len(df_merged) * 100\n",
    "))"
   ]
  },
  {
   "cell_type": "code",
   "execution_count": 59,
   "metadata": {},
   "outputs": [
    {
     "data": {
      "text/html": [
       "<div>\n",
       "<style scoped>\n",
       "    .dataframe tbody tr th:only-of-type {\n",
       "        vertical-align: middle;\n",
       "    }\n",
       "\n",
       "    .dataframe tbody tr th {\n",
       "        vertical-align: top;\n",
       "    }\n",
       "\n",
       "    .dataframe thead th {\n",
       "        text-align: right;\n",
       "    }\n",
       "</style>\n",
       "<table border=\"1\" class=\"dataframe\">\n",
       "  <thead>\n",
       "    <tr style=\"text-align: right;\">\n",
       "      <th></th>\n",
       "      <th>entry_date</th>\n",
       "      <th>order_id</th>\n",
       "      <th>customer_id</th>\n",
       "      <th>quantity</th>\n",
       "      <th>price</th>\n",
       "      <th>name_clust</th>\n",
       "      <th>entry_id</th>\n",
       "      <th>country_id</th>\n",
       "      <th>entry</th>\n",
       "      <th>total_price</th>\n",
       "      <th>date</th>\n",
       "    </tr>\n",
       "  </thead>\n",
       "  <tbody>\n",
       "    <tr>\n",
       "      <th>26856</th>\n",
       "      <td>2019-04-01 10:00:00</td>\n",
       "      <td>6659</td>\n",
       "      <td>6687</td>\n",
       "      <td>10</td>\n",
       "      <td>195</td>\n",
       "      <td>898</td>\n",
       "      <td>958</td>\n",
       "      <td>28</td>\n",
       "      <td>большая сумка розового цвета в горошек</td>\n",
       "      <td>1950</td>\n",
       "      <td>2019-04-01</td>\n",
       "    </tr>\n",
       "    <tr>\n",
       "      <th>26857</th>\n",
       "      <td>2019-04-01 10:00:00</td>\n",
       "      <td>6659</td>\n",
       "      <td>6687</td>\n",
       "      <td>5</td>\n",
       "      <td>210</td>\n",
       "      <td>424</td>\n",
       "      <td>1751</td>\n",
       "      <td>28</td>\n",
       "      <td>мешок для переработки</td>\n",
       "      <td>1050</td>\n",
       "      <td>2019-04-01</td>\n",
       "    </tr>\n",
       "    <tr>\n",
       "      <th>26858</th>\n",
       "      <td>2019-04-01 10:00:00</td>\n",
       "      <td>6659</td>\n",
       "      <td>6687</td>\n",
       "      <td>10</td>\n",
       "      <td>125</td>\n",
       "      <td>427</td>\n",
       "      <td>1582</td>\n",
       "      <td>28</td>\n",
       "      <td>красная сумка-шоппер retrospot</td>\n",
       "      <td>1250</td>\n",
       "      <td>2019-04-01</td>\n",
       "    </tr>\n",
       "    <tr>\n",
       "      <th>26859</th>\n",
       "      <td>2019-04-01 10:00:00</td>\n",
       "      <td>6659</td>\n",
       "      <td>6687</td>\n",
       "      <td>10</td>\n",
       "      <td>195</td>\n",
       "      <td>427</td>\n",
       "      <td>957</td>\n",
       "      <td>28</td>\n",
       "      <td>большая сумка красного цвета retrospot</td>\n",
       "      <td>1950</td>\n",
       "      <td>2019-04-01</td>\n",
       "    </tr>\n",
       "    <tr>\n",
       "      <th>26860</th>\n",
       "      <td>2019-04-01 10:00:00</td>\n",
       "      <td>6659</td>\n",
       "      <td>6687</td>\n",
       "      <td>6</td>\n",
       "      <td>295</td>\n",
       "      <td>532</td>\n",
       "      <td>1542</td>\n",
       "      <td>28</td>\n",
       "      <td>коробка с рецептами</td>\n",
       "      <td>1770</td>\n",
       "      <td>2019-04-01</td>\n",
       "    </tr>\n",
       "    <tr>\n",
       "      <th>...</th>\n",
       "      <td>...</td>\n",
       "      <td>...</td>\n",
       "      <td>...</td>\n",
       "      <td>...</td>\n",
       "      <td>...</td>\n",
       "      <td>...</td>\n",
       "      <td>...</td>\n",
       "      <td>...</td>\n",
       "      <td>...</td>\n",
       "      <td>...</td>\n",
       "      <td>...</td>\n",
       "    </tr>\n",
       "    <tr>\n",
       "      <th>351832</th>\n",
       "      <td>2019-09-12 12:50:00</td>\n",
       "      <td>48253</td>\n",
       "      <td>7320</td>\n",
       "      <td>12</td>\n",
       "      <td>85</td>\n",
       "      <td>556</td>\n",
       "      <td>2723</td>\n",
       "      <td>5</td>\n",
       "      <td>упаковка из 20 салфеток для космонавтов</td>\n",
       "      <td>1020</td>\n",
       "      <td>2019-09-12</td>\n",
       "    </tr>\n",
       "    <tr>\n",
       "      <th>351833</th>\n",
       "      <td>2019-09-12 12:50:00</td>\n",
       "      <td>48253</td>\n",
       "      <td>7320</td>\n",
       "      <td>6</td>\n",
       "      <td>210</td>\n",
       "      <td>144</td>\n",
       "      <td>1246</td>\n",
       "      <td>5</td>\n",
       "      <td>детский фартук для девочки-долли</td>\n",
       "      <td>1260</td>\n",
       "      <td>2019-09-12</td>\n",
       "    </tr>\n",
       "    <tr>\n",
       "      <th>351834</th>\n",
       "      <td>2019-09-12 12:50:00</td>\n",
       "      <td>48253</td>\n",
       "      <td>7320</td>\n",
       "      <td>4</td>\n",
       "      <td>415</td>\n",
       "      <td>144</td>\n",
       "      <td>1241</td>\n",
       "      <td>5</td>\n",
       "      <td>детские столовые приборы долли девочка</td>\n",
       "      <td>1660</td>\n",
       "      <td>2019-09-12</td>\n",
       "    </tr>\n",
       "    <tr>\n",
       "      <th>351835</th>\n",
       "      <td>2019-09-12 12:50:00</td>\n",
       "      <td>48253</td>\n",
       "      <td>7320</td>\n",
       "      <td>4</td>\n",
       "      <td>415</td>\n",
       "      <td>114</td>\n",
       "      <td>2811</td>\n",
       "      <td>5</td>\n",
       "      <td>цирковой парад детских столовых приборов</td>\n",
       "      <td>1660</td>\n",
       "      <td>2019-09-12</td>\n",
       "    </tr>\n",
       "    <tr>\n",
       "      <th>351836</th>\n",
       "      <td>2019-09-12 12:50:00</td>\n",
       "      <td>48253</td>\n",
       "      <td>7320</td>\n",
       "      <td>3</td>\n",
       "      <td>495</td>\n",
       "      <td>785</td>\n",
       "      <td>1818</td>\n",
       "      <td>5</td>\n",
       "      <td>набор для выпечки, 9 предметов, retrospot</td>\n",
       "      <td>1485</td>\n",
       "      <td>2019-09-12</td>\n",
       "    </tr>\n",
       "  </tbody>\n",
       "</table>\n",
       "<p>232435 rows × 11 columns</p>\n",
       "</div>"
      ],
      "text/plain": [
       "                entry_date  order_id  customer_id  quantity  price  \\\n",
       "26856  2019-04-01 10:00:00      6659         6687        10    195   \n",
       "26857  2019-04-01 10:00:00      6659         6687         5    210   \n",
       "26858  2019-04-01 10:00:00      6659         6687        10    125   \n",
       "26859  2019-04-01 10:00:00      6659         6687        10    195   \n",
       "26860  2019-04-01 10:00:00      6659         6687         6    295   \n",
       "...                    ...       ...          ...       ...    ...   \n",
       "351832 2019-09-12 12:50:00     48253         7320        12     85   \n",
       "351833 2019-09-12 12:50:00     48253         7320         6    210   \n",
       "351834 2019-09-12 12:50:00     48253         7320         4    415   \n",
       "351835 2019-09-12 12:50:00     48253         7320         4    415   \n",
       "351836 2019-09-12 12:50:00     48253         7320         3    495   \n",
       "\n",
       "        name_clust  entry_id  country_id  \\\n",
       "26856          898       958          28   \n",
       "26857          424      1751          28   \n",
       "26858          427      1582          28   \n",
       "26859          427       957          28   \n",
       "26860          532      1542          28   \n",
       "...            ...       ...         ...   \n",
       "351832         556      2723           5   \n",
       "351833         144      1246           5   \n",
       "351834         144      1241           5   \n",
       "351835         114      2811           5   \n",
       "351836         785      1818           5   \n",
       "\n",
       "                                            entry  total_price        date  \n",
       "26856      большая сумка розового цвета в горошек         1950  2019-04-01  \n",
       "26857                       мешок для переработки         1050  2019-04-01  \n",
       "26858              красная сумка-шоппер retrospot         1250  2019-04-01  \n",
       "26859      большая сумка красного цвета retrospot         1950  2019-04-01  \n",
       "26860                         коробка с рецептами         1770  2019-04-01  \n",
       "...                                           ...          ...         ...  \n",
       "351832    упаковка из 20 салфеток для космонавтов         1020  2019-09-12  \n",
       "351833           детский фартук для девочки-долли         1260  2019-09-12  \n",
       "351834     детские столовые приборы долли девочка         1660  2019-09-12  \n",
       "351835   цирковой парад детских столовых приборов         1660  2019-09-12  \n",
       "351836  набор для выпечки, 9 предметов, retrospot         1485  2019-09-12  \n",
       "\n",
       "[232435 rows x 11 columns]"
      ]
     },
     "execution_count": 59,
     "metadata": {},
     "output_type": "execute_result"
    }
   ],
   "source": [
    "df_final"
   ]
  },
  {
   "cell_type": "code",
   "execution_count": 60,
   "metadata": {},
   "outputs": [
    {
     "name": "stdout",
     "output_type": "stream",
     "text": [
      "entry_date     datetime64[ns]\n",
      "order_id                int64\n",
      "customer_id             int64\n",
      "quantity                int64\n",
      "price                   int64\n",
      "name_clust              int64\n",
      "entry_id                int64\n",
      "country_id              int64\n",
      "entry                  object\n",
      "total_price             int64\n",
      "date                   object\n",
      "dtype: object\n"
     ]
    }
   ],
   "source": [
    "print(df_final.dtypes)"
   ]
  },
  {
   "cell_type": "markdown",
   "metadata": {},
   "source": [
    "---"
   ]
  },
  {
   "cell_type": "markdown",
   "metadata": {},
   "source": [
    "# Шаг 3. Расчёт метрик"
   ]
  },
  {
   "cell_type": "markdown",
   "metadata": {},
   "source": [
    "1. Оцените по часам и дням недели количество заказов и количество уникальных покупателей. Постройте графики и сделайте вывод о наличии цикличности в покупательской активности.\n",
    "\n",
    "2. Рассчитайте по месяцам среднюю выручку с клиента в день и количество уникальных покупателей. Сделайте вывод о наличии или отсутствии сезонности, если это возможно.\n",
    "\n",
    "3. Рассчитайте стики-фактор за второй и третий квартал 2019 года.\n",
    "\n",
    "4. Составьте профиль каждого клиента, включите в профиль количество заказов, дату первого и последнего заказа, общую сумму всех заказов, среднюю цену заказа, а также другие показатели по вашему выбору.\n",
    "\n",
    "5. Разделите клиентов на возвратных и нет по признаку наличия повторных покупок, для каждой из групп на основе профилей клиентов (когда это возможно) рассчитайте средние показатели и оцените их."
   ]
  },
  {
   "cell_type": "markdown",
   "metadata": {},
   "source": [
    "### 3.1. **Анализ количества заказов и уникальных покупателей по часам и дням недели**"
   ]
  },
  {
   "cell_type": "code",
   "execution_count": 61,
   "metadata": {},
   "outputs": [],
   "source": [
    "# Создаем колонки с часами и днями недели\n",
    "df_final['hour'] = df_final['entry_date'].dt.hour \n",
    "df_final['weekday'] = df_final['entry_date'].dt.weekday"
   ]
  },
  {
   "cell_type": "code",
   "execution_count": 62,
   "metadata": {},
   "outputs": [
    {
     "name": "stdout",
     "output_type": "stream",
     "text": [
      "\n",
      "Статистика по часам:\n"
     ]
    },
    {
     "data": {
      "text/html": [
       "<div>\n",
       "<style scoped>\n",
       "    .dataframe tbody tr th:only-of-type {\n",
       "        vertical-align: middle;\n",
       "    }\n",
       "\n",
       "    .dataframe tbody tr th {\n",
       "        vertical-align: top;\n",
       "    }\n",
       "\n",
       "    .dataframe thead th {\n",
       "        text-align: right;\n",
       "    }\n",
       "</style>\n",
       "<table border=\"1\" class=\"dataframe\">\n",
       "  <thead>\n",
       "    <tr style=\"text-align: right;\">\n",
       "      <th></th>\n",
       "      <th>hour</th>\n",
       "      <th>order_id</th>\n",
       "      <th>customer_id</th>\n",
       "    </tr>\n",
       "  </thead>\n",
       "  <tbody>\n",
       "    <tr>\n",
       "      <th>0</th>\n",
       "      <td>6</td>\n",
       "      <td>1</td>\n",
       "      <td>1</td>\n",
       "    </tr>\n",
       "    <tr>\n",
       "      <th>1</th>\n",
       "      <td>7</td>\n",
       "      <td>16</td>\n",
       "      <td>15</td>\n",
       "    </tr>\n",
       "    <tr>\n",
       "      <th>2</th>\n",
       "      <td>8</td>\n",
       "      <td>327</td>\n",
       "      <td>272</td>\n",
       "    </tr>\n",
       "    <tr>\n",
       "      <th>3</th>\n",
       "      <td>9</td>\n",
       "      <td>973</td>\n",
       "      <td>646</td>\n",
       "    </tr>\n",
       "    <tr>\n",
       "      <th>4</th>\n",
       "      <td>10</td>\n",
       "      <td>1551</td>\n",
       "      <td>930</td>\n",
       "    </tr>\n",
       "    <tr>\n",
       "      <th>5</th>\n",
       "      <td>11</td>\n",
       "      <td>1573</td>\n",
       "      <td>953</td>\n",
       "    </tr>\n",
       "    <tr>\n",
       "      <th>6</th>\n",
       "      <td>12</td>\n",
       "      <td>2081</td>\n",
       "      <td>1188</td>\n",
       "    </tr>\n",
       "    <tr>\n",
       "      <th>7</th>\n",
       "      <td>13</td>\n",
       "      <td>1745</td>\n",
       "      <td>1141</td>\n",
       "    </tr>\n",
       "    <tr>\n",
       "      <th>8</th>\n",
       "      <td>14</td>\n",
       "      <td>1596</td>\n",
       "      <td>1002</td>\n",
       "    </tr>\n",
       "    <tr>\n",
       "      <th>9</th>\n",
       "      <td>15</td>\n",
       "      <td>1484</td>\n",
       "      <td>930</td>\n",
       "    </tr>\n",
       "    <tr>\n",
       "      <th>10</th>\n",
       "      <td>16</td>\n",
       "      <td>801</td>\n",
       "      <td>504</td>\n",
       "    </tr>\n",
       "    <tr>\n",
       "      <th>11</th>\n",
       "      <td>17</td>\n",
       "      <td>420</td>\n",
       "      <td>277</td>\n",
       "    </tr>\n",
       "    <tr>\n",
       "      <th>12</th>\n",
       "      <td>18</td>\n",
       "      <td>142</td>\n",
       "      <td>110</td>\n",
       "    </tr>\n",
       "    <tr>\n",
       "      <th>13</th>\n",
       "      <td>19</td>\n",
       "      <td>105</td>\n",
       "      <td>72</td>\n",
       "    </tr>\n",
       "    <tr>\n",
       "      <th>14</th>\n",
       "      <td>20</td>\n",
       "      <td>11</td>\n",
       "      <td>9</td>\n",
       "    </tr>\n",
       "  </tbody>\n",
       "</table>\n",
       "</div>"
      ],
      "text/plain": [
       "    hour  order_id  customer_id\n",
       "0      6         1            1\n",
       "1      7        16           15\n",
       "2      8       327          272\n",
       "3      9       973          646\n",
       "4     10      1551          930\n",
       "5     11      1573          953\n",
       "6     12      2081         1188\n",
       "7     13      1745         1141\n",
       "8     14      1596         1002\n",
       "9     15      1484          930\n",
       "10    16       801          504\n",
       "11    17       420          277\n",
       "12    18       142          110\n",
       "13    19       105           72\n",
       "14    20        11            9"
      ]
     },
     "metadata": {},
     "output_type": "display_data"
    },
    {
     "name": "stdout",
     "output_type": "stream",
     "text": [
      "\n",
      "Статистика по дням недели:\n"
     ]
    },
    {
     "data": {
      "text/html": [
       "<div>\n",
       "<style scoped>\n",
       "    .dataframe tbody tr th:only-of-type {\n",
       "        vertical-align: middle;\n",
       "    }\n",
       "\n",
       "    .dataframe tbody tr th {\n",
       "        vertical-align: top;\n",
       "    }\n",
       "\n",
       "    .dataframe thead th {\n",
       "        text-align: right;\n",
       "    }\n",
       "</style>\n",
       "<table border=\"1\" class=\"dataframe\">\n",
       "  <thead>\n",
       "    <tr style=\"text-align: right;\">\n",
       "      <th></th>\n",
       "      <th>weekday</th>\n",
       "      <th>order_id</th>\n",
       "      <th>customer_id</th>\n",
       "      <th>weekday_name</th>\n",
       "    </tr>\n",
       "  </thead>\n",
       "  <tbody>\n",
       "    <tr>\n",
       "      <th>0</th>\n",
       "      <td>0</td>\n",
       "      <td>1917</td>\n",
       "      <td>1170</td>\n",
       "      <td>Понедельник</td>\n",
       "    </tr>\n",
       "    <tr>\n",
       "      <th>1</th>\n",
       "      <td>1</td>\n",
       "      <td>778</td>\n",
       "      <td>556</td>\n",
       "      <td>Вторник</td>\n",
       "    </tr>\n",
       "    <tr>\n",
       "      <th>2</th>\n",
       "      <td>2</td>\n",
       "      <td>1780</td>\n",
       "      <td>1111</td>\n",
       "      <td>Среда</td>\n",
       "    </tr>\n",
       "    <tr>\n",
       "      <th>3</th>\n",
       "      <td>3</td>\n",
       "      <td>1784</td>\n",
       "      <td>1075</td>\n",
       "      <td>Четверг</td>\n",
       "    </tr>\n",
       "    <tr>\n",
       "      <th>4</th>\n",
       "      <td>4</td>\n",
       "      <td>2135</td>\n",
       "      <td>1182</td>\n",
       "      <td>Пятница</td>\n",
       "    </tr>\n",
       "    <tr>\n",
       "      <th>5</th>\n",
       "      <td>5</td>\n",
       "      <td>1911</td>\n",
       "      <td>1120</td>\n",
       "      <td>Суббота</td>\n",
       "    </tr>\n",
       "    <tr>\n",
       "      <th>6</th>\n",
       "      <td>6</td>\n",
       "      <td>2520</td>\n",
       "      <td>1440</td>\n",
       "      <td>Воскресенье</td>\n",
       "    </tr>\n",
       "  </tbody>\n",
       "</table>\n",
       "</div>"
      ],
      "text/plain": [
       "   weekday  order_id  customer_id weekday_name\n",
       "0        0      1917         1170  Понедельник\n",
       "1        1       778          556      Вторник\n",
       "2        2      1780         1111        Среда\n",
       "3        3      1784         1075      Четверг\n",
       "4        4      2135         1182      Пятница\n",
       "5        5      1911         1120      Суббота\n",
       "6        6      2520         1440  Воскресенье"
      ]
     },
     "metadata": {},
     "output_type": "display_data"
    }
   ],
   "source": [
    "# Создаем агрегированные данные\n",
    "hourly_stats = df_final.groupby('hour').agg({\n",
    "    'order_id': 'nunique',\n",
    "    'customer_id': 'nunique'\n",
    "}).reset_index()\n",
    "\n",
    "weekday_stats = df_final.groupby('weekday').agg({\n",
    "    'order_id': 'nunique',\n",
    "    'customer_id': 'nunique'\n",
    "}).reset_index()\n",
    "\n",
    "# Добавляем названия дней недели для лучшей читаемости\n",
    "weekday_names = {\n",
    "    0: 'Понедельник',\n",
    "    1: 'Вторник',\n",
    "    2: 'Среда',\n",
    "    3: 'Четверг',\n",
    "    4: 'Пятница',\n",
    "    5: 'Суббота',\n",
    "    6: 'Воскресенье'\n",
    "}\n",
    "weekday_stats['weekday_name'] = weekday_stats['weekday'].map(weekday_names)\n",
    "\n",
    "# Выводим результаты\n",
    "print(\"\\nСтатистика по часам:\")\n",
    "display(hourly_stats)\n",
    "print(\"\\nСтатистика по дням недели:\")\n",
    "display(weekday_stats)"
   ]
  },
  {
   "cell_type": "code",
   "execution_count": 63,
   "metadata": {},
   "outputs": [
    {
     "data": {
      "application/vnd.plotly.v1+json": {
       "config": {
        "plotlyServerURL": "https://plot.ly"
       },
       "data": [
        {
         "line": {
          "color": "#1f77b4",
          "width": 3
         },
         "marker": {
          "size": 8,
          "symbol": "circle"
         },
         "mode": "lines+markers",
         "name": "Количество заказов",
         "type": "scatter",
         "x": [
          6,
          7,
          8,
          9,
          10,
          11,
          12,
          13,
          14,
          15,
          16,
          17,
          18,
          19,
          20
         ],
         "y": [
          1,
          16,
          327,
          973,
          1551,
          1573,
          2081,
          1745,
          1596,
          1484,
          801,
          420,
          142,
          105,
          11
         ]
        },
        {
         "line": {
          "color": "#ff7f0e",
          "width": 3
         },
         "marker": {
          "size": 8,
          "symbol": "circle"
         },
         "mode": "lines+markers",
         "name": "Уникальные покупатели",
         "type": "scatter",
         "x": [
          6,
          7,
          8,
          9,
          10,
          11,
          12,
          13,
          14,
          15,
          16,
          17,
          18,
          19,
          20
         ],
         "y": [
          1,
          15,
          272,
          646,
          930,
          953,
          1188,
          1141,
          1002,
          930,
          504,
          277,
          110,
          72,
          9
         ]
        }
       ],
       "layout": {
        "height": 600,
        "hovermode": "x unified",
        "legend": {
         "bgcolor": "rgba(255, 255, 255, 0.8)",
         "x": 0.01,
         "xanchor": "left",
         "y": 0.99,
         "yanchor": "top"
        },
        "template": {
         "data": {
          "bar": [
           {
            "error_x": {
             "color": "#2a3f5f"
            },
            "error_y": {
             "color": "#2a3f5f"
            },
            "marker": {
             "line": {
              "color": "white",
              "width": 0.5
             },
             "pattern": {
              "fillmode": "overlay",
              "size": 10,
              "solidity": 0.2
             }
            },
            "type": "bar"
           }
          ],
          "barpolar": [
           {
            "marker": {
             "line": {
              "color": "white",
              "width": 0.5
             },
             "pattern": {
              "fillmode": "overlay",
              "size": 10,
              "solidity": 0.2
             }
            },
            "type": "barpolar"
           }
          ],
          "carpet": [
           {
            "aaxis": {
             "endlinecolor": "#2a3f5f",
             "gridcolor": "#C8D4E3",
             "linecolor": "#C8D4E3",
             "minorgridcolor": "#C8D4E3",
             "startlinecolor": "#2a3f5f"
            },
            "baxis": {
             "endlinecolor": "#2a3f5f",
             "gridcolor": "#C8D4E3",
             "linecolor": "#C8D4E3",
             "minorgridcolor": "#C8D4E3",
             "startlinecolor": "#2a3f5f"
            },
            "type": "carpet"
           }
          ],
          "choropleth": [
           {
            "colorbar": {
             "outlinewidth": 0,
             "ticks": ""
            },
            "type": "choropleth"
           }
          ],
          "contour": [
           {
            "colorbar": {
             "outlinewidth": 0,
             "ticks": ""
            },
            "colorscale": [
             [
              0,
              "#0d0887"
             ],
             [
              0.1111111111111111,
              "#46039f"
             ],
             [
              0.2222222222222222,
              "#7201a8"
             ],
             [
              0.3333333333333333,
              "#9c179e"
             ],
             [
              0.4444444444444444,
              "#bd3786"
             ],
             [
              0.5555555555555556,
              "#d8576b"
             ],
             [
              0.6666666666666666,
              "#ed7953"
             ],
             [
              0.7777777777777778,
              "#fb9f3a"
             ],
             [
              0.8888888888888888,
              "#fdca26"
             ],
             [
              1,
              "#f0f921"
             ]
            ],
            "type": "contour"
           }
          ],
          "contourcarpet": [
           {
            "colorbar": {
             "outlinewidth": 0,
             "ticks": ""
            },
            "type": "contourcarpet"
           }
          ],
          "heatmap": [
           {
            "colorbar": {
             "outlinewidth": 0,
             "ticks": ""
            },
            "colorscale": [
             [
              0,
              "#0d0887"
             ],
             [
              0.1111111111111111,
              "#46039f"
             ],
             [
              0.2222222222222222,
              "#7201a8"
             ],
             [
              0.3333333333333333,
              "#9c179e"
             ],
             [
              0.4444444444444444,
              "#bd3786"
             ],
             [
              0.5555555555555556,
              "#d8576b"
             ],
             [
              0.6666666666666666,
              "#ed7953"
             ],
             [
              0.7777777777777778,
              "#fb9f3a"
             ],
             [
              0.8888888888888888,
              "#fdca26"
             ],
             [
              1,
              "#f0f921"
             ]
            ],
            "type": "heatmap"
           }
          ],
          "heatmapgl": [
           {
            "colorbar": {
             "outlinewidth": 0,
             "ticks": ""
            },
            "colorscale": [
             [
              0,
              "#0d0887"
             ],
             [
              0.1111111111111111,
              "#46039f"
             ],
             [
              0.2222222222222222,
              "#7201a8"
             ],
             [
              0.3333333333333333,
              "#9c179e"
             ],
             [
              0.4444444444444444,
              "#bd3786"
             ],
             [
              0.5555555555555556,
              "#d8576b"
             ],
             [
              0.6666666666666666,
              "#ed7953"
             ],
             [
              0.7777777777777778,
              "#fb9f3a"
             ],
             [
              0.8888888888888888,
              "#fdca26"
             ],
             [
              1,
              "#f0f921"
             ]
            ],
            "type": "heatmapgl"
           }
          ],
          "histogram": [
           {
            "marker": {
             "pattern": {
              "fillmode": "overlay",
              "size": 10,
              "solidity": 0.2
             }
            },
            "type": "histogram"
           }
          ],
          "histogram2d": [
           {
            "colorbar": {
             "outlinewidth": 0,
             "ticks": ""
            },
            "colorscale": [
             [
              0,
              "#0d0887"
             ],
             [
              0.1111111111111111,
              "#46039f"
             ],
             [
              0.2222222222222222,
              "#7201a8"
             ],
             [
              0.3333333333333333,
              "#9c179e"
             ],
             [
              0.4444444444444444,
              "#bd3786"
             ],
             [
              0.5555555555555556,
              "#d8576b"
             ],
             [
              0.6666666666666666,
              "#ed7953"
             ],
             [
              0.7777777777777778,
              "#fb9f3a"
             ],
             [
              0.8888888888888888,
              "#fdca26"
             ],
             [
              1,
              "#f0f921"
             ]
            ],
            "type": "histogram2d"
           }
          ],
          "histogram2dcontour": [
           {
            "colorbar": {
             "outlinewidth": 0,
             "ticks": ""
            },
            "colorscale": [
             [
              0,
              "#0d0887"
             ],
             [
              0.1111111111111111,
              "#46039f"
             ],
             [
              0.2222222222222222,
              "#7201a8"
             ],
             [
              0.3333333333333333,
              "#9c179e"
             ],
             [
              0.4444444444444444,
              "#bd3786"
             ],
             [
              0.5555555555555556,
              "#d8576b"
             ],
             [
              0.6666666666666666,
              "#ed7953"
             ],
             [
              0.7777777777777778,
              "#fb9f3a"
             ],
             [
              0.8888888888888888,
              "#fdca26"
             ],
             [
              1,
              "#f0f921"
             ]
            ],
            "type": "histogram2dcontour"
           }
          ],
          "mesh3d": [
           {
            "colorbar": {
             "outlinewidth": 0,
             "ticks": ""
            },
            "type": "mesh3d"
           }
          ],
          "parcoords": [
           {
            "line": {
             "colorbar": {
              "outlinewidth": 0,
              "ticks": ""
             }
            },
            "type": "parcoords"
           }
          ],
          "pie": [
           {
            "automargin": true,
            "type": "pie"
           }
          ],
          "scatter": [
           {
            "fillpattern": {
             "fillmode": "overlay",
             "size": 10,
             "solidity": 0.2
            },
            "type": "scatter"
           }
          ],
          "scatter3d": [
           {
            "line": {
             "colorbar": {
              "outlinewidth": 0,
              "ticks": ""
             }
            },
            "marker": {
             "colorbar": {
              "outlinewidth": 0,
              "ticks": ""
             }
            },
            "type": "scatter3d"
           }
          ],
          "scattercarpet": [
           {
            "marker": {
             "colorbar": {
              "outlinewidth": 0,
              "ticks": ""
             }
            },
            "type": "scattercarpet"
           }
          ],
          "scattergeo": [
           {
            "marker": {
             "colorbar": {
              "outlinewidth": 0,
              "ticks": ""
             }
            },
            "type": "scattergeo"
           }
          ],
          "scattergl": [
           {
            "marker": {
             "colorbar": {
              "outlinewidth": 0,
              "ticks": ""
             }
            },
            "type": "scattergl"
           }
          ],
          "scattermapbox": [
           {
            "marker": {
             "colorbar": {
              "outlinewidth": 0,
              "ticks": ""
             }
            },
            "type": "scattermapbox"
           }
          ],
          "scatterpolar": [
           {
            "marker": {
             "colorbar": {
              "outlinewidth": 0,
              "ticks": ""
             }
            },
            "type": "scatterpolar"
           }
          ],
          "scatterpolargl": [
           {
            "marker": {
             "colorbar": {
              "outlinewidth": 0,
              "ticks": ""
             }
            },
            "type": "scatterpolargl"
           }
          ],
          "scatterternary": [
           {
            "marker": {
             "colorbar": {
              "outlinewidth": 0,
              "ticks": ""
             }
            },
            "type": "scatterternary"
           }
          ],
          "surface": [
           {
            "colorbar": {
             "outlinewidth": 0,
             "ticks": ""
            },
            "colorscale": [
             [
              0,
              "#0d0887"
             ],
             [
              0.1111111111111111,
              "#46039f"
             ],
             [
              0.2222222222222222,
              "#7201a8"
             ],
             [
              0.3333333333333333,
              "#9c179e"
             ],
             [
              0.4444444444444444,
              "#bd3786"
             ],
             [
              0.5555555555555556,
              "#d8576b"
             ],
             [
              0.6666666666666666,
              "#ed7953"
             ],
             [
              0.7777777777777778,
              "#fb9f3a"
             ],
             [
              0.8888888888888888,
              "#fdca26"
             ],
             [
              1,
              "#f0f921"
             ]
            ],
            "type": "surface"
           }
          ],
          "table": [
           {
            "cells": {
             "fill": {
              "color": "#EBF0F8"
             },
             "line": {
              "color": "white"
             }
            },
            "header": {
             "fill": {
              "color": "#C8D4E3"
             },
             "line": {
              "color": "white"
             }
            },
            "type": "table"
           }
          ]
         },
         "layout": {
          "annotationdefaults": {
           "arrowcolor": "#2a3f5f",
           "arrowhead": 0,
           "arrowwidth": 1
          },
          "autotypenumbers": "strict",
          "coloraxis": {
           "colorbar": {
            "outlinewidth": 0,
            "ticks": ""
           }
          },
          "colorscale": {
           "diverging": [
            [
             0,
             "#8e0152"
            ],
            [
             0.1,
             "#c51b7d"
            ],
            [
             0.2,
             "#de77ae"
            ],
            [
             0.3,
             "#f1b6da"
            ],
            [
             0.4,
             "#fde0ef"
            ],
            [
             0.5,
             "#f7f7f7"
            ],
            [
             0.6,
             "#e6f5d0"
            ],
            [
             0.7,
             "#b8e186"
            ],
            [
             0.8,
             "#7fbc41"
            ],
            [
             0.9,
             "#4d9221"
            ],
            [
             1,
             "#276419"
            ]
           ],
           "sequential": [
            [
             0,
             "#0d0887"
            ],
            [
             0.1111111111111111,
             "#46039f"
            ],
            [
             0.2222222222222222,
             "#7201a8"
            ],
            [
             0.3333333333333333,
             "#9c179e"
            ],
            [
             0.4444444444444444,
             "#bd3786"
            ],
            [
             0.5555555555555556,
             "#d8576b"
            ],
            [
             0.6666666666666666,
             "#ed7953"
            ],
            [
             0.7777777777777778,
             "#fb9f3a"
            ],
            [
             0.8888888888888888,
             "#fdca26"
            ],
            [
             1,
             "#f0f921"
            ]
           ],
           "sequentialminus": [
            [
             0,
             "#0d0887"
            ],
            [
             0.1111111111111111,
             "#46039f"
            ],
            [
             0.2222222222222222,
             "#7201a8"
            ],
            [
             0.3333333333333333,
             "#9c179e"
            ],
            [
             0.4444444444444444,
             "#bd3786"
            ],
            [
             0.5555555555555556,
             "#d8576b"
            ],
            [
             0.6666666666666666,
             "#ed7953"
            ],
            [
             0.7777777777777778,
             "#fb9f3a"
            ],
            [
             0.8888888888888888,
             "#fdca26"
            ],
            [
             1,
             "#f0f921"
            ]
           ]
          },
          "colorway": [
           "#636efa",
           "#EF553B",
           "#00cc96",
           "#ab63fa",
           "#FFA15A",
           "#19d3f3",
           "#FF6692",
           "#B6E880",
           "#FF97FF",
           "#FECB52"
          ],
          "font": {
           "color": "#2a3f5f"
          },
          "geo": {
           "bgcolor": "white",
           "lakecolor": "white",
           "landcolor": "white",
           "showlakes": true,
           "showland": true,
           "subunitcolor": "#C8D4E3"
          },
          "hoverlabel": {
           "align": "left"
          },
          "hovermode": "closest",
          "mapbox": {
           "style": "light"
          },
          "paper_bgcolor": "white",
          "plot_bgcolor": "white",
          "polar": {
           "angularaxis": {
            "gridcolor": "#EBF0F8",
            "linecolor": "#EBF0F8",
            "ticks": ""
           },
           "bgcolor": "white",
           "radialaxis": {
            "gridcolor": "#EBF0F8",
            "linecolor": "#EBF0F8",
            "ticks": ""
           }
          },
          "scene": {
           "xaxis": {
            "backgroundcolor": "white",
            "gridcolor": "#DFE8F3",
            "gridwidth": 2,
            "linecolor": "#EBF0F8",
            "showbackground": true,
            "ticks": "",
            "zerolinecolor": "#EBF0F8"
           },
           "yaxis": {
            "backgroundcolor": "white",
            "gridcolor": "#DFE8F3",
            "gridwidth": 2,
            "linecolor": "#EBF0F8",
            "showbackground": true,
            "ticks": "",
            "zerolinecolor": "#EBF0F8"
           },
           "zaxis": {
            "backgroundcolor": "white",
            "gridcolor": "#DFE8F3",
            "gridwidth": 2,
            "linecolor": "#EBF0F8",
            "showbackground": true,
            "ticks": "",
            "zerolinecolor": "#EBF0F8"
           }
          },
          "shapedefaults": {
           "line": {
            "color": "#2a3f5f"
           }
          },
          "ternary": {
           "aaxis": {
            "gridcolor": "#DFE8F3",
            "linecolor": "#A2B1C6",
            "ticks": ""
           },
           "baxis": {
            "gridcolor": "#DFE8F3",
            "linecolor": "#A2B1C6",
            "ticks": ""
           },
           "bgcolor": "white",
           "caxis": {
            "gridcolor": "#DFE8F3",
            "linecolor": "#A2B1C6",
            "ticks": ""
           }
          },
          "title": {
           "x": 0.05
          },
          "xaxis": {
           "automargin": true,
           "gridcolor": "#EBF0F8",
           "linecolor": "#EBF0F8",
           "ticks": "",
           "title": {
            "standoff": 15
           },
           "zerolinecolor": "#EBF0F8",
           "zerolinewidth": 2
          },
          "yaxis": {
           "automargin": true,
           "gridcolor": "#EBF0F8",
           "linecolor": "#EBF0F8",
           "ticks": "",
           "title": {
            "standoff": 15
           },
           "zerolinecolor": "#EBF0F8",
           "zerolinewidth": 2
          }
         }
        },
        "title": {
         "font": {
          "size": 24
         },
         "text": "Активность покупателей в течение дня",
         "x": 0.5,
         "xanchor": "center",
         "y": 0.95,
         "yanchor": "top"
        },
        "xaxis": {
         "ticktext": [
          "00:00",
          "01:00",
          "02:00",
          "03:00",
          "04:00",
          "05:00",
          "06:00",
          "07:00",
          "08:00",
          "09:00",
          "10:00",
          "11:00",
          "12:00",
          "13:00",
          "14:00",
          "15:00",
          "16:00",
          "17:00",
          "18:00",
          "19:00",
          "20:00",
          "21:00",
          "22:00",
          "23:00"
         ],
         "tickvals": [
          0,
          1,
          2,
          3,
          4,
          5,
          6,
          7,
          8,
          9,
          10,
          11,
          12,
          13,
          14,
          15,
          16,
          17,
          18,
          19,
          20,
          21,
          22,
          23
         ],
         "title": {
          "text": "Час дня"
         }
        },
        "yaxis": {
         "title": {
          "text": "Количество"
         }
        }
       }
      }
     },
     "metadata": {},
     "output_type": "display_data"
    }
   ],
   "source": [
    "# Создаем интерактивный график по часам\n",
    "fig1 = go.Figure()\n",
    "\n",
    "fig1.add_trace(go.Scatter(\n",
    "    x=hourly_stats['hour'],\n",
    "    y=hourly_stats['order_id'],\n",
    "    name='Количество заказов',\n",
    "    line=dict(color='#1f77b4', width=3),\n",
    "    mode='lines+markers',\n",
    "    marker=dict(size=8, symbol='circle')\n",
    "))\n",
    "\n",
    "fig1.add_trace(go.Scatter(\n",
    "    x=hourly_stats['hour'],\n",
    "    y=hourly_stats['customer_id'],\n",
    "    name='Уникальные покупатели',\n",
    "    line=dict(color='#ff7f0e', width=3),\n",
    "    mode='lines+markers',\n",
    "    marker=dict(size=8, symbol='circle')\n",
    "))\n",
    "\n",
    "fig1.update_layout(\n",
    "    title={\n",
    "        'text': 'Активность покупателей в течение дня',\n",
    "        'y':0.95,\n",
    "        'x':0.5,\n",
    "        'xanchor': 'center',\n",
    "        'yanchor': 'top',\n",
    "        'font': dict(size=24)\n",
    "    },\n",
    "    xaxis_title='Час дня',\n",
    "    yaxis_title='Количество',\n",
    "    template='plotly_white',\n",
    "    hovermode='x unified',\n",
    "    legend=dict(\n",
    "        yanchor=\"top\",\n",
    "        y=0.99,\n",
    "        xanchor=\"left\",\n",
    "        x=0.01,\n",
    "        bgcolor='rgba(255, 255, 255, 0.8)'\n",
    "    ),\n",
    "    height=600\n",
    ")\n",
    "\n",
    "fig1.update_xaxes(ticktext=['{}:00'.format(str(i).zfill(2)) for i in range(24)],\n",
    "                  tickvals=list(range(24)))"
   ]
  },
  {
   "cell_type": "code",
   "execution_count": 64,
   "metadata": {},
   "outputs": [
    {
     "data": {
      "application/vnd.plotly.v1+json": {
       "config": {
        "plotlyServerURL": "https://plot.ly"
       },
       "data": [
        {
         "line": {
          "color": "#1f77b4",
          "width": 3
         },
         "marker": {
          "size": 8,
          "symbol": "circle"
         },
         "mode": "lines+markers",
         "name": "Количество заказов",
         "type": "scatter",
         "x": [
          "Понедельник",
          "Вторник",
          "Среда",
          "Четверг",
          "Пятница",
          "Суббота",
          "Воскресенье"
         ],
         "y": [
          1917,
          778,
          1780,
          1784,
          2135,
          1911,
          2520
         ]
        },
        {
         "line": {
          "color": "#ff7f0e",
          "width": 3
         },
         "marker": {
          "size": 8,
          "symbol": "circle"
         },
         "mode": "lines+markers",
         "name": "Уникальные покупатели",
         "type": "scatter",
         "x": [
          "Понедельник",
          "Вторник",
          "Среда",
          "Четверг",
          "Пятница",
          "Суббота",
          "Воскресенье"
         ],
         "y": [
          1170,
          556,
          1111,
          1075,
          1182,
          1120,
          1440
         ]
        }
       ],
       "layout": {
        "height": 600,
        "hovermode": "x unified",
        "legend": {
         "bgcolor": "rgba(255, 255, 255, 0.8)",
         "x": 0.01,
         "xanchor": "left",
         "y": 0.99,
         "yanchor": "top"
        },
        "template": {
         "data": {
          "bar": [
           {
            "error_x": {
             "color": "#2a3f5f"
            },
            "error_y": {
             "color": "#2a3f5f"
            },
            "marker": {
             "line": {
              "color": "white",
              "width": 0.5
             },
             "pattern": {
              "fillmode": "overlay",
              "size": 10,
              "solidity": 0.2
             }
            },
            "type": "bar"
           }
          ],
          "barpolar": [
           {
            "marker": {
             "line": {
              "color": "white",
              "width": 0.5
             },
             "pattern": {
              "fillmode": "overlay",
              "size": 10,
              "solidity": 0.2
             }
            },
            "type": "barpolar"
           }
          ],
          "carpet": [
           {
            "aaxis": {
             "endlinecolor": "#2a3f5f",
             "gridcolor": "#C8D4E3",
             "linecolor": "#C8D4E3",
             "minorgridcolor": "#C8D4E3",
             "startlinecolor": "#2a3f5f"
            },
            "baxis": {
             "endlinecolor": "#2a3f5f",
             "gridcolor": "#C8D4E3",
             "linecolor": "#C8D4E3",
             "minorgridcolor": "#C8D4E3",
             "startlinecolor": "#2a3f5f"
            },
            "type": "carpet"
           }
          ],
          "choropleth": [
           {
            "colorbar": {
             "outlinewidth": 0,
             "ticks": ""
            },
            "type": "choropleth"
           }
          ],
          "contour": [
           {
            "colorbar": {
             "outlinewidth": 0,
             "ticks": ""
            },
            "colorscale": [
             [
              0,
              "#0d0887"
             ],
             [
              0.1111111111111111,
              "#46039f"
             ],
             [
              0.2222222222222222,
              "#7201a8"
             ],
             [
              0.3333333333333333,
              "#9c179e"
             ],
             [
              0.4444444444444444,
              "#bd3786"
             ],
             [
              0.5555555555555556,
              "#d8576b"
             ],
             [
              0.6666666666666666,
              "#ed7953"
             ],
             [
              0.7777777777777778,
              "#fb9f3a"
             ],
             [
              0.8888888888888888,
              "#fdca26"
             ],
             [
              1,
              "#f0f921"
             ]
            ],
            "type": "contour"
           }
          ],
          "contourcarpet": [
           {
            "colorbar": {
             "outlinewidth": 0,
             "ticks": ""
            },
            "type": "contourcarpet"
           }
          ],
          "heatmap": [
           {
            "colorbar": {
             "outlinewidth": 0,
             "ticks": ""
            },
            "colorscale": [
             [
              0,
              "#0d0887"
             ],
             [
              0.1111111111111111,
              "#46039f"
             ],
             [
              0.2222222222222222,
              "#7201a8"
             ],
             [
              0.3333333333333333,
              "#9c179e"
             ],
             [
              0.4444444444444444,
              "#bd3786"
             ],
             [
              0.5555555555555556,
              "#d8576b"
             ],
             [
              0.6666666666666666,
              "#ed7953"
             ],
             [
              0.7777777777777778,
              "#fb9f3a"
             ],
             [
              0.8888888888888888,
              "#fdca26"
             ],
             [
              1,
              "#f0f921"
             ]
            ],
            "type": "heatmap"
           }
          ],
          "heatmapgl": [
           {
            "colorbar": {
             "outlinewidth": 0,
             "ticks": ""
            },
            "colorscale": [
             [
              0,
              "#0d0887"
             ],
             [
              0.1111111111111111,
              "#46039f"
             ],
             [
              0.2222222222222222,
              "#7201a8"
             ],
             [
              0.3333333333333333,
              "#9c179e"
             ],
             [
              0.4444444444444444,
              "#bd3786"
             ],
             [
              0.5555555555555556,
              "#d8576b"
             ],
             [
              0.6666666666666666,
              "#ed7953"
             ],
             [
              0.7777777777777778,
              "#fb9f3a"
             ],
             [
              0.8888888888888888,
              "#fdca26"
             ],
             [
              1,
              "#f0f921"
             ]
            ],
            "type": "heatmapgl"
           }
          ],
          "histogram": [
           {
            "marker": {
             "pattern": {
              "fillmode": "overlay",
              "size": 10,
              "solidity": 0.2
             }
            },
            "type": "histogram"
           }
          ],
          "histogram2d": [
           {
            "colorbar": {
             "outlinewidth": 0,
             "ticks": ""
            },
            "colorscale": [
             [
              0,
              "#0d0887"
             ],
             [
              0.1111111111111111,
              "#46039f"
             ],
             [
              0.2222222222222222,
              "#7201a8"
             ],
             [
              0.3333333333333333,
              "#9c179e"
             ],
             [
              0.4444444444444444,
              "#bd3786"
             ],
             [
              0.5555555555555556,
              "#d8576b"
             ],
             [
              0.6666666666666666,
              "#ed7953"
             ],
             [
              0.7777777777777778,
              "#fb9f3a"
             ],
             [
              0.8888888888888888,
              "#fdca26"
             ],
             [
              1,
              "#f0f921"
             ]
            ],
            "type": "histogram2d"
           }
          ],
          "histogram2dcontour": [
           {
            "colorbar": {
             "outlinewidth": 0,
             "ticks": ""
            },
            "colorscale": [
             [
              0,
              "#0d0887"
             ],
             [
              0.1111111111111111,
              "#46039f"
             ],
             [
              0.2222222222222222,
              "#7201a8"
             ],
             [
              0.3333333333333333,
              "#9c179e"
             ],
             [
              0.4444444444444444,
              "#bd3786"
             ],
             [
              0.5555555555555556,
              "#d8576b"
             ],
             [
              0.6666666666666666,
              "#ed7953"
             ],
             [
              0.7777777777777778,
              "#fb9f3a"
             ],
             [
              0.8888888888888888,
              "#fdca26"
             ],
             [
              1,
              "#f0f921"
             ]
            ],
            "type": "histogram2dcontour"
           }
          ],
          "mesh3d": [
           {
            "colorbar": {
             "outlinewidth": 0,
             "ticks": ""
            },
            "type": "mesh3d"
           }
          ],
          "parcoords": [
           {
            "line": {
             "colorbar": {
              "outlinewidth": 0,
              "ticks": ""
             }
            },
            "type": "parcoords"
           }
          ],
          "pie": [
           {
            "automargin": true,
            "type": "pie"
           }
          ],
          "scatter": [
           {
            "fillpattern": {
             "fillmode": "overlay",
             "size": 10,
             "solidity": 0.2
            },
            "type": "scatter"
           }
          ],
          "scatter3d": [
           {
            "line": {
             "colorbar": {
              "outlinewidth": 0,
              "ticks": ""
             }
            },
            "marker": {
             "colorbar": {
              "outlinewidth": 0,
              "ticks": ""
             }
            },
            "type": "scatter3d"
           }
          ],
          "scattercarpet": [
           {
            "marker": {
             "colorbar": {
              "outlinewidth": 0,
              "ticks": ""
             }
            },
            "type": "scattercarpet"
           }
          ],
          "scattergeo": [
           {
            "marker": {
             "colorbar": {
              "outlinewidth": 0,
              "ticks": ""
             }
            },
            "type": "scattergeo"
           }
          ],
          "scattergl": [
           {
            "marker": {
             "colorbar": {
              "outlinewidth": 0,
              "ticks": ""
             }
            },
            "type": "scattergl"
           }
          ],
          "scattermapbox": [
           {
            "marker": {
             "colorbar": {
              "outlinewidth": 0,
              "ticks": ""
             }
            },
            "type": "scattermapbox"
           }
          ],
          "scatterpolar": [
           {
            "marker": {
             "colorbar": {
              "outlinewidth": 0,
              "ticks": ""
             }
            },
            "type": "scatterpolar"
           }
          ],
          "scatterpolargl": [
           {
            "marker": {
             "colorbar": {
              "outlinewidth": 0,
              "ticks": ""
             }
            },
            "type": "scatterpolargl"
           }
          ],
          "scatterternary": [
           {
            "marker": {
             "colorbar": {
              "outlinewidth": 0,
              "ticks": ""
             }
            },
            "type": "scatterternary"
           }
          ],
          "surface": [
           {
            "colorbar": {
             "outlinewidth": 0,
             "ticks": ""
            },
            "colorscale": [
             [
              0,
              "#0d0887"
             ],
             [
              0.1111111111111111,
              "#46039f"
             ],
             [
              0.2222222222222222,
              "#7201a8"
             ],
             [
              0.3333333333333333,
              "#9c179e"
             ],
             [
              0.4444444444444444,
              "#bd3786"
             ],
             [
              0.5555555555555556,
              "#d8576b"
             ],
             [
              0.6666666666666666,
              "#ed7953"
             ],
             [
              0.7777777777777778,
              "#fb9f3a"
             ],
             [
              0.8888888888888888,
              "#fdca26"
             ],
             [
              1,
              "#f0f921"
             ]
            ],
            "type": "surface"
           }
          ],
          "table": [
           {
            "cells": {
             "fill": {
              "color": "#EBF0F8"
             },
             "line": {
              "color": "white"
             }
            },
            "header": {
             "fill": {
              "color": "#C8D4E3"
             },
             "line": {
              "color": "white"
             }
            },
            "type": "table"
           }
          ]
         },
         "layout": {
          "annotationdefaults": {
           "arrowcolor": "#2a3f5f",
           "arrowhead": 0,
           "arrowwidth": 1
          },
          "autotypenumbers": "strict",
          "coloraxis": {
           "colorbar": {
            "outlinewidth": 0,
            "ticks": ""
           }
          },
          "colorscale": {
           "diverging": [
            [
             0,
             "#8e0152"
            ],
            [
             0.1,
             "#c51b7d"
            ],
            [
             0.2,
             "#de77ae"
            ],
            [
             0.3,
             "#f1b6da"
            ],
            [
             0.4,
             "#fde0ef"
            ],
            [
             0.5,
             "#f7f7f7"
            ],
            [
             0.6,
             "#e6f5d0"
            ],
            [
             0.7,
             "#b8e186"
            ],
            [
             0.8,
             "#7fbc41"
            ],
            [
             0.9,
             "#4d9221"
            ],
            [
             1,
             "#276419"
            ]
           ],
           "sequential": [
            [
             0,
             "#0d0887"
            ],
            [
             0.1111111111111111,
             "#46039f"
            ],
            [
             0.2222222222222222,
             "#7201a8"
            ],
            [
             0.3333333333333333,
             "#9c179e"
            ],
            [
             0.4444444444444444,
             "#bd3786"
            ],
            [
             0.5555555555555556,
             "#d8576b"
            ],
            [
             0.6666666666666666,
             "#ed7953"
            ],
            [
             0.7777777777777778,
             "#fb9f3a"
            ],
            [
             0.8888888888888888,
             "#fdca26"
            ],
            [
             1,
             "#f0f921"
            ]
           ],
           "sequentialminus": [
            [
             0,
             "#0d0887"
            ],
            [
             0.1111111111111111,
             "#46039f"
            ],
            [
             0.2222222222222222,
             "#7201a8"
            ],
            [
             0.3333333333333333,
             "#9c179e"
            ],
            [
             0.4444444444444444,
             "#bd3786"
            ],
            [
             0.5555555555555556,
             "#d8576b"
            ],
            [
             0.6666666666666666,
             "#ed7953"
            ],
            [
             0.7777777777777778,
             "#fb9f3a"
            ],
            [
             0.8888888888888888,
             "#fdca26"
            ],
            [
             1,
             "#f0f921"
            ]
           ]
          },
          "colorway": [
           "#636efa",
           "#EF553B",
           "#00cc96",
           "#ab63fa",
           "#FFA15A",
           "#19d3f3",
           "#FF6692",
           "#B6E880",
           "#FF97FF",
           "#FECB52"
          ],
          "font": {
           "color": "#2a3f5f"
          },
          "geo": {
           "bgcolor": "white",
           "lakecolor": "white",
           "landcolor": "white",
           "showlakes": true,
           "showland": true,
           "subunitcolor": "#C8D4E3"
          },
          "hoverlabel": {
           "align": "left"
          },
          "hovermode": "closest",
          "mapbox": {
           "style": "light"
          },
          "paper_bgcolor": "white",
          "plot_bgcolor": "white",
          "polar": {
           "angularaxis": {
            "gridcolor": "#EBF0F8",
            "linecolor": "#EBF0F8",
            "ticks": ""
           },
           "bgcolor": "white",
           "radialaxis": {
            "gridcolor": "#EBF0F8",
            "linecolor": "#EBF0F8",
            "ticks": ""
           }
          },
          "scene": {
           "xaxis": {
            "backgroundcolor": "white",
            "gridcolor": "#DFE8F3",
            "gridwidth": 2,
            "linecolor": "#EBF0F8",
            "showbackground": true,
            "ticks": "",
            "zerolinecolor": "#EBF0F8"
           },
           "yaxis": {
            "backgroundcolor": "white",
            "gridcolor": "#DFE8F3",
            "gridwidth": 2,
            "linecolor": "#EBF0F8",
            "showbackground": true,
            "ticks": "",
            "zerolinecolor": "#EBF0F8"
           },
           "zaxis": {
            "backgroundcolor": "white",
            "gridcolor": "#DFE8F3",
            "gridwidth": 2,
            "linecolor": "#EBF0F8",
            "showbackground": true,
            "ticks": "",
            "zerolinecolor": "#EBF0F8"
           }
          },
          "shapedefaults": {
           "line": {
            "color": "#2a3f5f"
           }
          },
          "ternary": {
           "aaxis": {
            "gridcolor": "#DFE8F3",
            "linecolor": "#A2B1C6",
            "ticks": ""
           },
           "baxis": {
            "gridcolor": "#DFE8F3",
            "linecolor": "#A2B1C6",
            "ticks": ""
           },
           "bgcolor": "white",
           "caxis": {
            "gridcolor": "#DFE8F3",
            "linecolor": "#A2B1C6",
            "ticks": ""
           }
          },
          "title": {
           "x": 0.05
          },
          "xaxis": {
           "automargin": true,
           "gridcolor": "#EBF0F8",
           "linecolor": "#EBF0F8",
           "ticks": "",
           "title": {
            "standoff": 15
           },
           "zerolinecolor": "#EBF0F8",
           "zerolinewidth": 2
          },
          "yaxis": {
           "automargin": true,
           "gridcolor": "#EBF0F8",
           "linecolor": "#EBF0F8",
           "ticks": "",
           "title": {
            "standoff": 15
           },
           "zerolinecolor": "#EBF0F8",
           "zerolinewidth": 2
          }
         }
        },
        "title": {
         "font": {
          "size": 24
         },
         "text": "Активность покупателей по дням недели",
         "x": 0.5,
         "xanchor": "center",
         "y": 0.95,
         "yanchor": "top"
        },
        "xaxis": {
         "title": {
          "text": "День недели"
         }
        },
        "yaxis": {
         "title": {
          "text": "Количество"
         }
        }
       }
      }
     },
     "metadata": {},
     "output_type": "display_data"
    }
   ],
   "source": [
    "# График по дням недели\n",
    "days = ['Понедельник', 'Вторник', 'Среда', 'Четверг', 'Пятница', 'Суббота', 'Воскресенье']\n",
    "weekday_stats['weekday_name'] = weekday_stats['weekday'].map(dict(enumerate(days)))\n",
    "\n",
    "fig2 = go.Figure()\n",
    "\n",
    "fig2.add_trace(go.Scatter(\n",
    "    x=days,\n",
    "    y=weekday_stats['order_id'],\n",
    "    name='Количество заказов',\n",
    "    line=dict(color='#1f77b4', width=3),\n",
    "    mode='lines+markers',\n",
    "    marker=dict(size=8, symbol='circle')\n",
    "))\n",
    "\n",
    "fig2.add_trace(go.Scatter(\n",
    "    x=days,\n",
    "    y=weekday_stats['customer_id'],\n",
    "    name='Уникальные покупатели',\n",
    "    line=dict(color='#ff7f0e', width=3),\n",
    "    mode='lines+markers',\n",
    "    marker=dict(size=8, symbol='circle')\n",
    "))\n",
    "\n",
    "fig2.update_layout(\n",
    "    title={\n",
    "        'text': 'Активность покупателей по дням недели',\n",
    "        'y':0.95,\n",
    "        'x':0.5,\n",
    "        'xanchor': 'center',\n",
    "        'yanchor': 'top',\n",
    "        'font': dict(size=24)\n",
    "    },\n",
    "    xaxis_title='День недели',\n",
    "    yaxis_title='Количество',\n",
    "    template='plotly_white',\n",
    "    hovermode='x unified',\n",
    "    legend=dict(\n",
    "        yanchor=\"top\",\n",
    "        y=0.99,\n",
    "        xanchor=\"left\",\n",
    "        x=0.01,\n",
    "        bgcolor='rgba(255, 255, 255, 0.8)'\n",
    "    ),\n",
    "    height=600\n",
    ")\n"
   ]
  },
  {
   "cell_type": "code",
   "execution_count": 65,
   "metadata": {},
   "outputs": [
    {
     "data": {
      "application/vnd.plotly.v1+json": {
       "config": {
        "plotlyServerURL": "https://plot.ly"
       },
       "data": [
        {
         "line": {
          "color": "#1f77b4",
          "width": 3
         },
         "marker": {
          "size": 8,
          "symbol": "circle"
         },
         "mode": "lines+markers",
         "name": "Количество заказов",
         "type": "scatter",
         "x": [
          6,
          7,
          8,
          9,
          10,
          11,
          12,
          13,
          14,
          15,
          16,
          17,
          18,
          19,
          20
         ],
         "y": [
          1,
          16,
          327,
          973,
          1551,
          1573,
          2081,
          1745,
          1596,
          1484,
          801,
          420,
          142,
          105,
          11
         ]
        },
        {
         "line": {
          "color": "#ff7f0e",
          "width": 3
         },
         "marker": {
          "size": 8,
          "symbol": "circle"
         },
         "mode": "lines+markers",
         "name": "Уникальные покупатели",
         "type": "scatter",
         "x": [
          6,
          7,
          8,
          9,
          10,
          11,
          12,
          13,
          14,
          15,
          16,
          17,
          18,
          19,
          20
         ],
         "y": [
          1,
          15,
          272,
          646,
          930,
          953,
          1188,
          1141,
          1002,
          930,
          504,
          277,
          110,
          72,
          9
         ]
        }
       ],
       "layout": {
        "annotations": [
         {
          "arrowhead": 1,
          "showarrow": true,
          "text": "Пик активности: 12:00<br>2081 заказов",
          "x": 12,
          "y": 2081
         }
        ],
        "height": 600,
        "hovermode": "x unified",
        "legend": {
         "bgcolor": "rgba(255, 255, 255, 0.8)",
         "x": 0.01,
         "xanchor": "left",
         "y": 0.99,
         "yanchor": "top"
        },
        "template": {
         "data": {
          "bar": [
           {
            "error_x": {
             "color": "#2a3f5f"
            },
            "error_y": {
             "color": "#2a3f5f"
            },
            "marker": {
             "line": {
              "color": "white",
              "width": 0.5
             },
             "pattern": {
              "fillmode": "overlay",
              "size": 10,
              "solidity": 0.2
             }
            },
            "type": "bar"
           }
          ],
          "barpolar": [
           {
            "marker": {
             "line": {
              "color": "white",
              "width": 0.5
             },
             "pattern": {
              "fillmode": "overlay",
              "size": 10,
              "solidity": 0.2
             }
            },
            "type": "barpolar"
           }
          ],
          "carpet": [
           {
            "aaxis": {
             "endlinecolor": "#2a3f5f",
             "gridcolor": "#C8D4E3",
             "linecolor": "#C8D4E3",
             "minorgridcolor": "#C8D4E3",
             "startlinecolor": "#2a3f5f"
            },
            "baxis": {
             "endlinecolor": "#2a3f5f",
             "gridcolor": "#C8D4E3",
             "linecolor": "#C8D4E3",
             "minorgridcolor": "#C8D4E3",
             "startlinecolor": "#2a3f5f"
            },
            "type": "carpet"
           }
          ],
          "choropleth": [
           {
            "colorbar": {
             "outlinewidth": 0,
             "ticks": ""
            },
            "type": "choropleth"
           }
          ],
          "contour": [
           {
            "colorbar": {
             "outlinewidth": 0,
             "ticks": ""
            },
            "colorscale": [
             [
              0,
              "#0d0887"
             ],
             [
              0.1111111111111111,
              "#46039f"
             ],
             [
              0.2222222222222222,
              "#7201a8"
             ],
             [
              0.3333333333333333,
              "#9c179e"
             ],
             [
              0.4444444444444444,
              "#bd3786"
             ],
             [
              0.5555555555555556,
              "#d8576b"
             ],
             [
              0.6666666666666666,
              "#ed7953"
             ],
             [
              0.7777777777777778,
              "#fb9f3a"
             ],
             [
              0.8888888888888888,
              "#fdca26"
             ],
             [
              1,
              "#f0f921"
             ]
            ],
            "type": "contour"
           }
          ],
          "contourcarpet": [
           {
            "colorbar": {
             "outlinewidth": 0,
             "ticks": ""
            },
            "type": "contourcarpet"
           }
          ],
          "heatmap": [
           {
            "colorbar": {
             "outlinewidth": 0,
             "ticks": ""
            },
            "colorscale": [
             [
              0,
              "#0d0887"
             ],
             [
              0.1111111111111111,
              "#46039f"
             ],
             [
              0.2222222222222222,
              "#7201a8"
             ],
             [
              0.3333333333333333,
              "#9c179e"
             ],
             [
              0.4444444444444444,
              "#bd3786"
             ],
             [
              0.5555555555555556,
              "#d8576b"
             ],
             [
              0.6666666666666666,
              "#ed7953"
             ],
             [
              0.7777777777777778,
              "#fb9f3a"
             ],
             [
              0.8888888888888888,
              "#fdca26"
             ],
             [
              1,
              "#f0f921"
             ]
            ],
            "type": "heatmap"
           }
          ],
          "heatmapgl": [
           {
            "colorbar": {
             "outlinewidth": 0,
             "ticks": ""
            },
            "colorscale": [
             [
              0,
              "#0d0887"
             ],
             [
              0.1111111111111111,
              "#46039f"
             ],
             [
              0.2222222222222222,
              "#7201a8"
             ],
             [
              0.3333333333333333,
              "#9c179e"
             ],
             [
              0.4444444444444444,
              "#bd3786"
             ],
             [
              0.5555555555555556,
              "#d8576b"
             ],
             [
              0.6666666666666666,
              "#ed7953"
             ],
             [
              0.7777777777777778,
              "#fb9f3a"
             ],
             [
              0.8888888888888888,
              "#fdca26"
             ],
             [
              1,
              "#f0f921"
             ]
            ],
            "type": "heatmapgl"
           }
          ],
          "histogram": [
           {
            "marker": {
             "pattern": {
              "fillmode": "overlay",
              "size": 10,
              "solidity": 0.2
             }
            },
            "type": "histogram"
           }
          ],
          "histogram2d": [
           {
            "colorbar": {
             "outlinewidth": 0,
             "ticks": ""
            },
            "colorscale": [
             [
              0,
              "#0d0887"
             ],
             [
              0.1111111111111111,
              "#46039f"
             ],
             [
              0.2222222222222222,
              "#7201a8"
             ],
             [
              0.3333333333333333,
              "#9c179e"
             ],
             [
              0.4444444444444444,
              "#bd3786"
             ],
             [
              0.5555555555555556,
              "#d8576b"
             ],
             [
              0.6666666666666666,
              "#ed7953"
             ],
             [
              0.7777777777777778,
              "#fb9f3a"
             ],
             [
              0.8888888888888888,
              "#fdca26"
             ],
             [
              1,
              "#f0f921"
             ]
            ],
            "type": "histogram2d"
           }
          ],
          "histogram2dcontour": [
           {
            "colorbar": {
             "outlinewidth": 0,
             "ticks": ""
            },
            "colorscale": [
             [
              0,
              "#0d0887"
             ],
             [
              0.1111111111111111,
              "#46039f"
             ],
             [
              0.2222222222222222,
              "#7201a8"
             ],
             [
              0.3333333333333333,
              "#9c179e"
             ],
             [
              0.4444444444444444,
              "#bd3786"
             ],
             [
              0.5555555555555556,
              "#d8576b"
             ],
             [
              0.6666666666666666,
              "#ed7953"
             ],
             [
              0.7777777777777778,
              "#fb9f3a"
             ],
             [
              0.8888888888888888,
              "#fdca26"
             ],
             [
              1,
              "#f0f921"
             ]
            ],
            "type": "histogram2dcontour"
           }
          ],
          "mesh3d": [
           {
            "colorbar": {
             "outlinewidth": 0,
             "ticks": ""
            },
            "type": "mesh3d"
           }
          ],
          "parcoords": [
           {
            "line": {
             "colorbar": {
              "outlinewidth": 0,
              "ticks": ""
             }
            },
            "type": "parcoords"
           }
          ],
          "pie": [
           {
            "automargin": true,
            "type": "pie"
           }
          ],
          "scatter": [
           {
            "fillpattern": {
             "fillmode": "overlay",
             "size": 10,
             "solidity": 0.2
            },
            "type": "scatter"
           }
          ],
          "scatter3d": [
           {
            "line": {
             "colorbar": {
              "outlinewidth": 0,
              "ticks": ""
             }
            },
            "marker": {
             "colorbar": {
              "outlinewidth": 0,
              "ticks": ""
             }
            },
            "type": "scatter3d"
           }
          ],
          "scattercarpet": [
           {
            "marker": {
             "colorbar": {
              "outlinewidth": 0,
              "ticks": ""
             }
            },
            "type": "scattercarpet"
           }
          ],
          "scattergeo": [
           {
            "marker": {
             "colorbar": {
              "outlinewidth": 0,
              "ticks": ""
             }
            },
            "type": "scattergeo"
           }
          ],
          "scattergl": [
           {
            "marker": {
             "colorbar": {
              "outlinewidth": 0,
              "ticks": ""
             }
            },
            "type": "scattergl"
           }
          ],
          "scattermapbox": [
           {
            "marker": {
             "colorbar": {
              "outlinewidth": 0,
              "ticks": ""
             }
            },
            "type": "scattermapbox"
           }
          ],
          "scatterpolar": [
           {
            "marker": {
             "colorbar": {
              "outlinewidth": 0,
              "ticks": ""
             }
            },
            "type": "scatterpolar"
           }
          ],
          "scatterpolargl": [
           {
            "marker": {
             "colorbar": {
              "outlinewidth": 0,
              "ticks": ""
             }
            },
            "type": "scatterpolargl"
           }
          ],
          "scatterternary": [
           {
            "marker": {
             "colorbar": {
              "outlinewidth": 0,
              "ticks": ""
             }
            },
            "type": "scatterternary"
           }
          ],
          "surface": [
           {
            "colorbar": {
             "outlinewidth": 0,
             "ticks": ""
            },
            "colorscale": [
             [
              0,
              "#0d0887"
             ],
             [
              0.1111111111111111,
              "#46039f"
             ],
             [
              0.2222222222222222,
              "#7201a8"
             ],
             [
              0.3333333333333333,
              "#9c179e"
             ],
             [
              0.4444444444444444,
              "#bd3786"
             ],
             [
              0.5555555555555556,
              "#d8576b"
             ],
             [
              0.6666666666666666,
              "#ed7953"
             ],
             [
              0.7777777777777778,
              "#fb9f3a"
             ],
             [
              0.8888888888888888,
              "#fdca26"
             ],
             [
              1,
              "#f0f921"
             ]
            ],
            "type": "surface"
           }
          ],
          "table": [
           {
            "cells": {
             "fill": {
              "color": "#EBF0F8"
             },
             "line": {
              "color": "white"
             }
            },
            "header": {
             "fill": {
              "color": "#C8D4E3"
             },
             "line": {
              "color": "white"
             }
            },
            "type": "table"
           }
          ]
         },
         "layout": {
          "annotationdefaults": {
           "arrowcolor": "#2a3f5f",
           "arrowhead": 0,
           "arrowwidth": 1
          },
          "autotypenumbers": "strict",
          "coloraxis": {
           "colorbar": {
            "outlinewidth": 0,
            "ticks": ""
           }
          },
          "colorscale": {
           "diverging": [
            [
             0,
             "#8e0152"
            ],
            [
             0.1,
             "#c51b7d"
            ],
            [
             0.2,
             "#de77ae"
            ],
            [
             0.3,
             "#f1b6da"
            ],
            [
             0.4,
             "#fde0ef"
            ],
            [
             0.5,
             "#f7f7f7"
            ],
            [
             0.6,
             "#e6f5d0"
            ],
            [
             0.7,
             "#b8e186"
            ],
            [
             0.8,
             "#7fbc41"
            ],
            [
             0.9,
             "#4d9221"
            ],
            [
             1,
             "#276419"
            ]
           ],
           "sequential": [
            [
             0,
             "#0d0887"
            ],
            [
             0.1111111111111111,
             "#46039f"
            ],
            [
             0.2222222222222222,
             "#7201a8"
            ],
            [
             0.3333333333333333,
             "#9c179e"
            ],
            [
             0.4444444444444444,
             "#bd3786"
            ],
            [
             0.5555555555555556,
             "#d8576b"
            ],
            [
             0.6666666666666666,
             "#ed7953"
            ],
            [
             0.7777777777777778,
             "#fb9f3a"
            ],
            [
             0.8888888888888888,
             "#fdca26"
            ],
            [
             1,
             "#f0f921"
            ]
           ],
           "sequentialminus": [
            [
             0,
             "#0d0887"
            ],
            [
             0.1111111111111111,
             "#46039f"
            ],
            [
             0.2222222222222222,
             "#7201a8"
            ],
            [
             0.3333333333333333,
             "#9c179e"
            ],
            [
             0.4444444444444444,
             "#bd3786"
            ],
            [
             0.5555555555555556,
             "#d8576b"
            ],
            [
             0.6666666666666666,
             "#ed7953"
            ],
            [
             0.7777777777777778,
             "#fb9f3a"
            ],
            [
             0.8888888888888888,
             "#fdca26"
            ],
            [
             1,
             "#f0f921"
            ]
           ]
          },
          "colorway": [
           "#636efa",
           "#EF553B",
           "#00cc96",
           "#ab63fa",
           "#FFA15A",
           "#19d3f3",
           "#FF6692",
           "#B6E880",
           "#FF97FF",
           "#FECB52"
          ],
          "font": {
           "color": "#2a3f5f"
          },
          "geo": {
           "bgcolor": "white",
           "lakecolor": "white",
           "landcolor": "white",
           "showlakes": true,
           "showland": true,
           "subunitcolor": "#C8D4E3"
          },
          "hoverlabel": {
           "align": "left"
          },
          "hovermode": "closest",
          "mapbox": {
           "style": "light"
          },
          "paper_bgcolor": "white",
          "plot_bgcolor": "white",
          "polar": {
           "angularaxis": {
            "gridcolor": "#EBF0F8",
            "linecolor": "#EBF0F8",
            "ticks": ""
           },
           "bgcolor": "white",
           "radialaxis": {
            "gridcolor": "#EBF0F8",
            "linecolor": "#EBF0F8",
            "ticks": ""
           }
          },
          "scene": {
           "xaxis": {
            "backgroundcolor": "white",
            "gridcolor": "#DFE8F3",
            "gridwidth": 2,
            "linecolor": "#EBF0F8",
            "showbackground": true,
            "ticks": "",
            "zerolinecolor": "#EBF0F8"
           },
           "yaxis": {
            "backgroundcolor": "white",
            "gridcolor": "#DFE8F3",
            "gridwidth": 2,
            "linecolor": "#EBF0F8",
            "showbackground": true,
            "ticks": "",
            "zerolinecolor": "#EBF0F8"
           },
           "zaxis": {
            "backgroundcolor": "white",
            "gridcolor": "#DFE8F3",
            "gridwidth": 2,
            "linecolor": "#EBF0F8",
            "showbackground": true,
            "ticks": "",
            "zerolinecolor": "#EBF0F8"
           }
          },
          "shapedefaults": {
           "line": {
            "color": "#2a3f5f"
           }
          },
          "ternary": {
           "aaxis": {
            "gridcolor": "#DFE8F3",
            "linecolor": "#A2B1C6",
            "ticks": ""
           },
           "baxis": {
            "gridcolor": "#DFE8F3",
            "linecolor": "#A2B1C6",
            "ticks": ""
           },
           "bgcolor": "white",
           "caxis": {
            "gridcolor": "#DFE8F3",
            "linecolor": "#A2B1C6",
            "ticks": ""
           }
          },
          "title": {
           "x": 0.05
          },
          "xaxis": {
           "automargin": true,
           "gridcolor": "#EBF0F8",
           "linecolor": "#EBF0F8",
           "ticks": "",
           "title": {
            "standoff": 15
           },
           "zerolinecolor": "#EBF0F8",
           "zerolinewidth": 2
          },
          "yaxis": {
           "automargin": true,
           "gridcolor": "#EBF0F8",
           "linecolor": "#EBF0F8",
           "ticks": "",
           "title": {
            "standoff": 15
           },
           "zerolinecolor": "#EBF0F8",
           "zerolinewidth": 2
          }
         }
        },
        "title": {
         "font": {
          "size": 24
         },
         "text": "Активность покупателей в течение дня",
         "x": 0.5,
         "xanchor": "center",
         "y": 0.95,
         "yanchor": "top"
        },
        "xaxis": {
         "ticktext": [
          "00:00",
          "01:00",
          "02:00",
          "03:00",
          "04:00",
          "05:00",
          "06:00",
          "07:00",
          "08:00",
          "09:00",
          "10:00",
          "11:00",
          "12:00",
          "13:00",
          "14:00",
          "15:00",
          "16:00",
          "17:00",
          "18:00",
          "19:00",
          "20:00",
          "21:00",
          "22:00",
          "23:00"
         ],
         "tickvals": [
          0,
          1,
          2,
          3,
          4,
          5,
          6,
          7,
          8,
          9,
          10,
          11,
          12,
          13,
          14,
          15,
          16,
          17,
          18,
          19,
          20,
          21,
          22,
          23
         ],
         "title": {
          "text": "Час дня"
         }
        },
        "yaxis": {
         "title": {
          "text": "Количество"
         }
        }
       }
      }
     },
     "metadata": {},
     "output_type": "display_data"
    },
    {
     "data": {
      "application/vnd.plotly.v1+json": {
       "config": {
        "plotlyServerURL": "https://plot.ly"
       },
       "data": [
        {
         "line": {
          "color": "#1f77b4",
          "width": 3
         },
         "marker": {
          "size": 8,
          "symbol": "circle"
         },
         "mode": "lines+markers",
         "name": "Количество заказов",
         "type": "scatter",
         "x": [
          "Понедельник",
          "Вторник",
          "Среда",
          "Четверг",
          "Пятница",
          "Суббота",
          "Воскресенье"
         ],
         "y": [
          1917,
          778,
          1780,
          1784,
          2135,
          1911,
          2520
         ]
        },
        {
         "line": {
          "color": "#ff7f0e",
          "width": 3
         },
         "marker": {
          "size": 8,
          "symbol": "circle"
         },
         "mode": "lines+markers",
         "name": "Уникальные покупатели",
         "type": "scatter",
         "x": [
          "Понедельник",
          "Вторник",
          "Среда",
          "Четверг",
          "Пятница",
          "Суббота",
          "Воскресенье"
         ],
         "y": [
          1170,
          556,
          1111,
          1075,
          1182,
          1120,
          1440
         ]
        }
       ],
       "layout": {
        "annotations": [
         {
          "arrowhead": 1,
          "showarrow": true,
          "text": "Самый активный день:<br>Воскресенье",
          "x": "Воскресенье",
          "y": 2520
         }
        ],
        "height": 600,
        "hovermode": "x unified",
        "legend": {
         "bgcolor": "rgba(255, 255, 255, 0.8)",
         "x": 0.01,
         "xanchor": "left",
         "y": 0.99,
         "yanchor": "top"
        },
        "template": {
         "data": {
          "bar": [
           {
            "error_x": {
             "color": "#2a3f5f"
            },
            "error_y": {
             "color": "#2a3f5f"
            },
            "marker": {
             "line": {
              "color": "white",
              "width": 0.5
             },
             "pattern": {
              "fillmode": "overlay",
              "size": 10,
              "solidity": 0.2
             }
            },
            "type": "bar"
           }
          ],
          "barpolar": [
           {
            "marker": {
             "line": {
              "color": "white",
              "width": 0.5
             },
             "pattern": {
              "fillmode": "overlay",
              "size": 10,
              "solidity": 0.2
             }
            },
            "type": "barpolar"
           }
          ],
          "carpet": [
           {
            "aaxis": {
             "endlinecolor": "#2a3f5f",
             "gridcolor": "#C8D4E3",
             "linecolor": "#C8D4E3",
             "minorgridcolor": "#C8D4E3",
             "startlinecolor": "#2a3f5f"
            },
            "baxis": {
             "endlinecolor": "#2a3f5f",
             "gridcolor": "#C8D4E3",
             "linecolor": "#C8D4E3",
             "minorgridcolor": "#C8D4E3",
             "startlinecolor": "#2a3f5f"
            },
            "type": "carpet"
           }
          ],
          "choropleth": [
           {
            "colorbar": {
             "outlinewidth": 0,
             "ticks": ""
            },
            "type": "choropleth"
           }
          ],
          "contour": [
           {
            "colorbar": {
             "outlinewidth": 0,
             "ticks": ""
            },
            "colorscale": [
             [
              0,
              "#0d0887"
             ],
             [
              0.1111111111111111,
              "#46039f"
             ],
             [
              0.2222222222222222,
              "#7201a8"
             ],
             [
              0.3333333333333333,
              "#9c179e"
             ],
             [
              0.4444444444444444,
              "#bd3786"
             ],
             [
              0.5555555555555556,
              "#d8576b"
             ],
             [
              0.6666666666666666,
              "#ed7953"
             ],
             [
              0.7777777777777778,
              "#fb9f3a"
             ],
             [
              0.8888888888888888,
              "#fdca26"
             ],
             [
              1,
              "#f0f921"
             ]
            ],
            "type": "contour"
           }
          ],
          "contourcarpet": [
           {
            "colorbar": {
             "outlinewidth": 0,
             "ticks": ""
            },
            "type": "contourcarpet"
           }
          ],
          "heatmap": [
           {
            "colorbar": {
             "outlinewidth": 0,
             "ticks": ""
            },
            "colorscale": [
             [
              0,
              "#0d0887"
             ],
             [
              0.1111111111111111,
              "#46039f"
             ],
             [
              0.2222222222222222,
              "#7201a8"
             ],
             [
              0.3333333333333333,
              "#9c179e"
             ],
             [
              0.4444444444444444,
              "#bd3786"
             ],
             [
              0.5555555555555556,
              "#d8576b"
             ],
             [
              0.6666666666666666,
              "#ed7953"
             ],
             [
              0.7777777777777778,
              "#fb9f3a"
             ],
             [
              0.8888888888888888,
              "#fdca26"
             ],
             [
              1,
              "#f0f921"
             ]
            ],
            "type": "heatmap"
           }
          ],
          "heatmapgl": [
           {
            "colorbar": {
             "outlinewidth": 0,
             "ticks": ""
            },
            "colorscale": [
             [
              0,
              "#0d0887"
             ],
             [
              0.1111111111111111,
              "#46039f"
             ],
             [
              0.2222222222222222,
              "#7201a8"
             ],
             [
              0.3333333333333333,
              "#9c179e"
             ],
             [
              0.4444444444444444,
              "#bd3786"
             ],
             [
              0.5555555555555556,
              "#d8576b"
             ],
             [
              0.6666666666666666,
              "#ed7953"
             ],
             [
              0.7777777777777778,
              "#fb9f3a"
             ],
             [
              0.8888888888888888,
              "#fdca26"
             ],
             [
              1,
              "#f0f921"
             ]
            ],
            "type": "heatmapgl"
           }
          ],
          "histogram": [
           {
            "marker": {
             "pattern": {
              "fillmode": "overlay",
              "size": 10,
              "solidity": 0.2
             }
            },
            "type": "histogram"
           }
          ],
          "histogram2d": [
           {
            "colorbar": {
             "outlinewidth": 0,
             "ticks": ""
            },
            "colorscale": [
             [
              0,
              "#0d0887"
             ],
             [
              0.1111111111111111,
              "#46039f"
             ],
             [
              0.2222222222222222,
              "#7201a8"
             ],
             [
              0.3333333333333333,
              "#9c179e"
             ],
             [
              0.4444444444444444,
              "#bd3786"
             ],
             [
              0.5555555555555556,
              "#d8576b"
             ],
             [
              0.6666666666666666,
              "#ed7953"
             ],
             [
              0.7777777777777778,
              "#fb9f3a"
             ],
             [
              0.8888888888888888,
              "#fdca26"
             ],
             [
              1,
              "#f0f921"
             ]
            ],
            "type": "histogram2d"
           }
          ],
          "histogram2dcontour": [
           {
            "colorbar": {
             "outlinewidth": 0,
             "ticks": ""
            },
            "colorscale": [
             [
              0,
              "#0d0887"
             ],
             [
              0.1111111111111111,
              "#46039f"
             ],
             [
              0.2222222222222222,
              "#7201a8"
             ],
             [
              0.3333333333333333,
              "#9c179e"
             ],
             [
              0.4444444444444444,
              "#bd3786"
             ],
             [
              0.5555555555555556,
              "#d8576b"
             ],
             [
              0.6666666666666666,
              "#ed7953"
             ],
             [
              0.7777777777777778,
              "#fb9f3a"
             ],
             [
              0.8888888888888888,
              "#fdca26"
             ],
             [
              1,
              "#f0f921"
             ]
            ],
            "type": "histogram2dcontour"
           }
          ],
          "mesh3d": [
           {
            "colorbar": {
             "outlinewidth": 0,
             "ticks": ""
            },
            "type": "mesh3d"
           }
          ],
          "parcoords": [
           {
            "line": {
             "colorbar": {
              "outlinewidth": 0,
              "ticks": ""
             }
            },
            "type": "parcoords"
           }
          ],
          "pie": [
           {
            "automargin": true,
            "type": "pie"
           }
          ],
          "scatter": [
           {
            "fillpattern": {
             "fillmode": "overlay",
             "size": 10,
             "solidity": 0.2
            },
            "type": "scatter"
           }
          ],
          "scatter3d": [
           {
            "line": {
             "colorbar": {
              "outlinewidth": 0,
              "ticks": ""
             }
            },
            "marker": {
             "colorbar": {
              "outlinewidth": 0,
              "ticks": ""
             }
            },
            "type": "scatter3d"
           }
          ],
          "scattercarpet": [
           {
            "marker": {
             "colorbar": {
              "outlinewidth": 0,
              "ticks": ""
             }
            },
            "type": "scattercarpet"
           }
          ],
          "scattergeo": [
           {
            "marker": {
             "colorbar": {
              "outlinewidth": 0,
              "ticks": ""
             }
            },
            "type": "scattergeo"
           }
          ],
          "scattergl": [
           {
            "marker": {
             "colorbar": {
              "outlinewidth": 0,
              "ticks": ""
             }
            },
            "type": "scattergl"
           }
          ],
          "scattermapbox": [
           {
            "marker": {
             "colorbar": {
              "outlinewidth": 0,
              "ticks": ""
             }
            },
            "type": "scattermapbox"
           }
          ],
          "scatterpolar": [
           {
            "marker": {
             "colorbar": {
              "outlinewidth": 0,
              "ticks": ""
             }
            },
            "type": "scatterpolar"
           }
          ],
          "scatterpolargl": [
           {
            "marker": {
             "colorbar": {
              "outlinewidth": 0,
              "ticks": ""
             }
            },
            "type": "scatterpolargl"
           }
          ],
          "scatterternary": [
           {
            "marker": {
             "colorbar": {
              "outlinewidth": 0,
              "ticks": ""
             }
            },
            "type": "scatterternary"
           }
          ],
          "surface": [
           {
            "colorbar": {
             "outlinewidth": 0,
             "ticks": ""
            },
            "colorscale": [
             [
              0,
              "#0d0887"
             ],
             [
              0.1111111111111111,
              "#46039f"
             ],
             [
              0.2222222222222222,
              "#7201a8"
             ],
             [
              0.3333333333333333,
              "#9c179e"
             ],
             [
              0.4444444444444444,
              "#bd3786"
             ],
             [
              0.5555555555555556,
              "#d8576b"
             ],
             [
              0.6666666666666666,
              "#ed7953"
             ],
             [
              0.7777777777777778,
              "#fb9f3a"
             ],
             [
              0.8888888888888888,
              "#fdca26"
             ],
             [
              1,
              "#f0f921"
             ]
            ],
            "type": "surface"
           }
          ],
          "table": [
           {
            "cells": {
             "fill": {
              "color": "#EBF0F8"
             },
             "line": {
              "color": "white"
             }
            },
            "header": {
             "fill": {
              "color": "#C8D4E3"
             },
             "line": {
              "color": "white"
             }
            },
            "type": "table"
           }
          ]
         },
         "layout": {
          "annotationdefaults": {
           "arrowcolor": "#2a3f5f",
           "arrowhead": 0,
           "arrowwidth": 1
          },
          "autotypenumbers": "strict",
          "coloraxis": {
           "colorbar": {
            "outlinewidth": 0,
            "ticks": ""
           }
          },
          "colorscale": {
           "diverging": [
            [
             0,
             "#8e0152"
            ],
            [
             0.1,
             "#c51b7d"
            ],
            [
             0.2,
             "#de77ae"
            ],
            [
             0.3,
             "#f1b6da"
            ],
            [
             0.4,
             "#fde0ef"
            ],
            [
             0.5,
             "#f7f7f7"
            ],
            [
             0.6,
             "#e6f5d0"
            ],
            [
             0.7,
             "#b8e186"
            ],
            [
             0.8,
             "#7fbc41"
            ],
            [
             0.9,
             "#4d9221"
            ],
            [
             1,
             "#276419"
            ]
           ],
           "sequential": [
            [
             0,
             "#0d0887"
            ],
            [
             0.1111111111111111,
             "#46039f"
            ],
            [
             0.2222222222222222,
             "#7201a8"
            ],
            [
             0.3333333333333333,
             "#9c179e"
            ],
            [
             0.4444444444444444,
             "#bd3786"
            ],
            [
             0.5555555555555556,
             "#d8576b"
            ],
            [
             0.6666666666666666,
             "#ed7953"
            ],
            [
             0.7777777777777778,
             "#fb9f3a"
            ],
            [
             0.8888888888888888,
             "#fdca26"
            ],
            [
             1,
             "#f0f921"
            ]
           ],
           "sequentialminus": [
            [
             0,
             "#0d0887"
            ],
            [
             0.1111111111111111,
             "#46039f"
            ],
            [
             0.2222222222222222,
             "#7201a8"
            ],
            [
             0.3333333333333333,
             "#9c179e"
            ],
            [
             0.4444444444444444,
             "#bd3786"
            ],
            [
             0.5555555555555556,
             "#d8576b"
            ],
            [
             0.6666666666666666,
             "#ed7953"
            ],
            [
             0.7777777777777778,
             "#fb9f3a"
            ],
            [
             0.8888888888888888,
             "#fdca26"
            ],
            [
             1,
             "#f0f921"
            ]
           ]
          },
          "colorway": [
           "#636efa",
           "#EF553B",
           "#00cc96",
           "#ab63fa",
           "#FFA15A",
           "#19d3f3",
           "#FF6692",
           "#B6E880",
           "#FF97FF",
           "#FECB52"
          ],
          "font": {
           "color": "#2a3f5f"
          },
          "geo": {
           "bgcolor": "white",
           "lakecolor": "white",
           "landcolor": "white",
           "showlakes": true,
           "showland": true,
           "subunitcolor": "#C8D4E3"
          },
          "hoverlabel": {
           "align": "left"
          },
          "hovermode": "closest",
          "mapbox": {
           "style": "light"
          },
          "paper_bgcolor": "white",
          "plot_bgcolor": "white",
          "polar": {
           "angularaxis": {
            "gridcolor": "#EBF0F8",
            "linecolor": "#EBF0F8",
            "ticks": ""
           },
           "bgcolor": "white",
           "radialaxis": {
            "gridcolor": "#EBF0F8",
            "linecolor": "#EBF0F8",
            "ticks": ""
           }
          },
          "scene": {
           "xaxis": {
            "backgroundcolor": "white",
            "gridcolor": "#DFE8F3",
            "gridwidth": 2,
            "linecolor": "#EBF0F8",
            "showbackground": true,
            "ticks": "",
            "zerolinecolor": "#EBF0F8"
           },
           "yaxis": {
            "backgroundcolor": "white",
            "gridcolor": "#DFE8F3",
            "gridwidth": 2,
            "linecolor": "#EBF0F8",
            "showbackground": true,
            "ticks": "",
            "zerolinecolor": "#EBF0F8"
           },
           "zaxis": {
            "backgroundcolor": "white",
            "gridcolor": "#DFE8F3",
            "gridwidth": 2,
            "linecolor": "#EBF0F8",
            "showbackground": true,
            "ticks": "",
            "zerolinecolor": "#EBF0F8"
           }
          },
          "shapedefaults": {
           "line": {
            "color": "#2a3f5f"
           }
          },
          "ternary": {
           "aaxis": {
            "gridcolor": "#DFE8F3",
            "linecolor": "#A2B1C6",
            "ticks": ""
           },
           "baxis": {
            "gridcolor": "#DFE8F3",
            "linecolor": "#A2B1C6",
            "ticks": ""
           },
           "bgcolor": "white",
           "caxis": {
            "gridcolor": "#DFE8F3",
            "linecolor": "#A2B1C6",
            "ticks": ""
           }
          },
          "title": {
           "x": 0.05
          },
          "xaxis": {
           "automargin": true,
           "gridcolor": "#EBF0F8",
           "linecolor": "#EBF0F8",
           "ticks": "",
           "title": {
            "standoff": 15
           },
           "zerolinecolor": "#EBF0F8",
           "zerolinewidth": 2
          },
          "yaxis": {
           "automargin": true,
           "gridcolor": "#EBF0F8",
           "linecolor": "#EBF0F8",
           "ticks": "",
           "title": {
            "standoff": 15
           },
           "zerolinecolor": "#EBF0F8",
           "zerolinewidth": 2
          }
         }
        },
        "title": {
         "font": {
          "size": 24
         },
         "text": "Активность покупателей по дням недели",
         "x": 0.5,
         "xanchor": "center",
         "y": 0.95,
         "yanchor": "top"
        },
        "xaxis": {
         "title": {
          "text": "День недели"
         }
        },
        "yaxis": {
         "title": {
          "text": "Количество"
         }
        }
       }
      }
     },
     "metadata": {},
     "output_type": "display_data"
    }
   ],
   "source": [
    "# Добавляем аннотации с ключевыми показателями\n",
    "max_orders_hour = hourly_stats.loc[hourly_stats['order_id'].idxmax()]\n",
    "max_orders_day = weekday_stats.loc[weekday_stats['order_id'].idxmax()]\n",
    "\n",
    "fig1.add_annotation(\n",
    "    text=f\"Пик активности: {int(max_orders_hour['hour'])}:00<br>{int(max_orders_hour['order_id'])} заказов\",\n",
    "    x=max_orders_hour['hour'],\n",
    "    y=max_orders_hour['order_id'],\n",
    "    showarrow=True,\n",
    "    arrowhead=1\n",
    ")\n",
    "\n",
    "fig2.add_annotation(\n",
    "    text=f\"Самый активный день:<br>{days[max_orders_day['weekday']]}\",\n",
    "    x=days[max_orders_day['weekday']],\n",
    "    y=max_orders_day['order_id'],\n",
    "    showarrow=True,\n",
    "    arrowhead=1\n",
    ")\n",
    "\n",
    "# Отображаем графики\n",
    "fig1.show()\n",
    "fig2.show()"
   ]
  },
  {
   "cell_type": "code",
   "execution_count": 66,
   "metadata": {},
   "outputs": [
    {
     "name": "stdout",
     "output_type": "stream",
     "text": [
      "\n",
      "Статистика по часам:\n"
     ]
    },
    {
     "data": {
      "text/html": [
       "<style type=\"text/css\">\n",
       "#T_1cd42_row0_col1, #T_1cd42_row0_col2 {\n",
       "  background-color: #ffffcc;\n",
       "  color: #000000;\n",
       "}\n",
       "#T_1cd42_row1_col1, #T_1cd42_row14_col1, #T_1cd42_row14_col2 {\n",
       "  background-color: #fffecb;\n",
       "  color: #000000;\n",
       "}\n",
       "#T_1cd42_row1_col2 {\n",
       "  background-color: #fffdc8;\n",
       "  color: #000000;\n",
       "}\n",
       "#T_1cd42_row2_col1 {\n",
       "  background-color: #ffe895;\n",
       "  color: #000000;\n",
       "}\n",
       "#T_1cd42_row2_col2 {\n",
       "  background-color: #fedd7e;\n",
       "  color: #000000;\n",
       "}\n",
       "#T_1cd42_row3_col1 {\n",
       "  background-color: #fd9740;\n",
       "  color: #000000;\n",
       "}\n",
       "#T_1cd42_row3_col2 {\n",
       "  background-color: #fd7636;\n",
       "  color: #f1f1f1;\n",
       "}\n",
       "#T_1cd42_row4_col1 {\n",
       "  background-color: #e41c1d;\n",
       "  color: #f1f1f1;\n",
       "}\n",
       "#T_1cd42_row4_col2, #T_1cd42_row9_col2 {\n",
       "  background-color: #d9131f;\n",
       "  color: #f1f1f1;\n",
       "}\n",
       "#T_1cd42_row5_col1 {\n",
       "  background-color: #e1191d;\n",
       "  color: #f1f1f1;\n",
       "}\n",
       "#T_1cd42_row5_col2 {\n",
       "  background-color: #d30f20;\n",
       "  color: #f1f1f1;\n",
       "}\n",
       "#T_1cd42_row6_col1, #T_1cd42_row6_col2 {\n",
       "  background-color: #800026;\n",
       "  color: #f1f1f1;\n",
       "}\n",
       "#T_1cd42_row7_col1 {\n",
       "  background-color: #c80723;\n",
       "  color: #f1f1f1;\n",
       "}\n",
       "#T_1cd42_row7_col2 {\n",
       "  background-color: #930026;\n",
       "  color: #f1f1f1;\n",
       "}\n",
       "#T_1cd42_row8_col1 {\n",
       "  background-color: #dd161d;\n",
       "  color: #f1f1f1;\n",
       "}\n",
       "#T_1cd42_row8_col2 {\n",
       "  background-color: #c70723;\n",
       "  color: #f1f1f1;\n",
       "}\n",
       "#T_1cd42_row9_col1 {\n",
       "  background-color: #ea2920;\n",
       "  color: #f1f1f1;\n",
       "}\n",
       "#T_1cd42_row10_col1 {\n",
       "  background-color: #feaf4b;\n",
       "  color: #000000;\n",
       "}\n",
       "#T_1cd42_row10_col2 {\n",
       "  background-color: #fea446;\n",
       "  color: #000000;\n",
       "}\n",
       "#T_1cd42_row11_col1 {\n",
       "  background-color: #fee187;\n",
       "  color: #000000;\n",
       "}\n",
       "#T_1cd42_row11_col2 {\n",
       "  background-color: #fedc7c;\n",
       "  color: #000000;\n",
       "}\n",
       "#T_1cd42_row12_col1 {\n",
       "  background-color: #fff5b5;\n",
       "  color: #000000;\n",
       "}\n",
       "#T_1cd42_row12_col2 {\n",
       "  background-color: #fff2ac;\n",
       "  color: #000000;\n",
       "}\n",
       "#T_1cd42_row13_col1 {\n",
       "  background-color: #fff8bb;\n",
       "  color: #000000;\n",
       "}\n",
       "#T_1cd42_row13_col2 {\n",
       "  background-color: #fff7b7;\n",
       "  color: #000000;\n",
       "}\n",
       "</style>\n",
       "<table id=\"T_1cd42\">\n",
       "  <thead>\n",
       "    <tr>\n",
       "      <th class=\"blank level0\" >&nbsp;</th>\n",
       "      <th id=\"T_1cd42_level0_col0\" class=\"col_heading level0 col0\" >hour</th>\n",
       "      <th id=\"T_1cd42_level0_col1\" class=\"col_heading level0 col1\" >order_id</th>\n",
       "      <th id=\"T_1cd42_level0_col2\" class=\"col_heading level0 col2\" >customer_id</th>\n",
       "    </tr>\n",
       "  </thead>\n",
       "  <tbody>\n",
       "    <tr>\n",
       "      <th id=\"T_1cd42_level0_row0\" class=\"row_heading level0 row0\" >0</th>\n",
       "      <td id=\"T_1cd42_row0_col0\" class=\"data row0 col0\" >6</td>\n",
       "      <td id=\"T_1cd42_row0_col1\" class=\"data row0 col1\" >1</td>\n",
       "      <td id=\"T_1cd42_row0_col2\" class=\"data row0 col2\" >1</td>\n",
       "    </tr>\n",
       "    <tr>\n",
       "      <th id=\"T_1cd42_level0_row1\" class=\"row_heading level0 row1\" >1</th>\n",
       "      <td id=\"T_1cd42_row1_col0\" class=\"data row1 col0\" >7</td>\n",
       "      <td id=\"T_1cd42_row1_col1\" class=\"data row1 col1\" >16</td>\n",
       "      <td id=\"T_1cd42_row1_col2\" class=\"data row1 col2\" >15</td>\n",
       "    </tr>\n",
       "    <tr>\n",
       "      <th id=\"T_1cd42_level0_row2\" class=\"row_heading level0 row2\" >2</th>\n",
       "      <td id=\"T_1cd42_row2_col0\" class=\"data row2 col0\" >8</td>\n",
       "      <td id=\"T_1cd42_row2_col1\" class=\"data row2 col1\" >327</td>\n",
       "      <td id=\"T_1cd42_row2_col2\" class=\"data row2 col2\" >272</td>\n",
       "    </tr>\n",
       "    <tr>\n",
       "      <th id=\"T_1cd42_level0_row3\" class=\"row_heading level0 row3\" >3</th>\n",
       "      <td id=\"T_1cd42_row3_col0\" class=\"data row3 col0\" >9</td>\n",
       "      <td id=\"T_1cd42_row3_col1\" class=\"data row3 col1\" >973</td>\n",
       "      <td id=\"T_1cd42_row3_col2\" class=\"data row3 col2\" >646</td>\n",
       "    </tr>\n",
       "    <tr>\n",
       "      <th id=\"T_1cd42_level0_row4\" class=\"row_heading level0 row4\" >4</th>\n",
       "      <td id=\"T_1cd42_row4_col0\" class=\"data row4 col0\" >10</td>\n",
       "      <td id=\"T_1cd42_row4_col1\" class=\"data row4 col1\" >1,551</td>\n",
       "      <td id=\"T_1cd42_row4_col2\" class=\"data row4 col2\" >930</td>\n",
       "    </tr>\n",
       "    <tr>\n",
       "      <th id=\"T_1cd42_level0_row5\" class=\"row_heading level0 row5\" >5</th>\n",
       "      <td id=\"T_1cd42_row5_col0\" class=\"data row5 col0\" >11</td>\n",
       "      <td id=\"T_1cd42_row5_col1\" class=\"data row5 col1\" >1,573</td>\n",
       "      <td id=\"T_1cd42_row5_col2\" class=\"data row5 col2\" >953</td>\n",
       "    </tr>\n",
       "    <tr>\n",
       "      <th id=\"T_1cd42_level0_row6\" class=\"row_heading level0 row6\" >6</th>\n",
       "      <td id=\"T_1cd42_row6_col0\" class=\"data row6 col0\" >12</td>\n",
       "      <td id=\"T_1cd42_row6_col1\" class=\"data row6 col1\" >2,081</td>\n",
       "      <td id=\"T_1cd42_row6_col2\" class=\"data row6 col2\" >1,188</td>\n",
       "    </tr>\n",
       "    <tr>\n",
       "      <th id=\"T_1cd42_level0_row7\" class=\"row_heading level0 row7\" >7</th>\n",
       "      <td id=\"T_1cd42_row7_col0\" class=\"data row7 col0\" >13</td>\n",
       "      <td id=\"T_1cd42_row7_col1\" class=\"data row7 col1\" >1,745</td>\n",
       "      <td id=\"T_1cd42_row7_col2\" class=\"data row7 col2\" >1,141</td>\n",
       "    </tr>\n",
       "    <tr>\n",
       "      <th id=\"T_1cd42_level0_row8\" class=\"row_heading level0 row8\" >8</th>\n",
       "      <td id=\"T_1cd42_row8_col0\" class=\"data row8 col0\" >14</td>\n",
       "      <td id=\"T_1cd42_row8_col1\" class=\"data row8 col1\" >1,596</td>\n",
       "      <td id=\"T_1cd42_row8_col2\" class=\"data row8 col2\" >1,002</td>\n",
       "    </tr>\n",
       "    <tr>\n",
       "      <th id=\"T_1cd42_level0_row9\" class=\"row_heading level0 row9\" >9</th>\n",
       "      <td id=\"T_1cd42_row9_col0\" class=\"data row9 col0\" >15</td>\n",
       "      <td id=\"T_1cd42_row9_col1\" class=\"data row9 col1\" >1,484</td>\n",
       "      <td id=\"T_1cd42_row9_col2\" class=\"data row9 col2\" >930</td>\n",
       "    </tr>\n",
       "    <tr>\n",
       "      <th id=\"T_1cd42_level0_row10\" class=\"row_heading level0 row10\" >10</th>\n",
       "      <td id=\"T_1cd42_row10_col0\" class=\"data row10 col0\" >16</td>\n",
       "      <td id=\"T_1cd42_row10_col1\" class=\"data row10 col1\" >801</td>\n",
       "      <td id=\"T_1cd42_row10_col2\" class=\"data row10 col2\" >504</td>\n",
       "    </tr>\n",
       "    <tr>\n",
       "      <th id=\"T_1cd42_level0_row11\" class=\"row_heading level0 row11\" >11</th>\n",
       "      <td id=\"T_1cd42_row11_col0\" class=\"data row11 col0\" >17</td>\n",
       "      <td id=\"T_1cd42_row11_col1\" class=\"data row11 col1\" >420</td>\n",
       "      <td id=\"T_1cd42_row11_col2\" class=\"data row11 col2\" >277</td>\n",
       "    </tr>\n",
       "    <tr>\n",
       "      <th id=\"T_1cd42_level0_row12\" class=\"row_heading level0 row12\" >12</th>\n",
       "      <td id=\"T_1cd42_row12_col0\" class=\"data row12 col0\" >18</td>\n",
       "      <td id=\"T_1cd42_row12_col1\" class=\"data row12 col1\" >142</td>\n",
       "      <td id=\"T_1cd42_row12_col2\" class=\"data row12 col2\" >110</td>\n",
       "    </tr>\n",
       "    <tr>\n",
       "      <th id=\"T_1cd42_level0_row13\" class=\"row_heading level0 row13\" >13</th>\n",
       "      <td id=\"T_1cd42_row13_col0\" class=\"data row13 col0\" >19</td>\n",
       "      <td id=\"T_1cd42_row13_col1\" class=\"data row13 col1\" >105</td>\n",
       "      <td id=\"T_1cd42_row13_col2\" class=\"data row13 col2\" >72</td>\n",
       "    </tr>\n",
       "    <tr>\n",
       "      <th id=\"T_1cd42_level0_row14\" class=\"row_heading level0 row14\" >14</th>\n",
       "      <td id=\"T_1cd42_row14_col0\" class=\"data row14 col0\" >20</td>\n",
       "      <td id=\"T_1cd42_row14_col1\" class=\"data row14 col1\" >11</td>\n",
       "      <td id=\"T_1cd42_row14_col2\" class=\"data row14 col2\" >9</td>\n",
       "    </tr>\n",
       "  </tbody>\n",
       "</table>\n"
      ],
      "text/plain": [
       "<pandas.io.formats.style.Styler at 0x157974c80>"
      ]
     },
     "metadata": {},
     "output_type": "display_data"
    },
    {
     "name": "stdout",
     "output_type": "stream",
     "text": [
      "\n",
      "Статистика по дням недели:\n"
     ]
    },
    {
     "data": {
      "text/html": [
       "<style type=\"text/css\">\n",
       "#T_1012d_row0_col1 {\n",
       "  background-color: #f64227;\n",
       "  color: #f1f1f1;\n",
       "}\n",
       "#T_1012d_row0_col2 {\n",
       "  background-color: #ee3122;\n",
       "  color: #f1f1f1;\n",
       "}\n",
       "#T_1012d_row1_col1, #T_1012d_row1_col2 {\n",
       "  background-color: #ffffcc;\n",
       "  color: #000000;\n",
       "}\n",
       "#T_1012d_row2_col1, #T_1012d_row3_col1 {\n",
       "  background-color: #fc6631;\n",
       "  color: #f1f1f1;\n",
       "}\n",
       "#T_1012d_row2_col2 {\n",
       "  background-color: #fc4d2a;\n",
       "  color: #f1f1f1;\n",
       "}\n",
       "#T_1012d_row3_col2 {\n",
       "  background-color: #fc612f;\n",
       "  color: #f1f1f1;\n",
       "}\n",
       "#T_1012d_row4_col1 {\n",
       "  background-color: #da141e;\n",
       "  color: #f1f1f1;\n",
       "}\n",
       "#T_1012d_row4_col2 {\n",
       "  background-color: #eb2b21;\n",
       "  color: #f1f1f1;\n",
       "}\n",
       "#T_1012d_row5_col1 {\n",
       "  background-color: #f74327;\n",
       "  color: #f1f1f1;\n",
       "}\n",
       "#T_1012d_row5_col2 {\n",
       "  background-color: #f94828;\n",
       "  color: #f1f1f1;\n",
       "}\n",
       "#T_1012d_row6_col1, #T_1012d_row6_col2 {\n",
       "  background-color: #800026;\n",
       "  color: #f1f1f1;\n",
       "}\n",
       "</style>\n",
       "<table id=\"T_1012d\">\n",
       "  <thead>\n",
       "    <tr>\n",
       "      <th class=\"blank level0\" >&nbsp;</th>\n",
       "      <th id=\"T_1012d_level0_col0\" class=\"col_heading level0 col0\" >weekday</th>\n",
       "      <th id=\"T_1012d_level0_col1\" class=\"col_heading level0 col1\" >order_id</th>\n",
       "      <th id=\"T_1012d_level0_col2\" class=\"col_heading level0 col2\" >customer_id</th>\n",
       "      <th id=\"T_1012d_level0_col3\" class=\"col_heading level0 col3\" >weekday_name</th>\n",
       "    </tr>\n",
       "  </thead>\n",
       "  <tbody>\n",
       "    <tr>\n",
       "      <th id=\"T_1012d_level0_row0\" class=\"row_heading level0 row0\" >0</th>\n",
       "      <td id=\"T_1012d_row0_col0\" class=\"data row0 col0\" >0</td>\n",
       "      <td id=\"T_1012d_row0_col1\" class=\"data row0 col1\" >1,917</td>\n",
       "      <td id=\"T_1012d_row0_col2\" class=\"data row0 col2\" >1,170</td>\n",
       "      <td id=\"T_1012d_row0_col3\" class=\"data row0 col3\" >Понедельник</td>\n",
       "    </tr>\n",
       "    <tr>\n",
       "      <th id=\"T_1012d_level0_row1\" class=\"row_heading level0 row1\" >1</th>\n",
       "      <td id=\"T_1012d_row1_col0\" class=\"data row1 col0\" >1</td>\n",
       "      <td id=\"T_1012d_row1_col1\" class=\"data row1 col1\" >778</td>\n",
       "      <td id=\"T_1012d_row1_col2\" class=\"data row1 col2\" >556</td>\n",
       "      <td id=\"T_1012d_row1_col3\" class=\"data row1 col3\" >Вторник</td>\n",
       "    </tr>\n",
       "    <tr>\n",
       "      <th id=\"T_1012d_level0_row2\" class=\"row_heading level0 row2\" >2</th>\n",
       "      <td id=\"T_1012d_row2_col0\" class=\"data row2 col0\" >2</td>\n",
       "      <td id=\"T_1012d_row2_col1\" class=\"data row2 col1\" >1,780</td>\n",
       "      <td id=\"T_1012d_row2_col2\" class=\"data row2 col2\" >1,111</td>\n",
       "      <td id=\"T_1012d_row2_col3\" class=\"data row2 col3\" >Среда</td>\n",
       "    </tr>\n",
       "    <tr>\n",
       "      <th id=\"T_1012d_level0_row3\" class=\"row_heading level0 row3\" >3</th>\n",
       "      <td id=\"T_1012d_row3_col0\" class=\"data row3 col0\" >3</td>\n",
       "      <td id=\"T_1012d_row3_col1\" class=\"data row3 col1\" >1,784</td>\n",
       "      <td id=\"T_1012d_row3_col2\" class=\"data row3 col2\" >1,075</td>\n",
       "      <td id=\"T_1012d_row3_col3\" class=\"data row3 col3\" >Четверг</td>\n",
       "    </tr>\n",
       "    <tr>\n",
       "      <th id=\"T_1012d_level0_row4\" class=\"row_heading level0 row4\" >4</th>\n",
       "      <td id=\"T_1012d_row4_col0\" class=\"data row4 col0\" >4</td>\n",
       "      <td id=\"T_1012d_row4_col1\" class=\"data row4 col1\" >2,135</td>\n",
       "      <td id=\"T_1012d_row4_col2\" class=\"data row4 col2\" >1,182</td>\n",
       "      <td id=\"T_1012d_row4_col3\" class=\"data row4 col3\" >Пятница</td>\n",
       "    </tr>\n",
       "    <tr>\n",
       "      <th id=\"T_1012d_level0_row5\" class=\"row_heading level0 row5\" >5</th>\n",
       "      <td id=\"T_1012d_row5_col0\" class=\"data row5 col0\" >5</td>\n",
       "      <td id=\"T_1012d_row5_col1\" class=\"data row5 col1\" >1,911</td>\n",
       "      <td id=\"T_1012d_row5_col2\" class=\"data row5 col2\" >1,120</td>\n",
       "      <td id=\"T_1012d_row5_col3\" class=\"data row5 col3\" >Суббота</td>\n",
       "    </tr>\n",
       "    <tr>\n",
       "      <th id=\"T_1012d_level0_row6\" class=\"row_heading level0 row6\" >6</th>\n",
       "      <td id=\"T_1012d_row6_col0\" class=\"data row6 col0\" >6</td>\n",
       "      <td id=\"T_1012d_row6_col1\" class=\"data row6 col1\" >2,520</td>\n",
       "      <td id=\"T_1012d_row6_col2\" class=\"data row6 col2\" >1,440</td>\n",
       "      <td id=\"T_1012d_row6_col3\" class=\"data row6 col3\" >Воскресенье</td>\n",
       "    </tr>\n",
       "  </tbody>\n",
       "</table>\n"
      ],
      "text/plain": [
       "<pandas.io.formats.style.Styler at 0x15744d8e0>"
      ]
     },
     "metadata": {},
     "output_type": "display_data"
    }
   ],
   "source": [
    "# Выводим статистику в виде красивой таблицы\n",
    "styled_hourly = hourly_stats.style.background_gradient(cmap='YlOrRd', subset=['order_id', 'customer_id'])\\\n",
    "    .format({'order_id': '{:,.0f}', 'customer_id': '{:,.0f}'})\n",
    "styled_weekday = weekday_stats.style.background_gradient(cmap='YlOrRd', subset=['order_id', 'customer_id'])\\\n",
    "    .format({'order_id': '{:,.0f}', 'customer_id': '{:,.0f}'})\n",
    "\n",
    "print(\"\\nСтатистика по часам:\")\n",
    "display(styled_hourly)\n",
    "print(\"\\nСтатистика по дням недели:\")\n",
    "display(styled_weekday)"
   ]
  },
  {
   "cell_type": "markdown",
   "metadata": {},
   "source": [
    "#### 3.1.1. **Выводы по анализу активности**:\n",
    "\n",
    "**Анализ активности по часам**:\n",
    "\n",
    "1. **Пиковые часы**:\n",
    "\n",
    "    - Ярко выраженный пик активности приходится на 12:00 с максимумом в 2,081 заказ\n",
    "\n",
    "    - В это время также наблюдается максимальное количество уникальных покупателей (1,188)\n",
    "\n",
    "    - Активный период продаж формируется с 10:00 до 15:00 (более 1,400 заказов в час)\n",
    "\n",
    "2. **Динамика в течение дня**:\n",
    "\n",
    "    - Начало активности: с 8:00 (327 заказов)\n",
    "\n",
    "    - Резкий рост: 8:00-10:00 (от 327 до 1,551 заказов)\n",
    "\n",
    "    - Стабильно высокая активность: 10:00-15:00\n",
    "\n",
    "    - Резкое снижение после 15:00: падение с 1,484 до 801 заказа к 16:00\n",
    "\n",
    "    - Минимальная активность: ранее утро (6:00-7:00) и вечер (после 18:00)\n",
    "\n",
    "3. **Соотношение заказов и покупателей**:\n",
    "\n",
    "    - В пиковые часы на одного покупателя приходится примерно 1.75 заказа\n",
    "\n",
    "    - Это соотношение относительно стабильно в течение активного периода дня"
   ]
  },
  {
   "cell_type": "markdown",
   "metadata": {},
   "source": [
    "**Анализ активности по дням недели**:\n",
    "\n",
    "1. **Распределение заказов**:\n",
    "\n",
    "    - Максимальная активность: воскресенье (2,520 заказов)\n",
    "\n",
    "    - Второй по активности день: пятница (2,135 заказов)\n",
    "\n",
    "    - Явный провал активности: вторник (778 заказов)\n",
    "\n",
    "2. **Уникальные покупатели**:\n",
    "\n",
    "    - Больше всего уникальных покупателей в воскресенье (1,440)\n",
    "\n",
    "    - Минимум уникальных покупателей во вторник (556)\n",
    "\n",
    "    - Относительно стабильное количество в остальные дни (1,070-1,180)"
   ]
  },
  {
   "cell_type": "markdown",
   "metadata": {},
   "source": [
    "**Выводы о цикличности**:\n",
    "\n",
    "1. **Суточная цикличность**:\n",
    "\n",
    "    - Четко выраженный дневной цикл с пиком в обеденное время\n",
    "\n",
    "    - Рабочие часы магазина эффективно охватывают период с 8:00 до 18:00\n",
    "\n",
    "    - Основная активность сконцентрирована в 6-часовом окне (10:00-15:00)\n",
    "\n",
    "2. **Недельная цикличность**:\n",
    "\n",
    "    - Нетипичное распределение с пиком в воскресенье\n",
    "\n",
    "    - Явная аномалия во вторник (значительное падение активности)\n",
    "\n",
    "    - Повышенная активность в конце недели (пятница-воскресенье)"
   ]
  },
  {
   "cell_type": "markdown",
   "metadata": {},
   "source": [
    "**Практические рекомендации**:\n",
    "\n",
    "1. **Оптимизация ресурсов**:\n",
    "\n",
    "    - Максимальная концентрация персонала в период 10:00-15:00\n",
    "\n",
    "    - Возможность сокращения персонала в утренние и вечерние часы\n",
    "\n",
    "    - Особое внимание к обработке заказов в воскресенье\n",
    "\n",
    "2. **Маркетинговые действия**:\n",
    "\n",
    "    - Проведение акций во вторник для повышения активности\n",
    "\n",
    "    - Возможность запуска утренних и вечерних спецпредложений\n",
    "\n",
    "    - Дополнительная поддержка высокой активности в выходные дни\n",
    "\n",
    "3. **Техническая поддержка**:\n",
    "\n",
    "    - Планирование технических работ на период 20:00-6:00\n",
    "\n",
    "    - Усиление серверных мощностей в пиковые часы (особенно 12:00)\n",
    "\n",
    "    - Особое внимание к стабильности системы в воскресенье"
   ]
  },
  {
   "cell_type": "markdown",
   "metadata": {},
   "source": [
    "### 3.2. **Анализ средней выручки с клиента в день и количества уникальных покупателей по месяцам**"
   ]
  },
  {
   "cell_type": "code",
   "execution_count": 67,
   "metadata": {},
   "outputs": [],
   "source": [
    "# Создаем копию датафрейма для безопасной работы\n",
    "df_analysis = df_final.copy()\n",
    "\n",
    "# Добавляем столбец с месяцем и годом\n",
    "df_analysis.loc[:, 'month_year'] = df_analysis['entry_date'].dt.to_period('M')\n",
    "\n",
    "# Создаем месячные агрегации\n",
    "monthly_stats = df_analysis.groupby('month_year').agg({\n",
    "    'customer_id': 'nunique',  # количество уникальных покупателей\n",
    "    'total_price': 'sum',      # общая выручка\n",
    "    'entry_date': 'nunique'    # количество дней с продажами\n",
    "}).reset_index()\n",
    "\n",
    "# Рассчитываем среднюю выручку с клиента в день\n",
    "monthly_stats['avg_revenue_per_customer_per_day'] = (\n",
    "    monthly_stats['total_price'] / \n",
    "    monthly_stats['customer_id'] / \n",
    "    monthly_stats['entry_date']\n",
    ")"
   ]
  },
  {
   "cell_type": "code",
   "execution_count": 68,
   "metadata": {},
   "outputs": [
    {
     "data": {
      "application/vnd.plotly.v1+json": {
       "config": {
        "plotlyServerURL": "https://plot.ly"
       },
       "data": [
        {
         "line": {
          "color": "#1f77b4",
          "width": 3
         },
         "marker": {
          "size": 8
         },
         "mode": "lines+markers",
         "name": "Средняя выручка",
         "type": "scatter",
         "x": [
          "2019-01",
          "2019-02",
          "2019-03",
          "2019-04",
          "2019-05",
          "2019-06",
          "2019-07",
          "2019-08",
          "2019-09"
         ],
         "xaxis": "x",
         "y": [
          38.809512496155335,
          46.534297031703204,
          41.44101604874439,
          42.93859373138329,
          38.04066853550798,
          35.10024312080174,
          36.77158327652659,
          41.0175756361893,
          46.99773417301169
         ],
         "yaxis": "y"
        },
        {
         "line": {
          "color": "#ff7f0e",
          "width": 3
         },
         "marker": {
          "size": 8
         },
         "mode": "lines+markers",
         "name": "Уникальные покупатели",
         "type": "scatter",
         "x": [
          "2019-01",
          "2019-02",
          "2019-03",
          "2019-04",
          "2019-05",
          "2019-06",
          "2019-07",
          "2019-08",
          "2019-09"
         ],
         "xaxis": "x2",
         "y": [
          851,
          786,
          924,
          872,
          981,
          1012,
          1045,
          938,
          1128
         ],
         "yaxis": "y2"
        }
       ],
       "layout": {
        "annotations": [
         {
          "font": {
           "size": 16
          },
          "showarrow": false,
          "text": "Средняя выручка с клиента в день",
          "x": 0.5,
          "xanchor": "center",
          "xref": "paper",
          "y": 1,
          "yanchor": "bottom",
          "yref": "paper"
         },
         {
          "font": {
           "size": 16
          },
          "showarrow": false,
          "text": "Количество уникальных покупателей",
          "x": 0.5,
          "xanchor": "center",
          "xref": "paper",
          "y": 0.425,
          "yanchor": "bottom",
          "yref": "paper"
         }
        ],
        "height": 800,
        "showlegend": true,
        "template": {
         "data": {
          "bar": [
           {
            "error_x": {
             "color": "#2a3f5f"
            },
            "error_y": {
             "color": "#2a3f5f"
            },
            "marker": {
             "line": {
              "color": "white",
              "width": 0.5
             },
             "pattern": {
              "fillmode": "overlay",
              "size": 10,
              "solidity": 0.2
             }
            },
            "type": "bar"
           }
          ],
          "barpolar": [
           {
            "marker": {
             "line": {
              "color": "white",
              "width": 0.5
             },
             "pattern": {
              "fillmode": "overlay",
              "size": 10,
              "solidity": 0.2
             }
            },
            "type": "barpolar"
           }
          ],
          "carpet": [
           {
            "aaxis": {
             "endlinecolor": "#2a3f5f",
             "gridcolor": "#C8D4E3",
             "linecolor": "#C8D4E3",
             "minorgridcolor": "#C8D4E3",
             "startlinecolor": "#2a3f5f"
            },
            "baxis": {
             "endlinecolor": "#2a3f5f",
             "gridcolor": "#C8D4E3",
             "linecolor": "#C8D4E3",
             "minorgridcolor": "#C8D4E3",
             "startlinecolor": "#2a3f5f"
            },
            "type": "carpet"
           }
          ],
          "choropleth": [
           {
            "colorbar": {
             "outlinewidth": 0,
             "ticks": ""
            },
            "type": "choropleth"
           }
          ],
          "contour": [
           {
            "colorbar": {
             "outlinewidth": 0,
             "ticks": ""
            },
            "colorscale": [
             [
              0,
              "#0d0887"
             ],
             [
              0.1111111111111111,
              "#46039f"
             ],
             [
              0.2222222222222222,
              "#7201a8"
             ],
             [
              0.3333333333333333,
              "#9c179e"
             ],
             [
              0.4444444444444444,
              "#bd3786"
             ],
             [
              0.5555555555555556,
              "#d8576b"
             ],
             [
              0.6666666666666666,
              "#ed7953"
             ],
             [
              0.7777777777777778,
              "#fb9f3a"
             ],
             [
              0.8888888888888888,
              "#fdca26"
             ],
             [
              1,
              "#f0f921"
             ]
            ],
            "type": "contour"
           }
          ],
          "contourcarpet": [
           {
            "colorbar": {
             "outlinewidth": 0,
             "ticks": ""
            },
            "type": "contourcarpet"
           }
          ],
          "heatmap": [
           {
            "colorbar": {
             "outlinewidth": 0,
             "ticks": ""
            },
            "colorscale": [
             [
              0,
              "#0d0887"
             ],
             [
              0.1111111111111111,
              "#46039f"
             ],
             [
              0.2222222222222222,
              "#7201a8"
             ],
             [
              0.3333333333333333,
              "#9c179e"
             ],
             [
              0.4444444444444444,
              "#bd3786"
             ],
             [
              0.5555555555555556,
              "#d8576b"
             ],
             [
              0.6666666666666666,
              "#ed7953"
             ],
             [
              0.7777777777777778,
              "#fb9f3a"
             ],
             [
              0.8888888888888888,
              "#fdca26"
             ],
             [
              1,
              "#f0f921"
             ]
            ],
            "type": "heatmap"
           }
          ],
          "heatmapgl": [
           {
            "colorbar": {
             "outlinewidth": 0,
             "ticks": ""
            },
            "colorscale": [
             [
              0,
              "#0d0887"
             ],
             [
              0.1111111111111111,
              "#46039f"
             ],
             [
              0.2222222222222222,
              "#7201a8"
             ],
             [
              0.3333333333333333,
              "#9c179e"
             ],
             [
              0.4444444444444444,
              "#bd3786"
             ],
             [
              0.5555555555555556,
              "#d8576b"
             ],
             [
              0.6666666666666666,
              "#ed7953"
             ],
             [
              0.7777777777777778,
              "#fb9f3a"
             ],
             [
              0.8888888888888888,
              "#fdca26"
             ],
             [
              1,
              "#f0f921"
             ]
            ],
            "type": "heatmapgl"
           }
          ],
          "histogram": [
           {
            "marker": {
             "pattern": {
              "fillmode": "overlay",
              "size": 10,
              "solidity": 0.2
             }
            },
            "type": "histogram"
           }
          ],
          "histogram2d": [
           {
            "colorbar": {
             "outlinewidth": 0,
             "ticks": ""
            },
            "colorscale": [
             [
              0,
              "#0d0887"
             ],
             [
              0.1111111111111111,
              "#46039f"
             ],
             [
              0.2222222222222222,
              "#7201a8"
             ],
             [
              0.3333333333333333,
              "#9c179e"
             ],
             [
              0.4444444444444444,
              "#bd3786"
             ],
             [
              0.5555555555555556,
              "#d8576b"
             ],
             [
              0.6666666666666666,
              "#ed7953"
             ],
             [
              0.7777777777777778,
              "#fb9f3a"
             ],
             [
              0.8888888888888888,
              "#fdca26"
             ],
             [
              1,
              "#f0f921"
             ]
            ],
            "type": "histogram2d"
           }
          ],
          "histogram2dcontour": [
           {
            "colorbar": {
             "outlinewidth": 0,
             "ticks": ""
            },
            "colorscale": [
             [
              0,
              "#0d0887"
             ],
             [
              0.1111111111111111,
              "#46039f"
             ],
             [
              0.2222222222222222,
              "#7201a8"
             ],
             [
              0.3333333333333333,
              "#9c179e"
             ],
             [
              0.4444444444444444,
              "#bd3786"
             ],
             [
              0.5555555555555556,
              "#d8576b"
             ],
             [
              0.6666666666666666,
              "#ed7953"
             ],
             [
              0.7777777777777778,
              "#fb9f3a"
             ],
             [
              0.8888888888888888,
              "#fdca26"
             ],
             [
              1,
              "#f0f921"
             ]
            ],
            "type": "histogram2dcontour"
           }
          ],
          "mesh3d": [
           {
            "colorbar": {
             "outlinewidth": 0,
             "ticks": ""
            },
            "type": "mesh3d"
           }
          ],
          "parcoords": [
           {
            "line": {
             "colorbar": {
              "outlinewidth": 0,
              "ticks": ""
             }
            },
            "type": "parcoords"
           }
          ],
          "pie": [
           {
            "automargin": true,
            "type": "pie"
           }
          ],
          "scatter": [
           {
            "fillpattern": {
             "fillmode": "overlay",
             "size": 10,
             "solidity": 0.2
            },
            "type": "scatter"
           }
          ],
          "scatter3d": [
           {
            "line": {
             "colorbar": {
              "outlinewidth": 0,
              "ticks": ""
             }
            },
            "marker": {
             "colorbar": {
              "outlinewidth": 0,
              "ticks": ""
             }
            },
            "type": "scatter3d"
           }
          ],
          "scattercarpet": [
           {
            "marker": {
             "colorbar": {
              "outlinewidth": 0,
              "ticks": ""
             }
            },
            "type": "scattercarpet"
           }
          ],
          "scattergeo": [
           {
            "marker": {
             "colorbar": {
              "outlinewidth": 0,
              "ticks": ""
             }
            },
            "type": "scattergeo"
           }
          ],
          "scattergl": [
           {
            "marker": {
             "colorbar": {
              "outlinewidth": 0,
              "ticks": ""
             }
            },
            "type": "scattergl"
           }
          ],
          "scattermapbox": [
           {
            "marker": {
             "colorbar": {
              "outlinewidth": 0,
              "ticks": ""
             }
            },
            "type": "scattermapbox"
           }
          ],
          "scatterpolar": [
           {
            "marker": {
             "colorbar": {
              "outlinewidth": 0,
              "ticks": ""
             }
            },
            "type": "scatterpolar"
           }
          ],
          "scatterpolargl": [
           {
            "marker": {
             "colorbar": {
              "outlinewidth": 0,
              "ticks": ""
             }
            },
            "type": "scatterpolargl"
           }
          ],
          "scatterternary": [
           {
            "marker": {
             "colorbar": {
              "outlinewidth": 0,
              "ticks": ""
             }
            },
            "type": "scatterternary"
           }
          ],
          "surface": [
           {
            "colorbar": {
             "outlinewidth": 0,
             "ticks": ""
            },
            "colorscale": [
             [
              0,
              "#0d0887"
             ],
             [
              0.1111111111111111,
              "#46039f"
             ],
             [
              0.2222222222222222,
              "#7201a8"
             ],
             [
              0.3333333333333333,
              "#9c179e"
             ],
             [
              0.4444444444444444,
              "#bd3786"
             ],
             [
              0.5555555555555556,
              "#d8576b"
             ],
             [
              0.6666666666666666,
              "#ed7953"
             ],
             [
              0.7777777777777778,
              "#fb9f3a"
             ],
             [
              0.8888888888888888,
              "#fdca26"
             ],
             [
              1,
              "#f0f921"
             ]
            ],
            "type": "surface"
           }
          ],
          "table": [
           {
            "cells": {
             "fill": {
              "color": "#EBF0F8"
             },
             "line": {
              "color": "white"
             }
            },
            "header": {
             "fill": {
              "color": "#C8D4E3"
             },
             "line": {
              "color": "white"
             }
            },
            "type": "table"
           }
          ]
         },
         "layout": {
          "annotationdefaults": {
           "arrowcolor": "#2a3f5f",
           "arrowhead": 0,
           "arrowwidth": 1
          },
          "autotypenumbers": "strict",
          "coloraxis": {
           "colorbar": {
            "outlinewidth": 0,
            "ticks": ""
           }
          },
          "colorscale": {
           "diverging": [
            [
             0,
             "#8e0152"
            ],
            [
             0.1,
             "#c51b7d"
            ],
            [
             0.2,
             "#de77ae"
            ],
            [
             0.3,
             "#f1b6da"
            ],
            [
             0.4,
             "#fde0ef"
            ],
            [
             0.5,
             "#f7f7f7"
            ],
            [
             0.6,
             "#e6f5d0"
            ],
            [
             0.7,
             "#b8e186"
            ],
            [
             0.8,
             "#7fbc41"
            ],
            [
             0.9,
             "#4d9221"
            ],
            [
             1,
             "#276419"
            ]
           ],
           "sequential": [
            [
             0,
             "#0d0887"
            ],
            [
             0.1111111111111111,
             "#46039f"
            ],
            [
             0.2222222222222222,
             "#7201a8"
            ],
            [
             0.3333333333333333,
             "#9c179e"
            ],
            [
             0.4444444444444444,
             "#bd3786"
            ],
            [
             0.5555555555555556,
             "#d8576b"
            ],
            [
             0.6666666666666666,
             "#ed7953"
            ],
            [
             0.7777777777777778,
             "#fb9f3a"
            ],
            [
             0.8888888888888888,
             "#fdca26"
            ],
            [
             1,
             "#f0f921"
            ]
           ],
           "sequentialminus": [
            [
             0,
             "#0d0887"
            ],
            [
             0.1111111111111111,
             "#46039f"
            ],
            [
             0.2222222222222222,
             "#7201a8"
            ],
            [
             0.3333333333333333,
             "#9c179e"
            ],
            [
             0.4444444444444444,
             "#bd3786"
            ],
            [
             0.5555555555555556,
             "#d8576b"
            ],
            [
             0.6666666666666666,
             "#ed7953"
            ],
            [
             0.7777777777777778,
             "#fb9f3a"
            ],
            [
             0.8888888888888888,
             "#fdca26"
            ],
            [
             1,
             "#f0f921"
            ]
           ]
          },
          "colorway": [
           "#636efa",
           "#EF553B",
           "#00cc96",
           "#ab63fa",
           "#FFA15A",
           "#19d3f3",
           "#FF6692",
           "#B6E880",
           "#FF97FF",
           "#FECB52"
          ],
          "font": {
           "color": "#2a3f5f"
          },
          "geo": {
           "bgcolor": "white",
           "lakecolor": "white",
           "landcolor": "white",
           "showlakes": true,
           "showland": true,
           "subunitcolor": "#C8D4E3"
          },
          "hoverlabel": {
           "align": "left"
          },
          "hovermode": "closest",
          "mapbox": {
           "style": "light"
          },
          "paper_bgcolor": "white",
          "plot_bgcolor": "white",
          "polar": {
           "angularaxis": {
            "gridcolor": "#EBF0F8",
            "linecolor": "#EBF0F8",
            "ticks": ""
           },
           "bgcolor": "white",
           "radialaxis": {
            "gridcolor": "#EBF0F8",
            "linecolor": "#EBF0F8",
            "ticks": ""
           }
          },
          "scene": {
           "xaxis": {
            "backgroundcolor": "white",
            "gridcolor": "#DFE8F3",
            "gridwidth": 2,
            "linecolor": "#EBF0F8",
            "showbackground": true,
            "ticks": "",
            "zerolinecolor": "#EBF0F8"
           },
           "yaxis": {
            "backgroundcolor": "white",
            "gridcolor": "#DFE8F3",
            "gridwidth": 2,
            "linecolor": "#EBF0F8",
            "showbackground": true,
            "ticks": "",
            "zerolinecolor": "#EBF0F8"
           },
           "zaxis": {
            "backgroundcolor": "white",
            "gridcolor": "#DFE8F3",
            "gridwidth": 2,
            "linecolor": "#EBF0F8",
            "showbackground": true,
            "ticks": "",
            "zerolinecolor": "#EBF0F8"
           }
          },
          "shapedefaults": {
           "line": {
            "color": "#2a3f5f"
           }
          },
          "ternary": {
           "aaxis": {
            "gridcolor": "#DFE8F3",
            "linecolor": "#A2B1C6",
            "ticks": ""
           },
           "baxis": {
            "gridcolor": "#DFE8F3",
            "linecolor": "#A2B1C6",
            "ticks": ""
           },
           "bgcolor": "white",
           "caxis": {
            "gridcolor": "#DFE8F3",
            "linecolor": "#A2B1C6",
            "ticks": ""
           }
          },
          "title": {
           "x": 0.05
          },
          "xaxis": {
           "automargin": true,
           "gridcolor": "#EBF0F8",
           "linecolor": "#EBF0F8",
           "ticks": "",
           "title": {
            "standoff": 15
           },
           "zerolinecolor": "#EBF0F8",
           "zerolinewidth": 2
          },
          "yaxis": {
           "automargin": true,
           "gridcolor": "#EBF0F8",
           "linecolor": "#EBF0F8",
           "ticks": "",
           "title": {
            "standoff": 15
           },
           "zerolinecolor": "#EBF0F8",
           "zerolinewidth": 2
          }
         }
        },
        "title": {
         "font": {
          "size": 24
         },
         "text": "Динамика показателей по месяцам",
         "x": 0.5,
         "xanchor": "center",
         "y": 0.95,
         "yanchor": "top"
        },
        "xaxis": {
         "anchor": "y",
         "domain": [
          0,
          1
         ]
        },
        "xaxis2": {
         "anchor": "y2",
         "domain": [
          0,
          1
         ],
         "title": {
          "text": "Месяц"
         }
        },
        "yaxis": {
         "anchor": "x",
         "domain": [
          0.575,
          1
         ],
         "title": {
          "text": "Выручка на клиента в день (₽)"
         }
        },
        "yaxis2": {
         "anchor": "x2",
         "domain": [
          0,
          0.425
         ],
         "title": {
          "text": "Количество покупателей"
         }
        }
       }
      }
     },
     "metadata": {},
     "output_type": "display_data"
    }
   ],
   "source": [
    "# Создаем интерактивный график\n",
    "fig = make_subplots(\n",
    "    rows=2, cols=1,\n",
    "    subplot_titles=('Средняя выручка с клиента в день', 'Количество уникальных покупателей'),\n",
    "    vertical_spacing=0.15\n",
    ")\n",
    "\n",
    "# График средней выручки\n",
    "fig.add_trace(\n",
    "    go.Scatter(\n",
    "        x=monthly_stats['month_year'].astype(str),\n",
    "        y=monthly_stats['avg_revenue_per_customer_per_day'],\n",
    "        mode='lines+markers',\n",
    "        name='Средняя выручка',\n",
    "        line=dict(color='#1f77b4', width=3),\n",
    "        marker=dict(size=8)\n",
    "    ),\n",
    "    row=1, col=1\n",
    ")\n",
    "\n",
    "# График количества покупателей\n",
    "fig.add_trace(\n",
    "    go.Scatter(\n",
    "        x=monthly_stats['month_year'].astype(str),\n",
    "        y=monthly_stats['customer_id'],\n",
    "        mode='lines+markers',\n",
    "        name='Уникальные покупатели',\n",
    "        line=dict(color='#ff7f0e', width=3),\n",
    "        marker=dict(size=8)\n",
    "    ),\n",
    "    row=2, col=1\n",
    ")\n",
    "\n",
    "# Обновляем layout\n",
    "fig.update_layout(\n",
    "    height=800,\n",
    "    showlegend=True,\n",
    "    title={\n",
    "        'text': 'Динамика показателей по месяцам',\n",
    "        'y':0.95,\n",
    "        'x':0.5,\n",
    "        'xanchor': 'center',\n",
    "        'yanchor': 'top',\n",
    "        'font': dict(size=24)\n",
    "    },\n",
    "    template='plotly_white'\n",
    ")\n",
    "\n",
    "# Обновляем оси\n",
    "fig.update_xaxes(title_text='Месяц', row=2, col=1)\n",
    "fig.update_yaxes(title_text='Выручка на клиента в день (₽)', row=1, col=1)\n",
    "fig.update_yaxes(title_text='Количество покупателей', row=2, col=1)\n",
    "\n",
    "# Показываем график\n",
    "fig.show()"
   ]
  },
  {
   "cell_type": "code",
   "execution_count": 69,
   "metadata": {},
   "outputs": [
    {
     "name": "stdout",
     "output_type": "stream",
     "text": [
      "\n",
      "Детальная статистика по месяцам:\n"
     ]
    },
    {
     "data": {
      "text/html": [
       "<style type=\"text/css\">\n",
       "#T_279ae_row0_col1 {\n",
       "  background-color: #fee38b;\n",
       "  color: #000000;\n",
       "}\n",
       "#T_279ae_row0_col4 {\n",
       "  background-color: #fec662;\n",
       "  color: #000000;\n",
       "}\n",
       "#T_279ae_row1_col1, #T_279ae_row5_col4 {\n",
       "  background-color: #ffffcc;\n",
       "  color: #000000;\n",
       "}\n",
       "#T_279ae_row1_col4 {\n",
       "  background-color: #910026;\n",
       "  color: #f1f1f1;\n",
       "}\n",
       "#T_279ae_row2_col1 {\n",
       "  background-color: #fea948;\n",
       "  color: #000000;\n",
       "}\n",
       "#T_279ae_row2_col4 {\n",
       "  background-color: #fd7c37;\n",
       "  color: #f1f1f1;\n",
       "}\n",
       "#T_279ae_row3_col1 {\n",
       "  background-color: #fed976;\n",
       "  color: #000000;\n",
       "}\n",
       "#T_279ae_row3_col4 {\n",
       "  background-color: #f54026;\n",
       "  color: #f1f1f1;\n",
       "}\n",
       "#T_279ae_row4_col1 {\n",
       "  background-color: #fc6a32;\n",
       "  color: #f1f1f1;\n",
       "}\n",
       "#T_279ae_row4_col4 {\n",
       "  background-color: #fed977;\n",
       "  color: #000000;\n",
       "}\n",
       "#T_279ae_row5_col1 {\n",
       "  background-color: #f43e26;\n",
       "  color: #f1f1f1;\n",
       "}\n",
       "#T_279ae_row6_col1 {\n",
       "  background-color: #e1191d;\n",
       "  color: #f1f1f1;\n",
       "}\n",
       "#T_279ae_row6_col4 {\n",
       "  background-color: #ffeb9c;\n",
       "  color: #000000;\n",
       "}\n",
       "#T_279ae_row7_col1 {\n",
       "  background-color: #fd9e43;\n",
       "  color: #000000;\n",
       "}\n",
       "#T_279ae_row7_col4 {\n",
       "  background-color: #fd8e3c;\n",
       "  color: #f1f1f1;\n",
       "}\n",
       "#T_279ae_row8_col1, #T_279ae_row8_col4 {\n",
       "  background-color: #800026;\n",
       "  color: #f1f1f1;\n",
       "}\n",
       "</style>\n",
       "<table id=\"T_279ae\">\n",
       "  <thead>\n",
       "    <tr>\n",
       "      <th class=\"blank level0\" >&nbsp;</th>\n",
       "      <th id=\"T_279ae_level0_col0\" class=\"col_heading level0 col0\" >Месяц</th>\n",
       "      <th id=\"T_279ae_level0_col1\" class=\"col_heading level0 col1\" >Уникальные покупатели</th>\n",
       "      <th id=\"T_279ae_level0_col2\" class=\"col_heading level0 col2\" >Общая выручка</th>\n",
       "      <th id=\"T_279ae_level0_col3\" class=\"col_heading level0 col3\" >Дни с продажами</th>\n",
       "      <th id=\"T_279ae_level0_col4\" class=\"col_heading level0 col4\" >Средняя выручка на клиента в день</th>\n",
       "    </tr>\n",
       "  </thead>\n",
       "  <tbody>\n",
       "    <tr>\n",
       "      <th id=\"T_279ae_level0_row0\" class=\"row_heading level0 row0\" >0</th>\n",
       "      <td id=\"T_279ae_row0_col0\" class=\"data row0 col0\" >2019-01</td>\n",
       "      <td id=\"T_279ae_row0_col1\" class=\"data row0 col1\" >851</td>\n",
       "      <td id=\"T_279ae_row0_col2\" class=\"data row0 col2\" >39,368,059₽</td>\n",
       "      <td id=\"T_279ae_row0_col3\" class=\"data row0 col3\" >1,192</td>\n",
       "      <td id=\"T_279ae_row0_col4\" class=\"data row0 col4\" >38.81₽</td>\n",
       "    </tr>\n",
       "    <tr>\n",
       "      <th id=\"T_279ae_level0_row1\" class=\"row_heading level0 row1\" >1</th>\n",
       "      <td id=\"T_279ae_row1_col0\" class=\"data row1 col0\" >2019-02</td>\n",
       "      <td id=\"T_279ae_row1_col1\" class=\"data row1 col1\" >786</td>\n",
       "      <td id=\"T_279ae_row1_col2\" class=\"data row1 col2\" >38,697,363₽</td>\n",
       "      <td id=\"T_279ae_row1_col3\" class=\"data row1 col3\" >1,058</td>\n",
       "      <td id=\"T_279ae_row1_col4\" class=\"data row1 col4\" >46.53₽</td>\n",
       "    </tr>\n",
       "    <tr>\n",
       "      <th id=\"T_279ae_level0_row2\" class=\"row_heading level0 row2\" >2</th>\n",
       "      <td id=\"T_279ae_row2_col0\" class=\"data row2 col0\" >2019-03</td>\n",
       "      <td id=\"T_279ae_row2_col1\" class=\"data row2 col1\" >924</td>\n",
       "      <td id=\"T_279ae_row2_col2\" class=\"data row2 col2\" >49,051,410₽</td>\n",
       "      <td id=\"T_279ae_row2_col3\" class=\"data row2 col3\" >1,281</td>\n",
       "      <td id=\"T_279ae_row2_col4\" class=\"data row2 col4\" >41.44₽</td>\n",
       "    </tr>\n",
       "    <tr>\n",
       "      <th id=\"T_279ae_level0_row3\" class=\"row_heading level0 row3\" >3</th>\n",
       "      <td id=\"T_279ae_row3_col0\" class=\"data row3 col0\" >2019-04</td>\n",
       "      <td id=\"T_279ae_row3_col1\" class=\"data row3 col1\" >872</td>\n",
       "      <td id=\"T_279ae_row3_col2\" class=\"data row3 col2\" >46,129,103₽</td>\n",
       "      <td id=\"T_279ae_row3_col3\" class=\"data row3 col3\" >1,232</td>\n",
       "      <td id=\"T_279ae_row3_col4\" class=\"data row3 col4\" >42.94₽</td>\n",
       "    </tr>\n",
       "    <tr>\n",
       "      <th id=\"T_279ae_level0_row4\" class=\"row_heading level0 row4\" >4</th>\n",
       "      <td id=\"T_279ae_row4_col0\" class=\"data row4 col0\" >2019-05</td>\n",
       "      <td id=\"T_279ae_row4_col1\" class=\"data row4 col1\" >981</td>\n",
       "      <td id=\"T_279ae_row4_col2\" class=\"data row4 col2\" >53,737,770₽</td>\n",
       "      <td id=\"T_279ae_row4_col3\" class=\"data row4 col3\" >1,440</td>\n",
       "      <td id=\"T_279ae_row4_col4\" class=\"data row4 col4\" >38.04₽</td>\n",
       "    </tr>\n",
       "    <tr>\n",
       "      <th id=\"T_279ae_level0_row5\" class=\"row_heading level0 row5\" >5</th>\n",
       "      <td id=\"T_279ae_row5_col0\" class=\"data row5 col0\" >2019-06</td>\n",
       "      <td id=\"T_279ae_row5_col1\" class=\"data row5 col1\" >1,012</td>\n",
       "      <td id=\"T_279ae_row5_col2\" class=\"data row5 col2\" >52,003,397₽</td>\n",
       "      <td id=\"T_279ae_row5_col3\" class=\"data row5 col3\" >1,464</td>\n",
       "      <td id=\"T_279ae_row5_col4\" class=\"data row5 col4\" >35.10₽</td>\n",
       "    </tr>\n",
       "    <tr>\n",
       "      <th id=\"T_279ae_level0_row6\" class=\"row_heading level0 row6\" >6</th>\n",
       "      <td id=\"T_279ae_row6_col0\" class=\"data row6 col0\" >2019-07</td>\n",
       "      <td id=\"T_279ae_row6_col1\" class=\"data row6 col1\" >1,045</td>\n",
       "      <td id=\"T_279ae_row6_col2\" class=\"data row6 col2\" >56,909,357₽</td>\n",
       "      <td id=\"T_279ae_row6_col3\" class=\"data row6 col3\" >1,481</td>\n",
       "      <td id=\"T_279ae_row6_col4\" class=\"data row6 col4\" >36.77₽</td>\n",
       "    </tr>\n",
       "    <tr>\n",
       "      <th id=\"T_279ae_level0_row7\" class=\"row_heading level0 row7\" >7</th>\n",
       "      <td id=\"T_279ae_row7_col0\" class=\"data row7 col0\" >2019-08</td>\n",
       "      <td id=\"T_279ae_row7_col1\" class=\"data row7 col1\" >938</td>\n",
       "      <td id=\"T_279ae_row7_col2\" class=\"data row7 col2\" >52,017,505₽</td>\n",
       "      <td id=\"T_279ae_row7_col3\" class=\"data row7 col3\" >1,352</td>\n",
       "      <td id=\"T_279ae_row7_col4\" class=\"data row7 col4\" >41.02₽</td>\n",
       "    </tr>\n",
       "    <tr>\n",
       "      <th id=\"T_279ae_level0_row8\" class=\"row_heading level0 row8\" >8</th>\n",
       "      <td id=\"T_279ae_row8_col0\" class=\"data row8 col0\" >2019-09</td>\n",
       "      <td id=\"T_279ae_row8_col1\" class=\"data row8 col1\" >1,128</td>\n",
       "      <td id=\"T_279ae_row8_col2\" class=\"data row8 col2\" >79,255,099₽</td>\n",
       "      <td id=\"T_279ae_row8_col3\" class=\"data row8 col3\" >1,495</td>\n",
       "      <td id=\"T_279ae_row8_col4\" class=\"data row8 col4\" >47.00₽</td>\n",
       "    </tr>\n",
       "  </tbody>\n",
       "</table>\n"
      ],
      "text/plain": [
       "<pandas.io.formats.style.Styler at 0x15733ff20>"
      ]
     },
     "metadata": {},
     "output_type": "display_data"
    }
   ],
   "source": [
    "# Создаем таблицу для отображения\n",
    "monthly_stats_display = monthly_stats.copy()\n",
    "monthly_stats_display['month_year'] = monthly_stats_display['month_year'].astype(str)\n",
    "monthly_stats_display = monthly_stats_display.rename(columns={\n",
    "    'month_year': 'Месяц',\n",
    "    'customer_id': 'Уникальные покупатели',\n",
    "    'total_price': 'Общая выручка',\n",
    "    'entry_date': 'Дни с продажами',\n",
    "    'avg_revenue_per_customer_per_day': 'Средняя выручка на клиента в день'\n",
    "})\n",
    "\n",
    "# Форматируем и выводим таблицу\n",
    "styled_monthly = monthly_stats_display.style.background_gradient(\n",
    "    cmap='YlOrRd', \n",
    "    subset=['Средняя выручка на клиента в день', 'Уникальные покупатели']\n",
    ").format({\n",
    "    'Средняя выручка на клиента в день': '{:,.2f}₽',\n",
    "    'Общая выручка': '{:,.0f}₽',\n",
    "    'Уникальные покупатели': '{:,.0f}',\n",
    "    'Дни с продажами': '{:,.0f}'\n",
    "})\n",
    "\n",
    "print(\"\\nДетальная статистика по месяцам:\")\n",
    "display(styled_monthly)"
   ]
  },
  {
   "cell_type": "code",
   "execution_count": 70,
   "metadata": {},
   "outputs": [
    {
     "name": "stdout",
     "output_type": "stream",
     "text": [
      "\n",
      "Анализ сезонности:\n",
      "\n",
      "Средняя выручка на клиента в день по месяцам:\n",
      "Месяц 1: 38.81₽\n",
      "Месяц 2: 46.53₽\n",
      "Месяц 3: 41.44₽\n",
      "Месяц 4: 42.94₽\n",
      "Месяц 5: 38.04₽\n",
      "Месяц 6: 35.10₽\n",
      "Месяц 7: 36.77₽\n",
      "Месяц 8: 41.02₽\n",
      "Месяц 9: 47.00₽\n",
      "\n",
      "Коэффициент вариации: 10.12%\n",
      "Интерпретация:\n",
      "Сезонность выражена слабо (CV < 20%)\n"
     ]
    }
   ],
   "source": [
    "# Анализ сезонности\n",
    "print(\"\\nАнализ сезонности:\")\n",
    "monthly_avg = monthly_stats.groupby(monthly_stats['month_year'].dt.month)['avg_revenue_per_customer_per_day'].mean()\n",
    "print(\"\\nСредняя выручка на клиента в день по месяцам:\")\n",
    "for month, value in monthly_avg.items():\n",
    "    print(f\"Месяц {month}: {value:,.2f}₽\")\n",
    "\n",
    "# Рассчитываем коэффициент вариации\n",
    "cv = monthly_avg.std() / monthly_avg.mean() * 100\n",
    "print(f\"\\nКоэффициент вариации: {cv:.2f}%\")\n",
    "print(\"Интерпретация:\")\n",
    "if cv > 20:\n",
    "    print(\"Наблюдается выраженная сезонность (CV > 20%)\")\n",
    "else:\n",
    "    print(\"Сезонность выражена слабо (CV < 20%)\")"
   ]
  },
  {
   "cell_type": "markdown",
   "metadata": {},
   "source": [
    "#### 3.2.1. **Выводы по анализу месячных показателей и сезонности**:"
   ]
  },
  {
   "cell_type": "markdown",
   "metadata": {},
   "source": [
    "**Анализ средней выручки с клиента в день**:\n",
    "\n",
    "1. **Динамика показателя**:\n",
    "\n",
    "    - Минимальное значение: 35.10₽ (июнь)\n",
    "\n",
    "    - Максимальное значение: 47.00₽ (сентябрь)\n",
    "\n",
    "    - Среднее значение около 40.85₽\n",
    "\n",
    "2. **Тренды**:\n",
    "\n",
    "    - Наблюдается U-образная динамика в течение года\n",
    "\n",
    "    - Высокие показатели в начале года (февраль - 46.53₽)\n",
    "\n",
    "    - Снижение в летние месяцы\n",
    "\n",
    "    - Значительный рост к сентябрю (47.00₽)"
   ]
  },
  {
   "cell_type": "markdown",
   "metadata": {},
   "source": [
    "\n",
    "**Анализ количества уникальных покупателей**:\n",
    "\n",
    "1. **Динамика роста**:\n",
    "\n",
    "    - Начало года: 851 покупатель (январь)\n",
    "\n",
    "    - Конец периода: 1,128 покупателей (сентябрь)\n",
    "\n",
    "    - Устойчивый рост на 32.5% за 9 месяцев\n",
    "\n",
    "2. **Сезонные колебания**:\n",
    "\n",
    "    - Минимум: 786 покупателей (февраль)\n",
    "\n",
    "    - Максимум: 1,128 покупателей (сентябрь)\n",
    "\n",
    "    - Стабильный рост во втором полугодии"
   ]
  },
  {
   "cell_type": "markdown",
   "metadata": {},
   "source": [
    "\n",
    "**Анализ общей выручки**:\n",
    "\n",
    "1. **Динамика показателя**:\n",
    "\n",
    "    - Минимум: 38.7 млн₽ (февраль)\n",
    "\n",
    "    - Максимум: 79.3 млн₽ (сентябрь)\n",
    "\n",
    "    - Значительный рост к концу периода\n",
    "\n",
    "2. **Тенденции роста**:\n",
    "\n",
    "    - Общий тренд положительный\n",
    "\n",
    "    - Особенно заметный рост в сентябре (+52% к августу)"
   ]
  },
  {
   "cell_type": "markdown",
   "metadata": {},
   "source": [
    "**Оценка сезонности**:\n",
    "\n",
    "1. **Коэффициент вариации**: 10.12%\n",
    "\n",
    "    - Значение меньше 20% указывает на слабую сезонность\n",
    "\n",
    "    - Колебания показателей носят скорее структурный характер\n",
    "\n",
    "2. **Активность по месяцам**:\n",
    "\n",
    "    - Более высокая в феврале и сентябре\n",
    "\n",
    "    - Снижение в летние месяцы\n",
    "\n",
    "    - Отсутствие ярко выраженных сезонных паттернов"
   ]
  },
  {
   "cell_type": "markdown",
   "metadata": {},
   "source": [
    "**Практические выводы**:\n",
    "\n",
    "1. **Бизнес-рост**:\n",
    "\n",
    "    - Устойчивое развитие бизнеса\n",
    "\n",
    "    - Увеличение клиентской базы\n",
    "\n",
    "    - Рост общей выручки\n",
    "\n",
    "2. **Рекомендации**:\n",
    "\n",
    "    - Исследовать причины успеха в сентябре для масштабирования опыта\n",
    "\n",
    "    - Разработать стратегии поддержки продаж в летние месяцы\n",
    "\n",
    "    - Фокус на удержании растущей клиентской базы\n",
    "\n",
    "3. **Планирование**:\n",
    "\n",
    "    - Отсутствие явной сезонности позволяет равномерно планировать ресурсы\n",
    "\n",
    "    - Необходимо учитывать тренд роста при планировании мощностей"
   ]
  },
  {
   "cell_type": "markdown",
   "metadata": {},
   "source": [
    "### 3.3. **Расчет стики-фактора за второй и третий квартал 2019 года**"
   ]
  },
  {
   "cell_type": "markdown",
   "metadata": {},
   "source": [
    "Стики-фактор (sticky factor) - это метрика, которая показывает, насколько хорошо бизнес удерживает клиентов."
   ]
  },
  {
   "cell_type": "code",
   "execution_count": 71,
   "metadata": {},
   "outputs": [],
   "source": [
    "# Определяем периоды для анализа\n",
    "Q1_start = '2019-01-01'\n",
    "Q1_end = '2019-03-31'\n",
    "Q2_start = '2019-04-01'\n",
    "Q2_end = '2019-06-30'\n",
    "Q3_start = '2019-07-01' \n",
    "Q3_end = '2019-09-30'"
   ]
  },
  {
   "cell_type": "code",
   "execution_count": 72,
   "metadata": {},
   "outputs": [],
   "source": [
    "# Создаем функцию для расчета стики-фактора\n",
    "def calculate_sticky_factor(df, start_date, end_date, prev_start_date, prev_end_date):\n",
    "    # Получаем множества уникальных клиентов за каждый период\n",
    "    current_customers = set(df[\n",
    "        (df['entry_date'] >= start_date) & \n",
    "        (df['entry_date'] <= end_date)\n",
    "    ]['customer_id'].unique())\n",
    "    \n",
    "    prev_customers = set(df[\n",
    "        (df['entry_date'] >= prev_start_date) & \n",
    "        (df['entry_date'] <= prev_end_date)\n",
    "    ]['customer_id'].unique())\n",
    "    \n",
    "    # Находим пересечение множеств (клиенты, которые были в обоих периодах)\n",
    "    retained_customers = len(current_customers.intersection(prev_customers))\n",
    "    \n",
    "    return {\n",
    "        'period_customers': len(current_customers),\n",
    "        'prev_period_customers': len(prev_customers),\n",
    "        'retained_customers': retained_customers,\n",
    "        'sticky_factor': (retained_customers / len(prev_customers) * 100) if len(prev_customers) > 0 else 0\n",
    "    }"
   ]
  },
  {
   "cell_type": "code",
   "execution_count": 73,
   "metadata": {},
   "outputs": [],
   "source": [
    "# Рассчитываем стики-фактор для Q2 и Q3\n",
    "Q2_metrics = calculate_sticky_factor(df_final, Q2_start, Q2_end, Q1_start, Q1_end)\n",
    "Q3_metrics = calculate_sticky_factor(df_final, Q3_start, Q3_end, Q2_start, Q2_end)"
   ]
  },
  {
   "cell_type": "code",
   "execution_count": 74,
   "metadata": {},
   "outputs": [
    {
     "data": {
      "application/vnd.plotly.v1+json": {
       "config": {
        "plotlyServerURL": "https://plot.ly"
       },
       "data": [
        {
         "marker": {
          "color": "#1f77b4"
         },
         "name": "Q2 2019",
         "type": "bar",
         "x": [
          "Клиенты текущего периода",
          "Клиенты предыдущего периода",
          "Вернувшиеся клиенты"
         ],
         "y": [
          2004,
          1846,
          1016
         ]
        },
        {
         "marker": {
          "color": "#ff7f0e"
         },
         "name": "Q3 2019",
         "type": "bar",
         "x": [
          "Клиенты текущего периода",
          "Клиенты предыдущего периода",
          "Вернувшиеся клиенты"
         ],
         "y": [
          2153,
          2004,
          1155
         ]
        }
       ],
       "layout": {
        "barmode": "group",
        "height": 600,
        "legend": {
         "x": 0.01,
         "xanchor": "left",
         "y": 0.99,
         "yanchor": "top"
        },
        "showlegend": true,
        "template": {
         "data": {
          "bar": [
           {
            "error_x": {
             "color": "#2a3f5f"
            },
            "error_y": {
             "color": "#2a3f5f"
            },
            "marker": {
             "line": {
              "color": "white",
              "width": 0.5
             },
             "pattern": {
              "fillmode": "overlay",
              "size": 10,
              "solidity": 0.2
             }
            },
            "type": "bar"
           }
          ],
          "barpolar": [
           {
            "marker": {
             "line": {
              "color": "white",
              "width": 0.5
             },
             "pattern": {
              "fillmode": "overlay",
              "size": 10,
              "solidity": 0.2
             }
            },
            "type": "barpolar"
           }
          ],
          "carpet": [
           {
            "aaxis": {
             "endlinecolor": "#2a3f5f",
             "gridcolor": "#C8D4E3",
             "linecolor": "#C8D4E3",
             "minorgridcolor": "#C8D4E3",
             "startlinecolor": "#2a3f5f"
            },
            "baxis": {
             "endlinecolor": "#2a3f5f",
             "gridcolor": "#C8D4E3",
             "linecolor": "#C8D4E3",
             "minorgridcolor": "#C8D4E3",
             "startlinecolor": "#2a3f5f"
            },
            "type": "carpet"
           }
          ],
          "choropleth": [
           {
            "colorbar": {
             "outlinewidth": 0,
             "ticks": ""
            },
            "type": "choropleth"
           }
          ],
          "contour": [
           {
            "colorbar": {
             "outlinewidth": 0,
             "ticks": ""
            },
            "colorscale": [
             [
              0,
              "#0d0887"
             ],
             [
              0.1111111111111111,
              "#46039f"
             ],
             [
              0.2222222222222222,
              "#7201a8"
             ],
             [
              0.3333333333333333,
              "#9c179e"
             ],
             [
              0.4444444444444444,
              "#bd3786"
             ],
             [
              0.5555555555555556,
              "#d8576b"
             ],
             [
              0.6666666666666666,
              "#ed7953"
             ],
             [
              0.7777777777777778,
              "#fb9f3a"
             ],
             [
              0.8888888888888888,
              "#fdca26"
             ],
             [
              1,
              "#f0f921"
             ]
            ],
            "type": "contour"
           }
          ],
          "contourcarpet": [
           {
            "colorbar": {
             "outlinewidth": 0,
             "ticks": ""
            },
            "type": "contourcarpet"
           }
          ],
          "heatmap": [
           {
            "colorbar": {
             "outlinewidth": 0,
             "ticks": ""
            },
            "colorscale": [
             [
              0,
              "#0d0887"
             ],
             [
              0.1111111111111111,
              "#46039f"
             ],
             [
              0.2222222222222222,
              "#7201a8"
             ],
             [
              0.3333333333333333,
              "#9c179e"
             ],
             [
              0.4444444444444444,
              "#bd3786"
             ],
             [
              0.5555555555555556,
              "#d8576b"
             ],
             [
              0.6666666666666666,
              "#ed7953"
             ],
             [
              0.7777777777777778,
              "#fb9f3a"
             ],
             [
              0.8888888888888888,
              "#fdca26"
             ],
             [
              1,
              "#f0f921"
             ]
            ],
            "type": "heatmap"
           }
          ],
          "heatmapgl": [
           {
            "colorbar": {
             "outlinewidth": 0,
             "ticks": ""
            },
            "colorscale": [
             [
              0,
              "#0d0887"
             ],
             [
              0.1111111111111111,
              "#46039f"
             ],
             [
              0.2222222222222222,
              "#7201a8"
             ],
             [
              0.3333333333333333,
              "#9c179e"
             ],
             [
              0.4444444444444444,
              "#bd3786"
             ],
             [
              0.5555555555555556,
              "#d8576b"
             ],
             [
              0.6666666666666666,
              "#ed7953"
             ],
             [
              0.7777777777777778,
              "#fb9f3a"
             ],
             [
              0.8888888888888888,
              "#fdca26"
             ],
             [
              1,
              "#f0f921"
             ]
            ],
            "type": "heatmapgl"
           }
          ],
          "histogram": [
           {
            "marker": {
             "pattern": {
              "fillmode": "overlay",
              "size": 10,
              "solidity": 0.2
             }
            },
            "type": "histogram"
           }
          ],
          "histogram2d": [
           {
            "colorbar": {
             "outlinewidth": 0,
             "ticks": ""
            },
            "colorscale": [
             [
              0,
              "#0d0887"
             ],
             [
              0.1111111111111111,
              "#46039f"
             ],
             [
              0.2222222222222222,
              "#7201a8"
             ],
             [
              0.3333333333333333,
              "#9c179e"
             ],
             [
              0.4444444444444444,
              "#bd3786"
             ],
             [
              0.5555555555555556,
              "#d8576b"
             ],
             [
              0.6666666666666666,
              "#ed7953"
             ],
             [
              0.7777777777777778,
              "#fb9f3a"
             ],
             [
              0.8888888888888888,
              "#fdca26"
             ],
             [
              1,
              "#f0f921"
             ]
            ],
            "type": "histogram2d"
           }
          ],
          "histogram2dcontour": [
           {
            "colorbar": {
             "outlinewidth": 0,
             "ticks": ""
            },
            "colorscale": [
             [
              0,
              "#0d0887"
             ],
             [
              0.1111111111111111,
              "#46039f"
             ],
             [
              0.2222222222222222,
              "#7201a8"
             ],
             [
              0.3333333333333333,
              "#9c179e"
             ],
             [
              0.4444444444444444,
              "#bd3786"
             ],
             [
              0.5555555555555556,
              "#d8576b"
             ],
             [
              0.6666666666666666,
              "#ed7953"
             ],
             [
              0.7777777777777778,
              "#fb9f3a"
             ],
             [
              0.8888888888888888,
              "#fdca26"
             ],
             [
              1,
              "#f0f921"
             ]
            ],
            "type": "histogram2dcontour"
           }
          ],
          "mesh3d": [
           {
            "colorbar": {
             "outlinewidth": 0,
             "ticks": ""
            },
            "type": "mesh3d"
           }
          ],
          "parcoords": [
           {
            "line": {
             "colorbar": {
              "outlinewidth": 0,
              "ticks": ""
             }
            },
            "type": "parcoords"
           }
          ],
          "pie": [
           {
            "automargin": true,
            "type": "pie"
           }
          ],
          "scatter": [
           {
            "fillpattern": {
             "fillmode": "overlay",
             "size": 10,
             "solidity": 0.2
            },
            "type": "scatter"
           }
          ],
          "scatter3d": [
           {
            "line": {
             "colorbar": {
              "outlinewidth": 0,
              "ticks": ""
             }
            },
            "marker": {
             "colorbar": {
              "outlinewidth": 0,
              "ticks": ""
             }
            },
            "type": "scatter3d"
           }
          ],
          "scattercarpet": [
           {
            "marker": {
             "colorbar": {
              "outlinewidth": 0,
              "ticks": ""
             }
            },
            "type": "scattercarpet"
           }
          ],
          "scattergeo": [
           {
            "marker": {
             "colorbar": {
              "outlinewidth": 0,
              "ticks": ""
             }
            },
            "type": "scattergeo"
           }
          ],
          "scattergl": [
           {
            "marker": {
             "colorbar": {
              "outlinewidth": 0,
              "ticks": ""
             }
            },
            "type": "scattergl"
           }
          ],
          "scattermapbox": [
           {
            "marker": {
             "colorbar": {
              "outlinewidth": 0,
              "ticks": ""
             }
            },
            "type": "scattermapbox"
           }
          ],
          "scatterpolar": [
           {
            "marker": {
             "colorbar": {
              "outlinewidth": 0,
              "ticks": ""
             }
            },
            "type": "scatterpolar"
           }
          ],
          "scatterpolargl": [
           {
            "marker": {
             "colorbar": {
              "outlinewidth": 0,
              "ticks": ""
             }
            },
            "type": "scatterpolargl"
           }
          ],
          "scatterternary": [
           {
            "marker": {
             "colorbar": {
              "outlinewidth": 0,
              "ticks": ""
             }
            },
            "type": "scatterternary"
           }
          ],
          "surface": [
           {
            "colorbar": {
             "outlinewidth": 0,
             "ticks": ""
            },
            "colorscale": [
             [
              0,
              "#0d0887"
             ],
             [
              0.1111111111111111,
              "#46039f"
             ],
             [
              0.2222222222222222,
              "#7201a8"
             ],
             [
              0.3333333333333333,
              "#9c179e"
             ],
             [
              0.4444444444444444,
              "#bd3786"
             ],
             [
              0.5555555555555556,
              "#d8576b"
             ],
             [
              0.6666666666666666,
              "#ed7953"
             ],
             [
              0.7777777777777778,
              "#fb9f3a"
             ],
             [
              0.8888888888888888,
              "#fdca26"
             ],
             [
              1,
              "#f0f921"
             ]
            ],
            "type": "surface"
           }
          ],
          "table": [
           {
            "cells": {
             "fill": {
              "color": "#EBF0F8"
             },
             "line": {
              "color": "white"
             }
            },
            "header": {
             "fill": {
              "color": "#C8D4E3"
             },
             "line": {
              "color": "white"
             }
            },
            "type": "table"
           }
          ]
         },
         "layout": {
          "annotationdefaults": {
           "arrowcolor": "#2a3f5f",
           "arrowhead": 0,
           "arrowwidth": 1
          },
          "autotypenumbers": "strict",
          "coloraxis": {
           "colorbar": {
            "outlinewidth": 0,
            "ticks": ""
           }
          },
          "colorscale": {
           "diverging": [
            [
             0,
             "#8e0152"
            ],
            [
             0.1,
             "#c51b7d"
            ],
            [
             0.2,
             "#de77ae"
            ],
            [
             0.3,
             "#f1b6da"
            ],
            [
             0.4,
             "#fde0ef"
            ],
            [
             0.5,
             "#f7f7f7"
            ],
            [
             0.6,
             "#e6f5d0"
            ],
            [
             0.7,
             "#b8e186"
            ],
            [
             0.8,
             "#7fbc41"
            ],
            [
             0.9,
             "#4d9221"
            ],
            [
             1,
             "#276419"
            ]
           ],
           "sequential": [
            [
             0,
             "#0d0887"
            ],
            [
             0.1111111111111111,
             "#46039f"
            ],
            [
             0.2222222222222222,
             "#7201a8"
            ],
            [
             0.3333333333333333,
             "#9c179e"
            ],
            [
             0.4444444444444444,
             "#bd3786"
            ],
            [
             0.5555555555555556,
             "#d8576b"
            ],
            [
             0.6666666666666666,
             "#ed7953"
            ],
            [
             0.7777777777777778,
             "#fb9f3a"
            ],
            [
             0.8888888888888888,
             "#fdca26"
            ],
            [
             1,
             "#f0f921"
            ]
           ],
           "sequentialminus": [
            [
             0,
             "#0d0887"
            ],
            [
             0.1111111111111111,
             "#46039f"
            ],
            [
             0.2222222222222222,
             "#7201a8"
            ],
            [
             0.3333333333333333,
             "#9c179e"
            ],
            [
             0.4444444444444444,
             "#bd3786"
            ],
            [
             0.5555555555555556,
             "#d8576b"
            ],
            [
             0.6666666666666666,
             "#ed7953"
            ],
            [
             0.7777777777777778,
             "#fb9f3a"
            ],
            [
             0.8888888888888888,
             "#fdca26"
            ],
            [
             1,
             "#f0f921"
            ]
           ]
          },
          "colorway": [
           "#636efa",
           "#EF553B",
           "#00cc96",
           "#ab63fa",
           "#FFA15A",
           "#19d3f3",
           "#FF6692",
           "#B6E880",
           "#FF97FF",
           "#FECB52"
          ],
          "font": {
           "color": "#2a3f5f"
          },
          "geo": {
           "bgcolor": "white",
           "lakecolor": "white",
           "landcolor": "white",
           "showlakes": true,
           "showland": true,
           "subunitcolor": "#C8D4E3"
          },
          "hoverlabel": {
           "align": "left"
          },
          "hovermode": "closest",
          "mapbox": {
           "style": "light"
          },
          "paper_bgcolor": "white",
          "plot_bgcolor": "white",
          "polar": {
           "angularaxis": {
            "gridcolor": "#EBF0F8",
            "linecolor": "#EBF0F8",
            "ticks": ""
           },
           "bgcolor": "white",
           "radialaxis": {
            "gridcolor": "#EBF0F8",
            "linecolor": "#EBF0F8",
            "ticks": ""
           }
          },
          "scene": {
           "xaxis": {
            "backgroundcolor": "white",
            "gridcolor": "#DFE8F3",
            "gridwidth": 2,
            "linecolor": "#EBF0F8",
            "showbackground": true,
            "ticks": "",
            "zerolinecolor": "#EBF0F8"
           },
           "yaxis": {
            "backgroundcolor": "white",
            "gridcolor": "#DFE8F3",
            "gridwidth": 2,
            "linecolor": "#EBF0F8",
            "showbackground": true,
            "ticks": "",
            "zerolinecolor": "#EBF0F8"
           },
           "zaxis": {
            "backgroundcolor": "white",
            "gridcolor": "#DFE8F3",
            "gridwidth": 2,
            "linecolor": "#EBF0F8",
            "showbackground": true,
            "ticks": "",
            "zerolinecolor": "#EBF0F8"
           }
          },
          "shapedefaults": {
           "line": {
            "color": "#2a3f5f"
           }
          },
          "ternary": {
           "aaxis": {
            "gridcolor": "#DFE8F3",
            "linecolor": "#A2B1C6",
            "ticks": ""
           },
           "baxis": {
            "gridcolor": "#DFE8F3",
            "linecolor": "#A2B1C6",
            "ticks": ""
           },
           "bgcolor": "white",
           "caxis": {
            "gridcolor": "#DFE8F3",
            "linecolor": "#A2B1C6",
            "ticks": ""
           }
          },
          "title": {
           "x": 0.05
          },
          "xaxis": {
           "automargin": true,
           "gridcolor": "#EBF0F8",
           "linecolor": "#EBF0F8",
           "ticks": "",
           "title": {
            "standoff": 15
           },
           "zerolinecolor": "#EBF0F8",
           "zerolinewidth": 2
          },
          "yaxis": {
           "automargin": true,
           "gridcolor": "#EBF0F8",
           "linecolor": "#EBF0F8",
           "ticks": "",
           "title": {
            "standoff": 15
           },
           "zerolinecolor": "#EBF0F8",
           "zerolinewidth": 2
          }
         }
        },
        "title": {
         "font": {
          "size": 20
         },
         "text": "Анализ удержания клиентов по кварталам",
         "x": 0.5,
         "xanchor": "center",
         "y": 0.95,
         "yanchor": "top"
        }
       }
      }
     },
     "metadata": {},
     "output_type": "display_data"
    }
   ],
   "source": [
    "# Создаем визуализацию результатов\n",
    "fig = go.Figure()\n",
    "\n",
    "# Добавляем данные по Q2\n",
    "fig.add_trace(go.Bar(\n",
    "    name='Q2 2019',\n",
    "    x=['Клиенты текущего периода', 'Клиенты предыдущего периода', 'Вернувшиеся клиенты'],\n",
    "    y=[Q2_metrics['period_customers'], \n",
    "       Q2_metrics['prev_period_customers'], \n",
    "       Q2_metrics['retained_customers']],\n",
    "    marker_color='#1f77b4'\n",
    "))\n",
    "\n",
    "# Добавляем данные по Q3\n",
    "fig.add_trace(go.Bar(\n",
    "    name='Q3 2019',\n",
    "    x=['Клиенты текущего периода', 'Клиенты предыдущего периода', 'Вернувшиеся клиенты'],\n",
    "    y=[Q3_metrics['period_customers'], \n",
    "       Q3_metrics['prev_period_customers'], \n",
    "       Q3_metrics['retained_customers']],\n",
    "    marker_color='#ff7f0e'\n",
    "))\n",
    "\n",
    "# Обновляем layout\n",
    "fig.update_layout(\n",
    "    title={\n",
    "        'text': 'Анализ удержания клиентов по кварталам',\n",
    "        'y':0.95,\n",
    "        'x':0.5,\n",
    "        'xanchor': 'center',\n",
    "        'yanchor': 'top',\n",
    "        'font': dict(size=20)\n",
    "    },\n",
    "    barmode='group',\n",
    "    template='plotly_white',\n",
    "    height=600,\n",
    "    showlegend=True,\n",
    "    legend=dict(\n",
    "        yanchor=\"top\",\n",
    "        y=0.99,\n",
    "        xanchor=\"left\",\n",
    "        x=0.01\n",
    "    )\n",
    ")\n",
    "\n",
    "# Показываем график\n",
    "fig.show()"
   ]
  },
  {
   "cell_type": "code",
   "execution_count": 75,
   "metadata": {},
   "outputs": [
    {
     "name": "stdout",
     "output_type": "stream",
     "text": [
      "\n",
      "Стики-фактор для Q2 2019:\n",
      "Всего клиентов в Q2: 2,004\n",
      "Клиентов в Q1: 1,846\n",
      "Вернувшихся клиентов: 1,016\n",
      "Стики-фактор: 55.04%\n",
      "\n",
      "Стики-фактор для Q3 2019:\n",
      "Всего клиентов в Q3: 2,153\n",
      "Клиентов в Q2: 2,004\n",
      "Вернувшихся клиентов: 1,155\n",
      "Стики-фактор: 57.63%\n"
     ]
    }
   ],
   "source": [
    "# Выводим детальную статистику\n",
    "print(\"\\nСтики-фактор для Q2 2019:\")\n",
    "print(f\"Всего клиентов в Q2: {Q2_metrics['period_customers']:,}\")\n",
    "print(f\"Клиентов в Q1: {Q2_metrics['prev_period_customers']:,}\")\n",
    "print(f\"Вернувшихся клиентов: {Q2_metrics['retained_customers']:,}\")\n",
    "print(f\"Стики-фактор: {Q2_metrics['sticky_factor']:.2f}%\")\n",
    "\n",
    "print(\"\\nСтики-фактор для Q3 2019:\")\n",
    "print(f\"Всего клиентов в Q3: {Q3_metrics['period_customers']:,}\")\n",
    "print(f\"Клиентов в Q2: {Q3_metrics['prev_period_customers']:,}\")\n",
    "print(f\"Вернувшихся клиентов: {Q3_metrics['retained_customers']:,}\")\n",
    "print(f\"Стики-фактор: {Q3_metrics['sticky_factor']:.2f}%\")"
   ]
  },
  {
   "cell_type": "code",
   "execution_count": 76,
   "metadata": {},
   "outputs": [
    {
     "name": "stdout",
     "output_type": "stream",
     "text": [
      "\n",
      "Сравнительный анализ:\n",
      "Изменение стики-фактора (Q3 vs Q2): +2.60%\n"
     ]
    }
   ],
   "source": [
    "# Сравнительный анализ\n",
    "print(\"\\nСравнительный анализ:\")\n",
    "q2_vs_q3 = Q3_metrics['sticky_factor'] - Q2_metrics['sticky_factor']\n",
    "print(f\"Изменение стики-фактора (Q3 vs Q2): {q2_vs_q3:+.2f}%\")"
   ]
  },
  {
   "cell_type": "code",
   "execution_count": 77,
   "metadata": {},
   "outputs": [
    {
     "data": {
      "application/vnd.plotly.v1+json": {
       "config": {
        "plotlyServerURL": "https://plot.ly"
       },
       "data": [
        {
         "marker": {
          "color": [
           "#1f77b4",
           "#ff7f0e"
          ]
         },
         "text": [
          "55.0%",
          "57.6%"
         ],
         "textposition": "auto",
         "type": "bar",
         "x": [
          "Q2 2019",
          "Q3 2019"
         ],
         "y": [
          55.03791982665223,
          57.63473053892215
         ]
        }
       ],
       "layout": {
        "height": 400,
        "showlegend": false,
        "template": {
         "data": {
          "bar": [
           {
            "error_x": {
             "color": "#2a3f5f"
            },
            "error_y": {
             "color": "#2a3f5f"
            },
            "marker": {
             "line": {
              "color": "white",
              "width": 0.5
             },
             "pattern": {
              "fillmode": "overlay",
              "size": 10,
              "solidity": 0.2
             }
            },
            "type": "bar"
           }
          ],
          "barpolar": [
           {
            "marker": {
             "line": {
              "color": "white",
              "width": 0.5
             },
             "pattern": {
              "fillmode": "overlay",
              "size": 10,
              "solidity": 0.2
             }
            },
            "type": "barpolar"
           }
          ],
          "carpet": [
           {
            "aaxis": {
             "endlinecolor": "#2a3f5f",
             "gridcolor": "#C8D4E3",
             "linecolor": "#C8D4E3",
             "minorgridcolor": "#C8D4E3",
             "startlinecolor": "#2a3f5f"
            },
            "baxis": {
             "endlinecolor": "#2a3f5f",
             "gridcolor": "#C8D4E3",
             "linecolor": "#C8D4E3",
             "minorgridcolor": "#C8D4E3",
             "startlinecolor": "#2a3f5f"
            },
            "type": "carpet"
           }
          ],
          "choropleth": [
           {
            "colorbar": {
             "outlinewidth": 0,
             "ticks": ""
            },
            "type": "choropleth"
           }
          ],
          "contour": [
           {
            "colorbar": {
             "outlinewidth": 0,
             "ticks": ""
            },
            "colorscale": [
             [
              0,
              "#0d0887"
             ],
             [
              0.1111111111111111,
              "#46039f"
             ],
             [
              0.2222222222222222,
              "#7201a8"
             ],
             [
              0.3333333333333333,
              "#9c179e"
             ],
             [
              0.4444444444444444,
              "#bd3786"
             ],
             [
              0.5555555555555556,
              "#d8576b"
             ],
             [
              0.6666666666666666,
              "#ed7953"
             ],
             [
              0.7777777777777778,
              "#fb9f3a"
             ],
             [
              0.8888888888888888,
              "#fdca26"
             ],
             [
              1,
              "#f0f921"
             ]
            ],
            "type": "contour"
           }
          ],
          "contourcarpet": [
           {
            "colorbar": {
             "outlinewidth": 0,
             "ticks": ""
            },
            "type": "contourcarpet"
           }
          ],
          "heatmap": [
           {
            "colorbar": {
             "outlinewidth": 0,
             "ticks": ""
            },
            "colorscale": [
             [
              0,
              "#0d0887"
             ],
             [
              0.1111111111111111,
              "#46039f"
             ],
             [
              0.2222222222222222,
              "#7201a8"
             ],
             [
              0.3333333333333333,
              "#9c179e"
             ],
             [
              0.4444444444444444,
              "#bd3786"
             ],
             [
              0.5555555555555556,
              "#d8576b"
             ],
             [
              0.6666666666666666,
              "#ed7953"
             ],
             [
              0.7777777777777778,
              "#fb9f3a"
             ],
             [
              0.8888888888888888,
              "#fdca26"
             ],
             [
              1,
              "#f0f921"
             ]
            ],
            "type": "heatmap"
           }
          ],
          "heatmapgl": [
           {
            "colorbar": {
             "outlinewidth": 0,
             "ticks": ""
            },
            "colorscale": [
             [
              0,
              "#0d0887"
             ],
             [
              0.1111111111111111,
              "#46039f"
             ],
             [
              0.2222222222222222,
              "#7201a8"
             ],
             [
              0.3333333333333333,
              "#9c179e"
             ],
             [
              0.4444444444444444,
              "#bd3786"
             ],
             [
              0.5555555555555556,
              "#d8576b"
             ],
             [
              0.6666666666666666,
              "#ed7953"
             ],
             [
              0.7777777777777778,
              "#fb9f3a"
             ],
             [
              0.8888888888888888,
              "#fdca26"
             ],
             [
              1,
              "#f0f921"
             ]
            ],
            "type": "heatmapgl"
           }
          ],
          "histogram": [
           {
            "marker": {
             "pattern": {
              "fillmode": "overlay",
              "size": 10,
              "solidity": 0.2
             }
            },
            "type": "histogram"
           }
          ],
          "histogram2d": [
           {
            "colorbar": {
             "outlinewidth": 0,
             "ticks": ""
            },
            "colorscale": [
             [
              0,
              "#0d0887"
             ],
             [
              0.1111111111111111,
              "#46039f"
             ],
             [
              0.2222222222222222,
              "#7201a8"
             ],
             [
              0.3333333333333333,
              "#9c179e"
             ],
             [
              0.4444444444444444,
              "#bd3786"
             ],
             [
              0.5555555555555556,
              "#d8576b"
             ],
             [
              0.6666666666666666,
              "#ed7953"
             ],
             [
              0.7777777777777778,
              "#fb9f3a"
             ],
             [
              0.8888888888888888,
              "#fdca26"
             ],
             [
              1,
              "#f0f921"
             ]
            ],
            "type": "histogram2d"
           }
          ],
          "histogram2dcontour": [
           {
            "colorbar": {
             "outlinewidth": 0,
             "ticks": ""
            },
            "colorscale": [
             [
              0,
              "#0d0887"
             ],
             [
              0.1111111111111111,
              "#46039f"
             ],
             [
              0.2222222222222222,
              "#7201a8"
             ],
             [
              0.3333333333333333,
              "#9c179e"
             ],
             [
              0.4444444444444444,
              "#bd3786"
             ],
             [
              0.5555555555555556,
              "#d8576b"
             ],
             [
              0.6666666666666666,
              "#ed7953"
             ],
             [
              0.7777777777777778,
              "#fb9f3a"
             ],
             [
              0.8888888888888888,
              "#fdca26"
             ],
             [
              1,
              "#f0f921"
             ]
            ],
            "type": "histogram2dcontour"
           }
          ],
          "mesh3d": [
           {
            "colorbar": {
             "outlinewidth": 0,
             "ticks": ""
            },
            "type": "mesh3d"
           }
          ],
          "parcoords": [
           {
            "line": {
             "colorbar": {
              "outlinewidth": 0,
              "ticks": ""
             }
            },
            "type": "parcoords"
           }
          ],
          "pie": [
           {
            "automargin": true,
            "type": "pie"
           }
          ],
          "scatter": [
           {
            "fillpattern": {
             "fillmode": "overlay",
             "size": 10,
             "solidity": 0.2
            },
            "type": "scatter"
           }
          ],
          "scatter3d": [
           {
            "line": {
             "colorbar": {
              "outlinewidth": 0,
              "ticks": ""
             }
            },
            "marker": {
             "colorbar": {
              "outlinewidth": 0,
              "ticks": ""
             }
            },
            "type": "scatter3d"
           }
          ],
          "scattercarpet": [
           {
            "marker": {
             "colorbar": {
              "outlinewidth": 0,
              "ticks": ""
             }
            },
            "type": "scattercarpet"
           }
          ],
          "scattergeo": [
           {
            "marker": {
             "colorbar": {
              "outlinewidth": 0,
              "ticks": ""
             }
            },
            "type": "scattergeo"
           }
          ],
          "scattergl": [
           {
            "marker": {
             "colorbar": {
              "outlinewidth": 0,
              "ticks": ""
             }
            },
            "type": "scattergl"
           }
          ],
          "scattermapbox": [
           {
            "marker": {
             "colorbar": {
              "outlinewidth": 0,
              "ticks": ""
             }
            },
            "type": "scattermapbox"
           }
          ],
          "scatterpolar": [
           {
            "marker": {
             "colorbar": {
              "outlinewidth": 0,
              "ticks": ""
             }
            },
            "type": "scatterpolar"
           }
          ],
          "scatterpolargl": [
           {
            "marker": {
             "colorbar": {
              "outlinewidth": 0,
              "ticks": ""
             }
            },
            "type": "scatterpolargl"
           }
          ],
          "scatterternary": [
           {
            "marker": {
             "colorbar": {
              "outlinewidth": 0,
              "ticks": ""
             }
            },
            "type": "scatterternary"
           }
          ],
          "surface": [
           {
            "colorbar": {
             "outlinewidth": 0,
             "ticks": ""
            },
            "colorscale": [
             [
              0,
              "#0d0887"
             ],
             [
              0.1111111111111111,
              "#46039f"
             ],
             [
              0.2222222222222222,
              "#7201a8"
             ],
             [
              0.3333333333333333,
              "#9c179e"
             ],
             [
              0.4444444444444444,
              "#bd3786"
             ],
             [
              0.5555555555555556,
              "#d8576b"
             ],
             [
              0.6666666666666666,
              "#ed7953"
             ],
             [
              0.7777777777777778,
              "#fb9f3a"
             ],
             [
              0.8888888888888888,
              "#fdca26"
             ],
             [
              1,
              "#f0f921"
             ]
            ],
            "type": "surface"
           }
          ],
          "table": [
           {
            "cells": {
             "fill": {
              "color": "#EBF0F8"
             },
             "line": {
              "color": "white"
             }
            },
            "header": {
             "fill": {
              "color": "#C8D4E3"
             },
             "line": {
              "color": "white"
             }
            },
            "type": "table"
           }
          ]
         },
         "layout": {
          "annotationdefaults": {
           "arrowcolor": "#2a3f5f",
           "arrowhead": 0,
           "arrowwidth": 1
          },
          "autotypenumbers": "strict",
          "coloraxis": {
           "colorbar": {
            "outlinewidth": 0,
            "ticks": ""
           }
          },
          "colorscale": {
           "diverging": [
            [
             0,
             "#8e0152"
            ],
            [
             0.1,
             "#c51b7d"
            ],
            [
             0.2,
             "#de77ae"
            ],
            [
             0.3,
             "#f1b6da"
            ],
            [
             0.4,
             "#fde0ef"
            ],
            [
             0.5,
             "#f7f7f7"
            ],
            [
             0.6,
             "#e6f5d0"
            ],
            [
             0.7,
             "#b8e186"
            ],
            [
             0.8,
             "#7fbc41"
            ],
            [
             0.9,
             "#4d9221"
            ],
            [
             1,
             "#276419"
            ]
           ],
           "sequential": [
            [
             0,
             "#0d0887"
            ],
            [
             0.1111111111111111,
             "#46039f"
            ],
            [
             0.2222222222222222,
             "#7201a8"
            ],
            [
             0.3333333333333333,
             "#9c179e"
            ],
            [
             0.4444444444444444,
             "#bd3786"
            ],
            [
             0.5555555555555556,
             "#d8576b"
            ],
            [
             0.6666666666666666,
             "#ed7953"
            ],
            [
             0.7777777777777778,
             "#fb9f3a"
            ],
            [
             0.8888888888888888,
             "#fdca26"
            ],
            [
             1,
             "#f0f921"
            ]
           ],
           "sequentialminus": [
            [
             0,
             "#0d0887"
            ],
            [
             0.1111111111111111,
             "#46039f"
            ],
            [
             0.2222222222222222,
             "#7201a8"
            ],
            [
             0.3333333333333333,
             "#9c179e"
            ],
            [
             0.4444444444444444,
             "#bd3786"
            ],
            [
             0.5555555555555556,
             "#d8576b"
            ],
            [
             0.6666666666666666,
             "#ed7953"
            ],
            [
             0.7777777777777778,
             "#fb9f3a"
            ],
            [
             0.8888888888888888,
             "#fdca26"
            ],
            [
             1,
             "#f0f921"
            ]
           ]
          },
          "colorway": [
           "#636efa",
           "#EF553B",
           "#00cc96",
           "#ab63fa",
           "#FFA15A",
           "#19d3f3",
           "#FF6692",
           "#B6E880",
           "#FF97FF",
           "#FECB52"
          ],
          "font": {
           "color": "#2a3f5f"
          },
          "geo": {
           "bgcolor": "white",
           "lakecolor": "white",
           "landcolor": "white",
           "showlakes": true,
           "showland": true,
           "subunitcolor": "#C8D4E3"
          },
          "hoverlabel": {
           "align": "left"
          },
          "hovermode": "closest",
          "mapbox": {
           "style": "light"
          },
          "paper_bgcolor": "white",
          "plot_bgcolor": "white",
          "polar": {
           "angularaxis": {
            "gridcolor": "#EBF0F8",
            "linecolor": "#EBF0F8",
            "ticks": ""
           },
           "bgcolor": "white",
           "radialaxis": {
            "gridcolor": "#EBF0F8",
            "linecolor": "#EBF0F8",
            "ticks": ""
           }
          },
          "scene": {
           "xaxis": {
            "backgroundcolor": "white",
            "gridcolor": "#DFE8F3",
            "gridwidth": 2,
            "linecolor": "#EBF0F8",
            "showbackground": true,
            "ticks": "",
            "zerolinecolor": "#EBF0F8"
           },
           "yaxis": {
            "backgroundcolor": "white",
            "gridcolor": "#DFE8F3",
            "gridwidth": 2,
            "linecolor": "#EBF0F8",
            "showbackground": true,
            "ticks": "",
            "zerolinecolor": "#EBF0F8"
           },
           "zaxis": {
            "backgroundcolor": "white",
            "gridcolor": "#DFE8F3",
            "gridwidth": 2,
            "linecolor": "#EBF0F8",
            "showbackground": true,
            "ticks": "",
            "zerolinecolor": "#EBF0F8"
           }
          },
          "shapedefaults": {
           "line": {
            "color": "#2a3f5f"
           }
          },
          "ternary": {
           "aaxis": {
            "gridcolor": "#DFE8F3",
            "linecolor": "#A2B1C6",
            "ticks": ""
           },
           "baxis": {
            "gridcolor": "#DFE8F3",
            "linecolor": "#A2B1C6",
            "ticks": ""
           },
           "bgcolor": "white",
           "caxis": {
            "gridcolor": "#DFE8F3",
            "linecolor": "#A2B1C6",
            "ticks": ""
           }
          },
          "title": {
           "x": 0.05
          },
          "xaxis": {
           "automargin": true,
           "gridcolor": "#EBF0F8",
           "linecolor": "#EBF0F8",
           "ticks": "",
           "title": {
            "standoff": 15
           },
           "zerolinecolor": "#EBF0F8",
           "zerolinewidth": 2
          },
          "yaxis": {
           "automargin": true,
           "gridcolor": "#EBF0F8",
           "linecolor": "#EBF0F8",
           "ticks": "",
           "title": {
            "standoff": 15
           },
           "zerolinecolor": "#EBF0F8",
           "zerolinewidth": 2
          }
         }
        },
        "title": {
         "font": {
          "size": 20
         },
         "text": "Динамика стики-фактора по кварталам",
         "x": 0.5,
         "xanchor": "center",
         "y": 0.95,
         "yanchor": "top"
        },
        "yaxis": {
         "title": {
          "text": "Стики-фактор, %"
         }
        }
       }
      }
     },
     "metadata": {},
     "output_type": "display_data"
    }
   ],
   "source": [
    "# Создаем дополнительную визуализацию стики-фактора\n",
    "fig2 = go.Figure()\n",
    "\n",
    "fig2.add_trace(go.Bar(\n",
    "    x=['Q2 2019', 'Q3 2019'],\n",
    "    y=[Q2_metrics['sticky_factor'], Q3_metrics['sticky_factor']],\n",
    "    text=[f\"{Q2_metrics['sticky_factor']:.1f}%\", f\"{Q3_metrics['sticky_factor']:.1f}%\"],\n",
    "    textposition='auto',\n",
    "    marker_color=['#1f77b4', '#ff7f0e']\n",
    "))\n",
    "\n",
    "fig2.update_layout(\n",
    "    title={\n",
    "        'text': 'Динамика стики-фактора по кварталам',\n",
    "        'y':0.95,\n",
    "        'x':0.5,\n",
    "        'xanchor': 'center',\n",
    "        'yanchor': 'top',\n",
    "        'font': dict(size=20)\n",
    "    },\n",
    "    yaxis_title='Стики-фактор, %',\n",
    "    template='plotly_white',\n",
    "    height=400,\n",
    "    showlegend=False\n",
    ")\n",
    "\n",
    "fig2.show()"
   ]
  },
  {
   "cell_type": "markdown",
   "metadata": {},
   "source": [
    "#### 3.3.1. **Выводы по анализу стики-фактора**"
   ]
  },
  {
   "cell_type": "markdown",
   "metadata": {},
   "source": [
    "**Анализ удержания клиентов (стики-фактор) за Q2-Q3 2019**\n",
    "\n",
    "1. **Второй квартал 2019 (Q2)**:\n",
    "\n",
    "    - Общая база: 2,004 активных клиента\n",
    "\n",
    "    - База предыдущего периода (Q1): 1,846 клиентов\n",
    "\n",
    "    - Удержано клиентов: 1,016 человек\n",
    "\n",
    "    - Стики-фактор: 55.04%\n",
    "\n",
    "        - Более половины клиентов Q1 продолжили совершать покупки в Q2\n",
    "\n",
    "        - Привлечено 988 новых клиентов (2,004 - 1,016)\n",
    "\n",
    "\n",
    "2. **Третий квартал 2019 (Q3)**:\n",
    "\n",
    "    - Общая база: 2,153 активных клиента\n",
    "\n",
    "    - База предыдущего периода (Q2): 2,004 клиента\n",
    "\n",
    "    - Удержано клиентов: 1,155 человек\n",
    "\n",
    "    - Стики-фактор: 57.63%\n",
    "\n",
    "        - Сохранено почти 58% клиентов от Q2\n",
    "\n",
    "        - Привлечено 998 новых клиентов (2,153 - 1,155)\n",
    "\n",
    "\n",
    "3. **Динамика показателей**:\n",
    "\n",
    "    - Рост стики-фактора: +2.60 процентных пункта\n",
    "\n",
    "    - Увеличение клиентской базы: +7.4% (с 2,004 до 2,153)\n",
    "\n",
    "    - Улучшение удержания: +139 клиентов (1,155 - 1,016)"
   ]
  },
  {
   "cell_type": "markdown",
   "metadata": {},
   "source": [
    "**Выводы и рекомендации:**\n",
    "\n",
    "1. **Позитивные тренды**:\n",
    "\n",
    "    - Стабильный рост удержания клиентов\n",
    "\n",
    "    - Увеличение общей клиентской базы\n",
    "\n",
    "    - Сбалансированное привлечение новых клиентов\n",
    "\n",
    "2. **Области для улучшения**:\n",
    "\n",
    "    - Потенциал увеличения стики-фактора до 60-65%\n",
    "\n",
    "    - Необходимость анализа причин ухода ~43% клиентов\n",
    "\n",
    "3. **Рекомендации**:\n",
    "\n",
    "    - Внедрить программу лояльности для повышения удержания\n",
    "\n",
    "    - Провести анализ поведения ушедших клиентов\n",
    "\n",
    "    - Разработать стратегию работы с клиентами первого квартала покупок"
   ]
  },
  {
   "cell_type": "markdown",
   "metadata": {},
   "source": [
    "### 3.4. **Создание профилей клиентов с различными метриками**"
   ]
  },
  {
   "cell_type": "code",
   "execution_count": 78,
   "metadata": {},
   "outputs": [],
   "source": [
    "# Создаем профили клиентов\n",
    "customer_profiles = df_final.groupby('customer_id').agg({\n",
    "    'order_id': 'nunique',                    # количество заказов\n",
    "    'entry_date': ['min', 'max'],             # даты первого и последнего заказа\n",
    "    'total_price': ['sum', 'mean'],           # общая сумма и средний чек\n",
    "    'quantity': ['sum', 'mean'],              # общее количество и среднее количество товаров\n",
    "    'entry_id': 'nunique',                    # количество уникальных товаров\n",
    "    'name_clust': 'nunique'                   # количество категорий товаров\n",
    "}).reset_index()"
   ]
  },
  {
   "cell_type": "code",
   "execution_count": 79,
   "metadata": {},
   "outputs": [],
   "source": [
    "# Переименовываем столбцы для удобства\n",
    "customer_profiles.columns = [\n",
    "    'customer_id',\n",
    "    'total_orders',\n",
    "    'first_order_date',\n",
    "    'last_order_date',\n",
    "    'total_revenue',\n",
    "    'avg_order_value',\n",
    "    'total_items',\n",
    "    'avg_items_per_order',\n",
    "    'unique_products',\n",
    "    'unique_categories'\n",
    "]"
   ]
  },
  {
   "cell_type": "code",
   "execution_count": 80,
   "metadata": {},
   "outputs": [],
   "source": [
    "# Добавляем дополнительные метрики\n",
    "customer_profiles['days_between_orders'] = (\n",
    "    customer_profiles['last_order_date'] - \n",
    "    customer_profiles['first_order_date']\n",
    ").dt.days\n",
    "\n",
    "customer_profiles['purchase_frequency'] = customer_profiles['total_orders'] / (\n",
    "    customer_profiles['days_between_orders'] + 1\n",
    ")\n",
    "\n",
    "# Добавляем среднюю стоимость единицы товара\n",
    "customer_profiles['avg_item_price'] = customer_profiles['total_revenue'] / customer_profiles['total_items']"
   ]
  },
  {
   "cell_type": "code",
   "execution_count": 81,
   "metadata": {},
   "outputs": [
    {
     "name": "stdout",
     "output_type": "stream",
     "text": [
      "\n",
      "Примеры профилей клиентов:\n"
     ]
    },
    {
     "data": {
      "text/html": [
       "<style type=\"text/css\">\n",
       "</style>\n",
       "<table id=\"T_e0c35\">\n",
       "  <thead>\n",
       "    <tr>\n",
       "      <th class=\"blank level0\" >&nbsp;</th>\n",
       "      <th id=\"T_e0c35_level0_col0\" class=\"col_heading level0 col0\" >customer_id</th>\n",
       "      <th id=\"T_e0c35_level0_col1\" class=\"col_heading level0 col1\" >total_orders</th>\n",
       "      <th id=\"T_e0c35_level0_col2\" class=\"col_heading level0 col2\" >first_order_date</th>\n",
       "      <th id=\"T_e0c35_level0_col3\" class=\"col_heading level0 col3\" >last_order_date</th>\n",
       "      <th id=\"T_e0c35_level0_col4\" class=\"col_heading level0 col4\" >total_revenue</th>\n",
       "      <th id=\"T_e0c35_level0_col5\" class=\"col_heading level0 col5\" >avg_order_value</th>\n",
       "      <th id=\"T_e0c35_level0_col6\" class=\"col_heading level0 col6\" >total_items</th>\n",
       "      <th id=\"T_e0c35_level0_col7\" class=\"col_heading level0 col7\" >avg_items_per_order</th>\n",
       "      <th id=\"T_e0c35_level0_col8\" class=\"col_heading level0 col8\" >unique_products</th>\n",
       "      <th id=\"T_e0c35_level0_col9\" class=\"col_heading level0 col9\" >unique_categories</th>\n",
       "      <th id=\"T_e0c35_level0_col10\" class=\"col_heading level0 col10\" >days_between_orders</th>\n",
       "      <th id=\"T_e0c35_level0_col11\" class=\"col_heading level0 col11\" >purchase_frequency</th>\n",
       "      <th id=\"T_e0c35_level0_col12\" class=\"col_heading level0 col12\" >avg_item_price</th>\n",
       "    </tr>\n",
       "  </thead>\n",
       "  <tbody>\n",
       "    <tr>\n",
       "      <th id=\"T_e0c35_level0_row0\" class=\"row_heading level0 row0\" >0</th>\n",
       "      <td id=\"T_e0c35_row0_col0\" class=\"data row0 col0\" >-1</td>\n",
       "      <td id=\"T_e0c35_row0_col1\" class=\"data row0 col1\" >914</td>\n",
       "      <td id=\"T_e0c35_row0_col2\" class=\"data row0 col2\" >2019-01-02 10:56:00</td>\n",
       "      <td id=\"T_e0c35_row0_col3\" class=\"data row0 col3\" >2019-09-29 15:13:00</td>\n",
       "      <td id=\"T_e0c35_row0_col4\" class=\"data row0 col4\" >74,041,068₽</td>\n",
       "      <td id=\"T_e0c35_row0_col5\" class=\"data row0 col5\" >1,262₽</td>\n",
       "      <td id=\"T_e0c35_row0_col6\" class=\"data row0 col6\" >178382</td>\n",
       "      <td id=\"T_e0c35_row0_col7\" class=\"data row0 col7\" >3.0</td>\n",
       "      <td id=\"T_e0c35_row0_col8\" class=\"data row0 col8\" >2247</td>\n",
       "      <td id=\"T_e0c35_row0_col9\" class=\"data row0 col9\" >859</td>\n",
       "      <td id=\"T_e0c35_row0_col10\" class=\"data row0 col10\" >270</td>\n",
       "      <td id=\"T_e0c35_row0_col11\" class=\"data row0 col11\" >3.373</td>\n",
       "      <td id=\"T_e0c35_row0_col12\" class=\"data row0 col12\" >415₽</td>\n",
       "    </tr>\n",
       "    <tr>\n",
       "      <th id=\"T_e0c35_level0_row1\" class=\"row_heading level0 row1\" >1</th>\n",
       "      <td id=\"T_e0c35_row1_col0\" class=\"data row1 col0\" >1713</td>\n",
       "      <td id=\"T_e0c35_row1_col1\" class=\"data row1 col1\" >1</td>\n",
       "      <td id=\"T_e0c35_row1_col2\" class=\"data row1 col2\" >2019-05-22 10:39:00</td>\n",
       "      <td id=\"T_e0c35_row1_col3\" class=\"data row1 col3\" >2019-05-22 10:39:00</td>\n",
       "      <td id=\"T_e0c35_row1_col4\" class=\"data row1 col4\" >55,918₽</td>\n",
       "      <td id=\"T_e0c35_row1_col5\" class=\"data row1 col5\" >2,330₽</td>\n",
       "      <td id=\"T_e0c35_row1_col6\" class=\"data row1 col6\" >350</td>\n",
       "      <td id=\"T_e0c35_row1_col7\" class=\"data row1 col7\" >14.6</td>\n",
       "      <td id=\"T_e0c35_row1_col8\" class=\"data row1 col8\" >23</td>\n",
       "      <td id=\"T_e0c35_row1_col9\" class=\"data row1 col9\" >18</td>\n",
       "      <td id=\"T_e0c35_row1_col10\" class=\"data row1 col10\" >0</td>\n",
       "      <td id=\"T_e0c35_row1_col11\" class=\"data row1 col11\" >1.000</td>\n",
       "      <td id=\"T_e0c35_row1_col12\" class=\"data row1 col12\" >160₽</td>\n",
       "    </tr>\n",
       "    <tr>\n",
       "      <th id=\"T_e0c35_level0_row2\" class=\"row_heading level0 row2\" >2</th>\n",
       "      <td id=\"T_e0c35_row2_col0\" class=\"data row2 col0\" >1717</td>\n",
       "      <td id=\"T_e0c35_row2_col1\" class=\"data row2 col1\" >10</td>\n",
       "      <td id=\"T_e0c35_row2_col2\" class=\"data row2 col2\" >2019-01-23 14:58:00</td>\n",
       "      <td id=\"T_e0c35_row2_col3\" class=\"data row2 col3\" >2019-07-14 13:00:00</td>\n",
       "      <td id=\"T_e0c35_row2_col4\" class=\"data row2 col4\" >97,861₽</td>\n",
       "      <td id=\"T_e0c35_row2_col5\" class=\"data row2 col5\" >260₽</td>\n",
       "      <td id=\"T_e0c35_row2_col6\" class=\"data row2 col6\" >692</td>\n",
       "      <td id=\"T_e0c35_row2_col7\" class=\"data row2 col7\" >1.8</td>\n",
       "      <td id=\"T_e0c35_row2_col8\" class=\"data row2 col8\" >163</td>\n",
       "      <td id=\"T_e0c35_row2_col9\" class=\"data row2 col9\" >108</td>\n",
       "      <td id=\"T_e0c35_row2_col10\" class=\"data row2 col10\" >171</td>\n",
       "      <td id=\"T_e0c35_row2_col11\" class=\"data row2 col11\" >0.058</td>\n",
       "      <td id=\"T_e0c35_row2_col12\" class=\"data row2 col12\" >141₽</td>\n",
       "    </tr>\n",
       "    <tr>\n",
       "      <th id=\"T_e0c35_level0_row3\" class=\"row_heading level0 row3\" >3</th>\n",
       "      <td id=\"T_e0c35_row3_col0\" class=\"data row3 col0\" >1718</td>\n",
       "      <td id=\"T_e0c35_row3_col1\" class=\"data row3 col1\" >2</td>\n",
       "      <td id=\"T_e0c35_row3_col2\" class=\"data row3 col2\" >2019-02-12 11:43:00</td>\n",
       "      <td id=\"T_e0c35_row3_col3\" class=\"data row3 col3\" >2019-05-08 13:35:00</td>\n",
       "      <td id=\"T_e0c35_row3_col4\" class=\"data row3 col4\" >11,886₽</td>\n",
       "      <td id=\"T_e0c35_row3_col5\" class=\"data row3 col5\" >1,486₽</td>\n",
       "      <td id=\"T_e0c35_row3_col6\" class=\"data row3 col6\" >78</td>\n",
       "      <td id=\"T_e0c35_row3_col7\" class=\"data row3 col7\" >9.8</td>\n",
       "      <td id=\"T_e0c35_row3_col8\" class=\"data row3 col8\" >8</td>\n",
       "      <td id=\"T_e0c35_row3_col9\" class=\"data row3 col9\" >8</td>\n",
       "      <td id=\"T_e0c35_row3_col10\" class=\"data row3 col10\" >85</td>\n",
       "      <td id=\"T_e0c35_row3_col11\" class=\"data row3 col11\" >0.023</td>\n",
       "      <td id=\"T_e0c35_row3_col12\" class=\"data row3 col12\" >152₽</td>\n",
       "    </tr>\n",
       "    <tr>\n",
       "      <th id=\"T_e0c35_level0_row4\" class=\"row_heading level0 row4\" >4</th>\n",
       "      <td id=\"T_e0c35_row4_col0\" class=\"data row4 col0\" >1720</td>\n",
       "      <td id=\"T_e0c35_row4_col1\" class=\"data row4 col1\" >1</td>\n",
       "      <td id=\"T_e0c35_row4_col2\" class=\"data row4 col2\" >2019-07-03 09:52:00</td>\n",
       "      <td id=\"T_e0c35_row4_col3\" class=\"data row4 col3\" >2019-07-03 09:52:00</td>\n",
       "      <td id=\"T_e0c35_row4_col4\" class=\"data row4 col4\" >13,290₽</td>\n",
       "      <td id=\"T_e0c35_row4_col5\" class=\"data row4 col5\" >1,899₽</td>\n",
       "      <td id=\"T_e0c35_row4_col6\" class=\"data row4 col6\" >35</td>\n",
       "      <td id=\"T_e0c35_row4_col7\" class=\"data row4 col7\" >5.0</td>\n",
       "      <td id=\"T_e0c35_row4_col8\" class=\"data row4 col8\" >7</td>\n",
       "      <td id=\"T_e0c35_row4_col9\" class=\"data row4 col9\" >7</td>\n",
       "      <td id=\"T_e0c35_row4_col10\" class=\"data row4 col10\" >0</td>\n",
       "      <td id=\"T_e0c35_row4_col11\" class=\"data row4 col11\" >1.000</td>\n",
       "      <td id=\"T_e0c35_row4_col12\" class=\"data row4 col12\" >380₽</td>\n",
       "    </tr>\n",
       "  </tbody>\n",
       "</table>\n"
      ],
      "text/plain": [
       "<pandas.io.formats.style.Styler at 0x1565e2ff0>"
      ]
     },
     "metadata": {},
     "output_type": "display_data"
    }
   ],
   "source": [
    "# Выводим первые несколько профилей с форматированием\n",
    "print(\"\\nПримеры профилей клиентов:\")\n",
    "styled_profiles = customer_profiles.head().style.format({\n",
    "    'total_revenue': '{:,.0f}₽',\n",
    "    'avg_order_value': '{:,.0f}₽',\n",
    "    'avg_items_per_order': '{:.1f}',\n",
    "    'purchase_frequency': '{:.3f}',\n",
    "    'avg_item_price': '{:,.0f}₽'\n",
    "})\n",
    "display(styled_profiles)"
   ]
  },
  {
   "cell_type": "code",
   "execution_count": 82,
   "metadata": {},
   "outputs": [
    {
     "name": "stdout",
     "output_type": "stream",
     "text": [
      "\n",
      "Общая статистика по клиентским профилям:\n"
     ]
    },
    {
     "data": {
      "text/html": [
       "<style type=\"text/css\">\n",
       "</style>\n",
       "<table id=\"T_3ced3\">\n",
       "  <thead>\n",
       "    <tr>\n",
       "      <th class=\"blank level0\" >&nbsp;</th>\n",
       "      <th id=\"T_3ced3_level0_col0\" class=\"col_heading level0 col0\" >customer_id</th>\n",
       "      <th id=\"T_3ced3_level0_col1\" class=\"col_heading level0 col1\" >total_orders</th>\n",
       "      <th id=\"T_3ced3_level0_col2\" class=\"col_heading level0 col2\" >first_order_date</th>\n",
       "      <th id=\"T_3ced3_level0_col3\" class=\"col_heading level0 col3\" >last_order_date</th>\n",
       "      <th id=\"T_3ced3_level0_col4\" class=\"col_heading level0 col4\" >total_revenue</th>\n",
       "      <th id=\"T_3ced3_level0_col5\" class=\"col_heading level0 col5\" >avg_order_value</th>\n",
       "      <th id=\"T_3ced3_level0_col6\" class=\"col_heading level0 col6\" >total_items</th>\n",
       "      <th id=\"T_3ced3_level0_col7\" class=\"col_heading level0 col7\" >avg_items_per_order</th>\n",
       "      <th id=\"T_3ced3_level0_col8\" class=\"col_heading level0 col8\" >unique_products</th>\n",
       "      <th id=\"T_3ced3_level0_col9\" class=\"col_heading level0 col9\" >unique_categories</th>\n",
       "      <th id=\"T_3ced3_level0_col10\" class=\"col_heading level0 col10\" >days_between_orders</th>\n",
       "      <th id=\"T_3ced3_level0_col11\" class=\"col_heading level0 col11\" >purchase_frequency</th>\n",
       "      <th id=\"T_3ced3_level0_col12\" class=\"col_heading level0 col12\" >avg_item_price</th>\n",
       "    </tr>\n",
       "  </thead>\n",
       "  <tbody>\n",
       "    <tr>\n",
       "      <th id=\"T_3ced3_level0_row0\" class=\"row_heading level0 row0\" >count</th>\n",
       "      <td id=\"T_3ced3_row0_col0\" class=\"data row0 col0\" >3554.000000</td>\n",
       "      <td id=\"T_3ced3_row0_col1\" class=\"data row0 col1\" >3554.000000</td>\n",
       "      <td id=\"T_3ced3_row0_col2\" class=\"data row0 col2\" >3554</td>\n",
       "      <td id=\"T_3ced3_row0_col3\" class=\"data row0 col3\" >3554</td>\n",
       "      <td id=\"T_3ced3_row0_col4\" class=\"data row0 col4\" >3,554₽</td>\n",
       "      <td id=\"T_3ced3_row0_col5\" class=\"data row0 col5\" >3,554₽</td>\n",
       "      <td id=\"T_3ced3_row0_col6\" class=\"data row0 col6\" >3554.000000</td>\n",
       "      <td id=\"T_3ced3_row0_col7\" class=\"data row0 col7\" >3554.0</td>\n",
       "      <td id=\"T_3ced3_row0_col8\" class=\"data row0 col8\" >3554.000000</td>\n",
       "      <td id=\"T_3ced3_row0_col9\" class=\"data row0 col9\" >3554.000000</td>\n",
       "      <td id=\"T_3ced3_row0_col10\" class=\"data row0 col10\" >3554.000000</td>\n",
       "      <td id=\"T_3ced3_row0_col11\" class=\"data row0 col11\" >3554.000</td>\n",
       "      <td id=\"T_3ced3_row0_col12\" class=\"data row0 col12\" >3,554₽</td>\n",
       "    </tr>\n",
       "    <tr>\n",
       "      <th id=\"T_3ced3_level0_row1\" class=\"row_heading level0 row1\" >mean</th>\n",
       "      <td id=\"T_3ced3_row1_col0\" class=\"data row1 col0\" >4716.256050</td>\n",
       "      <td id=\"T_3ced3_row1_col1\" class=\"data row1 col1\" >3.608610</td>\n",
       "      <td id=\"T_3ced3_row1_col2\" class=\"data row1 col2\" >2019-04-12 18:00:31.924591872</td>\n",
       "      <td id=\"T_3ced3_row1_col3\" class=\"data row1 col3\" >2019-07-05 22:34:49.212155392</td>\n",
       "      <td id=\"T_3ced3_row1_col4\" class=\"data row1 col4\" >131,449₽</td>\n",
       "      <td id=\"T_3ced3_row1_col5\" class=\"data row1 col5\" >4,672₽</td>\n",
       "      <td id=\"T_3ced3_row1_col6\" class=\"data row1 col6\" >723.605796</td>\n",
       "      <td id=\"T_3ced3_row1_col7\" class=\"data row1 col7\" >26.5</td>\n",
       "      <td id=\"T_3ced3_row1_col8\" class=\"data row1 col8\" >36.690490</td>\n",
       "      <td id=\"T_3ced3_row1_col9\" class=\"data row1 col9\" >28.832020</td>\n",
       "      <td id=\"T_3ced3_row1_col10\" class=\"data row1 col10\" >83.904333</td>\n",
       "      <td id=\"T_3ced3_row1_col11\" class=\"data row1 col11\" >0.472</td>\n",
       "      <td id=\"T_3ced3_row1_col12\" class=\"data row1 col12\" >341₽</td>\n",
       "    </tr>\n",
       "    <tr>\n",
       "      <th id=\"T_3ced3_level0_row2\" class=\"row_heading level0 row2\" >min</th>\n",
       "      <td id=\"T_3ced3_row2_col0\" class=\"data row2 col0\" >-1.000000</td>\n",
       "      <td id=\"T_3ced3_row2_col1\" class=\"data row2 col1\" >1.000000</td>\n",
       "      <td id=\"T_3ced3_row2_col2\" class=\"data row2 col2\" >2019-01-02 08:23:00</td>\n",
       "      <td id=\"T_3ced3_row2_col3\" class=\"data row2 col3\" >2019-01-02 09:01:00</td>\n",
       "      <td id=\"T_3ced3_row2_col4\" class=\"data row2 col4\" >125₽</td>\n",
       "      <td id=\"T_3ced3_row2_col5\" class=\"data row2 col5\" >91₽</td>\n",
       "      <td id=\"T_3ced3_row2_col6\" class=\"data row2 col6\" >1.000000</td>\n",
       "      <td id=\"T_3ced3_row2_col7\" class=\"data row2 col7\" >1.0</td>\n",
       "      <td id=\"T_3ced3_row2_col8\" class=\"data row2 col8\" >1.000000</td>\n",
       "      <td id=\"T_3ced3_row2_col9\" class=\"data row2 col9\" >1.000000</td>\n",
       "      <td id=\"T_3ced3_row2_col10\" class=\"data row2 col10\" >0.000000</td>\n",
       "      <td id=\"T_3ced3_row2_col11\" class=\"data row2 col11\" >0.008</td>\n",
       "      <td id=\"T_3ced3_row2_col12\" class=\"data row2 col12\" >9₽</td>\n",
       "    </tr>\n",
       "    <tr>\n",
       "      <th id=\"T_3ced3_level0_row3\" class=\"row_heading level0 row3\" >25%</th>\n",
       "      <td id=\"T_3ced3_row3_col0\" class=\"data row3 col0\" >3237.250000</td>\n",
       "      <td id=\"T_3ced3_row3_col1\" class=\"data row3 col1\" >1.000000</td>\n",
       "      <td id=\"T_3ced3_row3_col2\" class=\"data row3 col2\" >2019-02-03 08:29:45</td>\n",
       "      <td id=\"T_3ced3_row3_col3\" class=\"data row3 col3\" >2019-05-16 15:05:45</td>\n",
       "      <td id=\"T_3ced3_row3_col4\" class=\"data row3 col4\" >18,278₽</td>\n",
       "      <td id=\"T_3ced3_row3_col5\" class=\"data row3 col5\" >1,190₽</td>\n",
       "      <td id=\"T_3ced3_row3_col6\" class=\"data row3 col6\" >94.000000</td>\n",
       "      <td id=\"T_3ced3_row3_col7\" class=\"data row3 col7\" >5.7</td>\n",
       "      <td id=\"T_3ced3_row3_col8\" class=\"data row3 col8\" >10.000000</td>\n",
       "      <td id=\"T_3ced3_row3_col9\" class=\"data row3 col9\" >9.000000</td>\n",
       "      <td id=\"T_3ced3_row3_col10\" class=\"data row3 col10\" >0.000000</td>\n",
       "      <td id=\"T_3ced3_row3_col11\" class=\"data row3 col11\" >0.027</td>\n",
       "      <td id=\"T_3ced3_row3_col12\" class=\"data row3 col12\" >134₽</td>\n",
       "    </tr>\n",
       "    <tr>\n",
       "      <th id=\"T_3ced3_level0_row4\" class=\"row_heading level0 row4\" >50%</th>\n",
       "      <td id=\"T_3ced3_row4_col0\" class=\"data row4 col0\" >4735.500000</td>\n",
       "      <td id=\"T_3ced3_row4_col1\" class=\"data row4 col1\" >2.000000</td>\n",
       "      <td id=\"T_3ced3_row4_col2\" class=\"data row4 col2\" >2019-03-27 14:15:00</td>\n",
       "      <td id=\"T_3ced3_row4_col3\" class=\"data row4 col3\" >2019-07-26 14:41:30</td>\n",
       "      <td id=\"T_3ced3_row4_col4\" class=\"data row4 col4\" >39,894₽</td>\n",
       "      <td id=\"T_3ced3_row4_col5\" class=\"data row4 col5\" >1,728₽</td>\n",
       "      <td id=\"T_3ced3_row4_col6\" class=\"data row4 col6\" >229.000000</td>\n",
       "      <td id=\"T_3ced3_row4_col7\" class=\"data row4 col7\" >10.0</td>\n",
       "      <td id=\"T_3ced3_row4_col8\" class=\"data row4 col8\" >22.000000</td>\n",
       "      <td id=\"T_3ced3_row4_col9\" class=\"data row4 col9\" >18.500000</td>\n",
       "      <td id=\"T_3ced3_row4_col10\" class=\"data row4 col10\" >47.000000</td>\n",
       "      <td id=\"T_3ced3_row4_col11\" class=\"data row4 col11\" >0.068</td>\n",
       "      <td id=\"T_3ced3_row4_col12\" class=\"data row4 col12\" >177₽</td>\n",
       "    </tr>\n",
       "    <tr>\n",
       "      <th id=\"T_3ced3_level0_row5\" class=\"row_heading level0 row5\" >75%</th>\n",
       "      <td id=\"T_3ced3_row5_col0\" class=\"data row5 col0\" >6209.750000</td>\n",
       "      <td id=\"T_3ced3_row5_col1\" class=\"data row5 col1\" >4.000000</td>\n",
       "      <td id=\"T_3ced3_row5_col2\" class=\"data row5 col2\" >2019-06-11 12:05:00</td>\n",
       "      <td id=\"T_3ced3_row5_col3\" class=\"data row5 col3\" >2019-09-11 11:22:45</td>\n",
       "      <td id=\"T_3ced3_row5_col4\" class=\"data row5 col4\" >91,669₽</td>\n",
       "      <td id=\"T_3ced3_row5_col5\" class=\"data row5 col5\" >2,373₽</td>\n",
       "      <td id=\"T_3ced3_row5_col6\" class=\"data row5 col6\" >559.750000</td>\n",
       "      <td id=\"T_3ced3_row5_col7\" class=\"data row5 col7\" >14.7</td>\n",
       "      <td id=\"T_3ced3_row5_col8\" class=\"data row5 col8\" >45.000000</td>\n",
       "      <td id=\"T_3ced3_row5_col9\" class=\"data row5 col9\" >37.000000</td>\n",
       "      <td id=\"T_3ced3_row5_col10\" class=\"data row5 col10\" >168.000000</td>\n",
       "      <td id=\"T_3ced3_row5_col11\" class=\"data row5 col11\" >1.000</td>\n",
       "      <td id=\"T_3ced3_row5_col12\" class=\"data row5 col12\" >235₽</td>\n",
       "    </tr>\n",
       "    <tr>\n",
       "      <th id=\"T_3ced3_level0_row6\" class=\"row_heading level0 row6\" >max</th>\n",
       "      <td id=\"T_3ced3_row6_col0\" class=\"data row6 col0\" >7653.000000</td>\n",
       "      <td id=\"T_3ced3_row6_col1\" class=\"data row6 col1\" >914.000000</td>\n",
       "      <td id=\"T_3ced3_row6_col2\" class=\"data row6 col2\" >2019-09-29 18:51:00</td>\n",
       "      <td id=\"T_3ced3_row6_col3\" class=\"data row6 col3\" >2019-09-29 19:30:00</td>\n",
       "      <td id=\"T_3ced3_row6_col4\" class=\"data row6 col4\" >74,041,068₽</td>\n",
       "      <td id=\"T_3ced3_row6_col5\" class=\"data row6 col5\" >5,615,750₽</td>\n",
       "      <td id=\"T_3ced3_row6_col6\" class=\"data row6 col6\" >178382.000000</td>\n",
       "      <td id=\"T_3ced3_row6_col7\" class=\"data row6 col7\" >26999.0</td>\n",
       "      <td id=\"T_3ced3_row6_col8\" class=\"data row6 col8\" >2247.000000</td>\n",
       "      <td id=\"T_3ced3_row6_col9\" class=\"data row6 col9\" >859.000000</td>\n",
       "      <td id=\"T_3ced3_row6_col10\" class=\"data row6 col10\" >270.000000</td>\n",
       "      <td id=\"T_3ced3_row6_col11\" class=\"data row6 col11\" >6.000</td>\n",
       "      <td id=\"T_3ced3_row6_col12\" class=\"data row6 col12\" >203,310₽</td>\n",
       "    </tr>\n",
       "    <tr>\n",
       "      <th id=\"T_3ced3_level0_row7\" class=\"row_heading level0 row7\" >std</th>\n",
       "      <td id=\"T_3ced3_row7_col0\" class=\"data row7 col0\" >1715.076167</td>\n",
       "      <td id=\"T_3ced3_row7_col1\" class=\"data row7 col1\" >16.078461</td>\n",
       "      <td id=\"T_3ced3_row7_col2\" class=\"data row7 col2\" >nan</td>\n",
       "      <td id=\"T_3ced3_row7_col3\" class=\"data row7 col3\" >nan</td>\n",
       "      <td id=\"T_3ced3_row7_col4\" class=\"data row7 col4\" >1,340,246₽</td>\n",
       "      <td id=\"T_3ced3_row7_col5\" class=\"data row7 col5\" >94,604₽</td>\n",
       "      <td id=\"T_3ced3_row7_col6\" class=\"data row7 col6\" >4157.644596</td>\n",
       "      <td id=\"T_3ced3_row7_col7\" class=\"data row7 col7\" >457.6</td>\n",
       "      <td id=\"T_3ced3_row7_col8\" class=\"data row7 col8\" >60.409717</td>\n",
       "      <td id=\"T_3ced3_row7_col9\" class=\"data row7 col9\" >35.551854</td>\n",
       "      <td id=\"T_3ced3_row7_col10\" class=\"data row7 col10\" >91.525181</td>\n",
       "      <td id=\"T_3ced3_row7_col11\" class=\"data row7 col11\" >0.527</td>\n",
       "      <td id=\"T_3ced3_row7_col12\" class=\"data row7 col12\" >3,938₽</td>\n",
       "    </tr>\n",
       "  </tbody>\n",
       "</table>\n"
      ],
      "text/plain": [
       "<pandas.io.formats.style.Styler at 0x1566652b0>"
      ]
     },
     "metadata": {},
     "output_type": "display_data"
    }
   ],
   "source": [
    "# Выводим общую статистику по профилям\n",
    "print(\"\\nОбщая статистика по клиентским профилям:\")\n",
    "stats = customer_profiles.describe()\n",
    "styled_stats = stats.style.format({\n",
    "    'total_revenue': '{:,.0f}₽',\n",
    "    'avg_order_value': '{:,.0f}₽',\n",
    "    'avg_items_per_order': '{:.1f}',\n",
    "    'purchase_frequency': '{:.3f}',\n",
    "    'avg_item_price': '{:,.0f}₽'\n",
    "})\n",
    "display(styled_stats)"
   ]
  },
  {
   "cell_type": "code",
   "execution_count": 83,
   "metadata": {},
   "outputs": [
    {
     "data": {
      "application/vnd.plotly.v1+json": {
       "config": {
        "plotlyServerURL": "https://plot.ly"
       },
       "data": [
        {
         "name": "Количество заказов",
         "type": "histogram",
         "x": [
          914,
          1,
          10,
          2,
          1,
          1,
          1,
          3,
          4,
          2,
          2,
          2,
          1,
          1,
          5,
          1,
          7,
          1,
          1,
          1,
          2,
          1,
          4,
          3,
          13,
          4,
          4,
          5,
          2,
          1,
          4,
          5,
          4,
          14,
          1,
          1,
          8,
          8,
          1,
          10,
          1,
          3,
          1,
          7,
          1,
          1,
          1,
          1,
          3,
          2,
          2,
          3,
          1,
          3,
          1,
          16,
          2,
          1,
          1,
          1,
          1,
          2,
          2,
          2,
          1,
          1,
          4,
          4,
          3,
          5,
          1,
          3,
          13,
          3,
          3,
          3,
          2,
          1,
          1,
          4,
          1,
          3,
          1,
          2,
          3,
          1,
          1,
          2,
          3,
          8,
          2,
          2,
          1,
          2,
          4,
          1,
          3,
          1,
          3,
          1,
          1,
          15,
          5,
          1,
          1,
          18,
          1,
          1,
          1,
          1,
          49,
          1,
          1,
          5,
          1,
          1,
          7,
          2,
          7,
          1,
          1,
          1,
          3,
          2,
          2,
          6,
          7,
          12,
          1,
          1,
          2,
          1,
          1,
          11,
          2,
          3,
          6,
          1,
          1,
          6,
          1,
          9,
          1,
          14,
          1,
          3,
          3,
          1,
          1,
          1,
          1,
          1,
          1,
          2,
          3,
          4,
          1,
          2,
          1,
          1,
          4,
          1,
          1,
          1,
          7,
          1,
          2,
          2,
          1,
          3,
          1,
          1,
          2,
          4,
          10,
          1,
          1,
          3,
          9,
          1,
          1,
          29,
          1,
          1,
          1,
          1,
          3,
          10,
          1,
          26,
          1,
          2,
          1,
          1,
          8,
          1,
          5,
          1,
          2,
          1,
          2,
          5,
          3,
          1,
          2,
          1,
          1,
          4,
          11,
          1,
          1,
          1,
          1,
          2,
          2,
          1,
          2,
          1,
          4,
          1,
          1,
          1,
          1,
          1,
          4,
          1,
          3,
          2,
          3,
          1,
          1,
          1,
          5,
          4,
          1,
          9,
          3,
          6,
          1,
          14,
          1,
          4,
          1,
          6,
          1,
          7,
          17,
          4,
          2,
          3,
          7,
          1,
          1,
          87,
          1,
          5,
          1,
          1,
          3,
          1,
          3,
          1,
          4,
          3,
          3,
          3,
          1,
          27,
          3,
          1,
          1,
          7,
          7,
          2,
          2,
          5,
          1,
          2,
          2,
          2,
          2,
          2,
          2,
          1,
          1,
          4,
          1,
          4,
          5,
          3,
          3,
          1,
          2,
          4,
          18,
          5,
          8,
          2,
          1,
          1,
          4,
          4,
          3,
          1,
          18,
          2,
          2,
          4,
          10,
          3,
          8,
          3,
          6,
          3,
          2,
          14,
          1,
          8,
          1,
          1,
          1,
          2,
          2,
          10,
          8,
          2,
          3,
          4,
          1,
          2,
          1,
          1,
          6,
          2,
          1,
          1,
          3,
          10,
          5,
          3,
          4,
          1,
          1,
          17,
          3,
          22,
          1,
          6,
          1,
          1,
          1,
          6,
          2,
          3,
          2,
          6,
          1,
          7,
          4,
          4,
          1,
          3,
          9,
          6,
          1,
          3,
          1,
          2,
          10,
          1,
          1,
          1,
          2,
          7,
          3,
          3,
          2,
          5,
          1,
          2,
          1,
          1,
          1,
          1,
          2,
          3,
          10,
          5,
          12,
          2,
          2,
          2,
          1,
          4,
          1,
          4,
          1,
          2,
          4,
          6,
          1,
          2,
          3,
          4,
          2,
          1,
          19,
          1,
          3,
          1,
          14,
          2,
          3,
          3,
          6,
          1,
          1,
          4,
          4,
          1,
          1,
          1,
          3,
          1,
          1,
          2,
          1,
          1,
          1,
          1,
          1,
          1,
          7,
          4,
          3,
          2,
          5,
          2,
          4,
          1,
          3,
          4,
          1,
          1,
          6,
          24,
          6,
          1,
          2,
          1,
          2,
          9,
          2,
          2,
          1,
          1,
          2,
          1,
          8,
          7,
          1,
          3,
          3,
          1,
          1,
          3,
          3,
          4,
          1,
          1,
          3,
          1,
          4,
          5,
          1,
          3,
          1,
          3,
          21,
          4,
          1,
          2,
          5,
          3,
          1,
          2,
          3,
          1,
          1,
          1,
          3,
          17,
          1,
          6,
          1,
          4,
          1,
          8,
          1,
          6,
          1,
          1,
          3,
          2,
          3,
          2,
          1,
          2,
          7,
          1,
          9,
          3,
          3,
          6,
          1,
          1,
          1,
          27,
          3,
          1,
          5,
          1,
          1,
          18,
          8,
          1,
          2,
          2,
          3,
          3,
          4,
          6,
          1,
          4,
          8,
          2,
          1,
          1,
          1,
          1,
          2,
          2,
          2,
          1,
          3,
          1,
          8,
          3,
          2,
          2,
          1,
          5,
          2,
          1,
          1,
          1,
          1,
          1,
          1,
          5,
          1,
          2,
          30,
          5,
          1,
          3,
          2,
          1,
          15,
          4,
          2,
          2,
          1,
          5,
          1,
          1,
          2,
          4,
          4,
          4,
          3,
          2,
          1,
          2,
          2,
          1,
          3,
          1,
          1,
          2,
          1,
          2,
          1,
          1,
          1,
          2,
          1,
          16,
          1,
          1,
          11,
          3,
          1,
          1,
          7,
          2,
          2,
          4,
          2,
          1,
          1,
          1,
          2,
          9,
          1,
          4,
          1,
          4,
          3,
          1,
          2,
          3,
          3,
          4,
          3,
          1,
          1,
          4,
          1,
          3,
          1,
          2,
          1,
          2,
          1,
          3,
          1,
          1,
          1,
          2,
          1,
          3,
          1,
          7,
          5,
          2,
          2,
          2,
          1,
          1,
          3,
          3,
          2,
          2,
          1,
          1,
          10,
          1,
          3,
          2,
          5,
          3,
          1,
          1,
          1,
          1,
          1,
          1,
          1,
          1,
          2,
          8,
          1,
          4,
          5,
          2,
          1,
          6,
          2,
          2,
          1,
          3,
          7,
          3,
          2,
          4,
          3,
          2,
          3,
          2,
          1,
          1,
          1,
          1,
          3,
          2,
          6,
          1,
          4,
          15,
          1,
          4,
          1,
          11,
          1,
          3,
          3,
          4,
          1,
          1,
          6,
          7,
          2,
          3,
          1,
          2,
          3,
          4,
          1,
          1,
          1,
          1,
          2,
          2,
          2,
          1,
          1,
          2,
          5,
          1,
          2,
          1,
          2,
          1,
          10,
          2,
          3,
          1,
          3,
          3,
          1,
          3,
          8,
          1,
          4,
          3,
          3,
          4,
          4,
          1,
          4,
          1,
          4,
          1,
          3,
          2,
          3,
          1,
          1,
          1,
          2,
          2,
          1,
          5,
          1,
          1,
          1,
          2,
          1,
          2,
          2,
          5,
          1,
          2,
          2,
          1,
          5,
          3,
          1,
          14,
          2,
          8,
          2,
          3,
          2,
          15,
          2,
          4,
          14,
          1,
          2,
          13,
          1,
          8,
          4,
          1,
          3,
          1,
          1,
          10,
          6,
          1,
          3,
          4,
          3,
          11,
          1,
          1,
          3,
          1,
          2,
          1,
          2,
          4,
          2,
          1,
          2,
          1,
          3,
          1,
          6,
          1,
          1,
          5,
          5,
          3,
          4,
          2,
          2,
          1,
          1,
          2,
          1,
          1,
          1,
          14,
          2,
          5,
          27,
          2,
          9,
          1,
          1,
          1,
          3,
          2,
          1,
          1,
          2,
          2,
          1,
          1,
          1,
          10,
          5,
          3,
          16,
          9,
          1,
          1,
          4,
          1,
          3,
          4,
          1,
          1,
          1,
          3,
          4,
          2,
          2,
          4,
          1,
          2,
          9,
          2,
          15,
          1,
          2,
          8,
          4,
          5,
          2,
          1,
          2,
          9,
          1,
          9,
          1,
          1,
          1,
          3,
          1,
          1,
          1,
          3,
          1,
          3,
          4,
          2,
          14,
          14,
          5,
          3,
          1,
          1,
          5,
          1,
          1,
          2,
          16,
          3,
          3,
          3,
          2,
          9,
          1,
          5,
          4,
          1,
          2,
          10,
          6,
          2,
          5,
          5,
          3,
          9,
          7,
          9,
          2,
          3,
          2,
          2,
          2,
          2,
          1,
          5,
          2,
          17,
          4,
          5,
          9,
          3,
          1,
          17,
          2,
          7,
          2,
          4,
          2,
          2,
          1,
          2,
          9,
          4,
          2,
          1,
          3,
          1,
          2,
          1,
          1,
          2,
          1,
          3,
          7,
          3,
          1,
          3,
          2,
          4,
          1,
          13,
          2,
          1,
          3,
          2,
          1,
          5,
          1,
          1,
          3,
          1,
          1,
          5,
          10,
          2,
          1,
          4,
          1,
          1,
          1,
          1,
          1,
          11,
          1,
          3,
          1,
          1,
          2,
          1,
          1,
          2,
          2,
          2,
          6,
          1,
          2,
          3,
          1,
          13,
          1,
          6,
          2,
          1,
          7,
          3,
          4,
          3,
          1,
          1,
          2,
          1,
          1,
          1,
          5,
          1,
          1,
          1,
          1,
          20,
          15,
          2,
          2,
          1,
          1,
          3,
          2,
          2,
          1,
          1,
          3,
          4,
          2,
          4,
          3,
          3,
          1,
          4,
          3,
          1,
          2,
          1,
          1,
          1,
          4,
          2,
          3,
          3,
          2,
          3,
          1,
          5,
          2,
          1,
          1,
          2,
          13,
          1,
          4,
          4,
          1,
          1,
          1,
          2,
          1,
          1,
          2,
          1,
          3,
          2,
          2,
          3,
          3,
          5,
          1,
          2,
          1,
          2,
          8,
          1,
          37,
          6,
          2,
          1,
          3,
          8,
          1,
          1,
          1,
          9,
          1,
          1,
          2,
          4,
          4,
          8,
          1,
          3,
          1,
          1,
          1,
          1,
          2,
          1,
          3,
          3,
          1,
          1,
          2,
          1,
          3,
          2,
          1,
          1,
          4,
          1,
          4,
          1,
          4,
          4,
          4,
          2,
          3,
          2,
          8,
          1,
          2,
          1,
          7,
          1,
          4,
          2,
          1,
          1,
          1,
          1,
          22,
          4,
          2,
          4,
          12,
          2,
          2,
          1,
          2,
          5,
          1,
          1,
          1,
          2,
          5,
          1,
          1,
          2,
          4,
          3,
          1,
          1,
          1,
          1,
          1,
          1,
          5,
          1,
          1,
          3,
          1,
          1,
          2,
          1,
          1,
          1,
          1,
          2,
          2,
          7,
          5,
          3,
          4,
          1,
          1,
          6,
          2,
          1,
          4,
          1,
          1,
          1,
          1,
          6,
          8,
          1,
          1,
          1,
          3,
          2,
          3,
          2,
          1,
          1,
          3,
          4,
          3,
          1,
          2,
          4,
          2,
          1,
          1,
          3,
          1,
          1,
          7,
          2,
          1,
          3,
          4,
          2,
          2,
          2,
          1,
          1,
          6,
          1,
          2,
          14,
          5,
          1,
          4,
          1,
          4,
          1,
          8,
          1,
          4,
          2,
          4,
          4,
          5,
          2,
          14,
          1,
          1,
          11,
          2,
          1,
          1,
          6,
          3,
          1,
          2,
          2,
          1,
          1,
          2,
          8,
          1,
          3,
          1,
          1,
          2,
          2,
          1,
          23,
          4,
          4,
          3,
          1,
          1,
          1,
          2,
          1,
          4,
          1,
          1,
          3,
          2,
          2,
          1,
          3,
          1,
          1,
          1,
          5,
          2,
          2,
          6,
          1,
          1,
          1,
          3,
          2,
          3,
          3,
          1,
          1,
          3,
          1,
          1,
          6,
          1,
          1,
          3,
          1,
          1,
          5,
          4,
          1,
          1,
          2,
          1,
          1,
          3,
          3,
          1,
          1,
          3,
          3,
          2,
          2,
          2,
          16,
          2,
          1,
          42,
          5,
          2,
          1,
          1,
          6,
          6,
          1,
          2,
          16,
          3,
          11,
          2,
          2,
          2,
          2,
          1,
          2,
          3,
          4,
          4,
          3,
          1,
          1,
          4,
          1,
          2,
          9,
          6,
          1,
          1,
          2,
          1,
          5,
          7,
          1,
          2,
          1,
          1,
          1,
          3,
          2,
          4,
          2,
          3,
          1,
          1,
          1,
          1,
          1,
          10,
          5,
          1,
          1,
          2,
          6,
          1,
          1,
          1,
          4,
          2,
          1,
          5,
          2,
          7,
          1,
          3,
          5,
          1,
          3,
          2,
          3,
          2,
          1,
          1,
          1,
          1,
          1,
          3,
          2,
          1,
          2,
          1,
          7,
          1,
          2,
          8,
          1,
          4,
          1,
          3,
          3,
          5,
          2,
          17,
          5,
          11,
          2,
          1,
          2,
          7,
          1,
          4,
          1,
          3,
          10,
          1,
          3,
          3,
          1,
          2,
          1,
          2,
          12,
          1,
          1,
          1,
          1,
          1,
          3,
          4,
          1,
          2,
          4,
          3,
          4,
          3,
          2,
          1,
          2,
          12,
          11,
          1,
          1,
          2,
          3,
          3,
          6,
          1,
          1,
          1,
          1,
          1,
          5,
          2,
          1,
          1,
          1,
          1,
          1,
          1,
          21,
          3,
          1,
          5,
          2,
          2,
          2,
          2,
          2,
          4,
          2,
          1,
          5,
          5,
          1,
          1,
          1,
          3,
          1,
          3,
          1,
          12,
          3,
          2,
          1,
          3,
          4,
          2,
          4,
          13,
          1,
          3,
          1,
          1,
          4,
          1,
          5,
          3,
          4,
          1,
          3,
          1,
          4,
          1,
          7,
          2,
          7,
          1,
          2,
          7,
          1,
          3,
          2,
          2,
          3,
          4,
          3,
          4,
          1,
          3,
          1,
          1,
          1,
          5,
          4,
          3,
          2,
          1,
          3,
          2,
          2,
          4,
          3,
          3,
          9,
          1,
          1,
          4,
          1,
          5,
          2,
          4,
          4,
          1,
          8,
          2,
          1,
          4,
          12,
          1,
          8,
          1,
          1,
          8,
          3,
          1,
          3,
          9,
          1,
          1,
          4,
          4,
          3,
          1,
          2,
          2,
          8,
          2,
          1,
          1,
          1,
          2,
          5,
          2,
          6,
          3,
          2,
          1,
          3,
          11,
          1,
          1,
          1,
          3,
          3,
          10,
          2,
          1,
          1,
          1,
          1,
          4,
          1,
          2,
          2,
          3,
          8,
          1,
          4,
          2,
          1,
          1,
          2,
          5,
          1,
          5,
          1,
          3,
          11,
          1,
          2,
          1,
          6,
          1,
          1,
          4,
          1,
          4,
          2,
          15,
          1,
          5,
          1,
          6,
          1,
          2,
          2,
          4,
          3,
          1,
          1,
          1,
          1,
          1,
          1,
          13,
          1,
          3,
          1,
          2,
          6,
          2,
          1,
          2,
          1,
          1,
          1,
          4,
          2,
          1,
          1,
          1,
          5,
          1,
          1,
          2,
          3,
          2,
          1,
          2,
          3,
          1,
          4,
          1,
          1,
          1,
          1,
          8,
          1,
          4,
          1,
          1,
          2,
          4,
          2,
          1,
          1,
          1,
          1,
          2,
          1,
          2,
          1,
          1,
          1,
          5,
          1,
          3,
          6,
          2,
          1,
          8,
          1,
          4,
          2,
          1,
          4,
          2,
          16,
          8,
          1,
          3,
          2,
          1,
          3,
          1,
          1,
          1,
          2,
          3,
          1,
          1,
          2,
          1,
          1,
          1,
          1,
          1,
          1,
          2,
          1,
          1,
          3,
          62,
          1,
          3,
          6,
          1,
          10,
          1,
          3,
          7,
          1,
          4,
          1,
          9,
          16,
          2,
          3,
          7,
          1,
          1,
          1,
          1,
          1,
          10,
          4,
          1,
          1,
          1,
          1,
          1,
          1,
          1,
          5,
          2,
          1,
          1,
          1,
          1,
          1,
          2,
          6,
          12,
          1,
          1,
          3,
          2,
          1,
          8,
          3,
          1,
          2,
          4,
          1,
          9,
          1,
          2,
          1,
          4,
          5,
          1,
          1,
          2,
          1,
          5,
          1,
          7,
          1,
          5,
          2,
          1,
          4,
          3,
          2,
          5,
          4,
          3,
          2,
          1,
          12,
          1,
          35,
          8,
          1,
          1,
          2,
          3,
          2,
          1,
          1,
          1,
          4,
          1,
          3,
          1,
          22,
          2,
          3,
          1,
          1,
          8,
          9,
          1,
          1,
          2,
          3,
          12,
          1,
          6,
          2,
          3,
          1,
          5,
          2,
          3,
          1,
          10,
          3,
          1,
          10,
          1,
          2,
          3,
          1,
          1,
          1,
          1,
          1,
          2,
          8,
          1,
          2,
          1,
          2,
          3,
          4,
          2,
          2,
          1,
          1,
          1,
          4,
          4,
          2,
          1,
          1,
          3,
          1,
          1,
          1,
          3,
          1,
          22,
          1,
          1,
          1,
          2,
          2,
          1,
          1,
          3,
          4,
          3,
          24,
          1,
          6,
          6,
          2,
          3,
          1,
          2,
          3,
          1,
          12,
          1,
          7,
          1,
          1,
          1,
          36,
          3,
          3,
          4,
          7,
          1,
          4,
          2,
          1,
          4,
          3,
          1,
          2,
          8,
          6,
          1,
          2,
          1,
          1,
          1,
          1,
          1,
          22,
          1,
          3,
          1,
          1,
          2,
          1,
          1,
          5,
          3,
          1,
          3,
          1,
          2,
          2,
          1,
          2,
          1,
          2,
          1,
          6,
          2,
          4,
          3,
          1,
          7,
          1,
          5,
          2,
          9,
          1,
          1,
          2,
          2,
          3,
          2,
          2,
          1,
          2,
          1,
          3,
          2,
          1,
          4,
          4,
          3,
          2,
          1,
          12,
          1,
          2,
          1,
          1,
          1,
          1,
          1,
          1,
          3,
          1,
          3,
          6,
          2,
          1,
          3,
          1,
          2,
          5,
          3,
          6,
          1,
          2,
          1,
          2,
          1,
          6,
          5,
          1,
          1,
          14,
          1,
          3,
          3,
          2,
          1,
          3,
          1,
          2,
          1,
          3,
          7,
          3,
          2,
          3,
          2,
          3,
          2,
          1,
          2,
          9,
          5,
          1,
          1,
          1,
          3,
          1,
          8,
          2,
          11,
          1,
          5,
          1,
          1,
          1,
          1,
          1,
          1,
          3,
          2,
          8,
          1,
          1,
          2,
          7,
          1,
          4,
          2,
          1,
          1,
          1,
          3,
          4,
          1,
          8,
          1,
          1,
          1,
          1,
          5,
          4,
          2,
          3,
          5,
          4,
          2,
          24,
          6,
          7,
          1,
          8,
          1,
          1,
          2,
          3,
          1,
          2,
          6,
          2,
          9,
          11,
          2,
          2,
          13,
          7,
          3,
          1,
          1,
          2,
          4,
          1,
          4,
          3,
          1,
          15,
          1,
          2,
          2,
          2,
          11,
          6,
          2,
          2,
          2,
          16,
          2,
          1,
          3,
          2,
          9,
          2,
          3,
          2,
          2,
          4,
          1,
          1,
          2,
          1,
          44,
          2,
          2,
          1,
          4,
          1,
          2,
          1,
          1,
          2,
          1,
          1,
          3,
          1,
          4,
          1,
          4,
          2,
          1,
          1,
          2,
          4,
          2,
          2,
          66,
          1,
          1,
          3,
          1,
          2,
          2,
          5,
          1,
          4,
          5,
          1,
          2,
          6,
          6,
          2,
          1,
          1,
          3,
          13,
          3,
          16,
          1,
          4,
          1,
          1,
          3,
          4,
          13,
          1,
          6,
          2,
          1,
          1,
          2,
          14,
          3,
          3,
          5,
          2,
          1,
          41,
          5,
          8,
          1,
          2,
          2,
          1,
          2,
          3,
          2,
          3,
          2,
          4,
          4,
          3,
          5,
          2,
          3,
          8,
          2,
          1,
          2,
          3,
          1,
          1,
          3,
          1,
          1,
          1,
          2,
          1,
          1,
          4,
          2,
          1,
          1,
          1,
          3,
          2,
          6,
          1,
          1,
          5,
          2,
          2,
          9,
          3,
          3,
          1,
          1,
          5,
          1,
          1,
          1,
          1,
          2,
          2,
          3,
          2,
          3,
          3,
          1,
          1,
          1,
          3,
          2,
          5,
          1,
          8,
          3,
          1,
          3,
          2,
          9,
          6,
          1,
          1,
          9,
          4,
          6,
          6,
          5,
          4,
          11,
          1,
          11,
          1,
          7,
          1,
          3,
          2,
          5,
          3,
          1,
          3,
          1,
          2,
          1,
          1,
          1,
          10,
          7,
          4,
          1,
          2,
          2,
          1,
          3,
          1,
          1,
          1,
          5,
          3,
          6,
          1,
          2,
          3,
          1,
          5,
          1,
          2,
          2,
          3,
          1,
          2,
          3,
          1,
          1,
          5,
          1,
          4,
          7,
          3,
          1,
          3,
          1,
          1,
          6,
          35,
          3,
          6,
          8,
          2,
          5,
          3,
          2,
          2,
          12,
          1,
          2,
          2,
          2,
          1,
          3,
          2,
          2,
          5,
          1,
          1,
          6,
          5,
          1,
          1,
          2,
          1,
          1,
          3,
          2,
          8,
          2,
          1,
          2,
          9,
          1,
          1,
          5,
          1,
          2,
          4,
          3,
          1,
          7,
          2,
          4,
          3,
          1,
          7,
          1,
          1,
          11,
          3,
          4,
          4,
          7,
          5,
          2,
          1,
          1,
          1,
          1,
          5,
          1,
          3,
          1,
          2,
          15,
          2,
          9,
          11,
          6,
          1,
          18,
          4,
          4,
          2,
          2,
          1,
          1,
          1,
          2,
          1,
          1,
          3,
          2,
          2,
          7,
          1,
          1,
          2,
          2,
          1,
          1,
          1,
          2,
          4,
          2,
          1,
          3,
          2,
          2,
          10,
          3,
          8,
          1,
          4,
          1,
          3,
          1,
          1,
          1,
          1,
          3,
          1,
          2,
          4,
          1,
          7,
          1,
          2,
          5,
          1,
          2,
          2,
          5,
          1,
          7,
          1,
          8,
          11,
          1,
          8,
          1,
          12,
          4,
          1,
          1,
          4,
          2,
          1,
          2,
          1,
          5,
          1,
          2,
          1,
          2,
          7,
          12,
          1,
          13,
          18,
          1,
          1,
          15,
          2,
          3,
          1,
          4,
          1,
          3,
          3,
          1,
          10,
          1,
          3,
          1,
          1,
          2,
          2,
          6,
          12,
          2,
          2,
          1,
          2,
          1,
          2,
          2,
          1,
          3,
          1,
          2,
          2,
          4,
          6,
          2,
          1,
          9,
          3,
          5,
          6,
          1,
          2,
          2,
          4,
          9,
          2,
          7,
          2,
          1,
          1,
          6,
          1,
          1,
          6,
          13,
          1,
          3,
          1,
          1,
          2,
          3,
          2,
          1,
          4,
          2,
          3,
          2,
          4,
          1,
          3,
          2,
          3,
          2,
          1,
          1,
          1,
          1,
          2,
          1,
          2,
          1,
          2,
          3,
          1,
          3,
          3,
          1,
          1,
          8,
          4,
          2,
          5,
          3,
          1,
          3,
          1,
          1,
          2,
          6,
          1,
          1,
          1,
          1,
          2,
          4,
          4,
          3,
          12,
          10,
          1,
          1,
          3,
          2,
          8,
          6,
          3,
          2,
          3,
          1,
          3,
          1,
          6,
          2,
          1,
          3,
          18,
          3,
          1,
          1,
          2,
          1,
          6,
          1,
          3,
          1,
          2,
          1,
          4,
          2,
          1,
          3,
          1,
          1,
          2,
          2,
          1,
          2,
          2,
          1,
          2,
          3,
          4,
          1,
          1,
          7,
          1,
          3,
          1,
          1,
          2,
          37,
          2,
          2,
          1,
          1,
          8,
          4,
          1,
          2,
          1,
          17,
          1,
          3,
          4,
          9,
          24,
          2,
          1,
          1,
          1,
          1,
          2,
          4,
          8,
          3,
          1,
          1,
          6,
          1,
          2,
          4,
          1,
          2,
          6,
          9,
          3,
          1,
          1,
          2,
          2,
          2,
          2,
          6,
          1,
          2,
          7,
          1,
          3,
          1,
          4,
          3,
          2,
          5,
          1,
          2,
          1,
          2,
          1,
          12,
          1,
          2,
          2,
          5,
          1,
          7,
          1,
          1,
          12,
          36,
          1,
          1,
          3,
          1,
          1,
          2,
          3,
          1,
          1,
          1,
          1,
          16,
          1,
          2,
          1,
          2,
          2,
          3,
          1,
          2,
          1,
          2,
          1,
          4,
          1,
          3,
          2,
          3,
          1,
          1,
          2,
          5,
          1,
          4,
          2,
          6,
          7,
          10,
          3,
          1,
          5,
          1,
          1,
          1,
          1,
          2,
          1,
          4,
          1,
          1,
          1,
          10,
          1,
          5,
          3,
          3,
          3,
          1,
          5,
          1,
          1,
          1,
          1,
          2,
          11,
          2,
          1,
          1,
          9,
          1,
          1,
          1,
          1,
          2,
          3,
          1,
          1,
          3,
          1,
          4,
          11,
          1,
          4,
          1,
          1,
          1,
          3,
          1,
          3,
          21,
          2,
          1,
          1,
          2,
          5,
          1,
          3,
          3,
          1,
          2,
          4,
          1,
          1,
          2,
          2,
          4,
          1,
          1,
          1,
          3,
          5,
          4,
          1,
          4,
          1,
          1,
          1,
          1,
          2,
          3,
          1,
          3,
          1,
          2,
          3,
          6,
          4,
          8,
          3,
          1,
          1,
          1,
          4,
          2,
          4,
          2,
          4,
          1,
          2,
          2,
          25,
          1,
          1,
          1,
          3,
          10,
          4,
          2,
          2,
          3,
          4,
          2,
          2,
          1,
          1,
          5,
          1,
          5,
          2,
          1,
          1,
          1,
          1,
          5,
          3,
          1,
          1,
          1,
          1,
          9,
          2,
          1,
          3,
          1,
          4,
          43,
          2,
          1,
          1,
          1,
          5,
          1,
          1,
          6,
          1,
          1,
          2,
          2,
          1,
          6,
          1,
          5,
          2,
          3,
          2,
          1,
          2,
          1,
          2,
          1,
          1,
          1,
          1,
          1,
          1,
          1,
          1,
          1,
          1,
          3,
          1,
          1,
          5,
          1,
          1,
          1,
          3,
          3,
          1,
          1,
          6,
          1,
          4,
          4,
          2,
          2,
          18,
          3,
          4,
          4,
          3,
          4,
          1,
          2,
          3,
          1,
          7,
          1,
          4,
          1,
          1,
          1,
          2,
          1,
          2,
          2,
          1,
          3,
          1,
          1,
          2,
          3,
          1,
          2,
          2,
          1,
          1,
          1,
          8,
          7,
          14,
          9,
          2,
          24,
          1,
          2,
          1,
          1,
          1,
          2,
          3,
          2,
          1,
          5,
          1,
          1,
          1,
          3,
          1,
          1,
          1,
          2,
          3,
          11,
          1,
          1,
          1,
          5,
          2,
          1,
          2,
          1,
          2,
          1,
          4,
          2,
          1,
          1,
          7,
          4,
          2,
          27,
          3,
          2,
          1,
          1,
          2,
          1,
          1,
          2,
          1,
          8,
          9,
          9,
          1,
          1,
          1,
          1,
          2,
          4,
          3,
          1,
          4,
          1,
          3,
          3,
          2,
          3,
          1,
          1,
          3,
          8,
          1,
          5,
          2,
          6,
          3,
          5,
          3,
          3,
          1,
          1,
          2,
          1,
          1,
          4,
          1,
          2,
          1,
          1,
          3,
          4,
          1,
          1,
          17,
          6,
          1,
          2,
          1,
          2,
          17,
          1,
          1,
          18,
          9,
          9,
          5,
          2,
          9,
          66,
          2,
          2,
          9,
          7,
          1,
          4,
          17,
          3,
          1,
          1,
          1,
          13,
          1,
          1,
          1,
          1,
          1,
          1,
          1,
          2,
          8,
          2,
          3,
          6,
          2,
          1,
          1,
          2,
          3,
          3,
          2,
          1,
          2,
          5,
          5,
          2,
          5,
          24,
          1,
          3,
          4,
          8,
          9,
          4,
          1,
          2,
          13,
          2,
          1,
          12,
          2,
          3,
          2,
          2,
          2,
          1,
          3,
          8,
          1,
          2,
          1,
          1,
          6,
          1,
          1,
          62,
          4,
          1,
          2,
          2,
          6,
          1,
          8,
          2,
          6,
          2,
          8,
          4,
          4,
          1,
          1,
          2,
          1,
          7,
          3,
          1,
          6,
          2,
          9,
          2,
          1,
          2,
          2,
          3,
          1,
          1,
          25,
          4,
          1,
          4,
          1,
          2,
          2,
          5,
          4,
          2,
          2,
          1,
          1,
          17,
          1,
          1,
          1,
          2,
          1,
          2,
          3,
          1,
          1,
          2,
          2,
          10,
          1,
          1,
          1,
          2,
          4,
          5,
          1,
          1,
          1,
          1,
          2,
          2,
          5,
          1,
          1,
          2,
          3,
          1,
          7,
          1,
          16,
          3,
          9,
          1,
          1,
          3,
          1,
          1,
          2,
          1,
          6,
          1,
          6,
          2,
          5,
          1,
          1,
          3,
          1,
          1,
          2,
          2,
          1,
          3,
          1,
          2,
          1,
          1,
          1,
          1,
          1,
          1,
          1,
          2,
          3,
          4,
          7,
          5,
          4,
          1,
          1,
          5,
          1,
          1,
          1,
          2,
          2,
          7,
          1,
          1,
          3,
          3,
          1,
          1,
          3,
          107,
          8,
          5,
          2,
          1,
          2,
          2,
          1,
          1,
          7,
          1,
          3,
          6,
          5,
          3,
          2,
          2,
          5,
          14,
          2,
          1,
          1,
          2,
          1,
          4,
          1,
          6,
          3,
          10,
          8,
          1,
          4,
          1,
          1,
          4,
          2,
          4,
          1,
          3,
          3,
          1,
          1,
          1,
          3,
          5,
          10,
          19,
          13,
          3,
          3,
          8,
          4,
          4,
          2,
          1,
          3,
          2,
          2,
          1,
          7,
          1,
          4,
          4,
          2,
          1,
          1,
          2,
          1,
          6,
          1,
          4,
          1,
          4,
          1,
          1,
          1,
          1,
          1,
          8,
          1,
          3,
          3,
          6,
          7,
          1,
          2,
          1,
          1,
          14,
          2,
          8,
          2,
          4,
          1,
          4,
          1,
          2,
          3,
          2,
          3,
          7,
          5,
          5,
          2,
          8,
          3,
          1,
          1,
          1,
          1,
          6,
          8,
          1,
          1,
          1,
          2,
          5,
          1,
          1,
          1,
          24,
          7,
          1,
          1,
          1,
          5,
          3,
          2,
          1,
          2,
          8,
          1,
          1,
          1,
          2,
          1,
          2,
          1,
          2,
          13,
          2,
          2,
          1,
          1,
          3,
          5,
          3,
          2,
          6,
          8,
          1,
          4,
          1,
          3,
          3,
          1,
          1,
          1,
          1,
          2,
          1,
          2,
          1,
          1,
          5,
          1,
          6,
          1,
          3,
          2,
          2,
          1,
          8,
          1,
          1,
          6,
          5,
          7,
          3,
          1,
          3,
          6,
          12,
          2,
          5,
          20,
          2,
          1,
          6,
          2,
          1,
          2,
          2,
          5,
          2,
          4,
          1,
          3,
          2,
          3,
          2,
          1,
          1,
          14,
          1,
          2,
          3,
          3,
          10,
          1,
          1,
          1,
          2,
          7,
          3,
          3,
          1,
          7,
          16,
          3,
          3,
          2,
          2,
          5,
          4,
          1,
          1,
          2,
          2,
          7,
          1,
          3,
          1,
          5,
          1,
          3,
          2,
          2,
          2,
          1,
          1,
          1,
          3,
          1,
          6,
          1,
          2,
          1,
          1,
          2,
          1,
          1,
          1,
          8,
          1,
          5
         ],
         "xaxis": "x",
         "yaxis": "y"
        },
        {
         "name": "Средний чек",
         "type": "histogram",
         "x": [
          1261.9274282889915,
          2329.9166666666665,
          259.57824933687004,
          1485.75,
          1898.5714285714287,
          2115,
          1530,
          6800,
          1751.3650793650793,
          2574.090909090909,
          1780.7272727272727,
          1916,
          994.3333333333334,
          1477.5,
          1875.6896551724137,
          3968.5714285714284,
          1885.8701298701299,
          1500,
          26448,
          1451.2142857142858,
          1791.608695652174,
          11645,
          1484.4109589041095,
          2867.925,
          1980.2608695652175,
          1857.3513513513512,
          1565.8666666666666,
          1819.3,
          1662.34375,
          44000,
          1460.6,
          1692.784090909091,
          3797.3333333333335,
          4522.139534883721,
          1908.3333333333333,
          1775,
          2457.9122807017543,
          2102.439024390244,
          1512.5,
          2225.339285714286,
          2215.1666666666665,
          1580.4444444444443,
          15264,
          1755.4468085106382,
          2249.4285714285716,
          1770.6666666666667,
          1338,
          513.5909090909091,
          1996.4285714285713,
          1796.0714285714287,
          1527,
          976.591304347826,
          522.8461538461538,
          2026.173076923077,
          517.55,
          2115.2912621359224,
          475.90697674418607,
          20880,
          1641.8333333333333,
          2043.9,
          3120,
          1942.3636363636363,
          1594.837837837838,
          2868.978723404255,
          1828.076923076923,
          1774.4666666666667,
          1568.3103448275863,
          2174.1470588235293,
          1579.3050847457628,
          1864.6896551724137,
          10400,
          11324,
          3035.6363636363635,
          1972.9285714285713,
          2045.2608695652175,
          831.1190476190476,
          3992.7272727272725,
          3024.6,
          1602.8461538461538,
          1994.225,
          1716.5384615384614,
          1469,
          1879.7142857142858,
          1650.4074074074074,
          1535.25,
          5590,
          2664,
          1448.5714285714287,
          1467.1759259259259,
          4163.5,
          1567.642857142857,
          7175.142857142857,
          1649,
          2085.9411764705883,
          4978.5,
          1700,
          564.5636363636364,
          2237.375,
          495.5660377358491,
          2118.6875,
          614.1666666666666,
          444.6232179226069,
          330.7313432835821,
          818.6,
          1111.8,
          2014.9870967741936,
          1610,
          672.7083333333334,
          666.4375,
          1619.76,
          47881.987341772154,
          894,
          777.9230769230769,
          2540.53125,
          328.8484848484849,
          4680,
          5131.5,
          5904,
          10290.58064516129,
          460.8076923076923,
          85280,
          1812.9411764705883,
          1957.7857142857142,
          3379.3333333333335,
          1236.8333333333333,
          1217.0707070707072,
          1632.921568627451,
          6912.540540540541,
          1119.4285714285713,
          1876.4285714285713,
          328.98333333333335,
          10170,
          2592.8571428571427,
          1677.4264705882354,
          13291.666666666666,
          2879.6875,
          4107.1578947368425,
          2604,
          1852.7272727272727,
          1859.7482014388488,
          4384,
          1657.3292682926829,
          295.6666666666667,
          924.0837696335078,
          2006.111111111111,
          303.85714285714283,
          407.06944444444446,
          1096.4444444444443,
          289.88,
          1370,
          2573.75,
          569.8333333333334,
          358.88,
          380.95,
          17433.333333333332,
          1418.0677966101696,
          231.2258064516129,
          602.0434782608696,
          706.25,
          805.45,
          4366.952380952381,
          320.2608695652174,
          601.5666666666667,
          341.75,
          924.8383838383838,
          3805,
          709.1785714285714,
          1867,
          1752,
          691.6470588235294,
          1398,
          319.2631578947368,
          4166.5,
          545.2210526315789,
          1813.051282051282,
          766.7857142857143,
          1443,
          4258.333333333333,
          819.081081081081,
          308.6734693877551,
          290.42857142857144,
          403.0504201680672,
          287.5217391304348,
          7263.714285714285,
          315.1578947368421,
          1275,
          1558.125,
          474.5014164305949,
          516.8571428571429,
          94529.72222222222,
          2145.5,
          794.875,
          7560,
          13920,
          23188.333333333332,
          611.625,
          8257.714285714286,
          420.81632653061223,
          587.0909090909091,
          1509.1666666666667,
          685.8,
          2737.8,
          17675,
          446.6923076923077,
          1628.6875,
          10631,
          20750,
          539.9411764705883,
          556.168284789644,
          355.8333333333333,
          384.3333333333333,
          1080,
          539.1666666666666,
          6768.166666666667,
          1944,
          483.8333333333333,
          514.7826086956521,
          305.3333333333333,
          466.5689655172414,
          741.8888888888889,
          472.84615384615387,
          669.0833333333334,
          411.04545454545456,
          1167.857142857143,
          989.8076923076923,
          1119.375,
          1198.9622641509434,
          726.0322580645161,
          435.6666666666667,
          2211,
          773.6666666666666,
          1980.0833333333333,
          1214.8709677419354,
          5786.363636363636,
          1507.25,
          591.5593220338983,
          828.25,
          2069.222222222222,
          3020,
          2824.1813186813188,
          669.4230769230769,
          1921.3333333333333,
          3192,
          889.4183006535948,
          535.8333333333334,
          2225.989247311828,
          47276.61111111111,
          9971.142857142857,
          2461,
          3084.090909090909,
          1410.1785714285713,
          203310,
          494.15384615384613,
          491.8329106790645,
          2202.04,
          772.8548387096774,
          532.0714285714286,
          1770,
          1694.375,
          2785.3846153846152,
          2128.9166666666665,
          605,
          8341.3,
          1534,
          335.5,
          440.56038647342996,
          368.54545454545456,
          1037.0710227272727,
          4387.6,
          7046.142857142857,
          989.7674418604652,
          1062.5438596491229,
          748.2307692307693,
          856.09375,
          764.3636363636364,
          849.6896551724138,
          1101,
          22358,
          1082.7209302325582,
          390.35135135135135,
          447.72727272727275,
          929.7777777777778,
          810,
          309.0232558139535,
          1800,
          806.0882352941177,
          476.6666666666667,
          2317.8333333333335,
          1126.0530303030303,
          2542.1803278688526,
          658.452380952381,
          4698.333333333333,
          857.1875,
          828.5182481751825,
          745.4155844155844,
          1931.2,
          841.5294117647059,
          2217.5555555555557,
          7140,
          1905,
          1913.079365079365,
          4367.333333333333,
          2055.4444444444443,
          1438.8125,
          1912.9616161616161,
          1696.0588235294117,
          1731.8461538461538,
          1941.404255319149,
          2228.9435483870966,
          1692.6725663716813,
          1691.784090909091,
          2523.3333333333335,
          39717.5,
          2482.086956521739,
          2153.0416666666665,
          1915.648484848485,
          2535,
          1927.3192771084337,
          1537.5,
          1810.7142857142858,
          1963.5714285714287,
          771.0416666666666,
          1680,
          2672.1027027027026,
          1857.060606060606,
          2697.6666666666665,
          1495.7674418604652,
          2408.383333333333,
          1706.923076923077,
          1512.2777777777778,
          2490,
          1879.1666666666667,
          1941.051948051948,
          1873.1304347826087,
          1667.2,
          1148.9166666666667,
          1923.4285714285713,
          1898.3731343283582,
          1918.2551020408164,
          1825.3333333333333,
          2151.078431372549,
          6350,
          1618.5,
          5937.166666666667,
          1597.5555555555557,
          2371.8118279569894,
          1394.4,
          725.6223776223776,
          2839.777777777778,
          2059.5,
          1877.142857142857,
          5206.821428571428,
          2460.5,
          1742.5211267605634,
          5192.181818181818,
          2146.2340425531916,
          375.74074074074076,
          2020.5454545454545,
          1974.7,
          2050.5,
          640.4166666666666,
          2729.4242424242425,
          1783.2941176470588,
          1633.8805970149253,
          1668.35,
          1627.8333333333333,
          1893.6666666666667,
          1876.7391304347825,
          1782.90625,
          1558.2608695652175,
          13512,
          2022.5,
          1552.95,
          776.3806451612903,
          1677.78125,
          1388.225806451613,
          2229.090909090909,
          1277.1159420289855,
          1485,
          657.726618705036,
          1543.047619047619,
          1482.8095238095239,
          6704.666666666667,
          277.9347826086956,
          2739.4444444444443,
          1475.7142857142858,
          1355.7317073170732,
          1561.5277777777778,
          645.2005730659026,
          450.0595238095238,
          388.2894736842105,
          564.5526315789474,
          4749.142857142857,
          930.9802371541502,
          1391,
          1330.8048780487804,
          451.3636363636364,
          2014.0975609756097,
          1798.8955223880596,
          1724.5192307692307,
          2445.1428571428573,
          932.4130434782609,
          5993.571428571428,
          533.7583892617449,
          3395,
          639.7916666666666,
          2701.3522267206476,
          240.2608695652174,
          1052.0967741935483,
          2475,
          742.8457142857143,
          1602.3333333333333,
          1972.5,
          686.8039215686274,
          2422.4202898550725,
          603.7547169811321,
          711.8333333333334,
          1937.6153846153845,
          3323.409090909091,
          1672.7272727272727,
          2660,
          402.1212121212121,
          2192.0925925925926,
          125000,
          1704.7241379310344,
          833.25,
          2325,
          640.1764705882352,
          4068,
          844.625,
          1242.5,
          1902.857142857143,
          633.8092783505155,
          1063.2212389380531,
          2306.3478260869565,
          7348.75,
          1110.0232558139535,
          1710.0588235294117,
          2620.2702702702704,
          1185.6666666666667,
          519.03125,
          778.8771929824561,
          560.2068965517242,
          11426.666666666666,
          2609.1935483870966,
          10002.124535315985,
          1657.5235294117647,
          1669.4705882352941,
          613.0208333333334,
          2354.6666666666665,
          2135.6285714285714,
          2266.159090909091,
          1505.5172413793102,
          1571.6666666666667,
          1484.896551724138,
          1739.8181818181818,
          1872.3157894736842,
          2352.625,
          2761.1875,
          2835.934426229508,
          1631,
          1904.4,
          1363.2058823529412,
          1674.2222222222222,
          1321.875,
          404.95762711864404,
          1259.1081081081081,
          2011.2941176470588,
          1999.642857142857,
          2591.2,
          947.8809523809524,
          1815,
          1956.1818181818182,
          11594,
          1645.7142857142858,
          742.4186046511628,
          4266,
          1656.3783783783783,
          102702.79487179487,
          779.3238095238095,
          1288.6363636363637,
          1350,
          1675.125,
          3728.4,
          2187.777777777778,
          2512.5,
          1855.5,
          1196,
          894.6,
          1383.2,
          1214.6153846153845,
          4769.176829268293,
          3000,
          1831.1485714285714,
          4478,
          1838.1666666666667,
          1886.1818181818182,
          2039.9478260869564,
          1473.6666666666667,
          2666.9615384615386,
          4885,
          14770,
          1757.4117647058824,
          1730.3157894736842,
          1725.1304347826087,
          6300,
          1632.5,
          1613.5428571428572,
          16014.279069767443,
          949.4736842105264,
          6299.92,
          983.8214285714286,
          1836.148148148148,
          39193.846153846156,
          8273.5,
          969.4444444444445,
          20352,
          12336.639344262296,
          8258.6,
          1831.6666666666667,
          11307.238095238095,
          672.5,
          385.14285714285717,
          15641.35,
          864.9380530973451,
          631.5,
          589.081081081081,
          1601.25,
          1117.6842105263158,
          577.9230769230769,
          1467.2173913043478,
          1572.9607843137255,
          518.5416666666666,
          1017.3349514563107,
          1328.5477707006369,
          891.375,
          1289.3333333333333,
          508.6829268292683,
          660,
          934,
          21750,
          727.8571428571429,
          4155.428571428572,
          701,
          623.8780487804878,
          22896,
          481.59067357512953,
          691.4583333333334,
          1566.6666666666667,
          2898.8125,
          3667.2,
          871.3135313531353,
          364.2274368231047,
          3336,
          1738.5714285714287,
          17520,
          4970,
          1954.1,
          1612.5,
          464.97938144329896,
          652.46875,
          1649.4642857142858,
          1456.927966101695,
          2079.904761904762,
          10002,
          5767.727272727273,
          2514.6060606060605,
          753.125,
          12671.64705882353,
          1437.7674418604652,
          1117.5,
          1479.4285714285713,
          677.55,
          1184.873015873016,
          55080,
          444.6818181818182,
          1299.8,
          2790.2105263157896,
          790.6379310344828,
          524.8169014084507,
          2136.9864864864867,
          1677.34,
          525.3333333333334,
          1884.53125,
          19680,
          713.12,
          378.1896551724138,
          315.80555555555554,
          231.72727272727272,
          14777.5,
          700.25,
          1685.8333333333333,
          277.77777777777777,
          171.46153846153845,
          393.7241379310345,
          735.2439024390244,
          1602.5,
          1973.4638554216867,
          3698.5714285714284,
          2283.75,
          634.6405693950178,
          1039.6216216216217,
          827.6,
          1112.7272727272727,
          628.8318584070796,
          2934.6428571428573,
          772.1111111111111,
          796.530612244898,
          1553,
          1762.142857142857,
          740.7692307692307,
          1059.6315789473683,
          588.6,
          661.728,
          452.25,
          1100.3584905660377,
          474,
          1097.9761904761904,
          1720.5777777777778,
          8865,
          955.5,
          2233.548387096774,
          986.84,
          5481.428571428572,
          1067.84375,
          19500,
          672,
          2772.7714285714287,
          2204.285714285714,
          6084.176470588235,
          506,
          738.9787234042553,
          1532.3,
          2003.0333333333333,
          1497.5,
          3585.5,
          2028,
          1311.4285714285713,
          1729.4166666666667,
          1806,
          1503,
          1664.0227272727273,
          4455,
          1708.1016949152543,
          1619.2447552447552,
          1604.5675675675675,
          1887.0384615384614,
          1881.7777777777778,
          870.8333333333334,
          1352.625,
          11365.625,
          2289,
          2857.0833333333335,
          1737.2142857142858,
          4320,
          2501.5384615384614,
          2241.126923076923,
          1527.3333333333333,
          2497.722222222222,
          1889.0625,
          18315,
          1861.0405405405406,
          824.1428571428571,
          475.38461538461536,
          992.7894736842105,
          3000,
          1659,
          1491.5,
          1561.5,
          1576.25,
          2289.5555555555557,
          626.4084507042254,
          1386.111111111111,
          614.7027027027027,
          2003.8936170212767,
          752.3225806451613,
          1550,
          471.8936170212766,
          1811.4285714285713,
          1781.6842105263158,
          2418.181818181818,
          1467.0192307692307,
          1963.5294117647059,
          4183.588235294118,
          1738.5833333333333,
          1937.3934426229507,
          726.8823529411765,
          1820.8350515463917,
          2357.25,
          2687.7413793103447,
          7632,
          5940,
          1013.3333333333334,
          4501,
          1222.75,
          819.0512820512821,
          1560.7111111111112,
          539.75,
          1956.357142857143,
          1675.535135135135,
          669.4736842105264,
          1773.2333333333333,
          530.4444444444445,
          5530.25,
          4684.8,
          606.4967741935484,
          1847.9411764705883,
          1488.4444444444443,
          3410,
          470.11764705882354,
          1048.5714285714287,
          1826.2016129032259,
          2375.0555555555557,
          1595.2558139534883,
          2843.285714285714,
          1521.388888888889,
          1624.25,
          995.9807692307693,
          1640.2,
          3560.5454545454545,
          517.3333333333334,
          1632.423076923077,
          1582.2727272727273,
          1756,
          3279.6923076923076,
          1745.4166666666667,
          1107.125,
          35800,
          621.0625,
          12168,
          2812.5,
          1072.6666666666667,
          576.0930232558139,
          6750,
          3316.7804878048782,
          801.8515625,
          721.6904761904761,
          1710,
          1695.1333333333334,
          2085.705882352941,
          4249.421052631579,
          3126.8888888888887,
          2213.16,
          1321,
          7375,
          5850,
          3815.2380952380954,
          1736.357142857143,
          5238.75,
          1801.7142857142858,
          1782.5862068965516,
          6240,
          2657.7,
          1030.8465608465608,
          942.8709677419355,
          1329.25,
          2708.6666666666665,
          827.4230769230769,
          12576,
          994.7333333333333,
          1500.0416666666667,
          1491.9545454545455,
          1341.4285714285713,
          6975.333333333333,
          642.3888888888889,
          1579.2857142857142,
          1697.909090909091,
          503.92857142857144,
          1676.4285714285713,
          2960,
          1843.2727272727273,
          4115.0952380952385,
          2080,
          1161.3333333333333,
          1404.8939393939395,
          2566.5714285714284,
          3152.423076923077,
          1621.3076923076924,
          1848.375,
          1712.0472972972973,
          2361.75,
          680.1818181818181,
          1005.9850746268656,
          1590.5416666666667,
          1392.4137931034484,
          512.1535181236674,
          605.75,
          1503.090909090909,
          1281.3115942028985,
          3960,
          758.0357142857143,
          1351.5528455284552,
          241.11627906976744,
          545.3524590163935,
          851.2345679012345,
          3233.6666666666665,
          663.5238095238095,
          584.9473684210526,
          1602.7142857142858,
          2504.484375,
          262.90225563909775,
          1878,
          638.4761904761905,
          642.1833333333333,
          1235.9574468085107,
          483.44303797468353,
          3781.8823529411766,
          1106.5681818181818,
          557.9285714285714,
          276.63829787234044,
          821.0769230769231,
          317.7435897435897,
          591.5,
          458.4096385542169,
          1164,
          580.1666666666666,
          1734.9285714285713,
          883.0769230769231,
          1903.2903225806451,
          43200,
          746.4657534246576,
          190,
          239.73684210526315,
          1801.3647058823528,
          2256.9139072847684,
          12150.2,
          1899.135593220339,
          675.9756097560976,
          1384,
          2024.4545454545455,
          3540,
          1467.4736842105262,
          1790.25,
          2323,
          1484.4,
          2522.6511627906975,
          2073.818181818182,
          1511.4193548387098,
          5370.787234042553,
          2556,
          2325.08,
          4566,
          1982,
          1751.7777777777778,
          2194.064516129032,
          1146.875,
          1495.0625,
          1612,
          1511.6666666666667,
          2197.4,
          1710,
          965.2962962962963,
          1851.75,
          1707.1451612903227,
          1886.4242424242425,
          1380.8666666666666,
          1838.8909090909092,
          371.31654676258995,
          2321.1111111111113,
          2020.7692307692307,
          541.8901098901099,
          2024,
          1648.591836734694,
          744.8142857142857,
          549.4583333333334,
          608.2352941176471,
          1454.4285714285713,
          2617.75,
          385.25,
          1423.3333333333333,
          592.5098039215686,
          1665.82,
          1580,
          363.6372549019608,
          1674.140350877193,
          749.2325581395348,
          2669.5987261146497,
          1254,
          425.875,
          1381.7241379310344,
          1368.6052631578948,
          901.416149068323,
          413.25,
          771.5,
          753.8275862068965,
          2391.978723404255,
          3400,
          384.7692307692308,
          2555.5263157894738,
          2456.4285714285716,
          2661.2,
          1918.3333333333333,
          1747.375,
          504,
          1835.4545454545455,
          841.6396396396397,
          9383.333333333334,
          642.452380952381,
          2501.0810810810813,
          1767.1724137931035,
          1422.3211678832117,
          1963.6020408163265,
          431.5402298850575,
          892.4038461538462,
          2510.5555555555557,
          375,
          1908.9444444444443,
          913.1739130434783,
          2305.4210526315787,
          1228.9310344827586,
          1043.9166666666667,
          466.275,
          728.265306122449,
          591.2647058823529,
          1420.4333333333334,
          2012.6666666666667,
          840.4285714285714,
          953.9014084507043,
          1702.4545454545455,
          1281.8666666666666,
          1407.25,
          1047.6567164179105,
          946.8192771084338,
          5613.1,
          550.3526011560693,
          3616.46,
          423.3157894736842,
          4880.428571428572,
          2861.9791666666665,
          1578.1739130434783,
          39960,
          6330,
          849.025,
          42533.333333333336,
          1763.4545454545455,
          3416.285714285714,
          2428.3333333333335,
          605.3385826771654,
          415.42105263157896,
          26464.971014492752,
          3348.090909090909,
          3947.75,
          1881.0681818181818,
          1676.5,
          359.4782608695652,
          7462.4,
          18090.75,
          1629.4016393442623,
          930.625,
          1374,
          1027.7857142857142,
          9174,
          1956,
          322.1904761904762,
          14267.41935483871,
          1113.3382352941176,
          2043,
          1646.723404255319,
          4223.214285714285,
          1650.4705882352941,
          1504.857142857143,
          1355.8333333333333,
          1719.8333333333333,
          1749.2,
          1851.111111111111,
          2566.4137931034484,
          1947.4,
          1420.8387096774193,
          5310,
          1953.421052631579,
          795.2051282051282,
          1824.2542372881355,
          1573.5,
          2361.2743362831857,
          1617.7142857142858,
          1545,
          3051.4444444444443,
          1677.2,
          1446.4444444444443,
          2842.9375,
          2468.75,
          2050.6,
          1871.1538461538462,
          1172,
          1159.2,
          1738.7291666666667,
          1606.85,
          1558.7894736842106,
          1874,
          1233.6,
          1450.5,
          1292.3333333333333,
          420.50877192982455,
          295.3333333333333,
          791.0714285714286,
          1961.244094488189,
          970,
          1364,
          1752.2222222222222,
          5964,
          2597.3333333333335,
          1252.5,
          1545.4285714285713,
          1505.3703703703704,
          1669.4,
          1468.2121212121212,
          2907.7258064516127,
          1050,
          2639.464285714286,
          4355.6,
          1672.625,
          1570.6227272727272,
          1721.25,
          1564.1583333333333,
          1615.75,
          1529.125,
          6892.057142857143,
          3214.375,
          845.4855072463768,
          466.6092715231788,
          2618.4375,
          2520,
          1948.25,
          1095.8235294117646,
          1847.1,
          626.7073170731708,
          1560.8163265306123,
          1210.4545454545455,
          1383,
          1776.1,
          1381.2,
          7433.219047619048,
          2993.9325153374234,
          773.0645161290323,
          1266.9259259259259,
          971.0714285714286,
          1695,
          986.7551020408164,
          8250,
          543.0147058823529,
          2914,
          20928,
          1706.25,
          5806.5,
          520.5,
          1790.530612244898,
          1682.016393442623,
          786.4528301886793,
          1636.483870967742,
          2276.813953488372,
          1765.904761904762,
          747.5333333333333,
          1578.421052631579,
          723.75,
          1644.9,
          1810.3333333333333,
          1667.2564102564102,
          2236,
          457.66964285714283,
          1792.5714285714287,
          568.1282051282051,
          393.32911392405066,
          3745,
          809.6181818181818,
          509.1504424778761,
          1562.8461538461538,
          521.9130434782609,
          452.84615384615387,
          1715.8319327731092,
          2132,
          1796.844827586207,
          1951.8,
          590,
          1968.5,
          2400.75,
          1790,
          584.8333333333334,
          774.1666666666666,
          5615750,
          354.1621621621622,
          760.7142857142857,
          372.77777777777777,
          1507.7777777777778,
          1049.2162162162163,
          643.0784313725491,
          1653.75,
          4870.5,
          703.9354838709677,
          14227.5,
          2207.6,
          604.515923566879,
          2570,
          10071.546341463414,
          2015.851851851852,
          753.0285714285715,
          1745,
          1101.5882352941176,
          1186.618556701031,
          95,
          1755.5555555555557,
          2926.6666666666665,
          1970.6938775510205,
          1177.5263157894738,
          596.2,
          2079.94,
          815.4423076923077,
          1947.9545454545455,
          824.7826086956521,
          417.68,
          5411.142857142857,
          1500,
          1696.6666666666667,
          833.3333333333334,
          1773.4375,
          674.7377049180328,
          3211.4,
          1855.4035087719299,
          1633.5294117647059,
          16155,
          623.2307692307693,
          337.63235294117646,
          358.44827586206895,
          544.8918918918919,
          1265.5714285714287,
          392.16,
          713.3809523809524,
          1761.7142857142858,
          1142,
          1093.8,
          745.1333333333333,
          503.5522875816994,
          1565.6315789473683,
          1558.5454545454545,
          1955.2,
          753.1818181818181,
          1191.95,
          2612.7619047619046,
          1138.888888888889,
          1999.2777777777778,
          642.75,
          627.1118421052631,
          650.3030303030303,
          2127.1666666666665,
          2421.808510638298,
          333.84375,
          401,
          2166.6666666666665,
          1333.5714285714287,
          56523.333333333336,
          1065.051724137931,
          311.5833333333333,
          1384.055944055944,
          785.3355263157895,
          2937.5,
          310.1014492753623,
          20750,
          843.8709677419355,
          3759.375,
          2275,
          14280,
          1595,
          1838.027027027027,
          2188.5731707317073,
          1608.75,
          1986,
          1348.4848484848485,
          64000,
          986.3076923076923,
          1600.6315789473683,
          3571.8714285714286,
          1794.5714285714287,
          1500,
          1472.3529411764705,
          1633.157894736842,
          1619.9285714285713,
          1596.75,
          769.4651162790698,
          1003.7613636363636,
          1451.875,
          11499.2,
          1174.046511627907,
          2806.6666666666665,
          14196,
          1526.35,
          1723.157894736842,
          1175.7619047619048,
          1597.88,
          1357.2894736842106,
          2101.3980582524273,
          653.8305084745763,
          3846.4406779661017,
          2500,
          6501.3,
          854.1068702290077,
          2929.6046511627906,
          1735,
          3130.527777777778,
          1945.5,
          761.2727272727273,
          1527.6470588235295,
          557.421052631579,
          1116.4022988505747,
          335.01901140684413,
          2663.68,
          1952,
          2118.1666666666665,
          1991.7058823529412,
          2130,
          2100.6153846153848,
          1463.0416666666667,
          1936.6666666666667,
          1566,
          3391.714285714286,
          797.5764705882353,
          1250.4888888888888,
          653.2205882352941,
          787.0943396226415,
          4730.888888888889,
          1608.75,
          2223.5,
          1730,
          2567.121212121212,
          1980,
          1590,
          2756.7,
          2574.3076923076924,
          1140.76,
          506.46875,
          757.2236842105264,
          1640,
          1535.2571428571428,
          613.7916666666666,
          3405,
          1676.8461538461538,
          5046.583333333333,
          1576,
          1400.225806451613,
          2133.121359223301,
          1802.6455696202531,
          1709.2857142857142,
          2202.4285714285716,
          1860.75,
          27729.52380952381,
          3241,
          7240.072580645161,
          2748.75,
          1653.09375,
          11985,
          1728.34375,
          1933.9756097560976,
          1426.890410958904,
          2089.3793103448274,
          3826.8125,
          41500,
          1190,
          1354.5572916666667,
          3848.8,
          2561.818181818182,
          3096,
          2332.849315068493,
          1803.8214285714287,
          6508,
          1622.4,
          1508.5333333333333,
          7632,
          1923.3333333333333,
          1752.4,
          1712.1271186440679,
          17520,
          1581.047619047619,
          1439.9166666666667,
          2266.3809523809523,
          2053.181818181818,
          2031.3333333333333,
          2656.3333333333335,
          4412.59405940594,
          4243.027027027027,
          1902.8979591836735,
          5316.603773584906,
          1844,
          1626.5,
          385.5,
          2389.5,
          757.0588235294117,
          564.2181818181818,
          1713,
          626.5555555555555,
          1963.2,
          348.7142857142857,
          1963.3846153846155,
          1685.1304347826087,
          9412.666666666666,
          1682.6666666666667,
          2547.3333333333335,
          919.4,
          2377.655172413793,
          3217,
          1862.857142857143,
          2307.206896551724,
          1930.7142857142858,
          3069.5,
          1600.8333333333333,
          1516.6486486486488,
          1689.375,
          3301.8947368421054,
          559.4931506849315,
          943.0357142857143,
          6576.727272727273,
          1591.6404494382023,
          1960,
          7920,
          1754.561403508772,
          2372.8888888888887,
          4336.846153846154,
          1686.871794871795,
          1449.142857142857,
          929.4285714285714,
          800.1975308641976,
          1781.7045454545455,
          1667,
          1120.64,
          1802.203125,
          1598.8,
          410.37974683544303,
          1535.6666666666667,
          1977.75,
          1722.7894736842106,
          47840,
          2012.4418604651162,
          1633.125,
          2514.75,
          1492.3333333333333,
          2251.6666666666665,
          735.4689349112426,
          574.2027027027027,
          1105.375,
          32264.850393700788,
          5286.363636363636,
          939.0540540540541,
          865.0588235294117,
          1678.2666666666667,
          3064.926470588235,
          715.1340206185567,
          270.76666666666665,
          507.9555555555556,
          20998.808510638297,
          1656.155172413793,
          1580.1869158878505,
          400.3809523809524,
          866.25,
          2033.3333333333333,
          431.52486187845307,
          265.72093023255815,
          1690.5172413793102,
          151691.66666666666,
          554.5670498084291,
          671.0677966101695,
          448.1505376344086,
          1423.5,
          1733,
          1412.9302325581396,
          1192,
          2672.962962962963,
          966.843373493976,
          3263.4901960784314,
          3760.375,
          1962.4571428571428,
          438.90625,
          1466.7857142857142,
          2165.722222222222,
          12144.70588235294,
          2643,
          3051.6666666666665,
          440.23809523809524,
          2371.6666666666665,
          808.3928571428571,
          2363.4,
          1278.9545454545455,
          901.7169811320755,
          1741.551724137931,
          2045.72,
          1792,
          1573.9285714285713,
          5984.333333333333,
          5418.333333333333,
          2692.222222222222,
          10067.1875,
          2467.2,
          2201.25,
          887.5,
          1524.5,
          1828.1166666666666,
          1965.5714285714287,
          2127.8571428571427,
          1602.3076923076924,
          272.95652173913044,
          844.5,
          1026.3636363636363,
          949.3823529411765,
          1593.1666666666667,
          431.15441176470586,
          3313.5,
          394.15584415584414,
          1203.6022727272727,
          475.2,
          2287.090909090909,
          337.5357142857143,
          1959.5,
          489.6363636363636,
          2182.375,
          4090.5,
          818.025641025641,
          542.05,
          1407.1818181818182,
          2188,
          781.9333333333333,
          2090.8,
          1235.2222222222222,
          1110.923076923077,
          3903.311111111111,
          476.44444444444446,
          1251.2857142857142,
          799.695652173913,
          475.1875,
          8821.42857142857,
          125,
          590.5,
          559.1739130434783,
          717.2083333333334,
          675.2333333333333,
          1500.108,
          990.2413793103449,
          2009.8732394366198,
          936.5,
          264.90625,
          1688.4285714285713,
          2447.4430379746836,
          1517.142857142857,
          2499.45,
          1476,
          1716.6444444444444,
          27836.943396226416,
          1506.6470588235295,
          1845.111111111111,
          964.4160583941606,
          1538.975,
          1787.5714285714287,
          1463.7333333333333,
          1224.7428571428572,
          1631.08,
          2305.2,
          3050.714285714286,
          2161.5,
          694.1818181818181,
          729.1666666666666,
          1565.551282051282,
          3591.44,
          1686.7272727272727,
          3013.4,
          1721.8846153846155,
          1585.0677966101696,
          1577.6760563380283,
          1476.4375,
          1610.9666666666667,
          1511.6666666666667,
          2539.9411764705883,
          1722.1969696969697,
          1610.8051948051948,
          45142,
          1502.75,
          555.6818181818181,
          875.3731343283582,
          27105,
          2071.515625,
          1528.3,
          7632,
          2222.243902439024,
          554.6481481481482,
          1893.8125,
          2780.9154929577467,
          1481.25,
          1751,
          10200,
          1339.0666666666666,
          1550,
          1162.0588235294117,
          7997.714285714285,
          44951.574468085106,
          2576.65,
          2991.6,
          1893.2792792792793,
          1828.4545454545455,
          1575.1363636363637,
          6800,
          1599.6333333333334,
          298.8358208955224,
          1654.2465753424658,
          1597.8461538461538,
          7920,
          561.9876543209876,
          794.0805369127517,
          349225,
          988.6666666666666,
          724.9545454545455,
          1664.090909090909,
          1160,
          793.7058823529412,
          5614,
          2744.66,
          1505.25,
          5914.75,
          1590,
          1571.423076923077,
          1350.905982905983,
          2081.25,
          3744.4285714285716,
          547.9028400597907,
          1915,
          548.6666666666666,
          2189.3333333333335,
          1552.5,
          1975.4761904761904,
          2493.75,
          1167.5438596491229,
          409.5943396226415,
          2049,
          1950,
          1838.5189873417721,
          2980,
          671.8023952095808,
          842.4310344827586,
          1639.1304347826087,
          1782.9333333333334,
          10424.807692307691,
          6840,
          1093.2,
          1720.3037974683543,
          1634.1666666666667,
          2221.6153846153848,
          652.9516129032259,
          1604.4714285714285,
          1578.5833333333333,
          1977.4375,
          2029.8108108108108,
          2297.3571428571427,
          1276.6666666666667,
          2076.2727272727275,
          7632,
          2165.5185185185187,
          1450.8,
          1628,
          2267.0454545454545,
          1560.5454545454545,
          17344.8,
          1450.6,
          2170.4210526315787,
          2514.5,
          1432,
          341.58378378378376,
          1960.625,
          1542.9864864864865,
          2313.217777777778,
          1858.2941176470588,
          3622.8571428571427,
          1488.1666666666667,
          2020.5,
          1612,
          1368.1142857142856,
          2403.72,
          1606.2105263157894,
          1575.9285714285713,
          1898.6260869565217,
          3273,
          1429.7222222222222,
          1741.7878787878788,
          2114.403314917127,
          3480,
          4236.526315789473,
          1806.0833333333333,
          910.8,
          3606.8333333333335,
          1906.923076923077,
          1392,
          1878.6363636363637,
          1577.5706214689264,
          1526.4583333333333,
          1303.1538461538462,
          1775.3023255813953,
          1688.3283582089553,
          1674.4117647058824,
          1615.388888888889,
          470.8333333333333,
          1578.0344827586207,
          1018.3432835820895,
          584.1891891891892,
          887.7777777777778,
          2203.7027027027025,
          1363.5714285714287,
          630.46875,
          1263.5876288659795,
          958.7058823529412,
          1520.622641509434,
          4063.625,
          1966.375,
          1158.3103448275863,
          2947.6428571428573,
          496.2651685393258,
          1600.909090909091,
          555.1666666666666,
          1526.2631578947369,
          1011.2903225806451,
          1426.6025641025642,
          624.2735042735043,
          1279.2888888888888,
          477.54545454545456,
          247.57894736842104,
          1466.28,
          426.875,
          843.4285714285714,
          1045.625,
          558.78125,
          939.0068027210884,
          1251.4776119402984,
          563.755868544601,
          785.0666666666667,
          2298.595744680851,
          6965,
          356.57142857142856,
          4467.888888888889,
          760.5227272727273,
          2249.433962264151,
          1616.6666666666667,
          863.3983050847457,
          978.9411764705883,
          1872.8958333333333,
          4224.528169014085,
          1980,
          558.1481481481482,
          25000,
          1139.6825396825398,
          1018.7857142857143,
          356.6111111111111,
          3425.4545454545455,
          343.90909090909093,
          6092.785714285715,
          2010.3684210526317,
          2081.856540084388,
          8602.5,
          701.9430051813472,
          1825,
          1729.021978021978,
          7632,
          2247.317073170732,
          1691.1584158415842,
          306.3333333333333,
          15463.882352941177,
          2016.875,
          1514.625,
          499.08196721311475,
          471,
          1051.75,
          596.4418604651163,
          10752.692307692309,
          587.7,
          2132.7272727272725,
          367.75,
          496.44444444444446,
          489.2269938650307,
          738.2222222222222,
          1307.0434782608695,
          1614.1379310344828,
          1818.2727272727273,
          1783,
          2550,
          818.9814814814815,
          668.6551724137931,
          652.3684210526316,
          358.0625,
          392.7752808988764,
          1997.1315789473683,
          1228.0689655172414,
          515.3846153846154,
          479.541935483871,
          491.34177215189874,
          2498.7272727272725,
          750,
          1437.5,
          1675.857142857143,
          1797.391304347826,
          2048.6774193548385,
          1176.5483870967741,
          2385.6363636363635,
          3059.6,
          2008.7142857142858,
          3076.9367088607596,
          663.3157894736842,
          722.7433628318585,
          2054.4,
          3392.8,
          1338.923076923077,
          6400,
          1519.7894736842106,
          1651.64,
          1528.75,
          2632.5714285714284,
          1505,
          2806.2285714285713,
          1661.4285714285713,
          2093.233333333333,
          50000,
          1228.6153846153845,
          1448.8333333333333,
          1798.1734104046243,
          4896,
          4453.416666666667,
          1555.5698924731182,
          969.5342465753424,
          3810,
          1638.9315068493152,
          7268.210526315789,
          1876.655172413793,
          2131.2083333333335,
          1409.3214285714287,
          1956.4745762711864,
          2466.0476190476193,
          1522,
          576.7136563876652,
          951.625,
          1100.6666666666667,
          685.8367346938776,
          1863.4285714285713,
          2087.625,
          1730.625,
          1578.388888888889,
          11568.444444444445,
          676.9285714285714,
          302.55223880597015,
          4234.333333333333,
          9630,
          1842.5384615384614,
          273,
          1569.2121212121212,
          3091.4,
          1242.5,
          934.1538461538462,
          16500,
          1513.6923076923076,
          1256.6875,
          5200,
          1874.5238095238096,
          2608.3182593856654,
          1667.7777777777778,
          2127.810810810811,
          3457.5,
          1672.1739130434783,
          2376.6415094339623,
          1746.7058823529412,
          61400,
          3035.6341463414633,
          1580.7692307692307,
          1945.2054794520548,
          814.1111111111111,
          5822.676470588235,
          3818.6393442622953,
          1485.2571428571428,
          3207,
          1773.6842105263158,
          886.125,
          245.84375,
          1464.3333333333333,
          1333.7692307692307,
          1184.6666666666667,
          1186.2967032967033,
          3239.9333333333334,
          18600,
          2187.5,
          1609.2,
          1790.1875,
          1289,
          1663,
          1393.2857142857142,
          2213.2105263157896,
          1889.8333333333333,
          4785.833333333333,
          1465,
          1779.3,
          1551.8333333333333,
          1478.3333333333333,
          1580.344827586207,
          10001.023255813954,
          1942.3045454545454,
          3706.6666666666665,
          1525.357142857143,
          2095.44262295082,
          1648.590909090909,
          1454.611111111111,
          1618.1153846153845,
          2091.3636363636365,
          1536.8095238095239,
          1676.4166666666667,
          1419.625,
          1511.3636363636363,
          1475.6461538461538,
          1328.888888888889,
          1918,
          1737.857142857143,
          2741.4189189189187,
          2140.8571428571427,
          2063.5,
          1619.2857142857142,
          4199.444444444444,
          13175,
          1456.234375,
          5578.75,
          2391.9753086419755,
          1854,
          1474.2142857142858,
          1412.6470588235295,
          1825.375,
          1975.7142857142858,
          3945,
          1756.1666666666667,
          1336.4137931034484,
          1800.923076923077,
          12423.57142857143,
          2053.1428571428573,
          1596,
          2321,
          1675.111111111111,
          8128.5352112676055,
          4015.0666666666666,
          2287.6666666666665,
          1017.5454545454545,
          2040.2380952380952,
          4987.555555555556,
          2848.035714285714,
          1350,
          1047.4117647058824,
          1218.7142857142858,
          1430.6166666666666,
          332.95454545454544,
          808.578125,
          1513.888888888889,
          2288.9583333333335,
          1244.5438596491229,
          1829.5,
          367.0204081632653,
          1617.0714285714287,
          1843.48623853211,
          1561.117117117117,
          2275,
          2235.294117647059,
          1461.6969696969697,
          1671.4,
          2809.089285714286,
          1837.7777777777778,
          2950.3777777777777,
          1353.142857142857,
          1712.148148148148,
          1575,
          1765.7222222222222,
          3741.733333333333,
          1783.1025641025642,
          1484.4,
          4158.690909090909,
          1296.6,
          2630.4545454545455,
          9353.92,
          926.6666666666666,
          1928.5072463768115,
          1982.2142857142858,
          1608.9285714285713,
          1758.875,
          1872.857142857143,
          24480,
          4227.142857142857,
          3749.1875,
          1328.8416666666667,
          1815.96875,
          2023.2142857142858,
          1757.5,
          2606.6666666666665,
          1362.6666666666667,
          2190.9423076923076,
          1443.4888888888888,
          2136.7727272727275,
          4650,
          2226.1,
          1044.8947368421052,
          3018.6,
          3015.478260869565,
          1631.8181818181818,
          1581.578947368421,
          1615.4117647058824,
          1628.6021505376343,
          2182.2916666666665,
          2181.8,
          2090,
          1463.3333333333333,
          1294.4117647058824,
          2197.44128113879,
          1843.060606060606,
          2778.6111111111113,
          1749.896551724138,
          1928.3157894736842,
          3695.625,
          1554.0227272727273,
          684.4074074074074,
          2003.032258064516,
          2070,
          1650.3428571428572,
          13301.313953488372,
          201.57142857142858,
          511.13392857142856,
          932.9054054054054,
          5160.909090909091,
          1000.2765957446809,
          907.8235294117648,
          2253.1388888888887,
          403.7291666666667,
          1588.5714285714287,
          2096.4095238095238,
          9903.333333333334,
          1752.5348837209303,
          17900,
          3880.6666666666665,
          227.5744680851064,
          1315.666259168704,
          457.72093023255815,
          375.1875,
          1341.469387755102,
          548.021645021645,
          8913.157894736842,
          617.939024390244,
          4244,
          1630,
          3187.03125,
          844.952380952381,
          525.7142857142857,
          779.4166666666666,
          1089.2328767123288,
          428.9865470852018,
          413.72340425531917,
          1550.1,
          762.9230769230769,
          814.5,
          3924.3333333333335,
          1395.6,
          1258.25,
          549.8709175738725,
          849.061403508772,
          1022.0175438596491,
          764.65,
          2019.4285714285713,
          383,
          441.3181818181818,
          1308.857142857143,
          798.1769911504425,
          1497,
          537.4166666666666,
          5275.3,
          618.7777777777778,
          962.8055555555555,
          2707.5454545454545,
          425.28,
          836.6271186440678,
          677.5,
          583.072463768116,
          3361.6666666666665,
          2027.2407407407406,
          895.6666666666666,
          927.95,
          1313.7096774193549,
          572.3333333333334,
          5348.262295081967,
          1473.2142857142858,
          1633.65625,
          2121.6923076923076,
          2705.516129032258,
          2106,
          3811.4285714285716,
          1655.7241379310344,
          3360.8928571428573,
          1588.3947368421052,
          2532,
          1188.6875,
          3798,
          1447.4285714285713,
          2543.3333333333335,
          2122.0149253731342,
          2298.5714285714284,
          1009.5757575757576,
          846.6162790697674,
          1834.8333333333333,
          1411.8285714285714,
          2939.391304347826,
          1633.5714285714287,
          2093.7098039215684,
          2619.6428571428573,
          1689.9310344827586,
          1737.5,
          1370,
          1943.8461538461538,
          30080,
          2066,
          4777.666666666667,
          1081.2941176470588,
          3647.5,
          1463.888888888889,
          849.5483870967741,
          2807.269230769231,
          1814.5454545454545,
          540.377358490566,
          2788.125,
          1120.5625,
          2110.0704225352115,
          1758.5714285714287,
          13514.829268292682,
          1460,
          2124.032258064516,
          1804.1818181818182,
          1840.7857142857142,
          2396.4285714285716,
          2052.075,
          1806.962962962963,
          1308,
          1599.7058823529412,
          1948.3033707865168,
          2282.8571428571427,
          2918.6491228070176,
          2148.285714285714,
          2227.815789473684,
          1500,
          1434.4754098360656,
          1920,
          2067.315789473684,
          1712,
          12602.76923076923,
          1637.2,
          3386.230769230769,
          444.51612903225805,
          1459.1666666666667,
          2346.3333333333335,
          1712.1724137931035,
          1867.8139534883721,
          8730,
          1441.1891891891892,
          842.0787878787879,
          1094.1145038167938,
          1723.9,
          510,
          2950,
          2304.3529411764707,
          334.1621621621622,
          1105.4556213017752,
          930,
          614.9723404255319,
          1405,
          1497.8333333333333,
          310,
          1741,
          2329.181818181818,
          1936,
          4140,
          1762,
          931.6666666666666,
          2264.5714285714284,
          2174.896551724138,
          1423.125,
          1420.7142857142858,
          1567.103448275862,
          965.5509065550907,
          3260,
          1732.0945945945946,
          1465.8333333333333,
          1440.25,
          1492.5,
          1973.3333333333333,
          1572.609375,
          2097.931818181818,
          2134.5,
          1920.9107142857142,
          1582.7272727272727,
          1877.3684210526317,
          1525.2631578947369,
          1827.857142857143,
          1691.9607843137255,
          7398.75,
          2249.25,
          1574.4310344827586,
          5988.695652173913,
          1578.3846153846155,
          7675,
          2849.3189655172414,
          3833.5,
          1795.1267605633802,
          1999.2,
          373.33846153846156,
          283.3181818181818,
          680.2173913043479,
          1612.235294117647,
          696.9462365591398,
          1059.1666666666667,
          1238.7307692307693,
          717.5677419354839,
          2358.9285714285716,
          901.329268292683,
          2647.4462809917354,
          3696.785714285714,
          334.02702702702703,
          888.7307692307693,
          718.3445945945946,
          1970,
          1426.6666666666667,
          379.3703703703704,
          870.2352941176471,
          1647.4074074074074,
          4666.666666666667,
          862.5,
          3091.818181818182,
          1000.7142857142857,
          1622.7700534759358,
          3847.4545454545455,
          275.2083333333333,
          2600,
          5250,
          9805.464285714286,
          6671.7037037037035,
          2049,
          1195.7317073170732,
          308.7415730337079,
          1773.5796460176991,
          1700.3703703703704,
          534.2765957446809,
          539.8947368421053,
          1079.3181818181818,
          1004.248322147651,
          902.6923076923077,
          659.5454545454545,
          324.859649122807,
          5526.588235294118,
          829.2790697674419,
          362.2105263157895,
          472.52,
          536.1075268817204,
          920.7,
          12256.847969782813,
          2011.45,
          3175.875,
          2487.5,
          1959.7058823529412,
          1890.75,
          2349.3333333333335,
          1588.75,
          1419,
          2974,
          490.3061224489796,
          3165,
          2324,
          1697.142857142857,
          572.2551020408164,
          1472.235294117647,
          1915.58,
          1481.5,
          1947.8181818181818,
          3420,
          12384,
          15039,
          7161.111111111111,
          44333.333333333336,
          400.86983154670753,
          1682.5,
          6380,
          2005.6153846153845,
          365,
          587.4565217391304,
          340.2151898734177,
          426.36551724137934,
          1220.25,
          1121.9,
          299.5242718446602,
          693.8125,
          566.1212121212121,
          861.8823529411765,
          977.8695652173913,
          481.6521739130435,
          1030.4,
          5850,
          2586.31914893617,
          1310.1675675675676,
          1528.8478260869565,
          3259.8,
          4261.666666666667,
          1003.9285714285714,
          1882.1666666666667,
          545.1764705882352,
          1080.3939393939395,
          609.042194092827,
          4594.195652173913,
          1458.3333333333333,
          1176.1408450704225,
          1031.5294117647059,
          1743.7272727272727,
          1193.1818181818182,
          811.2992125984252,
          873.0986394557823,
          2835.181818181818,
          908.64,
          1272.8130081300812,
          278.7888888888889,
          2079.222222222222,
          828.8736383442266,
          1045.3488372093022,
          993.1810344827586,
          2297,
          4000,
          7920,
          1157.3333333333333,
          1906,
          2029.2340425531916,
          1591.5185185185185,
          4085.4444444444443,
          1121.7368421052631,
          1964.0967741935483,
          1093.5185185185185,
          529.3663366336634,
          694.5701219512196,
          471.35135135135135,
          1863.4814814814815,
          333.9105691056911,
          2329.4,
          5100,
          389.43636363636364,
          1216.5942028985507,
          1553.3478260869565,
          1778.888888888889,
          1920.8936170212767,
          1670.2727272727273,
          1504.32,
          2462.277777777778,
          802.6296296296297,
          356.9032258064516,
          1570,
          1370.968253968254,
          2193.8571428571427,
          1900,
          17900,
          1203.75,
          2206.409090909091,
          3605.6,
          647.1830065359477,
          831.625,
          1120,
          3340.5714285714284,
          380.1518987341772,
          9884,
          759.4722222222222,
          1100.983606557377,
          2909.5384615384614,
          5124,
          2502,
          269.4869565217391,
          537.8235294117648,
          335.3333333333333,
          701.6969696969697,
          1565.888888888889,
          316.13513513513516,
          1546.655172413793,
          329.03389830508473,
          1487.4642857142858,
          3314.2105263157896,
          3798.4285714285716,
          8402.380952380952,
          1498.5714285714287,
          922.5714285714286,
          9960,
          471.1041666666667,
          911.3793103448276,
          1912.1818181818182,
          1898.2056737588653,
          1670.8139534883721,
          1293.391304347826,
          516.0714285714286,
          1262.076923076923,
          995.4835164835165,
          1429.159420289855,
          1474.2777777777778,
          7740,
          592.5840707964602,
          2636.057142857143,
          1739.6440677966102,
          3119.391304347826,
          1819.2978723404256,
          6966.222222222223,
          2118.3893805309735,
          2324.5652173913045,
          2273.1428571428573,
          925.8888888888889,
          986.0783132530121,
          1359,
          1530.4642857142858,
          2307.2820512820513,
          1807.5806451612902,
          1198.448275862069,
          2146,
          1920.6829268292684,
          574.3,
          4443,
          318.71794871794873,
          2850,
          2016,
          1589.0567375886526,
          5393.555555555556,
          1800.3902439024391,
          1637.4375,
          2289.1363636363635,
          1923.6,
          1395,
          2256.5384615384614,
          1607.4545454545455,
          1414.909090909091,
          2182.5,
          1014.78125,
          3068.222222222222,
          1767.9,
          2500,
          1995.25,
          1886.8157894736842,
          899.6071428571429,
          1398.7894736842106,
          3162.777777777778,
          3963.75,
          1666.3125,
          1767.9150943396226,
          1553.3333333333333,
          1779.7857142857142,
          1187.1777777777777,
          1062,
          2280.705882352941,
          2412.1739130434785,
          813.6,
          1712.44,
          2035.7560975609756,
          1627.1014492753623,
          7316.666666666667,
          1656.1290322580646,
          2122.2727272727275,
          4579.25,
          2732.7375,
          3123.267981438515,
          1115.3333333333333,
          3372.9803921568628,
          1719.8831168831168,
          1991.925,
          1603.111111111111,
          2012.875,
          7610.25,
          1749.4736842105262,
          1987.6603773584907,
          1609.8,
          1860.2,
          1824.6153846153845,
          1418.65,
          1039.6,
          3017,
          1699.923076923077,
          2030.7777777777778,
          1773.7534246575342,
          1810.3548387096773,
          1620,
          11115.063829787234,
          3059.455882352941,
          2090.625,
          3028,
          1812.3333333333333,
          4488,
          634.4666666666667,
          1938.581818181818,
          1466.0142857142857,
          1646.6588235294118,
          1618.75,
          2435.714285714286,
          1707.4615384615386,
          2084.5636363636363,
          1835.625,
          1450.5,
          3772.9464285714284,
          1039.3333333333333,
          2849.6428571428573,
          1546.8490566037735,
          1881.9642857142858,
          4320,
          1884.3725490196077,
          3425.913043478261,
          872.4675324675325,
          1648.6857142857143,
          1679.0689655172414,
          1711.7118644067796,
          2387.4,
          1375.2,
          1865.7954545454545,
          2160.7027027027025,
          1599.7121212121212,
          1463.2549019607843,
          1904.2631578947369,
          1834.404255319149,
          2437.3684210526317,
          1576,
          1709.7142857142858,
          1626,
          433.61538461538464,
          1928,
          9270,
          1694.375,
          2268,
          13328,
          1889.4481481481482,
          1958.09375,
          1792.952380952381,
          1614.141791044776,
          3216.6666666666665,
          1850.357142857143,
          2048.85,
          486.4428571428571,
          1496.5483870967741,
          1438.4615384615386,
          2119.2727272727275,
          469.2631578947368,
          677.375,
          527.9459459459459,
          1183.611111111111,
          563.4,
          4337,
          2617.7727272727275,
          1330.4615384615386,
          992.0925925925926,
          374.1039697542533,
          758.7916666666666,
          2367.5,
          2949.135135135135,
          1167.725,
          1634.2857142857142,
          1563.8947368421052,
          5240,
          9668,
          1771.1532258064517,
          44550,
          1620,
          2109.4736842105262,
          1374.1063829787233,
          2030.8125,
          4230.714285714285,
          2093.1052631578946,
          1552.7475728155339,
          656.2826086956521,
          2120.3928571428573,
          1495.1764705882354,
          1693.423076923077,
          1519.578947368421,
          8544,
          2036.774193548387,
          3000,
          1656.2,
          1709.4444444444443,
          5853,
          1678.9880952380952,
          2415,
          2215.984375,
          1414,
          1828.8181818181818,
          1890.9324324324325,
          1747.7115384615386,
          1191.235294117647,
          1803.9473684210527,
          13392.461538461539,
          803.2142857142857,
          1245.1509433962265,
          753.6,
          1298.9397071490096,
          1933.0212765957447,
          7632,
          9322.36936936937,
          277,
          832.2669902912621,
          577.5081967213115,
          1020,
          1874.4444444444443,
          743.3448275862069,
          1230,
          242.62962962962962,
          2360.842105263158,
          1157.4545454545455,
          397.8265306122449,
          1026.25,
          720.84375,
          2040,
          2614.2631578947367,
          10033.181818181818,
          2514.4333333333334,
          2604,
          1904.6962962962964,
          655.476947535771,
          10765.4,
          1541,
          7208.260273972603,
          1350.047619047619,
          1254.5679611650485,
          483.26,
          5134.388888888889,
          835,
          26667,
          281.912,
          559.4,
          1613.4724409448818,
          1650,
          1659.3333333333333,
          1770,
          1667.6666666666667,
          2438,
          2082.2105263157896,
          2118.4736842105262,
          5312.884615384615,
          875.4,
          2792,
          2049.5833333333335,
          1909.1153846153845,
          1341.5714285714287,
          5190,
          1885.75,
          1174,
          1440.5384615384614,
          3201.4285714285716,
          1693.8,
          3788.266666666667,
          1915.2307692307693,
          2721.0363636363636,
          1249.53125,
          6035.454545454545,
          1836.15625,
          1585.3589743589744,
          1481.3333333333333,
          2499.2063492063494,
          1610,
          857.6521739130435,
          2923.8275862068967,
          1618.888888888889,
          1914.1515151515152,
          4471,
          2574.0425531914893,
          1266.6363636363637,
          1598.764705882353,
          3497,
          734.0991379310345,
          1644.2857142857142,
          1625,
          1831.4027777777778,
          1247.0068493150684,
          4500,
          1834.5,
          1628.3333333333333,
          1980,
          488.4,
          619.6290322580645,
          930.9545454545455,
          1735.1,
          15772.333333333334,
          2266.425531914894,
          1766.6129032258063,
          2210.4615384615386,
          1403.7471264367816,
          1665,
          5363.142857142857,
          8446.461538461539,
          1624.3333333333333,
          994.448275862069,
          964.5,
          2265,
          1521.0666666666666,
          2798.684210526316,
          2545.235294117647,
          2087.5,
          2355.35,
          2408.5714285714284,
          4818.75,
          1499.1333333333334,
          1564.6875,
          1666.7368421052631,
          1487.8958333333333,
          2325.714285714286,
          2176.5,
          1747.75,
          1900.7926829268292,
          1193.6842105263158,
          1978.5656565656566,
          1810.7777777777778,
          1347.2857142857142,
          2405.103448275862,
          1511.875,
          4781.333333333333,
          1739.7777777777778,
          1641.9642857142858,
          2425.4545454545455,
          1131.6,
          1832.142857142857,
          1454.5,
          1693.0555555555557,
          1716.5384615384614,
          1805.8333333333333,
          1627.611111111111,
          8865.720588235294,
          1994.0714285714287,
          2382,
          1648.3333333333333,
          1977.2857142857142,
          1658.076923076923,
          1690.662162162162,
          2084.234375,
          952.1706161137441,
          13033.91304347826,
          1454.3703703703704,
          2018.6,
          1626.3076923076924,
          1512.7058823529412,
          1594.3896103896104,
          1717.2222222222222,
          595,
          2266.3636363636365,
          8516.904761904761,
          3286.3,
          1708.295081967213,
          1605.40625,
          29500,
          2072,
          1502.75,
          8500,
          366.4788732394366,
          1515.7142857142858,
          1473.3846153846155,
          1622.5,
          1736.6666666666667,
          545.3720930232558,
          1801.25,
          3139.6666666666665,
          3230,
          824,
          667.9285714285714,
          3185.5555555555557,
          2257.6153846153848,
          2181.3296703296705,
          2782,
          2362.6153846153848,
          1483.05,
          8040,
          2392.153846153846,
          2048,
          11474,
          1919.8111111111111,
          1641.923076923077,
          8235.906976744185,
          1527.2222222222222,
          1687.9130434782608,
          1747.448275862069,
          11832.464,
          1469.5,
          12011.111111111111,
          617.5135135135135,
          820.5625,
          7705.285714285715,
          821.92,
          644.375,
          687.2272727272727,
          2032.5,
          4272.672131147541,
          1564.1666666666667,
          630.9401709401709,
          2151.772151898734,
          2125.6060606060605,
          3844.62091503268,
          671.876404494382,
          11144,
          4381.714285714285,
          1409.6666666666667,
          475.75,
          3276.6,
          2036.5892857142858,
          2400.6206896551726,
          585.5487804878048,
          1950,
          2050.4761904761904,
          1429.9122807017543,
          3874.1666666666665,
          1542.4,
          2580.15,
          1240.8235294117646,
          1801.125,
          3031.4285714285716,
          886.8846153846154,
          1954.5,
          1541.0588235294117,
          1047.0555555555557,
          363.3931623931624,
          1305.621212121212,
          1619.8076923076924,
          1720.6206896551723,
          1527.2592592592594,
          1349.076923076923,
          2815.722222222222,
          1922.7611940298507,
          3223.75,
          2928.5593220338983,
          1937.4375,
          1992.037037037037,
          1820.28,
          3459.1666666666665,
          1388.2622950819673,
          688.75,
          872.6428571428571,
          1775,
          1989,
          2539.2,
          1797.1838565022422,
          631.8181818181819,
          1693.2051282051282,
          2180,
          1727.1896551724137,
          9950,
          914.5961538461538,
          2202.8571428571427,
          1049,
          2818.8837209302324,
          11006.917981072555,
          2647.304347826087,
          14620,
          91.2,
          193.68421052631578,
          2125,
          1783,
          1961.1038961038962,
          1973.4,
          589.8928571428571,
          1480.8,
          1605,
          1660.1683673469388,
          365.135593220339,
          704.2857142857143,
          1325.75,
          1741.923076923077,
          1447.864406779661,
          2667.0677966101694,
          1662,
          708.6,
          1654.1785714285713,
          1492.6739130434783,
          1504.125,
          1951.787234042553,
          1834.2857142857142,
          2208.1363636363635,
          1663.6530612244899,
          1882.7,
          481.7567567567568,
          1969.5714285714287,
          672.8656716417911,
          1398.4848484848485,
          1726.0227272727273,
          932.5795454545455,
          1198.576923076923,
          29012,
          2796.659574468085,
          13266.652173913044,
          1614.1627906976744,
          1159.4166666666667,
          711.36,
          1213.1333333333334,
          1325.2,
          1287.7142857142858,
          1943.25,
          893.5370370370371,
          1727.923076923077,
          468.6222222222222,
          2334,
          1971.1764705882354,
          831.7142857142857,
          2007.4566929133857,
          1632.875,
          1545.4736842105262,
          1509.2857142857142,
          1926.6410256410256,
          2531.266666666667,
          1678.125,
          1381.3246753246754,
          8180,
          694.1176470588235,
          1429.7954545454545,
          762.5,
          1741.7105263157894,
          3163.8387096774195,
          1566.4285714285713,
          1146,
          4271.521739130435,
          577.5182926829268,
          443.9655172413793,
          584.4776119402985,
          902.5555555555555,
          55064,
          1349.516129032258,
          2171.31914893617,
          391.44444444444446,
          470.3333333333333,
          344.3375,
          1519.076923076923,
          2761.6373626373625,
          3432.4594594594596,
          2805,
          1815,
          602.156862745098,
          761.25,
          267.0833333333333,
          1646.48,
          3180,
          1997.5106382978724,
          1899.3513513513512,
          356.037037037037,
          335.325,
          2279.1666666666665,
          2125.4615384615386,
          967.064,
          5088,
          2336,
          2228,
          1500,
          247.43,
          4724.35294117647,
          1567,
          1597.6153846153845,
          1399.6857142857143,
          1626.4814814814815,
          1332.7317073170732,
          3540,
          1501.25,
          1674.3333333333333,
          1658.5636363636363,
          1892.4444444444443,
          1488.7924528301887,
          1644,
          2200.025,
          1341.7333333333333,
          1370.4166666666667,
          3160,
          2231.5588235294117,
          1703.3333333333333,
          2475.785714285714,
          1737.5,
          4136.266666666666,
          1727.625,
          7809,
          2437.4074074074074,
          1233.4444444444443,
          3472,
          1970.7209302325582,
          1640.0697674418604,
          2005.4736842105262,
          1403.4,
          1775.888888888889,
          1646.8125,
          1955,
          1710.9655172413793,
          2338.0789473684213,
          1655.0384615384614,
          368.375,
          689.8791208791209,
          1650,
          1742.0336134453783,
          939.3035714285714,
          1912.923076923077,
          1650,
          5016.5,
          2017.6036585365853,
          3074.157894736842,
          2265,
          29500,
          656.1167512690355,
          3382.909090909091,
          1258.9868421052631,
          1665.423076923077,
          2404.4,
          545.875,
          1756.3076923076924,
          1763,
          3071.586956521739,
          2757,
          4432.444444444444,
          1079.3684210526317,
          1245,
          2560.285714285714,
          2102.3333333333335,
          2166.051724137931,
          2035.6881720430108,
          1281.75,
          1050,
          998.2,
          1340.8432835820895,
          2336.6363636363635,
          2690,
          6795.166666666667,
          642.7777777777778,
          3074.470588235294,
          5311.478260869565,
          2179.0625,
          1734,
          1356.8235294117646,
          1626.375,
          3642.5862068965516,
          2257.909090909091,
          1477.4666666666667,
          1734.873417721519,
          5980,
          4264.363636363636,
          1427.4,
          1969.4782608695652,
          1563.4814814814815,
          2737.3106796116504,
          1510.2222222222222,
          2139.547368421053,
          714.3333333333334,
          1983.4,
          1847.8591549295775,
          1708.9375,
          1787.215909090909,
          1448,
          1705.7241379310344,
          1926.9375,
          1516.611111111111,
          689.1481481481482,
          1904.5862068965516,
          2118.5714285714284,
          1359.8648648648648,
          2392.7272727272725,
          2091.6666666666665,
          1719.6923076923076,
          1949.1176470588234,
          1728.514705882353,
          1949,
          1818.939393939394,
          7470.897435897436,
          1566.8666666666666,
          2133.6428571428573,
          1489.3684210526317,
          1344.4728260869565,
          2190.5348837209303,
          3996,
          7480.615384615385,
          3568.6825396825398,
          5668.75,
          8935.09090909091,
          5581.875,
          2856.5714285714284,
          1486.6964285714287,
          2059.977876106195,
          3130.923076923077,
          1802.6338028169014,
          6222.722222222223,
          1289.0243902439024,
          1967.0588235294117,
          7896,
          1553.625,
          1208.695652173913,
          2478,
          2141.242424242424,
          6375,
          804.8627450980392,
          1937.4166666666667,
          3120,
          9000,
          3206.8571428571427,
          2225,
          1497.0833333333333,
          1826.3181818181818,
          1038.4074074074074,
          1431.7155963302753,
          1560.3636363636363,
          1275,
          3428.823529411765,
          1005.3181818181819,
          1287.5,
          3363.3333333333335,
          1755.142857142857,
          691.4444444444445,
          1640,
          211.59322033898306,
          1508.9701492537313,
          743.292372881356,
          1920.8105263157895,
          2138.3645833333335,
          1776.1714285714286,
          425.94172185430466,
          1899,
          10594.285714285714,
          8908.4,
          338.27450980392155,
          1511.625,
          2465.866666666667,
          4350.2,
          1704.2105263157894,
          2354.75,
          1444.8208955223881,
          512.2941176470588,
          1056.2727272727273,
          2080,
          1011.939393939394,
          1448,
          2015.5555555555557,
          2096.6923076923076,
          1252.142857142857,
          568.0927835051547,
          480.70030581039754,
          1609.5,
          17900,
          3252.8571428571427,
          21050,
          3705,
          1095.4545454545455,
          2698.277777777778,
          642,
          14966,
          6031,
          2077.323529411765,
          502.7105263157895,
          1154.2424242424242,
          1560.421052631579,
          1717.4475806451612,
          630.9846153846154,
          1793,
          6957.545454545455,
          1451.2692307692307,
          1631.16,
          900,
          393.625,
          1424.62,
          770,
          611.6521739130435,
          2105.2258064516127,
          7140,
          987.6279069767442,
          2855.3541666666665,
          2151.5325443786983,
          1707.6923076923076,
          1048.5897435897436,
          855.9166666666666,
          569.2857142857143,
          3736.8,
          960.2173913043479,
          1214.4594594594594,
          935.6451612903226,
          2205.566037735849,
          1068.75,
          1013.9420289855072,
          1439.6153846153845,
          2034.6363636363637,
          1835.9130434782608,
          3764.3333333333335,
          1546.4634146341464,
          1629.6888888888889,
          1026.025974025974,
          2592,
          1595.69,
          789.64,
          2987.019230769231,
          1530.8148148148148,
          471.4006968641115,
          2219.9636363636364,
          1774.4193548387098,
          1627.5,
          1700,
          2553.103448275862,
          3200,
          1616,
          1372.4545454545455,
          1375.3166666666666,
          1672.3243243243244,
          539.5454545454545,
          3060,
          1610.9375,
          1047.6153846153845,
          1674.888888888889,
          1604.5454545454545,
          6765.541666666667,
          939.578125,
          1427,
          1844.3333333333333,
          7650,
          2368.3636363636365,
          1876.6,
          1608.5,
          20736,
          4911.441176470588,
          1412.2473498233217,
          8553,
          3234.7428571428572,
          1806,
          5730.3557692307695,
          2749.4207870837536,
          1720.4705882352941,
          1797,
          5345.87037037037,
          2578.184039087948,
          897.6,
          4048,
          2788.105882352941,
          414.1304347826087,
          3848.4166666666665,
          2547,
          2773.3333333333335,
          1128.0744680851064,
          685.2222222222222,
          567.5263157894736,
          1648.3333333333333,
          4381.6,
          2503.875,
          1767.6,
          2535.714285714286,
          1534.45,
          1087.2814371257484,
          4648.5,
          1328.7674418604652,
          1835.20202020202,
          1979.8636363636363,
          1831.5,
          1767.32,
          1515.52,
          3886.25,
          1882.6470588235295,
          2688.222222222222,
          1251.25,
          1666.6666666666667,
          26666.666666666668,
          2466,
          1822.9615384615386,
          1794.8936170212767,
          1505.4280821917807,
          20400,
          1681.76,
          2163.6724137931033,
          2912.4307692307693,
          2097.549019607843,
          1804.3947368421052,
          1659.75,
          2001.6666666666667,
          1386.5260869565218,
          2783.3333333333335,
          1717,
          2784.277777777778,
          1645.2,
          1790.1818181818182,
          1705.7058823529412,
          1494.6,
          1453,
          1387.625,
          3155.4545454545455,
          10217.806451612903,
          604.2241379310345,
          1930.5555555555557,
          2032.3809523809523,
          1983,
          50244.75,
          294.6666666666667,
          1535,
          4055.573426573427,
          250.78021978021977,
          2490,
          1926.235294117647,
          1822.1666666666667,
          1653.4690265486727,
          534.2857142857143,
          2638.044943820225,
          1741.128205128205,
          1575.8,
          9036.666666666666,
          1886.1338028169014,
          1706.0983606557377,
          1611.032786885246,
          1857.857142857143,
          2004.3333333333333,
          707.5,
          2082.2727272727275,
          23590.303030303032,
          1160.4893617021276,
          1998.25,
          1698.3970588235295,
          696.2368421052631,
          47765.72222222222,
          1631.5,
          1439,
          3361.3,
          1541.9142857142858,
          4838.916666666667,
          647.1666666666666,
          1429,
          2165.3730964467004,
          2483.08,
          29700,
          2499.793103448276,
          1802.5,
          4030.1666666666665,
          7378,
          5094.30303030303,
          2205.1,
          37500,
          3237.59375,
          672.6086956521739,
          1301,
          16596.875,
          2970,
          1650.5,
          355.7142857142857,
          6350,
          5970,
          1674.5961538461538,
          1674.591836734694,
          8928,
          4257.142857142857,
          7252.857142857143,
          1799.375,
          1514.1639344262296,
          2362.925925925926,
          8500,
          686.8,
          1585.7142857142858,
          1551.590909090909,
          696.15,
          2320,
          1664.15,
          6846,
          2727.222222222222,
          471.7448979591837,
          1185.7111111111112,
          2278.6511627906975,
          1838.4375,
          316.64,
          1936,
          1843.076923076923,
          586.2352941176471,
          1934.857142857143,
          2311.9166666666665,
          1015.3662790697674,
          2264.3924050632913,
          1692.0074626865671,
          405.219512195122,
          1167.5,
          1735.9756097560976,
          1867.142857142857,
          1750.076923076923,
          1416.095238095238,
          2377.5,
          17853.485714285714,
          3953.3333333333335,
          1819.5,
          2124,
          1584.6041666666667,
          1741.3793103448277,
          1650.4,
          1611.7777777777778,
          13672.8,
          4633.333333333333,
          2010.952380952381,
          2405.740740740741,
          6296,
          1669.4,
          2030.6842105263158,
          1700,
          1790.9411764705883,
          27244.8,
          1543.3333333333333,
          2582,
          1708.9473684210527,
          1648.142857142857,
          2296.25,
          1794.5,
          2039.142857142857,
          2318.7246376811595,
          2632.717171717172,
          1567.03125,
          2261.090909090909,
          11640.09090909091,
          4482.882352941177,
          2372.75,
          3869.032258064516,
          8700,
          3285.653846153846,
          1581.3333333333333,
          2966.5857142857144,
          2537.5175879396984,
          3056,
          580,
          4562.37037037037,
          10840.875,
          7287.90243902439,
          1686.6666666666667,
          2285.125,
          627.0551343900759,
          4660.689655172414,
          9031.144,
          436.7261904761905,
          1520.952380952381,
          2790.962962962963,
          1819.3235294117646,
          1895.2941176470588,
          1880.2222222222222,
          5573.4375,
          1789.05,
          1621.0454545454545,
          3042.2359550561796,
          2011.888888888889,
          2027.0333333333333,
          868,
          1783.3636363636363,
          1650.9636363636364,
          1665.953947368421,
          1609.5652173913043,
          1287.076923076923,
          2082.1363636363635,
          1552.351851851852,
          1885.7333333333333,
          1734.5874125874127,
          2233.84375,
          3071.935483870968,
          1497.890625,
          4193.953271028037,
          1817.1487603305786,
          1871.16,
          1902.125786163522,
          1311.842105263158,
          1439.96,
          1901.8676470588234,
          3050.4117647058824,
          2206.9,
          2233.846153846154,
          2108.3333333333335,
          2000.6666666666667,
          2327.5833333333335,
          1598.2,
          2978.936507936508,
          1868.054054054054,
          2911.7894736842104,
          2637.256830601093,
          2596.1583333333333,
          2040.1598639455783,
          1693.8157894736842,
          2284.75,
          9366.776119402984,
          3072.1739130434785,
          2641.3030303030305,
          1378.64,
          2235,
          2718.659574468085,
          3899.4117647058824,
          2671.2948717948716,
          2100,
          1668.5384615384614,
          2526.8823529411766,
          3951.733333333333,
          1633.12,
          6035.172413793103,
          1327.5,
          1857.8666666666666,
          1891.5,
          1322.1333333333334,
          4166.029411764706,
          2794.3529411764707,
          2461.6140350877195,
          1660.1304347826087,
          6925.6,
          1671.4117647058824,
          1927.142857142857,
          1862.3939393939395,
          2334.6666666666665,
          1876.8461538461538,
          1487.480701754386,
          1785.2666666666667,
          2167.4411764705883,
          1858.28,
          1976.5093167701864,
          2410.2428571428572,
          3241.7,
          1662.148148148148,
          1556.875,
          1630,
          2977.898832684825,
          1593.1702127659576,
          5188.227272727273,
          1863.6363636363637,
          2171.6615384615384,
          1513.6363636363637,
          2107.056603773585,
          3640.75,
          1696.132075471698,
          1853.5,
          1720.7142857142858,
          2745.625,
          2814.8518518518517,
          1835.7073170731708,
          2360.135593220339,
          1992.7115384615386,
          2656.377358490566,
          1935,
          2461.4285714285716,
          1717.5,
          1369.8333333333333,
          3707.764705882353,
          2186.457142857143,
          2660.782608695652,
          1774.7058823529412,
          1590.5263157894738,
          2243.035714285714,
          510.5272727272727,
          1481.5692307692307,
          2033.5714285714287,
          507.42105263157896,
          2336.285714285714,
          2271.9921259842517,
          2062,
          1942.4666666666667,
          1761,
          2278,
          2352.108695652174,
          2028.3246753246754,
          2786.8947368421054,
          2345.714285714286,
          21487,
          1962.867256637168,
          12000,
          1688.888888888889,
          2093.3333333333335,
          2597.5,
          1719.4193548387098,
          2102.090909090909,
          2060.8888888888887,
          1904.3478260869565,
          2599.2008032128515,
          2055.5102040816328,
          2186.730769230769,
          1754.6818181818182,
          2269.75,
          2903,
          2040.5846153846153,
          2029.357142857143,
          1896.4,
          2896.3465346534654,
          1652.4705882352941,
          1599.923076923077,
          1837.8169014084508,
          1983.6,
          1782.3333333333333,
          914.22,
          5409.555555555556,
          2013.4285714285713,
          1744.4,
          454.45454545454544,
          2325.5,
          2116.6666666666665,
          7274.833333333333,
          292.5,
          6360,
          2720.3076923076924,
          1464.5283018867924,
          4958.333333333333,
          6909,
          1682.861111111111,
          1961,
          1354.4666666666667,
          1718,
          2252.0508474576272,
          2364.5833333333335,
          2331.6,
          1379.9674796747968,
          3503.2972972972975,
          2513.127659574468,
          1959.448275862069,
          2106.9615384615386,
          4067.380530973451,
          2916.9895833333335,
          1837.6217616580311,
          1860.3653846153845,
          1930.4125,
          5032.559241706161,
          1928.423076923077,
          1756.6666666666667,
          3143,
          1538.7222222222222,
          2084.3703703703704,
          2349.2608695652175,
          2534.5454545454545,
          3470.269230769231,
          2944.383333333333,
          1648.4324324324325,
          1677.3793103448277,
          2663.45,
          2659.2,
          2184.8105263157895,
          2306.8765432098767,
          1369.6,
          1905.3783783783783,
          2518.5426356589146,
          3466.8,
          1547.5384615384614,
          3214.207920792079,
          5921.0392156862745,
          2944.027777777778,
          2024.6666666666667,
          1951.7391304347825,
          2121.3,
          5903.68,
          1515.1,
          2114.653846153846,
          1806.5357142857142,
          1971.32,
          1905.4351851851852,
          17596.13502935421,
          3173.7272727272725,
          1913.75,
          3201.285714285714,
          10820.59375,
          2728.1898734177216,
          2242.4565217391305,
          2190,
          1732.5,
          1669.7083333333333,
          1930.21,
          2156.809523809524,
          1747.625,
          2616.1111111111113,
          1709.483870967742,
          2758.742424242424,
          6800,
          2120.809523809524,
          2571.7368421052633,
          1900.5102040816328,
          1991,
          1855.232142857143,
          1991.1851851851852,
          2571.6666666666665,
          1530.1860465116279,
          3925,
          1920.0084033613446,
          1850,
          2362.2622950819673,
          8155,
          4220.548780487805,
          5067.914893617021,
          3314.5454545454545,
          1757.8636363636363,
          2225,
          3421.3166666666666,
          1898.4615384615386,
          2429.1012658227846
         ],
         "xaxis": "x2",
         "yaxis": "y2"
        },
        {
         "name": "Количество категорий",
         "type": "histogram",
         "x": [
          859,
          18,
          108,
          8,
          7,
          5,
          6,
          1,
          43,
          9,
          19,
          33,
          6,
          7,
          50,
          8,
          54,
          2,
          9,
          12,
          18,
          2,
          58,
          35,
          25,
          33,
          14,
          25,
          53,
          1,
          17,
          47,
          8,
          32,
          8,
          3,
          49,
          57,
          6,
          54,
          12,
          24,
          1,
          27,
          7,
          16,
          10,
          19,
          13,
          13,
          21,
          73,
          12,
          35,
          16,
          41,
          68,
          1,
          10,
          20,
          4,
          9,
          28,
          41,
          10,
          12,
          41,
          30,
          38,
          22,
          1,
          6,
          51,
          8,
          15,
          31,
          10,
          9,
          12,
          23,
          12,
          13,
          5,
          23,
          17,
          3,
          3,
          5,
          64,
          11,
          35,
          8,
          5,
          15,
          5,
          6,
          76,
          6,
          67,
          14,
          11,
          145,
          81,
          19,
          4,
          42,
          9,
          20,
          11,
          21,
          64,
          11,
          8,
          37,
          24,
          3,
          14,
          4,
          12,
          23,
          1,
          11,
          9,
          32,
          16,
          45,
          38,
          9,
          11,
          7,
          83,
          1,
          6,
          51,
          6,
          10,
          11,
          3,
          9,
          83,
          3,
          43,
          20,
          107,
          9,
          5,
          42,
          15,
          18,
          3,
          3,
          9,
          88,
          14,
          1,
          38,
          29,
          21,
          8,
          18,
          13,
          19,
          27,
          32,
          60,
          2,
          37,
          4,
          10,
          17,
          9,
          27,
          6,
          63,
          73,
          12,
          5,
          7,
          102,
          36,
          24,
          82,
          18,
          6,
          16,
          1,
          7,
          150,
          24,
          18,
          7,
          13,
          1,
          1,
          4,
          7,
          11,
          36,
          17,
          11,
          37,
          13,
          4,
          13,
          13,
          11,
          1,
          58,
          151,
          20,
          45,
          2,
          6,
          5,
          3,
          21,
          21,
          21,
          40,
          8,
          12,
          13,
          18,
          7,
          20,
          7,
          43,
          25,
          54,
          5,
          3,
          10,
          19,
          5,
          8,
          77,
          14,
          40,
          3,
          72,
          13,
          36,
          10,
          95,
          17,
          39,
          11,
          6,
          10,
          5,
          21,
          1,
          21,
          446,
          17,
          39,
          14,
          2,
          7,
          12,
          25,
          38,
          11,
          23,
          3,
          137,
          10,
          132,
          9,
          6,
          33,
          29,
          110,
          27,
          23,
          40,
          10,
          3,
          33,
          25,
          35,
          9,
          38,
          38,
          2,
          67,
          14,
          14,
          76,
          39,
          35,
          10,
          16,
          81,
          112,
          47,
          50,
          15,
          1,
          4,
          41,
          8,
          43,
          15,
          152,
          17,
          22,
          29,
          64,
          83,
          48,
          23,
          3,
          39,
          21,
          54,
          4,
          99,
          6,
          7,
          7,
          20,
          2,
          120,
          32,
          21,
          29,
          35,
          12,
          27,
          2,
          12,
          40,
          16,
          9,
          11,
          7,
          85,
          62,
          22,
          16,
          11,
          10,
          71,
          18,
          103,
          9,
          66,
          20,
          9,
          6,
          24,
          8,
          43,
          9,
          29,
          24,
          35,
          34,
          21,
          11,
          32,
          60,
          64,
          36,
          38,
          3,
          20,
          49,
          21,
          3,
          4,
          19,
          84,
          26,
          31,
          6,
          59,
          2,
          86,
          20,
          19,
          6,
          36,
          12,
          7,
          99,
          55,
          195,
          57,
          35,
          31,
          6,
          128,
          6,
          64,
          17,
          23,
          98,
          15,
          7,
          47,
          8,
          95,
          13,
          22,
          105,
          21,
          28,
          2,
          103,
          9,
          4,
          46,
          41,
          41,
          7,
          24,
          15,
          10,
          5,
          26,
          36,
          1,
          21,
          9,
          2,
          14,
          4,
          32,
          9,
          6,
          125,
          78,
          20,
          7,
          36,
          15,
          23,
          6,
          42,
          16,
          27,
          3,
          9,
          181,
          35,
          13,
          41,
          9,
          25,
          64,
          24,
          8,
          25,
          10,
          14,
          7,
          42,
          45,
          12,
          9,
          28,
          15,
          8,
          89,
          28,
          26,
          11,
          4,
          60,
          7,
          9,
          9,
          3,
          24,
          5,
          28,
          35,
          66,
          20,
          2,
          51,
          3,
          8,
          4,
          29,
          9,
          24,
          5,
          21,
          101,
          1,
          98,
          8,
          35,
          6,
          78,
          6,
          77,
          6,
          4,
          14,
          16,
          21,
          8,
          2,
          26,
          46,
          19,
          8,
          81,
          15,
          13,
          2,
          8,
          1,
          24,
          9,
          11,
          16,
          2,
          29,
          21,
          57,
          10,
          29,
          8,
          17,
          37,
          18,
          39,
          20,
          102,
          93,
          16,
          11,
          34,
          12,
          11,
          4,
          12,
          7,
          5,
          60,
          1,
          92,
          19,
          12,
          19,
          4,
          146,
          163,
          4,
          16,
          1,
          3,
          10,
          4,
          54,
          47,
          21,
          117,
          30,
          15,
          6,
          26,
          7,
          6,
          37,
          17,
          20,
          18,
          45,
          1,
          22,
          35,
          9,
          40,
          87,
          51,
          40,
          14,
          40,
          3,
          23,
          40,
          25,
          6,
          3,
          23,
          7,
          13,
          37,
          48,
          38,
          5,
          86,
          7,
          7,
          117,
          24,
          18,
          11,
          115,
          8,
          20,
          55,
          4,
          14,
          10,
          15,
          42,
          123,
          18,
          39,
          4,
          34,
          36,
          2,
          26,
          24,
          52,
          3,
          46,
          1,
          11,
          26,
          7,
          10,
          30,
          29,
          10,
          22,
          4,
          13,
          7,
          7,
          10,
          5,
          6,
          31,
          2,
          43,
          46,
          29,
          22,
          7,
          3,
          14,
          4,
          30,
          10,
          22,
          7,
          11,
          115,
          13,
          16,
          10,
          5,
          36,
          5,
          27,
          18,
          5,
          13,
          4,
          5,
          4,
          14,
          43,
          7,
          61,
          125,
          43,
          7,
          56,
          8,
          19,
          7,
          39,
          54,
          13,
          39,
          46,
          35,
          79,
          14,
          42,
          1,
          2,
          15,
          5,
          32,
          58,
          30,
          43,
          35,
          39,
          17,
          23,
          9,
          32,
          4,
          60,
          26,
          31,
          6,
          19,
          89,
          62,
          18,
          34,
          13,
          13,
          34,
          37,
          22,
          10,
          13,
          40,
          20,
          8,
          12,
          8,
          8,
          1,
          49,
          1,
          1,
          6,
          52,
          2,
          30,
          76,
          37,
          13,
          15,
          15,
          16,
          25,
          37,
          10,
          1,
          6,
          9,
          42,
          1,
          7,
          16,
          1,
          12,
          113,
          44,
          41,
          13,
          25,
          2,
          26,
          19,
          17,
          13,
          5,
          14,
          7,
          11,
          39,
          6,
          9,
          6,
          15,
          1,
          11,
          36,
          12,
          26,
          6,
          12,
          66,
          9,
          65,
          89,
          22,
          24,
          202,
          19,
          24,
          35,
          1,
          23,
          106,
          32,
          53,
          48,
          4,
          15,
          15,
          7,
          52,
          130,
          11,
          24,
          51,
          30,
          129,
          20,
          39,
          27,
          40,
          25,
          33,
          27,
          63,
          49,
          26,
          11,
          10,
          28,
          1,
          49,
          1,
          13,
          53,
          64,
          3,
          48,
          37,
          6,
          10,
          2,
          30,
          4,
          3,
          5,
          114,
          17,
          45,
          53,
          12,
          41,
          2,
          3,
          16,
          27,
          7,
          15,
          5,
          5,
          17,
          11,
          17,
          15,
          93,
          27,
          14,
          51,
          106,
          6,
          13,
          33,
          2,
          27,
          34,
          19,
          15,
          12,
          18,
          53,
          3,
          40,
          40,
          1,
          69,
          30,
          31,
          54,
          7,
          25,
          34,
          23,
          100,
          41,
          12,
          22,
          78,
          1,
          99,
          14,
          7,
          10,
          20,
          16,
          2,
          11,
          77,
          17,
          32,
          16,
          21,
          110,
          59,
          53,
          28,
          9,
          1,
          58,
          14,
          19,
          25,
          105,
          54,
          32,
          21,
          25,
          30,
          24,
          39,
          46,
          14,
          47,
          132,
          75,
          7,
          81,
          37,
          62,
          53,
          33,
          69,
          3,
          3,
          34,
          2,
          9,
          7,
          5,
          164,
          33,
          58,
          10,
          8,
          44,
          34,
          23,
          12,
          2,
          71,
          37,
          9,
          25,
          4,
          2,
          64,
          7,
          89,
          10,
          40,
          22,
          17,
          6,
          6,
          17,
          14,
          8,
          27,
          45,
          27,
          1,
          30,
          28,
          31,
          16,
          49,
          28,
          3,
          11,
          4,
          8,
          38,
          4,
          9,
          30,
          5,
          4,
          74,
          66,
          18,
          17,
          23,
          8,
          5,
          48,
          27,
          14,
          71,
          6,
          21,
          9,
          4,
          11,
          4,
          20,
          22,
          20,
          27,
          36,
          2,
          25,
          4,
          8,
          105,
          4,
          83,
          10,
          13,
          30,
          10,
          73,
          100,
          11,
          1,
          7,
          25,
          18,
          34,
          35,
          10,
          10,
          9,
          7,
          36,
          65,
          44,
          25,
          12,
          3,
          43,
          1,
          52,
          10,
          3,
          29,
          4,
          6,
          38,
          47,
          42,
          25,
          28,
          19,
          26,
          19,
          14,
          35,
          6,
          48,
          4,
          82,
          13,
          32,
          60,
          2,
          43,
          72,
          13,
          21,
          61,
          20,
          6,
          36,
          25,
          1,
          9,
          8,
          28,
          6,
          11,
          2,
          33,
          32,
          74,
          15,
          72,
          25,
          33,
          4,
          19,
          2,
          4,
          86,
          3,
          37,
          20,
          28,
          2,
          61,
          48,
          2,
          8,
          3,
          31,
          16,
          15,
          40,
          64,
          27,
          49,
          22,
          11,
          1,
          3,
          11,
          14,
          39,
          17,
          39,
          14,
          4,
          13,
          58,
          45,
          56,
          25,
          20,
          51,
          20,
          18,
          26,
          18,
          142,
          9,
          44,
          20,
          4,
          17,
          24,
          5,
          15,
          6,
          83,
          26,
          7,
          33,
          67,
          8,
          8,
          7,
          7,
          46,
          11,
          66,
          73,
          4,
          59,
          1,
          21,
          4,
          4,
          1,
          14,
          29,
          59,
          11,
          3,
          30,
          1,
          9,
          12,
          49,
          7,
          3,
          17,
          18,
          37,
          4,
          39,
          53,
          8,
          8,
          38,
          16,
          4,
          19,
          13,
          28,
          22,
          26,
          65,
          44,
          39,
          1,
          10,
          68,
          66,
          6,
          25,
          4,
          10,
          16,
          19,
          83,
          122,
          43,
          9,
          9,
          17,
          6,
          10,
          17,
          19,
          2,
          4,
          60,
          38,
          56,
          47,
          18,
          8,
          18,
          8,
          23,
          1,
          17,
          16,
          11,
          22,
          23,
          50,
          9,
          21,
          87,
          6,
          13,
          15,
          3,
          28,
          97,
          42,
          14,
          11,
          6,
          9,
          8,
          44,
          4,
          23,
          4,
          24,
          28,
          51,
          20,
          21,
          1,
          1,
          84,
          11,
          10,
          3,
          56,
          23,
          15,
          33,
          13,
          1,
          12,
          14,
          68,
          1,
          30,
          22,
          19,
          8,
          7,
          14,
          107,
          28,
          41,
          24,
          5,
          9,
          35,
          7,
          17,
          68,
          5,
          14,
          3,
          90,
          11,
          22,
          10,
          3,
          9,
          14,
          13,
          21,
          13,
          12,
          6,
          7,
          11,
          25,
          12,
          12,
          49,
          24,
          10,
          61,
          4,
          1,
          30,
          16,
          10,
          29,
          18,
          13,
          50,
          34,
          5,
          38,
          50,
          5,
          64,
          36,
          15,
          13,
          1,
          36,
          12,
          15,
          29,
          7,
          234,
          62,
          23,
          23,
          6,
          30,
          34,
          12,
          49,
          67,
          23,
          36,
          10,
          46,
          28,
          30,
          35,
          8,
          105,
          34,
          19,
          6,
          140,
          26,
          71,
          2,
          16,
          28,
          8,
          15,
          122,
          26,
          7,
          27,
          47,
          14,
          58,
          4,
          9,
          12,
          19,
          3,
          25,
          35,
          18,
          37,
          24,
          30,
          7,
          10,
          15,
          6,
          7,
          11,
          7,
          4,
          6,
          19,
          45,
          11,
          7,
          12,
          37,
          23,
          10,
          52,
          12,
          103,
          4,
          98,
          56,
          16,
          11,
          38,
          7,
          9,
          8,
          2,
          33,
          15,
          10,
          10,
          24,
          5,
          15,
          12,
          67,
          47,
          7,
          99,
          30,
          13,
          1,
          52,
          86,
          43,
          41,
          104,
          34,
          56,
          13,
          27,
          14,
          44,
          7,
          18,
          9,
          33,
          20,
          15,
          17,
          102,
          31,
          14,
          28,
          28,
          38,
          18,
          9,
          9,
          21,
          6,
          53,
          15,
          11,
          21,
          24,
          41,
          32,
          15,
          43,
          27,
          13,
          79,
          95,
          1,
          8,
          66,
          58,
          4,
          35,
          24,
          1,
          36,
          42,
          74,
          36,
          4,
          2,
          1,
          13,
          4,
          17,
          7,
          13,
          14,
          10,
          74,
          34,
          20,
          1,
          28,
          51,
          68,
          9,
          1,
          105,
          90,
          2,
          10,
          19,
          28,
          3,
          29,
          8,
          26,
          17,
          15,
          7,
          46,
          70,
          8,
          17,
          131,
          6,
          41,
          3,
          3,
          18,
          4,
          51,
          56,
          26,
          1,
          44,
          3,
          116,
          46,
          84,
          13,
          13,
          1,
          10,
          53,
          6,
          12,
          46,
          110,
          12,
          38,
          52,
          19,
          6,
          19,
          1,
          24,
          5,
          31,
          17,
          19,
          3,
          14,
          12,
          18,
          11,
          93,
          12,
          57,
          97,
          13,
          5,
          39,
          15,
          35,
          32,
          26,
          14,
          14,
          75,
          6,
          15,
          28,
          73,
          1,
          12,
          12,
          8,
          25,
          25,
          1,
          9,
          91,
          20,
          13,
          25,
          48,
          15,
          17,
          26,
          22,
          54,
          28,
          7,
          30,
          7,
          50,
          62,
          28,
          86,
          12,
          10,
          25,
          12,
          150,
          10,
          11,
          15,
          19,
          61,
          180,
          27,
          17,
          13,
          19,
          16,
          22,
          8,
          74,
          102,
          43,
          181,
          14,
          34,
          2,
          41,
          9,
          25,
          31,
          4,
          67,
          16,
          30,
          88,
          1,
          44,
          1,
          43,
          18,
          19,
          34,
          11,
          72,
          15,
          148,
          6,
          82,
          21,
          56,
          1,
          26,
          68,
          38,
          9,
          28,
          19,
          48,
          31,
          7,
          35,
          16,
          87,
          7,
          26,
          14,
          81,
          26,
          20,
          19,
          18,
          5,
          1,
          72,
          19,
          19,
          29,
          60,
          21,
          19,
          32,
          101,
          54,
          9,
          1,
          3,
          25,
          14,
          87,
          26,
          9,
          5,
          7,
          24,
          11,
          91,
          5,
          5,
          18,
          5,
          16,
          20,
          4,
          6,
          4,
          23,
          6,
          27,
          1,
          21,
          11,
          85,
          3,
          10,
          61,
          57,
          2,
          43,
          17,
          31,
          44,
          24,
          30,
          18,
          111,
          68,
          26,
          41,
          35,
          5,
          13,
          12,
          15,
          8,
          45,
          38,
          8,
          4,
          23,
          28,
          30,
          20,
          8,
          18,
          1,
          22,
          15,
          1,
          18,
          229,
          9,
          32,
          5,
          19,
          43,
          13,
          3,
          50,
          9,
          51,
          12,
          22,
          53,
          22,
          24,
          44,
          8,
          31,
          25,
          13,
          14,
          56,
          11,
          2,
          4,
          21,
          15,
          8,
          5,
          11,
          24,
          22,
          5,
          4,
          29,
          11,
          8,
          28,
          31,
          108,
          3,
          12,
          30,
          19,
          16,
          53,
          23,
          19,
          22,
          51,
          9,
          52,
          9,
          19,
          10,
          55,
          29,
          5,
          10,
          7,
          4,
          54,
          3,
          34,
          10,
          35,
          13,
          8,
          13,
          3,
          23,
          36,
          16,
          3,
          7,
          5,
          94,
          14,
          49,
          22,
          6,
          10,
          14,
          7,
          23,
          2,
          14,
          7,
          48,
          21,
          37,
          9,
          132,
          48,
          33,
          40,
          14,
          70,
          142,
          15,
          14,
          52,
          24,
          54,
          8,
          39,
          7,
          21,
          5,
          22,
          14,
          33,
          13,
          29,
          37,
          11,
          48,
          2,
          47,
          40,
          14,
          13,
          6,
          1,
          6,
          14,
          56,
          28,
          9,
          16,
          2,
          46,
          39,
          37,
          20,
          2,
          9,
          17,
          19,
          16,
          10,
          18,
          15,
          72,
          22,
          10,
          3,
          8,
          11,
          48,
          29,
          14,
          21,
          7,
          14,
          37,
          22,
          53,
          85,
          23,
          15,
          7,
          61,
          51,
          11,
          28,
          13,
          30,
          39,
          12,
          63,
          3,
          42,
          3,
          3,
          38,
          169,
          30,
          60,
          73,
          122,
          11,
          43,
          3,
          4,
          23,
          33,
          34,
          12,
          145,
          127,
          36,
          20,
          12,
          10,
          2,
          15,
          8,
          152,
          82,
          34,
          17,
          7,
          25,
          21,
          6,
          67,
          13,
          12,
          19,
          8,
          33,
          9,
          24,
          49,
          6,
          54,
          3,
          72,
          18,
          17,
          19,
          6,
          51,
          13,
          21,
          10,
          57,
          7,
          7,
          47,
          21,
          26,
          3,
          21,
          4,
          7,
          6,
          46,
          5,
          31,
          92,
          18,
          27,
          15,
          7,
          129,
          12,
          20,
          2,
          9,
          9,
          3,
          12,
          10,
          13,
          4,
          22,
          33,
          25,
          18,
          34,
          7,
          41,
          43,
          13,
          17,
          14,
          24,
          19,
          13,
          7,
          64,
          35,
          5,
          13,
          83,
          7,
          36,
          56,
          33,
          2,
          52,
          2,
          18,
          5,
          13,
          33,
          12,
          23,
          10,
          7,
          21,
          27,
          3,
          31,
          51,
          79,
          9,
          6,
          8,
          19,
          34,
          97,
          4,
          147,
          2,
          30,
          2,
          5,
          11,
          2,
          4,
          14,
          25,
          18,
          24,
          14,
          7,
          23,
          305,
          3,
          56,
          6,
          12,
          4,
          2,
          48,
          23,
          11,
          59,
          11,
          14,
          15,
          7,
          30,
          7,
          7,
          40,
          20,
          12,
          5,
          52,
          23,
          56,
          4,
          172,
          32,
          18,
          13,
          55,
          9,
          23,
          60,
          12,
          104,
          35,
          13,
          33,
          81,
          87,
          46,
          3,
          24,
          14,
          45,
          3,
          28,
          20,
          7,
          77,
          10,
          85,
          1,
          1,
          31,
          17,
          15,
          36,
          63,
          113,
          24,
          36,
          46,
          17,
          73,
          19,
          50,
          44,
          15,
          63,
          19,
          24,
          70,
          16,
          265,
          16,
          16,
          9,
          41,
          15,
          15,
          11,
          5,
          12,
          42,
          4,
          48,
          10,
          53,
          15,
          33,
          16,
          9,
          4,
          2,
          2,
          4,
          3,
          297,
          14,
          2,
          11,
          9,
          27,
          53,
          59,
          12,
          32,
          124,
          14,
          20,
          33,
          82,
          21,
          7,
          6,
          37,
          83,
          36,
          15,
          6,
          42,
          6,
          31,
          48,
          125,
          26,
          2,
          44,
          27,
          10,
          11,
          87,
          160,
          21,
          20,
          64,
          68,
          8,
          130,
          66,
          74,
          8,
          11,
          2,
          11,
          12,
          29,
          20,
          8,
          15,
          21,
          42,
          73,
          197,
          28,
          48,
          156,
          5,
          1,
          37,
          51,
          22,
          9,
          39,
          9,
          15,
          31,
          22,
          26,
          6,
          49,
          17,
          3,
          1,
          12,
          18,
          5,
          75,
          22,
          8,
          17,
          56,
          3,
          61,
          93,
          11,
          17,
          2,
          201,
          16,
          19,
          27,
          9,
          68,
          24,
          123,
          27,
          13,
          17,
          18,
          5,
          6,
          1,
          41,
          59,
          10,
          92,
          33,
          20,
          39,
          39,
          102,
          45,
          17,
          8,
          67,
          20,
          32,
          39,
          24,
          6,
          52,
          13,
          10,
          22,
          77,
          2,
          46,
          18,
          50,
          70,
          5,
          32,
          8,
          5,
          28,
          3,
          3,
          123,
          31,
          59,
          15,
          21,
          5,
          4,
          21,
          10,
          11,
          4,
          26,
          7,
          30,
          3,
          18,
          30,
          25,
          37,
          8,
          8,
          13,
          69,
          2,
          20,
          41,
          4,
          17,
          25,
          4,
          23,
          43,
          52,
          14,
          48,
          11,
          6,
          55,
          316,
          23,
          34,
          71,
          35,
          15,
          7,
          7,
          12,
          33,
          5,
          20,
          9,
          18,
          4,
          15,
          23,
          8,
          44,
          29,
          2,
          21,
          43,
          14,
          6,
          17,
          5,
          13,
          35,
          60,
          53,
          6,
          7,
          23,
          37,
          7,
          7,
          29,
          7,
          6,
          34,
          24,
          2,
          52,
          17,
          58,
          27,
          28,
          52,
          4,
          5,
          32,
          28,
          49,
          45,
          37,
          26,
          12,
          7,
          10,
          5,
          23,
          15,
          2,
          12,
          3,
          4,
          111,
          20,
          55,
          78,
          22,
          11,
          41,
          81,
          23,
          12,
          29,
          19,
          7,
          31,
          10,
          15,
          19,
          12,
          13,
          37,
          169,
          20,
          2,
          26,
          31,
          7,
          17,
          3,
          3,
          87,
          1,
          5,
          11,
          34,
          25,
          38,
          16,
          52,
          37,
          17,
          12,
          21,
          49,
          2,
          28,
          2,
          24,
          9,
          10,
          46,
          2,
          28,
          5,
          21,
          31,
          44,
          14,
          11,
          5,
          13,
          66,
          14,
          358,
          57,
          1,
          128,
          29,
          104,
          55,
          1,
          9,
          22,
          5,
          24,
          16,
          10,
          78,
          14,
          28,
          3,
          14,
          11,
          48,
          3,
          55,
          133,
          4,
          5,
          22,
          25,
          113,
          39,
          11,
          9,
          4,
          70,
          14,
          65,
          4,
          38,
          1,
          13,
          11,
          16,
          19,
          48,
          34,
          10,
          11,
          22,
          13,
          6,
          13,
          25,
          23,
          6,
          22,
          7,
          21,
          51,
          26,
          10,
          54,
          21,
          58,
          31,
          3,
          18,
          20,
          88,
          51,
          4,
          33,
          21,
          28,
          6,
          128,
          7,
          7,
          54,
          129,
          1,
          18,
          6,
          1,
          36,
          51,
          20,
          10,
          5,
          59,
          28,
          12,
          59,
          2,
          5,
          10,
          21,
          24,
          3,
          4,
          14,
          15,
          15,
          11,
          26,
          7,
          4,
          12,
          15,
          14,
          41,
          7,
          9,
          73,
          55,
          17,
          74,
          23,
          7,
          40,
          6,
          14,
          18,
          37,
          8,
          10,
          11,
          8,
          18,
          11,
          51,
          15,
          35,
          61,
          2,
          6,
          38,
          12,
          66,
          48,
          123,
          17,
          24,
          5,
          12,
          16,
          48,
          23,
          17,
          8,
          19,
          51,
          40,
          30,
          2,
          3,
          54,
          1,
          52,
          6,
          17,
          14,
          28,
          35,
          8,
          17,
          10,
          3,
          27,
          13,
          13,
          53,
          22,
          13,
          18,
          3,
          30,
          5,
          2,
          68,
          13,
          32,
          8,
          19,
          18,
          36,
          10,
          5,
          12,
          11,
          7,
          41,
          8,
          39,
          6,
          16,
          11,
          68,
          61,
          36,
          28,
          69,
          8,
          6,
          21,
          17,
          14,
          46,
          25,
          62,
          8,
          15,
          40,
          5,
          5,
          15,
          14,
          24,
          5,
          84,
          17,
          14,
          16,
          74,
          38,
          26,
          25,
          17,
          13,
          23,
          48,
          4,
          48,
          14,
          23,
          22,
          4,
          47,
          10,
          32,
          6,
          7,
          5,
          125,
          30,
          26,
          11,
          46,
          1,
          66,
          6,
          6,
          23,
          150,
          19,
          5,
          8,
          12,
          2,
          15,
          61,
          10,
          21,
          12,
          3,
          112,
          47,
          7,
          4,
          19,
          48,
          38,
          6,
          27,
          25,
          41,
          8,
          37,
          5,
          28,
          42,
          14,
          33,
          25,
          42,
          29,
          34,
          66,
          20,
          4,
          32,
          20,
          32,
          8,
          43,
          15,
          9,
          7,
          10,
          45,
          13,
          67,
          3,
          15,
          5,
          76,
          14,
          42,
          6,
          31,
          21,
          6,
          56,
          4,
          17,
          39,
          6,
          20,
          20,
          7,
          2,
          16,
          76,
          24,
          53,
          8,
          1,
          27,
          21,
          9,
          9,
          56,
          12,
          72,
          47,
          2,
          14,
          44,
          15,
          21,
          24,
          1,
          31,
          51,
          23,
          30,
          5,
          9,
          86,
          1,
          7,
          62,
          1,
          135,
          25,
          5,
          25,
          49,
          23,
          34,
          1,
          4,
          8,
          38,
          14,
          88,
          5,
          98,
          15,
          11,
          3,
          28,
          21,
          10,
          6,
          11,
          7,
          3,
          16,
          33,
          9,
          84,
          39,
          18,
          8,
          9,
          47,
          6,
          20,
          31,
          29,
          25,
          66,
          4,
          68,
          43,
          12,
          6,
          6,
          104,
          25,
          8,
          1,
          122,
          11,
          60,
          24,
          10,
          30,
          73,
          8,
          33,
          3,
          9,
          16,
          13,
          7,
          37,
          38,
          66,
          39,
          1,
          9,
          81,
          10,
          6,
          14,
          8,
          10,
          118,
          12,
          1,
          14,
          12,
          15,
          10,
          14,
          51,
          1,
          8,
          23,
          18,
          25,
          61,
          9,
          43,
          35,
          27,
          47,
          15,
          71,
          7,
          51,
          14,
          17,
          41,
          25,
          14,
          31,
          10,
          16,
          12,
          13,
          48,
          11,
          23,
          63,
          27,
          13,
          31,
          107,
          20,
          6,
          10,
          41,
          7,
          8,
          2,
          6,
          30,
          99,
          9,
          53,
          37,
          34,
          28,
          1,
          32,
          30,
          12,
          21,
          1,
          44,
          10,
          3,
          1,
          28,
          2,
          29,
          20,
          25,
          62,
          9,
          2,
          11,
          43,
          6,
          3,
          16,
          8,
          3,
          36,
          75,
          110,
          50,
          41,
          18,
          184,
          8,
          6,
          4,
          35,
          7,
          23,
          13,
          17,
          11,
          50,
          15,
          34,
          2,
          28,
          15,
          6,
          11,
          27,
          66,
          169,
          9,
          1,
          7,
          11,
          4,
          22,
          11,
          2,
          2,
          4,
          26,
          29,
          21,
          17,
          131,
          44,
          24,
          25,
          74,
          55,
          1,
          13,
          37,
          10,
          16,
          21,
          1,
          57,
          18,
          40,
          10,
          34,
          12,
          11,
          8,
          46,
          25,
          20,
          38,
          3,
          58,
          35,
          14,
          14,
          10,
          33,
          38,
          91,
          1,
          64,
          19,
          66,
          15,
          117,
          38,
          53,
          2,
          1,
          15,
          2,
          8,
          56,
          43,
          30,
          30,
          1,
          22,
          22,
          17,
          31,
          49,
          42,
          14,
          22,
          1,
          9,
          56,
          4,
          1,
          63,
          108,
          3,
          42,
          7,
          55,
          264,
          13,
          8,
          43,
          202,
          5,
          2,
          35,
          57,
          12,
          5,
          5,
          100,
          8,
          18,
          5,
          5,
          7,
          5,
          7,
          35,
          106,
          7,
          41,
          54,
          19,
          12,
          18,
          20,
          11,
          25,
          14,
          23,
          6,
          2,
          20,
          19,
          35,
          159,
          1,
          20,
          46,
          32,
          60,
          31,
          9,
          14,
          126,
          2,
          5,
          81,
          15,
          12,
          14,
          20,
          10,
          15,
          6,
          23,
          44,
          16,
          19,
          6,
          3,
          5,
          4,
          43,
          76,
          2,
          15,
          12,
          82,
          7,
          49,
          27,
          34,
          7,
          92,
          40,
          38,
          12,
          10,
          32,
          11,
          13,
          25,
          23,
          38,
          27,
          16,
          13,
          5,
          18,
          28,
          5,
          13,
          16,
          108,
          18,
          1,
          25,
          8,
          10,
          5,
          21,
          44,
          1,
          26,
          18,
          4,
          15,
          1,
          9,
          12,
          1,
          1,
          38,
          34,
          3,
          5,
          4,
          28,
          26,
          22,
          2,
          15,
          3,
          30,
          90,
          12,
          30,
          2,
          9,
          65,
          36,
          36,
          14,
          22,
          29,
          11,
          15,
          33,
          8,
          77,
          33,
          34,
          35,
          5,
          58,
          7,
          12,
          21,
          4,
          9,
          3,
          31,
          7,
          30,
          24,
          5,
          26,
          9,
          3,
          17,
          18,
          2,
          14,
          17,
          12,
          16,
          4,
          14,
          11,
          18,
          13,
          4,
          7,
          29,
          46,
          48,
          20,
          26,
          10,
          15,
          81,
          27,
          1,
          20,
          39,
          42,
          98,
          3,
          2,
          22,
          46,
          25,
          9,
          53,
          469,
          17,
          86,
          67,
          12,
          24,
          25,
          17,
          7,
          46,
          15,
          17,
          51,
          27,
          20,
          20,
          20,
          69,
          78,
          16,
          13,
          20,
          34,
          11,
          82,
          27,
          19,
          41,
          54,
          54,
          12,
          97,
          18,
          20,
          100,
          11,
          9,
          12,
          12,
          11,
          12,
          19,
          91,
          60,
          18,
          92,
          85,
          110,
          19,
          26,
          42,
          14,
          36,
          23,
          4,
          23,
          34,
          56,
          2,
          55,
          16,
          40,
          17,
          24,
          8,
          13,
          10,
          12,
          17,
          10,
          31,
          19,
          6,
          14,
          7,
          29,
          15,
          22,
          96,
          25,
          38,
          20,
          83,
          116,
          31,
          20,
          13,
          7,
          124,
          35,
          23,
          14,
          47,
          9,
          32,
          10,
          39,
          37,
          11,
          5,
          16,
          18,
          27,
          48,
          24,
          7,
          6,
          18,
          4,
          14,
          18,
          52,
          13,
          17,
          34,
          46,
          40,
          7,
          15,
          14,
          48,
          116,
          14,
          4,
          10,
          44,
          57,
          18,
          7,
          8,
          51,
          1,
          33,
          2,
          6,
          27,
          20,
          8,
          17,
          124,
          70,
          20,
          42,
          11,
          21,
          24,
          13,
          23,
          55,
          39,
          22,
          48,
          15,
          36,
          98,
          8,
          25,
          19,
          20,
          19,
          6,
          10,
          12,
          5,
          58,
          75,
          15,
          9,
          24,
          14,
          14,
          18,
          68,
          12,
          14,
          127,
          25,
          83,
          57,
          25,
          83,
          59,
          84,
          42,
          86,
          68,
          21,
          13,
          3,
          33,
          24,
          22,
          28,
          37,
          47,
          20,
          27,
          117,
          4,
          51,
          62,
          8,
          30,
          50,
          9,
          23,
          68,
          45,
          79,
          12,
          18,
          26,
          21,
          55,
          20,
          17,
          21,
          80,
          193,
          8,
          15,
          11,
          29,
          47,
          22,
          7,
          4,
          15,
          64,
          38,
          11,
          27,
          23,
          36,
          1,
          17,
          13,
          24,
          24,
          117,
          25,
          11,
          29,
          5,
          79,
          8,
          32,
          4,
          63,
          35,
          10,
          33,
          2,
          36,
          12,
          43
         ],
         "xaxis": "x3",
         "yaxis": "y3"
        },
        {
         "name": "Частота покупок",
         "type": "histogram",
         "x": [
          3.3726937269372694,
          1,
          0.05813953488372093,
          0.023255813953488372,
          1,
          1,
          1,
          0.027777777777777776,
          0.03571428571428571,
          0.030303030303030304,
          0.011494252873563218,
          0.010869565217391304,
          1,
          1,
          0.029239766081871343,
          1,
          0.038461538461538464,
          1,
          1,
          1,
          0.02127659574468085,
          1,
          0.024390243902439025,
          0.024193548387096774,
          0.05,
          0.038461538461538464,
          0.03278688524590164,
          0.022222222222222223,
          0.017241379310344827,
          1,
          0.029411764705882353,
          0.05154639175257732,
          0.023952095808383235,
          0.05761316872427984,
          1,
          1,
          0.04081632653061224,
          0.04419889502762431,
          1,
          0.05434782608695652,
          1,
          0.04477611940298507,
          1,
          0.03482587064676617,
          1,
          1,
          1,
          1,
          0.028846153846153848,
          0.013513513513513514,
          0.010050251256281407,
          0.02459016393442623,
          1,
          0.02112676056338028,
          1,
          0.06666666666666667,
          0.025974025974025976,
          1,
          1,
          1,
          1,
          0.014388489208633094,
          0.010471204188481676,
          0.009389671361502348,
          1,
          1,
          0.030303030303030304,
          0.0223463687150838,
          0.08823529411764706,
          0.03676470588235294,
          1,
          0.02027027027027027,
          0.05078125,
          0.01744186046511628,
          0.039473684210526314,
          0.03260869565217391,
          0.014598540145985401,
          1,
          1,
          0.02,
          1,
          0.013824884792626729,
          1,
          0.01282051282051282,
          0.04838709677419355,
          1,
          1,
          0.014388489208633094,
          0.01327433628318584,
          0.03319502074688797,
          0.07692307692307693,
          0.022222222222222223,
          1,
          0.011904761904761904,
          0.015873015873015872,
          1,
          0.02608695652173913,
          1,
          0.012145748987854251,
          1,
          1,
          0.057034220532319393,
          0.08064516129032258,
          1,
          1,
          0.07114624505928854,
          1,
          1,
          1,
          1,
          0.2168141592920354,
          1,
          1,
          0.052083333333333336,
          1,
          1,
          0.03317535545023697,
          0.013793103448275862,
          0.028455284552845527,
          1,
          1,
          1,
          0.018633540372670808,
          0.08695652173913043,
          0.027777777777777776,
          0.02631578947368421,
          0.028925619834710745,
          0.07407407407407407,
          1,
          1,
          0.021505376344086023,
          1,
          1,
          0.054455445544554455,
          0.019417475728155338,
          0.028037383177570093,
          0.027906976744186046,
          1,
          1,
          0.023255813953488372,
          1,
          0.03543307086614173,
          1,
          0.056451612903225805,
          1,
          0.015151515151515152,
          0.06521739130434782,
          1,
          1,
          1,
          1,
          1,
          1,
          0.021739130434782608,
          0.013043478260869565,
          0.016597510373443983,
          1,
          2,
          1,
          1,
          0.0163265306122449,
          1,
          1,
          1,
          0.030434782608695653,
          1,
          0.16666666666666666,
          2,
          1,
          0.014285714285714285,
          1,
          1,
          0.05128205128205128,
          0.04395604395604396,
          0.05102040816326531,
          1,
          1,
          0.01694915254237288,
          0.03614457831325301,
          1,
          1,
          0.11196911196911197,
          1,
          1,
          1,
          1,
          0.0967741935483871,
          0.04854368932038835,
          1,
          0.10833333333333334,
          1,
          0.07407407407407407,
          1,
          1,
          0.047337278106508875,
          1,
          0.022935779816513763,
          1,
          0.5,
          1,
          0.01639344262295082,
          0.029069767441860465,
          0.02112676056338028,
          1,
          0.028169014084507043,
          1,
          1,
          0.03361344537815126,
          0.04263565891472868,
          1,
          1,
          1,
          1,
          0.017391304347826087,
          2,
          1,
          0.01639344262295082,
          1,
          0.016597510373443983,
          1,
          1,
          1,
          1,
          1,
          0.015503875968992248,
          1,
          0.023255813953488372,
          0.012345679012345678,
          0.031914893617021274,
          1,
          1,
          1,
          0.05,
          0.019801980198019802,
          1,
          0.11392405063291139,
          0.058823529411764705,
          0.03,
          1,
          0.05426356589147287,
          1,
          0.017316017316017316,
          1,
          0.03260869565217391,
          1,
          0.029411764705882353,
          0.0735930735930736,
          0.024691358024691357,
          0.028169014084507043,
          0.02912621359223301,
          0.03684210526315789,
          1,
          1,
          0.33079847908745247,
          1,
          0.036231884057971016,
          1,
          1,
          0.01764705882352941,
          1,
          0.04838709677419355,
          1,
          0.017699115044247787,
          0.05660377358490566,
          0.04918032786885246,
          0.011450381679389313,
          1,
          0.10112359550561797,
          0.022727272727272728,
          1,
          1,
          0.028455284552845527,
          0.04093567251461988,
          0.009345794392523364,
          0.023255813953488372,
          0.04132231404958678,
          1,
          0.008658008658008658,
          0.010309278350515464,
          0.008620689655172414,
          0.017094017094017096,
          0.08,
          0.03571428571428571,
          1,
          1,
          0.038461538461538464,
          1,
          0.018867924528301886,
          0.027472527472527472,
          0.018072289156626505,
          0.06382978723404255,
          1,
          2,
          0.01990049751243781,
          0.072,
          0.023474178403755867,
          0.031746031746031744,
          0.02531645569620253,
          1,
          1,
          0.02666666666666667,
          0.01532567049808429,
          0.018633540372670808,
          1,
          0.08571428571428572,
          0.020618556701030927,
          0.027777777777777776,
          0.020202020202020204,
          0.04032258064516129,
          0.0234375,
          0.04790419161676647,
          0.04411764705882353,
          0.024793388429752067,
          0.037037037037037035,
          0.017699115044247787,
          0.06060606060606061,
          1,
          0.04145077720207254,
          1,
          1,
          1,
          0.018518518518518517,
          0.3333333333333333,
          0.04219409282700422,
          0.0425531914893617,
          0.027777777777777776,
          0.022556390977443608,
          0.03418803418803419,
          1,
          0.02040816326530612,
          1,
          1,
          0.02666666666666667,
          0.05,
          1,
          1,
          0.03529411764705882,
          0.04201680672268908,
          0.022727272727272728,
          0.0379746835443038,
          0.05128205128205128,
          1,
          1,
          0.07203389830508475,
          0.013215859030837005,
          0.088,
          1,
          0.029850746268656716,
          1,
          1,
          1,
          0.03636363636363636,
          0.009389671361502348,
          0.031914893617021274,
          0.06060606060606061,
          0.027522935779816515,
          1,
          0.035175879396984924,
          0.0196078431372549,
          0.023668639053254437,
          1,
          0.04838709677419355,
          0.04035874439461883,
          0.05825242718446602,
          1,
          0.05172413793103448,
          1,
          0.058823529411764705,
          0.05128205128205128,
          1,
          1,
          1,
          0.3333333333333333,
          0.038461538461538464,
          0.061224489795918366,
          0.02654867256637168,
          0.031746031746031744,
          0.026881720430107527,
          1,
          0.01694915254237288,
          1,
          1,
          1,
          1,
          0.08695652173913043,
          0.022222222222222223,
          0.03861003861003861,
          0.024630541871921183,
          0.047619047619047616,
          0.00784313725490196,
          2,
          0.016,
          1,
          0.016736401673640166,
          1,
          0.01990049751243781,
          1,
          0.011764705882352941,
          0.0449438202247191,
          0.024291497975708502,
          1,
          0.08333333333333333,
          0.022556390977443608,
          0.025974025974025976,
          0.03636363636363636,
          1,
          0.07569721115537849,
          1,
          0.04054054054054054,
          1,
          0.05343511450381679,
          0.028985507246376812,
          0.011363636363636364,
          0.0196078431372549,
          0.033707865168539325,
          1,
          1,
          0.04040404040404041,
          0.02564102564102564,
          1,
          1,
          1,
          0.05357142857142857,
          1,
          1,
          2,
          1,
          1,
          1,
          1,
          1,
          1,
          0.0330188679245283,
          0.08163265306122448,
          0.021739130434782608,
          0.025,
          0.04032258064516129,
          0.13333333333333333,
          0.03125,
          1,
          0.030303030303030304,
          0.020202020202020204,
          1,
          1,
          0.03468208092485549,
          0.08921933085501858,
          6,
          1,
          0.09523809523809523,
          1,
          0.015267175572519083,
          0.06666666666666667,
          0.01098901098901099,
          2,
          1,
          1,
          0.06060606060606061,
          1,
          0.031746031746031744,
          0.06422018348623854,
          1,
          0.025,
          0.025,
          1,
          1,
          0.06,
          0.05172413793103448,
          0.027586206896551724,
          1,
          1,
          0.021897810218978103,
          1,
          0.029411764705882353,
          0.037037037037037035,
          1,
          0.027777777777777776,
          1,
          0.07894736842105263,
          0.11666666666666667,
          0.021052631578947368,
          1,
          0.014925373134328358,
          0.0364963503649635,
          1,
          1,
          0.018518518518518517,
          0.013888888888888888,
          1,
          1,
          1,
          0.024793388429752067,
          0.06854838709677419,
          1,
          0.025,
          1,
          0.025974025974025976,
          1,
          0.03902439024390244,
          1,
          0.029411764705882353,
          1,
          1,
          0.030612244897959183,
          0.010752688172043012,
          0.017045454545454544,
          0.02127659574468085,
          1,
          0.0425531914893617,
          0.03056768558951965,
          1,
          0.036734693877551024,
          0.06666666666666667,
          0.02127659574468085,
          0.047619047619047616,
          1,
          1,
          1,
          0.10424710424710425,
          0.014285714285714285,
          1,
          0.02262443438914027,
          1,
          1,
          0.10285714285714286,
          0.03088803088803089,
          1,
          0.017699115044247787,
          0.031746031746031744,
          0.012396694214876033,
          0.013452914798206279,
          0.041237113402061855,
          0.03333333333333333,
          1,
          0.023952095808383235,
          0.03773584905660377,
          0.045454545454545456,
          1,
          1,
          1,
          1,
          0.011111111111111112,
          0.01904761904761905,
          2,
          1,
          0.013215859030837005,
          1,
          0.034782608695652174,
          0.06818181818181818,
          2,
          0.017699115044247787,
          1,
          0.02242152466367713,
          0.06666666666666667,
          1,
          1,
          1,
          1,
          1,
          1,
          0.024752475247524754,
          1,
          0.014705882352941176,
          0.11406844106463879,
          0.02577319587628866,
          1,
          0.02158273381294964,
          0.008368200836820083,
          1,
          0.056818181818181816,
          0.034482758620689655,
          0.0273972602739726,
          0.037037037037037035,
          1,
          0.020242914979757085,
          1,
          1,
          0.03278688524590164,
          0.03007518796992481,
          0.01509433962264151,
          0.05333333333333334,
          0.018518518518518517,
          0.020833333333333332,
          1,
          0.03125,
          0.1,
          1,
          0.09090909090909091,
          1,
          1,
          0.05714285714285714,
          1,
          0.00975609756097561,
          1,
          1,
          1,
          0.024691358024691357,
          1,
          0.06299212598425197,
          1,
          1,
          0.04602510460251046,
          0.02142857142857143,
          1,
          1,
          0.03535353535353535,
          0.0425531914893617,
          0.0196078431372549,
          0.015748031496062992,
          0.023529411764705882,
          1,
          1,
          1,
          0.07142857142857142,
          0.034220532319391636,
          1,
          0.028368794326241134,
          1,
          0.01932367149758454,
          0.017045454545454544,
          1,
          0.0625,
          0.033707865168539325,
          3,
          0.02564102564102564,
          0.01935483870967742,
          1,
          1,
          0.02631578947368421,
          1,
          0.015306122448979591,
          1,
          0.03636363636363636,
          1,
          0.01282051282051282,
          1,
          0.024,
          1,
          1,
          1,
          0.015503875968992248,
          1,
          0.0410958904109589,
          1,
          0.03888888888888889,
          0.036231884057971016,
          0.020618556701030927,
          0.024390243902439025,
          0.016,
          1,
          1,
          0.043478260869565216,
          0.011494252873563218,
          0.012658227848101266,
          0.05714285714285714,
          1,
          1,
          0.04149377593360996,
          1,
          0.25,
          0.012658227848101266,
          0.0228310502283105,
          0.018072289156626505,
          1,
          1,
          1,
          1,
          1,
          1,
          1,
          1,
          0.020202020202020204,
          0.04040404040404041,
          1,
          0.04878048780487805,
          0.03731343283582089,
          0.022988505747126436,
          1,
          0.02666666666666667,
          0.01680672268907563,
          0.01,
          1,
          0.0234375,
          0.03431372549019608,
          0.03896103896103896,
          0.01098901098901099,
          0.018957345971563982,
          0.01694915254237288,
          2,
          0.015228426395939087,
          0.014492753623188406,
          1,
          1,
          1,
          1,
          0.046153846153846156,
          0.07142857142857142,
          0.040268456375838924,
          1,
          0.026845637583892617,
          0.058365758754863814,
          1,
          0.031496062992125984,
          1,
          0.06918238993710692,
          1,
          0.019867549668874173,
          0.018867924528301886,
          0.037037037037037035,
          1,
          1,
          0.05405405405405406,
          0.05263157894736842,
          0.010416666666666666,
          0.025,
          1,
          0.0273972602739726,
          0.02586206896551724,
          0.05555555555555555,
          1,
          1,
          1,
          1,
          0.009345794392523364,
          0.009615384615384616,
          0.2222222222222222,
          1,
          1,
          0.015748031496062992,
          0.02092050209205021,
          1,
          0.01694915254237288,
          1,
          0.028985507246376812,
          1,
          0.046296296296296294,
          0.023255813953488372,
          0.016574585635359115,
          1,
          0.02830188679245283,
          0.021897810218978103,
          1,
          0.014563106796116505,
          0.03463203463203463,
          1,
          0.05263157894736842,
          0.06818181818181818,
          0.016574585635359115,
          0.0380952380952381,
          0.017777777777777778,
          1,
          0.1111111111111111,
          1,
          0.041237113402061855,
          1,
          0.039473684210526314,
          0.05405405405405406,
          0.02,
          1,
          1,
          1,
          0.00980392156862745,
          0.019230769230769232,
          1,
          0.030864197530864196,
          1,
          1,
          1,
          0.2857142857142857,
          1,
          0.046511627906976744,
          0.05555555555555555,
          0.02358490566037736,
          1,
          2,
          0.25,
          1,
          0.03125,
          0.015957446808510637,
          1,
          0.0639269406392694,
          0.034482758620689655,
          0.056338028169014086,
          0.01652892561983471,
          0.0196078431372549,
          0.016666666666666666,
          0.056818181818181816,
          2,
          0.03361344537815126,
          0.05384615384615385,
          1,
          0.020202020202020204,
          0.05531914893617021,
          1,
          0.14285714285714285,
          0.024242424242424242,
          1,
          0.017341040462427744,
          1,
          1,
          0.05291005291005291,
          0.044444444444444446,
          1,
          0.02097902097902098,
          0.028985507246376812,
          0.125,
          0.048458149779735685,
          1,
          1,
          0.019867549668874173,
          1,
          0.13333333333333333,
          1,
          0.08,
          0.025974025974025976,
          0.06060606060606061,
          1,
          2,
          1,
          0.038461538461538464,
          1,
          0.024390243902439025,
          1,
          1,
          0.03289473684210526,
          0.03225806451612903,
          0.061224489795918366,
          0.06557377049180328,
          0.2,
          0.01020408163265306,
          1,
          1,
          0.017094017094017096,
          1,
          1,
          1,
          0.07253886010362694,
          0.03636363636363636,
          0.033112582781456956,
          0.10112359550561797,
          0.02197802197802198,
          0.05625,
          1,
          1,
          1,
          0.018633540372670808,
          0.125,
          1,
          1,
          0.04878048780487805,
          0.011363636363636364,
          1,
          1,
          1,
          0.03745318352059925,
          0.07142857142857142,
          0.014285714285714285,
          0.06451612903225806,
          0.03461538461538462,
          1,
          1,
          0.023255813953488372,
          1,
          0.020689655172413793,
          0.022598870056497175,
          1,
          1,
          1,
          0.07692307692307693,
          0.05555555555555555,
          2,
          0.011695906432748537,
          0.026490066225165563,
          1,
          0.015151515151515152,
          0.03765690376569038,
          0.012578616352201259,
          0.06198347107438017,
          1,
          0.011299435028248588,
          0.03018867924528302,
          0.025157232704402517,
          0.0211864406779661,
          0.025974025974025976,
          1,
          0.011834319526627219,
          0.039647577092511016,
          1,
          0.03435114503816794,
          1,
          1,
          1,
          0.014218009478672985,
          1,
          1,
          1,
          0.01485148514851485,
          1,
          0.018867924528301886,
          0.019801980198019802,
          0.07407407407407407,
          0.05343511450381679,
          0.0546875,
          0.029585798816568046,
          0.06976744186046512,
          1,
          1,
          0.022123893805309734,
          1,
          1,
          0.023529411764705882,
          0.0642570281124498,
          0.030612244897959183,
          0.030612244897959183,
          0.046153846153846156,
          0.11764705882352941,
          0.0375,
          1,
          0.02336448598130841,
          0.0625,
          1,
          2,
          0.04504504504504504,
          0.030612244897959183,
          0.05,
          0.02617801047120419,
          0.025252525252525252,
          0.015789473684210527,
          0.033707865168539325,
          0.0440251572327044,
          0.035856573705179286,
          0.07407407407407407,
          0.03571428571428571,
          0.06451612903225806,
          0.06060606060606061,
          0.015384615384615385,
          0.2857142857142857,
          1,
          0.025,
          2,
          0.10429447852760736,
          0.032,
          0.028409090909090908,
          0.05454545454545454,
          0.057692307692307696,
          1,
          0.0648854961832061,
          0.02531645569620253,
          0.029535864978902954,
          2,
          0.021052631578947368,
          0.1111111111111111,
          0.01834862385321101,
          1,
          0.018867924528301886,
          0.04245283018867924,
          0.04878048780487805,
          0.02127659574468085,
          1,
          0.022900763358778626,
          1,
          0.05555555555555555,
          1,
          1,
          0.4,
          1,
          0.02586206896551724,
          0.03070175438596491,
          0.02912621359223301,
          1,
          0.01910828025477707,
          0.011695906432748537,
          0.031007751937984496,
          1,
          0.056768558951965066,
          0.017094017094017096,
          1,
          0.09090909090909091,
          0.024691358024691357,
          1,
          0.024630541871921183,
          1,
          1,
          0.015789473684210527,
          1,
          1,
          0.01984126984126984,
          0.04310344827586207,
          0.11764705882352941,
          1,
          0.0223463687150838,
          1,
          1,
          1,
          1,
          1,
          0.044,
          1,
          0.011278195488721804,
          1,
          1,
          0.011428571428571429,
          1,
          1,
          0.009708737864077669,
          0.013513513513513514,
          0.018867924528301886,
          0.031413612565445025,
          1,
          0.06060606060606061,
          0.024390243902439025,
          1,
          0.05394190871369295,
          1,
          0.031578947368421054,
          0.015037593984962405,
          1,
          0.0673076923076923,
          0.017241379310344827,
          0.031496062992125984,
          0.05454545454545454,
          1,
          1,
          0.02040816326530612,
          1,
          1,
          1,
          0.02040816326530612,
          1,
          1,
          1,
          1,
          0.07662835249042145,
          0.06329113924050633,
          0.03773584905660377,
          0.010309278350515464,
          1,
          1,
          0.012,
          0.016666666666666666,
          0.01639344262295082,
          1,
          1,
          0.012711864406779662,
          0.03333333333333333,
          0.011428571428571429,
          0.034782608695652174,
          0.024,
          0.05660377358490566,
          1,
          0.01593625498007968,
          0.04477611940298507,
          1,
          0.014925373134328358,
          1,
          1,
          1,
          0.017777777777777778,
          0.10526315789473684,
          0.019230769230769232,
          0.023809523809523808,
          0.02564102564102564,
          0.041666666666666664,
          1,
          0.02631578947368421,
          0.03225806451612903,
          1,
          1,
          0.2,
          0.05,
          1,
          0.017316017316017316,
          0.038461538461538464,
          1,
          1,
          1,
          0.03773584905660377,
          1,
          1,
          0.017094017094017096,
          1,
          0.04285714285714286,
          0.018518518518518517,
          0.1111111111111111,
          0.014563106796116505,
          0.015706806282722512,
          0.0423728813559322,
          1,
          2,
          1,
          0.09090909090909091,
          0.0449438202247191,
          1,
          0.13805970149253732,
          0.024489795918367346,
          0.019230769230769232,
          1,
          0.013043478260869565,
          0.03361344537815126,
          1,
          1,
          1,
          0.03571428571428571,
          1,
          1,
          0.015384615384615385,
          0.015873015873015872,
          0.01834862385321101,
          0.047337278106508875,
          1,
          0.011406844106463879,
          1,
          1,
          1,
          1,
          0.010309278350515464,
          1,
          0.013452914798206279,
          0.024390243902439025,
          1,
          1,
          0.1,
          1,
          0.02097902097902098,
          0.017094017094017096,
          1,
          1,
          0.0223463687150838,
          1,
          0.06557377049180328,
          1,
          0.015810276679841896,
          0.01951219512195122,
          0.05405405405405406,
          0.1,
          0.043478260869565216,
          0.025,
          0.03773584905660377,
          1,
          0.02040816326530612,
          1,
          0.02702702702702703,
          1,
          0.0380952380952381,
          0.017241379310344827,
          1,
          1,
          1,
          1,
          0.10185185185185185,
          0.015151515151515152,
          2,
          0.01694915254237288,
          0.0502092050209205,
          0.07142857142857142,
          0.02,
          1,
          0.012903225806451613,
          0.01984126984126984,
          1,
          1,
          1,
          0.05,
          0.10416666666666667,
          1,
          1,
          0.014814814814814815,
          0.020618556701030927,
          0.02830188679245283,
          1,
          1,
          1,
          1,
          1,
          1,
          0.028089887640449437,
          1,
          1,
          0.031914893617021274,
          1,
          1,
          0.022222222222222223,
          1,
          1,
          1,
          1,
          0.0273972602739726,
          2,
          0.05263157894736842,
          0.02717391304347826,
          0.03614457831325301,
          0.03571428571428571,
          1,
          1,
          0.04918032786885246,
          0.16666666666666666,
          1,
          0.031496062992125984,
          1,
          1,
          1,
          1,
          0.02531645569620253,
          0.057971014492753624,
          1,
          1,
          1,
          0.013953488372093023,
          0.007722007722007722,
          0.16666666666666666,
          2,
          1,
          1,
          0.09090909090909091,
          0.14814814814814814,
          0.027522935779816515,
          1,
          0.011363636363636364,
          0.02857142857142857,
          0.02702702702702703,
          1,
          1,
          0.01764705882352941,
          1,
          1,
          0.029535864978902954,
          0.06896551724137931,
          1,
          0.017341040462427744,
          0.018867924528301886,
          0.025,
          0.028169014084507043,
          0.041666666666666664,
          1,
          1,
          0.037037037037037035,
          1,
          0.023255813953488372,
          0.05384615384615385,
          0.02857142857142857,
          1,
          0.05194805194805195,
          1,
          0.015209125475285171,
          1,
          0.03333333333333333,
          1,
          0.05555555555555555,
          0.024691358024691357,
          0.01568627450980392,
          0.025,
          0.03546099290780142,
          0.0078125,
          0.05384615384615385,
          1,
          1,
          0.04182509505703422,
          0.015625,
          1,
          1,
          0.024291497975708502,
          0.041666666666666664,
          1,
          0.2857142857142857,
          0.02857142857142857,
          1,
          1,
          0.06896551724137931,
          0.030534351145038167,
          1,
          0.036585365853658534,
          1,
          1,
          0.021052631578947368,
          0.024390243902439025,
          1,
          0.08846153846153847,
          0.032,
          0.017167381974248927,
          0.015384615384615385,
          1,
          1,
          1,
          0.007722007722007722,
          1,
          0.01809954751131222,
          1,
          1,
          0.0375,
          0.02531645569620253,
          0.06060606060606061,
          1,
          0.06382978723404255,
          1,
          1,
          1,
          0.032467532467532464,
          0.07142857142857142,
          0.02247191011235955,
          0.02830188679245283,
          1,
          1,
          1,
          0.02142857142857143,
          0.02702702702702703,
          0.028846153846153848,
          0.012396694214876033,
          1,
          1,
          0.01744186046511628,
          1,
          1,
          0.046511627906976744,
          1,
          1,
          0.046875,
          1,
          1,
          0.01953125,
          0.0975609756097561,
          1,
          1,
          0.03333333333333333,
          1,
          1,
          0.018404907975460124,
          0.01875,
          1,
          1,
          0.024793388429752067,
          0.024193548387096774,
          0.014184397163120567,
          0.011299435028248588,
          0.15384615384615385,
          0.06557377049180328,
          0.030303030303030304,
          1,
          0.16600790513833993,
          0.025906735751295335,
          0.02666666666666667,
          1,
          1,
          0.03333333333333333,
          0.030927835051546393,
          1,
          0.18181818181818182,
          0.08205128205128205,
          0.02459016393442623,
          0.040740740740740744,
          0.013071895424836602,
          0.015748031496062992,
          0.015384615384615385,
          0.011299435028248588,
          1,
          0.0625,
          3,
          0.0213903743315508,
          0.023668639053254437,
          0.019867549668874173,
          1,
          1,
          0.04,
          1,
          0.017543859649122806,
          0.03333333333333333,
          0.022727272727272728,
          1,
          1,
          0.017543859649122806,
          1,
          0.03048780487804878,
          0.030042918454935622,
          1,
          0.3333333333333333,
          1,
          1,
          1,
          0.022556390977443608,
          0.015625,
          0.03305785123966942,
          0.0425531914893617,
          0.06976744186046512,
          1,
          1,
          1,
          1,
          1,
          0.0425531914893617,
          0.02358490566037736,
          1,
          1,
          0.125,
          0.030927835051546393,
          1,
          1,
          1,
          4,
          0.05555555555555555,
          1,
          0.019157088122605363,
          0.03636363636363636,
          0.028455284552845527,
          1,
          0.08823529411764706,
          0.03164556962025317,
          1,
          0.0136986301369863,
          0.041666666666666664,
          0.02054794520547945,
          2,
          1,
          1,
          1,
          1,
          1,
          0.01875,
          0.0625,
          1,
          2,
          1,
          0.044585987261146494,
          1,
          2,
          0.03587443946188341,
          1,
          0.02877697841726619,
          1,
          0.013636363636363636,
          0.022556390977443608,
          0.018867924528301886,
          0.009433962264150943,
          0.07083333333333333,
          0.029585798816568046,
          0.043137254901960784,
          0.18181818181818182,
          1,
          0.044444444444444446,
          0.03482587064676617,
          1,
          0.026490066225165563,
          1,
          0.0297029702970297,
          0.042735042735042736,
          1,
          0.015463917525773196,
          0.42857142857142855,
          1,
          0.011764705882352941,
          1,
          0.010309278350515464,
          0.04918032786885246,
          1,
          1,
          1,
          1,
          1,
          0.04225352112676056,
          0.03007518796992481,
          1,
          0.0625,
          0.018957345971563982,
          0.015625,
          0.0182648401826484,
          0.04285714285714286,
          0.03225806451612903,
          1,
          0.022727272727272728,
          0.061224489795918366,
          0.049107142857142856,
          1,
          1,
          0.038461538461538464,
          0.037037037037037035,
          0.013333333333333334,
          0.0410958904109589,
          1,
          1,
          1,
          1,
          1,
          0.034722222222222224,
          0.08333333333333333,
          1,
          1,
          1,
          1,
          1,
          1,
          0.09859154929577464,
          0.02702702702702703,
          1,
          0.22727272727272727,
          0.045454545454545456,
          0.014705882352941176,
          0.02531645569620253,
          0.07692307692307693,
          0.012578616352201259,
          0.01809954751131222,
          0.023529411764705882,
          1,
          0.03731343283582089,
          0.018656716417910446,
          1,
          1,
          1,
          0.018404907975460124,
          1,
          0.015957446808510637,
          1,
          0.05172413793103448,
          0.01507537688442211,
          0.023255813953488372,
          1,
          0.03260869565217391,
          0.035398230088495575,
          0.023809523809523808,
          0.02197802197802198,
          0.07103825136612021,
          1,
          0.026785714285714284,
          1,
          1,
          0.018433179723502304,
          1,
          0.020833333333333332,
          0.019230769230769232,
          0.037037037037037035,
          1,
          0.03296703296703297,
          1,
          0.017467248908296942,
          1,
          0.02834008097165992,
          2,
          0.04046242774566474,
          1,
          0.018018018018018018,
          0.04516129032258064,
          1,
          0.01910828025477707,
          0.05555555555555555,
          0.020202020202020204,
          0.01775147928994083,
          0.02197802197802198,
          0.01293103448275862,
          0.045454545454545456,
          1,
          0.018633540372670808,
          1,
          1,
          1,
          0.01953125,
          0.03669724770642202,
          0.02830188679245283,
          0.2857142857142857,
          1,
          0.21428571428571427,
          0.031746031746031744,
          0.034482758620689655,
          0.042105263157894736,
          0.10344827586206896,
          0.014634146341463415,
          0.04072398190045249,
          1,
          1,
          0.036036036036036036,
          1,
          0.05434782608695652,
          0.00784313725490196,
          0.017241379310344827,
          0.02857142857142857,
          1,
          0.03587443946188341,
          2,
          1,
          0.13333333333333333,
          0.05084745762711865,
          1,
          0.03361344537815126,
          1,
          1,
          0.0321285140562249,
          0.04477611940298507,
          1,
          0.022900763358778626,
          0.03643724696356275,
          1,
          1,
          0.017316017316017316,
          0.025974025974025976,
          0.05454545454545454,
          1,
          0.022222222222222223,
          0.011111111111111112,
          0.03278688524590164,
          0.16666666666666666,
          1,
          1,
          1,
          0.05555555555555555,
          0.045454545454545456,
          0.019230769230769232,
          0.031914893617021274,
          0.10714285714285714,
          0.02564102564102564,
          1,
          0.125,
          0.04824561403508772,
          1,
          1,
          1,
          0.02857142857142857,
          0.0125,
          0.042735042735042736,
          0.017391304347826087,
          1,
          1,
          1,
          1,
          0.025806451612903226,
          1,
          0.05714285714285714,
          0.008264462809917356,
          0.15,
          0.03389830508474576,
          1,
          0.021164021164021163,
          2,
          1,
          1,
          0.03076923076923077,
          0.04672897196261682,
          1,
          0.025906735751295335,
          1,
          0.043478260869565216,
          0.04888888888888889,
          1,
          0.008097165991902834,
          1,
          0.11320754716981132,
          1,
          1,
          0.030534351145038167,
          1,
          0.022598870056497175,
          0.00796812749003984,
          0.06276150627615062,
          1,
          0.04132231404958678,
          1,
          0.04411764705882353,
          1,
          0.027777777777777776,
          0.04878048780487805,
          0.05714285714285714,
          0.02608695652173913,
          1,
          1,
          1,
          1,
          1,
          1,
          0.0546218487394958,
          1,
          0.04054054054054054,
          1,
          2,
          0.04878048780487805,
          0.010362694300518135,
          1,
          0.018867924528301886,
          1,
          1,
          1,
          0.016194331983805668,
          0.0273972602739726,
          1,
          1,
          1,
          0.022222222222222223,
          1,
          1,
          2,
          0.039473684210526314,
          2,
          1,
          2,
          0.016304347826086956,
          1,
          0.025806451612903226,
          1,
          1,
          1,
          1,
          0.032,
          1,
          0.01639344262295082,
          1,
          1,
          0.041666666666666664,
          0.024539877300613498,
          0.04878048780487805,
          1,
          1,
          1,
          1,
          0.015748031496062992,
          1,
          0.016260162601626018,
          1,
          1,
          1,
          0.023696682464454975,
          1,
          0.012195121951219513,
          0.02654867256637168,
          0.009009009009009009,
          1,
          0.037037037037037035,
          1,
          0.017699115044247787,
          0.06451612903225806,
          1,
          0.017094017094017096,
          0.05,
          0.06584362139917696,
          0.029850746268656716,
          1,
          0.022222222222222223,
          0.06896551724137931,
          1,
          0.03896103896103896,
          1,
          1,
          1,
          0.02666666666666667,
          0.13043478260869565,
          1,
          1,
          0.05263157894736842,
          1,
          1,
          1,
          1,
          1,
          1,
          0.029850746268656716,
          1,
          1,
          0.058823529411764705,
          0.23134328358208955,
          1,
          0.05,
          0.030612244897959183,
          1,
          0.05128205128205128,
          1,
          0.02702702702702703,
          0.034653465346534656,
          1,
          0.017241379310344827,
          1,
          0.047619047619047616,
          0.06349206349206349,
          0.017857142857142856,
          0.027522935779816515,
          0.046357615894039736,
          1,
          1,
          1,
          1,
          1,
          0.05319148936170213,
          0.02072538860103627,
          1,
          1,
          1,
          1,
          1,
          1,
          1,
          0.03731343283582089,
          0.10526315789473684,
          1,
          1,
          1,
          1,
          1,
          0.011111111111111112,
          0.03896103896103896,
          0.07272727272727272,
          1,
          1,
          0.0234375,
          0.3333333333333333,
          1,
          0.029850746268656716,
          0.011627906976744186,
          1,
          0.022222222222222223,
          0.02666666666666667,
          1,
          0.054878048780487805,
          1,
          0.07142857142857142,
          1,
          0.029411764705882353,
          0.02617801047120419,
          1,
          1,
          0.08333333333333333,
          1,
          0.03676470588235294,
          1,
          0.02857142857142857,
          1,
          0.01937984496124031,
          0.16666666666666666,
          1,
          0.08888888888888889,
          0.012658227848101266,
          0.012422360248447204,
          0.019083969465648856,
          0.031007751937984496,
          0.04411764705882353,
          0.0625,
          1,
          0.045627376425855515,
          1,
          0.14285714285714285,
          0.03319502074688797,
          1,
          1,
          0.013793103448275862,
          0.031578947368421054,
          0.1,
          1,
          1,
          1,
          0.02040816326530612,
          1,
          0.031578947368421054,
          1,
          0.09401709401709402,
          0.03508771929824561,
          0.03225806451612903,
          1,
          1,
          0.041666666666666664,
          0.04433497536945813,
          1,
          1,
          0.015748031496062992,
          0.17647058823529413,
          0.046153846153846156,
          1,
          0.032432432432432434,
          0.02531645569620253,
          0.031914893617021274,
          1,
          0.028901734104046242,
          0.16666666666666666,
          0.01910828025477707,
          1,
          0.053763440860215055,
          0.0375,
          1,
          0.06329113924050633,
          1,
          0.021052631578947368,
          0.016304347826086956,
          1,
          1,
          1,
          1,
          1,
          0.028169014084507043,
          0.06837606837606838,
          1,
          0.019417475728155338,
          1,
          0.00823045267489712,
          0.023255813953488372,
          0.02127659574468085,
          0.017699115044247787,
          0.058823529411764705,
          1,
          1,
          1,
          0.04,
          0.023391812865497075,
          0.009302325581395349,
          1,
          1,
          0.017857142857142856,
          1,
          1,
          1,
          0.0234375,
          1,
          0.08979591836734693,
          1,
          1,
          1,
          0.06451612903225806,
          0.03571428571428571,
          1,
          1,
          0.01293103448275862,
          0.028985507246376812,
          0.014018691588785047,
          0.09486166007905138,
          1,
          0.030303030303030304,
          0.025974025974025976,
          0.0091324200913242,
          0.030927835051546393,
          1,
          2,
          0.018404907975460124,
          1,
          0.0502092050209205,
          1,
          0.031818181818181815,
          1,
          1,
          1,
          0.13740458015267176,
          0.01694915254237288,
          0.027777777777777776,
          0.09302325581395349,
          0.03167420814479638,
          1,
          0.01809954751131222,
          0.01015228426395939,
          1,
          0.025157232704402517,
          0.01875,
          1,
          0.010869565217391304,
          0.0380952380952381,
          0.024390243902439025,
          1,
          0.25,
          1,
          1,
          1,
          1,
          1,
          0.09482758620689655,
          1,
          0.016483516483516484,
          1,
          1,
          0.024096385542168676,
          1,
          1,
          0.019305019305019305,
          0.01327433628318584,
          1,
          0.025210084033613446,
          1,
          2,
          0.05263157894736842,
          1,
          2,
          1,
          0.022988505747126436,
          1,
          0.027649769585253458,
          0.012422360248447204,
          0.0213903743315508,
          0.10344827586206896,
          1,
          0.03271028037383177,
          1,
          0.021551724137931036,
          0.007575757575757576,
          0.04090909090909091,
          1,
          1,
          0.017699115044247787,
          0.2222222222222222,
          0.017142857142857144,
          0.028985507246376812,
          0.013422818791946308,
          1,
          0.06451612903225806,
          1,
          0.016042780748663103,
          0.1111111111111111,
          1,
          0.08695652173913043,
          0.08333333333333333,
          0.015544041450777202,
          0.5,
          1,
          0.05714285714285714,
          1,
          0.02857142857142857,
          1,
          1,
          1,
          1,
          1,
          1,
          0.03296703296703297,
          1,
          0.014150943396226415,
          0.02843601895734597,
          0.01282051282051282,
          1,
          0.03896103896103896,
          1,
          0.008733624454148471,
          0.018796992481203006,
          0.047619047619047616,
          0.023809523809523808,
          1,
          0.016129032258064516,
          1,
          2,
          1,
          0.022900763358778626,
          0.02512562814070352,
          1,
          1,
          0.07865168539325842,
          1,
          0.05555555555555555,
          0.024193548387096774,
          0.01818181818181818,
          1,
          0.030927835051546393,
          1,
          0.011834319526627219,
          1,
          0.03225806451612903,
          0.035,
          0.027522935779816515,
          2,
          0.028037383177570093,
          0.2,
          0.016666666666666666,
          0.047619047619047616,
          1,
          1,
          0.04838709677419355,
          0.05102040816326531,
          1,
          1,
          1,
          0.015384615384615385,
          1,
          0.030303030303030304,
          0.012048192771084338,
          0.051643192488262914,
          1,
          0.029069767441860465,
          1,
          1,
          1,
          1,
          1,
          1,
          0.04054054054054054,
          0.2857142857142857,
          0.038461538461538464,
          1,
          1,
          0.02197802197802198,
          0.02880658436213992,
          1,
          0.01593625498007968,
          0.03125,
          1,
          1,
          1,
          0.025,
          0.034782608695652174,
          1,
          0.03587443946188341,
          1,
          1,
          1,
          1,
          0.028901734104046242,
          0.17391304347826086,
          0.0392156862745098,
          0.020833333333333332,
          0.07575757575757576,
          0.02185792349726776,
          0.020618556701030927,
          0.09917355371900827,
          0.028985507246376812,
          0.027888446215139442,
          1,
          0.05333333333333334,
          1,
          1,
          0.07407407407407407,
          0.023076923076923078,
          1,
          0.017391304347826087,
          0.04054054054054054,
          0.05263157894736842,
          0.047872340425531915,
          0.04150943396226415,
          0.07407407407407407,
          0.03225806451612903,
          0.051181102362204724,
          0.04861111111111111,
          0.0234375,
          1,
          1,
          2,
          0.01568627450980392,
          1,
          0.021505376344086023,
          0.017241379310344827,
          1,
          0.0684931506849315,
          1,
          0.044444444444444446,
          0.11764705882352941,
          2,
          0.041044776119402986,
          0.022900763358778626,
          0.01639344262295082,
          0.02702702702702703,
          2,
          0.06037735849056604,
          0.13333333333333333,
          1,
          0.0136986301369863,
          0.13333333333333333,
          0.03543307086614173,
          0.016,
          0.01744186046511628,
          0.011627906976744186,
          0.25,
          0.025806451612903226,
          1,
          1,
          0.014285714285714285,
          1,
          0.16923076923076924,
          0.02247191011235955,
          0.08333333333333333,
          1,
          0.04040404040404041,
          1,
          0.4,
          1,
          1,
          0.03125,
          1,
          1,
          0.02127659574468085,
          1,
          0.03361344537815126,
          1,
          0.031007751937984496,
          0.014705882352941176,
          1,
          1,
          0.06060606060606061,
          0.017777777777777778,
          0.015873015873015872,
          0.15384615384615385,
          0.24444444444444444,
          1,
          1,
          0.013157894736842105,
          1,
          2,
          0.03278688524590164,
          0.02304147465437788,
          1,
          0.0380952380952381,
          0.05102040816326531,
          1,
          0.02857142857142857,
          0.05555555555555555,
          0.028037383177570093,
          2,
          1,
          1,
          0.029411764705882353,
          0.050980392156862744,
          0.034482758620689655,
          0.06926406926406926,
          1,
          0.056338028169014086,
          1,
          1,
          0.0967741935483871,
          0.024242424242424242,
          0.04887218045112782,
          1,
          0.02666666666666667,
          0.00966183574879227,
          1,
          1,
          0.07692307692307693,
          0.06334841628959276,
          0.015789473684210527,
          0.038461538461538464,
          0.034722222222222224,
          0.06060606060606061,
          1,
          0.1576923076923077,
          0.022026431718061675,
          0.0380952380952381,
          1,
          0.02631578947368421,
          0.011627906976744186,
          1,
          0.05,
          0.025210084033613446,
          0.017857142857142856,
          0.015873015873015872,
          0.13333333333333333,
          0.043478260869565216,
          0.14814814814814814,
          0.01675977653631285,
          0.02242152466367713,
          0.028169014084507043,
          0.02459016393442623,
          0.04878048780487805,
          0.008849557522123894,
          1,
          0.03571428571428571,
          0.04285714285714286,
          1,
          1,
          0.014218009478672985,
          1,
          1,
          1,
          2,
          1,
          1,
          0.0163265306122449,
          0.016260162601626018,
          1,
          1,
          1,
          0.02608695652173913,
          0.00847457627118644,
          0.03225806451612903,
          1,
          1,
          0.027932960893854747,
          2,
          0.02040816326530612,
          0.04891304347826087,
          0.02631578947368421,
          0.014925373134328358,
          1,
          1,
          0.02976190476190476,
          1,
          1,
          1,
          1,
          0.08333333333333333,
          0.03636363636363636,
          0.0379746835443038,
          0.011627906976744186,
          0.017964071856287425,
          0.011583011583011582,
          1,
          1,
          1,
          0.013043478260869565,
          0.06451612903225806,
          0.02032520325203252,
          1,
          0.03902439024390244,
          0.01675977653631285,
          1,
          0.011278195488721804,
          0.0273972602739726,
          0.036585365853658534,
          0.024691358024691357,
          1,
          1,
          0.06666666666666667,
          0.016129032258064516,
          0.03636363636363636,
          0.06060606060606061,
          0.0228310502283105,
          0.020512820512820513,
          0.043478260869565216,
          1,
          0.06626506024096386,
          1,
          0.02681992337164751,
          1,
          0.0189873417721519,
          0.02127659574468085,
          0.02617801047120419,
          0.038461538461538464,
          1,
          0.01775147928994083,
          1,
          0.02631578947368421,
          1,
          1,
          1,
          0.0390625,
          0.06422018348623854,
          0.025974025974025976,
          1,
          1,
          0.013071895424836602,
          1,
          0.15789473684210525,
          1,
          1,
          1,
          0.031446540880503145,
          0.03296703296703297,
          0.02857142857142857,
          1,
          0.014285714285714285,
          0.024793388429752067,
          1,
          0.021929824561403508,
          1,
          0.020833333333333332,
          0.1,
          0.013574660633484163,
          1,
          0.016129032258064516,
          0.02912621359223301,
          1,
          1,
          0.023474178403755867,
          1,
          0.01818181818181818,
          0.029411764705882353,
          0.015789473684210527,
          1,
          0.046153846153846156,
          1,
          1,
          0.023715415019762844,
          0.13358778625954199,
          0.08823529411764706,
          0.03636363636363636,
          0.05442176870748299,
          0.010309278350515464,
          0.025380710659898477,
          0.022556390977443608,
          0.008849557522123894,
          0.5,
          0.04780876494023904,
          1,
          0.14285714285714285,
          0.038461538461538464,
          0.011049723756906077,
          1,
          0.030612244897959183,
          0.05,
          0.6666666666666666,
          0.020161290322580645,
          1,
          1,
          0.03508771929824561,
          0.025510204081632654,
          1,
          1,
          2,
          1,
          1,
          0.10714285714285714,
          0.13333333333333333,
          0.03902439024390244,
          0.021739130434782608,
          1,
          0.014598540145985401,
          0.033962264150943396,
          1,
          1,
          0.026881720430107527,
          1,
          0.2857142857142857,
          0.02666666666666667,
          0.015463917525773196,
          1,
          0.035175879396984924,
          0.03389830508474576,
          0.01904761904761905,
          0.02112676056338028,
          1,
          0.030973451327433628,
          1,
          1,
          0.041044776119402986,
          0.019867549668874173,
          0.015810276679841896,
          0.041666666666666664,
          0.03255813953488372,
          0.02617801047120419,
          0.016666666666666666,
          1,
          1,
          1,
          1,
          0.032467532467532464,
          1,
          0.0196078431372549,
          1,
          0.014492753623188406,
          0.07853403141361257,
          0.3333333333333333,
          0.03571428571428571,
          0.05339805825242718,
          0.02510460251046025,
          1,
          0.072,
          0.021164021164021163,
          0.031007751937984496,
          0.06666666666666667,
          0.012578616352201259,
          1,
          1,
          1,
          0.020202020202020204,
          1,
          1,
          0.019736842105263157,
          0.01680672268907563,
          0.031746031746031744,
          0.04,
          1,
          1,
          2,
          0.012578616352201259,
          1,
          1,
          1,
          0.009615384615384616,
          0.01593625498007968,
          0.03333333333333333,
          1,
          0.038461538461538464,
          0.03278688524590164,
          0.058823529411764705,
          0.0390625,
          0.25,
          0.042105263157894736,
          1,
          0.028169014084507043,
          1,
          0.013761467889908258,
          1,
          1,
          1,
          1,
          0.047619047619047616,
          1,
          0.019417475728155338,
          0.01680672268907563,
          1,
          0.03608247422680412,
          1,
          0.16666666666666666,
          0.04132231404958678,
          1,
          0.047619047619047616,
          0.03278688524590164,
          0.02262443438914027,
          1,
          0.04375,
          1,
          0.034934497816593885,
          0.05392156862745098,
          1,
          0.0427807486631016,
          1,
          0.05128205128205128,
          0.023809523809523808,
          1,
          1,
          0.02185792349726776,
          0.013605442176870748,
          1,
          0.04,
          1,
          0.034482758620689655,
          1,
          0.021739130434782608,
          1,
          0.014184397163120567,
          0.03017241379310345,
          0.04669260700389105,
          1,
          0.06701030927835051,
          0.08955223880597014,
          1,
          1,
          0.06172839506172839,
          0.13333333333333333,
          0.02564102564102564,
          1,
          0.015444015444015444,
          1,
          0.03614457831325301,
          0.016666666666666666,
          1,
          0.04405286343612335,
          1,
          0.023255813953488372,
          1,
          1,
          0.06666666666666667,
          2,
          0.027906976744186046,
          0.04780876494023904,
          0.06060606060606061,
          0.2222222222222222,
          1,
          0.09523809523809523,
          1,
          0.0196078431372549,
          0.012048192771084338,
          1,
          0.0625,
          1,
          0.25,
          0.01015228426395939,
          0.039603960396039604,
          0.02666666666666667,
          0.038461538461538464,
          1,
          0.039473684210526314,
          0.1111111111111111,
          0.025380710659898477,
          0.03225806451612903,
          1,
          0.028985507246376812,
          0.07692307692307693,
          0.02197802197802198,
          0.046632124352331605,
          0.018018018018018018,
          0.04216867469879518,
          0.012195121951219513,
          1,
          1,
          0.038461538461538464,
          1,
          1,
          0.031413612565445025,
          0.05439330543933055,
          1,
          0.043478260869565216,
          1,
          1,
          0.009900990099009901,
          0.022388059701492536,
          0.05405405405405406,
          1,
          0.021621621621621623,
          0.0392156862745098,
          0.025210084033613446,
          0.023255813953488372,
          0.029411764705882353,
          1,
          0.015873015873015872,
          0.015873015873015872,
          0.045454545454545456,
          0.008547008547008548,
          1,
          1,
          1,
          1,
          0.05,
          1,
          0.05405405405405406,
          1,
          0.012658227848101266,
          0.1111111111111111,
          1,
          0.23076923076923078,
          0.061224489795918366,
          1,
          1,
          0.046242774566473986,
          0.029197080291970802,
          0.2857142857142857,
          0.020242914979757085,
          0.01775147928994083,
          1,
          0.0297029702970297,
          1,
          1,
          0.08333333333333333,
          0.02666666666666667,
          1,
          1,
          1,
          1,
          0.02564102564102564,
          0.022099447513812154,
          0.11428571428571428,
          0.03225806451612903,
          0.04428044280442804,
          0.03937007874015748,
          1,
          1,
          0.022556390977443608,
          0.03125,
          0.053691275167785234,
          0.03208556149732621,
          0.015789473684210527,
          0.06060606060606061,
          0.020833333333333332,
          1,
          0.0196078431372549,
          1,
          0.027522935779816515,
          0.06060606060606061,
          1,
          0.027522935779816515,
          0.08571428571428572,
          0.04054054054054054,
          1,
          1,
          0.011363636363636364,
          1,
          0.02843601895734597,
          1,
          0.024193548387096774,
          1,
          0.06666666666666667,
          1,
          0.030303030303030304,
          0.2,
          1,
          0.017142857142857144,
          1,
          1,
          0.017094017094017096,
          0.05263157894736842,
          1,
          0.013605442176870748,
          0.13333333333333333,
          1,
          0.025974025974025976,
          0.020689655172413793,
          0.043478260869565216,
          1,
          1,
          0.0330188679245283,
          1,
          0.014778325123152709,
          1,
          1,
          0.011235955056179775,
          0.14919354838709678,
          0.044444444444444446,
          0.02564102564102564,
          1,
          1,
          0.034934497816593885,
          0.022988505747126436,
          1,
          0.015384615384615385,
          1,
          0.06692913385826772,
          1,
          0.046875,
          0.2222222222222222,
          0.038461538461538464,
          0.09266409266409266,
          0.041666666666666664,
          1,
          1,
          1,
          1,
          0.018018018018018018,
          0.016597510373443983,
          0.0380952380952381,
          0.016574585635359115,
          1,
          1,
          0.05309734513274336,
          1,
          0.015873015873015872,
          0.05405405405405406,
          1,
          0.02531645569620253,
          0.039473684210526314,
          0.046153846153846156,
          0.02586206896551724,
          1,
          1,
          0.1,
          0.03389830508474576,
          0.022222222222222223,
          0.009950248756218905,
          0.029411764705882353,
          1,
          0.008583690987124463,
          0.05263157894736842,
          1,
          0.01675977653631285,
          1,
          0.02877697841726619,
          0.05555555555555555,
          0.014492753623188406,
          0.033783783783783786,
          1,
          0.03389830508474576,
          1,
          2,
          1,
          0.056074766355140186,
          1,
          0.04081632653061224,
          0.01282051282051282,
          0.02976190476190476,
          1,
          0.03414634146341464,
          1,
          1,
          0.05405405405405406,
          0.13382899628252787,
          1,
          1,
          0.0967741935483871,
          1,
          1,
          0.013513513513513514,
          0.022556390977443608,
          1,
          1,
          1,
          1,
          0.08163265306122448,
          1,
          2,
          1,
          0.011494252873563218,
          0.017241379310344827,
          0.025210084033613446,
          1,
          0.07407407407407407,
          1,
          0.03508771929824561,
          1,
          0.06557377049180328,
          1,
          0.018292682926829267,
          0.0625,
          0.016304347826086956,
          1,
          1,
          0.2,
          0.020161290322580645,
          1,
          0.016597510373443983,
          0.03278688524590164,
          0.05825242718446602,
          0.03333333333333333,
          0.04081632653061224,
          0.023809523809523808,
          1,
          0.02403846153846154,
          1,
          1,
          1,
          1,
          0.011976047904191617,
          1,
          0.022857142857142857,
          1,
          1,
          1,
          0.0390625,
          1,
          0.03184713375796178,
          0.05084745762711865,
          0.03529411764705882,
          0.02127659574468085,
          1,
          0.020161290322580645,
          1,
          1,
          1,
          1,
          0.07407407407407407,
          0.04583333333333333,
          0.046511627906976744,
          1,
          1,
          0.04285714285714286,
          1,
          1,
          1,
          1,
          0.03571428571428571,
          0.05,
          1,
          1,
          0.014150943396226415,
          1,
          0.031007751937984496,
          0.04782608695652174,
          1,
          0.06779661016949153,
          1,
          1,
          1,
          0.015228426395939087,
          1,
          0.017964071856287425,
          0.09130434782608696,
          2,
          1,
          1,
          0.015873015873015872,
          0.02252252252252252,
          1,
          0.017857142857142856,
          0.15789473684210525,
          1,
          0.01639344262295082,
          0.020100502512562814,
          1,
          1,
          0.02702702702702703,
          0.011976047904191617,
          0.03418803418803419,
          1,
          1,
          1,
          0.025,
          0.026881720430107527,
          0.02040816326530612,
          1,
          0.025,
          1,
          1,
          1,
          1,
          0.011049723756906077,
          0.015228426395939087,
          1,
          0.043478260869565216,
          1,
          0.010526315789473684,
          0.012396694214876033,
          0.03529411764705882,
          0.021052631578947368,
          0.042328042328042326,
          0.01507537688442211,
          1,
          1,
          1,
          0.026845637583892617,
          0.058823529411764705,
          0.024390243902439025,
          0.019417475728155338,
          0.02666666666666667,
          1,
          0.016260162601626018,
          0.00909090909090909,
          0.09433962264150944,
          1,
          1,
          1,
          0.015384615384615385,
          0.041666666666666664,
          0.07272727272727272,
          0.016129032258064516,
          0.16666666666666666,
          0.01764705882352941,
          0.02197802197802198,
          0.014388489208633094,
          0.03225806451612903,
          1,
          1,
          0.02336448598130841,
          1,
          0.024630541871921183,
          0.011695906432748537,
          1,
          1,
          1,
          1,
          0.030120481927710843,
          0.016042780748663103,
          1,
          1,
          1,
          1,
          0.03529411764705882,
          0.2857142857142857,
          1,
          0.018404907975460124,
          1,
          0.018433179723502304,
          0.16538461538461538,
          0.017543859649122806,
          1,
          1,
          1,
          0.02252252252252252,
          1,
          1,
          0.02926829268292683,
          1,
          1,
          0.012658227848101266,
          2,
          1,
          0.029411764705882353,
          1,
          0.026881720430107527,
          0.012048192771084338,
          0.022900763358778626,
          0.01680672268907563,
          1,
          0.2857142857142857,
          1,
          0.0125,
          1,
          1,
          1,
          1,
          1,
          1,
          1,
          1,
          1,
          1,
          0.02586206896551724,
          1,
          1,
          0.125,
          1,
          1,
          1,
          0.013333333333333334,
          0.015463917525773196,
          1,
          1,
          0.027149321266968326,
          1,
          0.03636363636363636,
          0.016194331983805668,
          0.13333333333333333,
          0.06896551724137931,
          0.1005586592178771,
          0.01639344262295082,
          0.08888888888888889,
          0.018018018018018018,
          0.0379746835443038,
          0.031496062992125984,
          1,
          0.01694915254237288,
          0.031914893617021274,
          1,
          0.031818181818181815,
          1,
          0.01702127659574468,
          1,
          1,
          1,
          0.07407407407407407,
          1,
          0.06666666666666667,
          0.04081632653061224,
          1,
          0.02727272727272727,
          1,
          1,
          0.01694915254237288,
          0.013392857142857142,
          1,
          0.1111111111111111,
          0.01092896174863388,
          1,
          1,
          1,
          0.04678362573099415,
          0.028225806451612902,
          0.07954545454545454,
          0.04945054945054945,
          0.06060606060606061,
          0.09561752988047809,
          1,
          0.1111111111111111,
          1,
          1,
          1,
          0.029850746268656716,
          0.02158273381294964,
          0.016129032258064516,
          1,
          0.032467532467532464,
          1,
          1,
          1,
          0.03529411764705882,
          1,
          1,
          1,
          0.022988505747126436,
          0.027777777777777776,
          0.060109289617486336,
          1,
          1,
          1,
          0.0390625,
          0.0625,
          1,
          0.011695906432748537,
          1,
          0.05,
          1,
          0.02185792349726776,
          2,
          1,
          1,
          0.029535864978902954,
          0.031496062992125984,
          0.014184397163120567,
          0.11790393013100436,
          0.022556390977443608,
          0.011235955056179775,
          1,
          1,
          0.2,
          1,
          1,
          0.016129032258064516,
          1,
          0.037209302325581395,
          0.04186046511627907,
          0.04035874439461883,
          1,
          1,
          1,
          1,
          0.0106951871657754,
          0.03333333333333333,
          0.015544041450777202,
          1,
          0.028169014084507043,
          1,
          0.01327433628318584,
          0.018292682926829267,
          0.012658227848101266,
          0.012145748987854251,
          1,
          1,
          0.01639344262295082,
          0.044444444444444446,
          1,
          0.021645021645021644,
          0.25,
          0.031914893617021274,
          0.018633540372670808,
          0.02109704641350211,
          0.05454545454545454,
          0.01935483870967742,
          1,
          1,
          0.013605442176870748,
          1,
          1,
          0.022099447513812154,
          1,
          0.034482758620689655,
          1,
          1,
          0.037037037037037035,
          0.025,
          1,
          1,
          0.07423580786026202,
          0.027149321266968326,
          1,
          0.02197802197802198,
          1,
          0.021052631578947368,
          0.068,
          1,
          1,
          0.0782608695652174,
          0.04186046511627907,
          0.03488372093023256,
          0.021367521367521368,
          0.028985507246376812,
          0.04245283018867924,
          0.25384615384615383,
          0.02531645569620253,
          0.014705882352941176,
          0.09574468085106383,
          0.04827586206896552,
          1,
          0.029411764705882353,
          0.07264957264957266,
          0.01744186046511628,
          1,
          1,
          1,
          0.05220883534136546,
          1,
          1,
          1,
          1,
          1,
          1,
          1,
          2,
          0.037209302325581395,
          0.014705882352941176,
          0.014018691588785047,
          0.037037037037037035,
          0.011299435028248588,
          1,
          1,
          0.013245033112582781,
          0.014218009478672985,
          0.025210084033613446,
          0.0106951871657754,
          1,
          0.04081632653061224,
          0.03225806451612903,
          0.0273224043715847,
          0.016260162601626018,
          0.024271844660194174,
          0.10714285714285714,
          1,
          0.06,
          0.03278688524590164,
          0.03864734299516908,
          0.0661764705882353,
          0.018433179723502304,
          1,
          0.125,
          0.05439330543933055,
          0.2,
          1,
          0.05970149253731343,
          0.012987012987012988,
          0.038461538461538464,
          0.024691358024691357,
          0.034482758620689655,
          0.02197802197802198,
          1,
          0.015789473684210527,
          0.06060606060606061,
          1,
          0.016,
          1,
          1,
          0.045112781954887216,
          1,
          1,
          0.23134328358208955,
          0.17391304347826086,
          1,
          0.008097165991902834,
          0.0106951871657754,
          0.032432432432432434,
          1,
          0.03755868544600939,
          0.012195121951219513,
          0.0379746835443038,
          0.011049723756906077,
          0.032,
          0.023668639053254437,
          0.028368794326241134,
          1,
          1,
          0.029850746268656716,
          1,
          0.031818181818181815,
          0.015228426395939087,
          1,
          0.02857142857142857,
          0.011764705882352941,
          0.0430622009569378,
          0.02127659574468085,
          1,
          0.021052631578947368,
          0.014598540145985401,
          0.013043478260869565,
          1,
          1,
          0.0992063492063492,
          0.018604651162790697,
          1,
          0.02197802197802198,
          1,
          0.020202020202020204,
          0.011049723756906077,
          0.041666666666666664,
          0.024096385542168676,
          0.014598540145985401,
          2,
          1,
          1,
          0.06772908366533864,
          1,
          1,
          1,
          0.014598540145985401,
          1,
          0.07407407407407407,
          0.10344827586206896,
          1,
          1,
          0.18181818181818182,
          0.06666666666666667,
          0.03816793893129771,
          1,
          1,
          1,
          0.016129032258064516,
          0.025,
          0.024630541871921183,
          1,
          1,
          1,
          1,
          0.013422818791946308,
          0.008333333333333333,
          0.027472527472527472,
          1,
          1,
          0.013422818791946308,
          0.13636363636363635,
          1,
          0.0625,
          1,
          0.06896551724137931,
          0.022727272727272728,
          0.041474654377880185,
          1,
          1,
          0.014634146341463415,
          1,
          1,
          0.013157894736842105,
          1,
          0.02843601895734597,
          1,
          0.026905829596412557,
          0.022222222222222223,
          0.019762845849802372,
          1,
          1,
          0.011904761904761904,
          1,
          1,
          0.05128205128205128,
          0.0392156862745098,
          1,
          0.125,
          1,
          0.013422818791946308,
          1,
          1,
          1,
          1,
          1,
          1,
          1,
          0.0196078431372549,
          0.03896103896103896,
          0.023668639053254437,
          0.05426356589147287,
          0.0228310502283105,
          0.02877697841726619,
          1,
          1,
          0.025906735751295335,
          1,
          1,
          1,
          0.02702702702702703,
          0.16666666666666666,
          0.11864406779661017,
          1,
          1,
          0.03225806451612903,
          0.024793388429752067,
          1,
          1,
          0.01935483870967742,
          0.39925373134328357,
          0.03463203463203463,
          0.028735632183908046,
          2,
          1,
          0.0078125,
          0.016,
          1,
          1,
          0.027559055118110236,
          1,
          0.014018691588785047,
          0.05660377358490566,
          0.021739130434782608,
          0.01875,
          0.06060606060606061,
          0.06666666666666667,
          0.06329113924050633,
          0.060085836909871244,
          0.06896551724137931,
          1,
          1,
          0.041666666666666664,
          1,
          0.02127659574468085,
          1,
          0.02553191489361702,
          0.022058823529411766,
          0.037037037037037035,
          0.031007751937984496,
          1,
          0.023668639053254437,
          1,
          1,
          0.022857142857142857,
          0.05263157894736842,
          0.02072538860103627,
          1,
          0.04,
          0.017241379310344827,
          1,
          1,
          1,
          0.0379746835443038,
          0.03355704697986577,
          0.0423728813559322,
          0.07307692307692308,
          0.05241935483870968,
          0.075,
          0.011857707509881422,
          0.038834951456310676,
          0.01834862385321101,
          0.016597510373443983,
          0.023255813953488372,
          1,
          0.028846153846153848,
          0.05405405405405406,
          0.037037037037037035,
          1,
          0.03608247422680412,
          1,
          0.024691358024691357,
          0.038461538461538464,
          0.013513513513513514,
          1,
          1,
          2,
          1,
          0.031746031746031744,
          1,
          0.01932367149758454,
          1,
          0.037037037037037035,
          1,
          1,
          1,
          1,
          1,
          0.034334763948497854,
          1,
          0.027522935779816515,
          0.0967741935483871,
          0.030612244897959183,
          0.03255813953488372,
          1,
          0.027777777777777776,
          1,
          1,
          0.06422018348623854,
          0.016129032258064516,
          0.045454545454545456,
          0.023809523809523808,
          0.019801980198019802,
          1,
          0.06153846153846154,
          1,
          0.01834862385321101,
          0.012448132780082987,
          0.01092896174863388,
          0.04,
          0.035175879396984924,
          0.03184713375796178,
          0.018796992481203006,
          0.011428571428571429,
          0.034934497816593885,
          0.015228426395939087,
          1,
          1,
          1,
          1,
          0.03529411764705882,
          0.06557377049180328,
          1,
          1,
          1,
          2,
          0.043859649122807015,
          1,
          1,
          1,
          0.09716599190283401,
          0.04861111111111111,
          1,
          1,
          1,
          0.02,
          0.023076923076923078,
          0.2222222222222222,
          1,
          0.2,
          0.03619909502262444,
          1,
          1,
          1,
          0.03773584905660377,
          1,
          0.010810810810810811,
          1,
          0.02564102564102564,
          0.04924242424242424,
          0.03636363636363636,
          0.021052631578947368,
          1,
          1,
          0.02702702702702703,
          0.02512562814070352,
          0.012295081967213115,
          0.021052631578947368,
          0.03225806451612903,
          0.03065134099616858,
          1,
          0.022099447513812154,
          1,
          0.08823529411764706,
          0.012875536480686695,
          1,
          1,
          1,
          1,
          0.01092896174863388,
          1,
          0.012121212121212121,
          1,
          1,
          0.05263157894736842,
          1,
          0.031578947368421054,
          1,
          0.02127659574468085,
          0.0625,
          0.0425531914893617,
          1,
          0.03404255319148936,
          1,
          1,
          0.04225352112676056,
          0.023809523809523808,
          0.07368421052631578,
          0.024,
          1,
          0.02158273381294964,
          0.02631578947368421,
          0.0625,
          0.008928571428571428,
          0.027932960893854747,
          0.07905138339920949,
          0.020202020202020204,
          1,
          0.0335195530726257,
          0.0625,
          1,
          0.03389830508474576,
          0.009345794392523364,
          0.032467532467532464,
          0.016129032258064516,
          0.019417475728155338,
          1,
          0.026785714285714284,
          0.16666666666666666,
          0.014084507042253521,
          0.023255813953488372,
          1,
          1,
          0.060085836909871244,
          1,
          0.011363636363636364,
          1,
          1.5,
          0.055865921787709494,
          1,
          1,
          1,
          2,
          0.028,
          0.01910828025477707,
          0.014634146341463415,
          1,
          0.03286384976525822,
          0.07079646017699115,
          0.024193548387096774,
          0.05660377358490566,
          2,
          2,
          0.032679738562091505,
          0.030534351145038167,
          1,
          1,
          0.011904761904761904,
          0.018518518518518517,
          0.04666666666666667,
          1,
          0.011627906976744186,
          1,
          0.01984126984126984,
          1,
          0.020689655172413793,
          0.06451612903225806,
          0.02531645569620253,
          0.02247191011235955,
          1,
          1,
          1,
          0.013452914798206279,
          1,
          0.026785714285714284,
          1,
          0.02247191011235955,
          1,
          1,
          0.010050251256281407,
          1,
          1,
          1,
          0.02973977695167286,
          1,
          0.02242152466367713
         ],
         "xaxis": "x4",
         "yaxis": "y4"
        }
       ],
       "layout": {
        "annotations": [
         {
          "font": {
           "size": 16
          },
          "showarrow": false,
          "text": "Распределение количества заказов",
          "x": 0.225,
          "xanchor": "center",
          "xref": "paper",
          "y": 1,
          "yanchor": "bottom",
          "yref": "paper"
         },
         {
          "font": {
           "size": 16
          },
          "showarrow": false,
          "text": "Распределение среднего чека",
          "x": 0.775,
          "xanchor": "center",
          "xref": "paper",
          "y": 1,
          "yanchor": "bottom",
          "yref": "paper"
         },
         {
          "font": {
           "size": 16
          },
          "showarrow": false,
          "text": "Распределение количества категорий",
          "x": 0.225,
          "xanchor": "center",
          "xref": "paper",
          "y": 0.375,
          "yanchor": "bottom",
          "yref": "paper"
         },
         {
          "font": {
           "size": 16
          },
          "showarrow": false,
          "text": "Распределение частоты покупок",
          "x": 0.775,
          "xanchor": "center",
          "xref": "paper",
          "y": 0.375,
          "yanchor": "bottom",
          "yref": "paper"
         }
        ],
        "height": 800,
        "showlegend": false,
        "template": {
         "data": {
          "bar": [
           {
            "error_x": {
             "color": "#2a3f5f"
            },
            "error_y": {
             "color": "#2a3f5f"
            },
            "marker": {
             "line": {
              "color": "#E5ECF6",
              "width": 0.5
             },
             "pattern": {
              "fillmode": "overlay",
              "size": 10,
              "solidity": 0.2
             }
            },
            "type": "bar"
           }
          ],
          "barpolar": [
           {
            "marker": {
             "line": {
              "color": "#E5ECF6",
              "width": 0.5
             },
             "pattern": {
              "fillmode": "overlay",
              "size": 10,
              "solidity": 0.2
             }
            },
            "type": "barpolar"
           }
          ],
          "carpet": [
           {
            "aaxis": {
             "endlinecolor": "#2a3f5f",
             "gridcolor": "white",
             "linecolor": "white",
             "minorgridcolor": "white",
             "startlinecolor": "#2a3f5f"
            },
            "baxis": {
             "endlinecolor": "#2a3f5f",
             "gridcolor": "white",
             "linecolor": "white",
             "minorgridcolor": "white",
             "startlinecolor": "#2a3f5f"
            },
            "type": "carpet"
           }
          ],
          "choropleth": [
           {
            "colorbar": {
             "outlinewidth": 0,
             "ticks": ""
            },
            "type": "choropleth"
           }
          ],
          "contour": [
           {
            "colorbar": {
             "outlinewidth": 0,
             "ticks": ""
            },
            "colorscale": [
             [
              0,
              "#0d0887"
             ],
             [
              0.1111111111111111,
              "#46039f"
             ],
             [
              0.2222222222222222,
              "#7201a8"
             ],
             [
              0.3333333333333333,
              "#9c179e"
             ],
             [
              0.4444444444444444,
              "#bd3786"
             ],
             [
              0.5555555555555556,
              "#d8576b"
             ],
             [
              0.6666666666666666,
              "#ed7953"
             ],
             [
              0.7777777777777778,
              "#fb9f3a"
             ],
             [
              0.8888888888888888,
              "#fdca26"
             ],
             [
              1,
              "#f0f921"
             ]
            ],
            "type": "contour"
           }
          ],
          "contourcarpet": [
           {
            "colorbar": {
             "outlinewidth": 0,
             "ticks": ""
            },
            "type": "contourcarpet"
           }
          ],
          "heatmap": [
           {
            "colorbar": {
             "outlinewidth": 0,
             "ticks": ""
            },
            "colorscale": [
             [
              0,
              "#0d0887"
             ],
             [
              0.1111111111111111,
              "#46039f"
             ],
             [
              0.2222222222222222,
              "#7201a8"
             ],
             [
              0.3333333333333333,
              "#9c179e"
             ],
             [
              0.4444444444444444,
              "#bd3786"
             ],
             [
              0.5555555555555556,
              "#d8576b"
             ],
             [
              0.6666666666666666,
              "#ed7953"
             ],
             [
              0.7777777777777778,
              "#fb9f3a"
             ],
             [
              0.8888888888888888,
              "#fdca26"
             ],
             [
              1,
              "#f0f921"
             ]
            ],
            "type": "heatmap"
           }
          ],
          "heatmapgl": [
           {
            "colorbar": {
             "outlinewidth": 0,
             "ticks": ""
            },
            "colorscale": [
             [
              0,
              "#0d0887"
             ],
             [
              0.1111111111111111,
              "#46039f"
             ],
             [
              0.2222222222222222,
              "#7201a8"
             ],
             [
              0.3333333333333333,
              "#9c179e"
             ],
             [
              0.4444444444444444,
              "#bd3786"
             ],
             [
              0.5555555555555556,
              "#d8576b"
             ],
             [
              0.6666666666666666,
              "#ed7953"
             ],
             [
              0.7777777777777778,
              "#fb9f3a"
             ],
             [
              0.8888888888888888,
              "#fdca26"
             ],
             [
              1,
              "#f0f921"
             ]
            ],
            "type": "heatmapgl"
           }
          ],
          "histogram": [
           {
            "marker": {
             "pattern": {
              "fillmode": "overlay",
              "size": 10,
              "solidity": 0.2
             }
            },
            "type": "histogram"
           }
          ],
          "histogram2d": [
           {
            "colorbar": {
             "outlinewidth": 0,
             "ticks": ""
            },
            "colorscale": [
             [
              0,
              "#0d0887"
             ],
             [
              0.1111111111111111,
              "#46039f"
             ],
             [
              0.2222222222222222,
              "#7201a8"
             ],
             [
              0.3333333333333333,
              "#9c179e"
             ],
             [
              0.4444444444444444,
              "#bd3786"
             ],
             [
              0.5555555555555556,
              "#d8576b"
             ],
             [
              0.6666666666666666,
              "#ed7953"
             ],
             [
              0.7777777777777778,
              "#fb9f3a"
             ],
             [
              0.8888888888888888,
              "#fdca26"
             ],
             [
              1,
              "#f0f921"
             ]
            ],
            "type": "histogram2d"
           }
          ],
          "histogram2dcontour": [
           {
            "colorbar": {
             "outlinewidth": 0,
             "ticks": ""
            },
            "colorscale": [
             [
              0,
              "#0d0887"
             ],
             [
              0.1111111111111111,
              "#46039f"
             ],
             [
              0.2222222222222222,
              "#7201a8"
             ],
             [
              0.3333333333333333,
              "#9c179e"
             ],
             [
              0.4444444444444444,
              "#bd3786"
             ],
             [
              0.5555555555555556,
              "#d8576b"
             ],
             [
              0.6666666666666666,
              "#ed7953"
             ],
             [
              0.7777777777777778,
              "#fb9f3a"
             ],
             [
              0.8888888888888888,
              "#fdca26"
             ],
             [
              1,
              "#f0f921"
             ]
            ],
            "type": "histogram2dcontour"
           }
          ],
          "mesh3d": [
           {
            "colorbar": {
             "outlinewidth": 0,
             "ticks": ""
            },
            "type": "mesh3d"
           }
          ],
          "parcoords": [
           {
            "line": {
             "colorbar": {
              "outlinewidth": 0,
              "ticks": ""
             }
            },
            "type": "parcoords"
           }
          ],
          "pie": [
           {
            "automargin": true,
            "type": "pie"
           }
          ],
          "scatter": [
           {
            "fillpattern": {
             "fillmode": "overlay",
             "size": 10,
             "solidity": 0.2
            },
            "type": "scatter"
           }
          ],
          "scatter3d": [
           {
            "line": {
             "colorbar": {
              "outlinewidth": 0,
              "ticks": ""
             }
            },
            "marker": {
             "colorbar": {
              "outlinewidth": 0,
              "ticks": ""
             }
            },
            "type": "scatter3d"
           }
          ],
          "scattercarpet": [
           {
            "marker": {
             "colorbar": {
              "outlinewidth": 0,
              "ticks": ""
             }
            },
            "type": "scattercarpet"
           }
          ],
          "scattergeo": [
           {
            "marker": {
             "colorbar": {
              "outlinewidth": 0,
              "ticks": ""
             }
            },
            "type": "scattergeo"
           }
          ],
          "scattergl": [
           {
            "marker": {
             "colorbar": {
              "outlinewidth": 0,
              "ticks": ""
             }
            },
            "type": "scattergl"
           }
          ],
          "scattermapbox": [
           {
            "marker": {
             "colorbar": {
              "outlinewidth": 0,
              "ticks": ""
             }
            },
            "type": "scattermapbox"
           }
          ],
          "scatterpolar": [
           {
            "marker": {
             "colorbar": {
              "outlinewidth": 0,
              "ticks": ""
             }
            },
            "type": "scatterpolar"
           }
          ],
          "scatterpolargl": [
           {
            "marker": {
             "colorbar": {
              "outlinewidth": 0,
              "ticks": ""
             }
            },
            "type": "scatterpolargl"
           }
          ],
          "scatterternary": [
           {
            "marker": {
             "colorbar": {
              "outlinewidth": 0,
              "ticks": ""
             }
            },
            "type": "scatterternary"
           }
          ],
          "surface": [
           {
            "colorbar": {
             "outlinewidth": 0,
             "ticks": ""
            },
            "colorscale": [
             [
              0,
              "#0d0887"
             ],
             [
              0.1111111111111111,
              "#46039f"
             ],
             [
              0.2222222222222222,
              "#7201a8"
             ],
             [
              0.3333333333333333,
              "#9c179e"
             ],
             [
              0.4444444444444444,
              "#bd3786"
             ],
             [
              0.5555555555555556,
              "#d8576b"
             ],
             [
              0.6666666666666666,
              "#ed7953"
             ],
             [
              0.7777777777777778,
              "#fb9f3a"
             ],
             [
              0.8888888888888888,
              "#fdca26"
             ],
             [
              1,
              "#f0f921"
             ]
            ],
            "type": "surface"
           }
          ],
          "table": [
           {
            "cells": {
             "fill": {
              "color": "#EBF0F8"
             },
             "line": {
              "color": "white"
             }
            },
            "header": {
             "fill": {
              "color": "#C8D4E3"
             },
             "line": {
              "color": "white"
             }
            },
            "type": "table"
           }
          ]
         },
         "layout": {
          "annotationdefaults": {
           "arrowcolor": "#2a3f5f",
           "arrowhead": 0,
           "arrowwidth": 1
          },
          "autotypenumbers": "strict",
          "coloraxis": {
           "colorbar": {
            "outlinewidth": 0,
            "ticks": ""
           }
          },
          "colorscale": {
           "diverging": [
            [
             0,
             "#8e0152"
            ],
            [
             0.1,
             "#c51b7d"
            ],
            [
             0.2,
             "#de77ae"
            ],
            [
             0.3,
             "#f1b6da"
            ],
            [
             0.4,
             "#fde0ef"
            ],
            [
             0.5,
             "#f7f7f7"
            ],
            [
             0.6,
             "#e6f5d0"
            ],
            [
             0.7,
             "#b8e186"
            ],
            [
             0.8,
             "#7fbc41"
            ],
            [
             0.9,
             "#4d9221"
            ],
            [
             1,
             "#276419"
            ]
           ],
           "sequential": [
            [
             0,
             "#0d0887"
            ],
            [
             0.1111111111111111,
             "#46039f"
            ],
            [
             0.2222222222222222,
             "#7201a8"
            ],
            [
             0.3333333333333333,
             "#9c179e"
            ],
            [
             0.4444444444444444,
             "#bd3786"
            ],
            [
             0.5555555555555556,
             "#d8576b"
            ],
            [
             0.6666666666666666,
             "#ed7953"
            ],
            [
             0.7777777777777778,
             "#fb9f3a"
            ],
            [
             0.8888888888888888,
             "#fdca26"
            ],
            [
             1,
             "#f0f921"
            ]
           ],
           "sequentialminus": [
            [
             0,
             "#0d0887"
            ],
            [
             0.1111111111111111,
             "#46039f"
            ],
            [
             0.2222222222222222,
             "#7201a8"
            ],
            [
             0.3333333333333333,
             "#9c179e"
            ],
            [
             0.4444444444444444,
             "#bd3786"
            ],
            [
             0.5555555555555556,
             "#d8576b"
            ],
            [
             0.6666666666666666,
             "#ed7953"
            ],
            [
             0.7777777777777778,
             "#fb9f3a"
            ],
            [
             0.8888888888888888,
             "#fdca26"
            ],
            [
             1,
             "#f0f921"
            ]
           ]
          },
          "colorway": [
           "#636efa",
           "#EF553B",
           "#00cc96",
           "#ab63fa",
           "#FFA15A",
           "#19d3f3",
           "#FF6692",
           "#B6E880",
           "#FF97FF",
           "#FECB52"
          ],
          "font": {
           "color": "#2a3f5f"
          },
          "geo": {
           "bgcolor": "white",
           "lakecolor": "white",
           "landcolor": "#E5ECF6",
           "showlakes": true,
           "showland": true,
           "subunitcolor": "white"
          },
          "hoverlabel": {
           "align": "left"
          },
          "hovermode": "closest",
          "mapbox": {
           "style": "light"
          },
          "paper_bgcolor": "white",
          "plot_bgcolor": "#E5ECF6",
          "polar": {
           "angularaxis": {
            "gridcolor": "white",
            "linecolor": "white",
            "ticks": ""
           },
           "bgcolor": "#E5ECF6",
           "radialaxis": {
            "gridcolor": "white",
            "linecolor": "white",
            "ticks": ""
           }
          },
          "scene": {
           "xaxis": {
            "backgroundcolor": "#E5ECF6",
            "gridcolor": "white",
            "gridwidth": 2,
            "linecolor": "white",
            "showbackground": true,
            "ticks": "",
            "zerolinecolor": "white"
           },
           "yaxis": {
            "backgroundcolor": "#E5ECF6",
            "gridcolor": "white",
            "gridwidth": 2,
            "linecolor": "white",
            "showbackground": true,
            "ticks": "",
            "zerolinecolor": "white"
           },
           "zaxis": {
            "backgroundcolor": "#E5ECF6",
            "gridcolor": "white",
            "gridwidth": 2,
            "linecolor": "white",
            "showbackground": true,
            "ticks": "",
            "zerolinecolor": "white"
           }
          },
          "shapedefaults": {
           "line": {
            "color": "#2a3f5f"
           }
          },
          "ternary": {
           "aaxis": {
            "gridcolor": "white",
            "linecolor": "white",
            "ticks": ""
           },
           "baxis": {
            "gridcolor": "white",
            "linecolor": "white",
            "ticks": ""
           },
           "bgcolor": "#E5ECF6",
           "caxis": {
            "gridcolor": "white",
            "linecolor": "white",
            "ticks": ""
           }
          },
          "title": {
           "x": 0.05
          },
          "xaxis": {
           "automargin": true,
           "gridcolor": "white",
           "linecolor": "white",
           "ticks": "",
           "title": {
            "standoff": 15
           },
           "zerolinecolor": "white",
           "zerolinewidth": 2
          },
          "yaxis": {
           "automargin": true,
           "gridcolor": "white",
           "linecolor": "white",
           "ticks": "",
           "title": {
            "standoff": 15
           },
           "zerolinecolor": "white",
           "zerolinewidth": 2
          }
         }
        },
        "title": {
         "text": "Распределение ключевых метрик клиентских профилей"
        },
        "xaxis": {
         "anchor": "y",
         "domain": [
          0,
          0.45
         ]
        },
        "xaxis2": {
         "anchor": "y2",
         "domain": [
          0.55,
          1
         ]
        },
        "xaxis3": {
         "anchor": "y3",
         "domain": [
          0,
          0.45
         ]
        },
        "xaxis4": {
         "anchor": "y4",
         "domain": [
          0.55,
          1
         ]
        },
        "yaxis": {
         "anchor": "x",
         "domain": [
          0.625,
          1
         ]
        },
        "yaxis2": {
         "anchor": "x2",
         "domain": [
          0.625,
          1
         ]
        },
        "yaxis3": {
         "anchor": "x3",
         "domain": [
          0,
          0.375
         ]
        },
        "yaxis4": {
         "anchor": "x4",
         "domain": [
          0,
          0.375
         ]
        }
       }
      }
     },
     "metadata": {},
     "output_type": "display_data"
    }
   ],
   "source": [
    "# Создаем визуализацию распределения ключевых метрик\n",
    "fig = make_subplots(\n",
    "    rows=2, cols=2,\n",
    "    subplot_titles=(\n",
    "        'Распределение количества заказов',\n",
    "        'Распределение среднего чека',\n",
    "        'Распределение количества категорий',\n",
    "        'Распределение частоты покупок'\n",
    "    )\n",
    ")\n",
    "\n",
    "fig.add_trace(\n",
    "    go.Histogram(x=customer_profiles['total_orders'], name='Количество заказов'),\n",
    "    row=1, col=1\n",
    ")\n",
    "\n",
    "fig.add_trace(\n",
    "    go.Histogram(x=customer_profiles['avg_order_value'], name='Средний чек'),\n",
    "    row=1, col=2\n",
    ")\n",
    "\n",
    "fig.add_trace(\n",
    "    go.Histogram(x=customer_profiles['unique_categories'], name='Количество категорий'),\n",
    "    row=2, col=1\n",
    ")\n",
    "\n",
    "fig.add_trace(\n",
    "    go.Histogram(x=customer_profiles['purchase_frequency'], name='Частота покупок'),\n",
    "    row=2, col=2\n",
    ")\n",
    "\n",
    "fig.update_layout(\n",
    "    height=800,\n",
    "    title_text='Распределение ключевых метрик клиентских профилей',\n",
    "    showlegend=False\n",
    ")\n",
    "\n",
    "fig.show()\n",
    "\n",
    "# Сохраняем профили для дальнейшего анализа\n",
    "customer_profiles.to_csv('customer_profiles.csv', index=False)"
   ]
  },
  {
   "cell_type": "markdown",
   "metadata": {},
   "source": [
    "#### 3.4.1. **Выводы по анализу профилей клиентов**"
   ]
  },
  {
   "cell_type": "markdown",
   "metadata": {},
   "source": [
    "1. **Анализ покупательской активности**\n",
    "\n",
    "\n",
    "    **Количество заказов**:\n",
    "\n",
    "    - Среднее: 3.6 заказа на клиента\n",
    "\n",
    "    - Медиана: 2 заказа\n",
    "\n",
    "    - 75% клиентов делают не более 4 заказов\n",
    "\n",
    "    - Максимум: 914 заказов (вероятно, корпоративный клиент с ID -1)\n",
    "\n",
    "    - Большой разрыв между средним и медианным значением указывает на сильную правостороннюю асимметрию\n",
    "\n",
    "\n",
    "    **Частота покупок**:\n",
    "\n",
    "    - Средняя частота: 0.472 заказа в день\n",
    "\n",
    "    - Медианная частота: 0.068 заказа в день\n",
    "\n",
    "    - 75% клиентов имеют частоту ≤ 1 заказа в день\n",
    "\n",
    "    - Максимальная частота: 6 заказов в день\n",
    "\n",
    "\n",
    "2. **Финансовые показатели**\n",
    "\n",
    "\n",
    "    **Общая выручка с клиента**:\n",
    "\n",
    "    - Средняя: 131,454₽\n",
    "\n",
    "    - Медиана: 39,894₽\n",
    "\n",
    "    - 75% клиентов приносят до 91,669₽\n",
    "\n",
    "    - Максимум: 74,041,068₽ (корпоративный клиент)\n",
    "\n",
    "\n",
    "    **Средний чек**:\n",
    "\n",
    "    - Средний: 4,672₽\n",
    "\n",
    "    - Медиана: 1,728₽\n",
    "\n",
    "    - 75% клиентов имеют средний чек до 2,373₽\n",
    "\n",
    "    - Минимум: 91₽\n",
    "\n",
    "    - Максимум: 5,615,750₽\n",
    "\n",
    "\n",
    "3. **Товарные метрики**\n",
    "\n",
    "\n",
    "    **Количество товаров**:\n",
    "\n",
    "    - Среднее количество товаров на клиента: 724 шт.\n",
    "\n",
    "    - Медиана: 229 шт.\n",
    "\n",
    "    - 75% клиентов покупают до 560 товаров\n",
    "\n",
    "    - Среднее количество товаров в заказе: 26.5 шт.\n",
    "\n",
    "\n",
    "    **Разнообразие покупок**:\n",
    "\n",
    "    - Среднее количество уникальных товаров: 37\n",
    "\n",
    "    - Медиана уникальных товаров: 22\n",
    "\n",
    "    - Среднее количество категорий: 29\n",
    "\n",
    "    - Медиана категорий: 19\n",
    "\n",
    "\n",
    "4. **Временные характеристики**\n",
    "\n",
    "\n",
    "    **Период активности**:\n",
    "\n",
    "    - Средний период между первой и последней покупкой: 84 дня\n",
    "\n",
    "    - Медианный период: 47 дней\n",
    "\n",
    "    - 25% клиентов совершают все покупки в один день\n",
    "\n",
    "    - Максимальный период: 270 дней"
   ]
  },
  {
   "cell_type": "markdown",
   "metadata": {},
   "source": [
    "**Ключевые выводы**\n",
    "\n",
    "\n",
    "1. **Сегментация клиентской базы**:\n",
    "\n",
    "    - Большой корпоративный клиент (ID -1)\n",
    "\n",
    "    - Массовый сегмент (1-4 заказа)\n",
    "\n",
    "    - Активные клиенты (более 4 заказов)\n",
    "                    \n",
    "\n",
    "2. **Характеристики типичного клиента**:\n",
    "\n",
    "    - Делает 2 заказа\n",
    "\n",
    "    - Средний чек около 1,728₽\n",
    "\n",
    "    - Покупает в 19 категориях\n",
    "\n",
    "    - Активен в течение 47 дней\n",
    "\n",
    "\n",
    "3. **Особенности распределения**:\n",
    "\n",
    "    - Сильная правосторонняя асимметрия во всех метриках\n",
    "\n",
    "    - Большой разрыв между средними и медианными значениями\n",
    "\n",
    "    - Наличие выбросов в верхнем сегменте"
   ]
  },
  {
   "cell_type": "markdown",
   "metadata": {},
   "source": [
    "**Рекомендации**\n",
    "\n",
    "\n",
    "1. **Разработать отдельные стратегии для**:\n",
    "\n",
    "    - Корпоративных клиентов\n",
    "\n",
    "    - Массового сегмента\n",
    "\n",
    "    - Активных клиентов\n",
    "\n",
    "\n",
    "2. **Сфокусироваться на**:\n",
    "\n",
    "    - Увеличении частоты покупок\n",
    "\n",
    "    - Расширении периода активности клиентов\n",
    "\n",
    "    - Повышении среднего чека\n",
    "\n",
    "\n",
    "3. **Внедрить программу лояльности с учетом**:\n",
    "\n",
    "    - Частоты покупок\n",
    "\n",
    "    - Объема закупок\n",
    "\n",
    "    - Разнообразия категорий"
   ]
  },
  {
   "cell_type": "markdown",
   "metadata": {},
   "source": [
    "### 3.5. **Сепарация клиентов на возвратных и нет по признаку наличия повторных покупок**"
   ]
  },
  {
   "cell_type": "code",
   "execution_count": 84,
   "metadata": {},
   "outputs": [
    {
     "name": "stdout",
     "output_type": "stream",
     "text": [
      "Количество возвратных клиентов: 2109\n",
      "Количество невозвратных клиентов: 1445\n",
      "Процент возвратных клиентов: 59.34%\n"
     ]
    }
   ],
   "source": [
    "# Разделяем клиентов на возвратных и нет\n",
    "customer_profiles['is_returning'] = customer_profiles['total_orders'] > 1\n",
    "\n",
    "# Выбираем только числовые столбцы для анализа\n",
    "numeric_columns = [\n",
    "    'total_orders', \n",
    "    'total_revenue', \n",
    "    'avg_order_value',\n",
    "    'total_items',\n",
    "    'avg_items_per_order',\n",
    "    'unique_products',\n",
    "    'unique_categories',\n",
    "    'days_between_orders',\n",
    "    'purchase_frequency',\n",
    "    'avg_item_price'\n",
    "]\n",
    "\n",
    "# Создаем сводную таблицу средних показателей\n",
    "comparison = pd.DataFrame({\n",
    "    'Возвратные клиенты': customer_profiles[customer_profiles['is_returning']][numeric_columns].mean(),\n",
    "    'Невозвратные клиенты': customer_profiles[~customer_profiles['is_returning']][numeric_columns].mean()\n",
    "})\n",
    "\n",
    "# Добавляем подсчет количества клиентов в каждой группе\n",
    "returning_count = customer_profiles['is_returning'].sum()\n",
    "non_returning_count = len(customer_profiles) - returning_count\n",
    "\n",
    "print(f\"Количество возвратных клиентов: {returning_count}\")\n",
    "print(f\"Количество невозвратных клиентов: {non_returning_count}\")\n",
    "print(f\"Процент возвратных клиентов: {(returning_count/len(customer_profiles)*100):.2f}%\")"
   ]
  },
  {
   "cell_type": "code",
   "execution_count": 85,
   "metadata": {},
   "outputs": [
    {
     "name": "stdout",
     "output_type": "stream",
     "text": [
      "\n",
      "Сравнение средних показателей:\n"
     ]
    },
    {
     "data": {
      "text/html": [
       "<div>\n",
       "<style scoped>\n",
       "    .dataframe tbody tr th:only-of-type {\n",
       "        vertical-align: middle;\n",
       "    }\n",
       "\n",
       "    .dataframe tbody tr th {\n",
       "        vertical-align: top;\n",
       "    }\n",
       "\n",
       "    .dataframe thead th {\n",
       "        text-align: right;\n",
       "    }\n",
       "</style>\n",
       "<table border=\"1\" class=\"dataframe\">\n",
       "  <thead>\n",
       "    <tr style=\"text-align: right;\">\n",
       "      <th></th>\n",
       "      <th>Возвратные клиенты</th>\n",
       "      <th>Невозвратные клиенты</th>\n",
       "    </tr>\n",
       "  </thead>\n",
       "  <tbody>\n",
       "    <tr>\n",
       "      <th>total_orders</th>\n",
       "      <td>5.40</td>\n",
       "      <td>1.00</td>\n",
       "    </tr>\n",
       "    <tr>\n",
       "      <th>total_revenue</th>\n",
       "      <td>204090.40</td>\n",
       "      <td>25427.28</td>\n",
       "    </tr>\n",
       "    <tr>\n",
       "      <th>avg_order_value</th>\n",
       "      <td>5660.17</td>\n",
       "      <td>3230.79</td>\n",
       "    </tr>\n",
       "    <tr>\n",
       "      <th>total_items</th>\n",
       "      <td>1110.78</td>\n",
       "      <td>158.52</td>\n",
       "    </tr>\n",
       "    <tr>\n",
       "      <th>avg_items_per_order</th>\n",
       "      <td>32.32</td>\n",
       "      <td>18.00</td>\n",
       "    </tr>\n",
       "    <tr>\n",
       "      <th>unique_products</th>\n",
       "      <td>51.58</td>\n",
       "      <td>14.95</td>\n",
       "    </tr>\n",
       "    <tr>\n",
       "      <th>unique_categories</th>\n",
       "      <td>39.88</td>\n",
       "      <td>12.71</td>\n",
       "    </tr>\n",
       "    <tr>\n",
       "      <th>days_between_orders</th>\n",
       "      <td>141.39</td>\n",
       "      <td>0.00</td>\n",
       "    </tr>\n",
       "    <tr>\n",
       "      <th>purchase_frequency</th>\n",
       "      <td>0.11</td>\n",
       "      <td>1.00</td>\n",
       "    </tr>\n",
       "    <tr>\n",
       "      <th>avg_item_price</th>\n",
       "      <td>209.47</td>\n",
       "      <td>531.76</td>\n",
       "    </tr>\n",
       "  </tbody>\n",
       "</table>\n",
       "</div>"
      ],
      "text/plain": [
       "                     Возвратные клиенты  Невозвратные клиенты\n",
       "total_orders                       5.40                  1.00\n",
       "total_revenue                 204090.40              25427.28\n",
       "avg_order_value                 5660.17               3230.79\n",
       "total_items                     1110.78                158.52\n",
       "avg_items_per_order               32.32                 18.00\n",
       "unique_products                   51.58                 14.95\n",
       "unique_categories                 39.88                 12.71\n",
       "days_between_orders              141.39                  0.00\n",
       "purchase_frequency                 0.11                  1.00\n",
       "avg_item_price                   209.47                531.76"
      ]
     },
     "metadata": {},
     "output_type": "display_data"
    }
   ],
   "source": [
    "# Форматируем и выводим сравнительную таблицу\n",
    "comparison_formatted = comparison.round(2)\n",
    "print(\"\\nСравнение средних показателей:\")\n",
    "display(comparison_formatted)"
   ]
  },
  {
   "cell_type": "code",
   "execution_count": 86,
   "metadata": {},
   "outputs": [
    {
     "data": {
      "application/vnd.plotly.v1+json": {
       "config": {
        "plotlyServerURL": "https://plot.ly"
       },
       "data": [
        {
         "name": "total_orders",
         "type": "bar",
         "x": [
          "Возвратные",
          "Невозвратные"
         ],
         "xaxis": "x",
         "y": [
          5.395922238027501,
          1
         ],
         "yaxis": "y"
        },
        {
         "name": "total_revenue",
         "type": "bar",
         "x": [
          "Возвратные",
          "Невозвратные"
         ],
         "xaxis": "x2",
         "y": [
          204090.39734471313,
          25427.276816608995
         ],
         "yaxis": "y2"
        },
        {
         "name": "avg_order_value",
         "type": "bar",
         "x": [
          "Возвратные",
          "Невозвратные"
         ],
         "xaxis": "x3",
         "y": [
          5660.171219436302,
          3230.791592085581
         ],
         "yaxis": "y3"
        },
        {
         "name": "unique_categories",
         "type": "bar",
         "x": [
          "Возвратные",
          "Невозвратные"
         ],
         "xaxis": "x4",
         "y": [
          39.88003793266951,
          12.70726643598616
         ],
         "yaxis": "y4"
        },
        {
         "name": "purchase_frequency",
         "type": "bar",
         "x": [
          "Возвратные",
          "Невозвратные"
         ],
         "xaxis": "x5",
         "y": [
          0.11017369490208363,
          1
         ],
         "yaxis": "y5"
        }
       ],
       "layout": {
        "annotations": [
         {
          "font": {
           "size": 16
          },
          "showarrow": false,
          "text": "total_orders",
          "x": 0.225,
          "xanchor": "center",
          "xref": "paper",
          "y": 0.9999999999999999,
          "yanchor": "bottom",
          "yref": "paper"
         },
         {
          "font": {
           "size": 16
          },
          "showarrow": false,
          "text": "total_revenue",
          "x": 0.775,
          "xanchor": "center",
          "xref": "paper",
          "y": 0.9999999999999999,
          "yanchor": "bottom",
          "yref": "paper"
         },
         {
          "font": {
           "size": 16
          },
          "showarrow": false,
          "text": "avg_order_value",
          "x": 0.225,
          "xanchor": "center",
          "xref": "paper",
          "y": 0.6166666666666666,
          "yanchor": "bottom",
          "yref": "paper"
         },
         {
          "font": {
           "size": 16
          },
          "showarrow": false,
          "text": "unique_categories",
          "x": 0.775,
          "xanchor": "center",
          "xref": "paper",
          "y": 0.6166666666666666,
          "yanchor": "bottom",
          "yref": "paper"
         },
         {
          "font": {
           "size": 16
          },
          "showarrow": false,
          "text": "purchase_frequency",
          "x": 0.225,
          "xanchor": "center",
          "xref": "paper",
          "y": 0.2333333333333333,
          "yanchor": "bottom",
          "yref": "paper"
         }
        ],
        "height": 800,
        "showlegend": false,
        "template": {
         "data": {
          "bar": [
           {
            "error_x": {
             "color": "#2a3f5f"
            },
            "error_y": {
             "color": "#2a3f5f"
            },
            "marker": {
             "line": {
              "color": "#E5ECF6",
              "width": 0.5
             },
             "pattern": {
              "fillmode": "overlay",
              "size": 10,
              "solidity": 0.2
             }
            },
            "type": "bar"
           }
          ],
          "barpolar": [
           {
            "marker": {
             "line": {
              "color": "#E5ECF6",
              "width": 0.5
             },
             "pattern": {
              "fillmode": "overlay",
              "size": 10,
              "solidity": 0.2
             }
            },
            "type": "barpolar"
           }
          ],
          "carpet": [
           {
            "aaxis": {
             "endlinecolor": "#2a3f5f",
             "gridcolor": "white",
             "linecolor": "white",
             "minorgridcolor": "white",
             "startlinecolor": "#2a3f5f"
            },
            "baxis": {
             "endlinecolor": "#2a3f5f",
             "gridcolor": "white",
             "linecolor": "white",
             "minorgridcolor": "white",
             "startlinecolor": "#2a3f5f"
            },
            "type": "carpet"
           }
          ],
          "choropleth": [
           {
            "colorbar": {
             "outlinewidth": 0,
             "ticks": ""
            },
            "type": "choropleth"
           }
          ],
          "contour": [
           {
            "colorbar": {
             "outlinewidth": 0,
             "ticks": ""
            },
            "colorscale": [
             [
              0,
              "#0d0887"
             ],
             [
              0.1111111111111111,
              "#46039f"
             ],
             [
              0.2222222222222222,
              "#7201a8"
             ],
             [
              0.3333333333333333,
              "#9c179e"
             ],
             [
              0.4444444444444444,
              "#bd3786"
             ],
             [
              0.5555555555555556,
              "#d8576b"
             ],
             [
              0.6666666666666666,
              "#ed7953"
             ],
             [
              0.7777777777777778,
              "#fb9f3a"
             ],
             [
              0.8888888888888888,
              "#fdca26"
             ],
             [
              1,
              "#f0f921"
             ]
            ],
            "type": "contour"
           }
          ],
          "contourcarpet": [
           {
            "colorbar": {
             "outlinewidth": 0,
             "ticks": ""
            },
            "type": "contourcarpet"
           }
          ],
          "heatmap": [
           {
            "colorbar": {
             "outlinewidth": 0,
             "ticks": ""
            },
            "colorscale": [
             [
              0,
              "#0d0887"
             ],
             [
              0.1111111111111111,
              "#46039f"
             ],
             [
              0.2222222222222222,
              "#7201a8"
             ],
             [
              0.3333333333333333,
              "#9c179e"
             ],
             [
              0.4444444444444444,
              "#bd3786"
             ],
             [
              0.5555555555555556,
              "#d8576b"
             ],
             [
              0.6666666666666666,
              "#ed7953"
             ],
             [
              0.7777777777777778,
              "#fb9f3a"
             ],
             [
              0.8888888888888888,
              "#fdca26"
             ],
             [
              1,
              "#f0f921"
             ]
            ],
            "type": "heatmap"
           }
          ],
          "heatmapgl": [
           {
            "colorbar": {
             "outlinewidth": 0,
             "ticks": ""
            },
            "colorscale": [
             [
              0,
              "#0d0887"
             ],
             [
              0.1111111111111111,
              "#46039f"
             ],
             [
              0.2222222222222222,
              "#7201a8"
             ],
             [
              0.3333333333333333,
              "#9c179e"
             ],
             [
              0.4444444444444444,
              "#bd3786"
             ],
             [
              0.5555555555555556,
              "#d8576b"
             ],
             [
              0.6666666666666666,
              "#ed7953"
             ],
             [
              0.7777777777777778,
              "#fb9f3a"
             ],
             [
              0.8888888888888888,
              "#fdca26"
             ],
             [
              1,
              "#f0f921"
             ]
            ],
            "type": "heatmapgl"
           }
          ],
          "histogram": [
           {
            "marker": {
             "pattern": {
              "fillmode": "overlay",
              "size": 10,
              "solidity": 0.2
             }
            },
            "type": "histogram"
           }
          ],
          "histogram2d": [
           {
            "colorbar": {
             "outlinewidth": 0,
             "ticks": ""
            },
            "colorscale": [
             [
              0,
              "#0d0887"
             ],
             [
              0.1111111111111111,
              "#46039f"
             ],
             [
              0.2222222222222222,
              "#7201a8"
             ],
             [
              0.3333333333333333,
              "#9c179e"
             ],
             [
              0.4444444444444444,
              "#bd3786"
             ],
             [
              0.5555555555555556,
              "#d8576b"
             ],
             [
              0.6666666666666666,
              "#ed7953"
             ],
             [
              0.7777777777777778,
              "#fb9f3a"
             ],
             [
              0.8888888888888888,
              "#fdca26"
             ],
             [
              1,
              "#f0f921"
             ]
            ],
            "type": "histogram2d"
           }
          ],
          "histogram2dcontour": [
           {
            "colorbar": {
             "outlinewidth": 0,
             "ticks": ""
            },
            "colorscale": [
             [
              0,
              "#0d0887"
             ],
             [
              0.1111111111111111,
              "#46039f"
             ],
             [
              0.2222222222222222,
              "#7201a8"
             ],
             [
              0.3333333333333333,
              "#9c179e"
             ],
             [
              0.4444444444444444,
              "#bd3786"
             ],
             [
              0.5555555555555556,
              "#d8576b"
             ],
             [
              0.6666666666666666,
              "#ed7953"
             ],
             [
              0.7777777777777778,
              "#fb9f3a"
             ],
             [
              0.8888888888888888,
              "#fdca26"
             ],
             [
              1,
              "#f0f921"
             ]
            ],
            "type": "histogram2dcontour"
           }
          ],
          "mesh3d": [
           {
            "colorbar": {
             "outlinewidth": 0,
             "ticks": ""
            },
            "type": "mesh3d"
           }
          ],
          "parcoords": [
           {
            "line": {
             "colorbar": {
              "outlinewidth": 0,
              "ticks": ""
             }
            },
            "type": "parcoords"
           }
          ],
          "pie": [
           {
            "automargin": true,
            "type": "pie"
           }
          ],
          "scatter": [
           {
            "fillpattern": {
             "fillmode": "overlay",
             "size": 10,
             "solidity": 0.2
            },
            "type": "scatter"
           }
          ],
          "scatter3d": [
           {
            "line": {
             "colorbar": {
              "outlinewidth": 0,
              "ticks": ""
             }
            },
            "marker": {
             "colorbar": {
              "outlinewidth": 0,
              "ticks": ""
             }
            },
            "type": "scatter3d"
           }
          ],
          "scattercarpet": [
           {
            "marker": {
             "colorbar": {
              "outlinewidth": 0,
              "ticks": ""
             }
            },
            "type": "scattercarpet"
           }
          ],
          "scattergeo": [
           {
            "marker": {
             "colorbar": {
              "outlinewidth": 0,
              "ticks": ""
             }
            },
            "type": "scattergeo"
           }
          ],
          "scattergl": [
           {
            "marker": {
             "colorbar": {
              "outlinewidth": 0,
              "ticks": ""
             }
            },
            "type": "scattergl"
           }
          ],
          "scattermapbox": [
           {
            "marker": {
             "colorbar": {
              "outlinewidth": 0,
              "ticks": ""
             }
            },
            "type": "scattermapbox"
           }
          ],
          "scatterpolar": [
           {
            "marker": {
             "colorbar": {
              "outlinewidth": 0,
              "ticks": ""
             }
            },
            "type": "scatterpolar"
           }
          ],
          "scatterpolargl": [
           {
            "marker": {
             "colorbar": {
              "outlinewidth": 0,
              "ticks": ""
             }
            },
            "type": "scatterpolargl"
           }
          ],
          "scatterternary": [
           {
            "marker": {
             "colorbar": {
              "outlinewidth": 0,
              "ticks": ""
             }
            },
            "type": "scatterternary"
           }
          ],
          "surface": [
           {
            "colorbar": {
             "outlinewidth": 0,
             "ticks": ""
            },
            "colorscale": [
             [
              0,
              "#0d0887"
             ],
             [
              0.1111111111111111,
              "#46039f"
             ],
             [
              0.2222222222222222,
              "#7201a8"
             ],
             [
              0.3333333333333333,
              "#9c179e"
             ],
             [
              0.4444444444444444,
              "#bd3786"
             ],
             [
              0.5555555555555556,
              "#d8576b"
             ],
             [
              0.6666666666666666,
              "#ed7953"
             ],
             [
              0.7777777777777778,
              "#fb9f3a"
             ],
             [
              0.8888888888888888,
              "#fdca26"
             ],
             [
              1,
              "#f0f921"
             ]
            ],
            "type": "surface"
           }
          ],
          "table": [
           {
            "cells": {
             "fill": {
              "color": "#EBF0F8"
             },
             "line": {
              "color": "white"
             }
            },
            "header": {
             "fill": {
              "color": "#C8D4E3"
             },
             "line": {
              "color": "white"
             }
            },
            "type": "table"
           }
          ]
         },
         "layout": {
          "annotationdefaults": {
           "arrowcolor": "#2a3f5f",
           "arrowhead": 0,
           "arrowwidth": 1
          },
          "autotypenumbers": "strict",
          "coloraxis": {
           "colorbar": {
            "outlinewidth": 0,
            "ticks": ""
           }
          },
          "colorscale": {
           "diverging": [
            [
             0,
             "#8e0152"
            ],
            [
             0.1,
             "#c51b7d"
            ],
            [
             0.2,
             "#de77ae"
            ],
            [
             0.3,
             "#f1b6da"
            ],
            [
             0.4,
             "#fde0ef"
            ],
            [
             0.5,
             "#f7f7f7"
            ],
            [
             0.6,
             "#e6f5d0"
            ],
            [
             0.7,
             "#b8e186"
            ],
            [
             0.8,
             "#7fbc41"
            ],
            [
             0.9,
             "#4d9221"
            ],
            [
             1,
             "#276419"
            ]
           ],
           "sequential": [
            [
             0,
             "#0d0887"
            ],
            [
             0.1111111111111111,
             "#46039f"
            ],
            [
             0.2222222222222222,
             "#7201a8"
            ],
            [
             0.3333333333333333,
             "#9c179e"
            ],
            [
             0.4444444444444444,
             "#bd3786"
            ],
            [
             0.5555555555555556,
             "#d8576b"
            ],
            [
             0.6666666666666666,
             "#ed7953"
            ],
            [
             0.7777777777777778,
             "#fb9f3a"
            ],
            [
             0.8888888888888888,
             "#fdca26"
            ],
            [
             1,
             "#f0f921"
            ]
           ],
           "sequentialminus": [
            [
             0,
             "#0d0887"
            ],
            [
             0.1111111111111111,
             "#46039f"
            ],
            [
             0.2222222222222222,
             "#7201a8"
            ],
            [
             0.3333333333333333,
             "#9c179e"
            ],
            [
             0.4444444444444444,
             "#bd3786"
            ],
            [
             0.5555555555555556,
             "#d8576b"
            ],
            [
             0.6666666666666666,
             "#ed7953"
            ],
            [
             0.7777777777777778,
             "#fb9f3a"
            ],
            [
             0.8888888888888888,
             "#fdca26"
            ],
            [
             1,
             "#f0f921"
            ]
           ]
          },
          "colorway": [
           "#636efa",
           "#EF553B",
           "#00cc96",
           "#ab63fa",
           "#FFA15A",
           "#19d3f3",
           "#FF6692",
           "#B6E880",
           "#FF97FF",
           "#FECB52"
          ],
          "font": {
           "color": "#2a3f5f"
          },
          "geo": {
           "bgcolor": "white",
           "lakecolor": "white",
           "landcolor": "#E5ECF6",
           "showlakes": true,
           "showland": true,
           "subunitcolor": "white"
          },
          "hoverlabel": {
           "align": "left"
          },
          "hovermode": "closest",
          "mapbox": {
           "style": "light"
          },
          "paper_bgcolor": "white",
          "plot_bgcolor": "#E5ECF6",
          "polar": {
           "angularaxis": {
            "gridcolor": "white",
            "linecolor": "white",
            "ticks": ""
           },
           "bgcolor": "#E5ECF6",
           "radialaxis": {
            "gridcolor": "white",
            "linecolor": "white",
            "ticks": ""
           }
          },
          "scene": {
           "xaxis": {
            "backgroundcolor": "#E5ECF6",
            "gridcolor": "white",
            "gridwidth": 2,
            "linecolor": "white",
            "showbackground": true,
            "ticks": "",
            "zerolinecolor": "white"
           },
           "yaxis": {
            "backgroundcolor": "#E5ECF6",
            "gridcolor": "white",
            "gridwidth": 2,
            "linecolor": "white",
            "showbackground": true,
            "ticks": "",
            "zerolinecolor": "white"
           },
           "zaxis": {
            "backgroundcolor": "#E5ECF6",
            "gridcolor": "white",
            "gridwidth": 2,
            "linecolor": "white",
            "showbackground": true,
            "ticks": "",
            "zerolinecolor": "white"
           }
          },
          "shapedefaults": {
           "line": {
            "color": "#2a3f5f"
           }
          },
          "ternary": {
           "aaxis": {
            "gridcolor": "white",
            "linecolor": "white",
            "ticks": ""
           },
           "baxis": {
            "gridcolor": "white",
            "linecolor": "white",
            "ticks": ""
           },
           "bgcolor": "#E5ECF6",
           "caxis": {
            "gridcolor": "white",
            "linecolor": "white",
            "ticks": ""
           }
          },
          "title": {
           "x": 0.05
          },
          "xaxis": {
           "automargin": true,
           "gridcolor": "white",
           "linecolor": "white",
           "ticks": "",
           "title": {
            "standoff": 15
           },
           "zerolinecolor": "white",
           "zerolinewidth": 2
          },
          "yaxis": {
           "automargin": true,
           "gridcolor": "white",
           "linecolor": "white",
           "ticks": "",
           "title": {
            "standoff": 15
           },
           "zerolinecolor": "white",
           "zerolinewidth": 2
          }
         }
        },
        "title": {
         "text": "Сравнение ключевых метрик между возвратными и невозвратными клиентами"
        },
        "xaxis": {
         "anchor": "y",
         "domain": [
          0,
          0.45
         ]
        },
        "xaxis2": {
         "anchor": "y2",
         "domain": [
          0.55,
          1
         ]
        },
        "xaxis3": {
         "anchor": "y3",
         "domain": [
          0,
          0.45
         ]
        },
        "xaxis4": {
         "anchor": "y4",
         "domain": [
          0.55,
          1
         ]
        },
        "xaxis5": {
         "anchor": "y5",
         "domain": [
          0,
          0.45
         ]
        },
        "xaxis6": {
         "anchor": "y6",
         "domain": [
          0.55,
          1
         ]
        },
        "yaxis": {
         "anchor": "x",
         "domain": [
          0.7666666666666666,
          0.9999999999999999
         ]
        },
        "yaxis2": {
         "anchor": "x2",
         "domain": [
          0.7666666666666666,
          0.9999999999999999
         ]
        },
        "yaxis3": {
         "anchor": "x3",
         "domain": [
          0.3833333333333333,
          0.6166666666666666
         ]
        },
        "yaxis4": {
         "anchor": "x4",
         "domain": [
          0.3833333333333333,
          0.6166666666666666
         ]
        },
        "yaxis5": {
         "anchor": "x5",
         "domain": [
          0,
          0.2333333333333333
         ]
        },
        "yaxis6": {
         "anchor": "x6",
         "domain": [
          0,
          0.2333333333333333
         ]
        }
       }
      }
     },
     "metadata": {},
     "output_type": "display_data"
    }
   ],
   "source": [
    "# Создаем визуализацию для ключевых метрик\n",
    "key_metrics = [\n",
    "    'total_orders', \n",
    "    'total_revenue', \n",
    "    'avg_order_value',\n",
    "    'unique_categories',\n",
    "    'purchase_frequency'\n",
    "]\n",
    "\n",
    "# Создаем subplot для каждой ключевой метрики\n",
    "fig = make_subplots(\n",
    "    rows=3, cols=2,\n",
    "    subplot_titles=key_metrics,\n",
    "    vertical_spacing=0.15\n",
    ")\n",
    "\n",
    "for i, metric in enumerate(key_metrics, 1):\n",
    "    row = (i-1) // 2 + 1\n",
    "    col = (i-1) % 2 + 1\n",
    "    \n",
    "    fig.add_trace(\n",
    "        go.Bar(\n",
    "            x=['Возвратные', 'Невозвратные'],\n",
    "            y=[comparison.loc[metric, 'Возвратные клиенты'], \n",
    "               comparison.loc[metric, 'Невозвратные клиенты']],\n",
    "            name=metric\n",
    "        ),\n",
    "        row=row, col=col\n",
    "    )\n",
    "\n",
    "fig.update_layout(\n",
    "    height=800,\n",
    "    title_text='Сравнение ключевых метрик между возвратными и невозвратными клиентами',\n",
    "    showlegend=False\n",
    ")\n",
    "\n",
    "fig.show()"
   ]
  },
  {
   "cell_type": "markdown",
   "metadata": {},
   "source": [
    "#### 3.5.1. **Выводы по анализу различий между возвратными и невозвратными клиентами**"
   ]
  },
  {
   "cell_type": "code",
   "execution_count": 87,
   "metadata": {},
   "outputs": [
    {
     "name": "stdout",
     "output_type": "stream",
     "text": [
      "Сравнительный анализ клиентских сегментов:\n"
     ]
    },
    {
     "data": {
      "text/html": [
       "<style type=\"text/css\">\n",
       "#T_b7ddd th {\n",
       "  text-align: left;\n",
       "}\n",
       "#T_b7ddd td {\n",
       "  text-align: left;\n",
       "}\n",
       "#T_b7ddd_row0_col0, #T_b7ddd_row0_col1, #T_b7ddd_row0_col2, #T_b7ddd_row1_col0, #T_b7ddd_row1_col1, #T_b7ddd_row1_col2, #T_b7ddd_row2_col0, #T_b7ddd_row2_col1, #T_b7ddd_row2_col2, #T_b7ddd_row3_col0, #T_b7ddd_row3_col1, #T_b7ddd_row3_col2, #T_b7ddd_row4_col0, #T_b7ddd_row4_col1, #T_b7ddd_row4_col2, #T_b7ddd_row5_col0, #T_b7ddd_row5_col1, #T_b7ddd_row5_col2, #T_b7ddd_row6_col0, #T_b7ddd_row6_col1, #T_b7ddd_row6_col2, #T_b7ddd_row7_col0, #T_b7ddd_row7_col1, #T_b7ddd_row7_col2, #T_b7ddd_row8_col0, #T_b7ddd_row8_col1, #T_b7ddd_row8_col2, #T_b7ddd_row9_col0, #T_b7ddd_row9_col1, #T_b7ddd_row9_col2, #T_b7ddd_row10_col0, #T_b7ddd_row10_col1, #T_b7ddd_row10_col2, #T_b7ddd_row11_col0, #T_b7ddd_row11_col1, #T_b7ddd_row11_col2 {\n",
       "  text-align: left;\n",
       "  white-space: pre-wrap;\n",
       "}\n",
       "</style>\n",
       "<table id=\"T_b7ddd\">\n",
       "  <thead>\n",
       "    <tr>\n",
       "      <th class=\"blank level0\" >&nbsp;</th>\n",
       "      <th id=\"T_b7ddd_level0_col0\" class=\"col_heading level0 col0\" >Метрика</th>\n",
       "      <th id=\"T_b7ddd_level0_col1\" class=\"col_heading level0 col1\" >Возвратные клиенты</th>\n",
       "      <th id=\"T_b7ddd_level0_col2\" class=\"col_heading level0 col2\" >Невозвратные клиенты</th>\n",
       "    </tr>\n",
       "  </thead>\n",
       "  <tbody>\n",
       "    <tr>\n",
       "      <th id=\"T_b7ddd_level0_row0\" class=\"row_heading level0 row0\" >0</th>\n",
       "      <td id=\"T_b7ddd_row0_col0\" class=\"data row0 col0\" >Размер сегмента</td>\n",
       "      <td id=\"T_b7ddd_row0_col1\" class=\"data row0 col1\" >2,109 клиентов</td>\n",
       "      <td id=\"T_b7ddd_row0_col2\" class=\"data row0 col2\" >1,445 клиентов</td>\n",
       "    </tr>\n",
       "    <tr>\n",
       "      <th id=\"T_b7ddd_level0_row1\" class=\"row_heading level0 row1\" >1</th>\n",
       "      <td id=\"T_b7ddd_row1_col0\" class=\"data row1 col0\" >Доля от общей базы</td>\n",
       "      <td id=\"T_b7ddd_row1_col1\" class=\"data row1 col1\" >59.34%</td>\n",
       "      <td id=\"T_b7ddd_row1_col2\" class=\"data row1 col2\" >40.66%</td>\n",
       "    </tr>\n",
       "    <tr>\n",
       "      <th id=\"T_b7ddd_level0_row2\" class=\"row_heading level0 row2\" >2</th>\n",
       "      <td id=\"T_b7ddd_row2_col0\" class=\"data row2 col0\" >Среднее количество заказов</td>\n",
       "      <td id=\"T_b7ddd_row2_col1\" class=\"data row2 col1\" >5.40 заказов</td>\n",
       "      <td id=\"T_b7ddd_row2_col2\" class=\"data row2 col2\" >1 заказ</td>\n",
       "    </tr>\n",
       "    <tr>\n",
       "      <th id=\"T_b7ddd_level0_row3\" class=\"row_heading level0 row3\" >3</th>\n",
       "      <td id=\"T_b7ddd_row3_col0\" class=\"data row3 col0\" >Средняя выручка</td>\n",
       "      <td id=\"T_b7ddd_row3_col1\" class=\"data row3 col1\" >204,092₽</td>\n",
       "      <td id=\"T_b7ddd_row3_col2\" class=\"data row3 col2\" >25,438₽</td>\n",
       "    </tr>\n",
       "    <tr>\n",
       "      <th id=\"T_b7ddd_level0_row4\" class=\"row_heading level0 row4\" >4</th>\n",
       "      <td id=\"T_b7ddd_row4_col0\" class=\"data row4 col0\" >Средний чек</td>\n",
       "      <td id=\"T_b7ddd_row4_col1\" class=\"data row4 col1\" >5,660₽</td>\n",
       "      <td id=\"T_b7ddd_row4_col2\" class=\"data row4 col2\" >3,231₽</td>\n",
       "    </tr>\n",
       "    <tr>\n",
       "      <th id=\"T_b7ddd_level0_row5\" class=\"row_heading level0 row5\" >5</th>\n",
       "      <td id=\"T_b7ddd_row5_col0\" class=\"data row5 col0\" >Среднее количество товаров</td>\n",
       "      <td id=\"T_b7ddd_row5_col1\" class=\"data row5 col1\" >1,111 шт.</td>\n",
       "      <td id=\"T_b7ddd_row5_col2\" class=\"data row5 col2\" >159 шт.</td>\n",
       "    </tr>\n",
       "    <tr>\n",
       "      <th id=\"T_b7ddd_level0_row6\" class=\"row_heading level0 row6\" >6</th>\n",
       "      <td id=\"T_b7ddd_row6_col0\" class=\"data row6 col0\" >Товаров в заказе</td>\n",
       "      <td id=\"T_b7ddd_row6_col1\" class=\"data row6 col1\" >32 шт.</td>\n",
       "      <td id=\"T_b7ddd_row6_col2\" class=\"data row6 col2\" >18 шт.</td>\n",
       "    </tr>\n",
       "    <tr>\n",
       "      <th id=\"T_b7ddd_level0_row7\" class=\"row_heading level0 row7\" >7</th>\n",
       "      <td id=\"T_b7ddd_row7_col0\" class=\"data row7 col0\" >Количество категорий</td>\n",
       "      <td id=\"T_b7ddd_row7_col1\" class=\"data row7 col1\" >40 категорий</td>\n",
       "      <td id=\"T_b7ddd_row7_col2\" class=\"data row7 col2\" >13 категорий</td>\n",
       "    </tr>\n",
       "    <tr>\n",
       "      <th id=\"T_b7ddd_level0_row8\" class=\"row_heading level0 row8\" >8</th>\n",
       "      <td id=\"T_b7ddd_row8_col0\" class=\"data row8 col0\" >Средняя цена товара</td>\n",
       "      <td id=\"T_b7ddd_row8_col1\" class=\"data row8 col1\" >209₽</td>\n",
       "      <td id=\"T_b7ddd_row8_col2\" class=\"data row8 col2\" >532₽</td>\n",
       "    </tr>\n",
       "    <tr>\n",
       "      <th id=\"T_b7ddd_level0_row9\" class=\"row_heading level0 row9\" >9</th>\n",
       "      <td id=\"T_b7ddd_row9_col0\" class=\"data row9 col0\" >Особенности поведения</td>\n",
       "      <td id=\"T_b7ddd_row9_col1\" class=\"data row9 col1\" >Активно исследуют ассортимент, делают регулярные покупки</td>\n",
       "      <td id=\"T_b7ddd_row9_col2\" class=\"data row9 col2\" >Делают разовые покупки, выбирают более дорогие товары</td>\n",
       "    </tr>\n",
       "    <tr>\n",
       "      <th id=\"T_b7ddd_level0_row10\" class=\"row_heading level0 row10\" >10</th>\n",
       "      <td id=\"T_b7ddd_row10_col0\" class=\"data row10 col0\" >Потенциал развития</td>\n",
       "      <td id=\"T_b7ddd_row10_col1\" class=\"data row10 col1\" >Увеличение частоты покупок и среднего чека</td>\n",
       "      <td id=\"T_b7ddd_row10_col2\" class=\"data row10 col2\" >Конвертация в возвратных клиентов</td>\n",
       "    </tr>\n",
       "    <tr>\n",
       "      <th id=\"T_b7ddd_level0_row11\" class=\"row_heading level0 row11\" >11</th>\n",
       "      <td id=\"T_b7ddd_row11_col0\" class=\"data row11 col0\" >Рекомендации</td>\n",
       "      <td id=\"T_b7ddd_row11_col1\" class=\"data row11 col1\" >Программа лояльности, персональные предложения</td>\n",
       "      <td id=\"T_b7ddd_row11_col2\" class=\"data row11 col2\" >Стимулирование повторных покупок, специальные акции</td>\n",
       "    </tr>\n",
       "  </tbody>\n",
       "</table>\n"
      ],
      "text/plain": [
       "<pandas.io.formats.style.Styler at 0x1536ba9f0>"
      ]
     },
     "metadata": {},
     "output_type": "display_data"
    },
    {
     "name": "stdout",
     "output_type": "stream",
     "text": [
      "\n",
      "Общие выводы:\n",
      "1. Большинство клиентов (59.34%) совершают повторные покупки\n",
      "2. Возвратные клиенты генерируют в 8 раз больше выручки\n",
      "3. Невозвратные клиенты предпочитают более дорогие товары\n",
      "4. Возвратные клиенты исследуют более широкий ассортимент\n"
     ]
    }
   ],
   "source": [
    "# Создаем сравнительную таблицу для выводов\n",
    "comparison_table = pd.DataFrame({\n",
    "    'Метрика': [\n",
    "        'Размер сегмента',\n",
    "        'Доля от общей базы',\n",
    "        'Среднее количество заказов',\n",
    "        'Средняя выручка',\n",
    "        'Средний чек',\n",
    "        'Среднее количество товаров',\n",
    "        'Товаров в заказе',\n",
    "        'Количество категорий',\n",
    "        'Средняя цена товара',\n",
    "        'Особенности поведения',\n",
    "        'Потенциал развития',\n",
    "        'Рекомендации'\n",
    "    ],\n",
    "    'Возвратные клиенты': [\n",
    "        '2,109 клиентов',\n",
    "        '59.34%',\n",
    "        '5.40 заказов',\n",
    "        '204,092₽',\n",
    "        '5,660₽',\n",
    "        '1,111 шт.',\n",
    "        '32 шт.',\n",
    "        '40 категорий',\n",
    "        '209₽',\n",
    "        'Активно исследуют ассортимент, делают регулярные покупки',\n",
    "        'Увеличение частоты покупок и среднего чека',\n",
    "        'Программа лояльности, персональные предложения'\n",
    "    ],\n",
    "    'Невозвратные клиенты': [\n",
    "        '1,445 клиентов',\n",
    "        '40.66%',\n",
    "        '1 заказ',\n",
    "        '25,438₽',\n",
    "        '3,231₽',\n",
    "        '159 шт.',\n",
    "        '18 шт.',\n",
    "        '13 категорий',\n",
    "        '532₽',\n",
    "        'Делают разовые покупки, выбирают более дорогие товары',\n",
    "        'Конвертация в возвратных клиентов',\n",
    "        'Стимулирование повторных покупок, специальные акции'\n",
    "    ]\n",
    "})\n",
    "\n",
    "# Выводим таблицу\n",
    "print(\"Сравнительный анализ клиентских сегментов:\")\n",
    "display(comparison_table.style.set_properties(**{\n",
    "    'text-align': 'left',\n",
    "    'white-space': 'pre-wrap'\n",
    "}).set_table_styles([\n",
    "    {'selector': 'th', 'props': [('text-align', 'left')]},\n",
    "    {'selector': 'td', 'props': [('text-align', 'left')]}\n",
    "]))\n",
    "\n",
    "# Добавляем общие выводы\n",
    "print(\"\\nОбщие выводы:\")\n",
    "print(\"1. Большинство клиентов (59.34%) совершают повторные покупки\")\n",
    "print(\"2. Возвратные клиенты генерируют в 8 раз больше выручки\")\n",
    "print(\"3. Невозвратные клиенты предпочитают более дорогие товары\")\n",
    "print(\"4. Возвратные клиенты исследуют более широкий ассортимент\")"
   ]
  },
  {
   "cell_type": "markdown",
   "metadata": {},
   "source": [
    "**Ключевые выводы**\n",
    "\n",
    "**Возвратные клиенты**:\n",
    "\n",
    "- Делают больше заказов и приносят больше выручки\n",
    "\n",
    "- Покупают более разнообразные товары и категории\n",
    "\n",
    "- Имеют более низкую среднюю стоимость единицы товара\n",
    "\n",
    "\n",
    "**Невозвратные клиенты**:\n",
    "\n",
    "- Делают только один заказ\n",
    "\n",
    "- Средний чек ниже, но средняя стоимость единицы товара выше"
   ]
  },
  {
   "cell_type": "markdown",
   "metadata": {},
   "source": [
    "**Рекомендации**\n",
    "\n",
    "\n",
    "**Удержание клиентов**:\n",
    "\n",
    "- Разработать программы лояльности для возвратных клиентов\n",
    "\n",
    "- Стимулировать повторные покупки у невозвратных клиентов\n",
    "\n",
    "\n",
    "**Анализ поведения**:\n",
    "\n",
    "- Изучить причины, по которым клиенты не возвращаются\n",
    "\n",
    "- Определить факторы, способствующие возврату клиентов\n",
    "\n",
    "\n",
    "**Персонализированные предложения**:\n",
    "\n",
    "- Использовать данные о покупках для создания персонализированных предложений\n",
    "\n",
    "- Увеличить разнообразие товаров и категорий для возвратных клиентов\n",
    "\n",
    "\n",
    "**Эти выводы помогут в разработке стратегий для повышения удержания клиентов и увеличения выручки.**"
   ]
  },
  {
   "cell_type": "markdown",
   "metadata": {},
   "source": [
    "---"
   ]
  },
  {
   "cell_type": "markdown",
   "metadata": {},
   "source": [
    "# Шаг 4. RFM-сегментация клиентов"
   ]
  },
  {
   "cell_type": "markdown",
   "metadata": {},
   "source": [
    "1. разделите клиентов на группы по методике RFM;\n",
    "\n",
    "2. оцените получившиеся группы, найдите похожие и различающиеся;\n",
    "\n",
    "3. сформулируйте рекомендации для бизнеса по взаимодействию с сегментами, сопроводив их подходящими графиками и таблицами."
   ]
  },
  {
   "cell_type": "markdown",
   "metadata": {},
   "source": [
    "### 4.1. Рассчитываем метрики RFM для каждого клиента"
   ]
  },
  {
   "cell_type": "code",
   "execution_count": 88,
   "metadata": {},
   "outputs": [],
   "source": [
    "# 1. Рассчитываем метрики RFM для каждого клиента\n",
    "# Используем последнюю дату в данных как точку отсчета\n",
    "last_date = df_final['entry_date'].max()\n",
    "\n",
    "rfm = df_final.groupby('customer_id').agg({\n",
    "    'entry_date': lambda x: (last_date - x.max()).days,    # Recency\n",
    "    'order_id': 'count',                                   # Frequency\n",
    "    'total_price': 'sum'                                   # Monetary\n",
    "}).reset_index()\n",
    "\n",
    "# Переименовываем столбцы\n",
    "rfm.columns = ['customer_id', 'recency', 'frequency', 'monetary']"
   ]
  },
  {
   "cell_type": "code",
   "execution_count": 89,
   "metadata": {},
   "outputs": [],
   "source": [
    "# 2. Присваиваем оценки от 1 до 5 для каждой метрики\n",
    "# Используем квантили для разделения\n",
    "for metric in ['recency', 'frequency', 'monetary']:\n",
    "    if metric == 'recency':\n",
    "        # Для recency меньше = лучше\n",
    "        rfm[f'{metric}_score'] = pd.qcut(rfm[metric], q=5, labels=[5, 4, 3, 2, 1])\n",
    "    else:\n",
    "        # Для frequency и monetary больше = лучше\n",
    "        rfm[f'{metric}_score'] = pd.qcut(rfm[metric], q=5, labels=[1, 2, 3, 4, 5])"
   ]
  },
  {
   "cell_type": "code",
   "execution_count": 90,
   "metadata": {},
   "outputs": [],
   "source": [
    "# 3. Создаем RFM-сегменты\n",
    "rfm['rfm_score'] = (\n",
    "    rfm['recency_score'].astype(str) + \n",
    "    rfm['frequency_score'].astype(str) + \n",
    "    rfm['monetary_score'].astype(str)\n",
    ")"
   ]
  },
  {
   "cell_type": "code",
   "execution_count": 91,
   "metadata": {},
   "outputs": [],
   "source": [
    "# 4. Определяем сегменты клиентов\n",
    "def segment_customers(row):\n",
    "    if row['recency_score'] == 5 and row['frequency_score'] == 5 and row['monetary_score'] == 5:\n",
    "        return 'VIP'\n",
    "    elif row['recency_score'] >= 4 and row['frequency_score'] >= 4 and row['monetary_score'] >= 4:\n",
    "        return 'Лояльные'\n",
    "    elif row['recency_score'] <= 2 and row['frequency_score'] <= 2 and row['monetary_score'] <= 2:\n",
    "        return 'Потерянные'\n",
    "    elif row['recency_score'] >= 4:\n",
    "        return 'Активные'\n",
    "    elif row['recency_score'] <= 2 and (row['frequency_score'] >= 3 or row['monetary_score'] >= 3):\n",
    "        return 'Требуют внимания'\n",
    "    else:\n",
    "        return 'Средние'\n",
    "\n",
    "rfm['segment'] = rfm.apply(segment_customers, axis=1)"
   ]
  },
  {
   "cell_type": "code",
   "execution_count": 92,
   "metadata": {},
   "outputs": [
    {
     "name": "stdout",
     "output_type": "stream",
     "text": [
      "Статистика по сегментам:\n"
     ]
    },
    {
     "data": {
      "text/html": [
       "<div>\n",
       "<style scoped>\n",
       "    .dataframe tbody tr th:only-of-type {\n",
       "        vertical-align: middle;\n",
       "    }\n",
       "\n",
       "    .dataframe tbody tr th {\n",
       "        vertical-align: top;\n",
       "    }\n",
       "\n",
       "    .dataframe thead th {\n",
       "        text-align: right;\n",
       "    }\n",
       "</style>\n",
       "<table border=\"1\" class=\"dataframe\">\n",
       "  <thead>\n",
       "    <tr style=\"text-align: right;\">\n",
       "      <th></th>\n",
       "      <th>customer_id</th>\n",
       "      <th>recency</th>\n",
       "      <th>frequency</th>\n",
       "      <th>monetary</th>\n",
       "      <th>percent</th>\n",
       "    </tr>\n",
       "    <tr>\n",
       "      <th>segment</th>\n",
       "      <th></th>\n",
       "      <th></th>\n",
       "      <th></th>\n",
       "      <th></th>\n",
       "      <th></th>\n",
       "    </tr>\n",
       "  </thead>\n",
       "  <tbody>\n",
       "    <tr>\n",
       "      <th>VIP</th>\n",
       "      <td>220</td>\n",
       "      <td>5.82</td>\n",
       "      <td>483.72</td>\n",
       "      <td>910955.58</td>\n",
       "      <td>6.19</td>\n",
       "    </tr>\n",
       "    <tr>\n",
       "      <th>Активные</th>\n",
       "      <td>713</td>\n",
       "      <td>17.30</td>\n",
       "      <td>22.50</td>\n",
       "      <td>68513.29</td>\n",
       "      <td>20.06</td>\n",
       "    </tr>\n",
       "    <tr>\n",
       "      <th>Лояльные</th>\n",
       "      <td>496</td>\n",
       "      <td>19.65</td>\n",
       "      <td>93.16</td>\n",
       "      <td>210719.22</td>\n",
       "      <td>13.96</td>\n",
       "    </tr>\n",
       "    <tr>\n",
       "      <th>Потерянные</th>\n",
       "      <td>704</td>\n",
       "      <td>173.44</td>\n",
       "      <td>8.23</td>\n",
       "      <td>13912.48</td>\n",
       "      <td>19.81</td>\n",
       "    </tr>\n",
       "    <tr>\n",
       "      <th>Средние</th>\n",
       "      <td>703</td>\n",
       "      <td>65.50</td>\n",
       "      <td>43.57</td>\n",
       "      <td>83912.79</td>\n",
       "      <td>19.78</td>\n",
       "    </tr>\n",
       "    <tr>\n",
       "      <th>Требуют внимания</th>\n",
       "      <td>718</td>\n",
       "      <td>156.98</td>\n",
       "      <td>38.07</td>\n",
       "      <td>62126.81</td>\n",
       "      <td>20.20</td>\n",
       "    </tr>\n",
       "  </tbody>\n",
       "</table>\n",
       "</div>"
      ],
      "text/plain": [
       "                  customer_id  recency  frequency   monetary  percent\n",
       "segment                                                              \n",
       "VIP                       220     5.82     483.72  910955.58     6.19\n",
       "Активные                  713    17.30      22.50   68513.29    20.06\n",
       "Лояльные                  496    19.65      93.16  210719.22    13.96\n",
       "Потерянные                704   173.44       8.23   13912.48    19.81\n",
       "Средние                   703    65.50      43.57   83912.79    19.78\n",
       "Требуют внимания          718   156.98      38.07   62126.81    20.20"
      ]
     },
     "metadata": {},
     "output_type": "display_data"
    }
   ],
   "source": [
    "# 5. Выводим статистику по сегментам\n",
    "segment_stats = rfm.groupby('segment').agg({\n",
    "    'customer_id': 'count',\n",
    "    'recency': 'mean',\n",
    "    'frequency': 'mean',\n",
    "    'monetary': 'mean'\n",
    "}).round(2)\n",
    "\n",
    "segment_stats['percent'] = (segment_stats['customer_id'] / len(rfm) * 100).round(2)\n",
    "\n",
    "print(\"Статистика по сегментам:\")\n",
    "display(segment_stats)"
   ]
  },
  {
   "cell_type": "code",
   "execution_count": 93,
   "metadata": {},
   "outputs": [
    {
     "data": {
      "application/vnd.plotly.v1+json": {
       "config": {
        "plotlyServerURL": "https://plot.ly"
       },
       "data": [
        {
         "text": [
          "6.2%",
          "20.1%",
          "14.0%",
          "19.8%",
          "19.8%",
          "20.2%"
         ],
         "textposition": "auto",
         "type": "bar",
         "x": [
          "VIP",
          "Активные",
          "Лояльные",
          "Потерянные",
          "Средние",
          "Требуют внимания"
         ],
         "y": [
          220,
          713,
          496,
          704,
          703,
          718
         ]
        }
       ],
       "layout": {
        "template": {
         "data": {
          "bar": [
           {
            "error_x": {
             "color": "#2a3f5f"
            },
            "error_y": {
             "color": "#2a3f5f"
            },
            "marker": {
             "line": {
              "color": "white",
              "width": 0.5
             },
             "pattern": {
              "fillmode": "overlay",
              "size": 10,
              "solidity": 0.2
             }
            },
            "type": "bar"
           }
          ],
          "barpolar": [
           {
            "marker": {
             "line": {
              "color": "white",
              "width": 0.5
             },
             "pattern": {
              "fillmode": "overlay",
              "size": 10,
              "solidity": 0.2
             }
            },
            "type": "barpolar"
           }
          ],
          "carpet": [
           {
            "aaxis": {
             "endlinecolor": "#2a3f5f",
             "gridcolor": "#C8D4E3",
             "linecolor": "#C8D4E3",
             "minorgridcolor": "#C8D4E3",
             "startlinecolor": "#2a3f5f"
            },
            "baxis": {
             "endlinecolor": "#2a3f5f",
             "gridcolor": "#C8D4E3",
             "linecolor": "#C8D4E3",
             "minorgridcolor": "#C8D4E3",
             "startlinecolor": "#2a3f5f"
            },
            "type": "carpet"
           }
          ],
          "choropleth": [
           {
            "colorbar": {
             "outlinewidth": 0,
             "ticks": ""
            },
            "type": "choropleth"
           }
          ],
          "contour": [
           {
            "colorbar": {
             "outlinewidth": 0,
             "ticks": ""
            },
            "colorscale": [
             [
              0,
              "#0d0887"
             ],
             [
              0.1111111111111111,
              "#46039f"
             ],
             [
              0.2222222222222222,
              "#7201a8"
             ],
             [
              0.3333333333333333,
              "#9c179e"
             ],
             [
              0.4444444444444444,
              "#bd3786"
             ],
             [
              0.5555555555555556,
              "#d8576b"
             ],
             [
              0.6666666666666666,
              "#ed7953"
             ],
             [
              0.7777777777777778,
              "#fb9f3a"
             ],
             [
              0.8888888888888888,
              "#fdca26"
             ],
             [
              1,
              "#f0f921"
             ]
            ],
            "type": "contour"
           }
          ],
          "contourcarpet": [
           {
            "colorbar": {
             "outlinewidth": 0,
             "ticks": ""
            },
            "type": "contourcarpet"
           }
          ],
          "heatmap": [
           {
            "colorbar": {
             "outlinewidth": 0,
             "ticks": ""
            },
            "colorscale": [
             [
              0,
              "#0d0887"
             ],
             [
              0.1111111111111111,
              "#46039f"
             ],
             [
              0.2222222222222222,
              "#7201a8"
             ],
             [
              0.3333333333333333,
              "#9c179e"
             ],
             [
              0.4444444444444444,
              "#bd3786"
             ],
             [
              0.5555555555555556,
              "#d8576b"
             ],
             [
              0.6666666666666666,
              "#ed7953"
             ],
             [
              0.7777777777777778,
              "#fb9f3a"
             ],
             [
              0.8888888888888888,
              "#fdca26"
             ],
             [
              1,
              "#f0f921"
             ]
            ],
            "type": "heatmap"
           }
          ],
          "heatmapgl": [
           {
            "colorbar": {
             "outlinewidth": 0,
             "ticks": ""
            },
            "colorscale": [
             [
              0,
              "#0d0887"
             ],
             [
              0.1111111111111111,
              "#46039f"
             ],
             [
              0.2222222222222222,
              "#7201a8"
             ],
             [
              0.3333333333333333,
              "#9c179e"
             ],
             [
              0.4444444444444444,
              "#bd3786"
             ],
             [
              0.5555555555555556,
              "#d8576b"
             ],
             [
              0.6666666666666666,
              "#ed7953"
             ],
             [
              0.7777777777777778,
              "#fb9f3a"
             ],
             [
              0.8888888888888888,
              "#fdca26"
             ],
             [
              1,
              "#f0f921"
             ]
            ],
            "type": "heatmapgl"
           }
          ],
          "histogram": [
           {
            "marker": {
             "pattern": {
              "fillmode": "overlay",
              "size": 10,
              "solidity": 0.2
             }
            },
            "type": "histogram"
           }
          ],
          "histogram2d": [
           {
            "colorbar": {
             "outlinewidth": 0,
             "ticks": ""
            },
            "colorscale": [
             [
              0,
              "#0d0887"
             ],
             [
              0.1111111111111111,
              "#46039f"
             ],
             [
              0.2222222222222222,
              "#7201a8"
             ],
             [
              0.3333333333333333,
              "#9c179e"
             ],
             [
              0.4444444444444444,
              "#bd3786"
             ],
             [
              0.5555555555555556,
              "#d8576b"
             ],
             [
              0.6666666666666666,
              "#ed7953"
             ],
             [
              0.7777777777777778,
              "#fb9f3a"
             ],
             [
              0.8888888888888888,
              "#fdca26"
             ],
             [
              1,
              "#f0f921"
             ]
            ],
            "type": "histogram2d"
           }
          ],
          "histogram2dcontour": [
           {
            "colorbar": {
             "outlinewidth": 0,
             "ticks": ""
            },
            "colorscale": [
             [
              0,
              "#0d0887"
             ],
             [
              0.1111111111111111,
              "#46039f"
             ],
             [
              0.2222222222222222,
              "#7201a8"
             ],
             [
              0.3333333333333333,
              "#9c179e"
             ],
             [
              0.4444444444444444,
              "#bd3786"
             ],
             [
              0.5555555555555556,
              "#d8576b"
             ],
             [
              0.6666666666666666,
              "#ed7953"
             ],
             [
              0.7777777777777778,
              "#fb9f3a"
             ],
             [
              0.8888888888888888,
              "#fdca26"
             ],
             [
              1,
              "#f0f921"
             ]
            ],
            "type": "histogram2dcontour"
           }
          ],
          "mesh3d": [
           {
            "colorbar": {
             "outlinewidth": 0,
             "ticks": ""
            },
            "type": "mesh3d"
           }
          ],
          "parcoords": [
           {
            "line": {
             "colorbar": {
              "outlinewidth": 0,
              "ticks": ""
             }
            },
            "type": "parcoords"
           }
          ],
          "pie": [
           {
            "automargin": true,
            "type": "pie"
           }
          ],
          "scatter": [
           {
            "fillpattern": {
             "fillmode": "overlay",
             "size": 10,
             "solidity": 0.2
            },
            "type": "scatter"
           }
          ],
          "scatter3d": [
           {
            "line": {
             "colorbar": {
              "outlinewidth": 0,
              "ticks": ""
             }
            },
            "marker": {
             "colorbar": {
              "outlinewidth": 0,
              "ticks": ""
             }
            },
            "type": "scatter3d"
           }
          ],
          "scattercarpet": [
           {
            "marker": {
             "colorbar": {
              "outlinewidth": 0,
              "ticks": ""
             }
            },
            "type": "scattercarpet"
           }
          ],
          "scattergeo": [
           {
            "marker": {
             "colorbar": {
              "outlinewidth": 0,
              "ticks": ""
             }
            },
            "type": "scattergeo"
           }
          ],
          "scattergl": [
           {
            "marker": {
             "colorbar": {
              "outlinewidth": 0,
              "ticks": ""
             }
            },
            "type": "scattergl"
           }
          ],
          "scattermapbox": [
           {
            "marker": {
             "colorbar": {
              "outlinewidth": 0,
              "ticks": ""
             }
            },
            "type": "scattermapbox"
           }
          ],
          "scatterpolar": [
           {
            "marker": {
             "colorbar": {
              "outlinewidth": 0,
              "ticks": ""
             }
            },
            "type": "scatterpolar"
           }
          ],
          "scatterpolargl": [
           {
            "marker": {
             "colorbar": {
              "outlinewidth": 0,
              "ticks": ""
             }
            },
            "type": "scatterpolargl"
           }
          ],
          "scatterternary": [
           {
            "marker": {
             "colorbar": {
              "outlinewidth": 0,
              "ticks": ""
             }
            },
            "type": "scatterternary"
           }
          ],
          "surface": [
           {
            "colorbar": {
             "outlinewidth": 0,
             "ticks": ""
            },
            "colorscale": [
             [
              0,
              "#0d0887"
             ],
             [
              0.1111111111111111,
              "#46039f"
             ],
             [
              0.2222222222222222,
              "#7201a8"
             ],
             [
              0.3333333333333333,
              "#9c179e"
             ],
             [
              0.4444444444444444,
              "#bd3786"
             ],
             [
              0.5555555555555556,
              "#d8576b"
             ],
             [
              0.6666666666666666,
              "#ed7953"
             ],
             [
              0.7777777777777778,
              "#fb9f3a"
             ],
             [
              0.8888888888888888,
              "#fdca26"
             ],
             [
              1,
              "#f0f921"
             ]
            ],
            "type": "surface"
           }
          ],
          "table": [
           {
            "cells": {
             "fill": {
              "color": "#EBF0F8"
             },
             "line": {
              "color": "white"
             }
            },
            "header": {
             "fill": {
              "color": "#C8D4E3"
             },
             "line": {
              "color": "white"
             }
            },
            "type": "table"
           }
          ]
         },
         "layout": {
          "annotationdefaults": {
           "arrowcolor": "#2a3f5f",
           "arrowhead": 0,
           "arrowwidth": 1
          },
          "autotypenumbers": "strict",
          "coloraxis": {
           "colorbar": {
            "outlinewidth": 0,
            "ticks": ""
           }
          },
          "colorscale": {
           "diverging": [
            [
             0,
             "#8e0152"
            ],
            [
             0.1,
             "#c51b7d"
            ],
            [
             0.2,
             "#de77ae"
            ],
            [
             0.3,
             "#f1b6da"
            ],
            [
             0.4,
             "#fde0ef"
            ],
            [
             0.5,
             "#f7f7f7"
            ],
            [
             0.6,
             "#e6f5d0"
            ],
            [
             0.7,
             "#b8e186"
            ],
            [
             0.8,
             "#7fbc41"
            ],
            [
             0.9,
             "#4d9221"
            ],
            [
             1,
             "#276419"
            ]
           ],
           "sequential": [
            [
             0,
             "#0d0887"
            ],
            [
             0.1111111111111111,
             "#46039f"
            ],
            [
             0.2222222222222222,
             "#7201a8"
            ],
            [
             0.3333333333333333,
             "#9c179e"
            ],
            [
             0.4444444444444444,
             "#bd3786"
            ],
            [
             0.5555555555555556,
             "#d8576b"
            ],
            [
             0.6666666666666666,
             "#ed7953"
            ],
            [
             0.7777777777777778,
             "#fb9f3a"
            ],
            [
             0.8888888888888888,
             "#fdca26"
            ],
            [
             1,
             "#f0f921"
            ]
           ],
           "sequentialminus": [
            [
             0,
             "#0d0887"
            ],
            [
             0.1111111111111111,
             "#46039f"
            ],
            [
             0.2222222222222222,
             "#7201a8"
            ],
            [
             0.3333333333333333,
             "#9c179e"
            ],
            [
             0.4444444444444444,
             "#bd3786"
            ],
            [
             0.5555555555555556,
             "#d8576b"
            ],
            [
             0.6666666666666666,
             "#ed7953"
            ],
            [
             0.7777777777777778,
             "#fb9f3a"
            ],
            [
             0.8888888888888888,
             "#fdca26"
            ],
            [
             1,
             "#f0f921"
            ]
           ]
          },
          "colorway": [
           "#636efa",
           "#EF553B",
           "#00cc96",
           "#ab63fa",
           "#FFA15A",
           "#19d3f3",
           "#FF6692",
           "#B6E880",
           "#FF97FF",
           "#FECB52"
          ],
          "font": {
           "color": "#2a3f5f"
          },
          "geo": {
           "bgcolor": "white",
           "lakecolor": "white",
           "landcolor": "white",
           "showlakes": true,
           "showland": true,
           "subunitcolor": "#C8D4E3"
          },
          "hoverlabel": {
           "align": "left"
          },
          "hovermode": "closest",
          "mapbox": {
           "style": "light"
          },
          "paper_bgcolor": "white",
          "plot_bgcolor": "white",
          "polar": {
           "angularaxis": {
            "gridcolor": "#EBF0F8",
            "linecolor": "#EBF0F8",
            "ticks": ""
           },
           "bgcolor": "white",
           "radialaxis": {
            "gridcolor": "#EBF0F8",
            "linecolor": "#EBF0F8",
            "ticks": ""
           }
          },
          "scene": {
           "xaxis": {
            "backgroundcolor": "white",
            "gridcolor": "#DFE8F3",
            "gridwidth": 2,
            "linecolor": "#EBF0F8",
            "showbackground": true,
            "ticks": "",
            "zerolinecolor": "#EBF0F8"
           },
           "yaxis": {
            "backgroundcolor": "white",
            "gridcolor": "#DFE8F3",
            "gridwidth": 2,
            "linecolor": "#EBF0F8",
            "showbackground": true,
            "ticks": "",
            "zerolinecolor": "#EBF0F8"
           },
           "zaxis": {
            "backgroundcolor": "white",
            "gridcolor": "#DFE8F3",
            "gridwidth": 2,
            "linecolor": "#EBF0F8",
            "showbackground": true,
            "ticks": "",
            "zerolinecolor": "#EBF0F8"
           }
          },
          "shapedefaults": {
           "line": {
            "color": "#2a3f5f"
           }
          },
          "ternary": {
           "aaxis": {
            "gridcolor": "#DFE8F3",
            "linecolor": "#A2B1C6",
            "ticks": ""
           },
           "baxis": {
            "gridcolor": "#DFE8F3",
            "linecolor": "#A2B1C6",
            "ticks": ""
           },
           "bgcolor": "white",
           "caxis": {
            "gridcolor": "#DFE8F3",
            "linecolor": "#A2B1C6",
            "ticks": ""
           }
          },
          "title": {
           "x": 0.05
          },
          "xaxis": {
           "automargin": true,
           "gridcolor": "#EBF0F8",
           "linecolor": "#EBF0F8",
           "ticks": "",
           "title": {
            "standoff": 15
           },
           "zerolinecolor": "#EBF0F8",
           "zerolinewidth": 2
          },
          "yaxis": {
           "automargin": true,
           "gridcolor": "#EBF0F8",
           "linecolor": "#EBF0F8",
           "ticks": "",
           "title": {
            "standoff": 15
           },
           "zerolinecolor": "#EBF0F8",
           "zerolinewidth": 2
          }
         }
        },
        "title": {
         "text": "Распределение клиентов по RFM-сегментам"
        },
        "xaxis": {
         "title": {
          "text": "Сегмент"
         }
        },
        "yaxis": {
         "title": {
          "text": "Количество клиентов"
         }
        }
       }
      }
     },
     "metadata": {},
     "output_type": "display_data"
    }
   ],
   "source": [
    "# 6. Визуализация распределения сегментов\n",
    "fig = go.Figure()\n",
    "\n",
    "fig.add_trace(go.Bar(\n",
    "    x=segment_stats.index,\n",
    "    y=segment_stats['customer_id'],\n",
    "    text=segment_stats['percent'].apply(lambda x: f'{x:.1f}%'),\n",
    "    textposition='auto',\n",
    "))\n",
    "\n",
    "fig.update_layout(\n",
    "    title='Распределение клиентов по RFM-сегментам',\n",
    "    xaxis_title='Сегмент',\n",
    "    yaxis_title='Количество клиентов',\n",
    "    template='plotly_white'\n",
    ")\n",
    "\n",
    "fig.show()"
   ]
  },
  {
   "cell_type": "markdown",
   "metadata": {},
   "source": [
    "#### 3.5.1. **Выводы по анализу RFM-сегментов**"
   ]
  },
  {
   "cell_type": "code",
   "execution_count": 94,
   "metadata": {},
   "outputs": [],
   "source": [
    "# Создаем таблицу характеристик сегментов\n",
    "segment_characteristics = pd.DataFrame({\n",
    "    'Сегмент': ['VIP', 'Активные', 'Лояльные', 'Потерянные', 'Средние', 'Требуют внимания'],\n",
    "    'Доля': ['6.19%', '20.06%', '13.96%', '19.78%', '19.78%', '20.23%'],\n",
    "    'Recency (дни)': [6, 17, 20, 173, 66, 157],\n",
    "    'Frequency (заказы)': [484, 23, 93, 8, 44, 38],\n",
    "    'Monetary (₽)': ['910,956', '68,524', '210,727', '13,892', '83,913', '62,090'],\n",
    "    'Характеристики': [\n",
    "        'Наивысшая ценность, максимальная частота покупок, недавние покупки',\n",
    "        'Недавние покупки, средняя частота и сумма покупок',\n",
    "        'Высокая частота и сумма покупок, стабильные клиенты',\n",
    "        'Давно не покупают, низкая активность',\n",
    "        'Средние показатели по всем метрикам',\n",
    "        'Большой перерыв, но хорошая история покупок'\n",
    "    ]\n",
    "})\n",
    "\n",
    "# Создаем таблицу рекомендаций\n",
    "segment_recommendations = pd.DataFrame({\n",
    "    'Сегмент': ['VIP', 'Активные', 'Лояльные', 'Потерянные', 'Средние', 'Требуют внимания'],\n",
    "    'Приоритет': ['Высший', 'Высокий', 'Высокий', 'Средний', 'Средний', 'Высокий'],\n",
    "    'Стратегия': [\n",
    "        'Удержание и развитие',\n",
    "        'Увеличение частоты',\n",
    "        'Поддержание лояльности',\n",
    "        'Возврат',\n",
    "        'Развитие',\n",
    "        'Реактивация'\n",
    "    ],\n",
    "    'Рекомендации': [\n",
    "        '• Персональный менеджер\\n• Эксклюзивные предложения\\n• Программа привилегий',\n",
    "        '• Программа лояльности\\n• Кросс-продажи\\n• Увеличение среднего чека',\n",
    "        '• Программы удержания\\n• Специальные акции\\n• Бонусы за регулярность',\n",
    "        '• Реактивационные кампании\\n• \"Возвращающие\" предложения\\n• Опрос о причинах ухода',\n",
    "        '• Стимулирование частоты\\n• Программы развития\\n• Персонализация предложений',\n",
    "        '• Срочные реактивационные меры\\n• Специальные предложения\\n• Напоминания'\n",
    "    ]\n",
    "})"
   ]
  },
  {
   "cell_type": "code",
   "execution_count": 95,
   "metadata": {},
   "outputs": [
    {
     "name": "stdout",
     "output_type": "stream",
     "text": [
      "Характеристики сегментов:\n"
     ]
    },
    {
     "data": {
      "text/html": [
       "<style type=\"text/css\">\n",
       "#T_fc665_row0_col0, #T_fc665_row0_col1, #T_fc665_row0_col2, #T_fc665_row0_col3, #T_fc665_row0_col4, #T_fc665_row0_col5, #T_fc665_row1_col0, #T_fc665_row1_col1, #T_fc665_row1_col2, #T_fc665_row1_col3, #T_fc665_row1_col4, #T_fc665_row1_col5, #T_fc665_row2_col0, #T_fc665_row2_col1, #T_fc665_row2_col2, #T_fc665_row2_col3, #T_fc665_row2_col4, #T_fc665_row2_col5, #T_fc665_row3_col0, #T_fc665_row3_col1, #T_fc665_row3_col2, #T_fc665_row3_col3, #T_fc665_row3_col4, #T_fc665_row3_col5, #T_fc665_row4_col0, #T_fc665_row4_col1, #T_fc665_row4_col2, #T_fc665_row4_col3, #T_fc665_row4_col4, #T_fc665_row4_col5, #T_fc665_row5_col0, #T_fc665_row5_col1, #T_fc665_row5_col2, #T_fc665_row5_col3, #T_fc665_row5_col4, #T_fc665_row5_col5 {\n",
       "  text-align: left;\n",
       "  white-space: pre-wrap;\n",
       "}\n",
       "</style>\n",
       "<table id=\"T_fc665\">\n",
       "  <thead>\n",
       "    <tr>\n",
       "      <th class=\"blank level0\" >&nbsp;</th>\n",
       "      <th id=\"T_fc665_level0_col0\" class=\"col_heading level0 col0\" >Сегмент</th>\n",
       "      <th id=\"T_fc665_level0_col1\" class=\"col_heading level0 col1\" >Доля</th>\n",
       "      <th id=\"T_fc665_level0_col2\" class=\"col_heading level0 col2\" >Recency (дни)</th>\n",
       "      <th id=\"T_fc665_level0_col3\" class=\"col_heading level0 col3\" >Frequency (заказы)</th>\n",
       "      <th id=\"T_fc665_level0_col4\" class=\"col_heading level0 col4\" >Monetary (₽)</th>\n",
       "      <th id=\"T_fc665_level0_col5\" class=\"col_heading level0 col5\" >Характеристики</th>\n",
       "    </tr>\n",
       "  </thead>\n",
       "  <tbody>\n",
       "    <tr>\n",
       "      <th id=\"T_fc665_level0_row0\" class=\"row_heading level0 row0\" >0</th>\n",
       "      <td id=\"T_fc665_row0_col0\" class=\"data row0 col0\" >VIP</td>\n",
       "      <td id=\"T_fc665_row0_col1\" class=\"data row0 col1\" >6.19%</td>\n",
       "      <td id=\"T_fc665_row0_col2\" class=\"data row0 col2\" >6</td>\n",
       "      <td id=\"T_fc665_row0_col3\" class=\"data row0 col3\" >484</td>\n",
       "      <td id=\"T_fc665_row0_col4\" class=\"data row0 col4\" >910,956</td>\n",
       "      <td id=\"T_fc665_row0_col5\" class=\"data row0 col5\" >Наивысшая ценность, максимальная частота покупок, недавние покупки</td>\n",
       "    </tr>\n",
       "    <tr>\n",
       "      <th id=\"T_fc665_level0_row1\" class=\"row_heading level0 row1\" >1</th>\n",
       "      <td id=\"T_fc665_row1_col0\" class=\"data row1 col0\" >Активные</td>\n",
       "      <td id=\"T_fc665_row1_col1\" class=\"data row1 col1\" >20.06%</td>\n",
       "      <td id=\"T_fc665_row1_col2\" class=\"data row1 col2\" >17</td>\n",
       "      <td id=\"T_fc665_row1_col3\" class=\"data row1 col3\" >23</td>\n",
       "      <td id=\"T_fc665_row1_col4\" class=\"data row1 col4\" >68,524</td>\n",
       "      <td id=\"T_fc665_row1_col5\" class=\"data row1 col5\" >Недавние покупки, средняя частота и сумма покупок</td>\n",
       "    </tr>\n",
       "    <tr>\n",
       "      <th id=\"T_fc665_level0_row2\" class=\"row_heading level0 row2\" >2</th>\n",
       "      <td id=\"T_fc665_row2_col0\" class=\"data row2 col0\" >Лояльные</td>\n",
       "      <td id=\"T_fc665_row2_col1\" class=\"data row2 col1\" >13.96%</td>\n",
       "      <td id=\"T_fc665_row2_col2\" class=\"data row2 col2\" >20</td>\n",
       "      <td id=\"T_fc665_row2_col3\" class=\"data row2 col3\" >93</td>\n",
       "      <td id=\"T_fc665_row2_col4\" class=\"data row2 col4\" >210,727</td>\n",
       "      <td id=\"T_fc665_row2_col5\" class=\"data row2 col5\" >Высокая частота и сумма покупок, стабильные клиенты</td>\n",
       "    </tr>\n",
       "    <tr>\n",
       "      <th id=\"T_fc665_level0_row3\" class=\"row_heading level0 row3\" >3</th>\n",
       "      <td id=\"T_fc665_row3_col0\" class=\"data row3 col0\" >Потерянные</td>\n",
       "      <td id=\"T_fc665_row3_col1\" class=\"data row3 col1\" >19.78%</td>\n",
       "      <td id=\"T_fc665_row3_col2\" class=\"data row3 col2\" >173</td>\n",
       "      <td id=\"T_fc665_row3_col3\" class=\"data row3 col3\" >8</td>\n",
       "      <td id=\"T_fc665_row3_col4\" class=\"data row3 col4\" >13,892</td>\n",
       "      <td id=\"T_fc665_row3_col5\" class=\"data row3 col5\" >Давно не покупают, низкая активность</td>\n",
       "    </tr>\n",
       "    <tr>\n",
       "      <th id=\"T_fc665_level0_row4\" class=\"row_heading level0 row4\" >4</th>\n",
       "      <td id=\"T_fc665_row4_col0\" class=\"data row4 col0\" >Средние</td>\n",
       "      <td id=\"T_fc665_row4_col1\" class=\"data row4 col1\" >19.78%</td>\n",
       "      <td id=\"T_fc665_row4_col2\" class=\"data row4 col2\" >66</td>\n",
       "      <td id=\"T_fc665_row4_col3\" class=\"data row4 col3\" >44</td>\n",
       "      <td id=\"T_fc665_row4_col4\" class=\"data row4 col4\" >83,913</td>\n",
       "      <td id=\"T_fc665_row4_col5\" class=\"data row4 col5\" >Средние показатели по всем метрикам</td>\n",
       "    </tr>\n",
       "    <tr>\n",
       "      <th id=\"T_fc665_level0_row5\" class=\"row_heading level0 row5\" >5</th>\n",
       "      <td id=\"T_fc665_row5_col0\" class=\"data row5 col0\" >Требуют внимания</td>\n",
       "      <td id=\"T_fc665_row5_col1\" class=\"data row5 col1\" >20.23%</td>\n",
       "      <td id=\"T_fc665_row5_col2\" class=\"data row5 col2\" >157</td>\n",
       "      <td id=\"T_fc665_row5_col3\" class=\"data row5 col3\" >38</td>\n",
       "      <td id=\"T_fc665_row5_col4\" class=\"data row5 col4\" >62,090</td>\n",
       "      <td id=\"T_fc665_row5_col5\" class=\"data row5 col5\" >Большой перерыв, но хорошая история покупок</td>\n",
       "    </tr>\n",
       "  </tbody>\n",
       "</table>\n"
      ],
      "text/plain": [
       "<pandas.io.formats.style.Styler at 0x156666c60>"
      ]
     },
     "metadata": {},
     "output_type": "display_data"
    },
    {
     "name": "stdout",
     "output_type": "stream",
     "text": [
      "\n",
      "Рекомендации по работе с сегментами:\n"
     ]
    },
    {
     "data": {
      "text/html": [
       "<style type=\"text/css\">\n",
       "#T_60f9d_row0_col0, #T_60f9d_row0_col1, #T_60f9d_row0_col2, #T_60f9d_row0_col3, #T_60f9d_row1_col0, #T_60f9d_row1_col1, #T_60f9d_row1_col2, #T_60f9d_row1_col3, #T_60f9d_row2_col0, #T_60f9d_row2_col1, #T_60f9d_row2_col2, #T_60f9d_row2_col3, #T_60f9d_row3_col0, #T_60f9d_row3_col1, #T_60f9d_row3_col2, #T_60f9d_row3_col3, #T_60f9d_row4_col0, #T_60f9d_row4_col1, #T_60f9d_row4_col2, #T_60f9d_row4_col3, #T_60f9d_row5_col0, #T_60f9d_row5_col1, #T_60f9d_row5_col2, #T_60f9d_row5_col3 {\n",
       "  text-align: left;\n",
       "  white-space: pre-wrap;\n",
       "}\n",
       "</style>\n",
       "<table id=\"T_60f9d\">\n",
       "  <thead>\n",
       "    <tr>\n",
       "      <th class=\"blank level0\" >&nbsp;</th>\n",
       "      <th id=\"T_60f9d_level0_col0\" class=\"col_heading level0 col0\" >Сегмент</th>\n",
       "      <th id=\"T_60f9d_level0_col1\" class=\"col_heading level0 col1\" >Приоритет</th>\n",
       "      <th id=\"T_60f9d_level0_col2\" class=\"col_heading level0 col2\" >Стратегия</th>\n",
       "      <th id=\"T_60f9d_level0_col3\" class=\"col_heading level0 col3\" >Рекомендации</th>\n",
       "    </tr>\n",
       "  </thead>\n",
       "  <tbody>\n",
       "    <tr>\n",
       "      <th id=\"T_60f9d_level0_row0\" class=\"row_heading level0 row0\" >0</th>\n",
       "      <td id=\"T_60f9d_row0_col0\" class=\"data row0 col0\" >VIP</td>\n",
       "      <td id=\"T_60f9d_row0_col1\" class=\"data row0 col1\" >Высший</td>\n",
       "      <td id=\"T_60f9d_row0_col2\" class=\"data row0 col2\" >Удержание и развитие</td>\n",
       "      <td id=\"T_60f9d_row0_col3\" class=\"data row0 col3\" >• Персональный менеджер\n",
       "• Эксклюзивные предложения\n",
       "• Программа привилегий</td>\n",
       "    </tr>\n",
       "    <tr>\n",
       "      <th id=\"T_60f9d_level0_row1\" class=\"row_heading level0 row1\" >1</th>\n",
       "      <td id=\"T_60f9d_row1_col0\" class=\"data row1 col0\" >Активные</td>\n",
       "      <td id=\"T_60f9d_row1_col1\" class=\"data row1 col1\" >Высокий</td>\n",
       "      <td id=\"T_60f9d_row1_col2\" class=\"data row1 col2\" >Увеличение частоты</td>\n",
       "      <td id=\"T_60f9d_row1_col3\" class=\"data row1 col3\" >• Программа лояльности\n",
       "• Кросс-продажи\n",
       "• Увеличение среднего чека</td>\n",
       "    </tr>\n",
       "    <tr>\n",
       "      <th id=\"T_60f9d_level0_row2\" class=\"row_heading level0 row2\" >2</th>\n",
       "      <td id=\"T_60f9d_row2_col0\" class=\"data row2 col0\" >Лояльные</td>\n",
       "      <td id=\"T_60f9d_row2_col1\" class=\"data row2 col1\" >Высокий</td>\n",
       "      <td id=\"T_60f9d_row2_col2\" class=\"data row2 col2\" >Поддержание лояльности</td>\n",
       "      <td id=\"T_60f9d_row2_col3\" class=\"data row2 col3\" >• Программы удержания\n",
       "• Специальные акции\n",
       "• Бонусы за регулярность</td>\n",
       "    </tr>\n",
       "    <tr>\n",
       "      <th id=\"T_60f9d_level0_row3\" class=\"row_heading level0 row3\" >3</th>\n",
       "      <td id=\"T_60f9d_row3_col0\" class=\"data row3 col0\" >Потерянные</td>\n",
       "      <td id=\"T_60f9d_row3_col1\" class=\"data row3 col1\" >Средний</td>\n",
       "      <td id=\"T_60f9d_row3_col2\" class=\"data row3 col2\" >Возврат</td>\n",
       "      <td id=\"T_60f9d_row3_col3\" class=\"data row3 col3\" >• Реактивационные кампании\n",
       "• \"Возвращающие\" предложения\n",
       "• Опрос о причинах ухода</td>\n",
       "    </tr>\n",
       "    <tr>\n",
       "      <th id=\"T_60f9d_level0_row4\" class=\"row_heading level0 row4\" >4</th>\n",
       "      <td id=\"T_60f9d_row4_col0\" class=\"data row4 col0\" >Средние</td>\n",
       "      <td id=\"T_60f9d_row4_col1\" class=\"data row4 col1\" >Средний</td>\n",
       "      <td id=\"T_60f9d_row4_col2\" class=\"data row4 col2\" >Развитие</td>\n",
       "      <td id=\"T_60f9d_row4_col3\" class=\"data row4 col3\" >• Стимулирование частоты\n",
       "• Программы развития\n",
       "• Персонализация предложений</td>\n",
       "    </tr>\n",
       "    <tr>\n",
       "      <th id=\"T_60f9d_level0_row5\" class=\"row_heading level0 row5\" >5</th>\n",
       "      <td id=\"T_60f9d_row5_col0\" class=\"data row5 col0\" >Требуют внимания</td>\n",
       "      <td id=\"T_60f9d_row5_col1\" class=\"data row5 col1\" >Высокий</td>\n",
       "      <td id=\"T_60f9d_row5_col2\" class=\"data row5 col2\" >Реактивация</td>\n",
       "      <td id=\"T_60f9d_row5_col3\" class=\"data row5 col3\" >• Срочные реактивационные меры\n",
       "• Специальные предложения\n",
       "• Напоминания</td>\n",
       "    </tr>\n",
       "  </tbody>\n",
       "</table>\n"
      ],
      "text/plain": [
       "<pandas.io.formats.style.Styler at 0x157bdfe30>"
      ]
     },
     "metadata": {},
     "output_type": "display_data"
    },
    {
     "data": {
      "application/vnd.plotly.v1+json": {
       "config": {
        "plotlyServerURL": "https://plot.ly"
       },
       "data": [
        {
         "marker": {
          "color": "#1f77b4"
         },
         "name": "recency",
         "type": "bar",
         "x": [
          "VIP",
          "Требуют внимания",
          "Средние",
          "Потерянные",
          "Активные",
          "Лояльные"
         ],
         "xaxis": "x",
         "y": [
          5.822727272727272,
          17.302945301542778,
          19.64516129032258,
          173.44176136363637,
          65.50355618776672,
          156.97632311977716
         ],
         "yaxis": "y"
        },
        {
         "marker": {
          "color": "#ff7f0e"
         },
         "name": "frequency",
         "type": "bar",
         "x": [
          "VIP",
          "Требуют внимания",
          "Средние",
          "Потерянные",
          "Активные",
          "Лояльные"
         ],
         "xaxis": "x2",
         "y": [
          483.7227272727273,
          22.50490883590463,
          93.16129032258064,
          8.231534090909092,
          43.574679943100996,
          38.069637883008355
         ],
         "yaxis": "y2"
        },
        {
         "marker": {
          "color": "#2ca02c"
         },
         "name": "monetary",
         "type": "bar",
         "x": [
          "VIP",
          "Требуют внимания",
          "Средние",
          "Потерянные",
          "Активные",
          "Лояльные"
         ],
         "xaxis": "x3",
         "y": [
          910955.5818181818,
          68513.29032258065,
          210719.21774193548,
          13912.484375,
          83912.7852062589,
          62126.81058495822
         ],
         "yaxis": "y3"
        }
       ],
       "layout": {
        "annotations": [
         {
          "font": {
           "size": 16
          },
          "showarrow": false,
          "text": "Recency",
          "x": 0.14444444444444446,
          "xanchor": "center",
          "xref": "paper",
          "y": 1,
          "yanchor": "bottom",
          "yref": "paper"
         },
         {
          "font": {
           "size": 16
          },
          "showarrow": false,
          "text": "Frequency",
          "x": 0.5,
          "xanchor": "center",
          "xref": "paper",
          "y": 1,
          "yanchor": "bottom",
          "yref": "paper"
         },
         {
          "font": {
           "size": 16
          },
          "showarrow": false,
          "text": "Monetary",
          "x": 0.8555555555555556,
          "xanchor": "center",
          "xref": "paper",
          "y": 1,
          "yanchor": "bottom",
          "yref": "paper"
         }
        ],
        "height": 400,
        "template": {
         "data": {
          "bar": [
           {
            "error_x": {
             "color": "#2a3f5f"
            },
            "error_y": {
             "color": "#2a3f5f"
            },
            "marker": {
             "line": {
              "color": "#E5ECF6",
              "width": 0.5
             },
             "pattern": {
              "fillmode": "overlay",
              "size": 10,
              "solidity": 0.2
             }
            },
            "type": "bar"
           }
          ],
          "barpolar": [
           {
            "marker": {
             "line": {
              "color": "#E5ECF6",
              "width": 0.5
             },
             "pattern": {
              "fillmode": "overlay",
              "size": 10,
              "solidity": 0.2
             }
            },
            "type": "barpolar"
           }
          ],
          "carpet": [
           {
            "aaxis": {
             "endlinecolor": "#2a3f5f",
             "gridcolor": "white",
             "linecolor": "white",
             "minorgridcolor": "white",
             "startlinecolor": "#2a3f5f"
            },
            "baxis": {
             "endlinecolor": "#2a3f5f",
             "gridcolor": "white",
             "linecolor": "white",
             "minorgridcolor": "white",
             "startlinecolor": "#2a3f5f"
            },
            "type": "carpet"
           }
          ],
          "choropleth": [
           {
            "colorbar": {
             "outlinewidth": 0,
             "ticks": ""
            },
            "type": "choropleth"
           }
          ],
          "contour": [
           {
            "colorbar": {
             "outlinewidth": 0,
             "ticks": ""
            },
            "colorscale": [
             [
              0,
              "#0d0887"
             ],
             [
              0.1111111111111111,
              "#46039f"
             ],
             [
              0.2222222222222222,
              "#7201a8"
             ],
             [
              0.3333333333333333,
              "#9c179e"
             ],
             [
              0.4444444444444444,
              "#bd3786"
             ],
             [
              0.5555555555555556,
              "#d8576b"
             ],
             [
              0.6666666666666666,
              "#ed7953"
             ],
             [
              0.7777777777777778,
              "#fb9f3a"
             ],
             [
              0.8888888888888888,
              "#fdca26"
             ],
             [
              1,
              "#f0f921"
             ]
            ],
            "type": "contour"
           }
          ],
          "contourcarpet": [
           {
            "colorbar": {
             "outlinewidth": 0,
             "ticks": ""
            },
            "type": "contourcarpet"
           }
          ],
          "heatmap": [
           {
            "colorbar": {
             "outlinewidth": 0,
             "ticks": ""
            },
            "colorscale": [
             [
              0,
              "#0d0887"
             ],
             [
              0.1111111111111111,
              "#46039f"
             ],
             [
              0.2222222222222222,
              "#7201a8"
             ],
             [
              0.3333333333333333,
              "#9c179e"
             ],
             [
              0.4444444444444444,
              "#bd3786"
             ],
             [
              0.5555555555555556,
              "#d8576b"
             ],
             [
              0.6666666666666666,
              "#ed7953"
             ],
             [
              0.7777777777777778,
              "#fb9f3a"
             ],
             [
              0.8888888888888888,
              "#fdca26"
             ],
             [
              1,
              "#f0f921"
             ]
            ],
            "type": "heatmap"
           }
          ],
          "heatmapgl": [
           {
            "colorbar": {
             "outlinewidth": 0,
             "ticks": ""
            },
            "colorscale": [
             [
              0,
              "#0d0887"
             ],
             [
              0.1111111111111111,
              "#46039f"
             ],
             [
              0.2222222222222222,
              "#7201a8"
             ],
             [
              0.3333333333333333,
              "#9c179e"
             ],
             [
              0.4444444444444444,
              "#bd3786"
             ],
             [
              0.5555555555555556,
              "#d8576b"
             ],
             [
              0.6666666666666666,
              "#ed7953"
             ],
             [
              0.7777777777777778,
              "#fb9f3a"
             ],
             [
              0.8888888888888888,
              "#fdca26"
             ],
             [
              1,
              "#f0f921"
             ]
            ],
            "type": "heatmapgl"
           }
          ],
          "histogram": [
           {
            "marker": {
             "pattern": {
              "fillmode": "overlay",
              "size": 10,
              "solidity": 0.2
             }
            },
            "type": "histogram"
           }
          ],
          "histogram2d": [
           {
            "colorbar": {
             "outlinewidth": 0,
             "ticks": ""
            },
            "colorscale": [
             [
              0,
              "#0d0887"
             ],
             [
              0.1111111111111111,
              "#46039f"
             ],
             [
              0.2222222222222222,
              "#7201a8"
             ],
             [
              0.3333333333333333,
              "#9c179e"
             ],
             [
              0.4444444444444444,
              "#bd3786"
             ],
             [
              0.5555555555555556,
              "#d8576b"
             ],
             [
              0.6666666666666666,
              "#ed7953"
             ],
             [
              0.7777777777777778,
              "#fb9f3a"
             ],
             [
              0.8888888888888888,
              "#fdca26"
             ],
             [
              1,
              "#f0f921"
             ]
            ],
            "type": "histogram2d"
           }
          ],
          "histogram2dcontour": [
           {
            "colorbar": {
             "outlinewidth": 0,
             "ticks": ""
            },
            "colorscale": [
             [
              0,
              "#0d0887"
             ],
             [
              0.1111111111111111,
              "#46039f"
             ],
             [
              0.2222222222222222,
              "#7201a8"
             ],
             [
              0.3333333333333333,
              "#9c179e"
             ],
             [
              0.4444444444444444,
              "#bd3786"
             ],
             [
              0.5555555555555556,
              "#d8576b"
             ],
             [
              0.6666666666666666,
              "#ed7953"
             ],
             [
              0.7777777777777778,
              "#fb9f3a"
             ],
             [
              0.8888888888888888,
              "#fdca26"
             ],
             [
              1,
              "#f0f921"
             ]
            ],
            "type": "histogram2dcontour"
           }
          ],
          "mesh3d": [
           {
            "colorbar": {
             "outlinewidth": 0,
             "ticks": ""
            },
            "type": "mesh3d"
           }
          ],
          "parcoords": [
           {
            "line": {
             "colorbar": {
              "outlinewidth": 0,
              "ticks": ""
             }
            },
            "type": "parcoords"
           }
          ],
          "pie": [
           {
            "automargin": true,
            "type": "pie"
           }
          ],
          "scatter": [
           {
            "fillpattern": {
             "fillmode": "overlay",
             "size": 10,
             "solidity": 0.2
            },
            "type": "scatter"
           }
          ],
          "scatter3d": [
           {
            "line": {
             "colorbar": {
              "outlinewidth": 0,
              "ticks": ""
             }
            },
            "marker": {
             "colorbar": {
              "outlinewidth": 0,
              "ticks": ""
             }
            },
            "type": "scatter3d"
           }
          ],
          "scattercarpet": [
           {
            "marker": {
             "colorbar": {
              "outlinewidth": 0,
              "ticks": ""
             }
            },
            "type": "scattercarpet"
           }
          ],
          "scattergeo": [
           {
            "marker": {
             "colorbar": {
              "outlinewidth": 0,
              "ticks": ""
             }
            },
            "type": "scattergeo"
           }
          ],
          "scattergl": [
           {
            "marker": {
             "colorbar": {
              "outlinewidth": 0,
              "ticks": ""
             }
            },
            "type": "scattergl"
           }
          ],
          "scattermapbox": [
           {
            "marker": {
             "colorbar": {
              "outlinewidth": 0,
              "ticks": ""
             }
            },
            "type": "scattermapbox"
           }
          ],
          "scatterpolar": [
           {
            "marker": {
             "colorbar": {
              "outlinewidth": 0,
              "ticks": ""
             }
            },
            "type": "scatterpolar"
           }
          ],
          "scatterpolargl": [
           {
            "marker": {
             "colorbar": {
              "outlinewidth": 0,
              "ticks": ""
             }
            },
            "type": "scatterpolargl"
           }
          ],
          "scatterternary": [
           {
            "marker": {
             "colorbar": {
              "outlinewidth": 0,
              "ticks": ""
             }
            },
            "type": "scatterternary"
           }
          ],
          "surface": [
           {
            "colorbar": {
             "outlinewidth": 0,
             "ticks": ""
            },
            "colorscale": [
             [
              0,
              "#0d0887"
             ],
             [
              0.1111111111111111,
              "#46039f"
             ],
             [
              0.2222222222222222,
              "#7201a8"
             ],
             [
              0.3333333333333333,
              "#9c179e"
             ],
             [
              0.4444444444444444,
              "#bd3786"
             ],
             [
              0.5555555555555556,
              "#d8576b"
             ],
             [
              0.6666666666666666,
              "#ed7953"
             ],
             [
              0.7777777777777778,
              "#fb9f3a"
             ],
             [
              0.8888888888888888,
              "#fdca26"
             ],
             [
              1,
              "#f0f921"
             ]
            ],
            "type": "surface"
           }
          ],
          "table": [
           {
            "cells": {
             "fill": {
              "color": "#EBF0F8"
             },
             "line": {
              "color": "white"
             }
            },
            "header": {
             "fill": {
              "color": "#C8D4E3"
             },
             "line": {
              "color": "white"
             }
            },
            "type": "table"
           }
          ]
         },
         "layout": {
          "annotationdefaults": {
           "arrowcolor": "#2a3f5f",
           "arrowhead": 0,
           "arrowwidth": 1
          },
          "autotypenumbers": "strict",
          "coloraxis": {
           "colorbar": {
            "outlinewidth": 0,
            "ticks": ""
           }
          },
          "colorscale": {
           "diverging": [
            [
             0,
             "#8e0152"
            ],
            [
             0.1,
             "#c51b7d"
            ],
            [
             0.2,
             "#de77ae"
            ],
            [
             0.3,
             "#f1b6da"
            ],
            [
             0.4,
             "#fde0ef"
            ],
            [
             0.5,
             "#f7f7f7"
            ],
            [
             0.6,
             "#e6f5d0"
            ],
            [
             0.7,
             "#b8e186"
            ],
            [
             0.8,
             "#7fbc41"
            ],
            [
             0.9,
             "#4d9221"
            ],
            [
             1,
             "#276419"
            ]
           ],
           "sequential": [
            [
             0,
             "#0d0887"
            ],
            [
             0.1111111111111111,
             "#46039f"
            ],
            [
             0.2222222222222222,
             "#7201a8"
            ],
            [
             0.3333333333333333,
             "#9c179e"
            ],
            [
             0.4444444444444444,
             "#bd3786"
            ],
            [
             0.5555555555555556,
             "#d8576b"
            ],
            [
             0.6666666666666666,
             "#ed7953"
            ],
            [
             0.7777777777777778,
             "#fb9f3a"
            ],
            [
             0.8888888888888888,
             "#fdca26"
            ],
            [
             1,
             "#f0f921"
            ]
           ],
           "sequentialminus": [
            [
             0,
             "#0d0887"
            ],
            [
             0.1111111111111111,
             "#46039f"
            ],
            [
             0.2222222222222222,
             "#7201a8"
            ],
            [
             0.3333333333333333,
             "#9c179e"
            ],
            [
             0.4444444444444444,
             "#bd3786"
            ],
            [
             0.5555555555555556,
             "#d8576b"
            ],
            [
             0.6666666666666666,
             "#ed7953"
            ],
            [
             0.7777777777777778,
             "#fb9f3a"
            ],
            [
             0.8888888888888888,
             "#fdca26"
            ],
            [
             1,
             "#f0f921"
            ]
           ]
          },
          "colorway": [
           "#636efa",
           "#EF553B",
           "#00cc96",
           "#ab63fa",
           "#FFA15A",
           "#19d3f3",
           "#FF6692",
           "#B6E880",
           "#FF97FF",
           "#FECB52"
          ],
          "font": {
           "color": "#2a3f5f"
          },
          "geo": {
           "bgcolor": "white",
           "lakecolor": "white",
           "landcolor": "#E5ECF6",
           "showlakes": true,
           "showland": true,
           "subunitcolor": "white"
          },
          "hoverlabel": {
           "align": "left"
          },
          "hovermode": "closest",
          "mapbox": {
           "style": "light"
          },
          "paper_bgcolor": "white",
          "plot_bgcolor": "#E5ECF6",
          "polar": {
           "angularaxis": {
            "gridcolor": "white",
            "linecolor": "white",
            "ticks": ""
           },
           "bgcolor": "#E5ECF6",
           "radialaxis": {
            "gridcolor": "white",
            "linecolor": "white",
            "ticks": ""
           }
          },
          "scene": {
           "xaxis": {
            "backgroundcolor": "#E5ECF6",
            "gridcolor": "white",
            "gridwidth": 2,
            "linecolor": "white",
            "showbackground": true,
            "ticks": "",
            "zerolinecolor": "white"
           },
           "yaxis": {
            "backgroundcolor": "#E5ECF6",
            "gridcolor": "white",
            "gridwidth": 2,
            "linecolor": "white",
            "showbackground": true,
            "ticks": "",
            "zerolinecolor": "white"
           },
           "zaxis": {
            "backgroundcolor": "#E5ECF6",
            "gridcolor": "white",
            "gridwidth": 2,
            "linecolor": "white",
            "showbackground": true,
            "ticks": "",
            "zerolinecolor": "white"
           }
          },
          "shapedefaults": {
           "line": {
            "color": "#2a3f5f"
           }
          },
          "ternary": {
           "aaxis": {
            "gridcolor": "white",
            "linecolor": "white",
            "ticks": ""
           },
           "baxis": {
            "gridcolor": "white",
            "linecolor": "white",
            "ticks": ""
           },
           "bgcolor": "#E5ECF6",
           "caxis": {
            "gridcolor": "white",
            "linecolor": "white",
            "ticks": ""
           }
          },
          "title": {
           "x": 0.05
          },
          "xaxis": {
           "automargin": true,
           "gridcolor": "white",
           "linecolor": "white",
           "ticks": "",
           "title": {
            "standoff": 15
           },
           "zerolinecolor": "white",
           "zerolinewidth": 2
          },
          "yaxis": {
           "automargin": true,
           "gridcolor": "white",
           "linecolor": "white",
           "ticks": "",
           "title": {
            "standoff": 15
           },
           "zerolinecolor": "white",
           "zerolinewidth": 2
          }
         }
        },
        "title": {
         "text": "Распределение RFM-метрик по сегментам"
        },
        "xaxis": {
         "anchor": "y",
         "domain": [
          0,
          0.2888888888888889
         ]
        },
        "xaxis2": {
         "anchor": "y2",
         "domain": [
          0.35555555555555557,
          0.6444444444444445
         ]
        },
        "xaxis3": {
         "anchor": "y3",
         "domain": [
          0.7111111111111111,
          1
         ]
        },
        "yaxis": {
         "anchor": "x",
         "domain": [
          0,
          1
         ]
        },
        "yaxis2": {
         "anchor": "x2",
         "domain": [
          0,
          1
         ]
        },
        "yaxis3": {
         "anchor": "x3",
         "domain": [
          0,
          1
         ]
        }
       }
      }
     },
     "metadata": {},
     "output_type": "display_data"
    }
   ],
   "source": [
    "# Выводим таблицы\n",
    "print(\"Характеристики сегментов:\")\n",
    "display(segment_characteristics.style.set_properties(**{\n",
    "    'text-align': 'left',\n",
    "    'white-space': 'pre-wrap'\n",
    "}))\n",
    "\n",
    "print(\"\\nРекомендации по работе с сегментами:\")\n",
    "display(segment_recommendations.style.set_properties(**{\n",
    "    'text-align': 'left',\n",
    "    'white-space': 'pre-wrap'\n",
    "}))\n",
    "\n",
    "# Добавляем визуализацию распределения метрик по сегментам\n",
    "fig = make_subplots(rows=1, cols=3, \n",
    "                    subplot_titles=('Recency', 'Frequency', 'Monetary'))\n",
    "\n",
    "metrics = ['recency', 'frequency', 'monetary']\n",
    "colors = ['#1f77b4', '#ff7f0e', '#2ca02c']\n",
    "\n",
    "for i, metric in enumerate(metrics, 1):\n",
    "    fig.add_trace(\n",
    "        go.Bar(\n",
    "            x=rfm['segment'].unique(),\n",
    "            y=rfm.groupby('segment')[metric].mean(),\n",
    "            name=metric,\n",
    "            marker_color=colors[i-1]\n",
    "        ),\n",
    "        row=1, col=i\n",
    "    )\n",
    "\n",
    "fig.update_layout(height=400, title_text=\"Распределение RFM-метрик по сегментам\")\n",
    "fig.show()"
   ]
  },
  {
   "cell_type": "markdown",
   "metadata": {},
   "source": [
    "---"
   ]
  },
  {
   "cell_type": "markdown",
   "metadata": {},
   "source": [
    "# Шаг 5. Проверка статистических гипотез"
   ]
  },
  {
   "cell_type": "markdown",
   "metadata": {},
   "source": [
    "1. Сравните доли возвратных и невозвратных клиентов за второй и третий квартал 2019 года при помощи подходящего статистического теста.\n",
    "\n",
    "2. Сравните средние чеки в странах с `country_id`, равному 3, 6 и 24. На основе статистических тестов сделайте вывод о том, отличаются ли средние чеки в этих странах или нет.\n",
    "\n",
    "3. Сформулируйте собственную гипотезу и проверьте её."
   ]
  },
  {
   "cell_type": "markdown",
   "metadata": {},
   "source": [
    "### 5.1. **Сравнение долей возвратных клиентов (Хи-квадрат тест)**"
   ]
  },
  {
   "cell_type": "markdown",
   "metadata": {},
   "source": [
    "**Метод:** Критерий хи-квадрат (chi-square test)\n",
    "\n",
    "**Обоснование выбора:**\n",
    "\n",
    "- Сравниваем категориальные данные (возвратный/невозвратный)\n",
    "\n",
    "- Имеем две независимые группы (Q2 и Q3)\n",
    "\n",
    "- Данные представлены в виде пропорций\n",
    "\n",
    "- Размер выборки достаточно большой\n",
    "\n",
    "- Подходит для сравнения распределений категориальных переменных"
   ]
  },
  {
   "cell_type": "code",
   "execution_count": 96,
   "metadata": {},
   "outputs": [
    {
     "name": "stdout",
     "output_type": "stream",
     "text": [
      "Гипотеза 1: Сравнение долей возвратных клиентов\n",
      "\n",
      "Q2 доля возвратных: 97.31%\n",
      "Q3 доля возвратных: 96.47%\n",
      "p-value: 0.1451\n"
     ]
    }
   ],
   "source": [
    "# Добавляем явный импорт\n",
    "from scipy import stats\n",
    "import numpy as np\n",
    "\n",
    "# Сравнение долей возвратных клиентов Q2 vs Q3\n",
    "print(\"Гипотеза 1: Сравнение долей возвратных клиентов\")\n",
    "\n",
    "# Создаем данные для Q2 и Q3\n",
    "q2_data = df_final[\n",
    "    (df_final['entry_date'] >= '2019-04-01') & \n",
    "    (df_final['entry_date'] <= '2019-06-30')\n",
    "]\n",
    "\n",
    "q3_data = df_final[\n",
    "    (df_final['entry_date'] >= '2019-07-01') & \n",
    "    (df_final['entry_date'] <= '2019-09-30')\n",
    "]\n",
    "\n",
    "# Считаем количество уникальных и возвратных клиентов\n",
    "q2_total = q2_data['customer_id'].nunique()\n",
    "q3_total = q3_data['customer_id'].nunique()\n",
    "\n",
    "q2_returning = q2_data.groupby('customer_id')['order_id'].count()\n",
    "q3_returning = q3_data.groupby('customer_id')['order_id'].count()\n",
    "\n",
    "q2_returning_count = (q2_returning > 1).sum()\n",
    "q3_returning_count = (q3_returning > 1).sum()\n",
    "\n",
    "# Создаем таблицу сопряженности как numpy массив\n",
    "# Явно конвертируем в numpy array\n",
    "contingency = np.array([\n",
    "    [int(q2_returning_count), int(q2_total - q2_returning_count)],\n",
    "    [int(q3_returning_count), int(q3_total - q3_returning_count)]\n",
    "], dtype=np.int64)  # явно указываем тип данных\n",
    "\n",
    "# Проводим хи-квадрат тест\n",
    "chi2, p_value, dof, expected = stats.chi2_contingency(contingency)\n",
    "\n",
    "print(f\"\\nQ2 доля возвратных: {q2_returning_count/q2_total:.2%}\")\n",
    "print(f\"Q3 доля возвратных: {q3_returning_count/q3_total:.2%}\")\n",
    "print(f\"p-value: {p_value:.4f}\")"
   ]
  },
  {
   "cell_type": "markdown",
   "metadata": {},
   "source": [
    "### 5.2. **Сравнение средних чеков между странами (ANOVA + t-тесты)**"
   ]
  },
  {
   "cell_type": "markdown",
   "metadata": {},
   "source": [
    "**Метод:** Однофакторный дисперсионный анализ (ANOVA) и попарные t-тесты\n",
    "\n",
    "**Обоснование выбора:**\n",
    "\n",
    "- Сравниваем числовые данные (средние чеки)\n",
    "\n",
    "- Имеем более двух независимых групп (три страны)\n",
    "\n",
    "- ANOVA позволяет сначала проверить общую гипотезу о различиях\n",
    "\n",
    "- Попарные t-тесты используются для уточнения различий между конкретными странами\n",
    "\n",
    "- Подходит для сравнения средних значений в нескольких группах"
   ]
  },
  {
   "cell_type": "code",
   "execution_count": 97,
   "metadata": {},
   "outputs": [
    {
     "name": "stdout",
     "output_type": "stream",
     "text": [
      "\n",
      "Гипотеза 2: Сравнение средних чеков между странами\n",
      "\n",
      "Средние чеки по странам:\n",
      "Страна 3: 1983.68\n",
      "Страна 6: 2414.58\n",
      "Страна 24: 7765.31\n",
      "ANOVA p-value: 0.0000\n",
      "\n",
      "Попарные сравнения:\n",
      "Страны 3 vs 6: p-value = 0.0000\n",
      "Страны 3 vs 24: p-value = 0.0000\n",
      "Страны 6 vs 24: p-value = 0.0000\n"
     ]
    }
   ],
   "source": [
    "# Сравнение средних чеков между странами\n",
    "print(\"\\nГипотеза 2: Сравнение средних чеков между странами\")\n",
    "\n",
    "# Получаем данные по средним чекам для каждой страны\n",
    "country_orders = {}\n",
    "for country in [3, 6, 24]:\n",
    "    country_orders[country] = df_final[df_final['country_id'] == country]['total_price']\n",
    "\n",
    "# Проводим однофакторный дисперсионный анализ\n",
    "f_stat, p_value_anova = stats.f_oneway(\n",
    "    country_orders[3],\n",
    "    country_orders[6],\n",
    "    country_orders[24]\n",
    ")\n",
    "\n",
    "print(\"\\nСредние чеки по странам:\")\n",
    "for country in [3, 6, 24]:\n",
    "    print(f\"Страна {country}: {country_orders[country].mean():.2f}\")\n",
    "print(f\"ANOVA p-value: {p_value_anova:.4f}\")\n",
    "\n",
    "# Если ANOVA показывает различия, проводим попарные t-тесты\n",
    "if p_value_anova < 0.05:\n",
    "    print(\"\\nПопарные сравнения:\")\n",
    "    countries = [3, 6, 24]\n",
    "    for i in range(len(countries)):\n",
    "        for j in range(i+1, len(countries)):\n",
    "            t_stat, p_value = stats.ttest_ind(\n",
    "                country_orders[countries[i]],\n",
    "                country_orders[countries[j]]\n",
    "            )\n",
    "            print(f\"Страны {countries[i]} vs {countries[j]}: p-value = {p_value:.4f}\")"
   ]
  },
  {
   "cell_type": "markdown",
   "metadata": {},
   "source": [
    "### 5.3. **Сравнение среднего чека VIP-клиентов и остальных сегментов (t-тест)**"
   ]
  },
  {
   "cell_type": "markdown",
   "metadata": {},
   "source": [
    "**Метод:** Независимый t-тест\n",
    "\n",
    "**Обоснование выбора:**\n",
    "\n",
    "- Сравниваем числовые данные (средние чеки)\n",
    "\n",
    "- Имеем две независимые группы (VIP и не-VIP)\n",
    "\n",
    "- Предполагаем нормальное распределение из-за большого размера выборки\n",
    "\n",
    "- Подходит для сравнения средних значений в двух независимых группах"
   ]
  },
  {
   "cell_type": "code",
   "execution_count": 98,
   "metadata": {},
   "outputs": [
    {
     "name": "stdout",
     "output_type": "stream",
     "text": [
      "\n",
      "Гипотеза 3: Сравнение среднего чека VIP-клиентов с другими сегментами\n",
      "\n",
      "Средний чек VIP: 1883.22\n",
      "Средний чек остальных: 2116.86\n",
      "p-value: 0.1146\n"
     ]
    }
   ],
   "source": [
    "# Собственная гипотеза: \n",
    "# Сравним средний чек VIP-клиентов и остальных сегментов\n",
    "print(\"\\nГипотеза 3: Сравнение среднего чека VIP-клиентов с другими сегментами\")\n",
    "\n",
    "vip_orders = df_final[df_final['customer_id'].isin(\n",
    "    rfm[rfm['segment'] == 'VIP']['customer_id']\n",
    ")]['total_price']\n",
    "\n",
    "non_vip_orders = df_final[~df_final['customer_id'].isin(\n",
    "    rfm[rfm['segment'] == 'VIP']['customer_id']\n",
    ")]['total_price']\n",
    "\n",
    "t_stat, p_value = stats.ttest_ind(vip_orders, non_vip_orders)\n",
    "\n",
    "print(f\"\\nСредний чек VIP: {vip_orders.mean():.2f}\")\n",
    "print(f\"Средний чек остальных: {non_vip_orders.mean():.2f}\")\n",
    "print(f\"p-value: {p_value:.4f}\")"
   ]
  },
  {
   "cell_type": "markdown",
   "metadata": {},
   "source": [
    "#### 5.4. **Выводы по статистическому анализу**"
   ]
  },
  {
   "cell_type": "markdown",
   "metadata": {},
   "source": [
    "1. **Сравнение долей возвратных клиентов в Q2 и Q3 2019**\n",
    "\n",
    "    - Q2 доля возвратных: 97.31%\n",
    "\n",
    "    - Q3 доля возвратных: 96.47%\n",
    "\n",
    "    - p-value: 0.1451 (> 0.05)\n",
    "\n",
    "**Вывод**: Статистически значимых различий в долях возвратных клиентов между Q2 и Q3 не обнаружено. \n",
    "Высокий процент возвратных клиентов (более 96%) в обоих кварталах говорит о стабильно высоком \n",
    "уровне лояльности клиентской базы.\n",
    "\n",
    "2. **Сравнение средних чеков между странами (3, 6 и 24)**\n",
    "\n",
    "    - Страна 3: 1,983.68₽\n",
    "\n",
    "    - Страна 6: 2,414.58₽\n",
    "\n",
    "    - Страна 24: 7,765.31₽\n",
    "\n",
    "    - ANOVA p-value: 0.0000 (< 0.05)\n",
    "\n",
    "**Вывод**: Обнаружены статистически значимые различия в средних чеках между всеми странами \n",
    "(все p-value < 0.05). Особенно выделяется страна 24 со средним чеком, превышающим показатели \n",
    "других стран в 3-4 раза. Это может быть связано с особенностями местного рынка, уровнем цен \n",
    "или специфическими предпочтениями покупателей.\n",
    "\n",
    "3. **Сравнение среднего чека VIP-клиентов с остальными сегментами**\n",
    "\n",
    "    - Средний чек VIP: 1,883.22₽\n",
    "\n",
    "    - Средний чек остальных: 2,116.90₽\n",
    "    \n",
    "    - p-value: 0.1145 (> 0.05)\n",
    "\n",
    "**Вывод**: Статистически значимых различий в средних чеках между VIP-клиентами и остальными \n",
    "сегментами не обнаружено. Это говорит о том, что VIP-статус клиентов определяется не размером \n",
    "среднего чека, а другими факторами (например, частотой покупок или общей суммой покупок за период)."
   ]
  },
  {
   "cell_type": "markdown",
   "metadata": {},
   "source": [
    "**Общие выводы по статистическому анализу:**\n",
    "\n",
    "1. Магазин демонстрирует стабильно высокий уровень удержания клиентов (более 96%)\n",
    "\n",
    "2. Выявлены значительные различия в поведении клиентов из разных стран, особенно в стране 24\n",
    "\n",
    "3. VIP-сегмент отличается от других не размером среднего чека, а, вероятно, частотой покупок\n",
    "\n",
    "**Рекомендации:**\n",
    "\n",
    "1. Поддерживать текущие практики работы с клиентами, обеспечивающие высокий уровень возвратных покупок\n",
    "\n",
    "2. Разработать специфические стратегии ценообразования для разных стран с учетом значительных различий в средних чеках\n",
    "\n",
    "3. Пересмотреть критерии выделения VIP-сегмента, возможно, сделав больший акцент на частоте покупок и общей сумме покупок за период"
   ]
  },
  {
   "cell_type": "markdown",
   "metadata": {},
   "source": [
    "---"
   ]
  },
  {
   "cell_type": "markdown",
   "metadata": {},
   "source": [
    "# Шаг 6. Общий вывод по проекту"
   ]
  },
  {
   "cell_type": "markdown",
   "metadata": {},
   "source": [
    "- Опишите полученные результаты и зафиксируйте итоговый вывод проведённого исследования."
   ]
  },
  {
   "cell_type": "markdown",
   "metadata": {},
   "source": [
    "**В результате проведенного анализа выявлены следующие ключевые особенности:**\n",
    "\n",
    "**1. Клиентская база и лояльность**\n",
    "\n",
    "- Общее количество клиентов: 3,554\n",
    "\n",
    "- Доля возвратных клиентов: 59.34% (2,109 клиентов)\n",
    "\n",
    "- Стабильно высокий уровень возврата в Q2-Q3 2019 (более 96%)\n",
    "\n",
    "- Стики-фактор показывает рост с 55.04% до 57.63%\n",
    "\n",
    "**2. RFM-сегментация показала:**\n",
    "\n",
    "- VIP-клиенты (6.19%): высокая частота покупок, но средний чек не отличается от других сегментов\n",
    "\n",
    "- Активные и лояльные клиенты (34.02%): основной драйвер продаж\n",
    "\n",
    "- Требуют внимания (20.23%): потенциал для реактивации\n",
    "\n",
    "**3. Важные находки:**\n",
    "\n",
    "- Значительные различия в средних чеках между странами (от 1,983₽ до 7,765₽)\n",
    "\n",
    "- Пик активности приходится на рабочие часы\n",
    "\n",
    "- Страна 24 показывает исключительные результаты (средний чек 7,765₽)\n",
    "\n",
    "**4. Рекомендации:**\n",
    "\n",
    "1. Разработать программу лояльности с учетом RFM-сегментации\n",
    "\n",
    "2. Адаптировать стратегии под специфику разных стран\n",
    "\n",
    "3. Внедрить механики реактивации клиентов из сегмента \"Требуют внимания\"\n",
    "\n",
    "4. Масштабировать успешные практики страны 24 на другие регионы"
   ]
  }
 ],
 "metadata": {
  "ExecuteTimeLog": [
   {
    "duration": 1454,
    "start_time": "2025-01-11T08:06:25.851Z"
   },
   {
    "duration": 989,
    "start_time": "2025-01-11T08:06:27.307Z"
   },
   {
    "duration": 24,
    "start_time": "2025-01-11T08:06:28.299Z"
   },
   {
    "duration": 6,
    "start_time": "2025-01-11T08:06:28.325Z"
   },
   {
    "duration": 10,
    "start_time": "2025-01-11T08:06:28.333Z"
   },
   {
    "duration": 28,
    "start_time": "2025-01-11T08:06:28.344Z"
   },
   {
    "duration": 103,
    "start_time": "2025-01-11T08:06:28.374Z"
   },
   {
    "duration": 8,
    "start_time": "2025-01-11T08:06:28.479Z"
   },
   {
    "duration": 10,
    "start_time": "2025-01-11T08:06:28.489Z"
   },
   {
    "duration": 27,
    "start_time": "2025-01-11T08:06:28.501Z"
   },
   {
    "duration": 24,
    "start_time": "2025-01-11T08:06:28.530Z"
   },
   {
    "duration": 181,
    "start_time": "2025-01-11T08:06:28.555Z"
   },
   {
    "duration": 134,
    "start_time": "2025-01-11T08:06:28.737Z"
   },
   {
    "duration": 7,
    "start_time": "2025-01-11T08:06:28.872Z"
   },
   {
    "duration": 24,
    "start_time": "2025-01-11T08:06:28.880Z"
   },
   {
    "duration": 25,
    "start_time": "2025-01-11T08:06:28.906Z"
   },
   {
    "duration": 67,
    "start_time": "2025-01-11T08:06:28.932Z"
   },
   {
    "duration": 25,
    "start_time": "2025-01-11T08:06:29.001Z"
   },
   {
    "duration": 130,
    "start_time": "2025-01-11T08:06:29.027Z"
   },
   {
    "duration": 8,
    "start_time": "2025-01-11T08:06:29.159Z"
   },
   {
    "duration": 17,
    "start_time": "2025-01-11T08:06:29.169Z"
   },
   {
    "duration": 92,
    "start_time": "2025-01-11T08:06:29.187Z"
   },
   {
    "duration": 92,
    "start_time": "2025-01-11T08:06:29.281Z"
   },
   {
    "duration": 79,
    "start_time": "2025-01-11T08:06:29.375Z"
   },
   {
    "duration": 14,
    "start_time": "2025-01-11T08:06:29.456Z"
   },
   {
    "duration": 48,
    "start_time": "2025-01-11T08:06:29.471Z"
   },
   {
    "duration": 85,
    "start_time": "2025-01-11T08:06:29.521Z"
   },
   {
    "duration": 54,
    "start_time": "2025-01-11T08:06:29.610Z"
   },
   {
    "duration": 484,
    "start_time": "2025-01-11T08:06:29.666Z"
   },
   {
    "duration": 4,
    "start_time": "2025-01-11T08:06:30.152Z"
   },
   {
    "duration": 174,
    "start_time": "2025-01-11T08:06:30.157Z"
   },
   {
    "duration": 53,
    "start_time": "2025-01-11T08:06:30.333Z"
   },
   {
    "duration": 54,
    "start_time": "2025-01-11T08:06:30.388Z"
   },
   {
    "duration": 72,
    "start_time": "2025-01-11T08:06:30.444Z"
   },
   {
    "duration": 66,
    "start_time": "2025-01-11T08:06:30.518Z"
   },
   {
    "duration": 54,
    "start_time": "2025-01-11T08:06:30.586Z"
   },
   {
    "duration": 185,
    "start_time": "2025-01-11T08:06:30.641Z"
   },
   {
    "duration": 16,
    "start_time": "2025-01-11T08:06:30.828Z"
   },
   {
    "duration": 18,
    "start_time": "2025-01-11T08:06:30.846Z"
   },
   {
    "duration": 60,
    "start_time": "2025-01-11T08:06:30.866Z"
   },
   {
    "duration": 152,
    "start_time": "2025-01-11T08:06:30.928Z"
   },
   {
    "duration": 21,
    "start_time": "2025-01-11T08:06:31.081Z"
   },
   {
    "duration": 87,
    "start_time": "2025-01-11T08:06:31.104Z"
   },
   {
    "duration": 31,
    "start_time": "2025-01-11T08:06:31.192Z"
   },
   {
    "duration": 116,
    "start_time": "2025-01-11T08:06:31.224Z"
   },
   {
    "duration": 40,
    "start_time": "2025-01-11T08:06:31.341Z"
   },
   {
    "duration": 61,
    "start_time": "2025-01-11T08:06:31.382Z"
   },
   {
    "duration": 72,
    "start_time": "2025-01-11T08:06:31.445Z"
   },
   {
    "duration": 868,
    "start_time": "2025-01-11T08:06:31.519Z"
   },
   {
    "duration": 59,
    "start_time": "2025-01-11T08:06:32.390Z"
   },
   {
    "duration": 435,
    "start_time": "2025-01-11T08:06:32.451Z"
   },
   {
    "duration": 4,
    "start_time": "2025-01-11T08:06:32.888Z"
   },
   {
    "duration": 1530,
    "start_time": "2025-01-11T08:06:32.894Z"
   },
   {
    "duration": 440,
    "start_time": "2025-01-11T08:06:34.425Z"
   },
   {
    "duration": 5,
    "start_time": "2025-01-11T08:06:34.867Z"
   },
   {
    "duration": 61,
    "start_time": "2025-01-11T08:06:34.874Z"
   },
   {
    "duration": 16,
    "start_time": "2025-01-11T08:06:34.937Z"
   },
   {
    "duration": 106,
    "start_time": "2025-01-11T08:06:34.954Z"
   },
   {
    "duration": 48,
    "start_time": "2025-01-11T08:06:35.062Z"
   },
   {
    "duration": 218,
    "start_time": "2025-01-11T08:06:35.112Z"
   },
   {
    "duration": 528,
    "start_time": "2025-01-11T08:06:35.332Z"
   },
   {
    "duration": 63,
    "start_time": "2025-01-11T08:06:35.862Z"
   },
   {
    "duration": 28,
    "start_time": "2025-01-11T08:06:35.927Z"
   },
   {
    "duration": 114,
    "start_time": "2025-01-11T08:06:35.957Z"
   },
   {
    "duration": 132,
    "start_time": "2025-01-11T08:06:36.073Z"
   },
   {
    "duration": 84,
    "start_time": "2025-01-11T08:06:36.206Z"
   },
   {
    "duration": 16,
    "start_time": "2025-01-11T08:06:36.292Z"
   },
   {
    "duration": 78,
    "start_time": "2025-01-11T08:06:36.310Z"
   },
   {
    "duration": 71,
    "start_time": "2025-01-11T08:06:36.389Z"
   },
   {
    "duration": 124,
    "start_time": "2025-01-11T08:06:36.461Z"
   },
   {
    "duration": 125,
    "start_time": "2025-01-11T08:06:36.587Z"
   },
   {
    "duration": 31,
    "start_time": "2025-01-11T08:06:36.714Z"
   },
   {
    "duration": 153,
    "start_time": "2025-01-11T08:06:36.747Z"
   },
   {
    "duration": 43,
    "start_time": "2025-01-11T08:06:36.902Z"
   },
   {
    "duration": 155,
    "start_time": "2025-01-11T08:06:36.947Z"
   },
   {
    "duration": 199,
    "start_time": "2025-01-11T08:06:37.104Z"
   },
   {
    "duration": 3,
    "start_time": "2025-01-11T08:06:37.304Z"
   },
   {
    "duration": 62,
    "start_time": "2025-01-11T08:06:37.321Z"
   },
   {
    "duration": 16,
    "start_time": "2025-01-11T08:06:37.385Z"
   },
   {
    "duration": 35,
    "start_time": "2025-01-11T08:06:37.403Z"
   },
   {
    "duration": 331,
    "start_time": "2025-01-11T08:06:37.439Z"
   },
   {
    "duration": 12,
    "start_time": "2025-01-11T08:06:37.776Z"
   },
   {
    "duration": 37,
    "start_time": "2025-01-11T08:06:37.790Z"
   },
   {
    "duration": 58,
    "start_time": "2025-01-11T08:06:37.829Z"
   },
   {
    "duration": 35,
    "start_time": "2025-01-11T08:06:37.889Z"
   },
   {
    "duration": 386,
    "start_time": "2025-01-11T08:06:37.926Z"
   },
   {
    "duration": 16,
    "start_time": "2025-01-11T08:06:38.314Z"
   },
   {
    "duration": 29,
    "start_time": "2025-01-11T08:06:38.331Z"
   },
   {
    "duration": 68,
    "start_time": "2025-01-11T08:06:38.361Z"
   },
   {
    "duration": 19,
    "start_time": "2025-01-11T08:06:38.430Z"
   },
   {
    "duration": 30,
    "start_time": "2025-01-11T08:06:38.451Z"
   },
   {
    "duration": 7,
    "start_time": "2025-01-11T08:06:38.483Z"
   },
   {
    "duration": 81,
    "start_time": "2025-01-11T08:06:38.491Z"
   },
   {
    "duration": 49,
    "start_time": "2025-01-11T08:06:38.573Z"
   },
   {
    "duration": 16,
    "start_time": "2025-01-11T08:06:38.623Z"
   },
   {
    "duration": 39,
    "start_time": "2025-01-11T08:06:38.641Z"
   }
  ],
  "kernelspec": {
   "display_name": "Python 3 (ipykernel)",
   "language": "python",
   "name": "python3"
  },
  "language_info": {
   "codemirror_mode": {
    "name": "ipython",
    "version": 3
   },
   "file_extension": ".py",
   "mimetype": "text/x-python",
   "name": "python",
   "nbconvert_exporter": "python",
   "pygments_lexer": "ipython3",
   "version": "3.12.7"
  },
  "toc": {
   "base_numbering": 1,
   "nav_menu": {},
   "number_sections": true,
   "sideBar": true,
   "skip_h1_title": true,
   "title_cell": "Table of Contents",
   "title_sidebar": "Contents",
   "toc_cell": false,
   "toc_position": {
    "height": "calc(100% - 180px)",
    "left": "10px",
    "top": "150px",
    "width": "523.25px"
   },
   "toc_section_display": true,
   "toc_window_display": true
  }
 },
 "nbformat": 4,
 "nbformat_minor": 2
}
